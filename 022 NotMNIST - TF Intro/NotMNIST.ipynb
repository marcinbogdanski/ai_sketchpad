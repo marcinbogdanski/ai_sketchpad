{
 "cells": [
  {
   "cell_type": "markdown",
   "metadata": {},
   "source": [
    "<img src=\"notmnist.png\">"
   ]
  },
  {
   "cell_type": "code",
   "execution_count": 1,
   "metadata": {},
   "outputs": [
    {
     "name": "stderr",
     "output_type": "stream",
     "text": [
      "/home/user/anaconda3/envs/tf/lib/python3.6/site-packages/h5py/__init__.py:36: FutureWarning: Conversion of the second argument of issubdtype from `float` to `np.floating` is deprecated. In future, it will be treated as `np.float64 == np.dtype(float).type`.\n",
      "  from ._conv import register_converters as _register_converters\n"
     ]
    }
   ],
   "source": [
    "import os\n",
    "import urllib.request\n",
    "import hashlib\n",
    "import zipfile\n",
    "import PIL.Image\n",
    "import numpy as np\n",
    "import matplotlib.pyplot as plt\n",
    "import tensorflow as tf\n",
    "import pickle\n",
    "import pdb"
   ]
  },
  {
   "cell_type": "markdown",
   "metadata": {},
   "source": [
    "# Read Data"
   ]
  },
  {
   "cell_type": "markdown",
   "metadata": {},
   "source": [
    "### Download"
   ]
  },
  {
   "cell_type": "code",
   "execution_count": 11,
   "metadata": {},
   "outputs": [
    {
     "name": "stdout",
     "output_type": "stream",
     "text": [
      "Downloading notMNIST_test.zip ...\n"
     ]
    }
   ],
   "source": [
    "def download(url, file, md5sum):\n",
    "    if not os.path.isfile(file):\n",
    "        print('Downloading', file, '...')\n",
    "        urllib.request.urlretrieve(url, file)\n",
    "        assert hashlib.md5(open(file, 'rb').read()).hexdigest() == md5sum\n",
    "    \n",
    "download('https://s3.amazonaws.com/udacity-sdc/notMNIST_train.zip',\n",
    "        'notMNIST_train.zip', 'c8673b3f28f489e9cdf3a3d74e2ac8fa')\n",
    "download('https://s3.amazonaws.com/udacity-sdc/notMNIST_test.zip',\n",
    "        'notMNIST_test.zip', '5d3c7e653e63471c88df796156a9dfa9')\n"
   ]
  },
  {
   "cell_type": "code",
   "execution_count": 72,
   "metadata": {},
   "outputs": [],
   "source": [
    "def uncompress(file):\n",
    "    x_vec, y_vec = [], []    \n",
    "    with zipfile.ZipFile(file) as zipf:\n",
    "        filenames = zipf.namelist()\n",
    "        for file in filenames:\n",
    "            if not file.endswith('/'):\n",
    "                with zipf.open(file) as img:\n",
    "                    image = PIL.Image.open(img)\n",
    "                    image.load()\n",
    "                    x_vec.append( np.array(image, dtype=np.float32) )\n",
    "                    y_vec.append( os.path.split(file)[1][0] )\n",
    "    return np.array(x_vec), np.array(y_vec)\n",
    "\n",
    "# [np.ndarray(28x28)] [str]\n",
    "train_x_raw, train_y_raw = uncompress('notMNIST_train.zip')\n",
    "test_x_raw, test_y_raw = uncompress('notMNIST_test.zip')\n",
    "N_train = len(train_x_raw)\n",
    "N_test = len(test_x_raw)"
   ]
  },
  {
   "cell_type": "markdown",
   "metadata": {},
   "source": [
    "### Pre-process"
   ]
  },
  {
   "cell_type": "markdown",
   "metadata": {},
   "source": [
    "Scale"
   ]
  },
  {
   "cell_type": "code",
   "execution_count": 194,
   "metadata": {},
   "outputs": [],
   "source": [
    "def normalize(data):\n",
    "    imin, imax = 0, 255\n",
    "    omin, omax = 0.1, 0.9\n",
    "    data_01 = data / imax\n",
    "    return data_01*(omax-omin) + omin\n",
    "\n",
    "train_x = normalize(train_x_raw).reshape([N_train, 28*28])\n",
    "test_x = normalize(test_x_raw).reshape([N_test, 28*28])"
   ]
  },
  {
   "cell_type": "markdown",
   "metadata": {},
   "source": [
    "One-hot"
   ]
  },
  {
   "cell_type": "code",
   "execution_count": 195,
   "metadata": {},
   "outputs": [],
   "source": [
    "def onehot(data):\n",
    "    N = len(data)\n",
    "    data_0123 = data.view(np.int32) - ord('A')    # [1, 2, ...]\n",
    "    onehot = np.zeros([N, 10])        # [[0, 0, 0], [0, 0, 0], ...]\n",
    "    onehot[range(N), data_0123] = 1     # [[0, 1, 0], [0, 0, 1], ...]\n",
    "    return onehot\n",
    "train_y = onehot(train_y_raw)\n",
    "test_y = onehot(test_y_raw)"
   ]
  },
  {
   "cell_type": "markdown",
   "metadata": {},
   "source": [
    "### Split"
   ]
  },
  {
   "cell_type": "code",
   "execution_count": 196,
   "metadata": {},
   "outputs": [],
   "source": [
    "np.random.seed(0)\n",
    "\n",
    "indices = np.array(range(N_train))\n",
    "np.random.shuffle(indices)\n",
    "train_i, valid_i = np.split(indices, [int(0.95*N_train)])\n",
    "\n",
    "valid_x = train_x[valid_i]\n",
    "valid_y = train_y[valid_i]\n",
    "\n",
    "train_x = train_x[train_i]\n",
    "train_y = train_y[train_i]"
   ]
  },
  {
   "cell_type": "code",
   "execution_count": 197,
   "metadata": {},
   "outputs": [
    {
     "data": {
      "text/plain": [
       "199500"
      ]
     },
     "execution_count": 197,
     "metadata": {},
     "output_type": "execute_result"
    }
   ],
   "source": [
    "len(train_x)"
   ]
  },
  {
   "cell_type": "markdown",
   "metadata": {},
   "source": [
    "### Checkpoint - Save"
   ]
  },
  {
   "cell_type": "code",
   "execution_count": 206,
   "metadata": {},
   "outputs": [],
   "source": [
    "with open('notMNIST.pickle', 'wb') as pfile:\n",
    "    pickle_dict = {'train_x': train_x, 'train_y': train_y,\n",
    "                   'valid_x': valid_x, 'valid_y': valid_y,\n",
    "                   'test_x': test_x, 'test_y': test_y }\n",
    "    pickle.dump(pickle_dict, pfile)"
   ]
  },
  {
   "cell_type": "markdown",
   "metadata": {},
   "source": [
    "### Checkpoint - Load"
   ]
  },
  {
   "cell_type": "code",
   "execution_count": 2,
   "metadata": {},
   "outputs": [],
   "source": [
    "with open('notMNIST.pickle', 'rb') as pfile:\n",
    "    pickle_dict = pickle.load(pfile)\n",
    "    train_x = pickle_dict['train_x']\n",
    "    train_y = pickle_dict['train_y']\n",
    "    valid_x = pickle_dict['valid_x']\n",
    "    valid_y = pickle_dict['valid_y']\n",
    "    test_x = pickle_dict['test_x']\n",
    "    test_y = pickle_dict['test_y']\n",
    "    del pickle_dict  # free up memory"
   ]
  },
  {
   "cell_type": "markdown",
   "metadata": {},
   "source": [
    "# Explore Data"
   ]
  },
  {
   "cell_type": "code",
   "execution_count": 4,
   "metadata": {},
   "outputs": [
    {
     "data": {
      "text/plain": [
       "199500"
      ]
     },
     "execution_count": 4,
     "metadata": {},
     "output_type": "execute_result"
    }
   ],
   "source": [
    "len(train_x)"
   ]
  },
  {
   "cell_type": "code",
   "execution_count": 5,
   "metadata": {},
   "outputs": [
    {
     "name": "stdout",
     "output_type": "stream",
     "text": [
      "[0. 0. 0. 0. 0. 0. 0. 1. 0. 0.]\n"
     ]
    },
    {
     "data": {
      "image/png": "[encoded data removed]",
      "text/plain": [
       "<Figure size 432x288 with 2 Axes>"
      ]
     },
     "metadata": {},
     "output_type": "display_data"
    }
   ],
   "source": [
    "idx = 70004\n",
    "plt.imshow(train_x[idx].reshape([28, 28]))\n",
    "plt.colorbar()\n",
    "print(train_y[idx])"
   ]
  },
  {
   "cell_type": "markdown",
   "metadata": {},
   "source": [
    "# Model"
   ]
  },
  {
   "cell_type": "markdown",
   "metadata": {},
   "source": [
    "Create Model"
   ]
  },
  {
   "cell_type": "code",
   "execution_count": 8,
   "metadata": {},
   "outputs": [],
   "source": [
    "N_in = 28*28\n",
    "N_out = 10\n",
    "\n",
    "tf.reset_default_graph()\n",
    "\n",
    "xi = tf.placeholder(dtype=tf.float32, shape=[None, N_in])\n",
    "yi = tf.placeholder(dtype=tf.float32, shape=[None, N_out])\n",
    "\n",
    "W = tf.get_variable('W', shape=[N_in, N_out], dtype=tf.float32,\n",
    "                    initializer=tf.truncated_normal_initializer(mean=0.0, stddev=N_in**-0.5))\n",
    "biases = tf.get_variable('bias', shape=[1, N_out], dtype=tf.float32,\n",
    "                      initializer=tf.zeros_initializer())\n",
    "\n",
    "logits = tf.matmul(xi, W) + biases\n",
    "\n",
    "probabilities = tf.nn.softmax(logits)\n",
    "loss = tf.losses.softmax_cross_entropy(yi, logits)\n",
    "\n",
    "# this is math-correct but computotianlly unstable !!\n",
    "# results in loss being NaN sometimes/often\n",
    "# cross_entropy = -tf.reduce_sum(yi * tf.log(probabilities), reduction_indices=1)\n",
    "# loss = tf.reduce_mean(cross_entropy)\n",
    "\n",
    "is_correct = tf.equal(tf.argmax(probabilities, 1), tf.argmax(yi, 1))\n",
    "accuracy = tf.reduce_mean(tf.cast(is_correct, tf.float32))"
   ]
  },
  {
   "cell_type": "markdown",
   "metadata": {},
   "source": [
    "Quick test with untrained NN"
   ]
  },
  {
   "cell_type": "code",
   "execution_count": 9,
   "metadata": {},
   "outputs": [
    {
     "name": "stdout",
     "output_type": "stream",
     "text": [
      "train_loss 2.4855125\n",
      "train_acc 0.079799496\n",
      "valid_acc 0.076\n"
     ]
    }
   ],
   "source": [
    "with tf.Session() as sess:\n",
    "    sess.run(tf.global_variables_initializer())\n",
    "    train_loss, train_acc = sess.run([loss, accuracy], feed_dict={xi:train_x, yi: train_y})\n",
    "    valid_acc = sess.run(accuracy, feed_dict={xi:valid_x, yi: valid_y})\n",
    "\n",
    "print('train_loss', train_loss)\n",
    "print('train_acc', train_acc)\n",
    "print('valid_acc', valid_acc)"
   ]
  },
  {
   "cell_type": "markdown",
   "metadata": {},
   "source": [
    "Main train loop!"
   ]
  },
  {
   "cell_type": "code",
   "execution_count": 35,
   "metadata": {
    "scrolled": true
   },
   "outputs": [
    {
     "name": "stdout",
     "output_type": "stream",
     "text": [
      "batch_nb, train_acc, valid_acc 0 0.104531325 0.09857143\n",
      "batch_nb, train_acc, valid_acc 250 0.7753935 0.7672381\n",
      "batch_nb, train_acc, valid_acc 500 0.7914887 0.7835238\n",
      "batch_nb, train_acc, valid_acc 750 0.79697245 0.7925714\n",
      "batch_nb, train_acc, valid_acc 1000 0.80230075 0.7970476\n",
      "batch_nb, train_acc, valid_acc 1250 0.80629575 0.8017143\n",
      "batch_nb, train_acc, valid_acc 1500 0.8098496 0.8066667\n",
      "Test accuracy: 0.8782\n"
     ]
    }
   ],
   "source": [
    "batch_size = 128\n",
    "nb_epochs = 1\n",
    "lr = 0.01\n",
    "N_train = len(train_x)\n",
    "\n",
    "log_batch_nb = []\n",
    "log_loss = []\n",
    "log_train_acc = []\n",
    "log_valid_acc = []\n",
    "\n",
    "optimizer = tf.train.GradientDescentOptimizer(lr).minimize(loss)\n",
    "\n",
    "with tf.Session() as sess:\n",
    "    sess.run(tf.global_variables_initializer())\n",
    "        \n",
    "    batch_nb = 0\n",
    "    for e in range(nb_epochs):\n",
    "        for i in range(0, N_train, batch_size):\n",
    "            xb = train_x[i:i+batch_size]\n",
    "            yb = train_y[i:i+batch_size]\n",
    "            \n",
    "            _, ll = sess.run([optimizer, loss], feed_dict={xi: xb, yi: yb})\n",
    "            \n",
    "            if batch_nb % 250 == 0:                \n",
    "                train_acc = sess.run(accuracy, feed_dict={xi:train_x, yi: train_y})\n",
    "                valid_acc = sess.run(accuracy, feed_dict={xi:valid_x, yi: valid_y})\n",
    "                \n",
    "                log_batch_nb.append(batch_nb)\n",
    "                log_loss.append(ll)\n",
    "                log_train_acc.append(train_acc)\n",
    "                log_valid_acc.append(valid_acc)\n",
    "                \n",
    "                print('batch_nb, train_acc, valid_acc', batch_nb, train_acc, valid_acc)\n",
    "                \n",
    "            batch_nb += 1\n",
    "            \n",
    "    test_acc = sess.run(accuracy, feed_dict={xi:test_x, yi: test_y})\n",
    "    print('Test accuracy:', test_acc)\n",
    "    \n"
   ]
  },
  {
   "cell_type": "markdown",
   "metadata": {},
   "source": [
    "Plot plot"
   ]
  },
  {
   "cell_type": "code",
   "execution_count": 36,
   "metadata": {
    "scrolled": false
   },
   "outputs": [
    {
     "data": {
      "image/png": "[encoded data removed]",
      "text/plain": [
       "<Figure size 1152x648 with 2 Axes>"
      ]
     },
     "metadata": {},
     "output_type": "display_data"
    }
   ],
   "source": [
    "fig = plt.figure(figsize=[16,9])\n",
    "ax_loss = fig.add_subplot(211)\n",
    "ax_loss.set_title('Loss')\n",
    "ax_loss.plot(log_batch_nb, log_loss, 'g')\n",
    "ax_loss.set_xlim([log_batch_nb[0], log_batch_nb[-1]])\n",
    "ax_acc = plt.subplot(212)\n",
    "ax_acc.set_title('Accuracy')\n",
    "ax_acc.plot(log_batch_nb, log_train_acc, color='blue', label='Training Accuracy')\n",
    "ax_acc.plot(log_batch_nb, log_valid_acc, color='green', label='Validation Accuracy')\n",
    "ax_acc.set_ylim([0, 1.0])\n",
    "ax_acc.set_xlim([log_batch_nb[0], log_batch_nb[-1]])\n",
    "ax_acc.legend(loc=4)\n",
    "plt.tight_layout()\n",
    "plt.show()"
   ]
  },
  {
   "cell_type": "code",
   "execution_count": null,
   "metadata": {},
   "outputs": [],
   "source": []
  }
 ],
 "metadata": {
  "kernelspec": {
   "display_name": "Python 3",
   "language": "python",
   "name": "python3"
  },
  "language_info": {
   "codemirror_mode": {
    "name": "ipython",
    "version": 3
   },
   "file_extension": ".py",
   "mimetype": "text/x-python",
   "name": "python",
   "nbconvert_exporter": "python",
   "pygments_lexer": "ipython3",
   "version": "3.6.5"
  }
 },
 "nbformat": 4,
 "nbformat_minor": 2
}
