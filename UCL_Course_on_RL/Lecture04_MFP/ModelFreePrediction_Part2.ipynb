{
 "cells": [
  {
   "cell_type": "markdown",
   "metadata": {},
   "source": [
    "<br/>\n",
    "\n",
    "<!-- <p style=\"text-align:center;font-weight:bold;font-size:400%\">Model-Free Prediction - Part 2</p> -->\n",
    "<img src=\"assets/title_part2.png\"/>\n",
    "\n",
    "# Introduction\n",
    "\n",
    "Part II of algorithms presented in Lecture 4 of UCL RL course by David Silver. Part I is [here](ModelFreePrediction_Part1.ipynb).\n",
    "\n",
    "Notes:\n",
    "* As in Part I, we are doing fixed-policy evaluation, no policy improvement\n",
    "* Note that only Backward View TD(λ) is applicable in real world. N-Step and Forward TD(λ) are extreemly slow.\n",
    "\n",
    "\n",
    "Algorithms:\n",
    "* N-Step Return\n",
    "* TD(λ) - Forward View\n",
    "* TD(λ) - Backward View (eligibility traces)\n",
    "\n",
    "Sources:\n",
    "* UCL Course on RL: http://www0.cs.ucl.ac.uk/staff/d.silver/web/Teaching.html\n",
    "  * Lecture 4 pdf: http://www0.cs.ucl.ac.uk/staff/d.silver/web/Teaching_files/MC-TD.pdf\n",
    "  * Lecture 4 vid: https://www.youtube.com/watch?v=PnHCvfgC_ZA\n",
    "\n",
    "Imports:"
   ]
  },
  {
   "cell_type": "code",
   "execution_count": null,
   "metadata": {},
   "outputs": [],
   "source": [
    "import numpy as np\n",
    "import matplotlib.pyplot as plt"
   ]
  },
  {
   "cell_type": "markdown",
   "metadata": {},
   "source": [
    "# Introduction\n",
    "\n",
    "In part I we explored some basic MC and TD algorithms. Both MC and TD are just special cases of broader class of algorithms, which we will implement in this notebook.\n",
    "\n",
    "Blackjack environment is all good, but most trajectories will be max 2-3 steps long. To better demonstrate N-Step and TD(λ) we will need environment that is still simple, but allows for longer trajectories. As per lectures we will use a 1d-corridor."
   ]
  },
  {
   "cell_type": "markdown",
   "metadata": {},
   "source": [
    "# 1D-Corridor\n",
    "\n",
    "<img src=\"assets/corridor.png\"/>"
   ]
  },
  {
   "cell_type": "code",
   "execution_count": null,
   "metadata": {},
   "outputs": [],
   "source": []
  }
 ],
 "metadata": {
  "kernelspec": {
   "display_name": "Python 3",
   "language": "python",
   "name": "python3"
  },
  "language_info": {
   "codemirror_mode": {
    "name": "ipython",
    "version": 3
   },
   "file_extension": ".py",
   "mimetype": "text/x-python",
   "name": "python",
   "nbconvert_exporter": "python",
   "pygments_lexer": "ipython3",
   "version": "3.6.5"
  }
 },
 "nbformat": 4,
 "nbformat_minor": 2
}
