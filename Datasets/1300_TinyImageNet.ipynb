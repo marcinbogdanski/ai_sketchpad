{
 "cells": [
  {
   "cell_type": "markdown",
   "metadata": {},
   "source": [
    "# Introduction"
   ]
  },
  {
   "cell_type": "code",
   "execution_count": 1,
   "metadata": {},
   "outputs": [],
   "source": [
    "import os\n",
    "import pathlib\n",
    "import numpy as np\n",
    "import matplotlib.pyplot as plt\n",
    "import matplotlib.image"
   ]
  },
  {
   "cell_type": "markdown",
   "metadata": {},
   "source": [
    "# Tiny ImageNet Dataset"
   ]
  },
  {
   "cell_type": "markdown",
   "metadata": {},
   "source": [
    "Dataset website: [Tiny ImageNet Visual Recognition Challenge](https://tiny-imagenet.herokuapp.com/)"
   ]
  },
  {
   "cell_type": "markdown",
   "metadata": {},
   "source": [
    "**Download and Extract**"
   ]
  },
  {
   "cell_type": "code",
   "execution_count": 2,
   "metadata": {},
   "outputs": [],
   "source": [
    "def download(url, path, md5sum):\n",
    "    import os\n",
    "    import urllib\n",
    "    import hashlib\n",
    "\n",
    "    folder, file = os.path.split(path)\n",
    "    if folder != '':\n",
    "        os.makedirs(folder, exist_ok=True)\n",
    "    if not os.path.isfile(path):\n",
    "        print('Downloading', path, '...')\n",
    "        urllib.request.urlretrieve(url, path)\n",
    "        assert hashlib.md5(open(path, 'rb').read()).hexdigest() == md5sum\n",
    "    else:\n",
    "        assert hashlib.md5(open(path, 'rb').read()).hexdigest() == md5sum\n",
    "        print('Already Exists:', file)"
   ]
  },
  {
   "cell_type": "code",
   "execution_count": 3,
   "metadata": {},
   "outputs": [
    {
     "name": "stdout",
     "output_type": "stream",
     "text": [
      "Already Exists: tiny-imagenet-200.zip\n"
     ]
    }
   ],
   "source": [
    "download('http://cs231n.stanford.edu/tiny-imagenet-200.zip',\n",
    "        path='./tiny-imagenet/tiny-imagenet-200.zip', md5sum='90528d7ca1a48142e341f4ef8d21d0de')"
   ]
  },
  {
   "cell_type": "code",
   "execution_count": 5,
   "metadata": {},
   "outputs": [],
   "source": [
    "def extract(filepath):\n",
    "    import zipfile\n",
    "    import os\n",
    "\n",
    "    path, file = os.path.split(filepath)\n",
    "\n",
    "    extract_path, _ = os.path.splitext(filepath)\n",
    "    already_extracted = os.path.isdir(extract_path)\n",
    "    if not already_extracted:\n",
    "        with zipfile.ZipFile(filepath, 'r') as zf:\n",
    "            print('Extracting', file, '...')\n",
    "            zf.extractall(path)\n",
    "    else:\n",
    "        print('Already Extracted:', file)\n",
    "        \n",
    "    assert os.path.isdir(extract_path)"
   ]
  },
  {
   "cell_type": "code",
   "execution_count": 6,
   "metadata": {},
   "outputs": [
    {
     "name": "stdout",
     "output_type": "stream",
     "text": [
      "Already Extracted: tiny-imagenet-200.zip\n"
     ]
    }
   ],
   "source": [
    "extract('./tiny-imagenet/tiny-imagenet-200.zip')"
   ]
  },
  {
   "cell_type": "markdown",
   "metadata": {},
   "source": [
    "**Load Train Data**"
   ]
  },
  {
   "cell_type": "code",
   "execution_count": 6,
   "metadata": {},
   "outputs": [
    {
     "data": {
      "text/plain": [
       "'../Datasets/tiny-imagenet/tiny-imagenet-200'"
      ]
     },
     "execution_count": 6,
     "metadata": {},
     "output_type": "execute_result"
    }
   ],
   "source": [
    "datafolder = './tiny-imagenet/tiny-imagenet-200'\n",
    "datafolder"
   ]
  },
  {
   "cell_type": "code",
   "execution_count": 7,
   "metadata": {},
   "outputs": [
    {
     "data": {
      "text/plain": [
       "'../Datasets/tiny-imagenet/tiny-imagenet-200/train'"
      ]
     },
     "execution_count": 7,
     "metadata": {},
     "output_type": "execute_result"
    }
   ],
   "source": [
    "trainfolder = os.path.join(datafolder, 'train')\n",
    "trainfolder"
   ]
  },
  {
   "cell_type": "code",
   "execution_count": 8,
   "metadata": {},
   "outputs": [],
   "source": [
    "x_train = []\n",
    "y_train_raw = []\n",
    "for img_path in sorted(pathlib.Path(trainfolder).rglob('*.JPEG')):\n",
    "    img = matplotlib.image.imread(img_path)\n",
    "    if len(img.shape) == 2:\n",
    "        img = np.stack([img, img, img], axis=-1)\n",
    "    x_train.append(img)\n",
    "    y_train_raw.append(img_path.name.split('_')[0])\n",
    "x_train = np.array(x_train)\n",
    "y_train_raw = np.array(y_train_raw)"
   ]
  },
  {
   "cell_type": "code",
   "execution_count": 9,
   "metadata": {},
   "outputs": [],
   "source": [
    "assert x_train.shape == (100000, 64, 64, 3)\n",
    "assert x_train.min() == 0\n",
    "assert x_train.max() == 255\n",
    "assert len(set(y_train_raw)) == 200"
   ]
  },
  {
   "cell_type": "markdown",
   "metadata": {},
   "source": [
    "Show example"
   ]
  },
  {
   "cell_type": "code",
   "execution_count": 10,
   "metadata": {},
   "outputs": [
    {
     "data": {
      "image/png": "[encoded data removed]",
      "text/plain": [
       "<Figure size 432x288 with 1 Axes>"
      ]
     },
     "metadata": {},
     "output_type": "display_data"
    }
   ],
   "source": [
    "idx = 13237\n",
    "plt.imshow(x_train[idx])\n",
    "plt.title('Label: '+y_train_raw[idx]);"
   ]
  },
  {
   "cell_type": "markdown",
   "metadata": {},
   "source": [
    "**Load Validation Set**"
   ]
  },
  {
   "cell_type": "code",
   "execution_count": 11,
   "metadata": {},
   "outputs": [
    {
     "data": {
      "text/plain": [
       "'../Datasets/tiny-imagenet/tiny-imagenet-200/val'"
      ]
     },
     "execution_count": 11,
     "metadata": {},
     "output_type": "execute_result"
    }
   ],
   "source": [
    "valfolder = os.path.join(datafolder, 'val')\n",
    "valfolder"
   ]
  },
  {
   "cell_type": "code",
   "execution_count": 12,
   "metadata": {},
   "outputs": [
    {
     "data": {
      "text/plain": [
       "array([['val_0.JPEG', 'n03444034', '0', '32', '44', '62'],\n",
       "       ['val_1.JPEG', 'n04067472', '52', '55', '57', '59'],\n",
       "       ['val_2.JPEG', 'n04070727', '4', '0', '60', '55'],\n",
       "       ...,\n",
       "       ['val_9997.JPEG', 'n03424325', '10', '10', '38', '42'],\n",
       "       ['val_9998.JPEG', 'n01629819', '28', '18', '63', '31'],\n",
       "       ['val_9999.JPEG', 'n02699494', '17', '33', '28', '39']],\n",
       "      dtype='<U13')"
      ]
     },
     "execution_count": 12,
     "metadata": {},
     "output_type": "execute_result"
    }
   ],
   "source": [
    "val_annotations = np.loadtxt(os.path.join(valfolder, 'val_annotations.txt'), dtype=str, delimiter='\\t')\n",
    "val_annotations"
   ]
  },
  {
   "cell_type": "code",
   "execution_count": 13,
   "metadata": {},
   "outputs": [
    {
     "name": "stdout",
     "output_type": "stream",
     "text": [
      "val_0.JPEG  ->  n03444034\n",
      "val_1.JPEG  ->  n04067472\n",
      "val_2.JPEG  ->  n04070727\n",
      "val_3.JPEG  ->  n02808440\n",
      "val_4.JPEG  ->  n02808440\n"
     ]
    }
   ],
   "source": [
    "valimg_to_classid_dir = {valimg: classid for valimg, classid, _, _, _, _ in val_annotations}\n",
    "for i, (k, v) in enumerate(valimg_to_classid_dir.items()):\n",
    "    print(k, ' -> ', v)\n",
    "    if i >= 4: break"
   ]
  },
  {
   "cell_type": "code",
   "execution_count": 14,
   "metadata": {},
   "outputs": [],
   "source": [
    "x_valid = []\n",
    "y_valid_raw = []\n",
    "for img_path in sorted(pathlib.Path(valfolder).rglob('*.JPEG')):\n",
    "    img = matplotlib.image.imread(img_path)\n",
    "    if len(img.shape) == 2:\n",
    "        img = np.stack([img, img, img], axis=-1)\n",
    "    x_valid.append(img)\n",
    "    y_valid_raw.append(valimg_to_classid_dir[img_path.name])\n",
    "x_valid = np.array(x_valid)\n",
    "y_valid_raw = np.array(y_valid_raw)"
   ]
  },
  {
   "cell_type": "code",
   "execution_count": 15,
   "metadata": {},
   "outputs": [],
   "source": [
    "assert x_valid.shape == (10000, 64, 64, 3)\n",
    "assert x_valid.min() == 0\n",
    "assert x_valid.max() == 255\n",
    "assert len(set(y_valid_raw)) == 200         # should be 200 distinct classes in validation set"
   ]
  },
  {
   "cell_type": "markdown",
   "metadata": {},
   "source": [
    "**Convert Labels to Integers**"
   ]
  },
  {
   "cell_type": "markdown",
   "metadata": {},
   "source": [
    "Get all unique labels"
   ]
  },
  {
   "cell_type": "code",
   "execution_count": 16,
   "metadata": {},
   "outputs": [],
   "source": [
    "unique_labels = set(y_train_raw)"
   ]
  },
  {
   "cell_type": "markdown",
   "metadata": {},
   "source": [
    "Create dictionaries for converting labels to ints and vice-versa."
   ]
  },
  {
   "cell_type": "code",
   "execution_count": 17,
   "metadata": {},
   "outputs": [],
   "source": [
    "label_to_idx = {label : i for i, label in enumerate(sorted(unique_labels))}\n",
    "idx_to_label = {i : label for label, i in label_to_idx.items()}\n",
    "for label, idx in label_to_idx.items():\n",
    "    assert idx_to_label[label_to_idx[label]] == label"
   ]
  },
  {
   "cell_type": "code",
   "execution_count": 18,
   "metadata": {},
   "outputs": [],
   "source": [
    "y_train = [label_to_idx[y] for y in y_train_raw]\n",
    "for i in range(len(y_train_raw)):\n",
    "    assert idx_to_label[y_train[i]] == y_train_raw[i]"
   ]
  },
  {
   "cell_type": "code",
   "execution_count": 19,
   "metadata": {},
   "outputs": [],
   "source": [
    "y_valid = [label_to_idx[y] for y in y_valid_raw]\n",
    "for i in range(len(y_valid_raw)):\n",
    "    assert idx_to_label[y_valid[i]] == y_valid_raw[i]"
   ]
  },
  {
   "cell_type": "markdown",
   "metadata": {},
   "source": [
    "**Create Tag Dictionary**"
   ]
  },
  {
   "cell_type": "markdown",
   "metadata": {},
   "source": [
    "File 'words.txt' contains mapping of labels into human readable tags. There are multiple tags for some labels, we will save only first one"
   ]
  },
  {
   "cell_type": "code",
   "execution_count": 21,
   "metadata": {},
   "outputs": [
    {
     "data": {
      "text/plain": [
       "array([['n00001740', 'entity'],\n",
       "       ['n00001930', 'physical entity'],\n",
       "       ['n00002137', 'abstraction, abstract entity'],\n",
       "       ...,\n",
       "       ['n15299585', 'usance'],\n",
       "       ['n15299783', 'window'],\n",
       "       ['n15300051', '9/11, 9-11, September 11, Sept. 11, Sep 11']],\n",
       "      dtype='<U218')"
      ]
     },
     "execution_count": 21,
     "metadata": {},
     "output_type": "execute_result"
    }
   ],
   "source": [
    "words_txt = np.loadtxt(os.path.join(datafolder, 'words.txt'), dtype=str, delimiter='\\t')\n",
    "words_txt"
   ]
  },
  {
   "cell_type": "code",
   "execution_count": 22,
   "metadata": {},
   "outputs": [
    {
     "name": "stdout",
     "output_type": "stream",
     "text": [
      "n01443537 -> goldfish\n",
      "n01770393 -> scorpion\n",
      "n01945685 -> slug\n"
     ]
    }
   ],
   "source": [
    "labels_to_tags = {label: tags.split(',')[0] for label, tags in words_txt if label in unique_labels}\n",
    "print('n01443537 ->', labels_to_tags['n01443537'])\n",
    "print('n01770393 ->', labels_to_tags['n01770393'])\n",
    "print('n01945685 ->', labels_to_tags['n01945685'])"
   ]
  },
  {
   "cell_type": "code",
   "execution_count": 26,
   "metadata": {},
   "outputs": [],
   "source": [
    "idx_to_tags = {label_to_idx[label] : labels_to_tags[label] for label in sorted(unique_labels)}"
   ]
  },
  {
   "cell_type": "markdown",
   "metadata": {},
   "source": [
    "**Save to .npz**"
   ]
  },
  {
   "cell_type": "code",
   "execution_count": 36,
   "metadata": {},
   "outputs": [
    {
     "data": {
      "text/plain": [
       "'../Datasets/tiny-imagenet/tiny-imagenet-200.npz'"
      ]
     },
     "execution_count": 36,
     "metadata": {},
     "output_type": "execute_result"
    }
   ],
   "source": [
    "save_path = './tiny-imagenet/tiny-imagenet-200.npz'\n",
    "save_path"
   ]
  },
  {
   "cell_type": "code",
   "execution_count": 37,
   "metadata": {},
   "outputs": [],
   "source": [
    "np.savez(save_path,\n",
    "         x_train=x_train,\n",
    "         y_train=y_train,\n",
    "         x_valid=x_valid,\n",
    "         y_valid=y_valid,\n",
    "         idx_to_tags=idx_to_tags)"
   ]
  },
  {
   "cell_type": "markdown",
   "metadata": {},
   "source": [
    "**Test .npz ok**"
   ]
  },
  {
   "cell_type": "code",
   "execution_count": 38,
   "metadata": {},
   "outputs": [],
   "source": [
    "npzfile = np.load(save_path)"
   ]
  },
  {
   "cell_type": "code",
   "execution_count": 39,
   "metadata": {},
   "outputs": [
    {
     "data": {
      "text/plain": [
       "['x_train', 'y_train', 'x_valid', 'y_valid', 'idx_to_tags']"
      ]
     },
     "execution_count": 39,
     "metadata": {},
     "output_type": "execute_result"
    }
   ],
   "source": [
    "npzfile.files"
   ]
  },
  {
   "cell_type": "code",
   "execution_count": 40,
   "metadata": {},
   "outputs": [],
   "source": [
    "x_train_2 = npzfile['x_train']\n",
    "y_train_2 = npzfile['y_train']\n",
    "x_valid_2 = npzfile['x_valid']\n",
    "y_valid_2 = npzfile['y_valid']\n",
    "idx_to_tags_2 = npzfile['idx_to_tags']"
   ]
  },
  {
   "cell_type": "code",
   "execution_count": 41,
   "metadata": {},
   "outputs": [],
   "source": [
    "assert np.alltrue(x_train == x_train_2)\n",
    "assert np.alltrue(y_train == y_train_2)\n",
    "assert np.alltrue(x_valid == x_valid_2)\n",
    "assert np.alltrue(y_valid == y_valid_2)\n",
    "assert np.alltrue(idx_to_tags == idx_to_tags_2)"
   ]
  },
  {
   "cell_type": "code",
   "execution_count": null,
   "metadata": {},
   "outputs": [],
   "source": []
  }
 ],
 "metadata": {
  "kernelspec": {
   "display_name": "Python 3",
   "language": "python",
   "name": "python3"
  },
  "language_info": {
   "codemirror_mode": {
    "name": "ipython",
    "version": 3
   },
   "file_extension": ".py",
   "mimetype": "text/x-python",
   "name": "python",
   "nbconvert_exporter": "python",
   "pygments_lexer": "ipython3",
   "version": "3.6.6"
  }
 },
 "nbformat": 4,
 "nbformat_minor": 2
}
