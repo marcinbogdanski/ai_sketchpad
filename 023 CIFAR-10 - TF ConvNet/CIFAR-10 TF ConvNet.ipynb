{
 "cells": [
  {
   "cell_type": "markdown",
   "metadata": {},
   "source": [
    "# CIFAR-10 Dataset\n",
    "\n",
    "The CIFAR-10 dataset consists of __60000 32x32__ colour images in __10 classes__, with 6000 images per class. There are 50000 training images and 10000 test images.\n",
    "\n",
    "Here are the classes in the dataset, as well as 10 random images from each: \n",
    "\n",
    "<img src=\"cifar-10-random.png\">"
   ]
  },
  {
   "cell_type": "markdown",
   "metadata": {},
   "source": [
    "# Prep Data"
   ]
  },
  {
   "cell_type": "code",
   "execution_count": 1,
   "metadata": {},
   "outputs": [],
   "source": [
    "import os\n",
    "import urllib.request\n",
    "import hashlib\n",
    "import tarfile\n",
    "import pickle\n",
    "import numpy as np\n",
    "import gzip"
   ]
  },
  {
   "cell_type": "markdown",
   "metadata": {},
   "source": [
    "Download approximately 170MB of data."
   ]
  },
  {
   "cell_type": "code",
   "execution_count": 2,
   "metadata": {},
   "outputs": [],
   "source": [
    "url = 'https://www.cs.toronto.edu/~kriz/cifar-10-python.tar.gz'\n",
    "fname = 'cifar-10-python.tar.gz'\n",
    "\n",
    "if not os.path.isfile(fname):\n",
    "    urllib.request.urlretrieve(url, fname)\n",
    "\n",
    "fsum = hashlib.md5(open(fname, 'rb').read()).hexdigest()\n",
    "assert fsum == 'c58f30108f718f92721af3b95e74349a'"
   ]
  },
  {
   "cell_type": "markdown",
   "metadata": {},
   "source": [
    "Load dataset"
   ]
  },
  {
   "cell_type": "code",
   "execution_count": 3,
   "metadata": {},
   "outputs": [],
   "source": [
    "def extract(tfile, member):\n",
    "    buff = tfile.extractfile(member)\n",
    "    pdata = pickle.load(buff, encoding='latin1')\n",
    "    features = pdata['data']\n",
    "    features = features.reshape([len(pdata['data']), 3, 32, 32])\n",
    "    features = features.transpose(0, 2, 3, 1)\n",
    "    labels = pdata['labels']\n",
    "    return features, labels\n",
    "\n",
    "with tarfile.open(fname, 'r:gz') as tfile:\n",
    "    members = tfile.getmembers()\n",
    "    x1, y1 = extract(tfile, 'cifar-10-batches-py/data_batch_1')\n",
    "    x2, y2 = extract(tfile, 'cifar-10-batches-py/data_batch_2')\n",
    "    x3, y3 = extract(tfile, 'cifar-10-batches-py/data_batch_3')\n",
    "    x4, y4 = extract(tfile, 'cifar-10-batches-py/data_batch_4')\n",
    "    x5, y5 = extract(tfile, 'cifar-10-batches-py/data_batch_5')    \n",
    "    \n",
    "    train_x_raw = np.concatenate([x1, x2, x3, x4, x5])\n",
    "    train_y_raw = np.concatenate([y1, y2, y3, y4, y5])\n",
    "    \n",
    "    test_x_raw, test_y_raw = extract(tfile, 'cifar-10-batches-py/test_batch')\n",
    "    \n",
    "    del x1, x2, x3, x4, x5, y1, y2, y3, y4, y5"
   ]
  },
  {
   "cell_type": "markdown",
   "metadata": {},
   "source": [
    "### Preprocess"
   ]
  },
  {
   "cell_type": "markdown",
   "metadata": {},
   "source": [
    "Scale"
   ]
  },
  {
   "cell_type": "code",
   "execution_count": 4,
   "metadata": {},
   "outputs": [],
   "source": [
    "train_x = train_x_raw / 255\n",
    "test_x = test_x_raw / 255"
   ]
  },
  {
   "cell_type": "markdown",
   "metadata": {},
   "source": [
    "Dummies"
   ]
  },
  {
   "cell_type": "code",
   "execution_count": 5,
   "metadata": {},
   "outputs": [],
   "source": [
    "def onehot(data_0123):\n",
    "    N = len(data_0123)\n",
    "    res = np.zeros([N, 10])\n",
    "    res[range(N), data_0123] = 1\n",
    "    return res\n",
    "\n",
    "train_y = onehot(train_y_raw)\n",
    "test_y = onehot(test_y_raw)"
   ]
  },
  {
   "cell_type": "markdown",
   "metadata": {},
   "source": [
    "Split - dataset is already shuffled"
   ]
  },
  {
   "cell_type": "code",
   "execution_count": 6,
   "metadata": {},
   "outputs": [],
   "source": [
    "idx = int(len(train_x)*0.1)\n",
    "\n",
    "valid_x = train_x[-idx:]\n",
    "valid_y = train_y[-idx:]\n",
    "\n",
    "train_x = train_x[:-idx]\n",
    "train_y = train_y[:-idx]"
   ]
  },
  {
   "cell_type": "markdown",
   "metadata": {},
   "source": [
    "### Save to drive"
   ]
  },
  {
   "cell_type": "code",
   "execution_count": 10,
   "metadata": {},
   "outputs": [],
   "source": [
    "raise  # Sentinel\n",
    "with gzip.open('CIFAR-10.gz', 'wb') as gfile:\n",
    "    pickle_dict = {'train_x': train_x, 'train_y': train_y,\n",
    "                   'valid_x': valid_x, 'valid_y': valid_y,\n",
    "                   'test_x': test_x, 'test_y': test_y }\n",
    "    pickle.dump(pickle_dict, gfile)"
   ]
  },
  {
   "cell_type": "markdown",
   "metadata": {},
   "source": [
    "# Checkpoint"
   ]
  },
  {
   "cell_type": "code",
   "execution_count": 1,
   "metadata": {},
   "outputs": [],
   "source": [
    "import gzip\n",
    "import pickle\n",
    "import numpy as np\n",
    "import matplotlib.pyplot as plt\n",
    "import tensorflow as tf"
   ]
  },
  {
   "cell_type": "code",
   "execution_count": 2,
   "metadata": {},
   "outputs": [
    {
     "name": "stdout",
     "output_type": "stream",
     "text": [
      "/job:localhost/replica:0/task:0/device:CPU:0\n",
      "/job:localhost/replica:0/task:0/device:GPU:0\n"
     ]
    }
   ],
   "source": [
    "config = tf.ConfigProto()\n",
    "config.gpu_options.allow_growth=True\n",
    "with tf.Session(config=config) as sess:\n",
    "    devs = sess.list_devices()\n",
    "    print('\\n'.join([x.name for x in devs]))"
   ]
  },
  {
   "cell_type": "code",
   "execution_count": 3,
   "metadata": {},
   "outputs": [],
   "source": [
    "with gzip.open('CIFAR-10.gz', 'rb') as gfile:\n",
    "    pickle_dict = pickle.load(gfile)\n",
    "    train_x = pickle_dict['train_x']\n",
    "    train_y = pickle_dict['train_y']\n",
    "    valid_x = pickle_dict['valid_x']\n",
    "    valid_y = pickle_dict['valid_y']\n",
    "    test_x = pickle_dict['test_x']\n",
    "    test_y = pickle_dict['test_y']\n",
    "    del pickle_dict  # free up memory"
   ]
  },
  {
   "cell_type": "markdown",
   "metadata": {},
   "source": [
    "# Explore Data"
   ]
  },
  {
   "cell_type": "code",
   "execution_count": 9,
   "metadata": {},
   "outputs": [
    {
     "name": "stdout",
     "output_type": "stream",
     "text": [
      "horse\n"
     ]
    },
    {
     "data": {
      "image/png": "[encoded data removed]",
      "text/plain": [
       "<Figure size 432x288 with 1 Axes>"
      ]
     },
     "metadata": {},
     "output_type": "display_data"
    }
   ],
   "source": [
    "lab2txt = ['airplane', 'automobile', 'bird', 'cat', 'deer', 'dog', 'frog', 'horse', 'ship', 'truck']\n",
    "\n",
    "idx = 43\n",
    "plt.imshow(train_x[idx])\n",
    "print(lab2txt[np.argmax(train_y[idx])])"
   ]
  },
  {
   "cell_type": "markdown",
   "metadata": {},
   "source": [
    "# Model"
   ]
  },
  {
   "cell_type": "markdown",
   "metadata": {},
   "source": [
    "### Manually Specify Model"
   ]
  },
  {
   "cell_type": "markdown",
   "metadata": {},
   "source": [
    "Helpers"
   ]
  },
  {
   "cell_type": "code",
   "execution_count": 30,
   "metadata": {},
   "outputs": [],
   "source": [
    "def my_conv2d(tensor, nb_out, filter_size, stride):\n",
    "    \"\"\"\n",
    "    Params:\n",
    "        tensor - input tensor to conv layer\n",
    "        filter_size - [filt_w, filt_h]\n",
    "        nb_out - scalar\n",
    "        stride - [stride_x, stride_y]\n",
    "    \"\"\"\n",
    "        \n",
    "    tensor_depth = int(tensor.shape[-1])\n",
    "    N_in = np.prod(filter_size) * tensor_depth\n",
    "    weights = tf.Variable(\n",
    "        initial_value=tf.truncated_normal(\n",
    "            mean=0.0,\n",
    "            # stddev=N_in**-.5,\n",
    "            stddev=(2/(N_in+nb_out))**.5,\n",
    "            shape=[*filter_size, tensor_depth, nb_out],\n",
    "            dtype=tf.float32))\n",
    "    \n",
    "    biases = tf.Variable(\n",
    "        initial_value=tf.zeros(\n",
    "            shape=nb_out,\n",
    "            dtype=tf.float32))\n",
    "    \n",
    "    temp = tf.nn.conv2d(tensor, weights, [1, *stride, 1], padding='SAME')\n",
    "    temp = tf.nn.bias_add(temp, biases)\n",
    "    temp = tf.nn.relu(temp)\n",
    "    \n",
    "    return temp\n",
    "    # return tf.nn.max_pool(temp, [1, *pool_ksize, 1], [1, *pool_strides, 1], padding='SAME')"
   ]
  },
  {
   "cell_type": "code",
   "execution_count": 31,
   "metadata": {},
   "outputs": [],
   "source": [
    "def my_flatten(tensor):\n",
    "    # auto\n",
    "    return tf.layers.flatten(tensor)\n",
    "\n",
    "    # manual\n",
    "    target_shape = [-1, np.prod(tensor.get_shape()[1:])]\n",
    "    return tf.reshape(x_tensor, target_shape)"
   ]
  },
  {
   "cell_type": "code",
   "execution_count": 32,
   "metadata": {},
   "outputs": [],
   "source": [
    "def my_dense(tensor, nb_out, act):\n",
    "    # auto\n",
    "    # weights variable - gorlot init\n",
    "    # biases variable - default yes, zeros init\n",
    "    return tf.layers.dense(tensor, nb_out, activation=act)\n"
   ]
  },
  {
   "cell_type": "markdown",
   "metadata": {},
   "source": [
    "Actual Model"
   ]
  },
  {
   "cell_type": "code",
   "execution_count": 33,
   "metadata": {},
   "outputs": [],
   "source": [
    "tf.reset_default_graph()\n",
    "\n",
    "xi = tf.placeholder(name='xi', shape=[None, 32, 32, 3], dtype=tf.float32)\n",
    "yi = tf.placeholder(name='yi', shape=[None, 10], dtype=tf.float32)\n",
    "kp = tf.placeholder(name='kp', shape=[], dtype=tf.float32)\n",
    "\n",
    "# model = tf.layers.conv2d(\n",
    "#     inputs=xi,\n",
    "#     filters=32,\n",
    "#     kernel_size=[5, 5],\n",
    "#     strides=[1, 1],\n",
    "#     padding='SAME',\n",
    "#     activation=tf.nn.relu,\n",
    "#     # use_bias=True,\n",
    "# )\n",
    "model = my_conv2d(xi, nb_out=32,\n",
    "                      filter_size=[5, 5],                      \n",
    "                      stride=[1, 1])\n",
    "\n",
    "# model = tf.layers.max_pooling2d(\n",
    "#     inputs=model,\n",
    "#     pool_size=[2, 2],\n",
    "#     strides=[2, 2],\n",
    "#     padding='SAME')\n",
    "model = tf.nn.max_pool(model, [1, *[2, 2], 1], [1, *[2, 2], 1], padding='SAME')\n",
    "\n",
    "\n",
    "\n",
    "model = my_conv2d(model,\n",
    "                  nb_out=64,\n",
    "                  filter_size=[5, 5],\n",
    "                  stride=[1, 1])\n",
    "model = tf.nn.max_pool(model,\n",
    "                       ksize=[1, *[2, 2], 1],\n",
    "                       strides=[1, *[2, 2], 1],\n",
    "                       padding='SAME')\n",
    "\n",
    "model = my_conv2d(model,\n",
    "                  nb_out=128,\n",
    "                  filter_size=[5, 5],\n",
    "                  stride=[1, 1])\n",
    "model = tf.nn.max_pool(model,\n",
    "                       ksize=[1, *[2, 2], 1],\n",
    "                       strides=[1, *[2, 2], 1],\n",
    "                       padding='SAME')\n",
    "\n",
    "model = my_flatten(model)\n",
    "\n",
    "model = my_dense(model, 1024, act=tf.nn.relu)\n",
    "\n",
    "model = tf.nn.dropout(model, kp)\n",
    "\n",
    "logits = my_dense(model, 10, act=None)\n",
    "\n",
    "# probabilities = tf.nn.softmax(logits)  # not used\n",
    "\n",
    "loss = tf.reduce_mean(tf.nn.softmax_cross_entropy_with_logits(logits=logits, labels=yi))\n",
    "optimizer = tf.train.AdamOptimizer().minimize(loss)\n",
    "\n",
    "is_correct = tf.equal(tf.argmax(logits, 1), tf.argmax(yi, 1))\n",
    "accuracy = tf.reduce_mean(tf.cast(is_correct, tf.float32))\n"
   ]
  },
  {
   "cell_type": "markdown",
   "metadata": {},
   "source": [
    "### High-Level Model"
   ]
  },
  {
   "cell_type": "code",
   "execution_count": 35,
   "metadata": {},
   "outputs": [],
   "source": [
    "tf.reset_default_graph()\n",
    "\n",
    "xi = tf.placeholder(name='xi', shape=[None, 32, 32, 3], dtype=tf.float32)\n",
    "yi = tf.placeholder(name='yi', shape=[None, 10], dtype=tf.float32)\n",
    "kp = tf.placeholder(name='kp', shape=[], dtype=tf.float32)\n",
    "\n",
    "model = tf.layers.conv2d(xi,\n",
    "    filters=32, kernel_size=[5, 5], strides=[1, 1], padding='SAME', activation=tf.nn.relu)\n",
    "model = tf.layers.max_pooling2d(model,\n",
    "    pool_size=[2, 2], strides=[2, 2], padding='SAME')\n",
    "\n",
    "model = tf.layers.conv2d(model,\n",
    "    filters=64, kernel_size=[5, 5], strides=[1, 1], padding='SAME', activation=tf.nn.relu)\n",
    "model = tf.layers.max_pooling2d(model,\n",
    "    pool_size=[2, 2], strides=[2, 2], padding='SAME')\n",
    "\n",
    "model = tf.layers.conv2d(model,\n",
    "    filters=128, kernel_size=[5, 5], strides=[1, 1], padding='SAME', activation=tf.nn.relu)\n",
    "model = tf.layers.max_pooling2d(model,\n",
    "    pool_size=[2, 2], strides=[2, 2], padding='SAME')\n",
    "\n",
    "model = tf.layers.flatten(model)\n",
    "model = tf.layers.dense(model, 1024, activation=tf.nn.relu)\n",
    "model = tf.nn.dropout(model, kp)\n",
    "logits = tf.layers.dense(model, 10, activation=None)\n",
    "\n",
    "# probabilities = tf.nn.softmax(logits)  # not used\n",
    "\n",
    "loss = tf.losses.softmax_cross_entropy(yi, logits)\n",
    "optimizer = tf.train.AdamOptimizer().minimize(loss)\n",
    "\n",
    "is_correct = tf.equal(tf.argmax(logits, 1), tf.argmax(yi, 1))\n",
    "accuracy = tf.reduce_mean(tf.cast(is_correct, tf.float32))"
   ]
  },
  {
   "cell_type": "markdown",
   "metadata": {},
   "source": [
    "### Train Loop"
   ]
  },
  {
   "cell_type": "markdown",
   "metadata": {},
   "source": [
    "Hyperparameters"
   ]
  },
  {
   "cell_type": "code",
   "execution_count": 27,
   "metadata": {},
   "outputs": [],
   "source": [
    "epochs = 5 # 40\n",
    "batch_size = 256\n",
    "keep_probability = 0.75"
   ]
  },
  {
   "cell_type": "markdown",
   "metadata": {},
   "source": [
    "Train Loop"
   ]
  },
  {
   "cell_type": "code",
   "execution_count": 36,
   "metadata": {},
   "outputs": [
    {
     "name": "stdout",
     "output_type": "stream",
     "text": [
      "Epoch  1, CIFAR-10 Batch 175:  tc, vc, tacc, vacc 1.4183801 1.3584392 0.495 0.513\n",
      "Epoch  2, CIFAR-10 Batch 175:  tc, vc, tacc, vacc 1.1791834 1.11534 0.565 0.605\n",
      "Epoch  3, CIFAR-10 Batch 175:  tc, vc, tacc, vacc 0.96218544 0.9799994 0.68 0.6566\n",
      "Epoch  4, CIFAR-10 Batch 175:  tc, vc, tacc, vacc 0.8473726 0.9014359 0.69 0.6834\n",
      "Epoch  5, CIFAR-10 Batch 175:  tc, vc, tacc, vacc 0.725403 0.8550748 0.74 0.7002\n"
     ]
    }
   ],
   "source": [
    "saver = tf.train.Saver()\n",
    "with tf.Session() as sess:\n",
    "    # Initializing the variables\n",
    "    sess.run(tf.global_variables_initializer())\n",
    "    \n",
    "    # Training cycle\n",
    "    for epoch in range(epochs):\n",
    "        for batch_i, idx in enumerate(range(0, len(train_x), batch_size)):\n",
    "            \n",
    "            xb = train_x[idx:idx+batch_size]\n",
    "            yb = train_y[idx:idx+batch_size]\n",
    "            \n",
    "            sess.run([optimizer, loss], feed_dict={xi: xb, yi: yb, kp: keep_probability})\n",
    "            \n",
    "        print('Epoch {:>2}, CIFAR-10 Batch {}:  '.format(epoch + 1, batch_i), end='')\n",
    "        train_cost, train_acc = sess.run([loss, accuracy], feed_dict={xi: xb, yi: yb, kp: 1.0})\n",
    "        valid_cost, valid_acc = sess.run([loss, accuracy], feed_dict={xi: valid_x, yi: valid_y, kp: 1.0})\n",
    "        print('tc, vc, tacc, vacc', train_cost, valid_cost, train_acc, valid_acc)\n",
    "        \n",
    "    saver.save(sess, './model.ckpt')"
   ]
  },
  {
   "cell_type": "code",
   "execution_count": 24,
   "metadata": {},
   "outputs": [
    {
     "name": "stdout",
     "output_type": "stream",
     "text": [
      "INFO:tensorflow:Restoring parameters from ./model.ckpt\n",
      "Train Set Accuracy: 0.7665\n",
      "Validation Set Acc: 0.7058\n",
      "Test Set Accuracy:  0.6914\n"
     ]
    }
   ],
   "source": [
    "saver = tf.train.Saver()\n",
    "with tf.Session() as sess:\n",
    "    saver.restore(sess, './model.ckpt')\n",
    "    \n",
    "    train_cost, train_acc = sess.run([loss, accuracy], feed_dict={xi: train_x[:10000], yi: train_y[:10000], kp: 1.0})\n",
    "    valid_cost, valid_acc = sess.run([loss, accuracy], feed_dict={xi: valid_x, yi: valid_y, kp: 1.0})\n",
    "    test_cost, test_acc   = sess.run([loss, accuracy], feed_dict={xi: test_x,  yi: test_y,  kp: 1.0})\n",
    "    print('Train Set Accuracy:', train_acc)\n",
    "    print('Validation Set Acc:', valid_acc)\n",
    "    print('Test Set Accuracy: ', test_acc)"
   ]
  },
  {
   "cell_type": "code",
   "execution_count": null,
   "metadata": {},
   "outputs": [],
   "source": []
  }
 ],
 "metadata": {
  "kernelspec": {
   "display_name": "Python 3",
   "language": "python",
   "name": "python3"
  },
  "language_info": {
   "codemirror_mode": {
    "name": "ipython",
    "version": 3
   },
   "file_extension": ".py",
   "mimetype": "text/x-python",
   "name": "python",
   "nbconvert_exporter": "python",
   "pygments_lexer": "ipython3",
   "version": "3.6.6"
  }
 },
 "nbformat": 4,
 "nbformat_minor": 2
}
