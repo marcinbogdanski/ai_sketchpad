{
 "cells": [
  {
   "cell_type": "code",
   "execution_count": 1,
   "metadata": {},
   "outputs": [],
   "source": [
    "import numpy as np\n",
    "import matplotlib.pyplot as plt"
   ]
  },
  {
   "cell_type": "code",
   "execution_count": 2,
   "metadata": {},
   "outputs": [],
   "source": [
    "import tensorflow as tf\n",
    "\n",
    "config = tf.ConfigProto()\n",
    "config.gpu_options.allow_growth = True\n",
    "with tf.Session(config=config):\n",
    "    pass  # init sessin with allow_growth"
   ]
  },
  {
   "cell_type": "markdown",
   "metadata": {},
   "source": [
    "# SimpleRNN"
   ]
  },
  {
   "cell_type": "code",
   "execution_count": 3,
   "metadata": {},
   "outputs": [],
   "source": [
    "from tensorflow.keras.layers import InputLayer, SimpleRNN"
   ]
  },
  {
   "cell_type": "code",
   "execution_count": 4,
   "metadata": {},
   "outputs": [],
   "source": [
    "model = tf.keras.Sequential()\n",
    "model.add(InputLayer(input_shape=(3,4)))\n",
    "model.add(SimpleRNN(units=2, use_bias=False, return_sequences=True))"
   ]
  },
  {
   "cell_type": "code",
   "execution_count": 5,
   "metadata": {},
   "outputs": [
    {
     "name": "stdout",
     "output_type": "stream",
     "text": [
      "_________________________________________________________________\n",
      "Layer (type)                 Output Shape              Param #   \n",
      "=================================================================\n",
      "simple_rnn (SimpleRNN)       (None, 3, 2)              12        \n",
      "=================================================================\n",
      "Total params: 12\n",
      "Trainable params: 12\n",
      "Non-trainable params: 0\n",
      "_________________________________________________________________\n"
     ]
    }
   ],
   "source": [
    "model.summary()"
   ]
  },
  {
   "cell_type": "code",
   "execution_count": 6,
   "metadata": {},
   "outputs": [],
   "source": [
    "x_train = np.array([  [ [0, 0, 0, 1], [0, 0, 1, 0], [0, 1, 0, 0] ] ] )\n",
    "Wxh = np.array([[0, 0],\n",
    "                [0, 0],\n",
    "                [0, 1],\n",
    "                [0, 0]])\n",
    "Whh = np.array([[1, 0],\n",
    "                [0, 1]])\n",
    "model.set_weights([Wxh, Whh])"
   ]
  },
  {
   "cell_type": "code",
   "execution_count": 7,
   "metadata": {},
   "outputs": [
    {
     "name": "stdout",
     "output_type": "stream",
     "text": [
      "Wxh\n",
      "[[0. 0.]\n",
      " [0. 0.]\n",
      " [0. 1.]\n",
      " [0. 0.]]\n",
      "Whh\n",
      "[[1. 0.]\n",
      " [0. 1.]]\n",
      "X\n",
      "[0 0 0 1] [0 0 1 0] [0 1 0 0]\n"
     ]
    }
   ],
   "source": [
    "print('Wxh')\n",
    "print(model.get_weights()[0])\n",
    "print('Whh')\n",
    "print(model.get_weights()[1])\n",
    "assert len(model.get_weights()) == 2\n",
    "print('X')\n",
    "print(x_train[0, 0], x_train[0, 1], x_train[0, 2])\n",
    "assert x_train.shape == (1, 3, 4)"
   ]
  },
  {
   "cell_type": "code",
   "execution_count": 8,
   "metadata": {},
   "outputs": [
    {
     "name": "stdout",
     "output_type": "stream",
     "text": [
      "[[[0.        0.       ]\n",
      "  [0.        0.7615942]\n",
      "  [0.        0.642015 ]]]\n"
     ]
    }
   ],
   "source": [
    "print(model.predict(x_train))"
   ]
  },
  {
   "cell_type": "code",
   "execution_count": 9,
   "metadata": {},
   "outputs": [
    {
     "data": {
      "text/plain": [
       "0.6420150179019382"
      ]
     },
     "execution_count": 9,
     "metadata": {},
     "output_type": "execute_result"
    }
   ],
   "source": [
    "np.tanh(0.7615942)"
   ]
  },
  {
   "cell_type": "markdown",
   "metadata": {},
   "source": [
    "# Time Distributed"
   ]
  },
  {
   "cell_type": "code",
   "execution_count": 13,
   "metadata": {},
   "outputs": [],
   "source": [
    "from tensorflow.keras.layers import InputLayer, TimeDistributed, Dense"
   ]
  },
  {
   "cell_type": "code",
   "execution_count": 14,
   "metadata": {},
   "outputs": [
    {
     "name": "stdout",
     "output_type": "stream",
     "text": [
      "_________________________________________________________________\n",
      "Layer (type)                 Output Shape              Param #   \n",
      "=================================================================\n",
      "time_distributed (TimeDistri (None, 3, 2)              8         \n",
      "=================================================================\n",
      "Total params: 8\n",
      "Trainable params: 8\n",
      "Non-trainable params: 0\n",
      "_________________________________________________________________\n"
     ]
    }
   ],
   "source": [
    "model = tf.keras.Sequential()\n",
    "model.add(InputLayer(input_shape=(3,4)))\n",
    "#model.add(SimpleRNN(units=2, use_bias=False, return_sequences=True))\n",
    "model.add(TimeDistributed(Dense(units=2, use_bias=False)))\n",
    "model.summary()"
   ]
  },
  {
   "cell_type": "code",
   "execution_count": 15,
   "metadata": {},
   "outputs": [],
   "source": [
    "x_train = np.array([  [ [0, 0, 0, 1], [0, 0, 1, 0], [0, 1, 0, 0] ] ] )\n",
    "Wd = np.array([[0, 0],\n",
    "               [1, 0],\n",
    "               [0, 2],\n",
    "               [0, 0]])\n",
    "model.set_weights([Wd])"
   ]
  },
  {
   "cell_type": "code",
   "execution_count": 16,
   "metadata": {},
   "outputs": [
    {
     "name": "stdout",
     "output_type": "stream",
     "text": [
      "Wd\n",
      "[[0. 0.]\n",
      " [1. 0.]\n",
      " [0. 2.]\n",
      " [0. 0.]]\n",
      "X\n",
      "[0 0 0 1] [0 0 1 0] [0 1 0 0]\n"
     ]
    }
   ],
   "source": [
    "print('Wd')\n",
    "print(model.get_weights()[0])\n",
    "print('X')\n",
    "print(x_train[0, 0], x_train[0, 1], x_train[0, 2])\n",
    "assert x_train.shape == (1, 3, 4)"
   ]
  },
  {
   "cell_type": "code",
   "execution_count": 17,
   "metadata": {},
   "outputs": [
    {
     "data": {
      "text/plain": [
       "array([[[0., 0.],\n",
       "        [0., 2.],\n",
       "        [1., 0.]]], dtype=float32)"
      ]
     },
     "execution_count": 17,
     "metadata": {},
     "output_type": "execute_result"
    }
   ],
   "source": [
    "model.predict(x_train)"
   ]
  },
  {
   "cell_type": "markdown",
   "metadata": {},
   "source": [
    "# Embedding"
   ]
  },
  {
   "cell_type": "code",
   "execution_count": 39,
   "metadata": {},
   "outputs": [],
   "source": [
    "from tensorflow.keras.layers import InputLayer, Embedding"
   ]
  },
  {
   "cell_type": "code",
   "execution_count": 65,
   "metadata": {},
   "outputs": [
    {
     "name": "stdout",
     "output_type": "stream",
     "text": [
      "_________________________________________________________________\n",
      "Layer (type)                 Output Shape              Param #   \n",
      "=================================================================\n",
      "embedding_9 (Embedding)      (None, 3, 4)              16        \n",
      "=================================================================\n",
      "Total params: 16\n",
      "Trainable params: 16\n",
      "Non-trainable params: 0\n",
      "_________________________________________________________________\n"
     ]
    }
   ],
   "source": [
    "model = tf.keras.Sequential()\n",
    "model.add(InputLayer(input_shape=(3,)))\n",
    "model.add(Embedding(input_dim=4, output_dim=4))\n",
    "model.summary()"
   ]
  },
  {
   "cell_type": "code",
   "execution_count": 66,
   "metadata": {},
   "outputs": [],
   "source": [
    "#x_train = np.array([  [ [0, 0, 0, 1], [0, 0, 1, 0], [0, 1, 0, 0] ] ] )\n",
    "x_train = np.array([  [ 0, 1, 2 ] ] )"
   ]
  },
  {
   "cell_type": "code",
   "execution_count": 67,
   "metadata": {},
   "outputs": [
    {
     "data": {
      "text/plain": [
       "[array([[-0.04623235, -0.00243106, -0.00980903,  0.04009164],\n",
       "        [ 0.00958375, -0.04722828,  0.03170497,  0.0034303 ],\n",
       "        [-0.02904195,  0.01173012,  0.0304899 ,  0.00080044],\n",
       "        [-0.00844502, -0.01765589,  0.00976507,  0.01679393]],\n",
       "       dtype=float32)]"
      ]
     },
     "execution_count": 67,
     "metadata": {},
     "output_type": "execute_result"
    }
   ],
   "source": [
    "model.get_weights()"
   ]
  },
  {
   "cell_type": "code",
   "execution_count": 68,
   "metadata": {},
   "outputs": [
    {
     "data": {
      "text/plain": [
       "array([[[-0.04623235, -0.00243106, -0.00980903,  0.04009164],\n",
       "        [ 0.00958375, -0.04722828,  0.03170497,  0.0034303 ],\n",
       "        [-0.02904195,  0.01173012,  0.0304899 ,  0.00080044]]],\n",
       "      dtype=float32)"
      ]
     },
     "execution_count": 68,
     "metadata": {},
     "output_type": "execute_result"
    }
   ],
   "source": [
    "model.predict(x_train)"
   ]
  },
  {
   "cell_type": "markdown",
   "metadata": {},
   "source": [
    "# Dense on non-flat input"
   ]
  },
  {
   "cell_type": "code",
   "execution_count": 28,
   "metadata": {},
   "outputs": [
    {
     "name": "stdout",
     "output_type": "stream",
     "text": [
      "_________________________________________________________________\n",
      "Layer (type)                 Output Shape              Param #   \n",
      "=================================================================\n",
      "dense_2 (Dense)              (None, 3, 2)              8         \n",
      "=================================================================\n",
      "Total params: 8\n",
      "Trainable params: 8\n",
      "Non-trainable params: 0\n",
      "_________________________________________________________________\n"
     ]
    }
   ],
   "source": [
    "model = tf.keras.Sequential()\n",
    "model.add(InputLayer(input_shape=(3,4)))\n",
    "#model.add(SimpleRNN(units=2, use_bias=False, return_sequences=True))\n",
    "model.add(Dense(units=2, use_bias=False))\n",
    "model.summary()"
   ]
  },
  {
   "cell_type": "code",
   "execution_count": 36,
   "metadata": {},
   "outputs": [
    {
     "name": "stdout",
     "output_type": "stream",
     "text": [
      "Wd\n",
      "[[ 0.14180565  0.3559146 ]\n",
      " [-0.0596149  -0.6523454 ]\n",
      " [-0.0288806   0.8688328 ]\n",
      " [ 0.07899237  0.96307135]]\n",
      "X\n",
      "[[0 0 0 1]] [[0 0 1 0]] [[0 1 0 0]]\n"
     ]
    }
   ],
   "source": [
    "print('Wd')\n",
    "print(model.get_weights()[0])\n",
    "print('X')\n",
    "print(x_train[:, 0, :], x_train[:, 1, :], x_train[:, 2, :])\n",
    "assert x_train.shape == (1, 3, 4)"
   ]
  },
  {
   "cell_type": "code",
   "execution_count": 37,
   "metadata": {},
   "outputs": [
    {
     "data": {
      "text/plain": [
       "array([[[ 0.07899237,  0.96307135],\n",
       "        [-0.0288806 ,  0.8688328 ],\n",
       "        [-0.0596149 , -0.6523454 ]]], dtype=float32)"
      ]
     },
     "execution_count": 37,
     "metadata": {},
     "output_type": "execute_result"
    }
   ],
   "source": [
    "model.predict(x_train)"
   ]
  },
  {
   "cell_type": "code",
   "execution_count": null,
   "metadata": {},
   "outputs": [],
   "source": []
  },
  {
   "cell_type": "code",
   "execution_count": 25,
   "metadata": {},
   "outputs": [],
   "source": [
    "tf.keras.utils.plot_model(model, '/tmp/aa.png', show_shapes=True)"
   ]
  },
  {
   "cell_type": "code",
   "execution_count": 27,
   "metadata": {},
   "outputs": [
    {
     "data": {
      "text/plain": [
       "<matplotlib.image.AxesImage at 0x7fdb41fa94e0>"
      ]
     },
     "execution_count": 27,
     "metadata": {},
     "output_type": "execute_result"
    },
    {
     "data": {
      "image/png": "[encoded data removed]",
      "text/plain": [
       "<Figure size 432x288 with 1 Axes>"
      ]
     },
     "metadata": {
      "needs_background": "light"
     },
     "output_type": "display_data"
    }
   ],
   "source": [
    "plt.imshow(plt.imread('/tmp/aa.png'))"
   ]
  },
  {
   "cell_type": "code",
   "execution_count": null,
   "metadata": {},
   "outputs": [],
   "source": []
  }
 ],
 "metadata": {
  "kernelspec": {
   "display_name": "Python 3",
   "language": "python",
   "name": "python3"
  },
  "language_info": {
   "codemirror_mode": {
    "name": "ipython",
    "version": 3
   },
   "file_extension": ".py",
   "mimetype": "text/x-python",
   "name": "python",
   "nbconvert_exporter": "python",
   "pygments_lexer": "ipython3",
   "version": "3.6.7"
  }
 },
 "nbformat": 4,
 "nbformat_minor": 2
}
