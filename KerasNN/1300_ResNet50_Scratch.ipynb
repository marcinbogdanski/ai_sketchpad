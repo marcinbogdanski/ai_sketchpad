{
 "cells": [
  {
   "cell_type": "markdown",
   "metadata": {},
   "source": [
    "# Introduction"
   ]
  },
  {
   "cell_type": "markdown",
   "metadata": {},
   "source": [
    "This notebook presents **ResNet50** architecutre build **from scratch** and applied to [Oxford VGG Flowers 17](http://www.robots.ox.ac.uk/~vgg/data/flowers/) dataset."
   ]
  },
  {
   "cell_type": "markdown",
   "metadata": {},
   "source": [
    "**Contents**\n",
    "\n",
    "* [VGG Flowers 17 Dataset](#VGG-Flowers-17-Dataset)\n",
    "* [ResNet-50 From Scratch](#ResNet-50-From-Scratch)\n"
   ]
  },
  {
   "cell_type": "markdown",
   "metadata": {},
   "source": [
    "**References**\n",
    "\n",
    "* [Deep Residual Learning for Image Recognition](https://arxiv.org/abs/1512.03385) (2015) by Kaiming He, Xiangyu Zhang, Shaoqing Ren, Jian Sun"
   ]
  },
  {
   "cell_type": "markdown",
   "metadata": {},
   "source": [
    "# Imports"
   ]
  },
  {
   "cell_type": "code",
   "execution_count": 1,
   "metadata": {},
   "outputs": [],
   "source": [
    "import os\n",
    "import numpy as np\n",
    "import matplotlib.pyplot as plt"
   ]
  },
  {
   "cell_type": "code",
   "execution_count": 2,
   "metadata": {},
   "outputs": [],
   "source": [
    "import tensorflow as tf\n",
    "\n",
    "config = tf.ConfigProto()\n",
    "config.gpu_options.allow_growth = True\n",
    "with tf.Session(config=config):\n",
    "    pass  # init sessin with allow_growth"
   ]
  },
  {
   "cell_type": "markdown",
   "metadata": {},
   "source": [
    "# VGG Flowers 17 Dataset"
   ]
  },
  {
   "cell_type": "code",
   "execution_count": 3,
   "metadata": {},
   "outputs": [],
   "source": [
    "dataset_location = '../Udacity_DL_Nanodegree//'"
   ]
  },
  {
   "cell_type": "code",
   "execution_count": 4,
   "metadata": {},
   "outputs": [],
   "source": [
    "datafile = os.path.join(dataset_location, '17flowers.npz')\n",
    "if not os.path.isfile(datafile):\n",
    "    print('Run StanfordDogs.ipynb notebook first!')\n",
    "    raise"
   ]
  },
  {
   "cell_type": "code",
   "execution_count": 5,
   "metadata": {},
   "outputs": [],
   "source": [
    "npzfile = np.load(datafile)\n",
    "train_images_raw = npzfile['train_images']\n",
    "train_labels_raw = npzfile['train_labels']\n",
    "valid_images_raw = npzfile['valid_images']\n",
    "valid_labels_raw = npzfile['valid_labels']"
   ]
  },
  {
   "cell_type": "code",
   "execution_count": 6,
   "metadata": {},
   "outputs": [
    {
     "name": "stdout",
     "output_type": "stream",
     "text": [
      "train_images.shape: (1190, 224, 224, 3)\n",
      "valid_images.shape: (170, 224, 224, 3)\n",
      "valid_images:\n",
      " [[-102. -104. -103. ... -104. -102. -104.]\n",
      " [-101. -103. -103. ... -104.  -97.  -93.]\n",
      " [-102. -104. -103. ...  -85.  -73.  -55.]\n",
      " ...\n",
      " [ -57.  -58.  -60. ...  -79.  -82.  -83.]\n",
      " [ -54.  -58.  -61. ...  -83.  -79.  -76.]\n",
      " [ -63.  -68.  -70. ...  -85.  -82.  -79.]]\n"
     ]
    }
   ],
   "source": [
    "train_images = tf.keras.applications.resnet50.preprocess_input(train_images_raw.astype(np.float32))\n",
    "valid_images = tf.keras.applications.resnet50.preprocess_input(valid_images_raw.astype(np.float32))\n",
    "print('train_images.shape:', train_images.shape)\n",
    "print('valid_images.shape:', valid_images.shape)\n",
    "print('valid_images:\\n', valid_images[0,:,:,0].round())  # first image, red channel"
   ]
  },
  {
   "cell_type": "code",
   "execution_count": 7,
   "metadata": {},
   "outputs": [
    {
     "name": "stdout",
     "output_type": "stream",
     "text": [
      "train_labels.shape: (1190, 17)\n",
      "valid_labels.shape: (170, 17)\n",
      "valid_labels:\n",
      " [[1. 0. 0. ... 0. 0. 0.]\n",
      " [1. 0. 0. ... 0. 0. 0.]\n",
      " [1. 0. 0. ... 0. 0. 0.]\n",
      " ...\n",
      " [0. 0. 0. ... 0. 0. 1.]\n",
      " [0. 0. 0. ... 0. 0. 1.]\n",
      " [0. 0. 0. ... 0. 0. 1.]]\n"
     ]
    }
   ],
   "source": [
    "train_labels = tf.keras.utils.to_categorical(train_labels_raw)\n",
    "valid_labels = tf.keras.utils.to_categorical(valid_labels_raw)\n",
    "print('train_labels.shape:', train_labels.shape)\n",
    "print('valid_labels.shape:', valid_labels.shape)\n",
    "print('valid_labels:\\n', valid_labels)"
   ]
  },
  {
   "cell_type": "markdown",
   "metadata": {},
   "source": [
    "# ResNet-50 From Scratch"
   ]
  },
  {
   "cell_type": "code",
   "execution_count": 8,
   "metadata": {},
   "outputs": [],
   "source": [
    "from tensorflow.keras.layers import Input\n",
    "from tensorflow.keras.layers import Conv2D, BatchNormalization, Activation, MaxPooling2D, Add\n",
    "from tensorflow.keras.layers import GlobalAveragePooling2D, Flatten, Dense"
   ]
  },
  {
   "cell_type": "code",
   "execution_count": 9,
   "metadata": {},
   "outputs": [],
   "source": [
    "def residual_block(X_start, filters, name, reduce=False, res_conv2d=False):\n",
    "    \"\"\"\n",
    "    Residual building block used by ResNet-50\n",
    "    \"\"\"\n",
    "    nb_filters_1, nb_filters_2, nb_filters_3 = filters\n",
    "    strides_1 = [2,2] if reduce else [1,1]\n",
    "        \n",
    "    X = Conv2D(filters=nb_filters_1, kernel_size=[1,1], strides=strides_1, padding='same', name=name)(X_start)\n",
    "    X = BatchNormalization()(X)      # default axis-1 is ok\n",
    "    X = Activation('relu')(X)\n",
    "    \n",
    "    X = Conv2D(filters=nb_filters_2, kernel_size=[3,3], strides=[1,1], padding='same')(X)\n",
    "    X = BatchNormalization()(X)\n",
    "    X = Activation('relu')(X)\n",
    "    \n",
    "    X = Conv2D(filters=nb_filters_3, kernel_size=[1,1], strides=[1,1], padding='same')(X)\n",
    "    X = BatchNormalization()(X)\n",
    "    \n",
    "    if res_conv2d:\n",
    "        X_res = Conv2D(filters=nb_filters_3, kernel_size=[1,1], strides=strides_1, padding='same')(X_start)\n",
    "        X_res = BatchNormalization()(X_res)\n",
    "    else:\n",
    "        X_res = X_start\n",
    "        \n",
    "    X = Add()([X, X_res])\n",
    "    X = Activation('relu')(X)\n",
    "    return X"
   ]
  },
  {
   "cell_type": "code",
   "execution_count": 12,
   "metadata": {},
   "outputs": [],
   "source": [
    "def resnet50(input_shape, nb_classes):\n",
    "    assert len(input_shape) == 3\n",
    "    \n",
    "    X_input = Input(shape=input_shape)\n",
    "\n",
    "    # conv1\n",
    "    X = Conv2D(filters=64, kernel_size=[7,7], strides=[2,2], padding='same', name='conv1')(X_input)\n",
    "    X = BatchNormalization(name='bn_conv1')(X)\n",
    "    X = Activation('relu')(X)\n",
    "    X = MaxPooling2D([3,3], strides=[2,2])(X)\n",
    "\n",
    "    # conv2_x\n",
    "    X = residual_block(X, filters=[64, 64, 256], name='conv2_a', reduce=False, res_conv2d=True)\n",
    "    X = residual_block(X, filters=[64, 64, 256], name='conv2_b')\n",
    "    X = residual_block(X, filters=[64, 64, 256], name='conv2_c')\n",
    "\n",
    "    # conv3_x\n",
    "    X = residual_block(X, filters=[128, 128, 512], name='conv3_a', reduce=True, res_conv2d=True)\n",
    "    X = residual_block(X, filters=[128, 128, 512], name='conv3_b')\n",
    "    X = residual_block(X, filters=[128, 128, 512], name='conv3_c')\n",
    "    X = residual_block(X, filters=[128, 128, 512], name='conv3_d')\n",
    "\n",
    "    # conv4_x\n",
    "    X = residual_block(X, filters=[256, 256, 1024], name='conv4_a', reduce=True, res_conv2d=True)\n",
    "    X = residual_block(X, filters=[256, 256, 1024], name='conv4_b')\n",
    "    X = residual_block(X, filters=[256, 256, 1024], name='conv4_c')\n",
    "    X = residual_block(X, filters=[256, 256, 1024], name='conv4_d')\n",
    "    X = residual_block(X, filters=[256, 256, 1024], name='conv4_e')\n",
    "    X = residual_block(X, filters=[256, 256, 1024], name='conv4_f')\n",
    "\n",
    "    # conv5_x\n",
    "    X = residual_block(X, filters=[512, 512, 2048], name='conv5_a', reduce=True, res_conv2d=True)\n",
    "    X = residual_block(X, filters=[512, 512, 2048], name='conv5_b')\n",
    "    X = residual_block(X, filters=[512, 512, 2048], name='conv5_c')\n",
    "\n",
    "    X = GlobalAveragePooling2D(name='avg_pool')(X)\n",
    "    X = Flatten()(X)\n",
    "    X = Dense(units=nb_classes, activation='softmax')(X)\n",
    "    \n",
    "    model = tf.keras.models.Model(inputs=X_input, outputs=X)\n",
    "    model.compile(optimizer=tf.keras.optimizers.Adam(lr=0.0001),\n",
    "                  loss='categorical_crossentropy', metrics=['accuracy'])\n",
    "    return model"
   ]
  },
  {
   "cell_type": "code",
   "execution_count": 13,
   "metadata": {},
   "outputs": [],
   "source": [
    "model = resnet50(input_shape=[224, 224, 3], nb_classes=17)\n",
    "# model.summary()  # this should be identical to tf.keras.applications.ResNet50()"
   ]
  },
  {
   "cell_type": "code",
   "execution_count": 14,
   "metadata": {},
   "outputs": [
    {
     "name": "stdout",
     "output_type": "stream",
     "text": [
      "Train on 1190 samples, validate on 170 samples\n",
      "Epoch 1/30\n",
      " - 29s - loss: 2.8798 - acc: 0.1378 - val_loss: 2.8288 - val_acc: 0.0529\n",
      "Epoch 2/30\n",
      " - 14s - loss: 2.1434 - acc: 0.2840 - val_loss: 3.0685 - val_acc: 0.0588\n",
      "Epoch 3/30\n",
      " - 14s - loss: 1.7837 - acc: 0.3882 - val_loss: 3.4104 - val_acc: 0.0824\n",
      "Epoch 4/30\n",
      " - 14s - loss: 1.5180 - acc: 0.4782 - val_loss: 3.7846 - val_acc: 0.0588\n",
      "Epoch 5/30\n",
      " - 14s - loss: 1.3824 - acc: 0.5336 - val_loss: 3.9308 - val_acc: 0.1353\n",
      "Epoch 6/30\n",
      " - 14s - loss: 1.1888 - acc: 0.5874 - val_loss: 3.7808 - val_acc: 0.1706\n",
      "Epoch 7/30\n",
      " - 14s - loss: 1.0881 - acc: 0.6395 - val_loss: 3.6273 - val_acc: 0.2176\n",
      "Epoch 8/30\n",
      " - 14s - loss: 0.9233 - acc: 0.6882 - val_loss: 4.5002 - val_acc: 0.1294\n",
      "Epoch 9/30\n",
      " - 14s - loss: 0.8287 - acc: 0.7445 - val_loss: 3.1837 - val_acc: 0.2765\n",
      "Epoch 10/30\n",
      " - 14s - loss: 0.7363 - acc: 0.7655 - val_loss: 2.5050 - val_acc: 0.3000\n",
      "Epoch 11/30\n",
      " - 14s - loss: 0.6023 - acc: 0.7891 - val_loss: 2.5601 - val_acc: 0.3647\n",
      "Epoch 12/30\n",
      " - 14s - loss: 0.4719 - acc: 0.8471 - val_loss: 2.5852 - val_acc: 0.3647\n",
      "Epoch 13/30\n",
      " - 14s - loss: 0.3990 - acc: 0.8765 - val_loss: 3.1330 - val_acc: 0.3176\n",
      "Epoch 14/30\n",
      " - 14s - loss: 0.3059 - acc: 0.9042 - val_loss: 2.6066 - val_acc: 0.4000\n",
      "Epoch 15/30\n",
      " - 14s - loss: 0.2976 - acc: 0.9067 - val_loss: 3.4222 - val_acc: 0.3765\n",
      "Epoch 16/30\n",
      " - 14s - loss: 0.2816 - acc: 0.9025 - val_loss: 3.7938 - val_acc: 0.3647\n",
      "Epoch 17/30\n",
      " - 14s - loss: 0.2419 - acc: 0.9244 - val_loss: 4.0333 - val_acc: 0.3353\n",
      "Epoch 18/30\n",
      " - 14s - loss: 0.1632 - acc: 0.9487 - val_loss: 3.5054 - val_acc: 0.3765\n",
      "Epoch 19/30\n",
      " - 14s - loss: 0.2063 - acc: 0.9378 - val_loss: 3.8563 - val_acc: 0.4000\n",
      "Epoch 20/30\n",
      " - 14s - loss: 0.2709 - acc: 0.9050 - val_loss: 3.6590 - val_acc: 0.3882\n",
      "Epoch 21/30\n",
      " - 14s - loss: 0.1628 - acc: 0.9504 - val_loss: 5.1278 - val_acc: 0.3000\n",
      "Epoch 22/30\n",
      " - 14s - loss: 0.1603 - acc: 0.9513 - val_loss: 3.2598 - val_acc: 0.4294\n",
      "Epoch 23/30\n",
      " - 14s - loss: 0.1499 - acc: 0.9513 - val_loss: 4.2802 - val_acc: 0.3471\n",
      "Epoch 24/30\n",
      " - 14s - loss: 0.1436 - acc: 0.9529 - val_loss: 3.0070 - val_acc: 0.4353\n",
      "Epoch 25/30\n",
      " - 14s - loss: 0.1132 - acc: 0.9697 - val_loss: 2.3844 - val_acc: 0.5000\n",
      "Epoch 26/30\n",
      " - 14s - loss: 0.0640 - acc: 0.9824 - val_loss: 2.6508 - val_acc: 0.4706\n",
      "Epoch 27/30\n",
      " - 14s - loss: 0.0757 - acc: 0.9782 - val_loss: 3.7830 - val_acc: 0.4118\n",
      "Epoch 28/30\n",
      " - 14s - loss: 0.0953 - acc: 0.9739 - val_loss: 3.0070 - val_acc: 0.3882\n",
      "Epoch 29/30\n",
      " - 14s - loss: 0.1299 - acc: 0.9597 - val_loss: 3.5514 - val_acc: 0.4000\n",
      "Epoch 30/30\n",
      " - 14s - loss: 0.1379 - acc: 0.9555 - val_loss: 4.0255 - val_acc: 0.3706\n"
     ]
    }
   ],
   "source": [
    "hist = model.fit(x=train_images, y=train_labels, batch_size=34, epochs=30,\n",
    "                 validation_data=(valid_images, valid_labels), verbose=2)"
   ]
  },
  {
   "cell_type": "code",
   "execution_count": 15,
   "metadata": {},
   "outputs": [
    {
     "data": {
      "image/png": "[encoded data removed]",
      "text/plain": [
       "<Figure size 1152x432 with 2 Axes>"
      ]
     },
     "metadata": {},
     "output_type": "display_data"
    }
   ],
   "source": [
    "fig, (ax1, ax2) = plt.subplots(nrows=1, ncols=2, figsize=[16,6])\n",
    "ax1.plot(hist.history['loss'], label='train_loss')\n",
    "ax1.plot(hist.history['val_loss'], label='valid_loss')\n",
    "ax1.legend()\n",
    "ax2.plot(hist.history['acc'], label='train_acc')\n",
    "ax2.plot(hist.history['val_acc'], label='valid_acc')\n",
    "ax2.legend();"
   ]
  },
  {
   "cell_type": "code",
   "execution_count": null,
   "metadata": {},
   "outputs": [],
   "source": []
  }
 ],
 "metadata": {
  "kernelspec": {
   "display_name": "Python 3",
   "language": "python",
   "name": "python3"
  },
  "language_info": {
   "codemirror_mode": {
    "name": "ipython",
    "version": 3
   },
   "file_extension": ".py",
   "mimetype": "text/x-python",
   "name": "python",
   "nbconvert_exporter": "python",
   "pygments_lexer": "ipython3",
   "version": "3.6.7"
  }
 },
 "nbformat": 4,
 "nbformat_minor": 2
}
