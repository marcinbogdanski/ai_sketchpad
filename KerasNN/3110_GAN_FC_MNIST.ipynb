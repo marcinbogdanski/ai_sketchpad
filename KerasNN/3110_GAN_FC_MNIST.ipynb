{
 "cells": [
  {
   "cell_type": "markdown",
   "metadata": {},
   "source": [
    "# Introduction"
   ]
  },
  {
   "cell_type": "markdown",
   "metadata": {},
   "source": [
    "This notebook presents a simple Generative Adversarial Network (GAN) and more advanced Deep Convolutional GAN. Both are applied MNIST dataset."
   ]
  },
  {
   "cell_type": "markdown",
   "metadata": {},
   "source": [
    "We will create three sub-graphs for GAN network as follows:\n",
    "\n",
    "* **Generator**: *noise -> MNIST images*, contains set of **Generator Weights**, weights are trained in Gan Model, so it doesn't need it's own optimizer\n",
    "* **Discriminator**: *MNIST images -> fake/real*, contains set of **Discriminator Weights**, trained like usual Keras model\n",
    "* **Gan Model**: noise -> fake/real, all weights are shared from generator/discriminator above, discriminator weights are set as non-trainable"
   ]
  },
  {
   "cell_type": "markdown",
   "metadata": {},
   "source": [
    "**Contents**\n",
    "\n",
    "* [MNIST Dataset](#MNIST-Dataset)\n",
    "* [Keras GAN](#Keras-GAN)\n",
    "* [Keras DCGAN](#Keras-DCGAN)"
   ]
  },
  {
   "cell_type": "markdown",
   "metadata": {},
   "source": [
    "# Imports"
   ]
  },
  {
   "cell_type": "code",
   "execution_count": 1,
   "metadata": {},
   "outputs": [],
   "source": [
    "import numpy as np\n",
    "import matplotlib.pyplot as plt"
   ]
  },
  {
   "cell_type": "markdown",
   "metadata": {},
   "source": [
    "Limit TensorFlow GPU memory usage"
   ]
  },
  {
   "cell_type": "code",
   "execution_count": 2,
   "metadata": {},
   "outputs": [],
   "source": [
    "import tensorflow as tf\n",
    "\n",
    "config = tf.ConfigProto()\n",
    "config.gpu_options.allow_growth = True\n",
    "with tf.Session(config=config):\n",
    "    pass  # init sessin with allow_growth"
   ]
  },
  {
   "cell_type": "markdown",
   "metadata": {},
   "source": [
    "# MNIST Dataset"
   ]
  },
  {
   "cell_type": "markdown",
   "metadata": {},
   "source": [
    "Load MNIST Dataset from Keras API. We only need train images, ignore labels and validation set."
   ]
  },
  {
   "cell_type": "code",
   "execution_count": 3,
   "metadata": {},
   "outputs": [],
   "source": [
    "(x_train_raw, _), (_, _) = tf.keras.datasets.mnist.load_data()"
   ]
  },
  {
   "cell_type": "markdown",
   "metadata": {},
   "source": [
    "Convert to -1..1 range to mach tanh output from generator"
   ]
  },
  {
   "cell_type": "code",
   "execution_count": 4,
   "metadata": {},
   "outputs": [
    {
     "name": "stdout",
     "output_type": "stream",
     "text": [
      "x_train.shape: (60000, 784)\n",
      "x_train.min(): -1.0\n",
      "x_train.max(): 1.0\n",
      "x_train:\n",
      " [[-1. -1. -1. ... -1. -1. -1.]\n",
      " [-1. -1. -1. ... -1. -1. -1.]\n",
      " [-1. -1. -1. ... -1. -1. -1.]\n",
      " ...\n",
      " [-1. -1. -1. ... -1. -1. -1.]\n",
      " [-1. -1. -1. ... -1. -1. -1.]\n",
      " [-1. -1. -1. ... -1. -1. -1.]]\n"
     ]
    }
   ],
   "source": [
    "x_train = (x_train_raw-127.5) / 127.5\n",
    "x_train = x_train.reshape([len(x_train), -1])\n",
    "print('x_train.shape:', x_train.shape)\n",
    "print('x_train.min():', x_train.min())\n",
    "print('x_train.max():', x_train.max())\n",
    "print('x_train:\\n', x_train)"
   ]
  },
  {
   "cell_type": "markdown",
   "metadata": {},
   "source": [
    "# Keras GAN"
   ]
  },
  {
   "cell_type": "markdown",
   "metadata": {},
   "source": [
    "**Generator**"
   ]
  },
  {
   "cell_type": "markdown",
   "metadata": {},
   "source": [
    "* converts *noise* input into *MNIST-like* image\n",
    "* there is no name to compile model, we never optimize generator directly\n",
    "* I don't think this is an efficient implementation (although very common on the internet) - alternative would be to feed noise directly to gan_model and remove *generator.predict()* call in the train loop."
   ]
  },
  {
   "cell_type": "code",
   "execution_count": 5,
   "metadata": {},
   "outputs": [
    {
     "name": "stdout",
     "output_type": "stream",
     "text": [
      "_________________________________________________________________\n",
      "Layer (type)                 Output Shape              Param #   \n",
      "=================================================================\n",
      "GenHidden (Dense)            (None, 128)               12928     \n",
      "_________________________________________________________________\n",
      "GenOutput (Dense)            (None, 784)               101136    \n",
      "=================================================================\n",
      "Total params: 114,064\n",
      "Trainable params: 114,064\n",
      "Non-trainable params: 0\n",
      "_________________________________________________________________\n"
     ]
    }
   ],
   "source": [
    "from tensorflow.keras.layers import InputLayer, Dense                # InputLayer for pretier names in TensorBoard\n",
    "\n",
    "generator = tf.keras.Sequential(name='Generator')\n",
    "generator.add(InputLayer(input_shape=(100,), name='GenInput'))       # random noise input\n",
    "generator.add(Dense(units=128, activation='elu', name='GenHidden'))  # one hidden layer\n",
    "generator.add(Dense(784, activation='tanh', name='GenOutput'))       # MNIST-like output\n",
    "# generator.compile(...)                                             # no need\n",
    "generator.summary()"
   ]
  },
  {
   "cell_type": "markdown",
   "metadata": {},
   "source": [
    "<img src=\"assets/gan_mlp_generator.png\"/>"
   ]
  },
  {
   "cell_type": "markdown",
   "metadata": {},
   "source": [
    "Optional: see graph created so far in TensorBoard"
   ]
  },
  {
   "cell_type": "code",
   "execution_count": 6,
   "metadata": {},
   "outputs": [],
   "source": [
    "# writer = tf.summary.FileWriter(logdir='tf_log', graph=tf.get_default_graph())\n",
    "# writer.flush()"
   ]
  },
  {
   "cell_type": "markdown",
   "metadata": {},
   "source": [
    "**Discriminator**"
   ]
  },
  {
   "cell_type": "markdown",
   "metadata": {},
   "source": [
    "* input is *MNIST-like* image, output is *fake/true label*"
   ]
  },
  {
   "cell_type": "code",
   "execution_count": 7,
   "metadata": {},
   "outputs": [
    {
     "name": "stdout",
     "output_type": "stream",
     "text": [
      "_________________________________________________________________\n",
      "Layer (type)                 Output Shape              Param #   \n",
      "=================================================================\n",
      "DiscHidden (Dense)           (None, 128)               100480    \n",
      "_________________________________________________________________\n",
      "DiscOut (Dense)              (None, 1)                 129       \n",
      "=================================================================\n",
      "Total params: 100,609\n",
      "Trainable params: 100,609\n",
      "Non-trainable params: 0\n",
      "_________________________________________________________________\n"
     ]
    }
   ],
   "source": [
    "discriminator = tf.keras.Sequential(name='Discriminator')\n",
    "discriminator.add(InputLayer(input_shape=(784,), name='DiscInput'))\n",
    "discriminator.add(Dense(units=128, activation='elu', input_dim=784, name='DiscHidden'))\n",
    "discriminator.add(Dense(units=1, activation='sigmoid', name='DiscOut'))\n",
    "discriminator.compile(optimizer='adam', loss='binary_crossentropy')\n",
    "#discriminator.compile(optimizer=tf.keras.optimizers.Adam(lr=0.002), loss='binary_crossentropy')\n",
    "discriminator.summary()"
   ]
  },
  {
   "cell_type": "markdown",
   "metadata": {},
   "source": [
    "<img src=\"assets/gan_mlp_discriminator.png\"/>"
   ]
  },
  {
   "cell_type": "markdown",
   "metadata": {},
   "source": [
    "Optional: see graph created so far in TensorBoard - this should produce two independent sub-graphs, one for generator and one for discriminator"
   ]
  },
  {
   "cell_type": "code",
   "execution_count": 8,
   "metadata": {},
   "outputs": [],
   "source": [
    "# writer = tf.summary.FileWriter(logdir='tf_log', graph=tf.get_default_graph())\n",
    "# writer.flush()"
   ]
  },
  {
   "cell_type": "markdown",
   "metadata": {},
   "source": [
    "**GAN Model**"
   ]
  },
  {
   "cell_type": "markdown",
   "metadata": {},
   "source": [
    "* we need to set discriminator part as non-trainable before calling compile() - this doesn't affect previously created discriminator\n",
    "* changing discriminator trainable flag after compile() call has no effect on weights being trainable or not\n",
    "* note that even though this creates new sub-graph, all weights are shared from generator and discriminator above"
   ]
  },
  {
   "cell_type": "code",
   "execution_count": 9,
   "metadata": {},
   "outputs": [
    {
     "name": "stdout",
     "output_type": "stream",
     "text": [
      "_________________________________________________________________\n",
      "Layer (type)                 Output Shape              Param #   \n",
      "=================================================================\n",
      "Generator (Sequential)       (None, 784)               114064    \n",
      "_________________________________________________________________\n",
      "Discriminator (Sequential)   (None, 1)                 100609    \n",
      "=================================================================\n",
      "Total params: 214,673\n",
      "Trainable params: 114,064\n",
      "Non-trainable params: 100,609\n",
      "_________________________________________________________________\n"
     ]
    }
   ],
   "source": [
    "discriminator.trainable = False                                  # must make non-trainable before compiling gan_model\n",
    "gan_model = tf.keras.Sequential(name='GAN')                      # (this doesn't affect anything we done earlier)a\n",
    "gan_model.add(InputLayer(input_shape=(100,), name='GANInput'))\n",
    "gan_model.add(generator)\n",
    "gan_model.add(discriminator)\n",
    "gan_model.compile(optimizer='adam', loss='binary_crossentropy')\n",
    "#gan_model.compile(optimizer=tf.keras.optimizers.Adam(lr=0.002), loss='binary_crossentropy')\n",
    "gan_model.summary()"
   ]
  },
  {
   "cell_type": "markdown",
   "metadata": {},
   "source": [
    "<img src=\"assets/gan_mlp_gan_model.png\"/>"
   ]
  },
  {
   "cell_type": "markdown",
   "metadata": {},
   "source": [
    "Optional: see graph created so far in TensorBoard - because weights are shared this will create somewhat messy rendering of three sub-graphs"
   ]
  },
  {
   "cell_type": "markdown",
   "metadata": {},
   "source": [
    "**Train GAN**"
   ]
  },
  {
   "cell_type": "code",
   "execution_count": 10,
   "metadata": {},
   "outputs": [],
   "source": [
    "n_batch = 200\n",
    "n_epochs = 20"
   ]
  },
  {
   "cell_type": "code",
   "execution_count": 11,
   "metadata": {},
   "outputs": [
    {
     "name": "stdout",
     "output_type": "stream",
     "text": [
      "epoch:   0     gloss: 1.60     dloss: 0.29\n",
      "epoch:   1     gloss: 2.86     dloss: 0.21\n",
      "epoch:   2     gloss: 3.02     dloss: 0.24\n",
      "epoch:   3     gloss: 3.63     dloss: 0.29\n",
      "epoch:   4     gloss: 3.38     dloss: 0.31\n",
      "epoch:   5     gloss: 3.58     dloss: 0.30\n",
      "epoch:   6     gloss: 3.31     dloss: 0.43\n",
      "epoch:   7     gloss: 3.46     dloss: 0.24\n",
      "epoch:   8     gloss: 2.39     dloss: 0.42\n",
      "epoch:   9     gloss: 2.30     dloss: 0.41\n",
      "epoch:  10     gloss: 1.69     dloss: 0.50\n",
      "epoch:  11     gloss: 3.09     dloss: 0.38\n",
      "epoch:  12     gloss: 2.43     dloss: 0.40\n",
      "epoch:  13     gloss: 2.43     dloss: 0.39\n",
      "epoch:  14     gloss: 2.35     dloss: 0.66\n",
      "epoch:  15     gloss: 2.16     dloss: 0.83\n",
      "epoch:  16     gloss: 2.33     dloss: 0.49\n",
      "epoch:  17     gloss: 2.42     dloss: 0.48\n",
      "epoch:  18     gloss: 2.78     dloss: 0.48\n",
      "epoch:  19     gloss: 1.80     dloss: 0.59\n"
     ]
    }
   ],
   "source": [
    "losses = {'gen':[], 'disc':[]}\n",
    "indices = np.array(range(len(x_train)))\n",
    "\n",
    "for e in range(n_epochs):\n",
    "    np.random.shuffle(indices)\n",
    "    for i in range(0, len(x_train), n_batch):\n",
    "        \n",
    "        # Generate fake images\n",
    "        noise = np.random.normal(size=[n_batch, 100])             # shape (n_batch, n_rand)\n",
    "        x_fake = generator.predict(noise, batch_size=n_batch)     # shape (n_batch, n_data)\n",
    "\n",
    "        # Pick next batch of real images\n",
    "        i_batch = indices[i:i+n_batch]\n",
    "        x_real = x_train[i_batch]\n",
    "\n",
    "        # Join real and fake into one batch\n",
    "        x_all = np.concatenate([x_real, x_fake])\n",
    "        y_all = np.concatenate([.9 * np.ones([n_batch,1]),        # use .9 instead 1 as discriminator target\n",
    "                                np.zeros([n_batch,1])])           # this is called 'smoothing' and improves learning\n",
    "\n",
    "        # Train discriminator\n",
    "        discriminator.trainable = True                            # get rid of warning messages (doesn't affect training)\n",
    "        dloss = discriminator.train_on_batch(x_all, y_all)        # this trains only discriminator, doesn't touch gen.\n",
    "        \n",
    "        noise = np.random.normal(size=[n_batch, 100])\n",
    "        y_fake = np.ones([n_batch, 1])\n",
    "        discriminator.trainable = False                           # get rid of warning messages \n",
    "        gloss = gan_model.train_on_batch(noise, y_fake)\n",
    "        \n",
    "        losses['disc'].append(dloss)\n",
    "        losses['gen'].append(gloss)\n",
    "        \n",
    "    print(f'epoch: {e:3}     gloss: {gloss:4.2f}     dloss: {dloss:4.2f}')"
   ]
  },
  {
   "cell_type": "markdown",
   "metadata": {},
   "source": [
    "Plot losses during training"
   ]
  },
  {
   "cell_type": "code",
   "execution_count": 12,
   "metadata": {},
   "outputs": [
    {
     "data": {
      "image/png": "[encoded data removed]",
      "text/plain": [
       "<Figure size 432x288 with 1 Axes>"
      ]
     },
     "metadata": {},
     "output_type": "display_data"
    }
   ],
   "source": [
    "plt.plot(losses['disc'], label='disc_loss')\n",
    "plt.plot(losses['gen'], label='gen_loss')\n",
    "plt.title('Losses')\n",
    "plt.legend();"
   ]
  },
  {
   "cell_type": "markdown",
   "metadata": {},
   "source": [
    "Helper to show bunch of MNIST-like images"
   ]
  },
  {
   "cell_type": "code",
   "execution_count": 20,
   "metadata": {},
   "outputs": [],
   "source": [
    "def show_images(x):\n",
    "    fig, axes = plt.subplots(nrows=1, ncols=len(x), figsize=[20,4])\n",
    "    for i, ax in enumerate(axes):\n",
    "        ax.imshow(x[i].reshape([28,28]), cmap='gray', vmin=-1, vmax=1)\n",
    "        ax.axis('off')"
   ]
  },
  {
   "cell_type": "markdown",
   "metadata": {},
   "source": [
    "Show some real images"
   ]
  },
  {
   "cell_type": "code",
   "execution_count": 21,
   "metadata": {},
   "outputs": [
    {
     "data": {
      "image/png": "[encoded data removed]",
      "text/plain": [
       "<Figure size 1440x288 with 10 Axes>"
      ]
     },
     "metadata": {},
     "output_type": "display_data"
    }
   ],
   "source": [
    "real_imgs = x_train[0:10]\n",
    "show_images(real_imgs)"
   ]
  },
  {
   "cell_type": "markdown",
   "metadata": {},
   "source": [
    "Show some fakes"
   ]
  },
  {
   "cell_type": "code",
   "execution_count": 22,
   "metadata": {},
   "outputs": [
    {
     "data": {
      "image/png": "[encoded data removed]",
      "text/plain": [
       "<Figure size 1440x288 with 10 Axes>"
      ]
     },
     "metadata": {},
     "output_type": "display_data"
    }
   ],
   "source": [
    "noise = np.random.normal(size=[10, 100])\n",
    "fake_imgs = generator.predict(x=noise, batch_size=10)\n",
    "show_images(fake_imgs)"
   ]
  },
  {
   "cell_type": "markdown",
   "metadata": {},
   "source": [
    "**Generate Graphs**"
   ]
  },
  {
   "cell_type": "markdown",
   "metadata": {},
   "source": [
    "This was used to generate graphs in this post"
   ]
  },
  {
   "cell_type": "code",
   "execution_count": 23,
   "metadata": {},
   "outputs": [],
   "source": [
    "# tf.keras.utils.plot_model(generator, to_file='assets/gan_mlp_generator.png', show_shapes=True)\n",
    "# tf.keras.utils.plot_model(discriminator, to_file='assets/gan_mlp_discriminator.png', show_shapes=True)\n",
    "# tf.keras.utils.plot_model(model, to_file='assets/gan_mlp_gan_model.png', show_shapes=True)"
   ]
  }
 ],
 "metadata": {
  "kernelspec": {
   "display_name": "Python 3",
   "language": "python",
   "name": "python3"
  },
  "language_info": {
   "codemirror_mode": {
    "name": "ipython",
    "version": 3
   },
   "file_extension": ".py",
   "mimetype": "text/x-python",
   "name": "python",
   "nbconvert_exporter": "python",
   "pygments_lexer": "ipython3",
   "version": "3.6.7"
  }
 },
 "nbformat": 4,
 "nbformat_minor": 2
}
