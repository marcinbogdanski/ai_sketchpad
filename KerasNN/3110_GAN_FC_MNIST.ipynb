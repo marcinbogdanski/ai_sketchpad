{
 "cells": [
  {
   "cell_type": "markdown",
   "metadata": {},
   "source": [
    "# Introduction"
   ]
  },
  {
   "cell_type": "markdown",
   "metadata": {},
   "source": [
    "This notebook presents a simple Generative Adversarial Network (GAN) and more advanced Deep Convolutional GAN. Both are applied MNIST dataset."
   ]
  },
  {
   "cell_type": "markdown",
   "metadata": {},
   "source": [
    "We will create three sub-graphs for GAN network as follows:\n",
    "\n",
    "* **Generator**: *noise -> MNIST images*, contains set of **Generator Weights**, weights are trained in Gan Model, so it doesn't need it's own optimizer\n",
    "* **Discriminator**: *MNIST images -> fake/real*, contains set of **Discriminator Weights**, trained like usual Keras model\n",
    "* **Gan Model**: noise -> fake/real, all weights are shared from generator/discriminator above, discriminator weights are set as non-trainable"
   ]
  },
  {
   "cell_type": "markdown",
   "metadata": {},
   "source": [
    "**Contents**\n",
    "\n",
    "* [MNIST Dataset](#MNIST-Dataset)\n",
    "* [Keras GAN](#Keras-GAN)\n",
    "* [Keras DCGAN](#Keras-DCGAN)"
   ]
  },
  {
   "cell_type": "markdown",
   "metadata": {},
   "source": [
    "# Imports"
   ]
  },
  {
   "cell_type": "code",
   "execution_count": 1,
   "metadata": {},
   "outputs": [],
   "source": [
    "import numpy as np\n",
    "import matplotlib.pyplot as plt"
   ]
  },
  {
   "cell_type": "markdown",
   "metadata": {},
   "source": [
    "Limit TensorFlow GPU memory usage"
   ]
  },
  {
   "cell_type": "code",
   "execution_count": 2,
   "metadata": {},
   "outputs": [],
   "source": [
    "import tensorflow as tf\n",
    "\n",
    "config = tf.ConfigProto()\n",
    "config.gpu_options.allow_growth = True\n",
    "with tf.Session(config=config):\n",
    "    pass  # init sessin with allow_growth"
   ]
  },
  {
   "cell_type": "code",
   "execution_count": null,
   "metadata": {},
   "outputs": [],
   "source": []
  },
  {
   "cell_type": "code",
   "execution_count": null,
   "metadata": {},
   "outputs": [],
   "source": []
  },
  {
   "cell_type": "code",
   "execution_count": 3,
   "metadata": {},
   "outputs": [],
   "source": [
    "#import os\n",
    "#from tqdm import tqdm"
   ]
  },
  {
   "cell_type": "code",
   "execution_count": 4,
   "metadata": {},
   "outputs": [],
   "source": [
    "#from tensorflow.keras.layers import Imput, "
   ]
  },
  {
   "cell_type": "code",
   "execution_count": null,
   "metadata": {},
   "outputs": [],
   "source": []
  },
  {
   "cell_type": "code",
   "execution_count": null,
   "metadata": {},
   "outputs": [],
   "source": []
  },
  {
   "cell_type": "code",
   "execution_count": null,
   "metadata": {},
   "outputs": [],
   "source": []
  },
  {
   "cell_type": "code",
   "execution_count": null,
   "metadata": {},
   "outputs": [],
   "source": []
  },
  {
   "cell_type": "code",
   "execution_count": null,
   "metadata": {},
   "outputs": [],
   "source": []
  },
  {
   "cell_type": "code",
   "execution_count": null,
   "metadata": {},
   "outputs": [],
   "source": []
  },
  {
   "cell_type": "markdown",
   "metadata": {},
   "source": [
    "# MNIST Dataset"
   ]
  },
  {
   "cell_type": "markdown",
   "metadata": {},
   "source": [
    "Load MNIST Dataset from Keras API. We only need train images, ignore labels and validation set."
   ]
  },
  {
   "cell_type": "code",
   "execution_count": 5,
   "metadata": {},
   "outputs": [],
   "source": [
    "(x_train_raw, _), (_, _) = tf.keras.datasets.mnist.load_data()"
   ]
  },
  {
   "cell_type": "markdown",
   "metadata": {},
   "source": [
    "Convert to -1..1 range to mach tanh output from generator"
   ]
  },
  {
   "cell_type": "code",
   "execution_count": 6,
   "metadata": {},
   "outputs": [
    {
     "name": "stdout",
     "output_type": "stream",
     "text": [
      "x_train.shape: (60000, 784)\n",
      "x_train.min(): -1.0\n",
      "x_train.max(): 1.0\n",
      "x_train:\n",
      " [[-1. -1. -1. ... -1. -1. -1.]\n",
      " [-1. -1. -1. ... -1. -1. -1.]\n",
      " [-1. -1. -1. ... -1. -1. -1.]\n",
      " ...\n",
      " [-1. -1. -1. ... -1. -1. -1.]\n",
      " [-1. -1. -1. ... -1. -1. -1.]\n",
      " [-1. -1. -1. ... -1. -1. -1.]]\n"
     ]
    }
   ],
   "source": [
    "x_train = (x_train_raw-127.5) / 127.5\n",
    "x_train = x_train.reshape([len(x_train), -1])\n",
    "print('x_train.shape:', x_train.shape)\n",
    "print('x_train.min():', x_train.min())\n",
    "print('x_train.max():', x_train.max())\n",
    "print('x_train:\\n', x_train)"
   ]
  },
  {
   "cell_type": "markdown",
   "metadata": {},
   "source": [
    "# Keras GAN"
   ]
  },
  {
   "cell_type": "markdown",
   "metadata": {},
   "source": [
    "**Generator**"
   ]
  },
  {
   "cell_type": "markdown",
   "metadata": {},
   "source": [
    "* converts *noise* input into *MNIST-like* image\n",
    "* there is no name to compile model, we never optimize generator directly\n",
    "* I don't think this is an efficient implementation (although very common on the internet) - alternative would be to feed noise directly to gan_model and remove *generator.predict()* call in the train loop."
   ]
  },
  {
   "cell_type": "code",
   "execution_count": 7,
   "metadata": {},
   "outputs": [
    {
     "name": "stdout",
     "output_type": "stream",
     "text": [
      "_________________________________________________________________\n",
      "Layer (type)                 Output Shape              Param #   \n",
      "=================================================================\n",
      "GenHidden (Dense)            (None, 128)               12928     \n",
      "_________________________________________________________________\n",
      "GenOutput (Dense)            (None, 784)               101136    \n",
      "=================================================================\n",
      "Total params: 114,064\n",
      "Trainable params: 114,064\n",
      "Non-trainable params: 0\n",
      "_________________________________________________________________\n"
     ]
    }
   ],
   "source": [
    "from tensorflow.keras.layers import InputLayer, Dense  # InputLayer for pretier names in TensorBoard\n",
    "\n",
    "generator = tf.keras.Sequential(name='Generator')\n",
    "generator.add(InputLayer(input_shape=(100,), name='GenInput'))\n",
    "generator.add(Dense(units=128, activation='elu', name='GenHidden'))\n",
    "generator.add(Dense(784, activation='tanh', name='GenOutput'))\n",
    "# generator.compile(...)                                            # no need\n",
    "generator.summary()"
   ]
  },
  {
   "cell_type": "markdown",
   "metadata": {},
   "source": [
    "<img src=\"assets/gan_mlp_generator.png\"/>"
   ]
  },
  {
   "cell_type": "markdown",
   "metadata": {},
   "source": [
    "Optional: see graph created so far in TensorBoard"
   ]
  },
  {
   "cell_type": "code",
   "execution_count": 8,
   "metadata": {},
   "outputs": [],
   "source": [
    "# writer = tf.summary.FileWriter(logdir='tf_log', graph=tf.get_default_graph())\n",
    "# writer.flush()"
   ]
  },
  {
   "cell_type": "markdown",
   "metadata": {},
   "source": [
    "**Discriminator**"
   ]
  },
  {
   "cell_type": "markdown",
   "metadata": {},
   "source": [
    "* input is *MNIST-like* image, output is *fake/true label*"
   ]
  },
  {
   "cell_type": "code",
   "execution_count": 9,
   "metadata": {},
   "outputs": [
    {
     "name": "stdout",
     "output_type": "stream",
     "text": [
      "_________________________________________________________________\n",
      "Layer (type)                 Output Shape              Param #   \n",
      "=================================================================\n",
      "DiscHidden (Dense)           (None, 128)               100480    \n",
      "_________________________________________________________________\n",
      "DiscOut (Dense)              (None, 1)                 129       \n",
      "=================================================================\n",
      "Total params: 100,609\n",
      "Trainable params: 100,609\n",
      "Non-trainable params: 0\n",
      "_________________________________________________________________\n"
     ]
    }
   ],
   "source": [
    "discriminator = tf.keras.Sequential(name='Discriminator')\n",
    "discriminator.add(InputLayer(input_shape=(784,), name='DiscInput'))\n",
    "discriminator.add(Dense(units=128, activation='elu', input_dim=784, name='DiscHidden'))\n",
    "discriminator.add(Dense(units=1, activation='sigmoid', name='DiscOut'))\n",
    "#discriminator.compile(optimizer='adam', loss='binary_crossentropy')\n",
    "discriminator.compile(optimizer=tf.keras.optimizers.Adam(lr=0.002), loss='binary_crossentropy')\n",
    "discriminator.summary()"
   ]
  },
  {
   "cell_type": "markdown",
   "metadata": {},
   "source": [
    "<img src=\"assets/gan_mlp_discriminator.png\"/>"
   ]
  },
  {
   "cell_type": "markdown",
   "metadata": {},
   "source": [
    "Optional: see graph created so far in TensorBoard - this should produce two independent sub-graphs, one for generator and one for discriminator"
   ]
  },
  {
   "cell_type": "code",
   "execution_count": 10,
   "metadata": {},
   "outputs": [],
   "source": [
    "# writer = tf.summary.FileWriter(logdir='tf_log', graph=tf.get_default_graph())\n",
    "# writer.flush()"
   ]
  },
  {
   "cell_type": "markdown",
   "metadata": {},
   "source": [
    "**GAN Model**"
   ]
  },
  {
   "cell_type": "markdown",
   "metadata": {},
   "source": [
    "* we need to set discriminator part as non-trainable before calling compile() - this doesn't affect previously created discriminator\n",
    "* changing discriminator trainable flag after compile() call has no effect on weights being trainable or not\n",
    "* note that even though this creates new sub-graph, all weights are shared from generator and discriminator above"
   ]
  },
  {
   "cell_type": "code",
   "execution_count": 11,
   "metadata": {},
   "outputs": [
    {
     "name": "stdout",
     "output_type": "stream",
     "text": [
      "_________________________________________________________________\n",
      "Layer (type)                 Output Shape              Param #   \n",
      "=================================================================\n",
      "Generator (Sequential)       (None, 784)               114064    \n",
      "_________________________________________________________________\n",
      "Discriminator (Sequential)   (None, 1)                 100609    \n",
      "=================================================================\n",
      "Total params: 214,673\n",
      "Trainable params: 114,064\n",
      "Non-trainable params: 100,609\n",
      "_________________________________________________________________\n"
     ]
    }
   ],
   "source": [
    "discriminator.trainable = False                                  # must make non-trainable before compiling gan_model\n",
    "gan_model = tf.keras.Sequential(name='GAN')                      # (this doesn't affect anything we done earlier)a\n",
    "gan_model.add(InputLayer(input_shape=(100,), name='GANInput'))\n",
    "gan_model.add(generator)\n",
    "gan_model.add(discriminator)\n",
    "#gan_model.compile(optimizer='adam', loss='binary_crossentropy')\n",
    "gan_model.compile(optimizer=tf.keras.optimizers.Adam(lr=0.002), loss='binary_crossentropy')\n",
    "gan_model.summary()"
   ]
  },
  {
   "cell_type": "markdown",
   "metadata": {},
   "source": [
    "<img src=\"assets/gan_mlp_gan_model.png\"/>"
   ]
  },
  {
   "cell_type": "markdown",
   "metadata": {},
   "source": [
    "Optional: see graph created so far in TensorBoard - because weights are shared this will create somewhat messy rendering of three sub-graphs"
   ]
  },
  {
   "cell_type": "markdown",
   "metadata": {},
   "source": [
    "**Train GAN**"
   ]
  },
  {
   "cell_type": "code",
   "execution_count": 12,
   "metadata": {},
   "outputs": [
    {
     "data": {
      "image/png": "[encoded data removed]",
      "text/plain": [
       "<Figure size 432x288 with 1 Axes>"
      ]
     },
     "metadata": {},
     "output_type": "display_data"
    },
    {
     "data": {
      "image/png": "[encoded data removed]",
      "text/plain": [
       "<Figure size 432x288 with 1 Axes>"
      ]
     },
     "metadata": {},
     "output_type": "display_data"
    },
    {
     "data": {
      "image/png": "[encoded data removed]",
      "text/plain": [
       "<Figure size 432x288 with 1 Axes>"
      ]
     },
     "metadata": {},
     "output_type": "display_data"
    },
    {
     "data": {
      "image/png": "[encoded data removed]",
      "text/plain": [
       "<Figure size 432x288 with 1 Axes>"
      ]
     },
     "metadata": {},
     "output_type": "display_data"
    }
   ],
   "source": [
    "plt.hist(generator.get_weights()[0].ravel(), bins=100);  plt.show();\n",
    "plt.hist(generator.get_weights()[1].ravel(), bins=100);  plt.show();\n",
    "plt.hist(generator.get_weights()[2].ravel(), bins=100);  plt.show();\n",
    "plt.hist(generator.get_weights()[3].ravel(), bins=100);  plt.show();"
   ]
  },
  {
   "cell_type": "code",
   "execution_count": 13,
   "metadata": {
    "scrolled": false
   },
   "outputs": [
    {
     "data": {
      "image/png": "[encoded data removed]",
      "text/plain": [
       "<Figure size 432x288 with 1 Axes>"
      ]
     },
     "metadata": {},
     "output_type": "display_data"
    },
    {
     "data": {
      "image/png": "[encoded data removed]",
      "text/plain": [
       "<Figure size 432x288 with 1 Axes>"
      ]
     },
     "metadata": {},
     "output_type": "display_data"
    },
    {
     "data": {
      "image/png": "[encoded data removed]",
      "text/plain": [
       "<Figure size 432x288 with 1 Axes>"
      ]
     },
     "metadata": {},
     "output_type": "display_data"
    },
    {
     "data": {
      "image/png": "[encoded data removed]",
      "text/plain": [
       "<Figure size 432x288 with 1 Axes>"
      ]
     },
     "metadata": {},
     "output_type": "display_data"
    }
   ],
   "source": [
    "plt.hist(discriminator.get_weights()[0].ravel(), bins=100);  plt.show();\n",
    "plt.hist(discriminator.get_weights()[1].ravel(), bins=100);  plt.show();\n",
    "plt.hist(discriminator.get_weights()[2].ravel(), bins=100);  plt.show();\n",
    "plt.hist(discriminator.get_weights()[3].ravel(), bins=100);  plt.show();"
   ]
  },
  {
   "cell_type": "code",
   "execution_count": 14,
   "metadata": {},
   "outputs": [],
   "source": [
    "n_batch = 100\n",
    "n_epochs = 20"
   ]
  },
  {
   "cell_type": "code",
   "execution_count": 15,
   "metadata": {},
   "outputs": [
    {
     "name": "stdout",
     "output_type": "stream",
     "text": [
      "epoch:   0     gloss: 3.41     dloss: 0.27\n",
      "epoch:   1     gloss: 6.11     dloss: 0.26\n",
      "epoch:   2     gloss: 3.09     dloss: 0.49\n",
      "epoch:   3     gloss: 3.31     dloss: 0.33\n",
      "epoch:   4     gloss: 2.12     dloss: 0.43\n",
      "epoch:   5     gloss: 3.90     dloss: 0.50\n",
      "epoch:   6     gloss: 2.73     dloss: 0.55\n",
      "epoch:   7     gloss: 2.52     dloss: 0.36\n",
      "epoch:   8     gloss: 3.30     dloss: 0.38\n",
      "epoch:   9     gloss: 2.76     dloss: 0.55\n",
      "epoch:  10     gloss: 2.83     dloss: 0.42\n",
      "epoch:  11     gloss: 2.74     dloss: 0.61\n",
      "epoch:  12     gloss: 2.36     dloss: 0.55\n",
      "epoch:  13     gloss: 2.31     dloss: 0.55\n",
      "epoch:  14     gloss: 2.83     dloss: 0.53\n",
      "epoch:  15     gloss: 1.98     dloss: 0.61\n",
      "epoch:  16     gloss: 1.75     dloss: 0.50\n",
      "epoch:  17     gloss: 1.85     dloss: 0.62\n",
      "epoch:  18     gloss: 1.85     dloss: 0.66\n",
      "epoch:  19     gloss: 1.84     dloss: 0.51\n"
     ]
    }
   ],
   "source": [
    "losses = {'gen':[], 'disc':[]}\n",
    "indices = np.array(range(len(x_train)))\n",
    "\n",
    "for e in range(n_epochs):\n",
    "    np.random.shuffle(indices)\n",
    "    for i in range(0, len(x_train), n_batch):\n",
    "\n",
    "        #noise = np.random.normal(size=[n_batch, 100])              # shape (n_batch, n_rand)\n",
    "        noise = np.random.uniform(-1, 1, size=[n_batch, 100])\n",
    "        x_fake = generator.predict(noise, batch_size=n_batch)       # shape (n_batch, n_data)\n",
    "\n",
    "        \n",
    "        #show_images(x_fake[10:20])\n",
    "        #break\n",
    "        \n",
    "        i_batch = indices[i:i+n_batch]\n",
    "        x_real = x_train[i_batch]\n",
    "\n",
    "        x_all = np.concatenate([x_real, x_fake])\n",
    "        y_all = np.concatenate([.9 * np.ones([n_batch,1]),\n",
    "                                np.zeros([n_batch,1])])\n",
    "\n",
    "        Wg = generator.get_weights()[0]\n",
    "        Wd = discriminator.get_weights()[0]\n",
    "        discriminator.trainable = True\n",
    "        dloss = discriminator.train_on_batch(x_all, y_all)\n",
    "        discriminator.trainable = False\n",
    "        assert np.alltrue(Wg == generator.get_weights()[0])\n",
    "        assert np.any(Wd != discriminator.get_weights()[0])\n",
    "\n",
    "\n",
    "        Wg = generator.get_weights()[0]\n",
    "        Wd = discriminator.get_weights()[0]\n",
    "        #noise = np.random.normal(size=[n_batch, 100])\n",
    "        #noise = np.random.uniform(-1, 1, size=[n_batch, 100])\n",
    "        y_fake = np.ones([n_batch, 1])\n",
    "        gloss = gan_model.train_on_batch(noise, y_fake)\n",
    "        assert np.any(Wg != generator.get_weights()[0])\n",
    "        assert np.alltrue(Wd == discriminator.get_weights()[0])\n",
    "\n",
    "        losses['disc'].append(dloss)\n",
    "        losses['gen'].append(gloss)\n",
    "\n",
    "    print(f'epoch: {e:3}     gloss: {gloss:4.2f}     dloss: {dloss:4.2f}')\n"
   ]
  },
  {
   "cell_type": "code",
   "execution_count": null,
   "metadata": {},
   "outputs": [],
   "source": []
  },
  {
   "cell_type": "code",
   "execution_count": 16,
   "metadata": {},
   "outputs": [
    {
     "data": {
      "image/png": "[encoded data removed]",
      "text/plain": [
       "<Figure size 432x288 with 1 Axes>"
      ]
     },
     "metadata": {},
     "output_type": "display_data"
    }
   ],
   "source": [
    "plt.plot(losses['disc'], label='disc_loss')\n",
    "plt.plot(losses['gen'], label='gen_loss')\n",
    "plt.title('Losses')\n",
    "plt.legend();"
   ]
  },
  {
   "cell_type": "code",
   "execution_count": 17,
   "metadata": {},
   "outputs": [
    {
     "data": {
      "image/png": "[encoded data removed]",
      "text/plain": [
       "<Figure size 432x288 with 1 Axes>"
      ]
     },
     "metadata": {},
     "output_type": "display_data"
    },
    {
     "data": {
      "image/png": "[encoded data removed]",
      "text/plain": [
       "<Figure size 432x288 with 1 Axes>"
      ]
     },
     "metadata": {},
     "output_type": "display_data"
    },
    {
     "data": {
      "image/png": "[encoded data removed]",
      "text/plain": [
       "<Figure size 432x288 with 1 Axes>"
      ]
     },
     "metadata": {},
     "output_type": "display_data"
    },
    {
     "data": {
      "image/png": "[encoded data removed]",
      "text/plain": [
       "<Figure size 432x288 with 1 Axes>"
      ]
     },
     "metadata": {},
     "output_type": "display_data"
    }
   ],
   "source": [
    "plt.hist(generator.get_weights()[0].ravel(), bins=100);  plt.show();\n",
    "plt.hist(generator.get_weights()[1].ravel(), bins=100);  plt.show();\n",
    "plt.hist(generator.get_weights()[2].ravel(), bins=100);  plt.show();\n",
    "plt.hist(generator.get_weights()[3].ravel(), bins=100);  plt.show();"
   ]
  },
  {
   "cell_type": "code",
   "execution_count": 18,
   "metadata": {},
   "outputs": [
    {
     "data": {
      "image/png": "[encoded data removed]",
      "text/plain": [
       "<Figure size 432x288 with 1 Axes>"
      ]
     },
     "metadata": {},
     "output_type": "display_data"
    },
    {
     "data": {
      "image/png": "[encoded data removed]",
      "text/plain": [
       "<Figure size 432x288 with 1 Axes>"
      ]
     },
     "metadata": {},
     "output_type": "display_data"
    },
    {
     "data": {
      "image/png": "[encoded data removed]",
      "text/plain": [
       "<Figure size 432x288 with 1 Axes>"
      ]
     },
     "metadata": {},
     "output_type": "display_data"
    },
    {
     "data": {
      "image/png": "[encoded data removed]",
      "text/plain": [
       "<Figure size 432x288 with 1 Axes>"
      ]
     },
     "metadata": {},
     "output_type": "display_data"
    }
   ],
   "source": [
    "plt.hist(discriminator.get_weights()[0].ravel(), bins=100);  plt.show();\n",
    "plt.hist(discriminator.get_weights()[1].ravel(), bins=100);  plt.show();\n",
    "plt.hist(discriminator.get_weights()[2].ravel(), bins=100);  plt.show();\n",
    "plt.hist(discriminator.get_weights()[3].ravel(), bins=100);  plt.show();"
   ]
  },
  {
   "cell_type": "code",
   "execution_count": null,
   "metadata": {},
   "outputs": [],
   "source": []
  },
  {
   "cell_type": "code",
   "execution_count": 19,
   "metadata": {},
   "outputs": [
    {
     "name": "stdout",
     "output_type": "stream",
     "text": [
      "59900\n"
     ]
    }
   ],
   "source": [
    "print(i)"
   ]
  },
  {
   "cell_type": "code",
   "execution_count": null,
   "metadata": {},
   "outputs": [],
   "source": [
    "\n"
   ]
  },
  {
   "cell_type": "code",
   "execution_count": 20,
   "metadata": {},
   "outputs": [
    {
     "data": {
      "text/plain": [
       "[<tf.Variable 'GenHidden/kernel:0' shape=(100, 128) dtype=float32>,\n",
       " <tf.Variable 'GenHidden/bias:0' shape=(128,) dtype=float32>,\n",
       " <tf.Variable 'GenOutput/kernel:0' shape=(128, 784) dtype=float32>,\n",
       " <tf.Variable 'GenOutput/bias:0' shape=(784,) dtype=float32>]"
      ]
     },
     "execution_count": 20,
     "metadata": {},
     "output_type": "execute_result"
    }
   ],
   "source": [
    "generator.weights"
   ]
  },
  {
   "cell_type": "code",
   "execution_count": 21,
   "metadata": {},
   "outputs": [],
   "source": [
    "aa = generator.get_weights()[0]\n",
    "bb = gan_model.get_weights()[0]\n",
    "assert np.alltrue(aa ==  bb)"
   ]
  },
  {
   "cell_type": "code",
   "execution_count": 22,
   "metadata": {},
   "outputs": [],
   "source": [
    "aa = discriminator.get_weights()[3]\n",
    "bb = gan_model.get_weights()[3+4]\n",
    "assert np.alltrue(aa ==  bb)"
   ]
  },
  {
   "cell_type": "markdown",
   "metadata": {},
   "source": [
    "Plot losses"
   ]
  },
  {
   "cell_type": "code",
   "execution_count": 23,
   "metadata": {},
   "outputs": [
    {
     "data": {
      "image/png": "[encoded data removed]",
      "text/plain": [
       "<Figure size 432x288 with 1 Axes>"
      ]
     },
     "metadata": {},
     "output_type": "display_data"
    }
   ],
   "source": [
    "plt.plot(losses['disc'], label='disc_loss')\n",
    "plt.plot(losses['gen'], label='gen_loss')\n",
    "plt.title('Losses')\n",
    "plt.legend();"
   ]
  },
  {
   "cell_type": "markdown",
   "metadata": {},
   "source": [
    "Helper to show bunch of MNIST-like images"
   ]
  },
  {
   "cell_type": "code",
   "execution_count": 24,
   "metadata": {},
   "outputs": [],
   "source": [
    "def show_images(x):\n",
    "    fig, axes = plt.subplots(nrows=1, ncols=len(x), figsize=[20,4])\n",
    "    for i, ax in enumerate(axes):\n",
    "        ax.imshow(x[i].reshape([28,28]), cmap='gray', vmin=-1, vmax=1)\n",
    "        ax.axis('off')"
   ]
  },
  {
   "cell_type": "markdown",
   "metadata": {},
   "source": [
    "Show some real images"
   ]
  },
  {
   "cell_type": "code",
   "execution_count": 25,
   "metadata": {},
   "outputs": [
    {
     "data": {
      "image/png": "[encoded data removed]",
      "text/plain": [
       "<Figure size 1440x288 with 10 Axes>"
      ]
     },
     "metadata": {},
     "output_type": "display_data"
    }
   ],
   "source": [
    "real_imgs = x_train[0:10]\n",
    "show_images(real_imgs)"
   ]
  },
  {
   "cell_type": "markdown",
   "metadata": {},
   "source": [
    "Show some fakes"
   ]
  },
  {
   "cell_type": "code",
   "execution_count": 26,
   "metadata": {},
   "outputs": [
    {
     "data": {
      "image/png": "[encoded data removed]",
      "text/plain": [
       "<Figure size 1440x288 with 10 Axes>"
      ]
     },
     "metadata": {},
     "output_type": "display_data"
    }
   ],
   "source": [
    "noise = np.random.normal(size=[10, 100])\n",
    "fake_imgs = generator.predict(x=noise, batch_size=10)\n",
    "show_images(fake_imgs)"
   ]
  },
  {
   "cell_type": "code",
   "execution_count": null,
   "metadata": {},
   "outputs": [],
   "source": []
  },
  {
   "cell_type": "code",
   "execution_count": null,
   "metadata": {},
   "outputs": [],
   "source": []
  },
  {
   "cell_type": "code",
   "execution_count": null,
   "metadata": {},
   "outputs": [],
   "source": []
  },
  {
   "cell_type": "code",
   "execution_count": null,
   "metadata": {},
   "outputs": [],
   "source": []
  },
  {
   "cell_type": "code",
   "execution_count": null,
   "metadata": {},
   "outputs": [],
   "source": []
  },
  {
   "cell_type": "code",
   "execution_count": null,
   "metadata": {},
   "outputs": [],
   "source": []
  },
  {
   "cell_type": "code",
   "execution_count": null,
   "metadata": {},
   "outputs": [],
   "source": []
  },
  {
   "cell_type": "code",
   "execution_count": null,
   "metadata": {},
   "outputs": [],
   "source": []
  },
  {
   "cell_type": "code",
   "execution_count": null,
   "metadata": {},
   "outputs": [],
   "source": []
  },
  {
   "cell_type": "markdown",
   "metadata": {},
   "source": [
    "**Generate Graphs**"
   ]
  },
  {
   "cell_type": "markdown",
   "metadata": {},
   "source": [
    "This was used to generate graphs in this post"
   ]
  },
  {
   "cell_type": "code",
   "execution_count": 27,
   "metadata": {},
   "outputs": [],
   "source": [
    "# tf.keras.utils.plot_model(generator, to_file='assets/gan_mlp_generator.png', show_shapes=True)\n",
    "# tf.keras.utils.plot_model(discriminator, to_file='assets/gan_mlp_discriminator.png', show_shapes=True)\n",
    "# tf.keras.utils.plot_model(model, to_file='assets/gan_mlp_gan_model.png', show_shapes=True)"
   ]
  },
  {
   "cell_type": "code",
   "execution_count": null,
   "metadata": {},
   "outputs": [],
   "source": []
  },
  {
   "cell_type": "code",
   "execution_count": null,
   "metadata": {},
   "outputs": [],
   "source": []
  },
  {
   "cell_type": "code",
   "execution_count": null,
   "metadata": {},
   "outputs": [],
   "source": []
  },
  {
   "cell_type": "code",
   "execution_count": null,
   "metadata": {},
   "outputs": [],
   "source": []
  },
  {
   "cell_type": "code",
   "execution_count": null,
   "metadata": {},
   "outputs": [],
   "source": []
  },
  {
   "cell_type": "code",
   "execution_count": null,
   "metadata": {},
   "outputs": [],
   "source": []
  },
  {
   "cell_type": "code",
   "execution_count": null,
   "metadata": {},
   "outputs": [],
   "source": []
  }
 ],
 "metadata": {
  "kernelspec": {
   "display_name": "Python 3",
   "language": "python",
   "name": "python3"
  },
  "language_info": {
   "codemirror_mode": {
    "name": "ipython",
    "version": 3
   },
   "file_extension": ".py",
   "mimetype": "text/x-python",
   "name": "python",
   "nbconvert_exporter": "python",
   "pygments_lexer": "ipython3",
   "version": "3.6.7"
  }
 },
 "nbformat": 4,
 "nbformat_minor": 2
}
