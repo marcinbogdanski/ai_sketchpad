{
 "cells": [
  {
   "cell_type": "markdown",
   "metadata": {},
   "source": [
    "<br/>\n",
    "\n",
    "$$ \\huge{\\underline{\\textbf{ Bandit Parameter Study }}} $$\n",
    "\n",
    "<br/>\n",
    "\n",
    "<center>Implementation of <b>Gradient Bandit</b></center>\n",
    "<center>from Sutton and Barto 2018, <b>chapter 2.10</b>.</center>\n",
    "<center>Book available for free <a href=\"http://incompleteideas.net/book/the-book-2nd.html\">here</a></center>\n",
    "\n",
    "<br/>\n",
    "\n",
    "Parameter study and recreation of figure 2.6.\n",
    "\n",
    "<br/>"
   ]
  },
  {
   "cell_type": "markdown",
   "metadata": {},
   "source": [
    "Helper functions"
   ]
  },
  {
   "cell_type": "code",
   "execution_count": 1,
   "metadata": {},
   "outputs": [],
   "source": [
    "def argmax_rand(arr):\n",
    "    # break ties randomly, np.argmax() always picks first max\n",
    "    return np.random.choice(np.flatnonzero(arr == arr.max()))"
   ]
  },
  {
   "cell_type": "code",
   "execution_count": 2,
   "metadata": {},
   "outputs": [],
   "source": [
    "def softmax(x):\n",
    "    \"\"\"Numerically stable softmax\"\"\"\n",
    "    ex = np.exp(x - np.max(x))\n",
    "    return ex / np.sum(ex)"
   ]
  },
  {
   "cell_type": "markdown",
   "metadata": {},
   "source": [
    "Bandit algorithms"
   ]
  },
  {
   "cell_type": "code",
   "execution_count": 3,
   "metadata": {},
   "outputs": [],
   "source": [
    "def simple_bandit(env, nb, eps):\n",
    "    Q = np.zeros(env.size)\n",
    "    N = np.zeros(env.size)\n",
    "    hist_A = []\n",
    "    hist_R = []\n",
    "    \n",
    "    for _ in range(nb):\n",
    "        A = argmax_rand(Q) if np.random.rand() > eps else np.random.randint(env.size)            \n",
    "        R = env.step(A)    \n",
    "        N[A] += 1                \n",
    "        Q[A] += (1/N[A]) * (R - Q[A])\n",
    "        \n",
    "        hist_A.append(A)\n",
    "        hist_R.append(R)\n",
    "        \n",
    "    return Q, np.array(hist_A), np.array(hist_R)"
   ]
  },
  {
   "cell_type": "code",
   "execution_count": 4,
   "metadata": {},
   "outputs": [],
   "source": [
    "def tracking_bandit(env, nb, eps, alpha, Q_init):\n",
    "    hist_A = []\n",
    "    hist_R = []\n",
    "    \n",
    "    Q = np.zeros(env.size) + Q_init\n",
    "    \n",
    "    for _ in range(nb):\n",
    "        A = argmax_rand(Q) if np.random.rand() > eps else np.random.randint(env.size)            \n",
    "        R = env.step(A)    \n",
    "        Q[A] += alpha * (R - Q[A])\n",
    "        \n",
    "        hist_A.append(A)\n",
    "        hist_R.append(R)\n",
    "        \n",
    "    return Q, np.array(hist_A), np.array(hist_R)"
   ]
  },
  {
   "cell_type": "code",
   "execution_count": 5,
   "metadata": {},
   "outputs": [],
   "source": [
    "def ucb_bandit(env, nb, c):\n",
    "    Q = np.zeros(env.size)\n",
    "    N = np.zeros(env.size)\n",
    "    hist_A = []\n",
    "    hist_R = []\n",
    "    \n",
    "    # select each action at lest once\n",
    "    for A in range(env.size):\n",
    "        R = env.step(A)\n",
    "        N[A] += 1\n",
    "        Q[A] += (1/N[A]) * (R - Q[A])\n",
    "        \n",
    "        hist_A.append(A)\n",
    "        hist_R.append(R)\n",
    "    \n",
    "    for t in range(env.size, nb):\n",
    "        A = argmax_rand( Q + c * np.sqrt( np.log(t) / N ) )\n",
    "        R = env.step(A)    \n",
    "        N[A] += 1                \n",
    "        Q[A] += (1/N[A]) * (R - Q[A])\n",
    "        \n",
    "        hist_A.append(A)\n",
    "        hist_R.append(R)\n",
    "        \n",
    "    return Q, np.array(hist_A), np.array(hist_R)"
   ]
  },
  {
   "cell_type": "code",
   "execution_count": 6,
   "metadata": {},
   "outputs": [],
   "source": [
    "def gradient_bandit(env, nb, alpha, baseline):\n",
    "    H = np.zeros(env.size)\n",
    "    R_, N_ = 0.0, 0.0\n",
    "    hist_A = []\n",
    "    hist_R = []\n",
    "    \n",
    "    for _ in range(nb):\n",
    "        pi = softmax(H)\n",
    "        A = np.random.choice(range(env.size), p=pi)\n",
    "        R = env.step(A)\n",
    "        \n",
    "        H_new = H - alpha*(R-R_)*pi               # for all a =/= A\n",
    "        H_new[A] = H[A] + alpha*(R-R_)*(1-pi[A])  # for a == A\n",
    "        H = H_new\n",
    "        \n",
    "        if baseline:\n",
    "            N_ += 1\n",
    "            R_ += 1/N_ * (R-R_)\n",
    "        \n",
    "        hist_A.append(A)\n",
    "        hist_R.append(R)\n",
    "        \n",
    "    return H, np.array(hist_A), np.array(hist_R)"
   ]
  },
  {
   "cell_type": "markdown",
   "metadata": {},
   "source": [
    "---"
   ]
  },
  {
   "cell_type": "markdown",
   "metadata": {},
   "source": [
    "<table>\n",
    "    <tr>\n",
    "        <td style=\"border-color: white;\"><img src=\"assets/fig_0206.png\"/></td>\n",
    "    </tr>\n",
    "    <tr>\n",
    "        <td style=\"border-color: white;\"><center>Figure 2.6<center/></td>\n",
    "    </tr>\n",
    "</table>"
   ]
  },
  {
   "cell_type": "markdown",
   "metadata": {},
   "source": [
    "# Experiment Setup"
   ]
  },
  {
   "cell_type": "code",
   "execution_count": 7,
   "metadata": {},
   "outputs": [],
   "source": [
    "import numpy as np\n",
    "import matplotlib.pyplot as plt\n",
    "import multiprocessing as mp"
   ]
  },
  {
   "cell_type": "markdown",
   "metadata": {},
   "source": [
    "Environment"
   ]
  },
  {
   "cell_type": "code",
   "execution_count": 8,
   "metadata": {},
   "outputs": [],
   "source": [
    "class BanditEnv:\n",
    "    def __init__(self):\n",
    "        \"\"\"10-armed testbed, see chapter 2.3\"\"\"\n",
    "        self.size = 10                                        # 10 arms\n",
    "        self.offset = 0\n",
    "        self.means = np.random.normal(loc=self.offset, scale=1.0, size=self.size)\n",
    "    def step(self, action):\n",
    "        return np.random.normal(loc=self.means[action])"
   ]
  },
  {
   "cell_type": "markdown",
   "metadata": {},
   "source": [
    "# Recreate Figure 2.6"
   ]
  },
  {
   "cell_type": "markdown",
   "metadata": {},
   "source": [
    "Generate data"
   ]
  },
  {
   "cell_type": "code",
   "execution_count": 9,
   "metadata": {},
   "outputs": [],
   "source": [
    "def run_single_experiment(algorithm, param):\n",
    "    np.random.seed()  # required due to multiprocessing\n",
    "    env = BanditEnv()\n",
    "    if algorithm == 'egreedy_bandit':\n",
    "        _, _, hist_R = simple_bandit(env, nb=1000, eps=param)\n",
    "    elif algorithm == 'greedy_opt_bandit':\n",
    "        _, _, hist_R = tracking_bandit(env, nb=1000, eps=0.0, alpha=0.1, Q_init=param)\n",
    "    elif algorithm == 'ucb_bandit':\n",
    "        _, _, hist_R = ucb_bandit(env, nb=1000, c=param)\n",
    "    elif algorithm == 'gradient_bandit':\n",
    "        _, _, hist_R = gradient_bandit(env, nb=1000, alpha=param, baseline=True)\n",
    "    else:\n",
    "        raise ValueError('Unknown algorithm:', algorithm)\n",
    "    return hist_R.mean()  # average over 1000 steps"
   ]
  },
  {
   "cell_type": "code",
   "execution_count": 10,
   "metadata": {},
   "outputs": [],
   "source": [
    "def run_multiple_exp(repeat, algorithm, param):\n",
    "    with mp.Pool(processes=mp.cpu_count()) as pool:\n",
    "        param_list = [(algorithm, param)] * repeat\n",
    "        results = pool.starmap(run_single_experiment, param_list)\n",
    "        return np.mean(results)"
   ]
  },
  {
   "cell_type": "code",
   "execution_count": 11,
   "metadata": {},
   "outputs": [],
   "source": [
    "repeat = 2000"
   ]
  },
  {
   "cell_type": "code",
   "execution_count": 12,
   "metadata": {},
   "outputs": [
    {
     "name": "stdout",
     "output_type": "stream",
     "text": [
      "Running e-greedy, eps=0.008: 1.160\n",
      "Running e-greedy, eps=0.016: 1.253\n",
      "Running e-greedy, eps=0.031: 1.313\n",
      "Running e-greedy, eps=0.062: 1.333\n",
      "Running e-greedy, eps=0.125: 1.274\n",
      "Running e-greedy, eps=0.250: 1.135\n"
     ]
    }
   ],
   "source": [
    "egreedy_x, egreedy_y = [], []\n",
    "for param in [1/128, 1/64, 1/32, 1/16, 1/8, 1/4]:\n",
    "    result = run_multiple_exp(repeat=repeat, algorithm='egreedy_bandit', param=param)\n",
    "    print(f'Running e-greedy, eps={param:.3f}: {result:.3f}')\n",
    "    egreedy_x.append(param)\n",
    "    egreedy_y.append(result)"
   ]
  },
  {
   "cell_type": "code",
   "execution_count": 13,
   "metadata": {},
   "outputs": [
    {
     "name": "stdout",
     "output_type": "stream",
     "text": [
      "Running greedy with optimistic init., Q_init=0.250: 1.335\n",
      "Running greedy with optimistic init., Q_init=0.500: 1.391\n",
      "Running greedy with optimistic init., Q_init=1.000: 1.438\n",
      "Running greedy with optimistic init., Q_init=2.000: 1.413\n",
      "Running greedy with optimistic init., Q_init=4.000: 1.315\n"
     ]
    }
   ],
   "source": [
    "greedy_opt_x, greedy_opt_y = [], []\n",
    "for param in [1/4, 1/2, 1, 2, 4]:\n",
    "    result = run_multiple_exp(repeat=2000, algorithm='greedy_opt_bandit', param=param)\n",
    "    print(f'Running greedy with optimistic init., Q_init={param:.3f}: {result:.3f}')\n",
    "    greedy_opt_x.append(param)\n",
    "    greedy_opt_y.append(result)"
   ]
  },
  {
   "cell_type": "code",
   "execution_count": 14,
   "metadata": {},
   "outputs": [
    {
     "name": "stdout",
     "output_type": "stream",
     "text": [
      "Running UCB, c=0.062: 1.422\n",
      "Running UCB, c=0.125: 1.422\n",
      "Running UCB, c=0.250: 1.448\n",
      "Running UCB, c=0.500: 1.480\n",
      "Running UCB, c=1.000: 1.478\n",
      "Running UCB, c=2.000: 1.400\n",
      "Running UCB, c=4.000: 1.141\n"
     ]
    }
   ],
   "source": [
    "ucb_x, ucb_y = [], []\n",
    "for param in [1/16, 1/8, 1/4, 1/2, 1, 2, 4]:\n",
    "    result = run_multiple_exp(repeat=2000, algorithm='ucb_bandit', param=param)\n",
    "    print(f'Running UCB, c={param:.3f}: {result:.3f}')\n",
    "    ucb_x.append(param)\n",
    "    ucb_y.append(result)"
   ]
  },
  {
   "cell_type": "code",
   "execution_count": 15,
   "metadata": {},
   "outputs": [
    {
     "name": "stdout",
     "output_type": "stream",
     "text": [
      "Running gradient, alpha=0.031: 1.102\n",
      "Running gradient, alpha=0.062: 1.260\n",
      "Running gradient, alpha=0.125: 1.389\n",
      "Running gradient, alpha=0.250: 1.406\n",
      "Running gradient, alpha=0.500: 1.393\n",
      "Running gradient, alpha=1.000: 1.225\n",
      "Running gradient, alpha=2.000: 1.055\n",
      "Running gradient, alpha=4.000: 0.837\n"
     ]
    }
   ],
   "source": [
    "gradient_x, gradient_y = [], []\n",
    "for param in [1/32, 1/16, 1/8, 1/4, 1/2, 1, 2, 4]:\n",
    "    result = run_multiple_exp(repeat=2000, algorithm='gradient_bandit', param=param)\n",
    "    print(f'Running gradient, alpha={param:.3f}: {result:.3f}')\n",
    "    gradient_x.append(param)\n",
    "    gradient_y.append(result)"
   ]
  },
  {
   "cell_type": "code",
   "execution_count": 16,
   "metadata": {},
   "outputs": [
    {
     "data": {
      "image/png": "[encoded data removed]",
      "text/plain": [
       "<Figure size 432x288 with 1 Axes>"
      ]
     },
     "metadata": {
      "needs_background": "light"
     },
     "output_type": "display_data"
    }
   ],
   "source": [
    "fig = plt.figure()\n",
    "ax = fig.add_subplot(111)\n",
    "ax.plot(egreedy_x, egreedy_y, color='red', label='gradient bandit')\n",
    "ax.plot(greedy_opt_x, greedy_opt_y, color='black', label='greedy with opt. init.')\n",
    "ax.plot(ucb_x, ucb_y, color='blue', label='gradient bandit')\n",
    "ax.plot(gradient_x, gradient_y, color='green', label='gradient bandit')\n",
    "ax.set_xscale('log')\n",
    "ax.set_xticks([1/128, 1/64, 1/32, 1/16, 1/8, 1/4, 1/2, 1, 2, 4])\n",
    "ax.set_xticklabels(['1/128', '1/64', '1/32', '1/16', '1/8', '1/4', '1/2', '1', '2', '4'])\n",
    "ax.set_ylim((1.0, 1.5))\n",
    "ax.legend()\n",
    "plt.tight_layout()\n",
    "plt.savefig('assets/fig_0206.png')\n",
    "plt.show()"
   ]
  }
 ],
 "metadata": {
  "kernelspec": {
   "display_name": "Python 3",
   "language": "python",
   "name": "python3"
  },
  "language_info": {
   "codemirror_mode": {
    "name": "ipython",
    "version": 3
   },
   "file_extension": ".py",
   "mimetype": "text/x-python",
   "name": "python",
   "nbconvert_exporter": "python",
   "pygments_lexer": "ipython3",
   "version": "3.7.4"
  }
 },
 "nbformat": 4,
 "nbformat_minor": 4
}
