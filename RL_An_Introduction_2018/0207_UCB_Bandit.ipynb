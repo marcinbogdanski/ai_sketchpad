{
 "cells": [
  {
   "cell_type": "markdown",
   "metadata": {},
   "source": [
    "<br/>\n",
    "\n",
    "$$ \\huge{\\underline{\\textbf{ UCB Bandit }}} $$\n",
    "\n",
    "<br/>\n",
    "\n",
    "<center>Implementation of <b>UCB Bandit</b></center>\n",
    "<center>from Sutton and Barto 2018, <b>chapter 2.7</b>.</center>\n",
    "<center>Book available for free <a href=\"http://incompleteideas.net/book/the-book-2nd.html\">here</a></center>\n",
    "\n",
    "<br/>\n",
    "\n",
    "Upper-Confidence-Bound (UCB) Bandit is the same as [Simple Bandit](0204_Simple_Bandit.html) but with different $A$ selection rule. See book equation (2.10). UCB is used e.g. in AlphaZero algorithm.\n",
    "\n",
    "$$ A_t \\doteq \\mathop{\\text{argmax}}_a \\big[ Q_t(a) + c \\sqrt{\\frac{\\ln{t}}{N_t(a)}} \\big] $$\n",
    "\n",
    "<br/>"
   ]
  },
  {
   "cell_type": "code",
   "execution_count": 1,
   "metadata": {},
   "outputs": [],
   "source": [
    "def ucb_bandit(env, nb, c):\n",
    "    Q = np.zeros(env.size)\n",
    "    N = np.zeros(env.size)\n",
    "    \n",
    "    # select each action at lest once\n",
    "    for A in range(env.size):\n",
    "        R = env.step(A)\n",
    "        N[A] += 1\n",
    "        Q[A] += (1/N[A]) * (R - Q[A])\n",
    "        \n",
    "    for t in range(env.size, nb):\n",
    "        A = argmax_rand( Q + c * np.sqrt( np.log(t) / N ) )\n",
    "        R = env.step(A)    \n",
    "        N[A] += 1                \n",
    "        Q[A] += (1/N[A]) * (R - Q[A])\n",
    "        \n",
    "    return Q, np.array(hist_R)"
   ]
  },
  {
   "cell_type": "markdown",
   "metadata": {},
   "source": [
    "Helper functions:"
   ]
  },
  {
   "cell_type": "code",
   "execution_count": 2,
   "metadata": {},
   "outputs": [],
   "source": [
    "def argmax_rand(arr):\n",
    "    # break ties randomly, np.argmax() always picks first max\n",
    "    return np.random.choice(np.flatnonzero(arr == arr.max()))"
   ]
  },
  {
   "cell_type": "markdown",
   "metadata": {},
   "source": [
    "---"
   ]
  },
  {
   "cell_type": "markdown",
   "metadata": {},
   "source": [
    "<table>\n",
    "    <tr>\n",
    "        <td style=\"border-color: white;\"><img src=\"assets/fig_0204.png\"/></td>\n",
    "    </tr>\n",
    "    <tr>\n",
    "        <td style=\"border-color: white;\"><center>Figure 2.4<center/></td>\n",
    "    </tr>\n",
    "</table>"
   ]
  },
  {
   "cell_type": "markdown",
   "metadata": {},
   "source": [
    "# Experiment Setup"
   ]
  },
  {
   "cell_type": "code",
   "execution_count": 3,
   "metadata": {},
   "outputs": [],
   "source": [
    "import numpy as np\n",
    "import matplotlib.pyplot as plt"
   ]
  },
  {
   "cell_type": "markdown",
   "metadata": {},
   "source": [
    "Environment"
   ]
  },
  {
   "cell_type": "code",
   "execution_count": 4,
   "metadata": {},
   "outputs": [],
   "source": [
    "class BanditEnv:\n",
    "    def __init__(self):\n",
    "        \"\"\"10-armed testbed, see chapter 2.3\"\"\"\n",
    "        self.size = 10                                        # 10 arms\n",
    "        self.means = np.random.normal(loc=0.0, scale=1.0, size=self.size)\n",
    "    def step(self, action):\n",
    "        return np.random.normal(loc=self.means[action])"
   ]
  },
  {
   "cell_type": "markdown",
   "metadata": {},
   "source": [
    "Add history logging"
   ]
  },
  {
   "cell_type": "code",
   "execution_count": 5,
   "metadata": {},
   "outputs": [],
   "source": [
    "def ucb_bandit(env, nb, c):\n",
    "    \n",
    "    hist_R = []\n",
    "    \n",
    "    Q = np.zeros(env.size)\n",
    "    N = np.zeros(env.size)\n",
    "    \n",
    "    # select each action at lest once\n",
    "    for A in range(env.size):\n",
    "        R = env.step(A)\n",
    "        N[A] += 1\n",
    "        Q[A] += (1/N[A]) * (R - Q[A])\n",
    "        \n",
    "        hist_R.append(R)\n",
    "    \n",
    "    for t in range(env.size, nb):\n",
    "        A = argmax_rand( Q + c * np.sqrt( np.log(t) / N ) )\n",
    "        R = env.step(A)    \n",
    "        N[A] += 1                \n",
    "        Q[A] += (1/N[A]) * (R - Q[A])\n",
    "        \n",
    "        hist_R.append(R)\n",
    "        \n",
    "    return Q, np.array(hist_R)"
   ]
  },
  {
   "cell_type": "markdown",
   "metadata": {},
   "source": [
    "# Recreate Figure 2.4"
   ]
  },
  {
   "cell_type": "markdown",
   "metadata": {},
   "source": [
    "Simple bandit for comparison"
   ]
  },
  {
   "cell_type": "code",
   "execution_count": 6,
   "metadata": {},
   "outputs": [],
   "source": [
    "def simple_bandit(env, nb, eps):\n",
    "    hist_R = []\n",
    "    \n",
    "    Q = np.zeros(env.size)\n",
    "    N = np.zeros(env.size)\n",
    "    \n",
    "    for _ in range(nb):\n",
    "        A = argmax_rand(Q) if np.random.rand() > eps else np.random.randint(env.size)            \n",
    "        R = env.step(A)    \n",
    "        N[A] += 1                \n",
    "        Q[A] += (1/N[A]) * (R - Q[A])\n",
    "        \n",
    "        hist_R.append(R)\n",
    "        \n",
    "    return Q, np.array(hist_R)"
   ]
  },
  {
   "cell_type": "markdown",
   "metadata": {},
   "source": [
    "Generate raw data"
   ]
  },
  {
   "cell_type": "code",
   "execution_count": 7,
   "metadata": {},
   "outputs": [
    {
     "name": "stdout",
     "output_type": "stream",
     "text": [
      "v                  v\n",
      "...................."
     ]
    }
   ],
   "source": [
    "runs_ep01_R = []\n",
    "runs_ucb1_R = []\n",
    "\n",
    "print('v' + ' '*18 + 'v')  # poor man tqdm\n",
    "for i in range(2000):\n",
    "    env = BanditEnv()\n",
    "    \n",
    "    _, hist_R = simple_bandit(env, nb=1000, eps=0.1)\n",
    "    runs_ep01_R.append(hist_R)\n",
    "    \n",
    "    _, hist_R = ucb_bandit(env, nb=1000, c=2.0)\n",
    "    runs_ucb1_R.append(hist_R)\n",
    "    \n",
    "    if i % 100 == 0: print('.', end='')\n",
    "\n",
    "runs_ep01_R = np.array(runs_ep01_R)\n",
    "runs_ucb1_R = np.array(runs_ucb1_R)"
   ]
  },
  {
   "cell_type": "markdown",
   "metadata": {},
   "source": [
    "Calculate average reward"
   ]
  },
  {
   "cell_type": "code",
   "execution_count": 8,
   "metadata": {},
   "outputs": [],
   "source": [
    "# Calc average reward\n",
    "avg_ep01_R = np.average(runs_ep01_R, axis=0)\n",
    "avg_ucb1_R = np.average(runs_ucb1_R, axis=0)"
   ]
  },
  {
   "cell_type": "markdown",
   "metadata": {},
   "source": [
    "Plot the plots"
   ]
  },
  {
   "cell_type": "code",
   "execution_count": 10,
   "metadata": {},
   "outputs": [
    {
     "data": {
      "image/png": "[encoded data removed]",
      "text/plain": [
       "<Figure size 432x288 with 1 Axes>"
      ]
     },
     "metadata": {
      "needs_background": "light"
     },
     "output_type": "display_data"
    }
   ],
   "source": [
    "fig = plt.figure()\n",
    "ax = fig.add_subplot(111)\n",
    "ax.plot(avg_ep01_R, linewidth=1., color='gray', label='e-greedy, e=0.1')\n",
    "ax.plot(avg_ucb1_R, linewidth=1., color='blue', label='UCB, c=2')\n",
    "ax.set_xlabel('Steps'); ax.set_ylabel('Average Reward')\n",
    "ax.legend()\n",
    "plt.tight_layout()\n",
    "plt.savefig('assets/fig_0204.png')\n",
    "plt.show()"
   ]
  }
 ],
 "metadata": {
  "kernelspec": {
   "display_name": "Python 3",
   "language": "python",
   "name": "python3"
  },
  "language_info": {
   "codemirror_mode": {
    "name": "ipython",
    "version": 3
   },
   "file_extension": ".py",
   "mimetype": "text/x-python",
   "name": "python",
   "nbconvert_exporter": "python",
   "pygments_lexer": "ipython3",
   "version": "3.7.4"
  }
 },
 "nbformat": 4,
 "nbformat_minor": 4
}
