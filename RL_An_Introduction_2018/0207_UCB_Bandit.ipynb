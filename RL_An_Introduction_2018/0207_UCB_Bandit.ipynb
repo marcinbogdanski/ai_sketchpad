{
 "cells": [
  {
   "cell_type": "markdown",
   "metadata": {},
   "source": [
    "<br/>\n",
    "\n",
    "$$ \\huge{\\underline{\\textbf{ UCB Bandit }}} $$\n",
    "\n",
    "<br/>\n",
    "\n",
    "<center>Implementation of <b>UCB Bandit</b></center>\n",
    "<center>from Sutton and Barto 2018, <b>chapter 2.7</b>.</center>\n",
    "<center>Book available for free <a href=\"http://incompleteideas.net/book/the-book-2nd.html\">here</a></center>\n",
    "\n",
    "<br/>\n",
    "\n",
    "UCB Bandit is the same as [Simple Bandit](0204_Simple_Bandit.html) but with different $A$ selection rule. See book equation (2.10). UCB is used e.g. in AlphaZero algorithm.\n",
    "\n",
    "$$ A_t \\doteq \\mathop{\\text{argmax}}_a \\big[ Q_t(a) + c \\sqrt{\\frac{\\ln{t}}{N_t(a)}} \\big] $$\n",
    "\n",
    "<br/>"
   ]
  },
  {
   "cell_type": "code",
   "execution_count": null,
   "metadata": {},
   "outputs": [],
   "source": [
    "def ucb_bandit(env, nb, c):\n",
    "    t = 0  # step\n",
    "    Q = np.zeros(env.size)\n",
    "    N = np.zeros(env.size)\n",
    "    \n",
    "    # select each action at lest once\n",
    "    for A in range(env.size):\n",
    "        R = env.step(A)\n",
    "        N[A] += 1\n",
    "        Q[A] += (1/N[A]) * (R - Q[A])\n",
    "        t += 1\n",
    "        \n",
    "        hist_R.append(R)\n",
    "    \n",
    "    # then use UCB\n",
    "    for _ in range(t, nb):\n",
    "        A = argmax_rand( Q + c * np.sqrt( np.log(t) / N ) )\n",
    "        R = env.step(A)    \n",
    "        N[A] += 1                \n",
    "        Q[A] += (1/N[A]) * (R - Q[A])\n",
    "        t += 1\n",
    "        \n",
    "        hist_R.append(R)\n",
    "        \n",
    "    return Q, np.array(hist_R)"
   ]
  },
  {
   "cell_type": "markdown",
   "metadata": {},
   "source": [
    "Helper functions:"
   ]
  },
  {
   "cell_type": "code",
   "execution_count": 2,
   "metadata": {},
   "outputs": [],
   "source": [
    "def argmax_rand(arr):\n",
    "    # break ties randomly, np.argmax() always picks first max\n",
    "    return np.random.choice(np.flatnonzero(arr == arr.max()))"
   ]
  },
  {
   "cell_type": "markdown",
   "metadata": {},
   "source": [
    "---"
   ]
  },
  {
   "cell_type": "markdown",
   "metadata": {},
   "source": [
    "<table>\n",
    "    <tr>\n",
    "        <td style=\"border-color: white;\"><img src=\"assets/fig_0203.png\"/></td>\n",
    "    </tr>\n",
    "    <tr>\n",
    "        <td style=\"border-color: white;\"><center>Figure 2.3<center/></td>\n",
    "    </tr>\n",
    "</table>"
   ]
  },
  {
   "cell_type": "markdown",
   "metadata": {},
   "source": [
    "# Experiment Setup"
   ]
  },
  {
   "cell_type": "code",
   "execution_count": 3,
   "metadata": {},
   "outputs": [],
   "source": [
    "import numpy as np\n",
    "import matplotlib.pyplot as plt"
   ]
  },
  {
   "cell_type": "markdown",
   "metadata": {},
   "source": [
    "Environment"
   ]
  },
  {
   "cell_type": "code",
   "execution_count": 4,
   "metadata": {},
   "outputs": [],
   "source": [
    "class BanditEnv:\n",
    "    def __init__(self):\n",
    "        \"\"\"10-armed testbed, see chapter 2.3\"\"\"\n",
    "        self.size = 10                                        # 10 arms\n",
    "        self.means = np.array([0.25, -0.75, 1.5, 0.5, 1.25,   # eyeball fig 2.1\n",
    "                               -1.5, -0.25, -1, 0.75, -0.5])\n",
    "    def step(self, action):\n",
    "        return np.random.normal(loc=self.means[action])"
   ]
  },
  {
   "cell_type": "code",
   "execution_count": null,
   "metadata": {},
   "outputs": [],
   "source": []
  },
  {
   "cell_type": "code",
   "execution_count": null,
   "metadata": {},
   "outputs": [],
   "source": []
  },
  {
   "cell_type": "markdown",
   "metadata": {},
   "source": [
    "Add history logging"
   ]
  },
  {
   "cell_type": "code",
   "execution_count": 5,
   "metadata": {},
   "outputs": [],
   "source": [
    "def ucb_bandit(env, nb, c):\n",
    "    \n",
    "    hist_R = []\n",
    "    \n",
    "    t = 0  # step\n",
    "    Q = np.zeros(env.size)\n",
    "    N = np.zeros(env.size)\n",
    "    \n",
    "    # select each action at lest once\n",
    "    for A in range(env.size):\n",
    "        R = env.step(A)\n",
    "        N[A] += 1\n",
    "        Q[A] += (1/N[A]) * (R - Q[A])\n",
    "        t += 1\n",
    "        \n",
    "        hist_R.append(R)\n",
    "    \n",
    "    for _ in range(t, nb):\n",
    "        A = argmax_rand( Q + c * np.sqrt( np.log(t) / N ) )\n",
    "        R = env.step(A)    \n",
    "        N[A] += 1                \n",
    "        Q[A] += (1/N[A]) * (R - Q[A])\n",
    "        t += 1\n",
    "        \n",
    "        hist_R.append(R)\n",
    "        \n",
    "    return Q, np.array(hist_R)"
   ]
  },
  {
   "cell_type": "code",
   "execution_count": 8,
   "metadata": {},
   "outputs": [],
   "source": [
    "def simple_bandit(env, nb, eps):\n",
    "    hist_R = []\n",
    "    \n",
    "    Q = np.zeros(env.size)\n",
    "    N = np.zeros(env.size)\n",
    "    \n",
    "    for _ in range(nb):\n",
    "        A = argmax_rand(Q) if np.random.rand() > eps else np.random.randint(env.size)            \n",
    "        R = env.step(A)    \n",
    "        N[A] += 1                \n",
    "        Q[A] += (1/N[A]) * (R - Q[A])\n",
    "        \n",
    "        hist_R.append(R)\n",
    "        \n",
    "    return Q, np.array(hist_R)"
   ]
  },
  {
   "cell_type": "code",
   "execution_count": null,
   "metadata": {},
   "outputs": [],
   "source": []
  },
  {
   "cell_type": "code",
   "execution_count": 15,
   "metadata": {},
   "outputs": [],
   "source": []
  },
  {
   "cell_type": "code",
   "execution_count": 21,
   "metadata": {},
   "outputs": [],
   "source": [
    "env = BanditEnv()\n",
    "\n",
    "runs_ep01_R = []\n",
    "runs_ucb1_R = []\n",
    "\n",
    "print('v' + ' '*18 + 'v')  # poor man tqdm\n",
    "for i in range(2000):\n",
    "    _, hist_R = simple_bandit(env, nb=1000, eps=0.1)\n",
    "    runs_ep01_R.append(hist_R)\n",
    "    \n",
    "    _, hist_R = ucb_bandit(env, nb=1000, c=2.0)\n",
    "    runs_ucb1_R.append(hist_R)\n",
    "    \n",
    "    if i % 100 == 0: print('.', end='')\n",
    "\n",
    "runs_ep01_R = np.array(runs_ep01_R)\n",
    "runs_ucb1_R = np.array(runs_ucb1_R)"
   ]
  },
  {
   "cell_type": "markdown",
   "metadata": {},
   "source": [
    "Calculate average reward"
   ]
  },
  {
   "cell_type": "code",
   "execution_count": 22,
   "metadata": {},
   "outputs": [],
   "source": [
    "# Calc average reward\n",
    "avg_ep01_R = np.average(runs_ep01_R, axis=0)\n",
    "avg_ucb1_R = np.average(runs_ucb1_R, axis=0)"
   ]
  },
  {
   "cell_type": "markdown",
   "metadata": {},
   "source": [
    "Plot the plots"
   ]
  },
  {
   "cell_type": "code",
   "execution_count": 24,
   "metadata": {},
   "outputs": [
    {
     "data": {
      "text/plain": [
       "[<matplotlib.lines.Line2D at 0x7fc11a0de4d0>]"
      ]
     },
     "execution_count": 24,
     "metadata": {},
     "output_type": "execute_result"
    },
    {
     "data": {
      "image/png": "[encoded data removed]",
      "text/plain": [
       "<Figure size 432x288 with 1 Axes>"
      ]
     },
     "metadata": {
      "needs_background": "light"
     },
     "output_type": "display_data"
    }
   ],
   "source": [
    "plt.plot(avg_ep01_R, color='lightgray', label='e-greedy 0.1')\n",
    "plt.plot(avg_ucb1_R, color='blue', label='UCB c=2')"
   ]
  },
  {
   "cell_type": "code",
   "execution_count": null,
   "metadata": {},
   "outputs": [],
   "source": []
  },
  {
   "cell_type": "code",
   "execution_count": 97,
   "metadata": {},
   "outputs": [],
   "source": []
  },
  {
   "cell_type": "code",
   "execution_count": 98,
   "metadata": {},
   "outputs": [
    {
     "data": {
      "text/plain": [
       "array([1., 1., 1., 1., 1., 1., 1., 1., 1., 1.])"
      ]
     },
     "execution_count": 98,
     "metadata": {},
     "output_type": "execute_result"
    }
   ],
   "source": [
    "N"
   ]
  },
  {
   "cell_type": "code",
   "execution_count": 99,
   "metadata": {},
   "outputs": [
    {
     "data": {
      "text/plain": [
       "array([ 0.25, -0.75,  1.5 ,  0.5 ,  1.25, -1.5 , -0.25, -1.  ,  0.75,\n",
       "       -0.5 ])"
      ]
     },
     "execution_count": 99,
     "metadata": {},
     "output_type": "execute_result"
    }
   ],
   "source": [
    "Q"
   ]
  },
  {
   "cell_type": "code",
   "execution_count": 100,
   "metadata": {},
   "outputs": [
    {
     "data": {
      "text/plain": [
       "10"
      ]
     },
     "execution_count": 100,
     "metadata": {},
     "output_type": "execute_result"
    }
   ],
   "source": [
    "t"
   ]
  },
  {
   "cell_type": "code",
   "execution_count": 101,
   "metadata": {},
   "outputs": [
    {
     "data": {
      "text/plain": [
       "2.302585092994046"
      ]
     },
     "execution_count": 101,
     "metadata": {},
     "output_type": "execute_result"
    }
   ],
   "source": [
    "np.log(t)"
   ]
  },
  {
   "cell_type": "code",
   "execution_count": 109,
   "metadata": {},
   "outputs": [],
   "source": [
    "A = argmax_rand( Q + c * np.sqrt( np.log(t) / N ) )"
   ]
  },
  {
   "cell_type": "code",
   "execution_count": 78,
   "metadata": {},
   "outputs": [
    {
     "data": {
      "text/plain": [
       "array([inf, inf, inf, inf, inf, inf, inf, inf, inf, inf])"
      ]
     },
     "execution_count": 78,
     "metadata": {},
     "output_type": "execute_result"
    }
   ],
   "source": [
    "vals = Q + c * np.sqrt( np.log(t) / (N) )\n",
    "vals"
   ]
  },
  {
   "cell_type": "code",
   "execution_count": 79,
   "metadata": {},
   "outputs": [
    {
     "data": {
      "text/plain": [
       "0"
      ]
     },
     "execution_count": 79,
     "metadata": {},
     "output_type": "execute_result"
    }
   ],
   "source": [
    "A = np.argmax(vals)\n",
    "A"
   ]
  },
  {
   "cell_type": "code",
   "execution_count": 80,
   "metadata": {},
   "outputs": [
    {
     "data": {
      "text/plain": [
       "0.25"
      ]
     },
     "execution_count": 80,
     "metadata": {},
     "output_type": "execute_result"
    }
   ],
   "source": [
    "R = env.step(A)\n",
    "R"
   ]
  },
  {
   "cell_type": "code",
   "execution_count": 81,
   "metadata": {},
   "outputs": [
    {
     "data": {
      "text/plain": [
       "array([1., 0., 0., 0., 0., 0., 0., 0., 0., 0.])"
      ]
     },
     "execution_count": 81,
     "metadata": {},
     "output_type": "execute_result"
    }
   ],
   "source": [
    "N[A] += 1\n",
    "N"
   ]
  },
  {
   "cell_type": "code",
   "execution_count": null,
   "metadata": {},
   "outputs": [],
   "source": [
    "Q[A] += (1/N[A]) * (R - Q[A])"
   ]
  },
  {
   "cell_type": "code",
   "execution_count": null,
   "metadata": {},
   "outputs": [],
   "source": []
  },
  {
   "cell_type": "code",
   "execution_count": null,
   "metadata": {},
   "outputs": [],
   "source": []
  },
  {
   "cell_type": "code",
   "execution_count": 51,
   "metadata": {},
   "outputs": [],
   "source": [
    "t = np.array([2., 3., 4., 5., 6., 7., 8., 9.])\n",
    "n = np.array([1., 1., 2., 2., 3., 3., 4., 4.])"
   ]
  },
  {
   "cell_type": "code",
   "execution_count": 52,
   "metadata": {},
   "outputs": [
    {
     "data": {
      "text/plain": [
       "[<matplotlib.lines.Line2D at 0x7f98481ad990>]"
      ]
     },
     "execution_count": 52,
     "metadata": {},
     "output_type": "execute_result"
    },
    {
     "data": {
      "image/png": "[encoded data removed]",
      "text/plain": [
       "<Figure size 432x288 with 1 Axes>"
      ]
     },
     "metadata": {
      "needs_background": "light"
     },
     "output_type": "display_data"
    }
   ],
   "source": [
    "plt.plot( t, np.log(t+1) )\n",
    "plt.plot( n, n )"
   ]
  },
  {
   "cell_type": "code",
   "execution_count": null,
   "metadata": {},
   "outputs": [],
   "source": [
    "q = "
   ]
  },
  {
   "cell_type": "code",
   "execution_count": 58,
   "metadata": {},
   "outputs": [
    {
     "data": {
      "text/plain": [
       "[<matplotlib.lines.Line2D at 0x7f9848870e50>]"
      ]
     },
     "execution_count": 58,
     "metadata": {},
     "output_type": "execute_result"
    },
    {
     "data": {
      "image/png": "[encoded data removed]",
      "text/plain": [
       "<Figure size 432x288 with 1 Axes>"
      ]
     },
     "metadata": {
      "needs_background": "light"
     },
     "output_type": "display_data"
    }
   ],
   "source": [
    "plt.plot( t, c*np.sqrt( np.log(t)/n ) )"
   ]
  },
  {
   "cell_type": "code",
   "execution_count": 50,
   "metadata": {},
   "outputs": [
    {
     "data": {
      "text/plain": [
       "array([0.00000000e+00, 8.32554611e+02, 1.04814655e+00, 1.17740943e+00,\n",
       "       8.97061065e-01, 9.46509000e-01, 8.05379724e-01, 8.32554472e-01,\n",
       "       7.41151811e-01, 7.58713470e-01])"
      ]
     },
     "execution_count": 50,
     "metadata": {},
     "output_type": "execute_result"
    }
   ],
   "source": [
    "np.sqrt( np.log(t+1)/(n+1e-6) )"
   ]
  },
  {
   "cell_type": "code",
   "execution_count": null,
   "metadata": {},
   "outputs": [],
   "source": []
  },
  {
   "cell_type": "markdown",
   "metadata": {},
   "source": [
    "Add history logging"
   ]
  },
  {
   "cell_type": "code",
   "execution_count": 5,
   "metadata": {},
   "outputs": [],
   "source": [
    "def tracking_bandit(env, nb, eps, alpha, Q_init):\n",
    "    hist_A = []\n",
    "    hist_R = []\n",
    "    \n",
    "    Q = np.zeros(env.size) + Q_init\n",
    "    \n",
    "    for _ in range(nb):\n",
    "        A = argmax_rand(Q) if np.random.rand() > eps else np.random.randint(env.size)            \n",
    "        R = env.step(A)    \n",
    "        Q[A] += alpha * (R - Q[A])\n",
    "        \n",
    "        hist_A.append(A)\n",
    "        hist_R.append(R)\n",
    "        \n",
    "    return Q, np.array(hist_A), np.array(hist_R)"
   ]
  },
  {
   "cell_type": "markdown",
   "metadata": {},
   "source": [
    "# Recreate Figure 2.3"
   ]
  },
  {
   "cell_type": "code",
   "execution_count": 6,
   "metadata": {},
   "outputs": [
    {
     "name": "stdout",
     "output_type": "stream",
     "text": [
      "v                  v\n",
      "...................."
     ]
    }
   ],
   "source": [
    "env = BanditEnv()\n",
    "\n",
    "runs_opt_gr_A = []      #  optimistic, greedy\n",
    "runs_real_eps01 = []    #  realistic, eps=0.1\n",
    "\n",
    "print('v' + ' '*18 + 'v')  # poor man tqdm\n",
    "for i in range(2000):\n",
    "    _, hist_A, _ = tracking_bandit(env, nb=1000, eps=0, alpha=0.1, Q_init=5)\n",
    "    _, runs_opt_gr_A.append(hist_A)\n",
    "    \n",
    "    _, hist_A, _ = tracking_bandit(env, nb=1000, eps=0.1, alpha=0.1, Q_init=0)\n",
    "    _, runs_real_eps01.append(hist_A)\n",
    "    \n",
    "    if i % 100 == 0: print('.', end='')\n",
    "    \n",
    "runs_opt_gr_A = np.array(runs_opt_gr_A)\n",
    "runs_real_eps01 = np.array(runs_real_eps01)"
   ]
  },
  {
   "cell_type": "code",
   "execution_count": 7,
   "metadata": {},
   "outputs": [],
   "source": [
    "# Calc \"% optimal action\"\n",
    "max_A = np.argmax(env.means)\n",
    "opt_opt_gr_A = np.average(runs_opt_gr_A==max_A, axis=0)\n",
    "opt_real_ep01_A = np.average(runs_real_eps01==max_A, axis=0)"
   ]
  },
  {
   "cell_type": "code",
   "execution_count": 8,
   "metadata": {},
   "outputs": [
    {
     "data": {
      "image/png": "[encoded data removed]",
      "text/plain": [
       "<Figure size 432x288 with 1 Axes>"
      ]
     },
     "metadata": {},
     "output_type": "display_data"
    }
   ],
   "source": [
    "fig = plt.figure()\n",
    "ax = fig.add_subplot(111)\n",
    "ax.plot(opt_opt_gr_A,    linewidth=1., color='lightblue', label='Optimistic, greedy, Q1=5, e=0')\n",
    "ax.plot(opt_real_ep01_A, linewidth=1., color='gray',      label='Realistic, e-greey, Q1=0, e=0.1')\n",
    "ax.set_xlabel('Steps'); ax.set_ylabel('% Optimal Action')\n",
    "ax.legend()\n",
    "plt.tight_layout()\n",
    "plt.savefig('assets/fig_0203.png')\n",
    "plt.show()"
   ]
  }
 ],
 "metadata": {
  "kernelspec": {
   "display_name": "Python 3",
   "language": "python",
   "name": "python3"
  },
  "language_info": {
   "codemirror_mode": {
    "name": "ipython",
    "version": 3
   },
   "file_extension": ".py",
   "mimetype": "text/x-python",
   "name": "python",
   "nbconvert_exporter": "python",
   "pygments_lexer": "ipython3",
   "version": "3.7.4"
  }
 },
 "nbformat": 4,
 "nbformat_minor": 4
}
