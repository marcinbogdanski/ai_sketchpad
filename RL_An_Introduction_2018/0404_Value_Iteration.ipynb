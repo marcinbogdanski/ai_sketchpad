{
 "cells": [
  {
   "cell_type": "markdown",
   "metadata": {},
   "source": [
    "<br/>\n",
    "\n",
    "$$ \\huge{\\underline{\\textbf{ Value Iteration }}} $$\n",
    "\n",
    "<br/>\n",
    "\n",
    "<center>Implementation of <b>Value Iteration</b></center>\n",
    "<center>from Sutton and Barto 2018, <b>chapter 4.4</b>.</center>\n",
    "<center>Book available for free <a href=\"http://incompleteideas.net/book/the-book-2nd.html\">here</a></center>\n",
    "\n",
    "<br/>\n",
    "\n",
    "<img src=\"assets/0404_value_iter.png\"/>\n",
    "<center> From Sutton and Barto (2018) <em>Reinforcement Learning: An Introduction</em>, chapter 4.4 </center>\n",
    "\n",
    "<br/>"
   ]
  },
  {
   "cell_type": "code",
   "execution_count": 1,
   "metadata": {},
   "outputs": [],
   "source": [
    "def value_iter(env, gamma, theta):\n",
    "    \"\"\"Value Iteration\n",
    "    \n",
    "    Params:\n",
    "        env - environment with following required memebers:\n",
    "            env.nb_states - number of states\n",
    "            env.nb_action - number of actions\n",
    "            env.model     - prob-transitions and rewards for all states and actions, see note #1\n",
    "        gamma (float) - discount factor\n",
    "        theta (float) - termination condition\n",
    "    \"\"\"\n",
    "    V = np.zeros(env.nb_states)\n",
    "    \n",
    "    while True:\n",
    "        delta = 0\n",
    "        for s in range(env.nb_states):\n",
    "            v = V[s]\n",
    "            V[s] = max([sum_sr(env, V=V, s=s, a=a, gamma=gamma)  # list comprehension\n",
    "                        for a in range(env.nb_actions)])            \n",
    "            delta = max(delta, abs(v - V[s]))\n",
    "    \n",
    "        if delta < theta: break\n",
    "    \n",
    "    # Output a deterministic policy\n",
    "    pi = np.zeros(env.nb_states, dtype=int)\n",
    "    for s in range(env.nb_states):\n",
    "        pi[s] = np.argmax([sum_sr(env, V=V, s=s, a=a, gamma=gamma)  # list comprehension\n",
    "                           for a in range(env.nb_actions)])\n",
    "    \n",
    "    return V, pi"
   ]
  },
  {
   "cell_type": "markdown",
   "metadata": {},
   "source": [
    "Helper Functions:"
   ]
  },
  {
   "cell_type": "code",
   "execution_count": 2,
   "metadata": {},
   "outputs": [],
   "source": [
    "def sum_sr(env, V, s, a, gamma):\n",
    "    \"\"\"Calc state-action value for state 's' and action 'a'\"\"\"\n",
    "    tmp = 0  # state value for state s\n",
    "    for p, s_, r, _ in env.model[s][a]:     # see note #1 !\n",
    "        # p  - transition probability from (s,a) to (s')\n",
    "        # s_ - next state (s')\n",
    "        # r  - reward on transition from (s,a) to (s')\n",
    "        tmp += p * (r + gamma * V[s_])\n",
    "    return tmp"
   ]
  },
  {
   "cell_type": "markdown",
   "metadata": {},
   "source": [
    "### Note #1\n",
    "__env.model__ parameter is taken directly from OpenAI API for FrozenLake-v1 (where it is called __env.P__, see below). It is a nested structure which describes transition probabilities and expected rewards, for example:\n",
    "```\n",
    ">>> env.model[6][0]\n",
    "[(0.3333333333333333, 2, 0.0, False),\n",
    " (0.3333333333333333, 5, 0.0, True),\n",
    " (0.3333333333333333, 10, 0.0, False)]\n",
    "```\n",
    "Has following meaning:\n",
    "* from state 6 and taking action 0, there is __0.33__ probability transitioning to state __2__, with reward __0.0__, transition is non-terminal\n",
    "* from state 6 and taking action 0, there is 0.33 probability transitioning to state 5, with reward 0.0, transition is terminal, MDP ends\n",
    "* from state 6 and taking action 0, there is 0.33 probability transitioning to state 10, with reward 0.0, transition is non-terminal\n",
    "\n",
    "See diagram\n",
    "<img src=\"assets/0401_model_diagram.png\">"
   ]
  },
  {
   "cell_type": "markdown",
   "metadata": {},
   "source": [
    "# Solve FrozenLake-v0\n",
    "\n",
    "Using OpenAI Gym FrozenLake-v0. See description [here](https://gym.openai.com/envs/FrozenLake-v0/)"
   ]
  },
  {
   "cell_type": "code",
   "execution_count": 3,
   "metadata": {},
   "outputs": [],
   "source": [
    "import numpy as np\n",
    "import matplotlib.pyplot as plt\n",
    "import gym"
   ]
  },
  {
   "cell_type": "code",
   "execution_count": 4,
   "metadata": {
    "scrolled": true
   },
   "outputs": [
    {
     "name": "stdout",
     "output_type": "stream",
     "text": [
      "\n",
      "\u001b[41mS\u001b[0mFFF\n",
      "FHFH\n",
      "FFFH\n",
      "HFFG\n"
     ]
    }
   ],
   "source": [
    "env = gym.make('FrozenLake-v0')\n",
    "env.reset()\n",
    "env.render()"
   ]
  },
  {
   "cell_type": "markdown",
   "metadata": {},
   "source": [
    "Rename some members, but don't break stuff!"
   ]
  },
  {
   "cell_type": "code",
   "execution_count": 5,
   "metadata": {},
   "outputs": [],
   "source": [
    "if not hasattr(env, 'nb_states'):  env.nb_states = env.env.nS\n",
    "if not hasattr(env, 'nb_actions'): env.nb_actions = env.env.nA\n",
    "if not hasattr(env, 'model'):      env.model = env.env.P"
   ]
  },
  {
   "cell_type": "markdown",
   "metadata": {},
   "source": [
    "Perform policy iteration"
   ]
  },
  {
   "cell_type": "code",
   "execution_count": 6,
   "metadata": {
    "scrolled": true
   },
   "outputs": [
    {
     "name": "stdout",
     "output_type": "stream",
     "text": [
      "[[0.82352924 0.82352918 0.82352915 0.82352913]\n",
      " [0.82352926 0.         0.52941165 0.        ]\n",
      " [0.82352928 0.82352932 0.7647058  0.        ]\n",
      " [0.         0.88235288 0.94117644 0.        ]]\n"
     ]
    }
   ],
   "source": [
    "V, pi = value_iter(env, gamma=1.0, theta=1e-8)\n",
    "print(V.reshape([4, -1]))"
   ]
  },
  {
   "cell_type": "markdown",
   "metadata": {},
   "source": [
    "Show optimal policy, basically avoid holes in the lake"
   ]
  },
  {
   "cell_type": "code",
   "execution_count": 7,
   "metadata": {},
   "outputs": [
    {
     "name": "stdout",
     "output_type": "stream",
     "text": [
      "[['<' '^' '^' '^']\n",
      " ['<' '<' '<' '<']\n",
      " ['^' 'v' '<' '<']\n",
      " ['<' '>' 'v' '<']]\n"
     ]
    }
   ],
   "source": [
    "a2w = {0:'<', 1:'v', 2:'>', 3:'^'}\n",
    "policy_arrows = np.array([a2w[x] for x in pi])\n",
    "print(np.array(policy_arrows).reshape([-1, 4]))"
   ]
  },
  {
   "cell_type": "markdown",
   "metadata": {},
   "source": [
    "Check correct"
   ]
  },
  {
   "cell_type": "code",
   "execution_count": 8,
   "metadata": {},
   "outputs": [],
   "source": [
    "correct_V = np.array([[0.82352941, 0.82352941, 0.82352941, 0.82352941],\n",
    "                      [0.82352941, 0.        , 0.52941176, 0.        ],\n",
    "                      [0.82352941, 0.82352941, 0.76470588, 0.        ],\n",
    "                      [0.        , 0.88235294, 0.94117647, 0.        ]])\n",
    "correct_policy_arrows = np.array([['<', '^', '^', '^'],\n",
    "                                  ['<', '<', '<', '<'],\n",
    "                                  ['^', 'v', '<', '<'],\n",
    "                                  ['<', '>', 'v', '<']])\n",
    "assert np.allclose(V.reshape([4,-1]), correct_V)\n",
    "assert np.alltrue(policy_arrows.reshape([4,-1]) == correct_policy_arrows)"
   ]
  }
 ],
 "metadata": {
  "kernelspec": {
   "display_name": "Python 3",
   "language": "python",
   "name": "python3"
  },
  "language_info": {
   "codemirror_mode": {
    "name": "ipython",
    "version": 3
   },
   "file_extension": ".py",
   "mimetype": "text/x-python",
   "name": "python",
   "nbconvert_exporter": "python",
   "pygments_lexer": "ipython3",
   "version": "3.6.5"
  }
 },
 "nbformat": 4,
 "nbformat_minor": 2
}
