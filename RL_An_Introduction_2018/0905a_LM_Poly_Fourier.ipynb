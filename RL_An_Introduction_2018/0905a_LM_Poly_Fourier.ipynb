{
 "cells": [
  {
   "cell_type": "markdown",
   "metadata": {},
   "source": [
    "<br/>\n",
    "\n",
    "$$ \\huge{\\underline{\\textbf{ Feature Construction for Linear Models }}} $$\n",
    "\n",
    "<br/>"
   ]
  },
  {
   "cell_type": "markdown",
   "metadata": {},
   "source": [
    "We are going to use [Gradient MC](0903a_Gradient_MC.ipynb) as a learning algorithm. This is the \"fixed\" version."
   ]
  },
  {
   "cell_type": "code",
   "execution_count": 306,
   "metadata": {},
   "outputs": [],
   "source": [
    "def gradient_MC(env, policy, ep, gamma, model, callback=None):\n",
    "    \"\"\"Gradient Monte Carlo Algorithm\n",
    "    \n",
    "    Params:\n",
    "        env    - environment\n",
    "        policy - function in a form: policy(state)->action\n",
    "        ep     - number of episodes to run\n",
    "        gamma  - discount factor [0..1]\n",
    "        model  - function approximator, already initialised, with method:\n",
    "                     train(state, target) -> None\n",
    "    \"\"\"    \n",
    "    for it in range(ep):\n",
    "        traj, T = generate_episode(env, policy)\n",
    "        Gt = 0\n",
    "        for t in range(T-1,-1,-1):\n",
    "            St, _, _, _ = traj[t]      # (st, rew, done, act)\n",
    "            _, Rt_1, _, _ = traj[t+1]\n",
    "            \n",
    "            Gt = gamma * Gt + Rt_1\n",
    "            model.train(St, Gt)\n",
    "        \n",
    "        if callback is not None:\n",
    "            callback(ee)"
   ]
  },
  {
   "cell_type": "code",
   "execution_count": 11,
   "metadata": {},
   "outputs": [],
   "source": [
    "def generate_episode(env, policy):\n",
    "    \"\"\"Generete one complete episode.\n",
    "    \n",
    "    Returns:\n",
    "        trajectory: list of tuples [(st, rew, done, act), (...), (...)],\n",
    "                    where St can be e.g tuple of ints or anything really\n",
    "        T: index of terminal state, NOT length of trajectory\n",
    "    \"\"\"\n",
    "    trajectory = []\n",
    "    done = True\n",
    "    while True:\n",
    "        # === time step starts here ===\n",
    "        if done:  St, Rt, done = env.reset(), None, False\n",
    "        else:     St, Rt, done = env.step(At)\n",
    "        At = policy(St)\n",
    "        trajectory.append((St, Rt, done, At))\n",
    "        if done:  break\n",
    "        # === time step ends here ===\n",
    "    return trajectory, len(trajectory)-1"
   ]
  },
  {
   "cell_type": "markdown",
   "metadata": {},
   "source": [
    "</br>\n",
    "\n",
    "<center> **Polynomial Basis** </center>\n",
    "\n",
    "\n",
    "<img src=\"assets/0905_Poly_Basis.png\"/>\n",
    "<center>Polynomial Basis - from Sutton and Barto (2018) _Reinforcement Learning: An Introduction_, chapter 9.5.1</center>"
   ]
  },
  {
   "cell_type": "code",
   "execution_count": null,
   "metadata": {},
   "outputs": [],
   "source": [
    "class PolynomialFunctionApproximator():\n",
    "    \"\"\"Very simple function approximator\"\"\"\n",
    "    def __init__(self, learn_rate, nb_groups, group_size):\n",
    "        self._lr = learn_rate\n",
    "        self._group_size = group_size\n",
    "        self._w = np.zeros(nb_groups)  # weights\n",
    "        \n",
    "    def evaluate(self, state):\n",
    "        group = (state-1) // self._group_size\n",
    "        return self._w[group]\n",
    "    \n",
    "    def train(self, state, target):        \n",
    "        # Because grad_v_hat is a one-hot vector, we can optimize:\n",
    "        group = (state-1) // self._group_size\n",
    "        self._w[group] += self._lr * (target - self._w[group])  # standard MC update!\n",
    "        \n",
    "        # Original impl., for reference:\n",
    "        # w = w + alpha * (Gt - v_hat(St, w)) * grad_v_hat(St, w)"
   ]
  },
  {
   "cell_type": "markdown",
   "metadata": {},
   "source": [
    "<br/>\n",
    "\n",
    "<center>**Fourier Basis**</center>\n",
    "\n",
    "<img src=\"assets/0905_Fourier_Basis.png\"/>\n",
    "<center>Fourier Basis - both from Sutton and Barto (2018) _Reinforcement Learning: An Introduction_, chapter 9.5.2 </center>"
   ]
  },
  {
   "cell_type": "code",
   "execution_count": 1,
   "metadata": {},
   "outputs": [],
   "source": [
    "class PolynomialFunctionApproximator():\n",
    "    \"\"\"Very simple function approximator\"\"\"\n",
    "    def __init__(self, learn_rate, nb_groups, group_size):\n",
    "        self._lr = learn_rate\n",
    "        self._group_size = group_size\n",
    "        self._w = np.zeros(nb_groups)  # weights\n",
    "        \n",
    "    def evaluate(self, state):\n",
    "        group = (state-1) // self._group_size\n",
    "        return self._w[group]\n",
    "    \n",
    "    def train(self, state, target):        \n",
    "        # Because grad_v_hat is a one-hot vector, we can optimize:\n",
    "        group = (state-1) // self._group_size\n",
    "        self._w[group] += self._lr * (target - self._w[group])  # standard MC update!\n",
    "        \n",
    "        # Original impl., for reference:\n",
    "        # w = w + alpha * (Gt - v_hat(St, w)) * grad_v_hat(St, w)"
   ]
  },
  {
   "cell_type": "markdown",
   "metadata": {},
   "source": [
    "---"
   ]
  },
  {
   "cell_type": "markdown",
   "metadata": {},
   "source": [
    "<table>\n",
    "    <tr>\n",
    "        <td style=\"border-color: white;\"><img src=\"assets/fig_0.png\"/></td>\n",
    "    </tr>\n",
    "    <tr>\n",
    "        <td style=\"border-color: white;\"><center>Figure 9.2 (left) - \"True\" value is approximated with stright line<center/></td>\n",
    "    </tr>\n",
    "</table>"
   ]
  },
  {
   "cell_type": "markdown",
   "metadata": {},
   "source": [
    "# Experiment Setup"
   ]
  },
  {
   "cell_type": "code",
   "execution_count": 287,
   "metadata": {},
   "outputs": [],
   "source": [
    "import numpy as np\n",
    "import matplotlib.pyplot as plt"
   ]
  },
  {
   "cell_type": "code",
   "execution_count": 288,
   "metadata": {},
   "outputs": [],
   "source": [
    "class FunctionApproximator():\n",
    "    \"\"\"Very simple function approximator\"\"\"\n",
    "    def __init__(self, learn_rate, nb_groups, group_size):\n",
    "        self._lr = learn_rate\n",
    "        self._group_size = group_size\n",
    "        self._w = np.zeros(nb_groups)  # weights\n",
    "        \n",
    "    def evaluate(self, state):\n",
    "        group = (state-1) // self._group_size\n",
    "        return self._w[group]\n",
    "    \n",
    "    def train(self, state, target):        \n",
    "        # Because grad_v_hat is a one-hot vector, we can optimize:\n",
    "        group = (state-1) // self._group_size\n",
    "        self._w[group] += self._lr * (target - self._w[group])  # standard MC update!\n",
    "        \n",
    "        # Original impl., for reference:\n",
    "        # w = w + alpha * (Gt - v_hat(St, w)) * grad_v_hat(St, w)"
   ]
  },
  {
   "cell_type": "code",
   "execution_count": 289,
   "metadata": {},
   "outputs": [],
   "source": [
    "class LinearEnv:\n",
    "    \"\"\"\n",
    "    State nb:   [   0       1   ...   499   500   501   ...   1000    1001  ]\n",
    "    State type: [terminal   .   ...    .   start   .    ...     .   terminal]\n",
    "    \"\"\"\n",
    "    V_approx = np.arange(-1001, 1001, 2) / 1000.0  # ignore nonlinearity at terminal states\n",
    "    \n",
    "    def __init__(self):\n",
    "        self.reset()\n",
    "        \n",
    "    def reset(self):\n",
    "        self._state = 500\n",
    "        self._done = False\n",
    "        return self._state\n",
    "        \n",
    "    def step(self, action):\n",
    "        if self._done: raise ValueError('Episode has terminated')\n",
    "    \n",
    "        if action == 0:   self._state -= np.random.randint(1, 101)  # step left\n",
    "        elif action == 1: self._state += np.random.randint(1, 101)  # step right\n",
    "        else: raise ValueError('Invalid action')\n",
    "            \n",
    "        self._state = np.clip(self._state, 0, 1001)  # clip to 0..1001\n",
    "        if self._state in [0, 1001]:                 # both 0 and 1001 are terminal\n",
    "            self._done = True\n",
    "        \n",
    "        if self._state == 0:\n",
    "            return self._state, -1, self._done       # state, rew, done\n",
    "        elif self._state == 1001:\n",
    "            return self._state, 1, self._done\n",
    "        else:\n",
    "            return self._state, 0, self._done"
   ]
  },
  {
   "cell_type": "code",
   "execution_count": 290,
   "metadata": {},
   "outputs": [],
   "source": [
    "def plot_linear(V, env, freq=None, saveimg=None):\n",
    "    fig = plt.figure()\n",
    "    ax = fig.add_subplot(111)\n",
    "    # Note, state 0 is terminal, so we exclude it\n",
    "    ax.plot(range(1,1001), env.V_approx[1:], color='red', linewidth=0.8, label='\"True\" value')\n",
    "    ax.plot(range(1,1001), V[1:], color='blue', linewidth=0.8, label='Approx. MC value')\n",
    "    ax.set_xlabel('State')\n",
    "    ax.set_ylabel('Value Scale')\n",
    "    ax.legend()\n",
    "    \n",
    "    if freq is not None:\n",
    "        mu = np.zeros(len(V))       # convert to array, V has same len as freq\n",
    "        for st in range(len(V)):\n",
    "            mu[st] = freq[st]\n",
    "        ax2 = ax.twinx()\n",
    "        # again, exclude terminal state 0\n",
    "        ax2.bar(range(1,1001), mu[1:], color='gray', width=5, label='State Distr.')\n",
    "        ax2.set_ylabel('Distribution Scale')\n",
    "        ax2.legend(loc='right', bbox_to_anchor=(1.0, 0.2))\n",
    "    \n",
    "    plt.tight_layout()\n",
    "    if saveimg is not None:\n",
    "        plt.savefig(saveimg)\n",
    "    plt.show()   "
   ]
  },
  {
   "cell_type": "code",
   "execution_count": 291,
   "metadata": {},
   "outputs": [],
   "source": [
    "env = LinearEnv()"
   ]
  },
  {
   "cell_type": "code",
   "execution_count": 292,
   "metadata": {},
   "outputs": [],
   "source": [
    "def policy(st):\n",
    "    return np.random.choice([0, 1])"
   ]
  },
  {
   "cell_type": "code",
   "execution_count": 293,
   "metadata": {},
   "outputs": [
    {
     "data": {
      "image/png": "[encoded data removed]",
      "text/plain": [
       "<Figure size 432x288 with 1 Axes>"
      ]
     },
     "metadata": {},
     "output_type": "display_data"
    }
   ],
   "source": [
    "model = FunctionApproximator(learn_rate=0.0003, nb_groups=10, group_size=100)\n",
    "gradient_MC(env, policy, ep=5000, gamma=1.0, model=model)\n",
    "V = [model.evaluate(st) for st in range(1001)]\n",
    "plot_linear(V, env)"
   ]
  },
  {
   "cell_type": "code",
   "execution_count": 309,
   "metadata": {},
   "outputs": [],
   "source": [
    "class PolynomialFuncApprox():\n",
    "    \"\"\"Polynomial function approximator\"\"\"\n",
    "    def __init__(self, learn_rate, order, nb_states):\n",
    "        self._lr = learn_rate\n",
    "        self._order = order\n",
    "        self._nb_states = nb_states\n",
    "        self._w = np.zeros(order+1)\n",
    "        \n",
    "        self._bases = []\n",
    "        for n in range(order+1):\n",
    "            self._bases.append(lambda st, n=n: pow(st, n))\n",
    "        \n",
    "    def evaluate(self, state):\n",
    "        st01 = state / self._nb_states                 # map to 0..1\n",
    "        x = np.power(st01, range(self._order+1))       # x = [st**0, st**1, ..., st**order]\n",
    "                \n",
    "        return x @ self._w                             # linear combination, i.e. dot product\n",
    "        \n",
    "        #feature = np.asarray([func(st01) for func in self._bases])\n",
    "        #return np.dot(self._w, feature)\n",
    "\n",
    "    def train(self, state, target):\n",
    "        st01 = state / self._nb_states                 # map to 0..1\n",
    "        grad = np.power(st01, range(self._order+1))    # grad. of lin. comb. is input x\n",
    "        \n",
    "        v_hat = self.evaluate(state)\n",
    "        self._w += self._lr * (target - v_hat) * grad  # Gradient MC update, see chapt. 9.3\n",
    "                \n",
    "        # Original impl., for reference (chapt. 9.1):\n",
    "        # w = w + alpha * (Gt - v_hat(St, w)) * grad_v_hat(St, w)"
   ]
  },
  {
   "cell_type": "code",
   "execution_count": 310,
   "metadata": {},
   "outputs": [
    {
     "name": "stdout",
     "output_type": "stream",
     "text": [
      "0\n",
      "100\n",
      "200\n",
      "300\n",
      "400\n",
      "500\n",
      "600\n",
      "700\n",
      "800\n",
      "900\n"
     ]
    },
    {
     "data": {
      "image/png": "[encoded data removed]",
      "text/plain": [
       "<Figure size 432x288 with 1 Axes>"
      ]
     },
     "metadata": {},
     "output_type": "display_data"
    }
   ],
   "source": [
    "rmse = []\n",
    "\n",
    "def callback(e):\n",
    "    V = np.array([model.evaluate(st) for st in range(1001)])\n",
    "    err = np.sqrt(np.mean(np.power((np.array(V[1:]) - env.V_approx[1:]), 2)))\n",
    "    rmse.append(err)\n",
    "    \n",
    "    if e % 100 == 0:\n",
    "        print(e)\n",
    "\n",
    "model = PolynomialFuncApprox(learn_rate=0.0001, order=5, nb_states=1000)\n",
    "gradient_MC(env, policy, ep=1000, gamma=1.0, model=model, callback=callback)\n",
    "V = [model.evaluate(st) for st in range(1001)]\n",
    "plot_linear(V, env)"
   ]
  },
  {
   "cell_type": "code",
   "execution_count": 311,
   "metadata": {},
   "outputs": [
    {
     "data": {
      "text/plain": [
       "[<matplotlib.lines.Line2D at 0x7f0c72584518>]"
      ]
     },
     "execution_count": 311,
     "metadata": {},
     "output_type": "execute_result"
    },
    {
     "data": {
      "image/png": "[encoded data removed]",
      "text/plain": [
       "<Figure size 432x288 with 1 Axes>"
      ]
     },
     "metadata": {},
     "output_type": "display_data"
    }
   ],
   "source": [
    "plt.plot(rmse)"
   ]
  },
  {
   "cell_type": "code",
   "execution_count": 298,
   "metadata": {},
   "outputs": [
    {
     "data": {
      "text/plain": [
       "0.26347383987829004"
      ]
     },
     "execution_count": 298,
     "metadata": {},
     "output_type": "execute_result"
    }
   ],
   "source": [
    "np.sqrt(np.mean(np.power((np.array(V[1:]) - env.V_approx[1:]), 2)))"
   ]
  },
  {
   "cell_type": "code",
   "execution_count": 297,
   "metadata": {},
   "outputs": [
    {
     "data": {
      "text/plain": [
       "0.26418046765102315"
      ]
     },
     "execution_count": 297,
     "metadata": {},
     "output_type": "execute_result"
    }
   ],
   "source": [
    "np.sqrt(np.mean(np.power(env.V_approx - np.array(V), 2)))"
   ]
  },
  {
   "cell_type": "code",
   "execution_count": 273,
   "metadata": {},
   "outputs": [
    {
     "data": {
      "text/plain": [
       "array([-1.001, -0.999, -0.997, -0.995, -0.993])"
      ]
     },
     "execution_count": 273,
     "metadata": {},
     "output_type": "execute_result"
    }
   ],
   "source": [
    "env.V_approx[:5]"
   ]
  },
  {
   "cell_type": "code",
   "execution_count": 277,
   "metadata": {},
   "outputs": [
    {
     "data": {
      "text/plain": [
       "array([-0.60401071, -0.60327031, -0.60252908, -0.60178703, -0.60104415])"
      ]
     },
     "execution_count": 277,
     "metadata": {},
     "output_type": "execute_result"
    }
   ],
   "source": [
    "V[:5]"
   ]
  },
  {
   "cell_type": "code",
   "execution_count": 65,
   "metadata": {},
   "outputs": [
    {
     "data": {
      "image/png": "[encoded data removed]",
      "text/plain": [
       "<Figure size 432x288 with 1 Axes>"
      ]
     },
     "metadata": {},
     "output_type": "display_data"
    }
   ],
   "source": [
    "model._w = np.array([-1, 2, 0, 0, 0, 0])\n",
    "V = [model.evaluate(st) for st in range(1001)]\n",
    "plot_linear(V, env)"
   ]
  },
  {
   "cell_type": "markdown",
   "metadata": {},
   "source": [
    "# = = = = = = "
   ]
  },
  {
   "cell_type": "code",
   "execution_count": 249,
   "metadata": {},
   "outputs": [],
   "source": [
    "def figure_9_5(true_value):\n",
    "    # my machine can only afford 1 run\n",
    "    runs = 1\n",
    "\n",
    "    episodes = 100\n",
    "\n",
    "    # # of bases\n",
    "    orders = [5]\n",
    "\n",
    "    alphas = [1e-4, 5e-5]\n",
    "    labels = [['polynomial basis'] * 3, ['fourier basis'] * 3]\n",
    "\n",
    "    # track errors for each episode\n",
    "    errors = np.zeros((len(alphas), len(orders), episodes))\n",
    "    for run in range(runs):\n",
    "        for i in range(len(orders)):\n",
    "            value_functions = [BasesValueFunction(orders[i], POLYNOMIAL_BASES), BasesValueFunction(orders[i], FOURIER_BASES)]\n",
    "            for j in range(len(value_functions)):\n",
    "                for episode in range(episodes):\n",
    "\n",
    "                    # gradient Monte Carlo algorithm\n",
    "                    gradient_monte_carlo(value_functions[j], alphas[j])\n",
    "\n",
    "                    # get state values under current value function\n",
    "                    state_values = [value_functions[j].value(state) for state in STATES]\n",
    "\n",
    "                    # get the root-mean-squared error\n",
    "                    errors[j, i, episode] += np.sqrt(np.mean(np.power(true_value[1: -1] - state_values, 2)))\n",
    "\n",
    "                return state_values  # <--\n",
    "                    \n",
    "    # average over independent runs\n",
    "    errors /= runs\n",
    "\n",
    "    for i in range(len(alphas)):\n",
    "        for j in range(len(orders)):\n",
    "            plt.plot(errors[i, j, :], label='%s order = %d' % (labels[i][j], orders[j]))\n",
    "    plt.xlabel('Episodes')\n",
    "    plt.ylabel('RMSVE')\n",
    "    plt.legend()\n",
    "\n",
    "    plt.show()"
   ]
  },
  {
   "cell_type": "code",
   "execution_count": 225,
   "metadata": {},
   "outputs": [],
   "source": [
    "true_value = compute_true_value()"
   ]
  },
  {
   "cell_type": "code",
   "execution_count": 227,
   "metadata": {},
   "outputs": [
    {
     "data": {
      "text/plain": [
       "[<matplotlib.lines.Line2D at 0x7f0c72933d30>]"
      ]
     },
     "execution_count": 227,
     "metadata": {},
     "output_type": "execute_result"
    },
    {
     "data": {
      "image/png": "[encoded data removed]",
      "text/plain": [
       "<Figure size 432x288 with 1 Axes>"
      ]
     },
     "metadata": {},
     "output_type": "display_data"
    }
   ],
   "source": [
    "plt.plot(true_value[1:-1])"
   ]
  },
  {
   "cell_type": "code",
   "execution_count": 246,
   "metadata": {},
   "outputs": [
    {
     "data": {
      "text/plain": [
       "(1002,)"
      ]
     },
     "execution_count": 246,
     "metadata": {},
     "output_type": "execute_result"
    }
   ],
   "source": [
    "env.V_approx.shape\n",
    "env_sh = np.array([*env.V_approx, 0])\n",
    "env_sh.shape"
   ]
  },
  {
   "cell_type": "code",
   "execution_count": 250,
   "metadata": {},
   "outputs": [],
   "source": [
    "state_values = figure_9_5(env_sh)"
   ]
  },
  {
   "cell_type": "code",
   "execution_count": 263,
   "metadata": {
    "scrolled": true
   },
   "outputs": [
    {
     "data": {
      "text/plain": [
       "(1001,)"
      ]
     },
     "execution_count": 263,
     "metadata": {},
     "output_type": "execute_result"
    }
   ],
   "source": [
    "np.array(V).shape"
   ]
  },
  {
   "cell_type": "code",
   "execution_count": 267,
   "metadata": {},
   "outputs": [
    {
     "data": {
      "text/plain": [
       "0.1342640612026904"
      ]
     },
     "execution_count": 267,
     "metadata": {},
     "output_type": "execute_result"
    }
   ],
   "source": [
    "np.sqrt(np.mean(np.power(true_value[1: ] - np.array(V), 2)))"
   ]
  },
  {
   "cell_type": "code",
   "execution_count": 280,
   "metadata": {},
   "outputs": [
    {
     "data": {
      "text/plain": [
       "0.1539685747097708"
      ]
     },
     "execution_count": 280,
     "metadata": {},
     "output_type": "execute_result"
    }
   ],
   "source": [
    "np.sqrt(np.mean(np.power(env.V_approx - np.array(V), 2)))"
   ]
  },
  {
   "cell_type": "code",
   "execution_count": 272,
   "metadata": {},
   "outputs": [
    {
     "data": {
      "text/plain": [
       "-1.001"
      ]
     },
     "execution_count": 272,
     "metadata": {},
     "output_type": "execute_result"
    }
   ],
   "source": [
    "env.V_approx[0]"
   ]
  },
  {
   "cell_type": "code",
   "execution_count": 270,
   "metadata": {},
   "outputs": [
    {
     "data": {
      "text/plain": [
       "[<matplotlib.lines.Line2D at 0x7f0c7266e198>]"
      ]
     },
     "execution_count": 270,
     "metadata": {},
     "output_type": "execute_result"
    },
    {
     "data": {
      "image/png": "[encoded data removed]",
      "text/plain": [
       "<Figure size 432x288 with 1 Axes>"
      ]
     },
     "metadata": {},
     "output_type": "display_data"
    }
   ],
   "source": [
    "plt.plot(state_values)\n",
    "plt.plot(true_value[1:-1], color='orange')\n",
    "plt.plot(V, color='blue')\n",
    "plt.plot(env.V_approx, color='red')"
   ]
  },
  {
   "cell_type": "code",
   "execution_count": null,
   "metadata": {},
   "outputs": [],
   "source": [
    "np.sqrt(np.mean(np.power(true_value[1: -1] - state_values, 2)))"
   ]
  },
  {
   "cell_type": "code",
   "execution_count": 241,
   "metadata": {
    "scrolled": true
   },
   "outputs": [
    {
     "data": {
      "image/png": "[encoded data removed]",
      "text/plain": [
       "<Figure size 432x288 with 1 Axes>"
      ]
     },
     "metadata": {},
     "output_type": "display_data"
    }
   ],
   "source": [
    "figure_9_5(true_value)"
   ]
  },
  {
   "cell_type": "code",
   "execution_count": 223,
   "metadata": {},
   "outputs": [],
   "source": [
    "# # of states except for terminal states\n",
    "N_STATES = 1000\n",
    "\n",
    "# all states\n",
    "STATES = np.arange(1, N_STATES + 1)\n",
    "\n",
    "# start from a central state\n",
    "START_STATE = 500\n",
    "\n",
    "# terminal states\n",
    "END_STATES = [0, N_STATES + 1]\n",
    "\n",
    "# possible actions\n",
    "ACTION_LEFT = -1\n",
    "ACTION_RIGHT = 1\n",
    "ACTIONS = [ACTION_LEFT, ACTION_RIGHT]\n",
    "\n",
    "# maximum stride for an action\n",
    "STEP_RANGE = 100"
   ]
  },
  {
   "cell_type": "code",
   "execution_count": 224,
   "metadata": {},
   "outputs": [],
   "source": [
    "def compute_true_value():\n",
    "    # true state value, just a promising guess\n",
    "    true_value = np.arange(-1001, 1003, 2) / 1001.0\n",
    "\n",
    "    # Dynamic programming to find the true state values, based on the promising guess above\n",
    "    # Assume all rewards are 0, given that we have already given value -1 and 1 to terminal states\n",
    "    while True:\n",
    "        old_value = np.copy(true_value)\n",
    "        for state in STATES:\n",
    "            true_value[state] = 0\n",
    "            for action in ACTIONS:\n",
    "                for step in range(1, STEP_RANGE + 1):\n",
    "                    step *= action\n",
    "                    next_state = state + step\n",
    "                    next_state = max(min(next_state, N_STATES + 1), 0)\n",
    "                    # asynchronous update for faster convergence\n",
    "                    true_value[state] += 1.0 / (2 * STEP_RANGE) * true_value[next_state]\n",
    "        error = np.sum(np.abs(old_value - true_value))\n",
    "        if error < 1e-2:\n",
    "            break\n",
    "    # correct the state value for terminal states to 0\n",
    "    true_value[0] = true_value[-1] = 0\n",
    "\n",
    "    return true_value"
   ]
  },
  {
   "cell_type": "code",
   "execution_count": 231,
   "metadata": {},
   "outputs": [],
   "source": [
    "# a wrapper class for polynomial / Fourier -based value function\n",
    "POLYNOMIAL_BASES = 0\n",
    "FOURIER_BASES = 1\n",
    "class BasesValueFunction:\n",
    "    # @order: # of bases, each function also has one more constant parameter (called bias in machine learning)\n",
    "    # @type: polynomial bases or Fourier bases\n",
    "    def __init__(self, order, type):\n",
    "        self.order = order\n",
    "        self.weights = np.zeros(order + 1)\n",
    "\n",
    "        # set up bases function\n",
    "        self.bases = []\n",
    "        if type == POLYNOMIAL_BASES:\n",
    "            for i in range(0, order + 1):\n",
    "                self.bases.append(lambda s, i=i: pow(s, i))\n",
    "        elif type == FOURIER_BASES:\n",
    "            for i in range(0, order + 1):\n",
    "                self.bases.append(lambda s, i=i: np.cos(i * np.pi * s))\n",
    "\n",
    "    # get the value of @state\n",
    "    def value(self, state):\n",
    "        # map the state space into [0, 1]\n",
    "        state /= float(N_STATES)\n",
    "        # get the feature vector\n",
    "        feature = np.asarray([func(state) for func in self.bases])\n",
    "        return np.dot(self.weights, feature)\n",
    "\n",
    "    def update(self, delta, state):\n",
    "        # map the state space into [0, 1]\n",
    "        state /= float(N_STATES)\n",
    "        # get derivative value\n",
    "        derivative_value = np.asarray([func(state) for func in self.bases])\n",
    "        self.weights += delta * derivative_value"
   ]
  },
  {
   "cell_type": "code",
   "execution_count": 236,
   "metadata": {},
   "outputs": [],
   "source": [
    "def gradient_monte_carlo(value_function, alpha, distribution=None):\n",
    "    state = START_STATE\n",
    "    trajectory = [state]\n",
    "\n",
    "    # We assume gamma = 1, so return is just the same as the latest reward\n",
    "    reward = 0.0\n",
    "    while state not in END_STATES:\n",
    "        action = get_action()\n",
    "        next_state, reward = step(state, action)\n",
    "        trajectory.append(next_state)\n",
    "        state = next_state\n",
    "\n",
    "    # Gradient update for each state in this trajectory\n",
    "    for state in trajectory[:-1]:\n",
    "        delta = alpha * (reward - value_function.value(state))\n",
    "        value_function.update(delta, state)\n",
    "        if distribution is not None:\n",
    "            distribution[state] += 1"
   ]
  },
  {
   "cell_type": "code",
   "execution_count": 238,
   "metadata": {},
   "outputs": [],
   "source": [
    "def get_action():\n",
    "    if np.random.binomial(1, 0.5) == 1:\n",
    "        return 1\n",
    "    return -1"
   ]
  },
  {
   "cell_type": "code",
   "execution_count": 240,
   "metadata": {},
   "outputs": [],
   "source": [
    "def step(state, action):\n",
    "    step = np.random.randint(1, STEP_RANGE + 1)\n",
    "    step *= action\n",
    "    state += step\n",
    "    state = max(min(state, N_STATES + 1), 0)\n",
    "    if state == 0:\n",
    "        reward = -1\n",
    "    elif state == N_STATES + 1:\n",
    "        reward = 1\n",
    "    else:\n",
    "        reward = 0\n",
    "    return state, reward"
   ]
  },
  {
   "cell_type": "code",
   "execution_count": null,
   "metadata": {},
   "outputs": [],
   "source": []
  },
  {
   "cell_type": "code",
   "execution_count": null,
   "metadata": {},
   "outputs": [],
   "source": [
    "true_value = compute_true_value()"
   ]
  }
 ],
 "metadata": {
  "kernelspec": {
   "display_name": "Python 3",
   "language": "python",
   "name": "python3"
  },
  "language_info": {
   "codemirror_mode": {
    "name": "ipython",
    "version": 3
   },
   "file_extension": ".py",
   "mimetype": "text/x-python",
   "name": "python",
   "nbconvert_exporter": "python",
   "pygments_lexer": "ipython3",
   "version": "3.6.5"
  }
 },
 "nbformat": 4,
 "nbformat_minor": 2
}
