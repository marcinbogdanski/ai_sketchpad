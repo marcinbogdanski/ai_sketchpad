{
 "cells": [
  {
   "cell_type": "markdown",
   "metadata": {},
   "source": [
    "<br/>\n",
    "\n",
    "$$ \\huge{\\underline{\\textbf{ Linear Models }}} $$\n",
    "\n",
    "$$ \\large{\\textbf{ Polynomial and Fourier Bases }} $$\n",
    "\n",
    "<br/>"
   ]
  },
  {
   "cell_type": "markdown",
   "metadata": {},
   "source": [
    "<center>Implementation of <b>Polynomial and Fourier Bases</b></center>\n",
    "<center>from Sutton and Barto 2018, <b>chapter 9.5</b>.</center>\n",
    "<center>Book available for free <a href=\"http://incompleteideas.net/book/the-book-2nd.html\">here</a></center>\n",
    "\n",
    "<br/>"
   ]
  },
  {
   "cell_type": "markdown",
   "metadata": {},
   "source": [
    "We are going to use Gradient MC algorithm from chapter 9.3 as a learning algorithm. Before continuing you should familiarise yourself properly with [chapter 9.3](0903a_Gradient_MC.ipynb). We will use the \"fixed\" version of Gradient MC, repeated here for reference.\n",
    "\n",
    "One notable difference is that this version takes callback and trace arguments, so we can log results after each episode. This is used to reproduce figures in the book."
   ]
  },
  {
   "cell_type": "code",
   "execution_count": 1,
   "metadata": {},
   "outputs": [],
   "source": [
    "def gradient_MC(env, policy, ep, gamma, model, callback=None, trace=None):\n",
    "    \"\"\"Gradient Monte Carlo Algorithm\n",
    "    \n",
    "    Params:\n",
    "        env    - environment\n",
    "        policy - function in a form: policy(state)->action\n",
    "        ep     - number of episodes to run\n",
    "        gamma  - discount factor [0..1]\n",
    "        model  - function approximator, already initialised, with method:\n",
    "                     train(state, target) -> None\n",
    "        callback - function in a form: callback(episode, model, trace) -> None\n",
    "        trace  - passed to callback, so it can log data into it\n",
    "    \"\"\"\n",
    "    for e_ in range(ep):\n",
    "        traj, T = generate_episode(env, policy)\n",
    "        Gt = 0\n",
    "        for t in range(T-1,-1,-1):\n",
    "            St, _, _, _ = traj[t]      # (st, rew, done, act)\n",
    "            _, Rt_1, _, _ = traj[t+1]\n",
    "            \n",
    "            Gt = gamma * Gt + Rt_1\n",
    "            model.train(St, Gt)\n",
    "               \n",
    "        if callback is not None:\n",
    "            callback(e_, model, trace)"
   ]
  },
  {
   "cell_type": "code",
   "execution_count": 2,
   "metadata": {},
   "outputs": [],
   "source": [
    "def generate_episode(env, policy):\n",
    "    \"\"\"Generete one complete episode.\n",
    "    \n",
    "    Returns:\n",
    "        trajectory: list of tuples [(st, rew, done, act), (...), (...)],\n",
    "                    where St can be e.g tuple of ints or anything really\n",
    "        T: index of terminal state, NOT length of trajectory\n",
    "    \"\"\"\n",
    "    trajectory = []\n",
    "    done = True\n",
    "    while True:\n",
    "        # === time step starts here ===\n",
    "        if done:  St, Rt, done = env.reset(), None, False\n",
    "        else:     St, Rt, done = env.step(At)\n",
    "        At = policy(St)\n",
    "        trajectory.append((St, Rt, done, At))\n",
    "        if done:  break\n",
    "        # === time step ends here ===\n",
    "    return trajectory, len(trajectory)-1"
   ]
  },
  {
   "cell_type": "markdown",
   "metadata": {},
   "source": [
    "---"
   ]
  },
  {
   "cell_type": "markdown",
   "metadata": {},
   "source": [
    "<table>\n",
    "    <tr>\n",
    "        <td style=\"border-color: white;\"><img src=\"assets/fig_0905.png\"/></td>\n",
    "    </tr>\n",
    "    <tr>\n",
    "        <td style=\"border-color: white;\"><center>Figure 9.5 - added noise due to reduced nb of runs to 3 from 30 in the book<center/></td>\n",
    "    </tr>\n",
    "</table>"
   ]
  },
  {
   "cell_type": "markdown",
   "metadata": {},
   "source": [
    "# Environment Setup\n",
    "\n",
    "All environment and plotting code is exactly the same as in [chapter 9.3](0903a_Gradient_MC.ipynb). All the code is available here: [helpers_0905.py](helpers_0905.py)"
   ]
  },
  {
   "cell_type": "code",
   "execution_count": 3,
   "metadata": {},
   "outputs": [],
   "source": [
    "import numpy as np\n",
    "import matplotlib.pyplot as plt\n",
    "from helpers_0905 import LinearEnv, plot_linear"
   ]
  },
  {
   "cell_type": "code",
   "execution_count": 4,
   "metadata": {},
   "outputs": [],
   "source": [
    "env = LinearEnv()"
   ]
  },
  {
   "cell_type": "code",
   "execution_count": 5,
   "metadata": {},
   "outputs": [],
   "source": [
    "def policy(st):\n",
    "    return np.random.choice([0, 1])"
   ]
  },
  {
   "cell_type": "markdown",
   "metadata": {},
   "source": [
    "# Polynomial Basis\n",
    "\n",
    "In [chapter 9.3](0903a_Gradient_MC.ipynb) we approximated state value function by grouping 1000 states into 10 groups, each group with its own value. Here we will implement drop-in replacement for that approximator that will fit polynomial instead. Actually, as we will soon see, all approximators in this chapter are compatible drop-in replacements.\n",
    "\n",
    "Box from the book as reference.\n",
    "\n",
    "<img src=\"assets/0905_Poly_Basis.png\"/>\n",
    "<center>Polynomial Basis - from Sutton and Barto (2018) _Reinforcement Learning: An Introduction_, chapter 9.5.1</center>"
   ]
  },
  {
   "cell_type": "code",
   "execution_count": 6,
   "metadata": {},
   "outputs": [],
   "source": [
    "class PolynomialFuncApprox():\n",
    "    \"\"\"Polynomial function approximator\"\"\"\n",
    "    def __init__(self, learn_rate, order, nb_states):\n",
    "        self._lr = learn_rate\n",
    "        self._order = order\n",
    "        self._nb_states = nb_states\n",
    "        self._w = np.zeros(order+1)                    # weights\n",
    "        \n",
    "    def reset(self):\n",
    "        self._w = np.zeros(self._order+1)\n",
    "        \n",
    "    def evaluate(self, state):\n",
    "        st01 = state / self._nb_states                 # map to 0..1\n",
    "        x = np.power(st01, range(self._order+1))       # x = [st**0, st**1, ..., st**order]\n",
    "        return x @ self._w                             # linear combination, i.e. dot product\n",
    "\n",
    "    def train(self, state, target):\n",
    "        st01 = state / self._nb_states                 # map to 0..1\n",
    "        x = np.power(st01, range(self._order+1))       # x = [st**0, st**1, ..., st**order]\n",
    "        grad = x                                       # grad. of lin. comb. is input x\n",
    "        \n",
    "        v_hat = self.evaluate(state)\n",
    "        self._w += self._lr * (target - v_hat) * grad  # Gradient MC update, see chapt. 9.3"
   ]
  },
  {
   "cell_type": "markdown",
   "metadata": {},
   "source": [
    "### Polynomial Basis Test"
   ]
  },
  {
   "cell_type": "code",
   "execution_count": 7,
   "metadata": {},
   "outputs": [
    {
     "data": {
      "image/png": "[encoded data removed]",
      "text/plain": [
       "<Figure size 432x288 with 1 Axes>"
      ]
     },
     "metadata": {},
     "output_type": "display_data"
    }
   ],
   "source": [
    "model = PolynomialFuncApprox(learn_rate=0.0001, order=5, nb_states=1000)\n",
    "gradient_MC(env, policy, ep=1000, gamma=1.0, model=model)\n",
    "V = [model.evaluate(st) for st in range(1001)]\n",
    "plot_linear(V, env)"
   ]
  },
  {
   "cell_type": "markdown",
   "metadata": {},
   "source": [
    "# Fourier Basis\n",
    "\n",
    "<img src=\"assets/0905_Fourier_Basis.png\"/>\n",
    "<center>Fourier Basis - both from Sutton and Barto (2018) _Reinforcement Learning: An Introduction_, chapter 9.5.2 </center>"
   ]
  },
  {
   "cell_type": "code",
   "execution_count": 8,
   "metadata": {},
   "outputs": [],
   "source": [
    "class FourierFuncApprox():\n",
    "    \"\"\"Polynomial function approximator\"\"\"\n",
    "    def __init__(self, learn_rate, order, nb_states):\n",
    "        self._lr = learn_rate\n",
    "        self._order = order\n",
    "        self._nb_states = nb_states\n",
    "        self._w = np.zeros(order+1)                    # weights\n",
    "        \n",
    "    def reset(self):\n",
    "        self._w = np.zeros(self._order+1)\n",
    "        \n",
    "    def evaluate(self, state):\n",
    "        st01 = state / self._nb_states                 # map to 0..1\n",
    "        c_i = np.arange(self._order+1)\n",
    "        x = np.cos(np.pi * st01 * c_i)                 # x = [cos(pi*st*0), cos(pi*st*1), ...]\n",
    "        return x @ self._w                             # linear combination, i.e. dot product\n",
    "    \n",
    "\n",
    "    def train(self, state, target):\n",
    "        st01 = state / self._nb_states                 # map to 0..1\n",
    "        c_i = np.arange(self._order+1)\n",
    "        x = np.cos(np.pi * st01 * c_i)                 # x = [cos(pi*st*0), cos(pi*st*1), ...]\n",
    "        grad = x                                       # grad. of lin. comb. is just x\n",
    "        \n",
    "        v_hat = self.evaluate(state)\n",
    "        self._w += self._lr * (target - v_hat) * grad  # Gradient MC update, see chapt. 9.3"
   ]
  },
  {
   "cell_type": "markdown",
   "metadata": {},
   "source": [
    "### Fourier Basis Test"
   ]
  },
  {
   "cell_type": "code",
   "execution_count": 9,
   "metadata": {},
   "outputs": [
    {
     "data": {
      "image/png": "[encoded data removed]",
      "text/plain": [
       "<Figure size 432x288 with 1 Axes>"
      ]
     },
     "metadata": {},
     "output_type": "display_data"
    }
   ],
   "source": [
    "model = FourierFuncApprox(learn_rate=0.0001, order=5, nb_states=1000)\n",
    "gradient_MC(env, policy, ep=1000, gamma=1.0, model=model)\n",
    "V = [model.evaluate(st) for st in range(1001)]\n",
    "plot_linear(V, env)"
   ]
  },
  {
   "cell_type": "markdown",
   "metadata": {},
   "source": [
    "# Recreate Figure 9.5"
   ]
  },
  {
   "cell_type": "markdown",
   "metadata": {},
   "source": [
    "Callback is called by *gradient_MC* every single timestep:\n",
    "* compute V for all states\n",
    "* compute Root Mean Squared Error (skip terminal state 0, state 1001 is out of boundry)\n",
    "* append to *rmse* list"
   ]
  },
  {
   "cell_type": "code",
   "execution_count": 10,
   "metadata": {},
   "outputs": [],
   "source": [
    "def callback(episode, model, trace):\n",
    "    \"\"\"Called from gradient_MC after every episode.\n",
    "    \n",
    "    Params:\n",
    "        episode [int] - episode number\n",
    "        model [obj]   - function approximator\n",
    "        trace [list]  - list to write results to\"\"\"\n",
    "    V = np.array([model.evaluate(st) for st in range(1001)])                   # arr of float\n",
    "    err = np.sqrt(np.mean(np.power((np.array(V[1:]) - env.V_approx[1:]), 2)))  # float\n",
    "    trace.append(err)"
   ]
  },
  {
   "cell_type": "markdown",
   "metadata": {},
   "source": [
    "Define experiment"
   ]
  },
  {
   "cell_type": "code",
   "execution_count": 12,
   "metadata": {},
   "outputs": [],
   "source": [
    "def experiment(runs, env, policy, ep, gamma, model, callback):\n",
    "    results = []  # dims: [nb_runs, nb_episodes]\n",
    "    for r in range(runs):\n",
    "        trace = []  # dim: [nb_episodes]\n",
    "        model.reset()\n",
    "        gradient_MC(env, policy, ep, gamma, model, callback=callback, trace=trace)\n",
    "        results.append(trace)\n",
    "    return np.average(results, axis=0)"
   ]
  },
  {
   "cell_type": "markdown",
   "metadata": {},
   "source": [
    "Compute RMSE for polynomial approximator. This may take 5+ minutes."
   ]
  },
  {
   "cell_type": "code",
   "execution_count": 13,
   "metadata": {},
   "outputs": [],
   "source": [
    "model = PolynomialFuncApprox(learn_rate=0.0001, order=5, nb_states=1000)\n",
    "poly_order_5 = experiment(3, env, policy, ep=5000, gamma=1.0, model=model, callback=callback)"
   ]
  },
  {
   "cell_type": "markdown",
   "metadata": {},
   "source": [
    "And the Fourier approximator. This may take 5+ minutes."
   ]
  },
  {
   "cell_type": "code",
   "execution_count": 14,
   "metadata": {},
   "outputs": [],
   "source": [
    "model = FourierFuncApprox(learn_rate=0.00005, order=5, nb_states=1000)\n",
    "fourier_order_5 = experiment(3, env, policy, ep=5000, gamma=1.0, model=model, callback=callback)"
   ]
  },
  {
   "cell_type": "markdown",
   "metadata": {},
   "source": [
    "Plot results"
   ]
  },
  {
   "cell_type": "code",
   "execution_count": 16,
   "metadata": {},
   "outputs": [
    {
     "data": {
      "image/png": "[encoded data removed]",
      "text/plain": [
       "<Figure size 432x288 with 1 Axes>"
      ]
     },
     "metadata": {},
     "output_type": "display_data"
    }
   ],
   "source": [
    "fig = plt.figure()\n",
    "ax = fig.add_subplot(111)\n",
    "ax.plot(poly_order_5, color='orangered', label='Polynomial Basis (order=5)')\n",
    "ax.plot(fourier_order_5, color='seagreen', label='Fourier Basis (order=5)')\n",
    "ax.set_ylabel('$\\sqrt{\\overline{VE}}$ averaged over 3 runs')\n",
    "ax.set_xlabel('Episodes')\n",
    "# plt.savefig('assets/fig_0905.png')\n",
    "ax.legend()\n",
    "plt.show()"
   ]
  }
 ],
 "metadata": {
  "kernelspec": {
   "display_name": "Python 3",
   "language": "python",
   "name": "python3"
  },
  "language_info": {
   "codemirror_mode": {
    "name": "ipython",
    "version": 3
   },
   "file_extension": ".py",
   "mimetype": "text/x-python",
   "name": "python",
   "nbconvert_exporter": "python",
   "pygments_lexer": "ipython3",
   "version": "3.6.5"
  }
 },
 "nbformat": 4,
 "nbformat_minor": 2
}
