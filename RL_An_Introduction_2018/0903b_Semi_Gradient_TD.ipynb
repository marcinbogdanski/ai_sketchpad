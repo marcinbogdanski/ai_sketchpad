{
 "cells": [
  {
   "cell_type": "markdown",
   "metadata": {},
   "source": [
    "<br/>\n",
    "\n",
    "$$ \\huge{\\underline{\\textbf{ Semi-Gradient TD }}} $$\n",
    "\n",
    "<br/>\n",
    "\n",
    "<img src=\"assets/0903b_Semi_Gradient_TD.png\"/>\n",
    "<center> From Sutton and Barto (2018) _Reinforcement Learning: An Introduction_, chapter 9.3 </center>\n",
    "\n",
    "<br/>"
   ]
  },
  {
   "cell_type": "markdown",
   "metadata": {},
   "source": [
    "Implementation below matches the box exactly, but is for educational purposes only. Function approximator should be implemented as independent object - passing vector **w** around is impractical in actual program"
   ]
  },
  {
   "cell_type": "code",
   "execution_count": 1,
   "metadata": {},
   "outputs": [],
   "source": [
    "def semi_gradient_TD(env, policy, ep, gamma, alpha, init_w, v_hat, grad_v_hat):\n",
    "    \"\"\"Semi-Gradient TD Algorithm\n",
    "    \n",
    "    Params:\n",
    "        env        - environment\n",
    "        policy     - function in a form: policy(state)->action\n",
    "        ep         - number of episodes to run\n",
    "        gamma      - discount [0..1]\n",
    "        alpha      - step size (0..1]\n",
    "        init_w     - function if form init_w() -> weights\n",
    "        v_hat      - function in form v_hat(state, weights) -> float\n",
    "        grad_v_hat - function in form grad_v_hat(state, weights) -> delta_weights\n",
    "    \"\"\"\n",
    "    w = init_w()\n",
    "        \n",
    "    for _ in range(ep):\n",
    "        S = env.reset()\n",
    "        while True:\n",
    "            A = policy(S)\n",
    "            S_, R, done = env.step(A)\n",
    "            w = w + alpha * (R + gamma * v_hat(S_, w) - v_hat(S, w)) * grad_v_hat(S, w)\n",
    "            S = S_\n",
    "            if done: break\n",
    "    \n",
    "    return w"
   ]
  },
  {
   "cell_type": "markdown",
   "metadata": {},
   "source": [
    "Helper functions:"
   ]
  },
  {
   "cell_type": "code",
   "execution_count": 2,
   "metadata": {},
   "outputs": [],
   "source": [
    "def init_w():\n",
    "    return np.zeros(10)      # weights for 10 groups\n",
    "        \n",
    "def v_hat(St, w):\n",
    "    if St in [0, 1001]: return 0    # return zero for terminal states\n",
    "    group = (St-1) // 100           # [1-100, 101-200, ..., 901-1000] -> [0, 1, ..., 9]\n",
    "    return w[group]\n",
    "    \n",
    "def grad_v_hat(St, w):\n",
    "    grad = np.zeros_like(w)\n",
    "    grad[(St-1)//100] = 1           # St=[1-100, ..., 901-1000] -> [0, ..., 9]\n",
    "    return grad"
   ]
  },
  {
   "cell_type": "markdown",
   "metadata": {},
   "source": [
    "For TD prediction to work, **V for terminal states must be equal to zero, always**. Value of terminal states is zero because game is over and there is no more reward to get. Value of next-to-last state is reward for last transition only, and so on. If not, then bad things will happen."
   ]
  },
  {
   "cell_type": "markdown",
   "metadata": {},
   "source": [
    "---"
   ]
  },
  {
   "cell_type": "markdown",
   "metadata": {},
   "source": [
    "<table>\n",
    "    <tr>\n",
    "        <td style=\"border-color: white;\"><img src=\"assets/fig_0902a.png\"/></td>\n",
    "    </tr>\n",
    "    <tr>\n",
    "        <td style=\"border-color: white;\"><center>Figure 9.2 (left) - \"True\" value is approximated with stright line<center/></td>\n",
    "    </tr>\n",
    "</table>"
   ]
  },
  {
   "cell_type": "markdown",
   "metadata": {},
   "source": [
    "# Alternative Implementation\n",
    "\n",
    "Object oriented implementation that treats function approximator as a black-box trainable model."
   ]
  },
  {
   "cell_type": "code",
   "execution_count": 3,
   "metadata": {},
   "outputs": [],
   "source": [
    "def semi_gradient_TD_fix(env, policy, ep, gamma, model):\n",
    "    \"\"\"Semi-Gradient TD Algorithm\n",
    "    \n",
    "    Params:\n",
    "        env        - environment\n",
    "        policy     - function in a form: policy(state)->action\n",
    "        ep         - number of episodes to run\n",
    "        gamma      - discount [0..1]\n",
    "        model      - function approximator, already initialised, with method:\n",
    "                     train(state, target) -> None\n",
    "    \"\"\"        \n",
    "    for _ in range(ep):\n",
    "        S = env.reset()\n",
    "        while True:\n",
    "            A = policy(S)\n",
    "            S_, R, done = env.step(A)\n",
    "            model.train(S, R + gamma * model.evaluate(S_))\n",
    "            S = S_\n",
    "            if done: break"
   ]
  },
  {
   "cell_type": "markdown",
   "metadata": {},
   "source": [
    "Function approximator"
   ]
  },
  {
   "cell_type": "code",
   "execution_count": 4,
   "metadata": {},
   "outputs": [],
   "source": [
    "class AggregateFunctApprox():\n",
    "    \"\"\"Very simple function approximator\"\"\"\n",
    "    def __init__(self, learn_rate, nb_groups, group_size):\n",
    "        self._lr = learn_rate\n",
    "        self._nb_groups = nb_groups\n",
    "        self._group_size = group_size\n",
    "        self._w = np.zeros(nb_groups)  # weights\n",
    "        \n",
    "    def evaluate(self, state):\n",
    "        if state <= 0 or state > self._nb_groups * self._group_size:\n",
    "            return 0    # return zero for terminal states so TD works correctly\n",
    "        group = (state-1) // self._group_size         # [1-100, ..., 901-1000] -> [0, ..., 9]\n",
    "        return self._w[group]\n",
    "    \n",
    "    def train(self, state, target):        \n",
    "        # Because grad_v_hat is a one-hot vector, we can optimize:\n",
    "        group = (state-1) // self._group_size         # [1-100, ..., 901-1000] -> [0, ..., 9]\n",
    "        self._w[group] += self._lr * (target - self._w[group])  # standard TD update!\n",
    "        \n",
    "        # Original impl., for reference:\n",
    "        # w = w + alpha * (R + gamma * v_hat(S_, w) - v_hat(S, w)) * grad_v_hat(S, w)"
   ]
  },
  {
   "cell_type": "markdown",
   "metadata": {},
   "source": [
    "# Evaluate Example 9.2 (left)"
   ]
  },
  {
   "cell_type": "code",
   "execution_count": 5,
   "metadata": {},
   "outputs": [],
   "source": [
    "import numpy as np\n",
    "import matplotlib.pyplot as plt"
   ]
  },
  {
   "cell_type": "markdown",
   "metadata": {},
   "source": [
    "Define environment, same as in example 9.1\n",
    "* V_approx values were picked by trial-and-error, they ignore both nonlinearity and terminal states (which should equal zero)"
   ]
  },
  {
   "cell_type": "code",
   "execution_count": 6,
   "metadata": {},
   "outputs": [],
   "source": [
    "class LinearEnv:\n",
    "    \"\"\"\n",
    "    State nb:   [   0       1   ...   499   500   501   ...   1000    1001  ]\n",
    "    State type: [terminal   .   ...    .   start   .    ...     .   terminal]\n",
    "    \"\"\"\n",
    "    V_approx = np.arange(-1001, 1001, 2) / 1000.0  # ignore nonlinearity at terminal states\n",
    "    \n",
    "    def __init__(self):\n",
    "        self.reset()\n",
    "        \n",
    "    def reset(self):\n",
    "        self._state = 500\n",
    "        self._done = False\n",
    "        return self._state\n",
    "        \n",
    "    def step(self, action):\n",
    "        if self._done: raise ValueError('Episode has terminated')\n",
    "    \n",
    "        if action == 0:   self._state -= np.random.randint(1, 101)  # step left\n",
    "        elif action == 1: self._state += np.random.randint(1, 101)  # step right\n",
    "        else: raise ValueError('Invalid action')\n",
    "            \n",
    "        self._state = np.clip(self._state, 0, 1001)  # clip to 0..1001\n",
    "        if self._state in [0, 1001]:                 # both 0 and 1001 are terminal\n",
    "            self._done = True\n",
    "        \n",
    "        if self._state == 0:\n",
    "            return self._state, -1, self._done       # state, rew, done\n",
    "        elif self._state == 1001:\n",
    "            return self._state, 1, self._done\n",
    "        else:\n",
    "            return self._state, 0, self._done"
   ]
  },
  {
   "cell_type": "markdown",
   "metadata": {},
   "source": [
    "Plotting"
   ]
  },
  {
   "cell_type": "code",
   "execution_count": 7,
   "metadata": {},
   "outputs": [],
   "source": [
    "def plot_linear(V, env, freq=None, saveimg=None):\n",
    "    fig = plt.figure()\n",
    "    ax = fig.add_subplot(111)\n",
    "    # Note, state 0 is terminal, so we exclude it\n",
    "    ax.plot(range(1,1001), env.V_approx[1:], color='red', linewidth=0.8, label='\"True\" value')\n",
    "    ax.plot(range(1,1001), V[1:], color='blue', linewidth=0.8, label='Approx. MC value')\n",
    "    ax.set_xlabel('State')\n",
    "    ax.set_ylabel('Value Scale')\n",
    "    ax.legend()\n",
    "       \n",
    "    plt.tight_layout()\n",
    "    if saveimg is not None:\n",
    "        plt.savefig(saveimg)\n",
    "    plt.show()    "
   ]
  },
  {
   "cell_type": "markdown",
   "metadata": {},
   "source": [
    "Create environment"
   ]
  },
  {
   "cell_type": "code",
   "execution_count": 8,
   "metadata": {},
   "outputs": [],
   "source": [
    "env = LinearEnv()"
   ]
  },
  {
   "cell_type": "markdown",
   "metadata": {},
   "source": [
    "Random policy"
   ]
  },
  {
   "cell_type": "code",
   "execution_count": 9,
   "metadata": {},
   "outputs": [],
   "source": [
    "def policy(st):\n",
    "    return np.random.choice([0, 1])"
   ]
  },
  {
   "cell_type": "markdown",
   "metadata": {},
   "source": [
    "Solve using original algorithm"
   ]
  },
  {
   "cell_type": "code",
   "execution_count": 10,
   "metadata": {},
   "outputs": [
    {
     "data": {
      "image/png": "[encoded data removed]",
      "text/plain": [
       "<Figure size 432x288 with 1 Axes>"
      ]
     },
     "metadata": {},
     "output_type": "display_data"
    }
   ],
   "source": [
    "weights = semi_gradient_TD(env, policy, ep=1000, gamma=1., alpha=0.1,\n",
    "                           init_w=init_w, v_hat=v_hat, grad_v_hat=grad_v_hat)\n",
    "V = [v_hat(st, weights) for st in range(0,1001)]\n",
    "plot_linear(V, env)"
   ]
  },
  {
   "cell_type": "markdown",
   "metadata": {},
   "source": [
    "Solve using function approximator"
   ]
  },
  {
   "cell_type": "code",
   "execution_count": 11,
   "metadata": {},
   "outputs": [
    {
     "data": {
      "image/png": "[encoded data removed]",
      "text/plain": [
       "<Figure size 432x288 with 1 Axes>"
      ]
     },
     "metadata": {},
     "output_type": "display_data"
    }
   ],
   "source": [
    "model = AggregateFunctApprox(learn_rate=0.1, nb_groups=10, group_size=100)\n",
    "semi_gradient_TD_fix(env, policy, ep=1000, gamma=1.0, model=model)\n",
    "V = [model.evaluate(st) for st in range(1001)]\n",
    "plot_linear(V, env)"
   ]
  },
  {
   "cell_type": "markdown",
   "metadata": {},
   "source": [
    "# Recreate Figure 9.2 (left)"
   ]
  },
  {
   "cell_type": "code",
   "execution_count": 12,
   "metadata": {
    "scrolled": true
   },
   "outputs": [],
   "source": [
    "weights = semi_gradient_TD(env, policy, ep=10000, gamma=1., alpha=0.001,\n",
    "                           init_w=init_w, v_hat=v_hat, grad_v_hat=grad_v_hat)\n",
    "V = [v_hat(st, weights) for st in range(1001)]"
   ]
  },
  {
   "cell_type": "code",
   "execution_count": 13,
   "metadata": {},
   "outputs": [
    {
     "data": {
      "image/png": "[encoded data removed]",
      "text/plain": [
       "<Figure size 432x288 with 1 Axes>"
      ]
     },
     "metadata": {},
     "output_type": "display_data"
    }
   ],
   "source": [
    "plot_linear(V, env, saveimg=None)  # 'assets/fig_0903b'"
   ]
  }
 ],
 "metadata": {
  "kernelspec": {
   "display_name": "Python 3",
   "language": "python",
   "name": "python3"
  },
  "language_info": {
   "codemirror_mode": {
    "name": "ipython",
    "version": 3
   },
   "file_extension": ".py",
   "mimetype": "text/x-python",
   "name": "python",
   "nbconvert_exporter": "python",
   "pygments_lexer": "ipython3",
   "version": "3.6.5"
  }
 },
 "nbformat": 4,
 "nbformat_minor": 2
}
