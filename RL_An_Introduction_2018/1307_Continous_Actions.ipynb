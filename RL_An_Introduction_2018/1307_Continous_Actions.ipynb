{
 "cells": [
  {
   "cell_type": "code",
   "execution_count": 1,
   "metadata": {},
   "outputs": [],
   "source": [
    "import numpy as np\n",
    "import matplotlib.pyplot as plt"
   ]
  },
  {
   "cell_type": "code",
   "execution_count": 2,
   "metadata": {},
   "outputs": [],
   "source": [
    "def gaussian(x, mean, std):\n",
    "    var = std**2\n",
    "    denom = (2*np.pi*var)**.5\n",
    "    num = np.exp( -(x-mean)**2 / (2*var) )\n",
    "    return num / denom"
   ]
  },
  {
   "cell_type": "code",
   "execution_count": null,
   "metadata": {},
   "outputs": [],
   "source": []
  },
  {
   "cell_type": "code",
   "execution_count": null,
   "metadata": {},
   "outputs": [],
   "source": []
  },
  {
   "cell_type": "code",
   "execution_count": 4,
   "metadata": {},
   "outputs": [
    {
     "name": "stdout",
     "output_type": "stream",
     "text": [
      "PASS\n"
     ]
    }
   ],
   "source": [
    "class TabularGaussinaPolicy:\n",
    "    \"\"\"Tabular action-state function 'approximator'\"\"\"\n",
    "    def __init__(self, lr, l2, nb_states, nb_actions):\n",
    "        assert isinstance(lr, float)\n",
    "        assert isinstance(nb_states, tuple)\n",
    "        assert isinstance(nb_actions, int)\n",
    "        self._lr = lr                                   # learning rate\n",
    "        self._l2 = l2\n",
    "        self.n_act = nb_actions\n",
    "        self._theta_mu = np.zeros((*nb_states, nb_actions))  # weights\n",
    "        self._theta_sigma = np.zeros((*nb_states, nb_actions))  # weights\n",
    "        \n",
    "    def pi(self, state):\n",
    "        \"\"\"Return policy, i.e. probability distribution over actions.\"\"\"\n",
    "        assert isinstance(state, (int, tuple))\n",
    "        assert self._theta_mu.ndim == 2 if isinstance(state, int) else len(state)+1\n",
    "        assert self._theta_sigma.ndim == 2 if isinstance(state, int) else len(state)+1\n",
    "        \n",
    "        mu = self._theta_mu[state].copy()\n",
    "        sigma = np.exp(self._theta_sigma[state])\n",
    "        return mu, sigma\n",
    "    \n",
    "    def pi_all(self):\n",
    "        mu = self._theta_mu\n",
    "        sigma = np.exp(self._theta_sigma)\n",
    "        return mu, sigma\n",
    "\n",
    "    def update(self, state, action, disc_return):\n",
    "        \n",
    "        mu = self._theta_mu[state]\n",
    "        sigma = np.exp(self._theta_sigma[state])\n",
    "        \n",
    "        grad_ln_theta_mu = (1/sigma**2) * (action-mu)            # Ex. 13.4\n",
    "        grad_ln_theta_sigma = (((action-mu)**2 / sigma**2) - 1)\n",
    "        \n",
    "        grad_ln_theta_mu -= self._l2 * self._theta_mu[state]\n",
    "        grad_ln_theta_sigma -= self._l2 * self._theta_sigma[state]\n",
    "        \n",
    "        self._theta_mu[state] += self._lr * grad_ln_theta_mu * disc_return\n",
    "        self._theta_sigma[state] += self._lr * grad_ln_theta_sigma * disc_return\n",
    "\n",
    "def test_tgp():\n",
    "    tgp = TabularGaussinaPolicy(lr=0.01, l2=0.0, nb_states=(2,), nb_actions=1)\n",
    "    tgp.update(1, 5.0, 1.0)\n",
    "    mu, sigma = tgp.pi(state=0)\n",
    "    assert np.alltrue(mu == 0.0)\n",
    "    assert np.alltrue(sigma == 1.0)\n",
    "    mu, sigma = tgp.pi(state=1)\n",
    "    assert np.alltrue(mu == 0.05)\n",
    "    assert np.allclose(sigma, 1.271249)\n",
    "\n",
    "    print('PASS')\n",
    "test_tgp()"
   ]
  },
  {
   "cell_type": "code",
   "execution_count": null,
   "metadata": {},
   "outputs": [],
   "source": []
  },
  {
   "cell_type": "code",
   "execution_count": 5,
   "metadata": {},
   "outputs": [],
   "source": [
    "tgp = TabularGaussinaPolicy(lr=0.01, l2=0.0, nb_states=(1,), nb_actions=1)"
   ]
  },
  {
   "cell_type": "code",
   "execution_count": 6,
   "metadata": {},
   "outputs": [],
   "source": [
    "res_mu = []\n",
    "res_sigma = []"
   ]
  },
  {
   "cell_type": "code",
   "execution_count": 7,
   "metadata": {},
   "outputs": [],
   "source": [
    "for i in range(2000):\n",
    "    tgp.update(state=0, action=5.0, disc_return=1.0)\n",
    "    mu, sigma = tgp.pi(state=0)\n",
    "    res_mu.append(mu[0])\n",
    "    res_sigma.append(sigma[0])\n",
    "\n",
    "res_mu = np.array(res_mu)\n",
    "res_sigma = np.array(res_sigma)"
   ]
  },
  {
   "cell_type": "code",
   "execution_count": 8,
   "metadata": {},
   "outputs": [
    {
     "data": {
      "text/plain": [
       "[<matplotlib.lines.Line2D at 0x7f8f0c377d90>]"
      ]
     },
     "execution_count": 8,
     "metadata": {},
     "output_type": "execute_result"
    },
    {
     "data": {
      "image/png": "[encoded data removed]",
      "text/plain": [
       "<Figure size 432x288 with 1 Axes>"
      ]
     },
     "metadata": {
      "needs_background": "light"
     },
     "output_type": "display_data"
    }
   ],
   "source": [
    "plt.plot(res_mu)\n",
    "plt.plot(res_sigma)"
   ]
  },
  {
   "cell_type": "code",
   "execution_count": 9,
   "metadata": {},
   "outputs": [
    {
     "data": {
      "text/plain": [
       "<matplotlib.collections.PolyCollection at 0x7f8f180d91d0>"
      ]
     },
     "execution_count": 9,
     "metadata": {},
     "output_type": "execute_result"
    },
    {
     "data": {
      "image/png": "[encoded data removed]",
      "text/plain": [
       "<Figure size 432x288 with 1 Axes>"
      ]
     },
     "metadata": {
      "needs_background": "light"
     },
     "output_type": "display_data"
    }
   ],
   "source": [
    "plt.plot(res_mu)\n",
    "plt.fill_between(range(len(res_mu)), res_mu-res_sigma, res_mu+res_sigma, alpha=0.2)"
   ]
  },
  {
   "cell_type": "code",
   "execution_count": null,
   "metadata": {},
   "outputs": [],
   "source": []
  },
  {
   "cell_type": "code",
   "execution_count": 40,
   "metadata": {},
   "outputs": [],
   "source": [
    "tgp = TabularGaussinaPolicy(lr=0.02, l2=0.05, nb_states=(1,), nb_actions=1)"
   ]
  },
  {
   "cell_type": "code",
   "execution_count": 41,
   "metadata": {},
   "outputs": [],
   "source": [
    "res_mu = []\n",
    "res_sigma = []"
   ]
  },
  {
   "cell_type": "code",
   "execution_count": 42,
   "metadata": {},
   "outputs": [],
   "source": [
    "for i in range(10000):\n",
    "    mu, sigma = tgp.pi(state=0)\n",
    "    action = np.random.normal(loc=mu[0], scale=sigma[0])\n",
    "    reward = gaussian(action, mean=2.0, std=1.0)\n",
    "    \n",
    "    tgp.update(state=0, action=action, disc_return=reward)\n",
    "    mu, sigma = tgp.pi(state=0)\n",
    "    res_mu.append(mu[0])\n",
    "    res_sigma.append(sigma[0])\n",
    "\n",
    "res_mu = np.array(res_mu)\n",
    "res_sigma = np.array(res_sigma)"
   ]
  },
  {
   "cell_type": "code",
   "execution_count": 43,
   "metadata": {},
   "outputs": [
    {
     "data": {
      "text/plain": [
       "<matplotlib.collections.PolyCollection at 0x7f8f0096f5d0>"
      ]
     },
     "execution_count": 43,
     "metadata": {},
     "output_type": "execute_result"
    },
    {
     "data": {
      "image/png": "[encoded data removed]",
      "text/plain": [
       "<Figure size 432x288 with 1 Axes>"
      ]
     },
     "metadata": {
      "needs_background": "light"
     },
     "output_type": "display_data"
    }
   ],
   "source": [
    "plt.plot(res_mu)\n",
    "plt.fill_between(range(len(res_mu)), res_mu-res_sigma, res_mu+res_sigma, alpha=0.2)"
   ]
  },
  {
   "cell_type": "code",
   "execution_count": null,
   "metadata": {},
   "outputs": [],
   "source": []
  },
  {
   "cell_type": "code",
   "execution_count": null,
   "metadata": {},
   "outputs": [],
   "source": []
  },
  {
   "cell_type": "markdown",
   "metadata": {},
   "source": [
    "# Basic Implementation - NumPy"
   ]
  },
  {
   "cell_type": "code",
   "execution_count": 1,
   "metadata": {},
   "outputs": [],
   "source": [
    "import numpy as np\n",
    "import matplotlib.pyplot as plt"
   ]
  },
  {
   "cell_type": "markdown",
   "metadata": {},
   "source": [
    "### Helpers"
   ]
  },
  {
   "cell_type": "code",
   "execution_count": 2,
   "metadata": {},
   "outputs": [],
   "source": [
    "def gaussian(x, mean, std):\n",
    "    var = std**2\n",
    "    denom = (2*np.pi*var)**.5\n",
    "    num = np.exp( -(x-mean)**2 / (2*var) )\n",
    "    return num / denom"
   ]
  },
  {
   "cell_type": "code",
   "execution_count": 3,
   "metadata": {},
   "outputs": [],
   "source": [
    "def pi(theta_mu, theta_sigma):\n",
    "    return np.random.normal(loc=theta_mu, scale=np.exp(theta_sigma))"
   ]
  },
  {
   "cell_type": "code",
   "execution_count": 4,
   "metadata": {},
   "outputs": [],
   "source": [
    "def x_mu(state):\n",
    "    return 1.0"
   ]
  },
  {
   "cell_type": "code",
   "execution_count": 5,
   "metadata": {},
   "outputs": [],
   "source": [
    "def x_sigma(state):\n",
    "    return 1.0"
   ]
  },
  {
   "cell_type": "code",
   "execution_count": 6,
   "metadata": {},
   "outputs": [],
   "source": [
    "def grad_ln_theta_mu(state, action, theta_mu, theta_sigma):\n",
    "    mu, sigma = theta_mu, np.exp(theta_sigma)\n",
    "    return (1 / sigma**2) * (action - mu) * x_mu(state)  # Ex. 13.4"
   ]
  },
  {
   "cell_type": "code",
   "execution_count": 7,
   "metadata": {},
   "outputs": [],
   "source": [
    "def grad_ln_theta_sigma(state, action, theta_mu, theta_sigma):\n",
    "    mu, sigma = theta_mu, np.exp(theta_sigma)\n",
    "    return (((action - mu)**2 / sigma**2) - 1) * x_sigma(state)"
   ]
  },
  {
   "cell_type": "markdown",
   "metadata": {},
   "source": [
    "### Show gradients"
   ]
  },
  {
   "cell_type": "code",
   "execution_count": 8,
   "metadata": {},
   "outputs": [],
   "source": [
    "theta_mu = 0.0\n",
    "theta_sigma = 0.0"
   ]
  },
  {
   "cell_type": "code",
   "execution_count": 9,
   "metadata": {},
   "outputs": [
    {
     "data": {
      "text/plain": [
       "5.0"
      ]
     },
     "execution_count": 9,
     "metadata": {},
     "output_type": "execute_result"
    }
   ],
   "source": [
    "grad_ln_theta_mu(None, 5.0, theta_mu, theta_sigma)"
   ]
  },
  {
   "cell_type": "code",
   "execution_count": 10,
   "metadata": {},
   "outputs": [
    {
     "data": {
      "text/plain": [
       "24.0"
      ]
     },
     "execution_count": 10,
     "metadata": {},
     "output_type": "execute_result"
    }
   ],
   "source": [
    "grad_ln_theta_sigma(None, 5.0, theta_mu, theta_sigma)"
   ]
  },
  {
   "cell_type": "code",
   "execution_count": 11,
   "metadata": {},
   "outputs": [],
   "source": [
    "aa = np.linspace(-3, 3)\n",
    "mm = grad_ln_theta_mu(None, aa, theta_mu, theta_sigma)\n",
    "ss = grad_ln_theta_sigma(None, aa, theta_mu, theta_sigma)"
   ]
  },
  {
   "cell_type": "code",
   "execution_count": 12,
   "metadata": {},
   "outputs": [
    {
     "data": {
      "text/plain": [
       "[<matplotlib.lines.Line2D at 0x7fb8989d3a50>]"
      ]
     },
     "execution_count": 12,
     "metadata": {},
     "output_type": "execute_result"
    },
    {
     "data": {
      "image/png": "[encoded data removed]",
      "text/plain": [
       "<Figure size 432x288 with 1 Axes>"
      ]
     },
     "metadata": {
      "needs_background": "light"
     },
     "output_type": "display_data"
    }
   ],
   "source": [
    "plt.plot(aa, mm)"
   ]
  },
  {
   "cell_type": "code",
   "execution_count": 13,
   "metadata": {},
   "outputs": [
    {
     "data": {
      "text/plain": [
       "[<matplotlib.lines.Line2D at 0x7fb8989151d0>]"
      ]
     },
     "execution_count": 13,
     "metadata": {},
     "output_type": "execute_result"
    },
    {
     "data": {
      "image/png": "[encoded data removed]",
      "text/plain": [
       "<Figure size 432x288 with 1 Axes>"
      ]
     },
     "metadata": {
      "needs_background": "light"
     },
     "output_type": "display_data"
    }
   ],
   "source": [
    "plt.plot(aa, ss)"
   ]
  },
  {
   "cell_type": "markdown",
   "metadata": {},
   "source": [
    "### Plotting"
   ]
  },
  {
   "cell_type": "code",
   "execution_count": 14,
   "metadata": {},
   "outputs": [],
   "source": [
    "def print_plot(theta_mu, theta_sigma):\n",
    "    mu, sigma = theta_mu, np.exp(theta_sigma)\n",
    "    \n",
    "    print('mu:', mu)\n",
    "    print('sigma:', sigma)\n",
    "        \n",
    "    res = []\n",
    "    for i in range(100000):\n",
    "        res.append(pi(theta_mu, theta_sigma))\n",
    "    plt.hist(res, bins=100, density=True)\n",
    "\n",
    "    X = np.linspace(-10, 10)\n",
    "    Y = gaussian(X, mean=0.0, std=1.0)\n",
    "    plt.plot(X, Y)\n",
    "    Y = gaussian(X, mean=mu, std=sigma)\n",
    "    plt.plot(X, Y, color='red')\n",
    "\n",
    "    plt.show()"
   ]
  },
  {
   "cell_type": "code",
   "execution_count": 15,
   "metadata": {},
   "outputs": [
    {
     "name": "stdout",
     "output_type": "stream",
     "text": [
      "mu: 0.0\n",
      "sigma: 1.0\n"
     ]
    },
    {
     "data": {
      "image/png": "[encoded data removed]",
      "text/plain": [
       "<Figure size 432x288 with 1 Axes>"
      ]
     },
     "metadata": {
      "needs_background": "light"
     },
     "output_type": "display_data"
    }
   ],
   "source": [
    "print_plot(theta_mu, theta_sigma)"
   ]
  },
  {
   "cell_type": "markdown",
   "metadata": {},
   "source": [
    "### Step-by-Step"
   ]
  },
  {
   "cell_type": "code",
   "execution_count": 16,
   "metadata": {},
   "outputs": [],
   "source": [
    "theta_mu = 0.0\n",
    "theta_sigma = 0.0"
   ]
  },
  {
   "cell_type": "code",
   "execution_count": 17,
   "metadata": {},
   "outputs": [],
   "source": [
    "lr = 0.01"
   ]
  },
  {
   "cell_type": "code",
   "execution_count": 18,
   "metadata": {},
   "outputs": [],
   "source": [
    "grad_theta_mu = grad_ln_theta_mu(None, 5.0, theta_mu, theta_sigma)\n",
    "grad_theta_sigma = grad_ln_theta_sigma(None, 5.0, theta_mu, theta_sigma)"
   ]
  },
  {
   "cell_type": "code",
   "execution_count": 19,
   "metadata": {},
   "outputs": [
    {
     "name": "stdout",
     "output_type": "stream",
     "text": [
      "0.0 5.0\n",
      "0.0 24.0\n"
     ]
    }
   ],
   "source": [
    "print(theta_mu, grad_theta_mu)\n",
    "print(theta_sigma, grad_theta_sigma)"
   ]
  },
  {
   "cell_type": "code",
   "execution_count": 20,
   "metadata": {},
   "outputs": [],
   "source": [
    "theta_mu += lr * grad_theta_mu\n",
    "theta_sigma += lr * grad_theta_sigma"
   ]
  },
  {
   "cell_type": "code",
   "execution_count": 21,
   "metadata": {},
   "outputs": [
    {
     "name": "stdout",
     "output_type": "stream",
     "text": [
      "mu: 0.05\n",
      "sigma: 1.2712491503214047\n"
     ]
    },
    {
     "data": {
      "image/png": "[encoded data removed]",
      "text/plain": [
       "<Figure size 432x288 with 1 Axes>"
      ]
     },
     "metadata": {
      "needs_background": "light"
     },
     "output_type": "display_data"
    }
   ],
   "source": [
    "print_plot(theta_mu, theta_sigma)"
   ]
  },
  {
   "cell_type": "markdown",
   "metadata": {},
   "source": [
    "### 1000 Steps"
   ]
  },
  {
   "cell_type": "code",
   "execution_count": 22,
   "metadata": {},
   "outputs": [],
   "source": [
    "lr = 0.01\n",
    "theta_mu = 0.0\n",
    "theta_sigma = 0.0"
   ]
  },
  {
   "cell_type": "code",
   "execution_count": 23,
   "metadata": {},
   "outputs": [],
   "source": [
    "res_theta_mu = []\n",
    "res_grad_theta_mu = []\n",
    "res_theta_sigma = []\n",
    "res_grad_theta_sigma = []\n",
    "res_sigma = []"
   ]
  },
  {
   "cell_type": "code",
   "execution_count": 24,
   "metadata": {},
   "outputs": [],
   "source": [
    "for i in range(2000):\n",
    "    grad_theta_mu = grad_ln_theta_mu(None, 5.0, theta_mu, theta_sigma)\n",
    "    grad_theta_sigma = grad_ln_theta_sigma(None, 5.0, theta_mu, theta_sigma)\n",
    "    \n",
    "    theta_mu += lr * grad_theta_mu\n",
    "    theta_sigma += lr * grad_theta_sigma\n",
    "    \n",
    "    res_theta_mu.append(theta_mu)\n",
    "    res_grad_theta_mu.append(grad_theta_mu)\n",
    "    res_theta_sigma.append(theta_sigma)\n",
    "    res_grad_theta_sigma.append(grad_theta_sigma)\n",
    "    res_sigma.append(np.exp(theta_sigma))"
   ]
  },
  {
   "cell_type": "code",
   "execution_count": 25,
   "metadata": {},
   "outputs": [
    {
     "data": {
      "text/plain": [
       "[<matplotlib.lines.Line2D at 0x7fb898909d50>]"
      ]
     },
     "execution_count": 25,
     "metadata": {},
     "output_type": "execute_result"
    },
    {
     "data": {
      "image/png": "[encoded data removed]",
      "text/plain": [
       "<Figure size 432x288 with 1 Axes>"
      ]
     },
     "metadata": {
      "needs_background": "light"
     },
     "output_type": "display_data"
    }
   ],
   "source": [
    "plt.plot(res_theta_mu)\n",
    "plt.plot(res_sigma)"
   ]
  },
  {
   "cell_type": "code",
   "execution_count": 26,
   "metadata": {},
   "outputs": [
    {
     "data": {
      "text/plain": [
       "[<matplotlib.lines.Line2D at 0x7fb898793790>]"
      ]
     },
     "execution_count": 26,
     "metadata": {},
     "output_type": "execute_result"
    },
    {
     "data": {
      "image/png": "[encoded data removed]",
      "text/plain": [
       "<Figure size 432x288 with 1 Axes>"
      ]
     },
     "metadata": {
      "needs_background": "light"
     },
     "output_type": "display_data"
    }
   ],
   "source": [
    "plt.plot(res_grad_theta_mu)\n",
    "plt.plot(res_grad_theta_sigma)"
   ]
  },
  {
   "cell_type": "markdown",
   "metadata": {},
   "source": [
    "# Basic Implementation - PyTorch"
   ]
  },
  {
   "cell_type": "code",
   "execution_count": 1,
   "metadata": {},
   "outputs": [],
   "source": [
    "import numpy as np\n",
    "import matplotlib.pyplot as plt\n",
    "\n",
    "import torch"
   ]
  },
  {
   "cell_type": "markdown",
   "metadata": {},
   "source": [
    "### Helpers"
   ]
  },
  {
   "cell_type": "code",
   "execution_count": 2,
   "metadata": {},
   "outputs": [],
   "source": [
    "def gaussian_t(x_t, mean_t, std_t):\n",
    "    var_t = std_t**2\n",
    "    denom_t = (2*np.pi*var_t)**.5\n",
    "    num_t = torch.exp( -(x_t-mean_t)**2 / (2*var_t) )\n",
    "    return num_t / denom_t"
   ]
  },
  {
   "cell_type": "code",
   "execution_count": 3,
   "metadata": {},
   "outputs": [],
   "source": [
    "def pi_t(state, mu_t, sigma_t, do_exp):\n",
    "    with torch.no_grad():\n",
    "        std_t = torch.exp(sigma_t) if do_exp else sigma_t\n",
    "        #return np.random.normal(loc=theta_mu, scale=theta_sigma)\n",
    "        return torch.normal(mu_t, std_t).item()"
   ]
  },
  {
   "cell_type": "markdown",
   "metadata": {},
   "source": [
    "### Show gradients"
   ]
  },
  {
   "cell_type": "code",
   "execution_count": 4,
   "metadata": {},
   "outputs": [],
   "source": [
    "_theta_mu_t = torch.tensor([0.0], requires_grad=True)\n",
    "_theta_sigma_t = torch.tensor([0.0], requires_grad=True)"
   ]
  },
  {
   "cell_type": "code",
   "execution_count": 5,
   "metadata": {},
   "outputs": [],
   "source": [
    "X = np.linspace(-3, 3)\n",
    "grad_X = []\n",
    "grad_Y = []\n",
    "for a in X:\n",
    "    std_t = torch.exp(_theta_sigma_t)\n",
    "    prob_t = gaussian_t(a, _theta_mu_t, std_t)\n",
    "    log_t = torch.log(prob_t)\n",
    "    loss = log_t\n",
    "    loss.backward()\n",
    "    \n",
    "    grad_X.append(_theta_mu_t.grad.data.item())\n",
    "    _theta_mu_t.grad.data.zero_()\n",
    "    grad_Y.append(_theta_sigma_t.grad.data.item())\n",
    "    _theta_sigma_t.grad.data.zero_()"
   ]
  },
  {
   "cell_type": "code",
   "execution_count": 6,
   "metadata": {},
   "outputs": [
    {
     "data": {
      "text/plain": [
       "[<matplotlib.lines.Line2D at 0x7ff951634d50>]"
      ]
     },
     "execution_count": 6,
     "metadata": {},
     "output_type": "execute_result"
    },
    {
     "data": {
      "image/png": "[encoded data removed]",
      "text/plain": [
       "<Figure size 432x288 with 1 Axes>"
      ]
     },
     "metadata": {
      "needs_background": "light"
     },
     "output_type": "display_data"
    }
   ],
   "source": [
    "plt.plot(X, grad_X)"
   ]
  },
  {
   "cell_type": "code",
   "execution_count": 7,
   "metadata": {},
   "outputs": [
    {
     "data": {
      "text/plain": [
       "[<matplotlib.lines.Line2D at 0x7ff9515e4b50>]"
      ]
     },
     "execution_count": 7,
     "metadata": {},
     "output_type": "execute_result"
    },
    {
     "data": {
      "image/png": "[encoded data removed]",
      "text/plain": [
       "<Figure size 432x288 with 1 Axes>"
      ]
     },
     "metadata": {
      "needs_background": "light"
     },
     "output_type": "display_data"
    }
   ],
   "source": [
    "plt.plot(X, grad_Y)"
   ]
  },
  {
   "cell_type": "markdown",
   "metadata": {},
   "source": [
    "### Plotting"
   ]
  },
  {
   "cell_type": "code",
   "execution_count": 8,
   "metadata": {},
   "outputs": [],
   "source": [
    "# _dist = torch.distributions.Normal(_theta_mu_t, _theta_sigma_t)"
   ]
  },
  {
   "cell_type": "code",
   "execution_count": 9,
   "metadata": {},
   "outputs": [],
   "source": [
    "def print_plot(mu_t, sigma_t, do_exp):\n",
    "    \n",
    "    with torch.no_grad():\n",
    "        \n",
    "        \n",
    "        \n",
    "        print('mu_t:', mu_t, mu_t.grad)\n",
    "        print('sigma_t:', sigma_t, sigma_t.grad)\n",
    "        \n",
    "        std_t = torch.exp(sigma_t) if do_exp else sigma_t\n",
    "            \n",
    "        print('std_t:', std_t, std_t.grad)\n",
    "        \n",
    "        res = []\n",
    "        for i in range(100000):\n",
    "            res.append(pi_t(0, mu_t, sigma_t, do_exp))\n",
    "        plt.hist(res, bins=100, density=True)\n",
    "        \n",
    "        X_t = torch.linspace(-10, 10, dtype=float)\n",
    "        Y_t = gaussian_t(X_t, mean_t=0.0, std_t=1.0)\n",
    "        plt.plot(X_t.numpy(), Y_t.numpy())\n",
    "        Y_t = gaussian_t(X_t, mean_t=mu_t, std_t=std_t)\n",
    "        plt.plot(X_t.numpy(), Y_t.numpy(), color='red')\n",
    "        \n",
    "    plt.show()"
   ]
  },
  {
   "cell_type": "code",
   "execution_count": 10,
   "metadata": {},
   "outputs": [],
   "source": [
    "_theta_mu_t = torch.tensor([0.0], dtype=float, requires_grad=True)\n",
    "_theta_sigma_t = torch.tensor([1.0], dtype=float, requires_grad=True)"
   ]
  },
  {
   "cell_type": "code",
   "execution_count": 11,
   "metadata": {},
   "outputs": [
    {
     "name": "stdout",
     "output_type": "stream",
     "text": [
      "mu_t: tensor([0.], dtype=torch.float64, requires_grad=True) None\n",
      "sigma_t: tensor([1.], dtype=torch.float64, requires_grad=True) None\n",
      "std_t: tensor([1.], dtype=torch.float64, requires_grad=True) None\n"
     ]
    },
    {
     "data": {
      "image/png": "[encoded data removed]",
      "text/plain": [
       "<Figure size 432x288 with 1 Axes>"
      ]
     },
     "metadata": {
      "needs_background": "light"
     },
     "output_type": "display_data"
    }
   ],
   "source": [
    "print_plot(_theta_mu_t, _theta_sigma_t, do_exp=False)"
   ]
  },
  {
   "cell_type": "markdown",
   "metadata": {},
   "source": [
    "### Step-by-Step"
   ]
  },
  {
   "cell_type": "code",
   "execution_count": 12,
   "metadata": {},
   "outputs": [],
   "source": [
    "do_exp = True"
   ]
  },
  {
   "cell_type": "code",
   "execution_count": 13,
   "metadata": {},
   "outputs": [],
   "source": [
    "_theta_mu_t = torch.tensor([0.0], dtype=float, requires_grad=True)\n",
    "_theta_sigma_t = torch.tensor([0.0], dtype=float, requires_grad=True)"
   ]
  },
  {
   "cell_type": "code",
   "execution_count": 14,
   "metadata": {},
   "outputs": [],
   "source": [
    "lr = 0.01"
   ]
  },
  {
   "cell_type": "code",
   "execution_count": 15,
   "metadata": {},
   "outputs": [
    {
     "data": {
      "text/plain": [
       "tensor([1.], dtype=torch.float64, grad_fn=<ExpBackward>)"
      ]
     },
     "execution_count": 15,
     "metadata": {},
     "output_type": "execute_result"
    }
   ],
   "source": [
    "std_t = torch.exp(_theta_sigma_t) if do_exp else _theta_sigma_t\n",
    "std_t"
   ]
  },
  {
   "cell_type": "code",
   "execution_count": 16,
   "metadata": {},
   "outputs": [
    {
     "name": "stdout",
     "output_type": "stream",
     "text": [
      "tensor([1.4867e-06], dtype=torch.float64, grad_fn=<DivBackward0>)\n",
      "None\n"
     ]
    }
   ],
   "source": [
    "prob_t = gaussian_t(5.0, _theta_mu_t, std_t)\n",
    "print(prob_t)\n",
    "print(prob_t.grad)"
   ]
  },
  {
   "cell_type": "code",
   "execution_count": 17,
   "metadata": {},
   "outputs": [
    {
     "name": "stdout",
     "output_type": "stream",
     "text": [
      "tensor([-13.4189], dtype=torch.float64, grad_fn=<LogBackward>)\n",
      "None\n"
     ]
    }
   ],
   "source": [
    "log_t = torch.log(prob_t)\n",
    "print(log_t)\n",
    "print(log_t.grad)"
   ]
  },
  {
   "cell_type": "code",
   "execution_count": 18,
   "metadata": {},
   "outputs": [],
   "source": [
    "loss = log_t\n",
    "loss.backward()"
   ]
  },
  {
   "cell_type": "code",
   "execution_count": 19,
   "metadata": {},
   "outputs": [
    {
     "name": "stdout",
     "output_type": "stream",
     "text": [
      "tensor([-13.4189], dtype=torch.float64, grad_fn=<LogBackward>)\n",
      "None\n"
     ]
    }
   ],
   "source": [
    "print(log_t)\n",
    "print(log_t.grad)"
   ]
  },
  {
   "cell_type": "code",
   "execution_count": 20,
   "metadata": {},
   "outputs": [
    {
     "name": "stdout",
     "output_type": "stream",
     "text": [
      "tensor([0.], dtype=torch.float64, requires_grad=True)\n",
      "tensor([5.], dtype=torch.float64)\n"
     ]
    }
   ],
   "source": [
    "print(_theta_mu_t)\n",
    "print(_theta_mu_t.grad)"
   ]
  },
  {
   "cell_type": "code",
   "execution_count": 21,
   "metadata": {},
   "outputs": [
    {
     "name": "stdout",
     "output_type": "stream",
     "text": [
      "tensor([0.], dtype=torch.float64, requires_grad=True)\n",
      "tensor([24.], dtype=torch.float64)\n"
     ]
    }
   ],
   "source": [
    "print(_theta_sigma_t)\n",
    "print(_theta_sigma_t.grad)"
   ]
  },
  {
   "cell_type": "code",
   "execution_count": 22,
   "metadata": {},
   "outputs": [
    {
     "data": {
      "text/plain": [
       "tensor([0.], dtype=torch.float64)"
      ]
     },
     "execution_count": 22,
     "metadata": {},
     "output_type": "execute_result"
    }
   ],
   "source": [
    "_theta_mu_t.data.add_(lr * _theta_mu_t.grad.data)\n",
    "_theta_sigma_t.data.add_(lr * _theta_sigma_t.grad.data)\n",
    "_theta_mu_t.grad.data.zero_()\n",
    "_theta_sigma_t.grad.data.zero_()"
   ]
  },
  {
   "cell_type": "code",
   "execution_count": 23,
   "metadata": {},
   "outputs": [
    {
     "name": "stdout",
     "output_type": "stream",
     "text": [
      "mu_t: tensor([0.0500], dtype=torch.float64, requires_grad=True) tensor([0.], dtype=torch.float64)\n",
      "sigma_t: tensor([0.2400], dtype=torch.float64, requires_grad=True) tensor([0.], dtype=torch.float64)\n",
      "std_t: tensor([1.2712], dtype=torch.float64) None\n"
     ]
    },
    {
     "data": {
      "image/png": "[encoded data removed]",
      "text/plain": [
       "<Figure size 432x288 with 1 Axes>"
      ]
     },
     "metadata": {
      "needs_background": "light"
     },
     "output_type": "display_data"
    }
   ],
   "source": [
    "print_plot(_theta_mu_t, _theta_sigma_t, do_exp)"
   ]
  },
  {
   "cell_type": "markdown",
   "metadata": {},
   "source": [
    "### 1000 Steps"
   ]
  },
  {
   "cell_type": "code",
   "execution_count": 24,
   "metadata": {},
   "outputs": [],
   "source": [
    "lr = 0.01"
   ]
  },
  {
   "cell_type": "code",
   "execution_count": 25,
   "metadata": {},
   "outputs": [],
   "source": [
    "_theta_mu_t = torch.tensor([0.0], dtype=float, requires_grad=True)\n",
    "_theta_sigma_t = torch.tensor([0.0], dtype=float, requires_grad=True)"
   ]
  },
  {
   "cell_type": "code",
   "execution_count": 26,
   "metadata": {},
   "outputs": [],
   "source": [
    "res_theta_mu = []\n",
    "res_grad_theta_mu = []\n",
    "res_theta_sigma = []\n",
    "res_grad_theta_sigma = []\n",
    "res_sigma = []"
   ]
  },
  {
   "cell_type": "code",
   "execution_count": 27,
   "metadata": {},
   "outputs": [],
   "source": [
    "for i in range(2000):\n",
    "    std_t = torch.exp(_theta_sigma_t)\n",
    "    prob_t = gaussian_t(5.0, _theta_mu_t, std_t)\n",
    "    log_t = torch.log(prob_t)\n",
    "    loss = log_t\n",
    "    loss.backward()\n",
    "        \n",
    "    i_grad_theta_mu = _theta_mu_t.grad.data.item()\n",
    "    i_grad_theta_sigma = _theta_sigma_t.grad.data.item()\n",
    "    \n",
    "    _theta_mu_t.data.add_(lr * _theta_mu_t.grad.data)\n",
    "    _theta_sigma_t.data.add_(lr * _theta_sigma_t.grad.data)\n",
    "    _theta_mu_t.grad.data.zero_()\n",
    "    _theta_sigma_t.grad.data.zero_()\n",
    "    \n",
    "    with torch.no_grad():\n",
    "        i_theta_mu = _theta_mu_t.item()\n",
    "        i_theta_sigma = _theta_sigma_t.item()\n",
    "        i_sigma = torch.exp(_theta_sigma_t).item()\n",
    "    \n",
    "    res_theta_mu.append(i_theta_mu)\n",
    "    res_grad_theta_mu.append(i_grad_theta_mu)\n",
    "    res_theta_sigma.append(i_theta_sigma)\n",
    "    res_grad_theta_sigma.append(i_grad_theta_sigma)\n",
    "    res_sigma.append(i_sigma)\n",
    "    "
   ]
  },
  {
   "cell_type": "code",
   "execution_count": 28,
   "metadata": {},
   "outputs": [
    {
     "data": {
      "text/plain": [
       "[<matplotlib.lines.Line2D at 0x7ff95156e7d0>]"
      ]
     },
     "execution_count": 28,
     "metadata": {},
     "output_type": "execute_result"
    },
    {
     "data": {
      "image/png": "[encoded data removed]",
      "text/plain": [
       "<Figure size 432x288 with 1 Axes>"
      ]
     },
     "metadata": {
      "needs_background": "light"
     },
     "output_type": "display_data"
    }
   ],
   "source": [
    "plt.plot(res_theta_mu)\n",
    "plt.plot(res_sigma)"
   ]
  },
  {
   "cell_type": "code",
   "execution_count": 29,
   "metadata": {},
   "outputs": [
    {
     "data": {
      "text/plain": [
       "[<matplotlib.lines.Line2D at 0x7ff95156ee90>]"
      ]
     },
     "execution_count": 29,
     "metadata": {},
     "output_type": "execute_result"
    },
    {
     "data": {
      "image/png": "[encoded data removed]",
      "text/plain": [
       "<Figure size 432x288 with 1 Axes>"
      ]
     },
     "metadata": {
      "needs_background": "light"
     },
     "output_type": "display_data"
    }
   ],
   "source": [
    "plt.plot(res_grad_theta_mu)\n",
    "plt.plot(res_grad_theta_sigma)"
   ]
  },
  {
   "cell_type": "code",
   "execution_count": null,
   "metadata": {},
   "outputs": [],
   "source": []
  }
 ],
 "metadata": {
  "kernelspec": {
   "display_name": "Python [conda env:pt]",
   "language": "python",
   "name": "conda-env-pt-py"
  },
  "language_info": {
   "codemirror_mode": {
    "name": "ipython",
    "version": 3
   },
   "file_extension": ".py",
   "mimetype": "text/x-python",
   "name": "python",
   "nbconvert_exporter": "python",
   "pygments_lexer": "ipython3",
   "version": "3.7.4"
  }
 },
 "nbformat": 4,
 "nbformat_minor": 4
}
