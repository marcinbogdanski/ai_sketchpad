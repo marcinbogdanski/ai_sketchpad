{
 "cells": [
  {
   "cell_type": "code",
   "execution_count": 1,
   "metadata": {},
   "outputs": [],
   "source": [
    "import numpy as np\n",
    "import matplotlib.pyplot as plt"
   ]
  },
  {
   "cell_type": "code",
   "execution_count": null,
   "metadata": {},
   "outputs": [],
   "source": []
  },
  {
   "cell_type": "code",
   "execution_count": null,
   "metadata": {},
   "outputs": [],
   "source": []
  },
  {
   "cell_type": "code",
   "execution_count": null,
   "metadata": {},
   "outputs": [],
   "source": []
  },
  {
   "cell_type": "code",
   "execution_count": null,
   "metadata": {},
   "outputs": [],
   "source": []
  },
  {
   "cell_type": "code",
   "execution_count": null,
   "metadata": {},
   "outputs": [],
   "source": []
  },
  {
   "cell_type": "markdown",
   "metadata": {},
   "source": [
    "# Gradient - PyTorch"
   ]
  },
  {
   "cell_type": "code",
   "execution_count": 1,
   "metadata": {},
   "outputs": [],
   "source": [
    "import numpy as np\n",
    "import matplotlib.pyplot as plt\n",
    "\n",
    "import torch"
   ]
  },
  {
   "cell_type": "code",
   "execution_count": 2,
   "metadata": {},
   "outputs": [],
   "source": [
    "nb_states = 1\n",
    "nb_actions = 10"
   ]
  },
  {
   "cell_type": "code",
   "execution_count": 3,
   "metadata": {},
   "outputs": [],
   "source": [
    "_theta_t = torch.zeros((nb_states, nb_actions), requires_grad=True)"
   ]
  },
  {
   "cell_type": "code",
   "execution_count": 4,
   "metadata": {},
   "outputs": [],
   "source": [
    "def pi_t(state):\n",
    "    \"\"\"Return policy, i.e. probability distribution over actions.\"\"\"\n",
    "    with torch.no_grad():\n",
    "        prob_t = torch.softmax(_theta_t[state], dim=-1)\n",
    "        return prob_t.numpy()"
   ]
  },
  {
   "cell_type": "code",
   "execution_count": 5,
   "metadata": {},
   "outputs": [],
   "source": [
    "def grad_t(state, action):\n",
    "    prob_t = torch.softmax(_theta_t[state], dim=-1)\n",
    "    log_t = torch.log(prob_t)\n",
    "    loss = log_t[action]  # -1 grad ascent, scale by R\n",
    "    loss.backward()\n",
    "    \n",
    "    grad = _theta_t.grad.data.numpy().copy()\n",
    "    _theta_t.grad.data.zero_()\n",
    "    return grad"
   ]
  },
  {
   "cell_type": "code",
   "execution_count": 6,
   "metadata": {},
   "outputs": [
    {
     "data": {
      "text/plain": [
       "array([0.1, 0.1, 0.1, 0.1, 0.1, 0.1, 0.1, 0.1, 0.1, 0.1], dtype=float32)"
      ]
     },
     "execution_count": 6,
     "metadata": {},
     "output_type": "execute_result"
    }
   ],
   "source": [
    "pi_t(0)"
   ]
  },
  {
   "cell_type": "code",
   "execution_count": 7,
   "metadata": {},
   "outputs": [
    {
     "data": {
      "text/plain": [
       "array([[ 0.90000004, -0.1       , -0.1       , -0.1       , -0.1       ,\n",
       "        -0.1       , -0.1       , -0.1       , -0.1       , -0.1       ]],\n",
       "      dtype=float32)"
      ]
     },
     "execution_count": 7,
     "metadata": {},
     "output_type": "execute_result"
    }
   ],
   "source": [
    "grad_t(0, 0)"
   ]
  },
  {
   "cell_type": "markdown",
   "metadata": {},
   "source": [
    "# Gaussian - PyTorch"
   ]
  },
  {
   "cell_type": "code",
   "execution_count": 1,
   "metadata": {},
   "outputs": [],
   "source": [
    "import numpy as np\n",
    "import matplotlib.pyplot as plt\n",
    "\n",
    "import torch"
   ]
  },
  {
   "cell_type": "code",
   "execution_count": 2,
   "metadata": {},
   "outputs": [],
   "source": [
    "def gaussian_t(x_t, mean_t, std_t):\n",
    "    var_t = std_t**2\n",
    "    denom_t = (2*np.pi*var_t)**.5\n",
    "    num_t = torch.exp( -(x_t-mean_t)**2 / (2*var_t) )\n",
    "    return num_t / denom_t"
   ]
  },
  {
   "cell_type": "code",
   "execution_count": 3,
   "metadata": {},
   "outputs": [],
   "source": [
    "def pi_t(state, mu_t, sigma_t, do_exp):\n",
    "    with torch.no_grad():\n",
    "        std_t = torch.exp(sigma_t) if do_exp else sigma_t\n",
    "        #return np.random.normal(loc=theta_mu, scale=theta_sigma)\n",
    "        return torch.normal(mu_t, std_t).item()"
   ]
  },
  {
   "cell_type": "code",
   "execution_count": null,
   "metadata": {},
   "outputs": [],
   "source": []
  },
  {
   "cell_type": "code",
   "execution_count": 4,
   "metadata": {},
   "outputs": [],
   "source": [
    "_theta_mu_t = torch.tensor([0.0], requires_grad=True)\n",
    "_theta_sigma_t = torch.tensor([0.0], requires_grad=True)"
   ]
  },
  {
   "cell_type": "code",
   "execution_count": 5,
   "metadata": {},
   "outputs": [],
   "source": [
    "X = np.linspace(-3, 3)\n",
    "grad_X = []\n",
    "grad_Y = []\n",
    "for a in X:\n",
    "    std_t = torch.exp(_theta_sigma_t)\n",
    "    prob_t = gaussian_t(a, _theta_mu_t, std_t)\n",
    "    log_t = torch.log(prob_t)\n",
    "    loss = log_t\n",
    "    loss.backward()\n",
    "    \n",
    "    grad_X.append(_theta_mu_t.grad.data.item())\n",
    "    _theta_mu_t.grad.data.zero_()\n",
    "    grad_Y.append(_theta_sigma_t.grad.data.item())\n",
    "    _theta_sigma_t.grad.data.zero_()"
   ]
  },
  {
   "cell_type": "code",
   "execution_count": 6,
   "metadata": {},
   "outputs": [
    {
     "data": {
      "text/plain": [
       "[<matplotlib.lines.Line2D at 0x7fceca03bbd0>]"
      ]
     },
     "execution_count": 6,
     "metadata": {},
     "output_type": "execute_result"
    },
    {
     "data": {
      "image/png": "[encoded data removed]",
      "text/plain": [
       "<Figure size 432x288 with 1 Axes>"
      ]
     },
     "metadata": {
      "needs_background": "light"
     },
     "output_type": "display_data"
    }
   ],
   "source": [
    "plt.plot(X, grad_X)"
   ]
  },
  {
   "cell_type": "code",
   "execution_count": 7,
   "metadata": {},
   "outputs": [
    {
     "data": {
      "text/plain": [
       "[<matplotlib.lines.Line2D at 0x7fcec9f63490>]"
      ]
     },
     "execution_count": 7,
     "metadata": {},
     "output_type": "execute_result"
    },
    {
     "data": {
      "image/png": "[encoded data removed]",
      "text/plain": [
       "<Figure size 432x288 with 1 Axes>"
      ]
     },
     "metadata": {
      "needs_background": "light"
     },
     "output_type": "display_data"
    }
   ],
   "source": [
    "plt.plot(X, grad_Y)"
   ]
  },
  {
   "cell_type": "code",
   "execution_count": null,
   "metadata": {},
   "outputs": [],
   "source": []
  },
  {
   "cell_type": "code",
   "execution_count": 8,
   "metadata": {},
   "outputs": [],
   "source": [
    "# _dist = torch.distributions.Normal(_theta_mu_t, _theta_sigma_t)"
   ]
  },
  {
   "cell_type": "code",
   "execution_count": 37,
   "metadata": {},
   "outputs": [],
   "source": [
    "def print_plot(mu_t, sigma_t, do_exp):\n",
    "    \n",
    "    with torch.no_grad():\n",
    "        \n",
    "        \n",
    "        \n",
    "        print('mu_t:', mu_t, mu_t.grad)\n",
    "        print('sigma_t:', sigma_t, sigma_t.grad)\n",
    "        \n",
    "        std_t = torch.exp(sigma_t) if do_exp else sigma_t\n",
    "            \n",
    "        print('std_t:', std_t, std_t.grad)\n",
    "        \n",
    "        res = []\n",
    "        for i in range(100000):\n",
    "            res.append(pi_t(0, mu_t, sigma_t, do_exp))\n",
    "        plt.hist(res, bins=100, density=True)\n",
    "        \n",
    "        X_t = torch.linspace(-10, 10, dtype=float)\n",
    "        Y_t = gaussian_t(X_t, mean_t=0.0, std_t=1.0)\n",
    "        plt.plot(X_t.numpy(), Y_t.numpy())\n",
    "        Y_t = gaussian_t(X_t, mean_t=mu_t, std_t=std_t)\n",
    "        plt.plot(X_t.numpy(), Y_t.numpy(), color='red')\n",
    "        \n",
    "    plt.show()"
   ]
  },
  {
   "cell_type": "code",
   "execution_count": 11,
   "metadata": {},
   "outputs": [],
   "source": [
    "_theta_mu_t = torch.tensor([0.0], requires_grad=True)\n",
    "_theta_sigma_t = torch.tensor([1.0], requires_grad=True)"
   ]
  },
  {
   "cell_type": "code",
   "execution_count": 12,
   "metadata": {},
   "outputs": [
    {
     "name": "stdout",
     "output_type": "stream",
     "text": [
      "mu_t: tensor([0.], requires_grad=True) None\n",
      "sigma_t: tensor([1.], requires_grad=True) None\n",
      "std_t: tensor([1.], requires_grad=True) None\n"
     ]
    },
    {
     "data": {
      "image/png": "[encoded data removed]",
      "text/plain": [
       "<Figure size 432x288 with 1 Axes>"
      ]
     },
     "metadata": {
      "needs_background": "light"
     },
     "output_type": "display_data"
    }
   ],
   "source": [
    "print_plot(_theta_mu_t, _theta_sigma_t, do_exp=False)"
   ]
  },
  {
   "cell_type": "code",
   "execution_count": null,
   "metadata": {},
   "outputs": [],
   "source": []
  },
  {
   "cell_type": "code",
   "execution_count": null,
   "metadata": {},
   "outputs": [],
   "source": []
  },
  {
   "cell_type": "code",
   "execution_count": null,
   "metadata": {},
   "outputs": [],
   "source": []
  },
  {
   "cell_type": "code",
   "execution_count": 25,
   "metadata": {},
   "outputs": [],
   "source": [
    "do_exp = True"
   ]
  },
  {
   "cell_type": "code",
   "execution_count": 26,
   "metadata": {},
   "outputs": [],
   "source": [
    "_theta_mu_t = torch.tensor([0.0], dtype=float, requires_grad=True)\n",
    "_theta_sigma_t = torch.tensor([0.0], dtype=float, requires_grad=True)"
   ]
  },
  {
   "cell_type": "code",
   "execution_count": 27,
   "metadata": {},
   "outputs": [],
   "source": [
    "lr = 0.01"
   ]
  },
  {
   "cell_type": "code",
   "execution_count": 28,
   "metadata": {},
   "outputs": [
    {
     "data": {
      "text/plain": [
       "tensor([1.], dtype=torch.float64, grad_fn=<ExpBackward>)"
      ]
     },
     "execution_count": 28,
     "metadata": {},
     "output_type": "execute_result"
    }
   ],
   "source": [
    "std_t = torch.exp(_theta_sigma_t) if do_exp else _theta_sigma_t\n",
    "std_t"
   ]
  },
  {
   "cell_type": "code",
   "execution_count": 29,
   "metadata": {},
   "outputs": [
    {
     "name": "stdout",
     "output_type": "stream",
     "text": [
      "tensor([1.4867e-06], dtype=torch.float64, grad_fn=<DivBackward0>)\n",
      "None\n"
     ]
    }
   ],
   "source": [
    "prob_t = gaussian_t(5.0, _theta_mu_t, std_t)\n",
    "print(prob_t)\n",
    "print(prob_t.grad)"
   ]
  },
  {
   "cell_type": "code",
   "execution_count": 30,
   "metadata": {},
   "outputs": [
    {
     "name": "stdout",
     "output_type": "stream",
     "text": [
      "tensor([-13.4189], dtype=torch.float64, grad_fn=<LogBackward>)\n",
      "None\n"
     ]
    }
   ],
   "source": [
    "log_t = torch.log(prob_t)\n",
    "print(log_t)\n",
    "print(log_t.grad)"
   ]
  },
  {
   "cell_type": "code",
   "execution_count": 31,
   "metadata": {},
   "outputs": [],
   "source": [
    "loss = log_t\n",
    "loss.backward()"
   ]
  },
  {
   "cell_type": "code",
   "execution_count": 32,
   "metadata": {},
   "outputs": [
    {
     "name": "stdout",
     "output_type": "stream",
     "text": [
      "tensor([-13.4189], dtype=torch.float64, grad_fn=<LogBackward>)\n",
      "None\n"
     ]
    }
   ],
   "source": [
    "print(log_t)\n",
    "print(log_t.grad)"
   ]
  },
  {
   "cell_type": "code",
   "execution_count": 33,
   "metadata": {},
   "outputs": [
    {
     "name": "stdout",
     "output_type": "stream",
     "text": [
      "tensor([0.], dtype=torch.float64, requires_grad=True)\n",
      "tensor([5.], dtype=torch.float64)\n"
     ]
    }
   ],
   "source": [
    "print(_theta_mu_t)\n",
    "print(_theta_mu_t.grad)"
   ]
  },
  {
   "cell_type": "code",
   "execution_count": 34,
   "metadata": {},
   "outputs": [
    {
     "name": "stdout",
     "output_type": "stream",
     "text": [
      "tensor([0.], dtype=torch.float64, requires_grad=True)\n",
      "tensor([24.], dtype=torch.float64)\n"
     ]
    }
   ],
   "source": [
    "print(_theta_sigma_t)\n",
    "print(_theta_sigma_t.grad)"
   ]
  },
  {
   "cell_type": "code",
   "execution_count": 35,
   "metadata": {},
   "outputs": [
    {
     "data": {
      "text/plain": [
       "tensor([0.], dtype=torch.float64)"
      ]
     },
     "execution_count": 35,
     "metadata": {},
     "output_type": "execute_result"
    }
   ],
   "source": [
    "_theta_mu_t.data.add_(lr * _theta_mu_t.grad.data)\n",
    "_theta_sigma_t.data.add_(lr * _theta_sigma_t.grad.data)\n",
    "_theta_mu_t.grad.data.zero_()\n",
    "_theta_sigma_t.grad.data.zero_()"
   ]
  },
  {
   "cell_type": "code",
   "execution_count": 38,
   "metadata": {},
   "outputs": [
    {
     "name": "stdout",
     "output_type": "stream",
     "text": [
      "mu_t: tensor([0.0500], dtype=torch.float64, requires_grad=True) tensor([0.], dtype=torch.float64)\n",
      "sigma_t: tensor([0.2400], dtype=torch.float64, requires_grad=True) tensor([0.], dtype=torch.float64)\n",
      "std_t: tensor([1.2712], dtype=torch.float64) None\n"
     ]
    },
    {
     "data": {
      "image/png": "[encoded data removed]",
      "text/plain": [
       "<Figure size 432x288 with 1 Axes>"
      ]
     },
     "metadata": {
      "needs_background": "light"
     },
     "output_type": "display_data"
    }
   ],
   "source": [
    "print_plot(_theta_mu_t, _theta_sigma_t, do_exp)"
   ]
  },
  {
   "cell_type": "code",
   "execution_count": null,
   "metadata": {},
   "outputs": [],
   "source": []
  },
  {
   "cell_type": "code",
   "execution_count": null,
   "metadata": {},
   "outputs": [],
   "source": []
  },
  {
   "cell_type": "code",
   "execution_count": 43,
   "metadata": {},
   "outputs": [],
   "source": [
    "lr = 0.01"
   ]
  },
  {
   "cell_type": "code",
   "execution_count": 44,
   "metadata": {},
   "outputs": [],
   "source": [
    "_theta_mu_t = torch.tensor([0.0], dtype=float, requires_grad=True)\n",
    "_theta_sigma_t = torch.tensor([0.0], dtype=float, requires_grad=True)"
   ]
  },
  {
   "cell_type": "code",
   "execution_count": 45,
   "metadata": {},
   "outputs": [],
   "source": [
    "res_theta_mu = []\n",
    "res_grad_theta_mu = []\n",
    "res_theta_sigma = []\n",
    "res_grad_theta_sigma = []\n",
    "res_sigma = []"
   ]
  },
  {
   "cell_type": "code",
   "execution_count": 46,
   "metadata": {},
   "outputs": [],
   "source": [
    "for i in range(2000):\n",
    "    std_t = torch.exp(_theta_sigma_t)\n",
    "    prob_t = gaussian_t(5.0, _theta_mu_t, std_t)\n",
    "    log_t = torch.log(prob_t)\n",
    "    loss = log_t\n",
    "    loss.backward()\n",
    "        \n",
    "    i_grad_theta_mu = _theta_mu_t.grad.data.item()\n",
    "    i_grad_theta_sigma = _theta_sigma_t.grad.data.item()\n",
    "    \n",
    "    _theta_mu_t.data.add_(lr * _theta_mu_t.grad.data)\n",
    "    _theta_sigma_t.data.add_(lr * _theta_sigma_t.grad.data)\n",
    "    _theta_mu_t.grad.data.zero_()\n",
    "    _theta_sigma_t.grad.data.zero_()\n",
    "    \n",
    "    with torch.no_grad():\n",
    "        i_theta_mu = _theta_mu_t.item()\n",
    "        i_theta_sigma = _theta_sigma_t.item()\n",
    "        i_sigma = torch.exp(_theta_sigma_t).item()\n",
    "    \n",
    "    res_theta_mu.append(i_theta_mu)\n",
    "    res_grad_theta_mu.append(i_grad_theta_mu)\n",
    "    res_theta_sigma.append(i_theta_sigma)\n",
    "    res_grad_theta_sigma.append(i_grad_theta_sigma)\n",
    "    res_sigma.append(i_sigma)\n",
    "    "
   ]
  },
  {
   "cell_type": "code",
   "execution_count": 48,
   "metadata": {},
   "outputs": [
    {
     "data": {
      "text/plain": [
       "[<matplotlib.lines.Line2D at 0x7fcec9a68710>]"
      ]
     },
     "execution_count": 48,
     "metadata": {},
     "output_type": "execute_result"
    },
    {
     "data": {
      "image/png": "[encoded data removed]",
      "text/plain": [
       "<Figure size 432x288 with 1 Axes>"
      ]
     },
     "metadata": {
      "needs_background": "light"
     },
     "output_type": "display_data"
    }
   ],
   "source": [
    "plt.plot(res_theta_mu)\n",
    "plt.plot(res_sigma)"
   ]
  },
  {
   "cell_type": "code",
   "execution_count": 49,
   "metadata": {},
   "outputs": [
    {
     "data": {
      "text/plain": [
       "[<matplotlib.lines.Line2D at 0x7fcec9aa7210>]"
      ]
     },
     "execution_count": 49,
     "metadata": {},
     "output_type": "execute_result"
    },
    {
     "data": {
      "image/png": "[encoded data removed]",
      "text/plain": [
       "<Figure size 432x288 with 1 Axes>"
      ]
     },
     "metadata": {
      "needs_background": "light"
     },
     "output_type": "display_data"
    }
   ],
   "source": [
    "plt.plot(res_grad_theta_mu)\n",
    "plt.plot(res_grad_theta_sigma)"
   ]
  },
  {
   "cell_type": "markdown",
   "metadata": {},
   "source": [
    "# Grad - numpy"
   ]
  },
  {
   "cell_type": "code",
   "execution_count": 1,
   "metadata": {},
   "outputs": [],
   "source": [
    "import numpy as np\n",
    "import matplotlib.pyplot as plt"
   ]
  },
  {
   "cell_type": "code",
   "execution_count": 2,
   "metadata": {},
   "outputs": [],
   "source": [
    "theta_mu = 0.0\n",
    "theta_sigma = 0.0"
   ]
  },
  {
   "cell_type": "code",
   "execution_count": null,
   "metadata": {},
   "outputs": [],
   "source": []
  },
  {
   "cell_type": "code",
   "execution_count": 3,
   "metadata": {},
   "outputs": [],
   "source": [
    "def gaussian(x, mean, std):\n",
    "    var = std**2\n",
    "    denom = (2*np.pi*var)**.5\n",
    "    num = np.exp( -(x-mean)**2 / (2*var) )\n",
    "    return num / denom"
   ]
  },
  {
   "cell_type": "code",
   "execution_count": 4,
   "metadata": {},
   "outputs": [],
   "source": [
    "def pi(theta_mu, theta_sigma):\n",
    "    return np.random.normal(loc=theta_mu, scale=np.exp(theta_sigma))"
   ]
  },
  {
   "cell_type": "code",
   "execution_count": 5,
   "metadata": {},
   "outputs": [],
   "source": [
    "def x_mu(state):\n",
    "    return 1.0"
   ]
  },
  {
   "cell_type": "code",
   "execution_count": 6,
   "metadata": {},
   "outputs": [],
   "source": [
    "def x_sigma(state):\n",
    "    return 1.0"
   ]
  },
  {
   "cell_type": "code",
   "execution_count": 7,
   "metadata": {},
   "outputs": [],
   "source": [
    "def grad_ln_theta_mu(state, action, theta_mu, theta_sigma):\n",
    "    mu, sigma = theta_mu, np.exp(theta_sigma)\n",
    "    return (1 / sigma**2) * (action - mu) * x_mu(state)  # Ex. 13.4"
   ]
  },
  {
   "cell_type": "code",
   "execution_count": 8,
   "metadata": {},
   "outputs": [],
   "source": [
    "def grad_ln_theta_sigma(state, action, theta_mu, theta_sigma):\n",
    "    mu, sigma = theta_mu, np.exp(theta_sigma)\n",
    "    return (((action - mu)**2 / sigma**2) - 1) * x_sigma(state)"
   ]
  },
  {
   "cell_type": "code",
   "execution_count": null,
   "metadata": {},
   "outputs": [],
   "source": []
  },
  {
   "cell_type": "code",
   "execution_count": 9,
   "metadata": {},
   "outputs": [
    {
     "data": {
      "text/plain": [
       "5.0"
      ]
     },
     "execution_count": 9,
     "metadata": {},
     "output_type": "execute_result"
    }
   ],
   "source": [
    "grad_ln_theta_mu(None, 5.0, theta_mu, theta_sigma)"
   ]
  },
  {
   "cell_type": "code",
   "execution_count": 10,
   "metadata": {},
   "outputs": [
    {
     "data": {
      "text/plain": [
       "24.0"
      ]
     },
     "execution_count": 10,
     "metadata": {},
     "output_type": "execute_result"
    }
   ],
   "source": [
    "grad_ln_theta_sigma(None, 5.0, theta_mu, theta_sigma)"
   ]
  },
  {
   "cell_type": "code",
   "execution_count": 11,
   "metadata": {},
   "outputs": [],
   "source": [
    "aa = np.linspace(-3, 3)\n",
    "mm = grad_ln_theta_mu(None, aa, theta_mu, theta_sigma)\n",
    "ss = grad_ln_theta_sigma(None, aa, theta_mu, theta_sigma)"
   ]
  },
  {
   "cell_type": "code",
   "execution_count": 12,
   "metadata": {},
   "outputs": [
    {
     "data": {
      "text/plain": [
       "[<matplotlib.lines.Line2D at 0x7f8fe05dc190>]"
      ]
     },
     "execution_count": 12,
     "metadata": {},
     "output_type": "execute_result"
    },
    {
     "data": {
      "image/png": "[encoded data removed]",
      "text/plain": [
       "<Figure size 432x288 with 1 Axes>"
      ]
     },
     "metadata": {
      "needs_background": "light"
     },
     "output_type": "display_data"
    }
   ],
   "source": [
    "plt.plot(aa, mm)"
   ]
  },
  {
   "cell_type": "code",
   "execution_count": 13,
   "metadata": {},
   "outputs": [
    {
     "data": {
      "text/plain": [
       "[<matplotlib.lines.Line2D at 0x7f8fc84dec10>]"
      ]
     },
     "execution_count": 13,
     "metadata": {},
     "output_type": "execute_result"
    },
    {
     "data": {
      "image/png": "[encoded data removed]",
      "text/plain": [
       "<Figure size 432x288 with 1 Axes>"
      ]
     },
     "metadata": {
      "needs_background": "light"
     },
     "output_type": "display_data"
    }
   ],
   "source": [
    "plt.plot(aa, ss)"
   ]
  },
  {
   "cell_type": "code",
   "execution_count": null,
   "metadata": {},
   "outputs": [],
   "source": []
  },
  {
   "cell_type": "code",
   "execution_count": 14,
   "metadata": {},
   "outputs": [],
   "source": [
    "def print_plot(theta_mu, theta_sigma):\n",
    "    mu, sigma = theta_mu, np.exp(theta_sigma)\n",
    "    \n",
    "    print('mu:', mu)\n",
    "    print('sigma:', sigma)\n",
    "        \n",
    "    res = []\n",
    "    for i in range(100000):\n",
    "        res.append(pi(theta_mu, theta_sigma))\n",
    "    plt.hist(res, bins=100, density=True)\n",
    "\n",
    "    X = np.linspace(-10, 10)\n",
    "    Y = gaussian(X, mean=0.0, std=1.0)\n",
    "    plt.plot(X, Y)\n",
    "    Y = gaussian(X, mean=mu, std=sigma)\n",
    "    plt.plot(X, Y, color='red')\n",
    "\n",
    "    plt.show()"
   ]
  },
  {
   "cell_type": "code",
   "execution_count": 15,
   "metadata": {},
   "outputs": [
    {
     "name": "stdout",
     "output_type": "stream",
     "text": [
      "mu: 0.0\n",
      "sigma: 1.0\n"
     ]
    },
    {
     "data": {
      "image/png": "[encoded data removed]",
      "text/plain": [
       "<Figure size 432x288 with 1 Axes>"
      ]
     },
     "metadata": {
      "needs_background": "light"
     },
     "output_type": "display_data"
    }
   ],
   "source": [
    "print_plot(theta_mu, theta_sigma)"
   ]
  },
  {
   "cell_type": "code",
   "execution_count": null,
   "metadata": {},
   "outputs": [],
   "source": []
  },
  {
   "cell_type": "code",
   "execution_count": null,
   "metadata": {},
   "outputs": [],
   "source": []
  },
  {
   "cell_type": "code",
   "execution_count": 16,
   "metadata": {},
   "outputs": [],
   "source": [
    "theta_mu = 0.0\n",
    "theta_sigma = 0.0"
   ]
  },
  {
   "cell_type": "code",
   "execution_count": 17,
   "metadata": {},
   "outputs": [],
   "source": [
    "lr = 0.01"
   ]
  },
  {
   "cell_type": "code",
   "execution_count": 18,
   "metadata": {},
   "outputs": [],
   "source": [
    "grad_theta_mu = grad_ln_theta_mu(None, 5.0, theta_mu, theta_sigma)\n",
    "grad_theta_sigma = grad_ln_theta_sigma(None, 5.0, theta_mu, theta_sigma)"
   ]
  },
  {
   "cell_type": "code",
   "execution_count": 19,
   "metadata": {},
   "outputs": [
    {
     "name": "stdout",
     "output_type": "stream",
     "text": [
      "0.0 5.0\n",
      "0.0 24.0\n"
     ]
    }
   ],
   "source": [
    "print(theta_mu, grad_theta_mu)\n",
    "print(theta_sigma, grad_theta_sigma)"
   ]
  },
  {
   "cell_type": "code",
   "execution_count": 20,
   "metadata": {},
   "outputs": [],
   "source": [
    "theta_mu += lr * grad_theta_mu\n",
    "theta_sigma += lr * grad_theta_sigma"
   ]
  },
  {
   "cell_type": "code",
   "execution_count": 21,
   "metadata": {},
   "outputs": [
    {
     "name": "stdout",
     "output_type": "stream",
     "text": [
      "mu: 0.05\n",
      "sigma: 1.2712491503214047\n"
     ]
    },
    {
     "data": {
      "image/png": "[encoded data removed]",
      "text/plain": [
       "<Figure size 432x288 with 1 Axes>"
      ]
     },
     "metadata": {
      "needs_background": "light"
     },
     "output_type": "display_data"
    }
   ],
   "source": [
    "print_plot(theta_mu, theta_sigma)"
   ]
  },
  {
   "cell_type": "code",
   "execution_count": null,
   "metadata": {},
   "outputs": [],
   "source": []
  },
  {
   "cell_type": "code",
   "execution_count": null,
   "metadata": {},
   "outputs": [],
   "source": []
  },
  {
   "cell_type": "code",
   "execution_count": 22,
   "metadata": {},
   "outputs": [],
   "source": [
    "lr = 0.01\n",
    "theta_mu = 0.0\n",
    "theta_sigma = 0.0"
   ]
  },
  {
   "cell_type": "code",
   "execution_count": 23,
   "metadata": {},
   "outputs": [],
   "source": [
    "X = np.linspace(-3, 3)\n",
    "grad_X = grad_ln_theta_mu(None, X, theta_mu, theta_sigma)\n",
    "grad_Y = grad_ln_theta_sigma(None, X, theta_mu, theta_sigma)"
   ]
  },
  {
   "cell_type": "code",
   "execution_count": 24,
   "metadata": {},
   "outputs": [
    {
     "data": {
      "text/plain": [
       "[<matplotlib.lines.Line2D at 0x7f8fc812cf50>]"
      ]
     },
     "execution_count": 24,
     "metadata": {},
     "output_type": "execute_result"
    },
    {
     "data": {
      "image/png": "[encoded data removed]",
      "text/plain": [
       "<Figure size 432x288 with 1 Axes>"
      ]
     },
     "metadata": {
      "needs_background": "light"
     },
     "output_type": "display_data"
    }
   ],
   "source": [
    "plt.plot(X, grad_X)"
   ]
  },
  {
   "cell_type": "code",
   "execution_count": 25,
   "metadata": {},
   "outputs": [
    {
     "data": {
      "text/plain": [
       "[<matplotlib.lines.Line2D at 0x7f8fc8178a90>]"
      ]
     },
     "execution_count": 25,
     "metadata": {},
     "output_type": "execute_result"
    },
    {
     "data": {
      "image/png": "[encoded data removed]",
      "text/plain": [
       "<Figure size 432x288 with 1 Axes>"
      ]
     },
     "metadata": {
      "needs_background": "light"
     },
     "output_type": "display_data"
    }
   ],
   "source": [
    "plt.plot(X, grad_Y)"
   ]
  },
  {
   "cell_type": "code",
   "execution_count": null,
   "metadata": {},
   "outputs": [],
   "source": []
  },
  {
   "cell_type": "code",
   "execution_count": 26,
   "metadata": {},
   "outputs": [],
   "source": [
    "lr = 0.01\n",
    "theta_mu = 0.0\n",
    "theta_sigma = 0.0"
   ]
  },
  {
   "cell_type": "code",
   "execution_count": 27,
   "metadata": {},
   "outputs": [],
   "source": [
    "res_theta_mu = []\n",
    "res_grad_theta_mu = []\n",
    "res_theta_sigma = []\n",
    "res_grad_theta_sigma = []\n",
    "res_sigma = []"
   ]
  },
  {
   "cell_type": "code",
   "execution_count": 28,
   "metadata": {},
   "outputs": [],
   "source": [
    "for i in range(2000):\n",
    "    grad_theta_mu = grad_ln_theta_mu(None, 5.0, theta_mu, theta_sigma)\n",
    "    grad_theta_sigma = grad_ln_theta_sigma(None, 5.0, theta_mu, theta_sigma)\n",
    "    \n",
    "    theta_mu += lr * grad_theta_mu\n",
    "    theta_sigma += lr * grad_theta_sigma\n",
    "    \n",
    "    res_theta_mu.append(theta_mu)\n",
    "    res_grad_theta_mu.append(grad_theta_mu)\n",
    "    res_theta_sigma.append(theta_sigma)\n",
    "    res_grad_theta_sigma.append(grad_theta_sigma)\n",
    "    res_sigma.append(np.exp(theta_sigma))"
   ]
  },
  {
   "cell_type": "code",
   "execution_count": 29,
   "metadata": {},
   "outputs": [
    {
     "data": {
      "text/plain": [
       "[<matplotlib.lines.Line2D at 0x7f8fc838c550>]"
      ]
     },
     "execution_count": 29,
     "metadata": {},
     "output_type": "execute_result"
    },
    {
     "data": {
      "image/png": "[encoded data removed]",
      "text/plain": [
       "<Figure size 432x288 with 1 Axes>"
      ]
     },
     "metadata": {
      "needs_background": "light"
     },
     "output_type": "display_data"
    }
   ],
   "source": [
    "plt.plot(res_theta_mu)\n",
    "plt.plot(res_sigma)"
   ]
  },
  {
   "cell_type": "code",
   "execution_count": 31,
   "metadata": {},
   "outputs": [
    {
     "data": {
      "text/plain": [
       "[<matplotlib.lines.Line2D at 0x7f8fc8245710>]"
      ]
     },
     "execution_count": 31,
     "metadata": {},
     "output_type": "execute_result"
    },
    {
     "data": {
      "image/png": "[encoded data removed]",
      "text/plain": [
       "<Figure size 432x288 with 1 Axes>"
      ]
     },
     "metadata": {
      "needs_background": "light"
     },
     "output_type": "display_data"
    }
   ],
   "source": [
    "plt.plot(res_grad_theta_mu)\n",
    "plt.plot(res_grad_theta_sigma)"
   ]
  },
  {
   "cell_type": "code",
   "execution_count": null,
   "metadata": {},
   "outputs": [],
   "source": []
  }
 ],
 "metadata": {
  "kernelspec": {
   "display_name": "Python [conda env:pt]",
   "language": "python",
   "name": "conda-env-pt-py"
  },
  "language_info": {
   "codemirror_mode": {
    "name": "ipython",
    "version": 3
   },
   "file_extension": ".py",
   "mimetype": "text/x-python",
   "name": "python",
   "nbconvert_exporter": "python",
   "pygments_lexer": "ipython3",
   "version": "3.7.4"
  }
 },
 "nbformat": 4,
 "nbformat_minor": 4
}
