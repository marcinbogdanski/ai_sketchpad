{
 "cells": [
  {
   "cell_type": "code",
   "execution_count": 1,
   "metadata": {},
   "outputs": [],
   "source": [
    "import numpy as np\n",
    "import matplotlib.pyplot as plt"
   ]
  },
  {
   "cell_type": "code",
   "execution_count": null,
   "metadata": {},
   "outputs": [],
   "source": []
  },
  {
   "cell_type": "code",
   "execution_count": null,
   "metadata": {},
   "outputs": [],
   "source": []
  },
  {
   "cell_type": "code",
   "execution_count": null,
   "metadata": {},
   "outputs": [],
   "source": []
  },
  {
   "cell_type": "markdown",
   "metadata": {},
   "source": [
    "# Grad - numpy"
   ]
  },
  {
   "cell_type": "code",
   "execution_count": 43,
   "metadata": {},
   "outputs": [],
   "source": [
    "theta_mu = 1.0\n",
    "theta_sigma = 2.0"
   ]
  },
  {
   "cell_type": "code",
   "execution_count": null,
   "metadata": {},
   "outputs": [],
   "source": []
  },
  {
   "cell_type": "code",
   "execution_count": 44,
   "metadata": {},
   "outputs": [],
   "source": [
    "def pi(theta_mu, theta_sigma):\n",
    "    return np.random.normal(loc=theta_mu, scale=theta_sigma)"
   ]
  },
  {
   "cell_type": "code",
   "execution_count": 45,
   "metadata": {},
   "outputs": [],
   "source": [
    "def x_mu(state):\n",
    "    return 1.0"
   ]
  },
  {
   "cell_type": "code",
   "execution_count": 46,
   "metadata": {},
   "outputs": [],
   "source": [
    "def x_sigma(state):\n",
    "    return 1.0"
   ]
  },
  {
   "cell_type": "code",
   "execution_count": null,
   "metadata": {},
   "outputs": [],
   "source": []
  },
  {
   "cell_type": "code",
   "execution_count": 47,
   "metadata": {},
   "outputs": [],
   "source": [
    "def grad_ln_theta_mu(state, action, theta_mu, theta_sigma):\n",
    "    return (1 / theta_sigma) * (action - theta_mu) * x_mu(state)  # Ex. 13.4"
   ]
  },
  {
   "cell_type": "code",
   "execution_count": 48,
   "metadata": {},
   "outputs": [],
   "source": [
    "def grad_ln_theta_sigma(state, action, theta_mu, theta_sigma):\n",
    "    return (((action - theta_mu) / theta_sigma) - 1) * x_sigma(state)"
   ]
  },
  {
   "cell_type": "code",
   "execution_count": 49,
   "metadata": {},
   "outputs": [
    {
     "data": {
      "text/plain": [
       "-1.5"
      ]
     },
     "execution_count": 49,
     "metadata": {},
     "output_type": "execute_result"
    }
   ],
   "source": [
    "grad_ln_theta_mu(None, -2.0, theta_mu, theta_sigma)"
   ]
  },
  {
   "cell_type": "code",
   "execution_count": 50,
   "metadata": {},
   "outputs": [
    {
     "data": {
      "text/plain": [
       "-2.5"
      ]
     },
     "execution_count": 50,
     "metadata": {},
     "output_type": "execute_result"
    }
   ],
   "source": [
    "grad_ln_theta_sigma(None, -2.0, theta_mu, theta_sigma)"
   ]
  },
  {
   "cell_type": "code",
   "execution_count": 51,
   "metadata": {},
   "outputs": [],
   "source": [
    "aa = np.linspace(-3, 3)\n",
    "mm = grad_ln_theta_mu(None, aa, theta_mu, theta_sigma)\n",
    "ss = grad_ln_theta_sigma(None, aa, theta_mu, theta_sigma)"
   ]
  },
  {
   "cell_type": "code",
   "execution_count": 52,
   "metadata": {},
   "outputs": [
    {
     "data": {
      "text/plain": [
       "[<matplotlib.lines.Line2D at 0x7fcb6ab4fd10>]"
      ]
     },
     "execution_count": 52,
     "metadata": {},
     "output_type": "execute_result"
    },
    {
     "data": {
      "image/png": "[encoded data removed]",
      "text/plain": [
       "<Figure size 432x288 with 1 Axes>"
      ]
     },
     "metadata": {
      "needs_background": "light"
     },
     "output_type": "display_data"
    }
   ],
   "source": [
    "plt.plot(aa, gg)"
   ]
  },
  {
   "cell_type": "code",
   "execution_count": 53,
   "metadata": {},
   "outputs": [
    {
     "data": {
      "text/plain": [
       "[<matplotlib.lines.Line2D at 0x7fcb6ab0b8d0>]"
      ]
     },
     "execution_count": 53,
     "metadata": {},
     "output_type": "execute_result"
    },
    {
     "data": {
      "image/png": "[encoded data removed]",
      "text/plain": [
       "<Figure size 432x288 with 1 Axes>"
      ]
     },
     "metadata": {
      "needs_background": "light"
     },
     "output_type": "display_data"
    }
   ],
   "source": [
    "plt.plot(aa, ss)"
   ]
  },
  {
   "cell_type": "code",
   "execution_count": null,
   "metadata": {},
   "outputs": [],
   "source": []
  },
  {
   "cell_type": "code",
   "execution_count": null,
   "metadata": {},
   "outputs": [],
   "source": []
  },
  {
   "cell_type": "code",
   "execution_count": 2,
   "metadata": {},
   "outputs": [],
   "source": [
    "import numpy as np\n",
    "import matplotlib.pyplot as plt"
   ]
  },
  {
   "cell_type": "code",
   "execution_count": 3,
   "metadata": {},
   "outputs": [],
   "source": [
    "def softmax(x):\n",
    "    \"\"\"Numerically stable softmax\"\"\"\n",
    "    ex = np.exp(x - np.max(x))\n",
    "    return ex / np.sum(ex)"
   ]
  },
  {
   "cell_type": "code",
   "execution_count": 4,
   "metadata": {},
   "outputs": [],
   "source": [
    "nb_states = 1\n",
    "nb_actions = 10"
   ]
  },
  {
   "cell_type": "code",
   "execution_count": 5,
   "metadata": {},
   "outputs": [],
   "source": [
    "_theta = np.zeros((nb_states, nb_actions))"
   ]
  },
  {
   "cell_type": "code",
   "execution_count": 6,
   "metadata": {},
   "outputs": [],
   "source": [
    "def pi_np(state):\n",
    "    \"\"\"Return policy, i.e. probability distribution over actions.\"\"\"\n",
    "    # Change 1:\n",
    "    h_vec = _theta[state]\n",
    "    prob_vec = softmax(h_vec)                     # shape=[n_act], e.q. 13.2\n",
    "    return prob_vec"
   ]
  },
  {
   "cell_type": "code",
   "execution_count": 7,
   "metadata": {},
   "outputs": [],
   "source": [
    "def grad_np(state, action):\n",
    "    x_s = np.zeros(nb_actions)\n",
    "    x_s[action] = 1             # feature vector, one-hot\n",
    "    prob = pi_np(state)\n",
    "    grad_s = x_s - prob\n",
    "    return grad_s"
   ]
  },
  {
   "cell_type": "code",
   "execution_count": 8,
   "metadata": {},
   "outputs": [
    {
     "data": {
      "text/plain": [
       "array([0.1, 0.1, 0.1, 0.1, 0.1, 0.1, 0.1, 0.1, 0.1, 0.1])"
      ]
     },
     "execution_count": 8,
     "metadata": {},
     "output_type": "execute_result"
    }
   ],
   "source": [
    "pi_np(0)"
   ]
  },
  {
   "cell_type": "code",
   "execution_count": 9,
   "metadata": {},
   "outputs": [
    {
     "data": {
      "text/plain": [
       "array([ 0.9, -0.1, -0.1, -0.1, -0.1, -0.1, -0.1, -0.1, -0.1, -0.1])"
      ]
     },
     "execution_count": 9,
     "metadata": {},
     "output_type": "execute_result"
    }
   ],
   "source": [
    "grad_np(0, 0)"
   ]
  },
  {
   "cell_type": "code",
   "execution_count": null,
   "metadata": {},
   "outputs": [],
   "source": []
  },
  {
   "cell_type": "code",
   "execution_count": null,
   "metadata": {},
   "outputs": [],
   "source": []
  },
  {
   "cell_type": "markdown",
   "metadata": {},
   "source": [
    "# Gradient - PyTorch"
   ]
  },
  {
   "cell_type": "code",
   "execution_count": 1,
   "metadata": {},
   "outputs": [],
   "source": [
    "import numpy as np\n",
    "import matplotlib.pyplot as plt\n",
    "\n",
    "import torch"
   ]
  },
  {
   "cell_type": "code",
   "execution_count": 2,
   "metadata": {},
   "outputs": [],
   "source": [
    "nb_states = 1\n",
    "nb_actions = 10"
   ]
  },
  {
   "cell_type": "code",
   "execution_count": 3,
   "metadata": {},
   "outputs": [],
   "source": [
    "_theta_t = torch.zeros((nb_states, nb_actions), requires_grad=True)"
   ]
  },
  {
   "cell_type": "code",
   "execution_count": 4,
   "metadata": {},
   "outputs": [],
   "source": [
    "def pi_t(state):\n",
    "    \"\"\"Return policy, i.e. probability distribution over actions.\"\"\"\n",
    "    with torch.no_grad():\n",
    "        prob_t = torch.softmax(_theta_t[state], dim=-1)\n",
    "        return prob_t.numpy()"
   ]
  },
  {
   "cell_type": "code",
   "execution_count": 5,
   "metadata": {},
   "outputs": [],
   "source": [
    "def grad_t(state, action):\n",
    "    prob_t = torch.softmax(_theta_t[state], dim=-1)\n",
    "    log_t = torch.log(prob_t)\n",
    "    loss = log_t[action]  # -1 grad ascent, scale by R\n",
    "    loss.backward()\n",
    "    \n",
    "    grad = _theta_t.grad.data.numpy().copy()\n",
    "    _theta_t.grad.data.zero_()\n",
    "    return grad"
   ]
  },
  {
   "cell_type": "code",
   "execution_count": 6,
   "metadata": {},
   "outputs": [
    {
     "data": {
      "text/plain": [
       "array([0.1, 0.1, 0.1, 0.1, 0.1, 0.1, 0.1, 0.1, 0.1, 0.1], dtype=float32)"
      ]
     },
     "execution_count": 6,
     "metadata": {},
     "output_type": "execute_result"
    }
   ],
   "source": [
    "pi_t(0)"
   ]
  },
  {
   "cell_type": "code",
   "execution_count": 7,
   "metadata": {},
   "outputs": [
    {
     "data": {
      "text/plain": [
       "array([[ 0.90000004, -0.1       , -0.1       , -0.1       , -0.1       ,\n",
       "        -0.1       , -0.1       , -0.1       , -0.1       , -0.1       ]],\n",
       "      dtype=float32)"
      ]
     },
     "execution_count": 7,
     "metadata": {},
     "output_type": "execute_result"
    }
   ],
   "source": [
    "grad_t(0, 0)"
   ]
  },
  {
   "cell_type": "markdown",
   "metadata": {},
   "source": [
    "# Gaussian - PyTorch"
   ]
  },
  {
   "cell_type": "code",
   "execution_count": 1,
   "metadata": {},
   "outputs": [],
   "source": [
    "import numpy as np\n",
    "import matplotlib.pyplot as plt\n",
    "\n",
    "import torch"
   ]
  },
  {
   "cell_type": "code",
   "execution_count": 2,
   "metadata": {},
   "outputs": [],
   "source": [
    "def gaussian_t(x_t, mean_t, std_t):\n",
    "    var_t = std_t**2\n",
    "    denom_t = (2*np.pi*var_t)**.5\n",
    "    num_t = torch.exp( -(x_t-mean_t)**2 / (2*var_t) )\n",
    "    return num_t / denom_t"
   ]
  },
  {
   "cell_type": "code",
   "execution_count": null,
   "metadata": {},
   "outputs": [],
   "source": []
  },
  {
   "cell_type": "code",
   "execution_count": 3,
   "metadata": {},
   "outputs": [],
   "source": [
    "nb_states = 1\n",
    "nb_actions = 10\n",
    "lr = 0.1"
   ]
  },
  {
   "cell_type": "code",
   "execution_count": 4,
   "metadata": {},
   "outputs": [],
   "source": [
    "_theta_mu_t = torch.zeros(nb_states, requires_grad=True)\n",
    "_theta_sigma_t = torch.ones(nb_states, requires_grad=True)"
   ]
  },
  {
   "cell_type": "code",
   "execution_count": 5,
   "metadata": {},
   "outputs": [],
   "source": [
    "# _dist = torch.distributions.Normal(_theta_mu_t, _theta_sigma_t)"
   ]
  },
  {
   "cell_type": "code",
   "execution_count": 6,
   "metadata": {},
   "outputs": [],
   "source": [
    "def pi_t(state, mu_t, sigma_t, do_exp):\n",
    "    with torch.no_grad():\n",
    "        std_t = torch.exp(sigma_t) if do_exp else sigma_t\n",
    "        #return np.random.normal(loc=theta_mu, scale=theta_sigma)\n",
    "        return torch.normal(mu_t, std_t).item()"
   ]
  },
  {
   "cell_type": "code",
   "execution_count": 7,
   "metadata": {},
   "outputs": [],
   "source": [
    "def print_plot(mu_t, sigma_t, do_exp):\n",
    "    \n",
    "    with torch.no_grad():\n",
    "        \n",
    "        \n",
    "        \n",
    "        print('mu_t:', mu_t, mu_t.grad)\n",
    "        print('sigma_t:', sigma_t, sigma_t.grad)\n",
    "        \n",
    "        std_t = torch.exp(sigma_t) if do_exp else sigma_t\n",
    "            \n",
    "        print('std_t:', std_t, std_t.grad)\n",
    "        \n",
    "        res = []\n",
    "        for i in range(100000):\n",
    "            res.append(pi_t(0, mu_t, sigma_t, do_exp))\n",
    "        plt.hist(res, bins=100, density=True)\n",
    "        \n",
    "        X_t = torch.linspace(-10, 10)\n",
    "        Y_t = gaussian_t(X_t, mean_t=0.0, std_t=1.0)\n",
    "        plt.plot(X_t.numpy(), Y_t.numpy())\n",
    "        Y_t = gaussian_t(X_t, mean_t=mu_t, std_t=std_t)\n",
    "        plt.plot(X_t.numpy(), Y_t.numpy(), color='red')\n",
    "        \n",
    "    plt.show()"
   ]
  },
  {
   "cell_type": "code",
   "execution_count": 8,
   "metadata": {},
   "outputs": [
    {
     "name": "stdout",
     "output_type": "stream",
     "text": [
      "mu_t: tensor([0.], requires_grad=True) None\n",
      "sigma_t: tensor([1.], requires_grad=True) None\n",
      "std_t: tensor([1.], requires_grad=True) None\n"
     ]
    },
    {
     "data": {
      "image/png": "[encoded data removed]",
      "text/plain": [
       "<Figure size 432x288 with 1 Axes>"
      ]
     },
     "metadata": {
      "needs_background": "light"
     },
     "output_type": "display_data"
    }
   ],
   "source": [
    "print_plot(_theta_mu_t, _theta_sigma_t, do_exp=False)"
   ]
  },
  {
   "cell_type": "code",
   "execution_count": null,
   "metadata": {},
   "outputs": [],
   "source": []
  },
  {
   "cell_type": "code",
   "execution_count": 450,
   "metadata": {},
   "outputs": [],
   "source": [
    "do_exp = True"
   ]
  },
  {
   "cell_type": "code",
   "execution_count": 451,
   "metadata": {},
   "outputs": [
    {
     "data": {
      "text/plain": [
       "tensor([0.], requires_grad=True)"
      ]
     },
     "execution_count": 451,
     "metadata": {},
     "output_type": "execute_result"
    }
   ],
   "source": [
    "_theta_mu_t = torch.zeros(nb_states, requires_grad=True)\n",
    "if not do_exp:\n",
    "    _theta_sigma_t = torch.ones(nb_states, requires_grad=True)\n",
    "else:\n",
    "    _theta_sigma_t = torch.zeros(nb_states, requires_grad=True)\n",
    "_theta_sigma_t"
   ]
  },
  {
   "cell_type": "code",
   "execution_count": null,
   "metadata": {},
   "outputs": [],
   "source": []
  },
  {
   "cell_type": "code",
   "execution_count": null,
   "metadata": {},
   "outputs": [],
   "source": []
  },
  {
   "cell_type": "code",
   "execution_count": 452,
   "metadata": {},
   "outputs": [],
   "source": [
    "lr = 0.01"
   ]
  },
  {
   "cell_type": "code",
   "execution_count": 453,
   "metadata": {},
   "outputs": [
    {
     "data": {
      "text/plain": [
       "tensor([1.], grad_fn=<ExpBackward>)"
      ]
     },
     "execution_count": 453,
     "metadata": {},
     "output_type": "execute_result"
    }
   ],
   "source": [
    "std_t = torch.exp(_theta_sigma_t) if do_exp else _theta_sigma_t\n",
    "std_t"
   ]
  },
  {
   "cell_type": "code",
   "execution_count": 454,
   "metadata": {},
   "outputs": [
    {
     "name": "stdout",
     "output_type": "stream",
     "text": [
      "tensor([1.4867e-06], grad_fn=<DivBackward0>)\n",
      "None\n"
     ]
    }
   ],
   "source": [
    "prob_t = gaussian_t(5.0, _theta_mu_t, std_t)\n",
    "print(prob_t)\n",
    "print(prob_t.grad)"
   ]
  },
  {
   "cell_type": "code",
   "execution_count": 455,
   "metadata": {},
   "outputs": [
    {
     "name": "stdout",
     "output_type": "stream",
     "text": [
      "tensor([-13.4189], grad_fn=<LogBackward>)\n",
      "None\n"
     ]
    }
   ],
   "source": [
    "log_t = torch.log(prob_t)\n",
    "print(log_t)\n",
    "print(log_t.grad)"
   ]
  },
  {
   "cell_type": "code",
   "execution_count": 456,
   "metadata": {},
   "outputs": [],
   "source": [
    "loss = log_t\n",
    "loss.backward()"
   ]
  },
  {
   "cell_type": "code",
   "execution_count": 457,
   "metadata": {},
   "outputs": [
    {
     "name": "stdout",
     "output_type": "stream",
     "text": [
      "tensor([-13.4189], grad_fn=<LogBackward>)\n",
      "None\n"
     ]
    }
   ],
   "source": [
    "print(log_t)\n",
    "print(log_t.grad)"
   ]
  },
  {
   "cell_type": "code",
   "execution_count": 458,
   "metadata": {},
   "outputs": [
    {
     "name": "stdout",
     "output_type": "stream",
     "text": [
      "tensor([0.], requires_grad=True)\n",
      "tensor([5.])\n"
     ]
    }
   ],
   "source": [
    "print(_theta_mu_t)\n",
    "print(_theta_mu_t.grad)"
   ]
  },
  {
   "cell_type": "code",
   "execution_count": 459,
   "metadata": {},
   "outputs": [
    {
     "name": "stdout",
     "output_type": "stream",
     "text": [
      "tensor([0.], requires_grad=True)\n",
      "tensor([24.])\n"
     ]
    }
   ],
   "source": [
    "print(_theta_sigma_t)\n",
    "print(_theta_sigma_t.grad)"
   ]
  },
  {
   "cell_type": "code",
   "execution_count": 460,
   "metadata": {},
   "outputs": [
    {
     "data": {
      "text/plain": [
       "tensor([0.])"
      ]
     },
     "execution_count": 460,
     "metadata": {},
     "output_type": "execute_result"
    }
   ],
   "source": [
    "_theta_mu_t.data.add_(lr * _theta_mu_t.grad.data)\n",
    "_theta_sigma_t.data.add_(lr * _theta_sigma_t.grad.data)\n",
    "_theta_mu_t.grad.data.zero_()\n",
    "_theta_sigma_t.grad.data.zero_()"
   ]
  },
  {
   "cell_type": "code",
   "execution_count": 461,
   "metadata": {},
   "outputs": [
    {
     "name": "stdout",
     "output_type": "stream",
     "text": [
      "mu_t: tensor([0.0500], requires_grad=True) tensor([0.])\n",
      "sigma_t: tensor([0.2400], requires_grad=True) tensor([0.])\n",
      "std_t: tensor([1.2712]) None\n"
     ]
    },
    {
     "data": {
      "image/png": "[encoded data removed]",
      "text/plain": [
       "<Figure size 432x288 with 1 Axes>"
      ]
     },
     "metadata": {
      "needs_background": "light"
     },
     "output_type": "display_data"
    }
   ],
   "source": [
    "print_plot(_theta_mu_t, _theta_sigma_t, do_exp)"
   ]
  },
  {
   "cell_type": "code",
   "execution_count": null,
   "metadata": {},
   "outputs": [],
   "source": []
  },
  {
   "cell_type": "code",
   "execution_count": 30,
   "metadata": {},
   "outputs": [
    {
     "name": "stdout",
     "output_type": "stream",
     "text": [
      "mu_t: tensor([0.0500], requires_grad=True) tensor([0.])\n",
      "sigma_t: tensor([1.2400], requires_grad=True) tensor([0.])\n",
      "std_t: tensor([1.2400], requires_grad=True) tensor([0.])\n"
     ]
    },
    {
     "data": {
      "image/png": "[encoded data removed]",
      "text/plain": [
       "<Figure size 432x288 with 1 Axes>"
      ]
     },
     "metadata": {
      "needs_background": "light"
     },
     "output_type": "display_data"
    }
   ],
   "source": [
    "print_plot(_theta_mu_t, _theta_sigma_t, do_exp)"
   ]
  },
  {
   "cell_type": "code",
   "execution_count": null,
   "metadata": {},
   "outputs": [],
   "source": []
  },
  {
   "cell_type": "code",
   "execution_count": null,
   "metadata": {},
   "outputs": [],
   "source": []
  },
  {
   "cell_type": "code",
   "execution_count": null,
   "metadata": {},
   "outputs": [],
   "source": []
  },
  {
   "cell_type": "code",
   "execution_count": null,
   "metadata": {},
   "outputs": [],
   "source": [
    "def grad_t(action, mean_t, std_t):\n",
    "    prob_t = gaussian_t(action, mean_t, std_t)\n",
    "    log_t = torch.log(prob_t)\n",
    "    loss = log_t\n",
    "    \n",
    "    "
   ]
  },
  {
   "cell_type": "code",
   "execution_count": null,
   "metadata": {},
   "outputs": [],
   "source": [
    "def grad_t(state, action):\n",
    "    prob_t = torch.softmax(_theta_t[state], dim=-1)\n",
    "    log_t = torch.log(prob_t)\n",
    "    loss = log_t[action]  # -1 grad ascent, scale by R\n",
    "    loss.backward()\n",
    "    \n",
    "    grad = _theta_t.grad.data.numpy().copy()\n",
    "    _theta_t.grad.data.zero_()\n",
    "    return grad"
   ]
  },
  {
   "cell_type": "code",
   "execution_count": null,
   "metadata": {},
   "outputs": [],
   "source": []
  },
  {
   "cell_type": "code",
   "execution_count": null,
   "metadata": {},
   "outputs": [],
   "source": []
  }
 ],
 "metadata": {
  "kernelspec": {
   "display_name": "Python [conda env:pt]",
   "language": "python",
   "name": "conda-env-pt-py"
  },
  "language_info": {
   "codemirror_mode": {
    "name": "ipython",
    "version": 3
   },
   "file_extension": ".py",
   "mimetype": "text/x-python",
   "name": "python",
   "nbconvert_exporter": "python",
   "pygments_lexer": "ipython3",
   "version": "3.7.4"
  }
 },
 "nbformat": 4,
 "nbformat_minor": 4
}
