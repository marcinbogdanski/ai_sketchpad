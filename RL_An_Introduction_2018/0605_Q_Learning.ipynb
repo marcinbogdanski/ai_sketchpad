{
 "cells": [
  {
   "cell_type": "markdown",
   "metadata": {},
   "source": [
    "<br/>\n",
    "\n",
    "$$ \\huge{\\underline{\\textbf{ Q-Learning }}} $$\n",
    "\n",
    "<br/>\n",
    "\n",
    "<center>Implementation of <b>Q-Learning</b></center>\n",
    "<center>from Sutton and Barto 2018, <b>chapter 6.5</b>.</center>\n",
    "<center>Book available for free <a href=\"http://incompleteideas.net/book/the-book-2nd.html\">here</a></center>\n",
    "\n",
    "<br/>\n",
    "\n",
    "<img src=\"assets/0605_Q_Learning.png\"/>\n",
    "<center> From Sutton and Barto (2018) _Reinforcement Learning: An Introduction_, chapter 6.5 </center>\n",
    "\n",
    "<br/>"
   ]
  },
  {
   "cell_type": "code",
   "execution_count": 1,
   "metadata": {},
   "outputs": [],
   "source": [
    "def q_learning(env, ep, gamma, alpha, eps):\n",
    "    \"\"\"Q-Learning (off-policy TD control)\n",
    "    \n",
    "    Params:\n",
    "        env - environment\n",
    "        ep - number of episodes to run\n",
    "        gamma - discount factor [0..1]\n",
    "        alpha - step size (0..1]\n",
    "        eps - epsilon-greedy param\n",
    "    \"\"\"\n",
    "    def policy(st, Q, eps):\n",
    "        if np.random.rand() > eps:\n",
    "            return argmax_rand([Q[st,a] for a in env.act_space])\n",
    "        else:\n",
    "            return np.random.choice(env.act_space)\n",
    "    \n",
    "    Q = defaultdict(float)  # default zero for all, terminal MUST be zero\n",
    "    \n",
    "    for _ in range(ep):\n",
    "        S = env.reset()\n",
    "        while True:\n",
    "            A = policy(S, Q, eps)\n",
    "            S_, R, done = env.step(A)\n",
    "            max_Q = np.max([Q[S_,a] for a in env.act_space])\n",
    "            Q[S,A] = Q[S,A] + alpha * (R + gamma * max_Q - Q[S,A])\n",
    "            S = S_\n",
    "            if done: break\n",
    "                            \n",
    "    return Q"
   ]
  },
  {
   "cell_type": "markdown",
   "metadata": {},
   "source": [
    "Helper functions:"
   ]
  },
  {
   "cell_type": "code",
   "execution_count": 2,
   "metadata": {},
   "outputs": [],
   "source": [
    "def argmax_rand(arr):\n",
    "    # break ties randomly, np.argmax() always picks first max\n",
    "    return np.random.choice(np.flatnonzero(arr == np.max(arr)))"
   ]
  },
  {
   "cell_type": "markdown",
   "metadata": {},
   "source": [
    "---"
   ]
  },
  {
   "cell_type": "markdown",
   "metadata": {},
   "source": [
    "<table>\n",
    "    <tr>\n",
    "        <td style=\"border-color: white;\"><img src=\"assets/fig_0605a.png\"/></td>\n",
    "        <td style=\"border-color: white;\"><img src=\"assets/fig_0605b.png\"/></td>\n",
    "    </tr>\n",
    "    <tr>\n",
    "        <td style=\"border-color: white;\" colspan=\"2\"><center>Example 6.6<center/></td>\n",
    "    </tr>\n",
    "</table>"
   ]
  },
  {
   "cell_type": "markdown",
   "metadata": {},
   "source": [
    "# Solve Cliff Walking"
   ]
  },
  {
   "cell_type": "code",
   "execution_count": 5,
   "metadata": {},
   "outputs": [],
   "source": [
    "import numpy as np\n",
    "import matplotlib.pyplot as plt\n",
    "from collections import defaultdict\n",
    "from helpers_0605 import plot_cliffwalk"
   ]
  },
  {
   "cell_type": "markdown",
   "metadata": {},
   "source": [
    "Auxiliary code here: [helpers_0605.py](helpers_0605.py)\n",
    "\n",
    "Cliff Walking environment, as described in the book example 6.6, along with my x,y convention.\n",
    "<img src=\"assets/0605_cliffwalking.png\"/>"
   ]
  },
  {
   "cell_type": "code",
   "execution_count": 22,
   "metadata": {},
   "outputs": [],
   "source": [
    "class CliffWalkingEnv:\n",
    "    def __init__(self):\n",
    "        self.act_space = [0, 1, 2, 3]  # LEFT = 0, DOWN = 1, RIGHT = 2, UP = 3\n",
    "        self.reset()\n",
    "        \n",
    "    def reset(self):\n",
    "        self._x, self._y = 0, 0        # agent initial position\n",
    "        return (0, 0)\n",
    "        \n",
    "    def step(self, action):\n",
    "        \"\"\"actions: LEFT = 0, DOWN = 1, RIGHT = 2, UP = 3\"\"\"\n",
    "        self._x, self._y = self.transition(self._x, self._y, action)\n",
    "        \n",
    "        if self._x in range(1,11) and self._y == 0:  # CLIFF spanning x=[1..10]\n",
    "            self._x, self._y = 0, 0                  #  teleport to start\n",
    "            return (self._x, self._y), -100, False   #  return -100 reward\n",
    "        if self._x == 11 and self._y == 0:           # GOAL at (11,0)\n",
    "            return (self._x, self._y), -1, True      #  -1, terminate\n",
    "        return (self._x, self._y), -1, False         # NORMAL states\n",
    "        \n",
    "    def transition(self, x, y, action):\n",
    "        \"\"\"Perform transition from [x,y] given action. Does not teleport.\"\"\"\n",
    "        \n",
    "        if action == 0:    x -= 1     # left\n",
    "        elif action == 1:  y -= 1     # down\n",
    "        elif action == 2:  x += 1     # right\n",
    "        elif action == 3:  y += 1     # up\n",
    "        else: raise ValueError('Action must be in [0,1,2,3]')\n",
    "            \n",
    "        x = np.clip(x, 0, 11)   # x range is [0..11] incl.\n",
    "        y = np.clip(y, 0, 3)    # y range is [0..3] incl.\n",
    "        return x, y\n",
    "    \n",
    "    def get_path(self, Q):\n",
    "        \"\"\"Returns a path agent would take, if following greedy Q-based policy\"\"\"\n",
    "        x, y = 0, 0       # agent starting position\n",
    "        path = [(x, y)]   # save starting position\n",
    "        for _ in range(100):  # limit steps in case policy is loopy\n",
    "            A_star = np.argmax([Q[(x,y),a] for a in [0, 1, 2, 3]])   # pick best action\n",
    "            x, y = self.transition(x, y, A_star)         # take one step\n",
    "            path.append((x,y))                           # save to path\n",
    "            if x in range(1,11) and y == 0:              # CLIFF\n",
    "                path.append((0, 0))                      # teleport\n",
    "            if x == 11 and y == 0:  break                # GOAL at (11,0)\n",
    "        return path"
   ]
  },
  {
   "cell_type": "markdown",
   "metadata": {},
   "source": [
    "Create environment"
   ]
  },
  {
   "cell_type": "code",
   "execution_count": 7,
   "metadata": {},
   "outputs": [],
   "source": [
    "env = CliffWalkingEnv()"
   ]
  },
  {
   "cell_type": "markdown",
   "metadata": {},
   "source": [
    "Solve. 100 episodes usually enough."
   ]
  },
  {
   "cell_type": "code",
   "execution_count": 20,
   "metadata": {},
   "outputs": [],
   "source": [
    "Q = q_learning(env, ep=100, gamma=1., alpha=.5, eps=.1)"
   ]
  },
  {
   "cell_type": "code",
   "execution_count": 21,
   "metadata": {},
   "outputs": [
    {
     "data": {
      "image/png": "[encoded data removed]",
      "text/plain": [
       "<Figure size 432x288 with 1 Axes>"
      ]
     },
     "metadata": {},
     "output_type": "display_data"
    }
   ],
   "source": [
    "path = env.get_path(Q)\n",
    "plot_cliffwalk(Q, path_red=path)"
   ]
  },
  {
   "cell_type": "markdown",
   "metadata": {},
   "source": [
    "# Recreate example 6.6"
   ]
  },
  {
   "cell_type": "markdown",
   "metadata": {},
   "source": [
    "We need to bring back Sarsa algorithm from section 5.5. We also need to modify both algorithms to track cumulative reward (*R_sum*) at each episode."
   ]
  },
  {
   "cell_type": "code",
   "execution_count": 96,
   "metadata": {},
   "outputs": [],
   "source": [
    "def sarsa_ext(env, ep, gamma, alpha, eps):\n",
    "    def policy(st, Q, eps):\n",
    "        if np.random.rand() > eps: return argmax_rand([Q[st,a] for a in env.act_space])\n",
    "        else:                      return np.random.choice(env.act_space)\n",
    "    \n",
    "    Q = defaultdict(float)  # default 0\n",
    "    \n",
    "    rewards = []            # Change: track episode rewards\n",
    "    for _ in range(ep):\n",
    "        rewards.append(0)       #  <--\n",
    "        S = env.reset()\n",
    "        A = policy(S, Q, eps)\n",
    "        while True:\n",
    "            S_, R, done = env.step(A)\n",
    "            A_ = policy(S_, Q, eps)\n",
    "            Q[S,A] = Q[S,A] + alpha * (R + gamma * Q[S_,A_] - Q[S,A])\n",
    "            S, A = S_, A_\n",
    "            rewards[-1] += R   #  <--\n",
    "            if done: break\n",
    "    return Q, rewards"
   ]
  },
  {
   "cell_type": "code",
   "execution_count": 97,
   "metadata": {},
   "outputs": [],
   "source": [
    "def q_learning_ext(env, ep, gamma, alpha, eps):\n",
    "    def policy(st, Q, eps):\n",
    "        if np.random.rand() > eps: return argmax_rand([Q[st,a] for a in env.act_space])\n",
    "        else:                      return np.random.choice(env.act_space)\n",
    "    \n",
    "    Q = defaultdict(float)  # default 0\n",
    "    \n",
    "    rewards = []            # Change: track episode rewards\n",
    "    for _ in range(ep):\n",
    "        rewards.append(0)       #  <--\n",
    "        S = env.reset()\n",
    "        while True:\n",
    "            A = policy(S, Q, eps)\n",
    "            S_, R, done = env.step(A)\n",
    "            max_Q = np.max([Q[S_,a] for a in env.act_space])\n",
    "            Q[S,A] = Q[S,A] + alpha * (R + gamma * max_Q - Q[S,A])\n",
    "            S = S_\n",
    "            rewards[-1] += R   #  <--\n",
    "            if done: break\n",
    "    return Q, rewards"
   ]
  },
  {
   "cell_type": "markdown",
   "metadata": {},
   "source": [
    "### Example 6.6 - safe/optimal paths"
   ]
  },
  {
   "cell_type": "markdown",
   "metadata": {},
   "source": [
    "Solve both environments. May take more than one attempt to get exactly right."
   ]
  },
  {
   "cell_type": "code",
   "execution_count": 62,
   "metadata": {},
   "outputs": [],
   "source": [
    "Q_ql, _ = q_learning_ext(env, ep=100, gamma=1., alpha=.5, eps=.1)\n",
    "Q_sr, _ = sarsa_ext(env, ep=10000, gamma=1., alpha=.5, eps=.1)"
   ]
  },
  {
   "cell_type": "markdown",
   "metadata": {},
   "source": [
    "Plot both solutions."
   ]
  },
  {
   "cell_type": "code",
   "execution_count": 125,
   "metadata": {},
   "outputs": [
    {
     "data": {
      "image/png": "[encoded data removed]",
      "text/plain": [
       "<Figure size 432x288 with 1 Axes>"
      ]
     },
     "metadata": {},
     "output_type": "display_data"
    }
   ],
   "source": [
    "path_qlearn = env.get_path(Q_ql)\n",
    "path_sarsa = env.get_path(Q_sr)\n",
    "plot_cliffwalk(path_blue=path_sarsa, path_red=path_qlearn,\n",
    "               labels=['Sarsa', 'Q-Learning'], saveimg=None)  # 'assets/fig_0605a.png'"
   ]
  },
  {
   "cell_type": "markdown",
   "metadata": {},
   "source": [
    "### Example 6.6 - online performance comparison"
   ]
  },
  {
   "cell_type": "markdown",
   "metadata": {},
   "source": [
    "I was not able to reproduce wavy look of second plot in example 6.6. Bood doesn't seem to desribe how exactly second plot was produced. Following convention from the rest of the book I averaged data over multiple runs, which seems to produce similar results, but with different noise distribution. If anyone know how exactly that plot was reproduced drop me a msg.\n",
    "* We will run sarsa and q_learning 100 times each\n",
    "* Each run will be consisted of 500 complete episodes $t\\in[1..T]$\n",
    "* Each episode will provide single data point equal to sum of reward in this episode"
   ]
  },
  {
   "cell_type": "code",
   "execution_count": 162,
   "metadata": {},
   "outputs": [],
   "source": [
    "def perform_experiments(n_runs):\n",
    "    R_ql_runs = []  # sum of rewards, dim [n_runs, nb_episodes]\n",
    "    R_sr_runs = []\n",
    "\n",
    "    for i in range(n_runs):  # 100 runs\n",
    "        # 500 episodes, each episode providing one data point\n",
    "        _, hist = q_learning_ext(env, ep=500, gamma=1., alpha=.5, eps=.1)\n",
    "        R_ql_runs.append(hist)\n",
    "\n",
    "        _, hist = sarsa_ext(env, ep=500, gamma=1., alpha=.5, eps=.1)\n",
    "        R_sr_runs.append(hist)\n",
    "\n",
    "    # Average over all runs\n",
    "    R_ql_avg = np.average(R_ql_runs, axis=0)\n",
    "    R_sr_avg = np.average(R_sr_runs, axis=0)\n",
    "    \n",
    "    return R_ql_avg, R_sr_avg, n_runs"
   ]
  },
  {
   "cell_type": "markdown",
   "metadata": {},
   "source": [
    "Run experiments"
   ]
  },
  {
   "cell_type": "code",
   "execution_count": 157,
   "metadata": {},
   "outputs": [],
   "source": [
    "R_ql_avg, R_sr_avg = perform_experiments(100)  # ~2min"
   ]
  },
  {
   "cell_type": "markdown",
   "metadata": {},
   "source": [
    "Plot results"
   ]
  },
  {
   "cell_type": "code",
   "execution_count": 163,
   "metadata": {},
   "outputs": [
    {
     "data": {
      "image/png": "[encoded data removed]",
      "text/plain": [
       "<Figure size 432x288 with 1 Axes>"
      ]
     },
     "metadata": {},
     "output_type": "display_data"
    }
   ],
   "source": [
    "fig = plt.figure()\n",
    "ax = fig.add_subplot(111)\n",
    "ax.plot(R_sr_avg, color='blue', label='Sarsa')\n",
    "ax.plot(R_ql_avg, color='red', label='Q-Learning')\n",
    "ax.set_ylim([-100,0])\n",
    "ax.legend()\n",
    "ax.set_xlabel('Episodes')\n",
    "ax.set_ylabel('Sum of rewards during episode\\n(averaged over '+str(n_runs)+' runs)')\n",
    "plt.tight_layout()\n",
    "# plt.savefig('assets/fig_0605b.png')\n",
    "plt.show()"
   ]
  }
 ],
 "metadata": {
  "kernelspec": {
   "display_name": "Python 3",
   "language": "python",
   "name": "python3"
  },
  "language_info": {
   "codemirror_mode": {
    "name": "ipython",
    "version": 3
   },
   "file_extension": ".py",
   "mimetype": "text/x-python",
   "name": "python",
   "nbconvert_exporter": "python",
   "pygments_lexer": "ipython3",
   "version": "3.6.5"
  }
 },
 "nbformat": 4,
 "nbformat_minor": 2
}
