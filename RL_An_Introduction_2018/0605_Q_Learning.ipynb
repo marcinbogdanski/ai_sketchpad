{
 "cells": [
  {
   "cell_type": "markdown",
   "metadata": {},
   "source": [
    "<br/>\n",
    "\n",
    "$$ \\huge{\\underline{\\textbf{ Q-Learning }}} $$\n",
    "\n",
    "<br/>\n",
    "\n",
    "<img src=\"assets/0605_Q_Learning.png\"/>\n",
    "<center> From Sutton and Barto (2018) _Reinforcement Learning: An Introduction_, chapter 6.5 </center>\n",
    "\n",
    "<br/>"
   ]
  },
  {
   "cell_type": "code",
   "execution_count": 413,
   "metadata": {},
   "outputs": [],
   "source": [
    "def q_learning(env, ep, gamma, alpha, eps, mts=float('inf')):\n",
    "    \"\"\"Q-Learning (off-policy TD control)\n",
    "    \n",
    "    Params:\n",
    "        env - environment\n",
    "        ep - number of episodes to run\n",
    "        gamma - discount factor [0..1]\n",
    "        alpha - step size (0..1]\n",
    "        eps - epsilon-greedy param\n",
    "    \"\"\"\n",
    "    def policy(st, Q, eps):\n",
    "        if np.random.rand() > eps:\n",
    "            return argmax_rand([Q[st,a] for a in env.act_space])\n",
    "        else:\n",
    "            return np.random.choice(env.act_space)\n",
    "    \n",
    "    Q = defaultdict(float)  # default zero for all, terminal MUST be zero\n",
    "    \n",
    "    ts = 0\n",
    "    for _ in range(ep):\n",
    "        S = env.reset()\n",
    "        while True:\n",
    "            A = policy(S, Q, eps)\n",
    "            S_, R, done = env.step(A)\n",
    "            max_Q = np.max([Q[S_,a] for a in env.act_space])\n",
    "            Q[S,A] = Q[S,A] + alpha * (R + gamma * max_Q - Q[S,A])\n",
    "            S = S_\n",
    "            if done: break\n",
    "                \n",
    "            ts += 1\n",
    "            if ts >= mts:\n",
    "                return Q\n",
    "                \n",
    "    return Q"
   ]
  },
  {
   "cell_type": "markdown",
   "metadata": {},
   "source": [
    "Helper functions:"
   ]
  },
  {
   "cell_type": "code",
   "execution_count": 414,
   "metadata": {},
   "outputs": [],
   "source": [
    "def argmax_rand(arr):\n",
    "    # break ties randomly, np.argmax() always picks first max\n",
    "    return np.random.choice(np.flatnonzero(arr == np.max(arr)))"
   ]
  },
  {
   "cell_type": "markdown",
   "metadata": {},
   "source": [
    "# Solve Cliff Walking"
   ]
  },
  {
   "cell_type": "code",
   "execution_count": 415,
   "metadata": {},
   "outputs": [],
   "source": [
    "import numpy as np\n",
    "import matplotlib.pyplot as plt\n",
    "from collections import defaultdict\n",
    "# from helpers_0604 import plot_windy"
   ]
  },
  {
   "cell_type": "markdown",
   "metadata": {},
   "source": [
    "Cliff Walking environment, as described in the book example 6.6, along with our x,y convention.\n",
    "<img src=\"assets/0605_cliffwalking.png\"/>"
   ]
  },
  {
   "cell_type": "code",
   "execution_count": 420,
   "metadata": {},
   "outputs": [],
   "source": [
    "class CliffWalkingEnv:\n",
    "    def __init__(self):\n",
    "        self.act_space = [0, 1, 2, 3]  # LEFT = 0, DOWN = 1, RIGHT = 2, UP = 3\n",
    "        self.reset()\n",
    "        \n",
    "    def reset(self):\n",
    "        self._x, self._y = 0, 0        # agent initial position\n",
    "        return (0, 0)\n",
    "        \n",
    "    def step(self, action):\n",
    "        # actions: LEFT = 0, DOWN = 1, RIGHT = 2, UP = 3\n",
    "        self._x, self._y = self.transition(self._x, self._y, action)\n",
    "        \n",
    "        if self._x not in [0, 11] and self._y == 0:  # CLIFF\n",
    "            self._x, self._y = 0, 0                  #  teleport to start\n",
    "            return (self._x, self._y), -100, False   #  return -100 reward\n",
    "        if self._x == 11 and self._y == 0:           # GOAL\n",
    "            return (self._x, self._y), -1, True      #  -1, terminate\n",
    "        return (self._x, self._y), -1, False         # NORMAL\n",
    "        \n",
    "    def transition(self, x, y, action):\n",
    "        \"\"\"Perform transition from [x,y] given action. Does not teleport.\"\"\"\n",
    "        \n",
    "        if action == 0:    x -= 1     # left\n",
    "        elif action == 1:  y -= 1     # down\n",
    "        elif action == 2:  x += 1     # right\n",
    "        elif action == 3:  y += 1     # up\n",
    "        else: raise ValueError('Action must be in [0,1,2,3]')\n",
    "            \n",
    "        x = np.clip(x, 0, 11)   # x range is [0..11]\n",
    "        y = np.clip(y, 0, 3)   # y range is [0..3]\n",
    "        return x, y\n",
    "    \n",
    "    def get_path(self, Q):\n",
    "        x, y = 0, 0       # agent starting position\n",
    "        path = [(x, y)]   # save starting position\n",
    "        for _ in range(100):  # limit steps in case policy is loopy\n",
    "            A_star = np.argmax([Q[(x,y),a] for a in [0, 1, 2, 3]])   # pick best action\n",
    "            x, y = self.transition(x, y, A_star)         # take one step\n",
    "            path.append((x,y))                           # save to path\n",
    "            if x not in [0, 11] and y == 0:              # CLIFF\n",
    "                path.append((0, 0))\n",
    "            if x == 11 and y == 0:  break                 # if goal: break\n",
    "        return path"
   ]
  },
  {
   "cell_type": "markdown",
   "metadata": {},
   "source": [
    "Create environment"
   ]
  },
  {
   "cell_type": "code",
   "execution_count": 421,
   "metadata": {},
   "outputs": [],
   "source": [
    "env = CliffWalkingEnv()"
   ]
  },
  {
   "cell_type": "markdown",
   "metadata": {},
   "source": [
    "Solve. Note that 10k episodes doesn't always find optimal policy."
   ]
  },
  {
   "cell_type": "code",
   "execution_count": 468,
   "metadata": {
    "scrolled": true
   },
   "outputs": [],
   "source": [
    "Q = sarsa(env, ep=1000, gamma=1., alpha=.5, eps=.1, mts=float('inf'))"
   ]
  },
  {
   "cell_type": "markdown",
   "metadata": {},
   "source": [
    "Plot"
   ]
  },
  {
   "cell_type": "code",
   "execution_count": 469,
   "metadata": {},
   "outputs": [
    {
     "data": {
      "image/png": "[encoded data removed]",
      "text/plain": [
       "<Figure size 432x288 with 1 Axes>"
      ]
     },
     "metadata": {},
     "output_type": "display_data"
    }
   ],
   "source": [
    "path = env.get_path(Q)\n",
    "plot_cliffwalk(Q, path)"
   ]
  },
  {
   "cell_type": "code",
   "execution_count": 470,
   "metadata": {},
   "outputs": [],
   "source": [
    "Q = q_learning(env, ep=100, gamma=1., alpha=.5, eps=.1)"
   ]
  },
  {
   "cell_type": "code",
   "execution_count": 471,
   "metadata": {},
   "outputs": [
    {
     "data": {
      "image/png": "[encoded data removed]",
      "text/plain": [
       "<Figure size 432x288 with 1 Axes>"
      ]
     },
     "metadata": {},
     "output_type": "display_data"
    }
   ],
   "source": [
    "path = env.get_path(Q)\n",
    "plot_cliffwalk(Q, path)"
   ]
  },
  {
   "cell_type": "code",
   "execution_count": 430,
   "metadata": {},
   "outputs": [],
   "source": [
    "arr = np.zeros([12, 4, 4])\n",
    "for x in range(12):\n",
    "    for y in range(4):\n",
    "        for a in [0, 1, 2, 3]:\n",
    "            arr[x, y, a] = Q[(x,y),a]"
   ]
  },
  {
   "cell_type": "code",
   "execution_count": 431,
   "metadata": {},
   "outputs": [
    {
     "name": "stdout",
     "output_type": "stream",
     "text": [
      "[[-14.5 -13.1 -13.1 -11.5 -11.3  -9.4  -9.6  -8.4  -7.5  -6.7  -5.8  -4.3]\n",
      " [-14.  -14.  -13.  -12.  -11.  -10.   -9.   -8.   -7.   -6.   -5.   -4. ]\n",
      " [-13.  -13.  -12.  -11.  -10.   -9.   -8.   -7.   -6.   -5.   -4.   -3. ]\n",
      " [-14.    0.    0.    0.    0.    0.    0.    0.    0.    0.    0.    0. ]]\n"
     ]
    }
   ],
   "source": [
    "print(arr[:,:,0].T[::-1].round(1))  # <-"
   ]
  },
  {
   "cell_type": "code",
   "execution_count": 432,
   "metadata": {},
   "outputs": [
    {
     "name": "stdout",
     "output_type": "stream",
     "text": [
      "[[ -13.9  -13.   -12.   -11.   -10.    -9.    -8.    -7.    -6.    -5.\n",
      "    -4.    -3. ]\n",
      " [ -13.   -12.   -11.   -10.    -9.    -8.    -7.    -6.    -5.    -4.\n",
      "    -3.    -2. ]\n",
      " [ -14.  -113.  -113.  -113.  -113.  -113.  -113.  -113.  -113.  -113.\n",
      "  -113.    -1. ]\n",
      " [ -14.     0.     0.     0.     0.     0.     0.     0.     0.     0.\n",
      "     0.     0. ]]\n"
     ]
    }
   ],
   "source": [
    "print(arr[:,:,1].T[::-1].round(1))  # v"
   ]
  },
  {
   "cell_type": "code",
   "execution_count": 433,
   "metadata": {},
   "outputs": [
    {
     "name": "stdout",
     "output_type": "stream",
     "text": [
      "[[ -13.9  -13.   -12.   -11.   -10.    -9.    -8.    -7.    -6.    -5.\n",
      "    -4.    -3.7]\n",
      " [ -13.   -12.   -11.   -10.    -9.    -8.    -7.    -6.    -5.    -4.\n",
      "    -3.    -3. ]\n",
      " [ -12.   -11.   -10.    -9.    -8.    -7.    -6.    -5.    -4.    -3.\n",
      "    -2.    -2. ]\n",
      " [-113.     0.     0.     0.     0.     0.     0.     0.     0.     0.\n",
      "     0.     0. ]]\n"
     ]
    }
   ],
   "source": [
    "print(arr[:,:,2].T[::-1].round(1))  # ->"
   ]
  },
  {
   "cell_type": "code",
   "execution_count": 434,
   "metadata": {},
   "outputs": [
    {
     "name": "stdout",
     "output_type": "stream",
     "text": [
      "[[-14.4 -13.7 -12.4 -11.2 -10.8  -9.8  -8.8  -7.3  -6.3  -5.9  -4.7  -3. ]\n",
      " [-14.8 -14.  -13.  -12.  -11.  -10.   -9.   -8.   -7.   -6.   -5.   -4. ]\n",
      " [-14.  -13.  -12.  -11.  -10.   -9.   -8.   -7.   -6.   -5.   -4.   -3. ]\n",
      " [-13.    0.    0.    0.    0.    0.    0.    0.    0.    0.    0.    0. ]]\n"
     ]
    }
   ],
   "source": [
    "print(arr[:,:,3].T[::-1].round(1))  # ^"
   ]
  },
  {
   "cell_type": "code",
   "execution_count": 435,
   "metadata": {},
   "outputs": [
    {
     "name": "stdout",
     "output_type": "stream",
     "text": [
      "[[-13.9 -13.  -12.  -11.  -10.   -9.   -8.   -7.   -6.   -5.   -4.   -3. ]\n",
      " [-13.  -12.  -11.  -10.   -9.   -8.   -7.   -6.   -5.   -4.   -3.   -2. ]\n",
      " [-12.  -11.  -10.   -9.   -8.   -7.   -6.   -5.   -4.   -3.   -2.   -1. ]\n",
      " [-13.    0.    0.    0.    0.    0.    0.    0.    0.    0.    0.    0. ]]\n"
     ]
    }
   ],
   "source": [
    "print(np.max(arr, axis=-1).T[::-1].round(1))"
   ]
  },
  {
   "cell_type": "code",
   "execution_count": 436,
   "metadata": {},
   "outputs": [],
   "source": [
    "amax_Ti = np.argmax(arr, axis=-1).T[::-1]"
   ]
  },
  {
   "cell_type": "code",
   "execution_count": 437,
   "metadata": {},
   "outputs": [],
   "source": [
    "a2w = {'0':'<', '1':'v', '2':'>', '3':'^'}\n",
    "amax_str = np.array(amax_Ti, dtype=str)\n",
    "for i in range(amax_str.shape[0]):\n",
    "    for j in range(amax_str.shape[1]):\n",
    "        amax_str[i,j] = a2w[amax_str[i,j]]"
   ]
  },
  {
   "cell_type": "code",
   "execution_count": 342,
   "metadata": {},
   "outputs": [
    {
     "data": {
      "text/plain": [
       "array([['>', '>', '>', '>', '>', '>', '>', '>', '>', '>', '>', '<'],\n",
       "       ['^', '^', '^', '^', '^', '>', '>', '^', '>', '^', '^', '^'],\n",
       "       ['^', '<', '^', '^', '<', '^', '^', '^', '^', '^', '>', '^'],\n",
       "       ['^', '<', '<', '<', '<', '<', '<', '<', '<', '<', '<', '^']],\n",
       "      dtype='<U21')"
      ]
     },
     "execution_count": 342,
     "metadata": {},
     "output_type": "execute_result"
    }
   ],
   "source": [
    "amax_str"
   ]
  },
  {
   "cell_type": "code",
   "execution_count": 10,
   "metadata": {},
   "outputs": [],
   "source": [
    "import matplotlib.patches as patches"
   ]
  },
  {
   "cell_type": "code",
   "execution_count": 472,
   "metadata": {},
   "outputs": [],
   "source": [
    "def plot_cliffwalk(Q=None, path=None, color='blue', saveimg=None):\n",
    "    \"\"\"Plot windy gridworld.\n",
    "    \n",
    "    Will plot optimal action for each cell, according to 'Q'\n",
    "    and blue line following 'path' parameter\n",
    "    \n",
    "    Params:\n",
    "        Q    - optional, dictionary mappting [(x,y),action] -> float\n",
    "        path - optional, list [(x1,y1), (x2,y2), ...] of agent steps\n",
    "    \"\"\"\n",
    "    fig = plt.figure()\n",
    "    ax = fig.add_subplot(111)\n",
    "\n",
    "    ax.set_xlim(-.5, 11.5)\n",
    "    ax.set_ylim(-.5, 3.5)\n",
    "    ax.set_yticks([])\n",
    "    ax.set_xticks([])\n",
    "    ax.axis('off')\n",
    "    ax.set_aspect('equal', 'datalim')\n",
    "\n",
    "    ax.text(0, 0, 'S', fontsize=18, horizontalalignment='center', verticalalignment='center')\n",
    "    ax.text(11, 0, 'G', fontsize=18, horizontalalignment='center', verticalalignment='center')\n",
    "    ax.text(5.5, 0, 'T h e   C l i f f', fontsize=18, horizontalalignment='center', verticalalignment='center')\n",
    "    \n",
    "    for x in range(12):\n",
    "        for y in range(4):\n",
    "            if x not in [0, 11] and y == 0:  # cliff\n",
    "                ax.add_patch(patches.Rectangle([x-0.5, y-0.5], 1, 1, fill=True, color='lightgray'))    \n",
    "            else:\n",
    "                ax.add_patch(patches.Rectangle([x-0.5, y-0.5], 1, 1, fill=False))  # cells\n",
    "\n",
    "            if Q is not None:\n",
    "                params = {'head_width':0.2, 'head_length':0.2, 'color':'gray', 'alpha':.2}\n",
    "                A_star = np.argmax([Q[(x,y),a] for a in [0, 1, 2, 3]])  # pick best action\n",
    "                if A_star == 3:    ax.arrow(x, y, 0,  .1, **params)  # up\n",
    "                elif A_star == 1:  ax.arrow(x, y, 0, -.1, **params)  # down\n",
    "                elif A_star == 0:  ax.arrow(x, y, -.1, 0, **params)  # left\n",
    "                elif A_star == 2:  ax.arrow(x, y,  .1, 0, **params)  # right\n",
    "\n",
    "    if path is not None:\n",
    "        for i in range(len(path)-1):\n",
    "            x, y = path[i]\n",
    "            x_, y_ = path[i+1]\n",
    "            ax.plot([x, x_], [y, y_], color=color, alpha=1.)\n",
    "\n",
    "    plt.tight_layout()\n",
    "    if saveimg is not None:\n",
    "        plt.savefig(saveimg)\n",
    "    plt.show()"
   ]
  },
  {
   "cell_type": "code",
   "execution_count": 38,
   "metadata": {},
   "outputs": [
    {
     "data": {
      "image/png": "[encoded data removed]",
      "text/plain": [
       "<Figure size 432x288 with 1 Axes>"
      ]
     },
     "metadata": {},
     "output_type": "display_data"
    }
   ],
   "source": [
    "plot_cliffwalk()"
   ]
  },
  {
   "cell_type": "code",
   "execution_count": 76,
   "metadata": {},
   "outputs": [],
   "source": [
    "import pdb"
   ]
  },
  {
   "cell_type": "code",
   "execution_count": 323,
   "metadata": {},
   "outputs": [],
   "source": [
    "def sarsa(env, ep, gamma, alpha, eps, mts=float('inf')):\n",
    "    \"\"\"Sarsa (on-policy TD control)\n",
    "    \n",
    "    Params:\n",
    "        env - environment\n",
    "        ep - number of episodes to run\n",
    "        gamma - discount factor [0..1]\n",
    "        alpha - step size (0..1]\n",
    "        eps - epsilon-greedy param\n",
    "    \"\"\"\n",
    "    def policy(st, Q, eps):\n",
    "        if np.random.rand() > eps:\n",
    "            pick = argmax_rand([Q[st,a] for a in env.act_space])\n",
    "            # print(st, ':', [Q[st,a] for a in env.act_space], ' -> ', pick)\n",
    "            return pick\n",
    "        else:\n",
    "            return np.random.choice(env.act_space)\n",
    "    \n",
    "    Q = defaultdict(float)  # default zero for all, terminal MUST be zero\n",
    "    \n",
    "    # pdb.set_trace()\n",
    "    \n",
    "    ts = 0\n",
    "    for _ in range(ep):\n",
    "        S = env.reset()\n",
    "        A = policy(S, Q, eps)\n",
    "        while True:\n",
    "            S_, R, done = env.step(A)\n",
    "            A_ = policy(S_, Q, eps)\n",
    "            Q[S,A] = Q[S,A] + alpha * (R + gamma * Q[S_,A_] - Q[S,A])\n",
    "            S, A = S_, A_\n",
    "            if done: break\n",
    "                \n",
    "            ts += 1\n",
    "            if ts >= mts:\n",
    "                return Q\n",
    "                \n",
    "    return Q"
   ]
  },
  {
   "cell_type": "markdown",
   "metadata": {},
   "source": [
    "# Recreate Example 6.5 figures \n",
    "\n",
    "### Mini figure\n",
    "\n",
    "This assume previous section computed optimal Q correctly, if not repeat or increase nb episodes."
   ]
  },
  {
   "cell_type": "code",
   "execution_count": 10,
   "metadata": {},
   "outputs": [
    {
     "data": {
      "image/png": "[encoded data removed]",
      "text/plain": [
       "<Figure size 432x288 with 1 Axes>"
      ]
     },
     "metadata": {},
     "output_type": "display_data"
    }
   ],
   "source": [
    "plot_windy(Q=None, path=optimal_path, savepath='assets/fig_0604_path.png')"
   ]
  }
 ],
 "metadata": {
  "kernelspec": {
   "display_name": "Python 3",
   "language": "python",
   "name": "python3"
  },
  "language_info": {
   "codemirror_mode": {
    "name": "ipython",
    "version": 3
   },
   "file_extension": ".py",
   "mimetype": "text/x-python",
   "name": "python",
   "nbconvert_exporter": "python",
   "pygments_lexer": "ipython3",
   "version": "3.6.5"
  }
 },
 "nbformat": 4,
 "nbformat_minor": 2
}
