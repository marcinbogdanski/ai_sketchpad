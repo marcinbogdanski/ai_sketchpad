{
 "cells": [
  {
   "cell_type": "markdown",
   "metadata": {},
   "source": [
    "<br/>\n",
    "\n",
    "$$ \\huge{\\underline{\\textbf{ Linear Models }}} $$\n",
    "\n",
    "$$ \\large{\\textbf{ Tile Coding }} $$\n",
    "\n",
    "<br/>"
   ]
  },
  {
   "cell_type": "markdown",
   "metadata": {},
   "source": [
    "<center>Example application of <b>Tile Coding</b></center>\n",
    "<center>from Sutton and Barto 2018, <b>chapter 9.5</b>.</center>\n",
    "<center>Book available for free <a href=\"http://incompleteideas.net/book/the-book-2nd.html\">here</a></center>\n",
    "\n",
    "<br/>"
   ]
  },
  {
   "cell_type": "markdown",
   "metadata": {},
   "source": [
    "We are going to use Gradient MC algorithm from chapter 9.3 as a learning algorithm. Before continuing you should familiarise yourself properly with [chapter 9.3](0903a_Gradient_MC.ipynb). We will use the \"fixed\" version of Gradient MC, repeated here for reference.\n",
    "\n",
    "One notable difference is that this version takes callback and trace arguments, so we can log results after each episode. This is used to reproduce figures in the book."
   ]
  },
  {
   "cell_type": "code",
   "execution_count": 1,
   "metadata": {},
   "outputs": [],
   "source": [
    "def gradient_MC(env, policy, ep, gamma, model, callback=None, trace=None):\n",
    "    \"\"\"Gradient Monte Carlo Algorithm\n",
    "    \n",
    "    Params:\n",
    "        env    - environment\n",
    "        policy - function in a form: policy(state)->action\n",
    "        ep     - number of episodes to run\n",
    "        gamma  - discount factor [0..1]\n",
    "        model  - function approximator, already initialised, with method:\n",
    "                     train(state, target) -> None\n",
    "        callback - function in a form: callback(episode, model, trace) -> None\n",
    "        trace  - passed to callback, so it can log data into it\n",
    "    \"\"\"\n",
    "    for e_ in range(ep):\n",
    "        traj, T = generate_episode(env, policy)\n",
    "        Gt = 0\n",
    "        for t in range(T-1,-1,-1):\n",
    "            St, _, _, _ = traj[t]      # (st, rew, done, act)\n",
    "            _, Rt_1, _, _ = traj[t+1]\n",
    "            \n",
    "            Gt = gamma * Gt + Rt_1\n",
    "            model.train(St, Gt)\n",
    "               \n",
    "        if callback is not None:\n",
    "            callback(e_, model, trace)"
   ]
  },
  {
   "cell_type": "code",
   "execution_count": 2,
   "metadata": {},
   "outputs": [],
   "source": [
    "def generate_episode(env, policy):\n",
    "    \"\"\"Generete one complete episode.\n",
    "    \n",
    "    Returns:\n",
    "        trajectory: list of tuples [(st, rew, done, act), (...), (...)],\n",
    "                    where St can be e.g tuple of ints or anything really\n",
    "        T: index of terminal state, NOT length of trajectory\n",
    "    \"\"\"\n",
    "    trajectory = []\n",
    "    done = True\n",
    "    while True:\n",
    "        # === time step starts here ===\n",
    "        if done:  St, Rt, done = env.reset(), None, False\n",
    "        else:     St, Rt, done = env.step(At)\n",
    "        At = policy(St)\n",
    "        trajectory.append((St, Rt, done, At))\n",
    "        if done:  break\n",
    "        # === time step ends here ===\n",
    "    return trajectory, len(trajectory)-1"
   ]
  },
  {
   "cell_type": "markdown",
   "metadata": {},
   "source": [
    "---"
   ]
  },
  {
   "cell_type": "markdown",
   "metadata": {},
   "source": [
    "<table>\n",
    "    <tr>\n",
    "        <td style=\"border-color: white;\"><img src=\"assets/fig_0910.png\"/></td>\n",
    "    </tr>\n",
    "    <tr>\n",
    "        <td style=\"border-color: white;\"><center>Figure 9.10 - averaged over 10 runs. Data points were collected every 100 episodes.<center/></td>\n",
    "    </tr>\n",
    "</table>\n",
    "\n",
    "I realise this does not reproduce figure from the book, currently I'm not sure how exactly figure in the book was obtained. I am confident it is not because number of runs I used is 10 instead of 30 like in the book, or because I calculated VE every 100 episodes.\n",
    "\n",
    "The only alternative implementation I found is by Shangtong Zhang ([github](https://github.com/ShangtongZhang/reinforcement-learning-an-introduction)). His graph looks a bit closer, but he decays step size over time, which obviously changes shape of curves. I modified his implementation to use fixed step size instead, and got same result as mine.\n",
    "\n",
    "If anyone was able to reproduce results exactly (w/o adding/changing/removing anythign), please drop me a msg."
   ]
  },
  {
   "cell_type": "markdown",
   "metadata": {},
   "source": [
    "# Environment Setup\n",
    "\n",
    "All environment and plotting code is exactly the same as in [chapter 9.3](0903a_Gradient_MC.ipynb). All the code is available here: [helpers_0905.py](helpers_0905.py)"
   ]
  },
  {
   "cell_type": "code",
   "execution_count": 3,
   "metadata": {},
   "outputs": [],
   "source": [
    "import time\n",
    "import numpy as np\n",
    "import matplotlib.pyplot as plt\n",
    "from helpers_0905 import LinearEnv, plot_linear"
   ]
  },
  {
   "cell_type": "code",
   "execution_count": 4,
   "metadata": {},
   "outputs": [],
   "source": [
    "env = LinearEnv()"
   ]
  },
  {
   "cell_type": "code",
   "execution_count": 5,
   "metadata": {},
   "outputs": [],
   "source": [
    "def policy(st):\n",
    "    return np.random.choice([0, 1])"
   ]
  },
  {
   "cell_type": "markdown",
   "metadata": {},
   "source": [
    "# Tile Coding - Introduction"
   ]
  },
  {
   "cell_type": "markdown",
   "metadata": {},
   "source": [
    "We will be using tile coding implementation by Richard Sutton himself.\n",
    "\n",
    "* documentation: http://incompleteideas.net/tiles/tiles3.html\n",
    "* and source file: [tiles3.py](tiles3.py)"
   ]
  },
  {
   "cell_type": "code",
   "execution_count": 6,
   "metadata": {},
   "outputs": [],
   "source": [
    "import tiles3"
   ]
  },
  {
   "cell_type": "markdown",
   "metadata": {},
   "source": [
    "Basic usage of this library is as follows:\n",
    "* create Index Hash Table (IHT) - we work with small state space, so don't worry about collisions\n",
    "* call tiles3.tiles(...) or tiles3.tileswrap(..) with IHT as first parameter - to obtain list of INDICES of activated tiles\n",
    "* use indices to fetch data from e.g. weights array\n",
    "\n",
    "All this is very similar to how AggregateFunctApprox worked in [chapter 9.3](0903a_Gradient_MC.ipynb)\n",
    "\n",
    "Let's see behaviour using **one** set of tiles. Tiles divide state space into [ 0.00-0.99, &nbsp; 1.0-1.99, &nbsp; 2.0-2.99, &nbsp; ... ]"
   ]
  },
  {
   "cell_type": "code",
   "execution_count": 7,
   "metadata": {
    "scrolled": false
   },
   "outputs": [
    {
     "name": "stdout",
     "output_type": "stream",
     "text": [
      "state -> indices\n",
      "0.00  ->  [0]\n",
      "0.15  ->  [0]\n",
      "0.30  ->  [0]\n",
      "0.45  ->  [0]\n",
      "0.60  ->  [0]\n",
      "0.75  ->  [0]\n",
      "0.90  ->  [0]\n",
      "1.05  ->  [1]\n",
      "1.20  ->  [1]\n",
      "1.35  ->  [1]\n",
      "1.50  ->  [1]\n",
      "1.65  ->  [1]\n",
      "1.80  ->  [1]\n",
      "1.95  ->  [1]\n",
      "2.10  ->  [2]\n",
      "2.25  ->  [2]\n",
      "2.40  ->  [2]\n"
     ]
    }
   ],
   "source": [
    "iht = tiles3.IHT(2048)\n",
    "\n",
    "result = []\n",
    "print('state -> indices')\n",
    "for state in np.arange(0, 2.5, 0.15):\n",
    "    indices = tiles3.tiles(iht, numtilings=1, floats=[state])\n",
    "    result.append(indices)\n",
    "    print('{0:.2f}'.format(state), ' -> ', indices)"
   ]
  },
  {
   "cell_type": "markdown",
   "metadata": {},
   "source": [
    "Let's do the same with **two** set of tillings. First set of tiles divides space same as before, second set of tiles is offest by one-half."
   ]
  },
  {
   "cell_type": "code",
   "execution_count": 8,
   "metadata": {},
   "outputs": [
    {
     "name": "stdout",
     "output_type": "stream",
     "text": [
      "state -> indices\n",
      "0.00  ->  [0, 1]\n",
      "0.15  ->  [0, 1]\n",
      "0.30  ->  [0, 1]\n",
      "0.45  ->  [0, 1]\n",
      "0.60  ->  [0, 2]\n",
      "0.75  ->  [0, 2]\n",
      "0.90  ->  [0, 2]\n",
      "1.05  ->  [3, 2]\n",
      "1.20  ->  [3, 2]\n",
      "1.35  ->  [3, 2]\n",
      "1.50  ->  [3, 4]\n",
      "1.65  ->  [3, 4]\n",
      "1.80  ->  [3, 4]\n",
      "1.95  ->  [3, 4]\n",
      "2.10  ->  [5, 4]\n",
      "2.25  ->  [5, 4]\n",
      "2.40  ->  [5, 4]\n"
     ]
    }
   ],
   "source": [
    "iht = tiles3.IHT(2048)\n",
    "\n",
    "result = []\n",
    "print('state -> indices')\n",
    "for state in np.arange(0, 2.5, 0.15):\n",
    "    indices = tiles3.tiles(iht, numtilings=2, floats=[state])\n",
    "    result.append(indices)\n",
    "    print('{0:.2f}'.format(state), ' -> ', indices)"
   ]
  },
  {
   "cell_type": "markdown",
   "metadata": {},
   "source": [
    "And with **four**. Note I changed range. First set as before, sets 2,3,4 are now shifted by one-quater."
   ]
  },
  {
   "cell_type": "code",
   "execution_count": 9,
   "metadata": {},
   "outputs": [
    {
     "name": "stdout",
     "output_type": "stream",
     "text": [
      "state -> indices\n",
      "0.00  ->  [0, 1, 2, 3]\n",
      "0.07  ->  [0, 1, 2, 3]\n",
      "0.14  ->  [0, 1, 2, 3]\n",
      "0.21  ->  [0, 1, 2, 3]\n",
      "0.28  ->  [0, 1, 2, 4]\n",
      "0.35  ->  [0, 1, 2, 4]\n",
      "0.42  ->  [0, 1, 2, 4]\n",
      "0.49  ->  [0, 1, 2, 4]\n",
      "0.56  ->  [0, 1, 5, 4]\n",
      "0.63  ->  [0, 1, 5, 4]\n",
      "0.70  ->  [0, 1, 5, 4]\n",
      "0.77  ->  [0, 6, 5, 4]\n",
      "0.84  ->  [0, 6, 5, 4]\n",
      "0.91  ->  [0, 6, 5, 4]\n",
      "0.98  ->  [0, 6, 5, 4]\n"
     ]
    }
   ],
   "source": [
    "iht = tiles3.IHT(2048)\n",
    "\n",
    "result = []\n",
    "print('state -> indices')\n",
    "for state in np.arange(0, 1.0, 0.07):\n",
    "    indices = tiles3.tiles(iht, numtilings=4, floats=[state])\n",
    "    result.append(indices)\n",
    "    print('{0:.2f}'.format(state), ' -> ', indices)"
   ]
  },
  {
   "cell_type": "markdown",
   "metadata": {},
   "source": [
    "# Tile Coding"
   ]
  },
  {
   "cell_type": "code",
   "execution_count": 13,
   "metadata": {},
   "outputs": [],
   "source": [
    "class TileCodingFuncApprox():\n",
    "    def __init__(self, learn_rate, tile_size, nb_tilings, nb_states):\n",
    "        \"\"\"\n",
    "        Params:\n",
    "            learn_rate - step size, will be adjusted for nb_tilings automatically\n",
    "            tile_size  - e.g. 200 for tiles to cover [1-200, 201-400, ...]\n",
    "            nb_tilings - how many tiling layers\n",
    "            nb_states  - total number of states, e.g. 1000\n",
    "        \"\"\"\n",
    "        self._lr = learn_rate / nb_tilings\n",
    "        self._tile_size = tile_size\n",
    "        self._nb_tilings = nb_tilings\n",
    "        self._nb_states = nb_states\n",
    "        \n",
    "        # calculate total number of possible tiles so we can allocate memory\n",
    "        # this calculation is valid for 1d space only!\n",
    "        nb_tiles_to_cover_state_space = (nb_states // tile_size) + 1  # +1 because tiles\n",
    "        num_tiles_total = nb_tiles_to_cover_state_space * nb_tilings  #    stick out on sides\n",
    "        self._num_total_tiles = num_tiles_total\n",
    "\n",
    "        self._iht = tiles3.IHT(num_tiles_total)  # index hash table\n",
    "        self._w = np.zeros(num_tiles_total)      # weights\n",
    "        \n",
    "    def reset(self):\n",
    "        self._iht = tiles3.IHT(self._num_total_tiles)  # clear index hash table\n",
    "        self._w = np.zeros(self._num_total_tiles)      # clear weights\n",
    "        \n",
    "    def evaluate(self, state):\n",
    "        st_scaled = (state-1) / self._tile_size        # scale state to map to tiles correctly\n",
    "        tile_indices = tiles3.tiles(self._iht,\n",
    "                                    numtilings=self._nb_tilings,\n",
    "                                    floats=[st_scaled])\n",
    "        \n",
    "        # Implementation #1\n",
    "        return np.sum(self._w[tile_indices])           # pick correct weights and sum up\n",
    "        \n",
    "        # Implementation #2                            # as lin. comb., equivalent to #1\n",
    "#         x = np.zeros(self._num_total_tiles)\n",
    "#         x[tile_indices] = 1\n",
    "#         return x @ self._w\n",
    "        \n",
    "        \n",
    "    def train(self, state, target):\n",
    "        st_scaled = (state-1) / self._tile_size        # scale state to map to tiles correctly\n",
    "        tile_indices = tiles3.tiles(self._iht, \n",
    "                                    numtilings=self._nb_tilings,\n",
    "                                    floats=[st_scaled])\n",
    "        value = np.sum(self._w[tile_indices])\n",
    "        self._w[tile_indices] += self._lr * (target - value)  # update active weights"
   ]
  },
  {
   "cell_type": "markdown",
   "metadata": {},
   "source": [
    "Quick test: **one** set of tiles dividing states into groups of size **200** eacg"
   ]
  },
  {
   "cell_type": "code",
   "execution_count": 14,
   "metadata": {},
   "outputs": [
    {
     "data": {
      "image/png": "[encoded data removed]",
      "text/plain": [
       "<Figure size 432x288 with 1 Axes>"
      ]
     },
     "metadata": {},
     "output_type": "display_data"
    }
   ],
   "source": [
    "model = TileCodingFuncApprox(learn_rate=0.001, tile_size=200, nb_tilings=1, nb_states=1001)\n",
    "gradient_MC(env, policy, ep=1000, gamma=1.0, model=model)\n",
    "V = [model.evaluate(st) for st in range(1001)]\n",
    "plot_linear(V, env=env)"
   ]
  },
  {
   "cell_type": "markdown",
   "metadata": {},
   "source": [
    "Quick test #2: now with **four** sets of tiles, each offset by 1/4 of tile width"
   ]
  },
  {
   "cell_type": "code",
   "execution_count": 17,
   "metadata": {},
   "outputs": [
    {
     "data": {
      "image/png": "[encoded data removed]",
      "text/plain": [
       "<Figure size 432x288 with 1 Axes>"
      ]
     },
     "metadata": {},
     "output_type": "display_data"
    }
   ],
   "source": [
    "model = TileCodingFuncApprox(learn_rate=0.001, tile_size=200, nb_tilings=4, nb_states=1001)\n",
    "gradient_MC(env, policy, ep=1000, gamma=1.0, model=model)\n",
    "V = [model.evaluate(st) for st in range(1001)]\n",
    "plot_linear(V, env=env)"
   ]
  },
  {
   "cell_type": "markdown",
   "metadata": {},
   "source": [
    "# Reproduce Figure 9.10"
   ]
  },
  {
   "cell_type": "markdown",
   "metadata": {},
   "source": [
    "Callback is called by *gradient_MC* every single timestep:\n",
    "* only process every 100th episode (speed)\n",
    "* compute V for all states\n",
    "* compute Root Mean Squared Error (skip terminal state 0, state 1001 is out of boundry)\n",
    "* append to *rmse* list"
   ]
  },
  {
   "cell_type": "code",
   "execution_count": 18,
   "metadata": {},
   "outputs": [],
   "source": [
    "def callback(episode, model, trace):\n",
    "    \"\"\"Called from gradient_MC after every episode.\n",
    "    \n",
    "    Params:\n",
    "        episode [int] - episode number\n",
    "        model [obj]   - function approximator\n",
    "        trace [list]  - list to write results to\"\"\"\n",
    "    if episode % 100 != 0:    return\n",
    "    V = np.array([model.evaluate(st) for st in range(1001)])                   # arr of float\n",
    "    err = np.sqrt(np.mean(np.power((np.array(V[1:]) - env.V_approx[1:]), 2)))  # float\n",
    "    trace.append(err)"
   ]
  },
  {
   "cell_type": "markdown",
   "metadata": {},
   "source": [
    "Define experiment"
   ]
  },
  {
   "cell_type": "code",
   "execution_count": 19,
   "metadata": {},
   "outputs": [],
   "source": [
    "def experiment(runs, env, policy, ep, gamma, model, callback):\n",
    "    results = []  # dims: [nb_runs, nb_episodes]\n",
    "    for r in range(runs):\n",
    "        trace = []  # dim: [nb_episodes]\n",
    "        model.reset()\n",
    "        gradient_MC(env, policy, ep, gamma, model, callback=callback, trace=trace)\n",
    "        results.append(trace)\n",
    "    return np.average(results, axis=0)"
   ]
  },
  {
   "cell_type": "markdown",
   "metadata": {},
   "source": [
    "Compute result for tilings=1. Average over 10 runs. This took ~6min."
   ]
  },
  {
   "cell_type": "code",
   "execution_count": 276,
   "metadata": {},
   "outputs": [
    {
     "name": "stdout",
     "output_type": "stream",
     "text": [
      "Time took: 363.76061820983887\n"
     ]
    }
   ],
   "source": [
    "ts = time.time()\n",
    "model_1 = TileCodingFuncApprox(learn_rate=0.0001, tile_size=200, nb_tilings=1, nb_states=1001)\n",
    "tiles_1 = experiment(10, env, policy, ep=10000, gamma=1.0, model=model_1, callback=callback)\n",
    "print('Time took:', time.time()-ts)"
   ]
  },
  {
   "cell_type": "markdown",
   "metadata": {},
   "source": [
    "And for tilings=50. Not that alpha is automatically divided by nb_tilings, so we are still in line with the book."
   ]
  },
  {
   "cell_type": "code",
   "execution_count": 280,
   "metadata": {},
   "outputs": [
    {
     "name": "stdout",
     "output_type": "stream",
     "text": [
      "Time took: 979.4627282619476\n"
     ]
    }
   ],
   "source": [
    "ts = time.time()\n",
    "model_50 = TileCodingFuncApprox(learn_rate=0.0001, tile_size=200, nb_tilings=50, nb_states=1001)\n",
    "tiles_50 = experiment(10, env, policy, ep=10000, gamma=1.0, model=model_50, callback=callback)\n",
    "print('Time took:', time.time()-ts)"
   ]
  },
  {
   "cell_type": "markdown",
   "metadata": {},
   "source": [
    "Plot results"
   ]
  },
  {
   "cell_type": "code",
   "execution_count": 305,
   "metadata": {},
   "outputs": [
    {
     "data": {
      "image/png": "[encoded data removed]",
      "text/plain": [
       "<Figure size 432x288 with 1 Axes>"
      ]
     },
     "metadata": {},
     "output_type": "display_data"
    }
   ],
   "source": [
    "fig = plt.figure()\n",
    "ax = fig.add_subplot(111)\n",
    "xx = np.array(range(len(tiles_1))) * 100\n",
    "ax.plot(xx, tiles_1, color='red', label='State aggregation (one tiling)')\n",
    "ax.plot(xx, tiles_50, color='green', label='Tile coding (50 tilings)')\n",
    "ax.set_ylabel('$\\sqrt{\\overline{VE}}$ averaged over 10 runs')\n",
    "ax.set_xlabel('Episodes')\n",
    "# plt.savefig('assets/fig_0910.png')\n",
    "ax.legend()\n",
    "plt.show()"
   ]
  },
  {
   "cell_type": "markdown",
   "metadata": {},
   "source": [
    "And plot final values for V"
   ]
  },
  {
   "cell_type": "code",
   "execution_count": 23,
   "metadata": {},
   "outputs": [
    {
     "name": "stdout",
     "output_type": "stream",
     "text": [
      "Time took: 35.851943254470825\n"
     ]
    }
   ],
   "source": [
    "ts = time.time()\n",
    "model_1 = TileCodingFuncApprox(learn_rate=0.0001, tile_size=200, nb_tilings=1, nb_states=1001)\n",
    "tiles_1 = experiment(1, env, policy, ep=10000, gamma=1.0, model=model_1, callback=callback)\n",
    "print('Time took:', time.time()-ts)"
   ]
  },
  {
   "cell_type": "code",
   "execution_count": 24,
   "metadata": {},
   "outputs": [
    {
     "name": "stdout",
     "output_type": "stream",
     "text": [
      "Time took: 95.60778164863586\n"
     ]
    }
   ],
   "source": [
    "ts = time.time()\n",
    "model_50 = TileCodingFuncApprox(learn_rate=0.0001, tile_size=200, nb_tilings=50, nb_states=1001)\n",
    "tiles_50 = experiment(1, env, policy, ep=10000, gamma=1.0, model=model_50, callback=callback)\n",
    "print('Time took:', time.time()-ts)"
   ]
  },
  {
   "cell_type": "code",
   "execution_count": 25,
   "metadata": {
    "scrolled": false
   },
   "outputs": [
    {
     "data": {
      "image/png": "[encoded data removed]",
      "text/plain": [
       "<Figure size 432x288 with 1 Axes>"
      ]
     },
     "metadata": {},
     "output_type": "display_data"
    },
    {
     "data": {
      "image/png": "[encoded data removed]",
      "text/plain": [
       "<Figure size 432x288 with 1 Axes>"
      ]
     },
     "metadata": {},
     "output_type": "display_data"
    }
   ],
   "source": [
    "V_1 = [model_1.evaluate(st) for st in range(1001)]\n",
    "V_50 = [model_50.evaluate(st) for st in range(1001)]\n",
    "\n",
    "plot_linear(V_1, env)\n",
    "plot_linear(V_50, env)"
   ]
  }
 ],
 "metadata": {
  "kernelspec": {
   "display_name": "Python 3",
   "language": "python",
   "name": "python3"
  },
  "language_info": {
   "codemirror_mode": {
    "name": "ipython",
    "version": 3
   },
   "file_extension": ".py",
   "mimetype": "text/x-python",
   "name": "python",
   "nbconvert_exporter": "python",
   "pygments_lexer": "ipython3",
   "version": "3.6.5"
  }
 },
 "nbformat": 4,
 "nbformat_minor": 2
}
