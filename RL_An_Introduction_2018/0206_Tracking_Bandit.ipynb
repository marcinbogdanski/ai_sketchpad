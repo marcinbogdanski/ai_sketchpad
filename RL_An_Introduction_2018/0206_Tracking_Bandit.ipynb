{
 "cells": [
  {
   "cell_type": "markdown",
   "metadata": {},
   "source": [
    "<br/>\n",
    "\n",
    "$$ \\huge{\\underline{\\textbf{ Tracking Bandit Algorithm }}} $$\n",
    "\n",
    "<br/>\n",
    "\n",
    "Implementation of Tracking Bandit from Sutton and Barto 2018, chapter 2.5\n",
    "\n",
    "<br/>\n",
    "\n",
    "Tracking Bandit is tha same as [Simple Bandit](0204_Simple_Bandit.html) but with different $Q$ update rule. See book equation (2.5). We also add ability to initialize $Q$.\n",
    "\n",
    "$$ Q_{n+1} \\doteq Q_n + \\alpha \\big[ R_n - Q_n \\big] $$\n",
    "\n",
    "<br/>"
   ]
  },
  {
   "cell_type": "code",
   "execution_count": 1,
   "metadata": {},
   "outputs": [],
   "source": [
    "def tracking_bandit(env, nb, eps, alpha, Q_init):\n",
    "    Q = np.zeros(env.size) + Q_init\n",
    "    \n",
    "    for _ in range(nb):\n",
    "        A = argmax_rand(Q) if np.random.rand() > eps else np.random.randint(env.size)            \n",
    "        R = env.step(A)    \n",
    "        Q[A] += alpha * (R - Q[A])\n",
    "        \n",
    "    return Q"
   ]
  },
  {
   "cell_type": "markdown",
   "metadata": {},
   "source": [
    "Helper functions:"
   ]
  },
  {
   "cell_type": "code",
   "execution_count": 2,
   "metadata": {},
   "outputs": [],
   "source": [
    "def argmax_rand(arr):\n",
    "    # break ties randomly, np.argmax() always picks first max\n",
    "    return np.random.choice(np.flatnonzero(arr == arr.max()))"
   ]
  },
  {
   "cell_type": "markdown",
   "metadata": {},
   "source": [
    "---"
   ]
  },
  {
   "cell_type": "markdown",
   "metadata": {},
   "source": [
    "<table>\n",
    "    <tr>\n",
    "        <td><img src=\"assets/fig_0203.png\"/></td>\n",
    "    </tr>\n",
    "    <tr>\n",
    "        <td><center>Figure 2.3<center/></td>\n",
    "    </tr>\n",
    "</table>"
   ]
  },
  {
   "cell_type": "markdown",
   "metadata": {},
   "source": [
    "# Experiment Setup"
   ]
  },
  {
   "cell_type": "code",
   "execution_count": 3,
   "metadata": {},
   "outputs": [],
   "source": [
    "import numpy as np\n",
    "import matplotlib.pyplot as plt"
   ]
  },
  {
   "cell_type": "markdown",
   "metadata": {},
   "source": [
    "Environment"
   ]
  },
  {
   "cell_type": "code",
   "execution_count": 4,
   "metadata": {},
   "outputs": [],
   "source": [
    "class BanditEnv:\n",
    "    def __init__(self):\n",
    "        \"\"\"10-armed testbed, see chapter 2.3\"\"\"\n",
    "        self.size = 10                                        # 10 arms\n",
    "        self.means = np.array([0.25, -0.75, 1.5, 0.5, 1.25,   # eyeball fig 2.1\n",
    "                               -1.5, -0.25, -1, 0.75, -0.5])\n",
    "    def step(self, action):\n",
    "        return np.random.normal(loc=self.means[action])"
   ]
  },
  {
   "cell_type": "markdown",
   "metadata": {},
   "source": [
    "Add history logging"
   ]
  },
  {
   "cell_type": "code",
   "execution_count": 5,
   "metadata": {},
   "outputs": [],
   "source": [
    "def tracking_bandit(env, nb, eps, alpha, Q_init):\n",
    "    hist_A = []\n",
    "    hist_R = []\n",
    "    \n",
    "    Q = np.zeros(env.size) + Q_init\n",
    "    \n",
    "    for _ in range(nb):\n",
    "        A = argmax_rand(Q) if np.random.rand() > eps else np.random.randint(env.size)            \n",
    "        R = env.step(A)    \n",
    "        Q[A] += alpha * (R - Q[A])\n",
    "        \n",
    "        hist_A.append(A)\n",
    "        hist_R.append(R)\n",
    "        \n",
    "    return Q, np.array(hist_A), np.array(hist_R)"
   ]
  },
  {
   "cell_type": "markdown",
   "metadata": {},
   "source": [
    "# Recreate Figure 2.3"
   ]
  },
  {
   "cell_type": "code",
   "execution_count": 6,
   "metadata": {},
   "outputs": [
    {
     "name": "stdout",
     "output_type": "stream",
     "text": [
      "v                  v\n",
      "...................."
     ]
    }
   ],
   "source": [
    "env = BanditEnv()\n",
    "\n",
    "runs_opt_gr_A = []      #  optimistic, greedy\n",
    "runs_real_eps01 = []    #  realistic, eps=0.1\n",
    "\n",
    "print('v' + ' '*18 + 'v')  # poor man tqdm\n",
    "for i in range(2000):\n",
    "    _, hist_A, _ = tracking_bandit(env, nb=1000, eps=0, alpha=0.1, Q_init=5)\n",
    "    _, runs_opt_gr_A.append(hist_A)\n",
    "    \n",
    "    _, hist_A, _ = tracking_bandit(env, nb=1000, eps=0.1, alpha=0.1, Q_init=0)\n",
    "    _, runs_real_eps01.append(hist_A)\n",
    "    \n",
    "    if i % 100 == 0: print('.', end='')\n",
    "    \n",
    "runs_opt_gr_A = np.array(runs_opt_gr_A)\n",
    "runs_real_eps01 = np.array(runs_real_eps01)"
   ]
  },
  {
   "cell_type": "code",
   "execution_count": 7,
   "metadata": {},
   "outputs": [],
   "source": [
    "# Calc \"% optimal action\"\n",
    "max_A = np.argmax(env.means)\n",
    "opt_opt_gr_A = np.average(runs_opt_gr_A==max_A, axis=0)\n",
    "opt_real_ep01_A = np.average(runs_real_eps01==max_A, axis=0)"
   ]
  },
  {
   "cell_type": "code",
   "execution_count": 8,
   "metadata": {},
   "outputs": [
    {
     "data": {
      "image/png": "[encoded data removed]",
      "text/plain": [
       "<Figure size 432x288 with 1 Axes>"
      ]
     },
     "metadata": {},
     "output_type": "display_data"
    }
   ],
   "source": [
    "fig = plt.figure()\n",
    "ax = fig.add_subplot(111)\n",
    "ax.plot(opt_opt_gr_A,    linewidth=1., color='lightblue', label='Optimistic, greedy, Q1=5, e=0')\n",
    "ax.plot(opt_real_ep01_A, linewidth=1., color='gray',      label='Realistic, e-greey, Q1=0, e=0.1')\n",
    "ax.set_xlabel('Steps'); ax.set_ylabel('% Optimal Action')\n",
    "ax.legend()\n",
    "plt.tight_layout()\n",
    "plt.savefig('assets/fig_0203.png')\n",
    "plt.show()"
   ]
  }
 ],
 "metadata": {
  "kernelspec": {
   "display_name": "Python 3",
   "language": "python",
   "name": "python3"
  },
  "language_info": {
   "codemirror_mode": {
    "name": "ipython",
    "version": 3
   },
   "file_extension": ".py",
   "mimetype": "text/x-python",
   "name": "python",
   "nbconvert_exporter": "python",
   "pygments_lexer": "ipython3",
   "version": "3.6.5"
  }
 },
 "nbformat": 4,
 "nbformat_minor": 2
}
