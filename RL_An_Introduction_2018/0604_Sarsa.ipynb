{
 "cells": [
  {
   "cell_type": "markdown",
   "metadata": {},
   "source": [
    "<br/>\n",
    "\n",
    "$$ \\huge{\\underline{\\textbf{ SARSA }}} $$\n",
    "\n",
    "<br/>\n",
    "\n",
    "<center>Implementation of <b>SARSA</b></center>\n",
    "<center>from Sutton and Barto 2018, <b>chapter 6.4</b>.</center>\n",
    "<center>Book available for free <a href=\"http://incompleteideas.net/book/the-book-2nd.html\">here</a></center>\n",
    "\n",
    "<br/>\n",
    "\n",
    "<img src=\"assets/0604_Sarsa.png\"/>\n",
    "<center> From Sutton and Barto (2018) _Reinforcement Learning: An Introduction_, chapter 6.4 </center>\n",
    "\n",
    "<br/>"
   ]
  },
  {
   "cell_type": "code",
   "execution_count": 1,
   "metadata": {},
   "outputs": [],
   "source": [
    "def sarsa(env, ep, gamma, alpha, eps):\n",
    "    \"\"\"Sarsa (on-policy TD control)\n",
    "    \n",
    "    Params:\n",
    "        env - environment\n",
    "        ep - number of episodes to run\n",
    "        gamma - discount factor [0..1]\n",
    "        alpha - step size (0..1]\n",
    "        eps - epsilon-greedy param\n",
    "    \"\"\"\n",
    "    def policy(st, Q, eps):\n",
    "        if np.random.rand() > eps:\n",
    "            return argmax_rand([Q[st,a] for a in env.act_space])\n",
    "        else:\n",
    "            return np.random.choice(env.act_space)\n",
    "    \n",
    "    Q = defaultdict(float)  # default zero for all, terminal MUST be zero\n",
    "    \n",
    "    for _ in range(ep):\n",
    "        S = env.reset()\n",
    "        A = policy(S, Q, eps)\n",
    "        while True:\n",
    "            S_, R, done = env.step(A)\n",
    "            A_ = policy(S_, Q, eps)\n",
    "            Q[S,A] = Q[S,A] + alpha * (R + gamma * Q[S_,A_] - Q[S,A])\n",
    "            S, A = S_, A_\n",
    "            if done: break\n",
    "                \n",
    "    return Q"
   ]
  },
  {
   "cell_type": "markdown",
   "metadata": {},
   "source": [
    "Helper functions:"
   ]
  },
  {
   "cell_type": "code",
   "execution_count": 2,
   "metadata": {},
   "outputs": [],
   "source": [
    "def argmax_rand(arr):\n",
    "    # break ties randomly, np.argmax() always picks first max\n",
    "    return np.random.choice(np.flatnonzero(arr == np.max(arr)))"
   ]
  },
  {
   "cell_type": "markdown",
   "metadata": {},
   "source": [
    "---"
   ]
  },
  {
   "cell_type": "markdown",
   "metadata": {},
   "source": [
    "<table>\n",
    "    <tr>\n",
    "        <td style=\"border-color: white;\"><img src=\"assets/fig_0604a.png\"/></td>\n",
    "        <td style=\"border-color: white;\"><img src=\"assets/fig_0604b.png\"/></td>\n",
    "    </tr>\n",
    "    <tr>\n",
    "        <td style=\"border-color: white;\" colspan=\"2\"><center>Example 6.5<center/></td>\n",
    "    </tr>\n",
    "</table>"
   ]
  },
  {
   "cell_type": "markdown",
   "metadata": {},
   "source": [
    "# Solve Windy Gridworld"
   ]
  },
  {
   "cell_type": "code",
   "execution_count": 3,
   "metadata": {},
   "outputs": [],
   "source": [
    "import numpy as np\n",
    "import matplotlib.pyplot as plt\n",
    "from collections import defaultdict\n",
    "from helpers_0604 import plot_windy"
   ]
  },
  {
   "cell_type": "markdown",
   "metadata": {},
   "source": [
    "Auxiliary code here: [helpers_0604.py](helpers_0604.py)\n",
    "\n",
    "Let's define environment - x, y convention is as per figure\n",
    "<img src=\"assets/0604.gridworld.png\"/>"
   ]
  },
  {
   "cell_type": "code",
   "execution_count": 4,
   "metadata": {},
   "outputs": [],
   "source": [
    "class WindyGridworld:\n",
    "    def __init__(self):\n",
    "        self.act_space = [0, 1, 2, 3]  # LEFT = 0, DOWN = 1, RIGHT = 2, UP = 3\n",
    "        self.reset()\n",
    "        \n",
    "    def reset(self):\n",
    "        self._x, self._y = 0, 3        # agent initial position\n",
    "        return (0, 3)\n",
    "        \n",
    "    def step(self, action):\n",
    "        # actions: LEFT = 0, DOWN = 1, RIGHT = 2, UP = 3\n",
    "        self._x, self._y = self.transition(self._x, self._y, action)\n",
    "        \n",
    "        if self._x == 7 and self._y == 3:        # GOAL reached\n",
    "            return (self._x, self._y), -1, True  # observation, reward, done\n",
    "        return (self._x, self._y), -1, False     # obs, rew, done \n",
    "        \n",
    "    def transition(self, x, y, action):\n",
    "        \"\"\"Perform transition from [x,y] given action\"\"\"\n",
    "        \n",
    "        if x in [3,4,5,8]:  y += 1    # windy\n",
    "        if x in [6,7]:      y += 2    # woo, very windy\n",
    "        \n",
    "        if action == 0:    x -= 1     # left\n",
    "        elif action == 1:  y -= 1     # down\n",
    "        elif action == 2:  x += 1     # right\n",
    "        elif action == 3:  y += 1     # up\n",
    "        else: raise ValueError('Action must be in [0,1,2,3]')\n",
    "            \n",
    "        x = np.clip(x, 0, 9)   # x range is [0..9]\n",
    "        y = np.clip(y, 0, 6)   # y range is [0..6]\n",
    "        return x, y\n",
    "    \n",
    "    def get_path(self, Q):\n",
    "        x, y = 0, 3       # agent starting position\n",
    "        path = [(x, y)]   # save starting position\n",
    "        for _ in range(100):  # limit steps in case policy is loopy\n",
    "            A_star = np.argmax([Q[(x,y),a] for a in [0, 1, 2, 3]])   # pick best action\n",
    "            x, y = self.transition(x, y, A_star)         # take one step\n",
    "            path.append((x,y))                            # save to path\n",
    "            if x == 7 and y == 3:  break                 # if goal: break\n",
    "        return path"
   ]
  },
  {
   "cell_type": "markdown",
   "metadata": {},
   "source": [
    "Create environment"
   ]
  },
  {
   "cell_type": "code",
   "execution_count": 5,
   "metadata": {},
   "outputs": [],
   "source": [
    "env = WindyGridworld()"
   ]
  },
  {
   "cell_type": "markdown",
   "metadata": {},
   "source": [
    "Solve. Note that 10k episodes doesn't always find optimal policy."
   ]
  },
  {
   "cell_type": "code",
   "execution_count": 14,
   "metadata": {},
   "outputs": [],
   "source": [
    "Q = sarsa(env, 10000, gamma=1., alpha=.5, eps=.1)"
   ]
  },
  {
   "cell_type": "markdown",
   "metadata": {},
   "source": [
    "Plot"
   ]
  },
  {
   "cell_type": "code",
   "execution_count": 15,
   "metadata": {},
   "outputs": [
    {
     "data": {
      "image/png": "[encoded data removed]",
      "text/plain": [
       "<Figure size 432x288 with 1 Axes>"
      ]
     },
     "metadata": {},
     "output_type": "display_data"
    }
   ],
   "source": [
    "optimal_path = env.get_path(Q)\n",
    "plot_windy(Q, optimal_path)"
   ]
  },
  {
   "cell_type": "markdown",
   "metadata": {},
   "source": [
    "# Recreate Example 6.5 figures \n",
    "\n",
    "### Mini figure\n",
    "\n",
    "This assume previous section computed optimal Q correctly, if not repeat or increase nb episodes."
   ]
  },
  {
   "cell_type": "code",
   "execution_count": 16,
   "metadata": {},
   "outputs": [
    {
     "data": {
      "image/png": "[encoded data removed]",
      "text/plain": [
       "<Figure size 432x288 with 1 Axes>"
      ]
     },
     "metadata": {},
     "output_type": "display_data"
    }
   ],
   "source": [
    "plot_windy(Q=None, path=optimal_path, saveimg=None)  # 'assets/fig_0604a.png'"
   ]
  },
  {
   "cell_type": "markdown",
   "metadata": {},
   "source": [
    "### Episodes Figure\n",
    "\n",
    "First, we need to extend sarsa so we can keep track which episode we are in on each time step. We also want to be able to limit number of timesteps."
   ]
  },
  {
   "cell_type": "code",
   "execution_count": 17,
   "metadata": {},
   "outputs": [],
   "source": [
    "def sarsa_ext(env, ep, gamma, alpha, eps, max_time_steps=None):\n",
    "    def policy(st, Q, eps):\n",
    "        if np.random.rand() > eps:\n",
    "            return argmax_rand([Q[st,a] for a in env.act_space])\n",
    "        else:\n",
    "            return np.random.choice(env.act_space)\n",
    "        \n",
    "    hist_ep = []   # current episode nb saved on each time step\n",
    "    \n",
    "    Q = defaultdict(float)  # default zero for all, terminal MUST be zero\n",
    "    \n",
    "    for current_episode in range(ep):\n",
    "        S = env.reset()\n",
    "        A = policy(S, Q, eps)\n",
    "        while True:\n",
    "            S_, R, done = env.step(A)\n",
    "            A_ = policy(S_, Q, eps)\n",
    "            Q[S,A] = Q[S,A] + alpha * (R + gamma * Q[S_,A_] - Q[S,A])\n",
    "            S, A = S_, A_\n",
    "            \n",
    "            # Change! keep track of episode number history\n",
    "            hist_ep.append(current_episode)\n",
    "            if max_time_steps is not None:\n",
    "                if len(hist_ep) >= max_time_steps:\n",
    "                    return Q, hist_ep\n",
    "            \n",
    "            if done: break\n",
    "                \n",
    "    return Q, hist_ep"
   ]
  },
  {
   "cell_type": "markdown",
   "metadata": {},
   "source": [
    "Repeat experiment"
   ]
  },
  {
   "cell_type": "code",
   "execution_count": 18,
   "metadata": {},
   "outputs": [],
   "source": [
    "Q, hist_ep = sarsa_ext(env, 10000, gamma=1., alpha=.5, eps=.1, max_time_steps=8000)"
   ]
  },
  {
   "cell_type": "markdown",
   "metadata": {},
   "source": [
    "And plot figure"
   ]
  },
  {
   "cell_type": "code",
   "execution_count": 19,
   "metadata": {},
   "outputs": [
    {
     "data": {
      "image/png": "[encoded data removed]",
      "text/plain": [
       "<Figure size 432x288 with 1 Axes>"
      ]
     },
     "metadata": {},
     "output_type": "display_data"
    }
   ],
   "source": [
    "fig = plt.figure()\n",
    "ax = fig.add_subplot(111)\n",
    "ax.plot(hist_ep, color='red')\n",
    "ax.set_xlabel('Time Steps')\n",
    "ax.set_ylabel('Episodes')\n",
    "plt.tight_layout()\n",
    "plt.savefig('assets/fig_0604b.png')\n",
    "plt.show()"
   ]
  }
 ],
 "metadata": {
  "kernelspec": {
   "display_name": "Python 3",
   "language": "python",
   "name": "python3"
  },
  "language_info": {
   "codemirror_mode": {
    "name": "ipython",
    "version": 3
   },
   "file_extension": ".py",
   "mimetype": "text/x-python",
   "name": "python",
   "nbconvert_exporter": "python",
   "pygments_lexer": "ipython3",
   "version": "3.6.5"
  }
 },
 "nbformat": 4,
 "nbformat_minor": 2
}
