{
 "cells": [
  {
   "cell_type": "markdown",
   "metadata": {},
   "source": [
    "<br/>\n",
    "\n",
    "$$ \\huge{\\underline{\\textbf{ SARSA }}} $$\n",
    "\n",
    "<br/>\n",
    "\n",
    "<img src=\"assets/0604_Sarsa.png\"/>\n",
    "<center> From Sutton and Barto (2018) _Reinforcement Learning: An Introduction_, chapter 6.4 </center>\n",
    "\n",
    "<br/>"
   ]
  },
  {
   "cell_type": "code",
   "execution_count": 96,
   "metadata": {},
   "outputs": [],
   "source": [
    "def sarsa(env, ep, gamma, alpha, eps):\n",
    "    \"\"\"Sarsa (on-policy TD control)\n",
    "    \n",
    "    Params:\n",
    "        env - environment\n",
    "        ep - number of episodes to run\n",
    "        gamma - discount factor [0..1]\n",
    "        alpha - step size (0..1]\n",
    "        eps - epsilon-greedy param\n",
    "    \"\"\"\n",
    "    def policy(st, Q, eps):\n",
    "        if np.random.rand() > eps:\n",
    "            return argmax_rand([Q[st,a] for a in env.act_space])\n",
    "        else:\n",
    "            return np.random.choice(env.act_space)\n",
    "    \n",
    "    Q = defaultdict(float)  # default zero for all, terminal MUST be zero\n",
    "    \n",
    "    for _ in range(ep):\n",
    "        S = env.reset()\n",
    "        A = policy(S, Q, eps)\n",
    "        while True:\n",
    "            S_, R, done = env.step(A)\n",
    "            A_ = policy(S_, Q, eps)\n",
    "            Q[S,A] = Q[S,A] + alpha * (R + gamma * Q[S_,A_] - Q[S,A])\n",
    "            S, A = S_, A_\n",
    "            if done: break\n",
    "                \n",
    "    return Q"
   ]
  },
  {
   "cell_type": "code",
   "execution_count": 71,
   "metadata": {},
   "outputs": [],
   "source": [
    "def argmax_rand(arr):\n",
    "    # break ties randomly, np.argmax() always picks first max\n",
    "    return np.random.choice(np.flatnonzero(arr == np.max(arr)))"
   ]
  },
  {
   "cell_type": "code",
   "execution_count": 141,
   "metadata": {},
   "outputs": [],
   "source": [
    "import numpy as np\n",
    "import matplotlib.pyplot as plt\n",
    "import matplotlib.patches as patches\n",
    "from collections import defaultdict"
   ]
  },
  {
   "cell_type": "markdown",
   "metadata": {},
   "source": [
    "<img src=\"assets/0604.gridworld.png\"/>"
   ]
  },
  {
   "cell_type": "code",
   "execution_count": 201,
   "metadata": {},
   "outputs": [],
   "source": [
    "class WindyGridworld:\n",
    "    def __init__(self):\n",
    "        self.act_space = [0, 1, 2, 3]  # LEFT = 0, DOWN = 1, RIGHT = 2, UP = 3\n",
    "        self.reset()\n",
    "        \n",
    "    def reset(self):\n",
    "        self._x, self._y = 0, 3      # agent initial position\n",
    "        return (0, 3)\n",
    "        \n",
    "    def step(self, action):\n",
    "        # actions: LEFT = 0, DOWN = 1, RIGHT = 2, UP = 3\n",
    "        self._x, self._y = self.transition(self._x, self._y, action)\n",
    "        \n",
    "        if self._x == 7 and self._y == 3:        # GOAL reached\n",
    "            return (self._x, self._y), -1, True  # observation, reward, done\n",
    "        return (self._x, self._y), -1, False     # obs, rew, done \n",
    "        \n",
    "    def transition(x, y, action):  # omnit 'self' so we can call form outside\n",
    "        \"\"\"Perform transition from [x,y] given action\"\"\"\n",
    "        if x in [3,4,5,8]:  y += 1  # windy\n",
    "        if x in [6,7]:      y += 2  # woo, very windy\n",
    "        \n",
    "        if action == 0:    x -= 1   # left\n",
    "        elif action == 1:  y -= 1   # down\n",
    "        elif action == 2:  x += 1   # right\n",
    "        elif action == 3:  y += 1   # up\n",
    "        else: raise ValueError('Action must be in [0,1,2,3]')\n",
    "            \n",
    "        x = np.clip(x, 0, 9)   # x range is [0..9]\n",
    "        y = np.clip(y, 0, 6)   # y range is [0..6]\n",
    "        return x, y"
   ]
  },
  {
   "cell_type": "code",
   "execution_count": 92,
   "metadata": {},
   "outputs": [],
   "source": [
    "env = WindyGridworld()"
   ]
  },
  {
   "cell_type": "code",
   "execution_count": 236,
   "metadata": {},
   "outputs": [],
   "source": [
    "Q = sarsa(env, 100000, gamma=1., alpha=.5, eps=.1)"
   ]
  },
  {
   "cell_type": "code",
   "execution_count": 99,
   "metadata": {},
   "outputs": [],
   "source": []
  },
  {
   "cell_type": "code",
   "execution_count": 238,
   "metadata": {},
   "outputs": [],
   "source": [
    "def plot_windy(Q, hide_policy=False, savepath=None):\n",
    "    fig = plt.figure()\n",
    "    ax = fig.add_subplot(111)\n",
    "\n",
    "    ax.set_xlim(-.5, 9.5)\n",
    "    ax.set_ylim(-.5, 6.5)\n",
    "    ax.set_yticks([])\n",
    "    ax.set_xticks(     [0, 1, 2, 3, 4, 5, 6, 7, 8, 9])\n",
    "    ax.set_xticklabels([0, 0, 0, 1, 1, 1, 2, 2, 1, 0])\n",
    "\n",
    "    ax.text(0, 3, 'S', fontsize=18, horizontalalignment='center', verticalalignment='center')\n",
    "    ax.text(7, 3, 'G', fontsize=18, horizontalalignment='center', verticalalignment='center')\n",
    "    \n",
    "    for x in range(10):\n",
    "        for y in range(7):\n",
    "            ax.add_patch(\n",
    "                patches.Rectangle([x-0.5, y-0.5], 1, 1, fill=False))\n",
    "\n",
    "            if not hide_policy:\n",
    "                A_star = np.argmax([Q[(x,y),a] for a in [0, 1, 2, 3]])  # pick best action\n",
    "                if A_star == 3: # up\n",
    "                    ax.arrow(x, y, 0,  .1, head_width=0.2, head_length=0.2, color='gray', alpha=.2)\n",
    "                elif A_star == 1: # down\n",
    "                    ax.arrow(x, y, 0, -.1, head_width=0.2, head_length=0.2, color='gray', alpha=.2)\n",
    "                elif A_star == 0: # left\n",
    "                    ax.arrow(x, y, -.1, 0, head_width=0.2, head_length=0.2, color='gray', alpha=.2)\n",
    "                elif A_star == 2: # right\n",
    "                    ax.arrow(x, y,  .1, 0, head_width=0.2, head_length=0.2, color='gray', alpha=.2)\n",
    "\n",
    "    x, y = 0, 3  # agent starting position\n",
    "    for _ in range(100):  # just in case policy is loopy\n",
    "        A_star = np.argmax([Q[(x,y),a] for a in [0, 1, 2, 3]])  # pick best action\n",
    "        x_, y_ = WindyGridworld.transition(x, y, A_star)    \n",
    "        ax.plot([x, x_], [y, y_], color='blue', alpha=1.)\n",
    "        x, y = x_, y_\n",
    "        if x == 7 and y == 3:  break\n",
    "\n",
    "    plt.tight_layout()\n",
    "    \n",
    "    if savepath is not None:\n",
    "        plt.savefig(savepath)\n",
    "    \n",
    "    plt.show()"
   ]
  },
  {
   "cell_type": "code",
   "execution_count": 240,
   "metadata": {},
   "outputs": [
    {
     "data": {
      "image/png": "[encoded data removed]",
      "text/plain": [
       "<Figure size 432x288 with 1 Axes>"
      ]
     },
     "metadata": {},
     "output_type": "display_data"
    }
   ],
   "source": [
    "plot_windy(Q)"
   ]
  },
  {
   "cell_type": "code",
   "execution_count": 239,
   "metadata": {},
   "outputs": [
    {
     "data": {
      "image/png": "[encoded data removed]",
      "text/plain": [
       "<Figure size 432x288 with 1 Axes>"
      ]
     },
     "metadata": {},
     "output_type": "display_data"
    }
   ],
   "source": [
    "# plot_windy(Q, hide_policy=True, savepath='assets/fig_0604_path.png')"
   ]
  },
  {
   "cell_type": "markdown",
   "metadata": {},
   "source": [
    "Keep track of time steps and episodes"
   ]
  },
  {
   "cell_type": "code",
   "execution_count": 248,
   "metadata": {},
   "outputs": [],
   "source": [
    "def sarsa_ext(env, ep, gamma, alpha, eps):\n",
    "    \"\"\"Sarsa (on-policy TD control)\n",
    "    \n",
    "    Params:\n",
    "        env - environment\n",
    "        ep - number of episodes to run\n",
    "        gamma - discount factor [0..1]\n",
    "        alpha - step size (0..1]\n",
    "        eps - epsilon-greedy param\n",
    "    \"\"\"\n",
    "    def policy(st, Q, eps):\n",
    "        if np.random.rand() > eps:\n",
    "            return argmax_rand([Q[st,a] for a in env.act_space])\n",
    "        else:\n",
    "            return np.random.choice(env.act_space)\n",
    "        \n",
    "    hist_ep = []   # one entry per time step\n",
    "    \n",
    "    Q = defaultdict(float)  # default zero for all, terminal MUST be zero\n",
    "    \n",
    "    for current_episode in range(ep):\n",
    "        S = env.reset()\n",
    "        A = policy(S, Q, eps)\n",
    "        while True:\n",
    "            S_, R, done = env.step(A)\n",
    "            A_ = policy(S_, Q, eps)\n",
    "            Q[S,A] = Q[S,A] + alpha * (R + gamma * Q[S_,A_] - Q[S,A])\n",
    "            S, A = S_, A_\n",
    "            \n",
    "            hist_ep.append(current_episode)\n",
    "            if len(hist_ep) >= 8000:\n",
    "                return Q, hist_ep\n",
    "            \n",
    "            if done: break\n",
    "                \n",
    "    return Q, hist_ep"
   ]
  },
  {
   "cell_type": "code",
   "execution_count": 249,
   "metadata": {},
   "outputs": [],
   "source": [
    "Q, hist_ep = sarsa_ext(env, 8000, gamma=1., alpha=.5, eps=.1)"
   ]
  },
  {
   "cell_type": "code",
   "execution_count": 253,
   "metadata": {},
   "outputs": [
    {
     "data": {
      "image/png": "[encoded data removed]",
      "text/plain": [
       "<Figure size 432x288 with 1 Axes>"
      ]
     },
     "metadata": {},
     "output_type": "display_data"
    }
   ],
   "source": [
    "fig = plt.figure()\n",
    "ax = fig.add_subplot(111)\n",
    "ax.plot(hist_ep, color='red')\n",
    "ax.set_xlabel('Time Steps')\n",
    "ax.set_ylabel('Episodes')\n",
    "\n",
    "plt.savefig('assets/fig_0604_ep.png')\n",
    "plt.show()"
   ]
  },
  {
   "cell_type": "code",
   "execution_count": null,
   "metadata": {},
   "outputs": [],
   "source": []
  }
 ],
 "metadata": {
  "kernelspec": {
   "display_name": "Python 3",
   "language": "python",
   "name": "python3"
  },
  "language_info": {
   "codemirror_mode": {
    "name": "ipython",
    "version": 3
   },
   "file_extension": ".py",
   "mimetype": "text/x-python",
   "name": "python",
   "nbconvert_exporter": "python",
   "pygments_lexer": "ipython3",
   "version": "3.6.5"
  }
 },
 "nbformat": 4,
 "nbformat_minor": 2
}
