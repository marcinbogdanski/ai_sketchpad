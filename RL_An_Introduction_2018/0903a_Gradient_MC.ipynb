{
 "cells": [
  {
   "cell_type": "markdown",
   "metadata": {},
   "source": [
    "<br/>\n",
    "\n",
    "$$ \\huge{\\underline{\\textbf{ Gradient Monte Carlo }}} $$\n",
    "\n",
    "<br/>\n",
    "\n",
    "<img src=\"assets/0903a_Gradient_MC.png\"/>\n",
    "<center> From Sutton and Barto (2018) _Reinforcement Learning: An Introduction_, chapter 9.3 </center>\n",
    "\n",
    "<br/>"
   ]
  },
  {
   "cell_type": "markdown",
   "metadata": {},
   "source": [
    "Implementation below matches the box exactly, but is for educational purposes only. See notes.\n",
    "\n",
    "Notes:\n",
    "* function approximator should be implemented as independent object - passing vector **w** around is impractical in actual program\n",
    "* I'm not sure why time step loop iterates foward (t=0,1..,T-1) instead of backwards (t=T-1,T-2,..,0), like we did in previous chapters (backward implementation is more efficient and avoids ackward Gt computation every time step)\n",
    "* algorithm in the box is for undiscounted case and thus omnits $\\gamma$ parameter\n",
    "* For alternative implementation, which fixes above issues, see further below."
   ]
  },
  {
   "cell_type": "code",
   "execution_count": 111,
   "metadata": {},
   "outputs": [],
   "source": [
    "def gradient_MC(env, policy, ep, alpha, init_w, v_hat, grad_v_hat):\n",
    "    \"\"\"Gradient Monte Carlo Algorithm\n",
    "    \n",
    "    Params:\n",
    "        env        - environment\n",
    "        policy     - function in a form: policy(state)->action\n",
    "        ep         - number of episodes to run\n",
    "        alpha      - step size (0..1]\n",
    "        init_w     - function if form init_w() -> weights\n",
    "        v_hat      - function in form v_hat(state, weights) -> float\n",
    "        grad_v_hat - function in form grad_v_hat(state, weights) -> delta_weights\n",
    "    \"\"\"\n",
    "    w = init_w()\n",
    "        \n",
    "    for _ in range(ep):\n",
    "        traj, T = generate_episode(env, policy)\n",
    "        for t in range(T):\n",
    "            St, _, _, _ = traj[t]                            # (st, rew, done, act)\n",
    "            Gt = sum([traj[i][1] for i in range(t+1, T+1)])  # <- this is inefficient\n",
    "            w = w + alpha * (Gt - v_hat(St, w)) * grad_v_hat(St, w)\n",
    "            \n",
    "    return w"
   ]
  },
  {
   "cell_type": "markdown",
   "metadata": {},
   "source": [
    "Helper functions:"
   ]
  },
  {
   "cell_type": "code",
   "execution_count": 57,
   "metadata": {},
   "outputs": [],
   "source": [
    "def init_w():\n",
    "    return np.zeros(10)      # weights for 10 groups\n",
    "        \n",
    "def v_hat(St, w):\n",
    "    group = (St-1) // 100    # [1-100, 101-200, ..., 901-1000] -> [0, 1, ..., 9]\n",
    "    return w[group]\n",
    "    \n",
    "def grad_v_hat(St, w):\n",
    "    grad = np.zeros_like(w)\n",
    "    grad[(St-1)//100] = 1    # if confused see https://www.youtube.com/watch?v=UoPei5o4fps at 28:43\n",
    "    return grad"
   ]
  },
  {
   "cell_type": "code",
   "execution_count": 53,
   "metadata": {},
   "outputs": [],
   "source": [
    "def generate_episode(env, policy):\n",
    "    \"\"\"Generete one complete episode.\n",
    "    \n",
    "    Returns:\n",
    "        trajectory: list of tuples [(st, rew, done, act), (...), (...)],\n",
    "                    where St can be e.g tuple of ints or anything really\n",
    "        T: index of terminal state, NOT length of trajectory\n",
    "    \"\"\"\n",
    "    trajectory = []\n",
    "    done = True\n",
    "    while True:\n",
    "        # === time step starts here ===\n",
    "        if done:  St, Rt, done = env.reset(), None, False\n",
    "        else:     St, Rt, done = env.step(At)\n",
    "        At = policy(St)\n",
    "        trajectory.append((St, Rt, done, At))\n",
    "        if done:  break\n",
    "        # === time step ends here ===\n",
    "    return trajectory, len(trajectory)-1"
   ]
  },
  {
   "cell_type": "markdown",
   "metadata": {},
   "source": [
    "--- "
   ]
  },
  {
   "cell_type": "markdown",
   "metadata": {},
   "source": [
    "<table>\n",
    "    <tr>\n",
    "        <td style=\"border-color: white;\"><img src=\"assets/fig_0901.png\"/></td>\n",
    "    </tr>\n",
    "    <tr>\n",
    "        <td style=\"border-color: white;\"><center>Figure 9.1 - \"True\" value is approximated with stright line<center/></td>\n",
    "    </tr>\n",
    "</table>"
   ]
  },
  {
   "cell_type": "markdown",
   "metadata": {},
   "source": [
    "# Alternative Implementation"
   ]
  },
  {
   "cell_type": "markdown",
   "metadata": {},
   "source": [
    "This implementation includes following additional features:\n",
    "* function approximator is now a trainable black-box object - can be tabular, linear, neural-net\n",
    "* added discount paramter $\\gamma$\n",
    "* time-step loop now goes backward for efficiency"
   ]
  },
  {
   "cell_type": "code",
   "execution_count": 164,
   "metadata": {},
   "outputs": [],
   "source": [
    "def gradient_MC_fix(env, policy, ep, gamma, model):\n",
    "    \"\"\"Gradient Monte Carlo Algorithm\n",
    "    \n",
    "    Params:\n",
    "        env    - environment\n",
    "        policy - function in a form: policy(state)->action\n",
    "        ep     - number of episodes to run\n",
    "        gamma  - discount factor [0..1]\n",
    "        alpha  - step size (0..1]\n",
    "        model  - function approximator, already initialised, with method:\n",
    "                     train(state, target) -> None\n",
    "    \"\"\"    \n",
    "    for _ in range(ep):\n",
    "        traj, T = generate_episode(env, policy)\n",
    "        Gt = 0\n",
    "        for t in range(T-1,-1,-1):\n",
    "            St, _, _, _ = traj[t]      # (st, rew, done, act)\n",
    "            _, Rt_1, _, _ = traj[t+1]\n",
    "            \n",
    "            Gt = gamma * Gt + Rt_1\n",
    "            model.train(St, Gt)"
   ]
  },
  {
   "cell_type": "code",
   "execution_count": 127,
   "metadata": {},
   "outputs": [],
   "source": [
    "class FunctionApproximator():\n",
    "    \"\"\"Very simple function approximator\"\"\"\n",
    "    def __init__(self, learn_rate, nb_groups, group_size):\n",
    "        self._lr = learn_rate\n",
    "        self._group_size = group_size\n",
    "        self._w = np.zeros(nb_groups)  # weights\n",
    "        \n",
    "    def evaluate(self, state):\n",
    "        group = (state-1) // self._group_size\n",
    "        return self._w[group]\n",
    "    \n",
    "    def train(self, state, target):        \n",
    "        # Because grad_v_hat is a one-hot vector, we can optimize:\n",
    "        group = (state-1) // self._group_size\n",
    "        self._w[group] += self._lr * (target - self._w[group])  # standard MC update!\n",
    "        \n",
    "        # Original impl., for reference:\n",
    "        # w = w + alpha * (Gt - v_hat(St, w)) * grad_v_hat(St, w)"
   ]
  },
  {
   "cell_type": "markdown",
   "metadata": {},
   "source": [
    "# Evaluate Example 9.1"
   ]
  },
  {
   "cell_type": "code",
   "execution_count": 197,
   "metadata": {},
   "outputs": [],
   "source": [
    "import numpy as np\n",
    "import matplotlib.pyplot as plt\n",
    "from collections import defaultdict"
   ]
  },
  {
   "cell_type": "markdown",
   "metadata": {},
   "source": [
    "Define environment\n",
    "* V_approx values were picked by trial-and-error, they ignore both nonlinearity and terminal states (which should equal zero)"
   ]
  },
  {
   "cell_type": "code",
   "execution_count": 175,
   "metadata": {},
   "outputs": [],
   "source": [
    "class LinearEnv:\n",
    "    V_approx = np.arange(-1000, 1000, 2) / 1000.0 * 0.94  # ignore nonlinearity, ignore terminal states\n",
    "    \n",
    "    def __init__(self):\n",
    "        self.reset()\n",
    "        \n",
    "    def reset(self):\n",
    "        self._state = 500\n",
    "        self._done = False\n",
    "        return self._state\n",
    "        \n",
    "    def step(self, action):\n",
    "        if self._done: raise ValueError('Episode has terminated')\n",
    "    \n",
    "        if action == 0:   self._state -= np.random.randint(1, 101)  # step left\n",
    "        elif action == 1: self._state += np.random.randint(1, 101)  # step right\n",
    "        else: raise ValueError('Invalid action')\n",
    "            \n",
    "        self._state = np.clip(self._state, 0, 1001)  # clip to 0..1001\n",
    "        if self._state in [0, 1001]:                 # both 0 and 1001 are terminal\n",
    "            self._done = True\n",
    "        \n",
    "        if self._state == 0:\n",
    "            return self._state, -1, self._done       # state, rew, done\n",
    "        elif self._state == 1001:\n",
    "            return self._state, 1, self._done\n",
    "        else:\n",
    "            return self._state, 0, self._done"
   ]
  },
  {
   "cell_type": "markdown",
   "metadata": {},
   "source": [
    "Plotting"
   ]
  },
  {
   "cell_type": "code",
   "execution_count": 315,
   "metadata": {},
   "outputs": [],
   "source": [
    "def plot_linear(V, env, freq=None, saveimg=None):\n",
    "    fig = plt.figure()\n",
    "    ax = fig.add_subplot(111)\n",
    "    ax.plot(env.V_approx, color='red', linewidth=0.8, label='\"True\" value')\n",
    "    ax.plot(V, color='blue', linewidth=0.8, label='Approx. MC value')\n",
    "    ax.set_xlabel('State')\n",
    "    ax.set_ylabel('Value Scale')\n",
    "    ax.legend()\n",
    "    \n",
    "    if freq is not None:\n",
    "        mu = np.zeros(len(V))       # convert to array, V has same len as freq\n",
    "        for st in range(len(V)):\n",
    "            mu[st] = freq[st]\n",
    "        ax2 = ax.twinx()\n",
    "        ax2.bar(range(len(mu)), mu, color='gray', width=5, label='State Distr.')\n",
    "        ax2.set_ylabel('Distribution Scale')\n",
    "        ax2.legend(loc='right', bbox_to_anchor=(1.0, 0.2))\n",
    "    \n",
    "    plt.tight_layout()\n",
    "    if saveimg is not None:\n",
    "        plt.savefig(saveimg)\n",
    "    plt.show()    "
   ]
  },
  {
   "cell_type": "markdown",
   "metadata": {},
   "source": [
    "Create environment"
   ]
  },
  {
   "cell_type": "code",
   "execution_count": 290,
   "metadata": {},
   "outputs": [],
   "source": [
    "env = LinearEnv()"
   ]
  },
  {
   "cell_type": "markdown",
   "metadata": {},
   "source": [
    "Random policy"
   ]
  },
  {
   "cell_type": "code",
   "execution_count": 48,
   "metadata": {},
   "outputs": [],
   "source": [
    "def policy(st):\n",
    "    return np.random.choice([0, 1])"
   ]
  },
  {
   "cell_type": "markdown",
   "metadata": {},
   "source": [
    "Solve with original algorithm"
   ]
  },
  {
   "cell_type": "code",
   "execution_count": 313,
   "metadata": {
    "scrolled": true
   },
   "outputs": [
    {
     "data": {
      "image/png": "[encoded data removed]",
      "text/plain": [
       "<Figure size 432x288 with 1 Axes>"
      ]
     },
     "metadata": {},
     "output_type": "display_data"
    }
   ],
   "source": [
    "weights = gradient_MC(env, policy, ep=10000, alpha=0.0001, init_w=init_w, v_hat=v_hat, grad_v_hat=grad_v_hat)\n",
    "V = [v_hat(st, weights) for st in range(1,1001)]   # 1..1001 because we won't plot terminal states\n",
    "plot_linear(V, env)"
   ]
  },
  {
   "cell_type": "markdown",
   "metadata": {},
   "source": [
    "Solve with proper function approximator"
   ]
  },
  {
   "cell_type": "code",
   "execution_count": 314,
   "metadata": {},
   "outputs": [
    {
     "data": {
      "image/png": "[encoded data removed]",
      "text/plain": [
       "<Figure size 432x288 with 1 Axes>"
      ]
     },
     "metadata": {},
     "output_type": "display_data"
    }
   ],
   "source": [
    "model = FunctionApproximator(learn_rate=0.0001, nb_groups=10, group_size=100)\n",
    "gradient_MC_fix(env, policy, ep=10000, gamma=1.0, model=model)\n",
    "V = [model.evaluate(st) for st in range(1,1001)]\n",
    "plot_linear(V, env)"
   ]
  },
  {
   "cell_type": "markdown",
   "metadata": {},
   "source": [
    "# Recreate Figure 9.1"
   ]
  },
  {
   "cell_type": "markdown",
   "metadata": {},
   "source": [
    "We need to track frequency of visit to each state, let's modify our algorithm slightly. Changes are marked with arrows."
   ]
  },
  {
   "cell_type": "code",
   "execution_count": 199,
   "metadata": {},
   "outputs": [],
   "source": [
    "def gradient_MC_track_freq(env, policy, ep, gamma, model):\n",
    "    count = defaultdict(float)  # <- how many times state visited\n",
    "    total = 0                   # <- total state visits to all states\n",
    "    \n",
    "    for _ in range(ep):\n",
    "        traj, T = generate_episode(env, policy)\n",
    "        Gt = 0\n",
    "        for t in range(T-1,-1,-1):\n",
    "            St, _, _, _ = traj[t]      # (st, rew, done, act)\n",
    "            _, Rt_1, _, _ = traj[t+1]\n",
    "            \n",
    "            count[St] += 1\n",
    "            total += 1\n",
    "            \n",
    "            Gt = gamma * Gt + Rt_1\n",
    "            model.train(St, Gt)\n",
    "            \n",
    "    for key, val in count.items():  # <- calc. frequency\n",
    "        count[key] = val / total\n",
    "        \n",
    "    return count                    # <- return freq."
   ]
  },
  {
   "cell_type": "markdown",
   "metadata": {},
   "source": [
    "Solve.\n",
    "* In the book alg. is run for **100k** episodes, alpha=**2e-5**. Here we run for **10k** episodes alpha=**1e-4** to save time."
   ]
  },
  {
   "cell_type": "code",
   "execution_count": 215,
   "metadata": {},
   "outputs": [],
   "source": [
    "model = FunctionApproximator(learn_rate=0.0001, nb_groups=10, group_size=100)\n",
    "freq = gradient_MC_fix_track_freq(env, policy, ep=10000, gamma=1.0, model=model)"
   ]
  },
  {
   "cell_type": "markdown",
   "metadata": {},
   "source": [
    "Plot"
   ]
  },
  {
   "cell_type": "code",
   "execution_count": 317,
   "metadata": {},
   "outputs": [
    {
     "data": {
      "image/png": "[encoded data removed]",
      "text/plain": [
       "<Figure size 432x288 with 2 Axes>"
      ]
     },
     "metadata": {},
     "output_type": "display_data"
    }
   ],
   "source": [
    "plot_linear(V, env, freq=freq, saveimg='assets/fig_0901.png')  # 'assets/fig_0901.png'"
   ]
  },
  {
   "cell_type": "code",
   "execution_count": null,
   "metadata": {},
   "outputs": [],
   "source": []
  }
 ],
 "metadata": {
  "kernelspec": {
   "display_name": "Python 3",
   "language": "python",
   "name": "python3"
  },
  "language_info": {
   "codemirror_mode": {
    "name": "ipython",
    "version": 3
   },
   "file_extension": ".py",
   "mimetype": "text/x-python",
   "name": "python",
   "nbconvert_exporter": "python",
   "pygments_lexer": "ipython3",
   "version": "3.6.5"
  }
 },
 "nbformat": 4,
 "nbformat_minor": 2
}
