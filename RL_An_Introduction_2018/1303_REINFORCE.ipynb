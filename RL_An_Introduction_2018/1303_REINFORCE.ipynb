{
 "cells": [
  {
   "cell_type": "markdown",
   "metadata": {},
   "source": [
    "<br/>\n",
    "\n",
    "$$ \\huge{\\underline{\\textbf{ REINFORCE }}} $$\n",
    "\n",
    "<br/>\n",
    "\n",
    "<center>Implementation of <b>REINFORCE</b> algorithm</center>\n",
    "<center>from Sutton and Barto 2018, <b>chapter 13.3</b>.</center>\n",
    "<center>Book available for free <a href=\"http://incompleteideas.net/book/the-book-2nd.html\">here</a></center>\n",
    "\n",
    "<br/>\n",
    "\n",
    "<img src=\"assets/1303_REINFORCE.png\"/>\n",
    "<center> From Sutton and Barto (2018) _Reinforcement Learning: An Introduction_, chapter 13.3 </center>\n",
    "\n",
    "<br/>"
   ]
  },
  {
   "cell_type": "markdown",
   "metadata": {},
   "source": [
    "Implementation of REINFORCE algorithm."
   ]
  },
  {
   "cell_type": "code",
   "execution_count": 1,
   "metadata": {},
   "outputs": [],
   "source": [
    "def REINFORCE(env, ep, gamma, alpha, init_theta=None):\n",
    "    \"\"\"REINFORCE algorithm.\n",
    "    \n",
    "    Params:\n",
    "        env: OpenAI-like environment\n",
    "        ep (int): number of episodes to run\n",
    "        gamma (float): discount factor\n",
    "        alpha (float): learning rate\n",
    "        init_theta (np.array): initialize weights, default np.zeros()\n",
    "    \"\"\"\n",
    "    def policy(st, pi):\n",
    "        return np.random.choice(range(env.nb_actions), p=pi.pi(st))\n",
    "\n",
    "    hist_prob = []\n",
    "    hist_R = []\n",
    "    pi = TabularSoftmaxPolicyOptimized(lr=alpha, nb_states=env.nb_states,\n",
    "                              nb_actions=env.nb_actions, init_theta=init_theta)\n",
    "\n",
    "    for e_ in range(ep):\n",
    "        # traj = [(st, rew, done, act), (st, rew, done, act), ...]\n",
    "        traj, T = generate_episode(env, policy, pi)\n",
    "        \n",
    "        R_sum = traj[T][1]\n",
    "        for t in range(0, T):\n",
    "            St, Rt, _, At = traj[t]      # (st, rew, done, act)\n",
    "            Gt = sum([gamma**(k-t-1) * traj[k][1] for k in range(t+1, T+1)])\n",
    "            pi.update(St, At, gamma**t * Gt)\n",
    "            R_sum += 0 if Rt is None else Rt\n",
    "        hist_prob.append(pi.pi(St))\n",
    "        hist_R.append(R_sum)\n",
    "        \n",
    "    hist_prob = np.array(hist_prob)\n",
    "    hist_R = np.array(hist_R)\n",
    "    \n",
    "    return hist_R, hist_prob"
   ]
  },
  {
   "cell_type": "markdown",
   "metadata": {},
   "source": [
    "Helper functions:"
   ]
  },
  {
   "cell_type": "code",
   "execution_count": 2,
   "metadata": {},
   "outputs": [],
   "source": [
    "def generate_episode(env, policy, *params):\n",
    "    \"\"\"Generete one complete episode.\n",
    "    \n",
    "    Returns:\n",
    "        trajectory: list of tuples [(st, rew, done, act), (...), (...)],\n",
    "                    where St can be e.g tuple of ints or anything really\n",
    "        T: index of terminal state, NOT length of trajectory\n",
    "    \"\"\"\n",
    "    trajectory = []\n",
    "    done = True\n",
    "    while True:\n",
    "        # === time step starts here ===\n",
    "        if done:  St, Rt, done    = env.reset(), None, False\n",
    "        else:     St, Rt, done, _ = env.step(At)\n",
    "        At = policy(St, *params)        \n",
    "        trajectory.append((St, Rt, done, At))\n",
    "        if done:  break\n",
    "        # === time step ends here ===\n",
    "    return trajectory, len(trajectory)-1"
   ]
  },
  {
   "cell_type": "markdown",
   "metadata": {},
   "source": [
    "<table>\n",
    "    <tr>\n",
    "        <td style=\"border-color: white;\"><img src=\"assets/fig_1301.png\"/></td>\n",
    "    </tr>\n",
    "    <tr>\n",
    "        <td style=\"border-color: white;\"><center>Figure 13.1<center/></td>\n",
    "    </tr>\n",
    "</table>"
   ]
  },
  {
   "cell_type": "markdown",
   "metadata": {},
   "source": [
    "---"
   ]
  },
  {
   "cell_type": "markdown",
   "metadata": {},
   "source": [
    "# Setup"
   ]
  },
  {
   "cell_type": "code",
   "execution_count": 3,
   "metadata": {},
   "outputs": [],
   "source": [
    "import numpy as np\n",
    "import matplotlib.pyplot as plt"
   ]
  },
  {
   "cell_type": "code",
   "execution_count": 4,
   "metadata": {},
   "outputs": [],
   "source": [
    "class CorridorSwitchedEnv:\n",
    "    \"\"\"Short corridor with switched actions. See example 13.1 in the book.\n",
    "    \n",
    "    Note: Small change introduced to terminate after time step 1000\n",
    "          to prevent infinite loop if policy becomes deterministic.\n",
    "    \"\"\"\n",
    "    def __init__(self):\n",
    "        self.nb_states = 1\n",
    "        self.nb_actions = 2\n",
    "        self._state = 0\n",
    "        self._curr_iter = 0\n",
    "        \n",
    "    def reset(self):\n",
    "        self._state = 0\n",
    "        self._curr_iter = 0\n",
    "        return 0    # states are indistinguisable\n",
    "    \n",
    "    def step(self, action):\n",
    "        assert action in [0, 1]    # left, right\n",
    "        \n",
    "        if self._state == 0:\n",
    "            if action == 1:\n",
    "                self._state = 1\n",
    "        elif self._state == 1:\n",
    "            if action == 0:        # left, swapped to right\n",
    "                self._state = 2\n",
    "            else:                  # right, swapped to left\n",
    "                self._state = 0\n",
    "        elif self._state == 2:\n",
    "            if action == 0:\n",
    "                self._state = 1\n",
    "            else:\n",
    "                self._state = 3    # terminal\n",
    "        else:\n",
    "            raise ValueError('Invalid state:', self._state)\n",
    "        \n",
    "        # Terminate at time step = 1000\n",
    "        self._curr_iter += 1\n",
    "        if self._curr_iter >= 1000:\n",
    "            self._state = 3\n",
    "        \n",
    "        if self._state == 3:\n",
    "            return 0, -1, True, None    # obs, reward, done, extra\n",
    "        else:\n",
    "            return 0, -1, False, None"
   ]
  },
  {
   "cell_type": "markdown",
   "metadata": {},
   "source": [
    "# Policy Function"
   ]
  },
  {
   "cell_type": "code",
   "execution_count": 5,
   "metadata": {},
   "outputs": [],
   "source": [
    "def softmax(x):\n",
    "    \"\"\"Numerically stable softmax\"\"\"\n",
    "    ex = np.exp(x - np.max(x))\n",
    "    return ex / np.sum(ex)"
   ]
  },
  {
   "cell_type": "markdown",
   "metadata": {},
   "source": [
    "Implementation that matches book equations fairly closely"
   ]
  },
  {
   "cell_type": "code",
   "execution_count": 6,
   "metadata": {},
   "outputs": [],
   "source": [
    "class TabularSoftmaxPolicyBook:\n",
    "    \"\"\"Tabular action-state function 'approximator'\"\"\"\n",
    "    def __init__(self, lr, nb_states, nb_actions, init_theta=None):\n",
    "        self._lr = lr                                   # learning rate\n",
    "        self.n_st = nb_states\n",
    "        self.n_act = nb_actions\n",
    "        self._theta = np.zeros(nb_states * nb_actions)  # weights\n",
    "        if init_theta is not None:\n",
    "            assert init_theta.dtype == np.float64\n",
    "            assert init_theta.shape == self._theta.shape\n",
    "            self._theta = init_theta\n",
    "    \n",
    "    def x(self, state, action):\n",
    "        \"\"\"Construct feature vector, in our case just one-hot encode\"\"\"\n",
    "        xx = np.zeros(self.n_st * self.n_act)  # construct x(s,a)\n",
    "        xx[state*self.n_act + action] = 1            # one-hot encode\n",
    "        return xx\n",
    "        \n",
    "    def h(self, state, action):\n",
    "        \"\"\"Calculate preference h(s,a,theta), see e.q. 13.3\"\"\"\n",
    "        return self._theta @ self.x(state, action)      # scalar\n",
    "    \n",
    "    def pi(self, state):\n",
    "        \"\"\"Return policy, i.e. probability distribution over actions.\"\"\"\n",
    "        \n",
    "        # construct vector x(s,a) for each action\n",
    "        # perform full linear combination (e.q. 13.3)\n",
    "        h_vec = [self.h(state, b) for b in range(self.n_act)]\n",
    "        prob_vec = softmax(h_vec)                                # eq. 13.2\n",
    "        return prob_vec                                          # shape=[n_act]\n",
    "\n",
    "    def update(self, state, action, disc_return):\n",
    "        # Option 1: as described in the book\n",
    "        prob_vec = self.pi(state)                   # shape=[n_act]\n",
    "        sum_b = [prob_vec[b]*self.x(state,b)        # shape=[n_s*n_a]\n",
    "                 for b in range(self.n_act)]\n",
    "        sum_b = np.sum(sum_b, axis=0)\n",
    "        grad_ln_pi = self.x(state, action) - sum_b  # shape=[n_s*n_a], eq. 13.9\n",
    "        \n",
    "        self._theta += self._lr * disc_return * grad_ln_pi           # eq. 13.8"
   ]
  },
  {
   "cell_type": "markdown",
   "metadata": {},
   "source": [
    "Equivalent implementation, simplified and optimized"
   ]
  },
  {
   "cell_type": "code",
   "execution_count": 7,
   "metadata": {},
   "outputs": [],
   "source": [
    "class TabularSoftmaxPolicyOptimized:\n",
    "    \"\"\"Tabular action-state function 'approximator'\"\"\"\n",
    "    def __init__(self, lr, nb_states, nb_actions, init_theta=None):\n",
    "        self._lr = lr                                   # learning rate\n",
    "        self.n_st = nb_states\n",
    "        self.n_act = nb_actions\n",
    "        self._theta = np.zeros(nb_states * nb_actions)  # weights\n",
    "        if init_theta is not None:\n",
    "            assert init_theta.dtype == np.float64\n",
    "            assert init_theta.shape == self._theta.shape\n",
    "            self._theta = init_theta\n",
    "    \n",
    "    def pi(self, state):\n",
    "        \"\"\"Return policy, i.e. probability distribution over actions.\"\"\"\n",
    "        # Change 1:\n",
    "        h_vec = self._theta[state*self.n_act:state*self.n_act+self.n_act]\n",
    "        prob_vec = softmax(h_vec)                     # shape=[n_act], e.q. 13.2\n",
    "        return prob_vec\n",
    "\n",
    "\n",
    "    def update(self, state, action, disc_return):\n",
    "        x_s = np.zeros(self.n_act)\n",
    "        x_s[action] = 1             # feature vector, one-hot\n",
    "        prob = self.pi(state)\n",
    "        grad_s = x_s - prob\n",
    "        self._theta[state*self.n_act:state*self.n_act+self.n_act] += \\\n",
    "            self._lr * disc_return * grad_s"
   ]
  },
  {
   "cell_type": "markdown",
   "metadata": {},
   "source": [
    "# Recreate figure 13.1"
   ]
  },
  {
   "cell_type": "markdown",
   "metadata": {},
   "source": [
    "We will use multiprocessing to speed things up (by a lot!)"
   ]
  },
  {
   "cell_type": "code",
   "execution_count": 8,
   "metadata": {},
   "outputs": [],
   "source": [
    "import multiprocessing as mp"
   ]
  },
  {
   "cell_type": "code",
   "execution_count": 9,
   "metadata": {},
   "outputs": [],
   "source": [
    "def run_single_experiment(alpha):\n",
    "    np.random.seed()  # required due to multiprocessing\n",
    "    env = CorridorSwitchedEnv()\n",
    "    hist_R, _ = REINFORCE(env, ep=1000, gamma=1.0, alpha=alpha, init_theta=np.array([1.47, -1.47]))\n",
    "    return hist_R"
   ]
  },
  {
   "cell_type": "code",
   "execution_count": 10,
   "metadata": {},
   "outputs": [],
   "source": [
    "def run_multiple_exp(repeat, param):\n",
    "    with mp.Pool(processes=mp.cpu_count()-2) as pool:\n",
    "        param_list = [(param,)] * repeat\n",
    "        results = pool.starmap(run_single_experiment, param_list)\n",
    "        results = np.array(results)         # shape [nb_repeat, nb_episodes]\n",
    "        return np.average(results, axis=0)  # shape [nb_episodes]"
   ]
  },
  {
   "cell_type": "code",
   "execution_count": 11,
   "metadata": {},
   "outputs": [],
   "source": [
    "runs_a12_avg = run_multiple_exp(repeat=100, param=2**-12)\n",
    "runs_a13_avg = run_multiple_exp(repeat=100, param=2**-13)\n",
    "runs_a14_avg = run_multiple_exp(repeat=100, param=2**-14)"
   ]
  },
  {
   "cell_type": "code",
   "execution_count": 12,
   "metadata": {},
   "outputs": [
    {
     "data": {
      "image/png": "[encoded data removed]",
      "text/plain": [
       "<Figure size 432x288 with 1 Axes>"
      ]
     },
     "metadata": {
      "needs_background": "light"
     },
     "output_type": "display_data"
    }
   ],
   "source": [
    "fig = plt.figure()\n",
    "ax = fig.add_subplot(111)\n",
    "ax.plot(runs_a12_avg, linewidth=1.0, color='blue', label='$\\\\alpha = 2^{-12}$')\n",
    "ax.plot(runs_a13_avg, linewidth=1.0, color='red', label='$\\\\alpha = 2^{-13}$')\n",
    "ax.plot(runs_a14_avg, linewidth=1.0, color='green', label='$\\\\alpha = 2^{-14}$')\n",
    "ax.plot([-11.6]*1000, linewidth=1.0, linestyle='--', color='gray', label='$v_*(s_0)$')\n",
    "ax.set_ylabel('Total reward on episode\\navgeraged over 100 runs')\n",
    "ax.set_xlabel('Episode')\n",
    "ax.legend()\n",
    "plt.tight_layout()\n",
    "plt.savefig('assets/fig_1301.png')\n",
    "plt.show()"
   ]
  }
 ],
 "metadata": {
  "kernelspec": {
   "display_name": "Python 3",
   "language": "python",
   "name": "python3"
  },
  "language_info": {
   "codemirror_mode": {
    "name": "ipython",
    "version": 3
   },
   "file_extension": ".py",
   "mimetype": "text/x-python",
   "name": "python",
   "nbconvert_exporter": "python",
   "pygments_lexer": "ipython3",
   "version": "3.7.4"
  }
 },
 "nbformat": 4,
 "nbformat_minor": 4
}
