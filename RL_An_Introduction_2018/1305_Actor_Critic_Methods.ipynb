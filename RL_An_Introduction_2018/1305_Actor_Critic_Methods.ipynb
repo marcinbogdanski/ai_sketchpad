{
 "cells": [
  {
   "cell_type": "code",
   "execution_count": 1,
   "metadata": {},
   "outputs": [],
   "source": [
    "import numpy as np\n",
    "import matplotlib.pyplot as plt"
   ]
  },
  {
   "cell_type": "code",
   "execution_count": null,
   "metadata": {},
   "outputs": [],
   "source": []
  },
  {
   "cell_type": "code",
   "execution_count": null,
   "metadata": {},
   "outputs": [],
   "source": []
  },
  {
   "cell_type": "code",
   "execution_count": null,
   "metadata": {},
   "outputs": [],
   "source": []
  },
  {
   "cell_type": "code",
   "execution_count": null,
   "metadata": {},
   "outputs": [],
   "source": []
  },
  {
   "cell_type": "code",
   "execution_count": null,
   "metadata": {},
   "outputs": [],
   "source": []
  },
  {
   "cell_type": "code",
   "execution_count": null,
   "metadata": {},
   "outputs": [],
   "source": []
  },
  {
   "cell_type": "code",
   "execution_count": null,
   "metadata": {},
   "outputs": [],
   "source": []
  },
  {
   "cell_type": "code",
   "execution_count": null,
   "metadata": {},
   "outputs": [],
   "source": []
  },
  {
   "cell_type": "code",
   "execution_count": null,
   "metadata": {},
   "outputs": [],
   "source": []
  },
  {
   "cell_type": "code",
   "execution_count": null,
   "metadata": {},
   "outputs": [],
   "source": []
  },
  {
   "cell_type": "code",
   "execution_count": null,
   "metadata": {},
   "outputs": [],
   "source": []
  },
  {
   "cell_type": "code",
   "execution_count": null,
   "metadata": {},
   "outputs": [],
   "source": []
  },
  {
   "cell_type": "code",
   "execution_count": 16,
   "metadata": {},
   "outputs": [],
   "source": [
    "import numpy as np\n",
    "import matplotlib.pyplot as plt\n",
    "import matplotlib.patches as patches\n",
    "from collections import defaultdict"
   ]
  },
  {
   "cell_type": "code",
   "execution_count": 121,
   "metadata": {},
   "outputs": [],
   "source": [
    "class LinearEnv:\n",
    "    \"\"\"\n",
    "    State Index:   [ 0    1    2    3    4    5    6 ]\n",
    "    State Label:   [ .    A    B    C    D    E    . ]\n",
    "    Type:          [ T    .    .    S    .    .    T ]    \n",
    "    \"\"\"\n",
    "    V_true =       [0.0, 1/6, 2/6, 3/6, 4/6, 5/6, 0.0]\n",
    "    \n",
    "    def __init__(self):\n",
    "        self.act_space = [0, 1]  # LEFT = 0, RIGHT = 1\n",
    "        self.reset()\n",
    "\n",
    "    def reset(self):\n",
    "        self._state = np.random.randint(1, 5+1)\n",
    "        self._done = False\n",
    "        return self._state\n",
    "\n",
    "    def step(self, action):\n",
    "        if self._done: raise ValueError('Episode has terminated')\n",
    "        if action not in [0, 1]: raise ValueError('Invalid action')\n",
    "\n",
    "        if action == 0: self._state -= 1\n",
    "        if action == 1: self._state += 1\n",
    "            \n",
    "        reward = -1\n",
    "        if self._state < 1: self._done = True\n",
    "        if self._state > 5: self._done = True\n",
    "                \n",
    "        return self._state, reward, self._done  # obs, rew, done"
   ]
  },
  {
   "cell_type": "code",
   "execution_count": 2,
   "metadata": {},
   "outputs": [],
   "source": [
    "class WindyGridworld:\n",
    "    def __init__(self):\n",
    "        self.act_space = [0, 1, 2, 3]  # LEFT = 0, DOWN = 1, RIGHT = 2, UP = 3\n",
    "        self.reset()\n",
    "        \n",
    "    def reset(self):\n",
    "        self._x, self._y = 0, 3        # agent initial position\n",
    "        return (0, 3)\n",
    "        \n",
    "    def step(self, action):\n",
    "        # actions: LEFT = 0, DOWN = 1, RIGHT = 2, UP = 3\n",
    "        self._x, self._y = self.transition(self._x, self._y, action)\n",
    "        \n",
    "        if self._x == 7 and self._y == 3:        # GOAL reached\n",
    "            return (self._x, self._y), -1, True  # observation, reward, done\n",
    "        return (self._x, self._y), -1, False     # obs, rew, done \n",
    "        \n",
    "    def transition(self, x, y, action):\n",
    "        \"\"\"Perform transition from [x,y] given action\"\"\"\n",
    "        \n",
    "        if x in [3,4,5,8]:  y += 1    # windy\n",
    "        if x in [6,7]:      y += 2    # woo, very windy\n",
    "        \n",
    "        if action == 0:    x -= 1     # left\n",
    "        elif action == 1:  y -= 1     # down\n",
    "        elif action == 2:  x += 1     # right\n",
    "        elif action == 3:  y += 1     # up\n",
    "        else: raise ValueError('Action must be in [0,1,2,3]')\n",
    "            \n",
    "        x = np.clip(x, 0, 9)   # x range is [0..9]\n",
    "        y = np.clip(y, 0, 6)   # y range is [0..6]\n",
    "        return x, y\n",
    "    \n",
    "    def get_path(self, Q):\n",
    "        x, y = 0, 3       # agent starting position\n",
    "        path = [(x, y)]   # save starting position\n",
    "        for _ in range(100):  # limit steps in case policy is loopy\n",
    "            A_star = np.argmax([Q[(x,y),a] for a in [0, 1, 2, 3]])   # pick best action\n",
    "            x, y = self.transition(x, y, A_star)         # take one step\n",
    "            path.append((x,y))                            # save to path\n",
    "            if x == 7 and y == 3:  break                 # if goal: break\n",
    "        return path"
   ]
  },
  {
   "cell_type": "code",
   "execution_count": 3,
   "metadata": {},
   "outputs": [],
   "source": [
    "def plot_windy(Q=None, path=None, saveimg=None):\n",
    "    \"\"\"Plot windy gridworld.\n",
    "    \n",
    "    Will plot optimal action for each cell, according to 'Q'\n",
    "    and blue line following 'path' parameter\n",
    "    \n",
    "    Params:\n",
    "        Q    - optional, dictionary mappting [(x,y),action] -> float\n",
    "        path - optional, list [(x1,y1), (x2,y2), ...] of agent steps\n",
    "    \"\"\"\n",
    "    fig = plt.figure()\n",
    "    ax = fig.add_subplot(111)\n",
    "\n",
    "    ax.set_xlim(-.5, 9.5)\n",
    "    ax.set_ylim(-.5, 6.5)\n",
    "    ax.set_yticks([])\n",
    "    ax.set_xticks(     [0, 1, 2, 3, 4, 5, 6, 7, 8, 9])\n",
    "    ax.set_xticklabels([0, 0, 0, 1, 1, 1, 2, 2, 1, 0])\n",
    "\n",
    "    ax.text(0, 3, 'S', fontsize=18, horizontalalignment='center', verticalalignment='center')\n",
    "    ax.text(7, 3, 'G', fontsize=18, horizontalalignment='center', verticalalignment='center')\n",
    "    \n",
    "    for x in range(10):\n",
    "        for y in range(7):\n",
    "            ax.add_patch(patches.Rectangle([x-0.5, y-0.5], 1, 1, fill=False))  # cells\n",
    "\n",
    "            if Q is not None:\n",
    "                params = {'head_width':0.2, 'head_length':0.2, 'color':'gray', 'alpha':.2}\n",
    "                A_star = np.argmax([Q[(x,y),a] for a in [0, 1, 2, 3]])  # pick best action\n",
    "                if A_star == 3:    ax.arrow(x, y, 0,  .1, **params)  # up\n",
    "                elif A_star == 1:  ax.arrow(x, y, 0, -.1, **params)  # down\n",
    "                elif A_star == 0:  ax.arrow(x, y, -.1, 0, **params)  # left\n",
    "                elif A_star == 2:  ax.arrow(x, y,  .1, 0, **params)  # right\n",
    "\n",
    "    if path is not None:\n",
    "        for i in range(len(path)-1):\n",
    "            x, y = path[i]\n",
    "            x_, y_ = path[i+1]\n",
    "            ax.plot([x, x_], [y, y_], color='blue', alpha=1.)\n",
    "\n",
    "    plt.tight_layout()\n",
    "    if saveimg is not None:\n",
    "        plt.savefig(saveimg)\n",
    "    plt.show()"
   ]
  },
  {
   "cell_type": "code",
   "execution_count": null,
   "metadata": {},
   "outputs": [],
   "source": []
  },
  {
   "cell_type": "code",
   "execution_count": 11,
   "metadata": {},
   "outputs": [],
   "source": [
    "def argmax_rand(arr):\n",
    "    # break ties randomly, np.argmax() always picks first max\n",
    "    return np.random.choice(np.flatnonzero(arr == np.max(arr)))"
   ]
  },
  {
   "cell_type": "code",
   "execution_count": null,
   "metadata": {},
   "outputs": [],
   "source": []
  },
  {
   "cell_type": "code",
   "execution_count": 187,
   "metadata": {},
   "outputs": [],
   "source": [
    "def sarsa(env, ep, gamma, alpha, eps):\n",
    "    \"\"\"Sarsa (on-policy TD control)\n",
    "    \n",
    "    Params:\n",
    "        env - environment\n",
    "        ep - number of episodes to run\n",
    "        gamma - discount factor [0..1]\n",
    "        alpha - step size (0..1]\n",
    "        eps - epsilon-greedy param\n",
    "    \"\"\"\n",
    "    def policy(st, Q, eps):\n",
    "        if np.random.rand() > eps:\n",
    "            return argmax_rand([Q[st,a] for a in env.act_space])\n",
    "        else:\n",
    "            return np.random.choice(env.act_space)\n",
    "    \n",
    "    Q = defaultdict(float)  # default zero for all, terminal MUST be zero\n",
    "    N = defaultdict(float)\n",
    "    \n",
    "    for _ in range(ep):\n",
    "        S = env.reset()\n",
    "        A = policy(S, Q, eps)\n",
    "        while True:\n",
    "            S_, R, done = env.step(A)\n",
    "            A_ = policy(S_, Q, eps)\n",
    "            assert not done or Q[S_,A_] == 0.0\n",
    "            Q[S,A] = Q[S,A] + alpha * (R + gamma * Q[S_,A_] - Q[S,A])\n",
    "            N[S,A] += 1\n",
    "            S, A = S_, A_\n",
    "            if done: break\n",
    "                \n",
    "    return Q, N"
   ]
  },
  {
   "cell_type": "code",
   "execution_count": 212,
   "metadata": {},
   "outputs": [],
   "source": [
    "def generate_episode(env, policy, *params):\n",
    "    \"\"\"Generete one complete episode.\n",
    "    \n",
    "    Returns:\n",
    "        trajectory: list of tuples [(st, rew, done, act), (...), (...)],\n",
    "                    where St can be e.g tuple of ints or anything really\n",
    "        T: index of terminal state, NOT length of trajectory\n",
    "    \"\"\"\n",
    "    trajectory = []\n",
    "    done = True\n",
    "    while True:\n",
    "        # === time step starts here ===\n",
    "        if done:  St, Rt, done    = env.reset(), None, False\n",
    "        else:     St, Rt, done    = env.step(At)\n",
    "        At = policy(St, *params)        \n",
    "        trajectory.append((St, Rt, done, At))\n",
    "        if done:  break\n",
    "        # === time step ends here ===\n",
    "    return trajectory, len(trajectory)-1"
   ]
  },
  {
   "cell_type": "code",
   "execution_count": 208,
   "metadata": {},
   "outputs": [],
   "source": [
    "def on_policy_MC_control(env, ep, gamma, eps):\n",
    "    \"\"\"Monte Carlo ES Control\n",
    "    Params:\n",
    "        env - environment\n",
    "        ep [int] - number of episodes to run\n",
    "        gamma [float] - discount factor\n",
    "        eps [float] - epsilon-greedy parameter\n",
    "    \"\"\"\n",
    "    \n",
    "    def policy(St, Q, eps):\n",
    "        if np.random.rand() > eps:\n",
    "            return argmax_rand([Q[(St,a)] for a in env.act_space])\n",
    "        else:\n",
    "            return np.random.choice(env.act_space)\n",
    "    \n",
    "    Q = defaultdict(float)        # default Q value: 0\n",
    "    Counts = defaultdict(int)\n",
    "    Returns = defaultdict(float)  # stores SUM\n",
    "    \n",
    "    for _ in range(ep):\n",
    "        traj, T = generate_episode(env, policy, Q, eps)\n",
    "        G = 0\n",
    "        for t in range(T-1,-1,-1):\n",
    "            St, _, _, At = traj[t]      # (st, rew, done, act)\n",
    "            _, Rt_1, _, _ = traj[t+1]\n",
    "            \n",
    "            G = gamma * G + Rt_1\n",
    "            \n",
    "            # Do away with first-visit check\n",
    "            # if not (St, At) in [(traj[i][0], traj[i][3]) for i in range(0, t)]:\n",
    "            Counts[(St, At)]  += 1\n",
    "            Returns[(St, At)] += G\n",
    "            Q[(St, At)] = Returns[(St, At)] / Counts[(St, At)]\n",
    "                                    \n",
    "    return Q, Counts"
   ]
  },
  {
   "cell_type": "code",
   "execution_count": 188,
   "metadata": {},
   "outputs": [],
   "source": [
    "def get_V(state_Q_values, eps):\n",
    "    assert isinstance(state_Q_values, list)\n",
    "    assert all(isinstance(f, float) for f in state_Q_values)\n",
    "    index_max = argmax_rand(state_Q_values)\n",
    "    max_val = state_Q_values[index_max]\n",
    "    avg_val = sum([q for q in state_Q_values]) / len(state_Q_values)\n",
    "    return (1-eps)*max_val + eps*avg_val\n",
    "\n",
    "assert get_V([0.0, 1.0, 0.0, 0.0], eps=0.1) == 0.925\n",
    "assert get_V([-1.0, -1.0, 2.0, 0.0], eps=0.1) == 1.8\n",
    "assert get_V([1.0, 2.0, 3.0, 4.0], eps=0.1) == 3.85"
   ]
  },
  {
   "cell_type": "code",
   "execution_count": null,
   "metadata": {},
   "outputs": [],
   "source": []
  },
  {
   "cell_type": "code",
   "execution_count": 189,
   "metadata": {},
   "outputs": [],
   "source": [
    "env = LinearEnv()\n",
    "Q, N = sarsa(env, 10000, gamma=1., alpha=.5, eps=.1)"
   ]
  },
  {
   "cell_type": "code",
   "execution_count": 213,
   "metadata": {},
   "outputs": [],
   "source": [
    "env = LinearEnv()\n",
    "Q, N = on_policy_MC_control(env, 10000, gamma=1., eps=.1)"
   ]
  },
  {
   "cell_type": "code",
   "execution_count": 214,
   "metadata": {},
   "outputs": [
    {
     "name": "stdout",
     "output_type": "stream",
     "text": [
      "0 0.0\n",
      "1 -1.1128630705394191\n",
      "2 -2.259499824841384\n",
      "3 -3.221662909349787\n",
      "4 -2.2187194092827007\n",
      "5 -1.1123839009287926\n",
      "6 0.0\n"
     ]
    }
   ],
   "source": [
    "V = np.zeros(7)\n",
    "N_ = np.zeros(7)\n",
    "for x in range(7):\n",
    "    q_0, q_1 = Q[(x,0)], Q[(x,1)]\n",
    "    v = get_V([q_0, q_1], eps=0.1)\n",
    "    V[x] = v\n",
    "    N_[x] = N[(x,0)] + N[(x,1)]\n",
    "    print(x, v)"
   ]
  },
  {
   "cell_type": "code",
   "execution_count": 215,
   "metadata": {},
   "outputs": [
    {
     "data": {
      "text/plain": [
       "<matplotlib.colorbar.Colorbar at 0x7f32832a8910>"
      ]
     },
     "execution_count": 215,
     "metadata": {},
     "output_type": "execute_result"
    },
    {
     "data": {
      "image/png": "[encoded data removed]",
      "text/plain": [
       "<Figure size 432x288 with 2 Axes>"
      ]
     },
     "metadata": {
      "needs_background": "light"
     },
     "output_type": "display_data"
    }
   ],
   "source": [
    "plt.imshow(np.expand_dims(V.T, axis=0))\n",
    "plt.colorbar()"
   ]
  },
  {
   "cell_type": "code",
   "execution_count": 216,
   "metadata": {},
   "outputs": [
    {
     "data": {
      "text/plain": [
       "<matplotlib.colorbar.Colorbar at 0x7f3283226950>"
      ]
     },
     "execution_count": 216,
     "metadata": {},
     "output_type": "execute_result"
    },
    {
     "data": {
      "image/png": "[encoded data removed]",
      "text/plain": [
       "<Figure size 432x288 with 2 Axes>"
      ]
     },
     "metadata": {
      "needs_background": "light"
     },
     "output_type": "display_data"
    }
   ],
   "source": [
    "plt.imshow(np.expand_dims(N_.T, axis=0), cmap='plasma')\n",
    "plt.colorbar()"
   ]
  },
  {
   "cell_type": "code",
   "execution_count": 217,
   "metadata": {},
   "outputs": [
    {
     "data": {
      "text/plain": [
       "[<matplotlib.lines.Line2D at 0x7f32831947d0>]"
      ]
     },
     "execution_count": 217,
     "metadata": {},
     "output_type": "execute_result"
    },
    {
     "data": {
      "image/png": "[encoded data removed]",
      "text/plain": [
       "<Figure size 432x288 with 1 Axes>"
      ]
     },
     "metadata": {
      "needs_background": "light"
     },
     "output_type": "display_data"
    }
   ],
   "source": [
    "plt.plot(V)"
   ]
  },
  {
   "cell_type": "code",
   "execution_count": null,
   "metadata": {},
   "outputs": [],
   "source": []
  },
  {
   "cell_type": "code",
   "execution_count": null,
   "metadata": {},
   "outputs": [],
   "source": []
  },
  {
   "cell_type": "code",
   "execution_count": null,
   "metadata": {},
   "outputs": [],
   "source": []
  },
  {
   "cell_type": "code",
   "execution_count": 242,
   "metadata": {},
   "outputs": [],
   "source": [
    "env = WindyGridworld()\n",
    "Q, N = sarsa(env, 1000, gamma=1., alpha=.5, eps=.3)"
   ]
  },
  {
   "cell_type": "code",
   "execution_count": 247,
   "metadata": {},
   "outputs": [
    {
     "ename": "KeyboardInterrupt",
     "evalue": "",
     "output_type": "error",
     "traceback": [
      "\u001b[0;31m---------------------------------------------------------------------------\u001b[0m",
      "\u001b[0;31mKeyboardInterrupt\u001b[0m                         Traceback (most recent call last)",
      "\u001b[0;32m<ipython-input-247-7a5b2e5f06a4>\u001b[0m in \u001b[0;36m<module>\u001b[0;34m\u001b[0m\n\u001b[1;32m      1\u001b[0m \u001b[0menv\u001b[0m \u001b[0;34m=\u001b[0m \u001b[0mWindyGridworld\u001b[0m\u001b[0;34m(\u001b[0m\u001b[0;34m)\u001b[0m\u001b[0;34m\u001b[0m\u001b[0;34m\u001b[0m\u001b[0m\n\u001b[0;32m----> 2\u001b[0;31m \u001b[0mQ\u001b[0m\u001b[0;34m,\u001b[0m \u001b[0mN\u001b[0m \u001b[0;34m=\u001b[0m \u001b[0mon_policy_MC_control\u001b[0m\u001b[0;34m(\u001b[0m\u001b[0menv\u001b[0m\u001b[0;34m,\u001b[0m \u001b[0;36m10\u001b[0m\u001b[0;34m,\u001b[0m \u001b[0mgamma\u001b[0m\u001b[0;34m=\u001b[0m\u001b[0;36m1.\u001b[0m\u001b[0;34m,\u001b[0m \u001b[0meps\u001b[0m\u001b[0;34m=\u001b[0m\u001b[0;36m.3\u001b[0m\u001b[0;34m)\u001b[0m\u001b[0;34m\u001b[0m\u001b[0;34m\u001b[0m\u001b[0m\n\u001b[0m",
      "\u001b[0;32m<ipython-input-208-9fb7d11cf920>\u001b[0m in \u001b[0;36mon_policy_MC_control\u001b[0;34m(env, ep, gamma, eps)\u001b[0m\n\u001b[1;32m     19\u001b[0m \u001b[0;34m\u001b[0m\u001b[0m\n\u001b[1;32m     20\u001b[0m     \u001b[0;32mfor\u001b[0m \u001b[0m_\u001b[0m \u001b[0;32min\u001b[0m \u001b[0mrange\u001b[0m\u001b[0;34m(\u001b[0m\u001b[0mep\u001b[0m\u001b[0;34m)\u001b[0m\u001b[0;34m:\u001b[0m\u001b[0;34m\u001b[0m\u001b[0;34m\u001b[0m\u001b[0m\n\u001b[0;32m---> 21\u001b[0;31m         \u001b[0mtraj\u001b[0m\u001b[0;34m,\u001b[0m \u001b[0mT\u001b[0m \u001b[0;34m=\u001b[0m \u001b[0mgenerate_episode\u001b[0m\u001b[0;34m(\u001b[0m\u001b[0menv\u001b[0m\u001b[0;34m,\u001b[0m \u001b[0mpolicy\u001b[0m\u001b[0;34m,\u001b[0m \u001b[0mQ\u001b[0m\u001b[0;34m,\u001b[0m \u001b[0meps\u001b[0m\u001b[0;34m)\u001b[0m\u001b[0;34m\u001b[0m\u001b[0;34m\u001b[0m\u001b[0m\n\u001b[0m\u001b[1;32m     22\u001b[0m         \u001b[0mG\u001b[0m \u001b[0;34m=\u001b[0m \u001b[0;36m0\u001b[0m\u001b[0;34m\u001b[0m\u001b[0;34m\u001b[0m\u001b[0m\n\u001b[1;32m     23\u001b[0m         \u001b[0;32mfor\u001b[0m \u001b[0mt\u001b[0m \u001b[0;32min\u001b[0m \u001b[0mrange\u001b[0m\u001b[0;34m(\u001b[0m\u001b[0mT\u001b[0m\u001b[0;34m-\u001b[0m\u001b[0;36m1\u001b[0m\u001b[0;34m,\u001b[0m\u001b[0;34m-\u001b[0m\u001b[0;36m1\u001b[0m\u001b[0;34m,\u001b[0m\u001b[0;34m-\u001b[0m\u001b[0;36m1\u001b[0m\u001b[0;34m)\u001b[0m\u001b[0;34m:\u001b[0m\u001b[0;34m\u001b[0m\u001b[0;34m\u001b[0m\u001b[0m\n",
      "\u001b[0;32m<ipython-input-212-0d4e5518079c>\u001b[0m in \u001b[0;36mgenerate_episode\u001b[0;34m(env, policy, *params)\u001b[0m\n\u001b[1;32m     12\u001b[0m         \u001b[0;31m# === time step starts here ===\u001b[0m\u001b[0;34m\u001b[0m\u001b[0;34m\u001b[0m\u001b[0;34m\u001b[0m\u001b[0m\n\u001b[1;32m     13\u001b[0m         \u001b[0;32mif\u001b[0m \u001b[0mdone\u001b[0m\u001b[0;34m:\u001b[0m  \u001b[0mSt\u001b[0m\u001b[0;34m,\u001b[0m \u001b[0mRt\u001b[0m\u001b[0;34m,\u001b[0m \u001b[0mdone\u001b[0m    \u001b[0;34m=\u001b[0m \u001b[0menv\u001b[0m\u001b[0;34m.\u001b[0m\u001b[0mreset\u001b[0m\u001b[0;34m(\u001b[0m\u001b[0;34m)\u001b[0m\u001b[0;34m,\u001b[0m \u001b[0;32mNone\u001b[0m\u001b[0;34m,\u001b[0m \u001b[0;32mFalse\u001b[0m\u001b[0;34m\u001b[0m\u001b[0;34m\u001b[0m\u001b[0m\n\u001b[0;32m---> 14\u001b[0;31m         \u001b[0;32melse\u001b[0m\u001b[0;34m:\u001b[0m     \u001b[0mSt\u001b[0m\u001b[0;34m,\u001b[0m \u001b[0mRt\u001b[0m\u001b[0;34m,\u001b[0m \u001b[0mdone\u001b[0m    \u001b[0;34m=\u001b[0m \u001b[0menv\u001b[0m\u001b[0;34m.\u001b[0m\u001b[0mstep\u001b[0m\u001b[0;34m(\u001b[0m\u001b[0mAt\u001b[0m\u001b[0;34m)\u001b[0m\u001b[0;34m\u001b[0m\u001b[0;34m\u001b[0m\u001b[0m\n\u001b[0m\u001b[1;32m     15\u001b[0m         \u001b[0mAt\u001b[0m \u001b[0;34m=\u001b[0m \u001b[0mpolicy\u001b[0m\u001b[0;34m(\u001b[0m\u001b[0mSt\u001b[0m\u001b[0;34m,\u001b[0m \u001b[0;34m*\u001b[0m\u001b[0mparams\u001b[0m\u001b[0;34m)\u001b[0m\u001b[0;34m\u001b[0m\u001b[0;34m\u001b[0m\u001b[0m\n\u001b[1;32m     16\u001b[0m         \u001b[0mtrajectory\u001b[0m\u001b[0;34m.\u001b[0m\u001b[0mappend\u001b[0m\u001b[0;34m(\u001b[0m\u001b[0;34m(\u001b[0m\u001b[0mSt\u001b[0m\u001b[0;34m,\u001b[0m \u001b[0mRt\u001b[0m\u001b[0;34m,\u001b[0m \u001b[0mdone\u001b[0m\u001b[0;34m,\u001b[0m \u001b[0mAt\u001b[0m\u001b[0;34m)\u001b[0m\u001b[0;34m)\u001b[0m\u001b[0;34m\u001b[0m\u001b[0;34m\u001b[0m\u001b[0m\n",
      "\u001b[0;32m<ipython-input-2-237f3034104d>\u001b[0m in \u001b[0;36mstep\u001b[0;34m(self, action)\u001b[0m\n\u001b[1;32m     10\u001b[0m     \u001b[0;32mdef\u001b[0m \u001b[0mstep\u001b[0m\u001b[0;34m(\u001b[0m\u001b[0mself\u001b[0m\u001b[0;34m,\u001b[0m \u001b[0maction\u001b[0m\u001b[0;34m)\u001b[0m\u001b[0;34m:\u001b[0m\u001b[0;34m\u001b[0m\u001b[0;34m\u001b[0m\u001b[0m\n\u001b[1;32m     11\u001b[0m         \u001b[0;31m# actions: LEFT = 0, DOWN = 1, RIGHT = 2, UP = 3\u001b[0m\u001b[0;34m\u001b[0m\u001b[0;34m\u001b[0m\u001b[0;34m\u001b[0m\u001b[0m\n\u001b[0;32m---> 12\u001b[0;31m         \u001b[0mself\u001b[0m\u001b[0;34m.\u001b[0m\u001b[0m_x\u001b[0m\u001b[0;34m,\u001b[0m \u001b[0mself\u001b[0m\u001b[0;34m.\u001b[0m\u001b[0m_y\u001b[0m \u001b[0;34m=\u001b[0m \u001b[0mself\u001b[0m\u001b[0;34m.\u001b[0m\u001b[0mtransition\u001b[0m\u001b[0;34m(\u001b[0m\u001b[0mself\u001b[0m\u001b[0;34m.\u001b[0m\u001b[0m_x\u001b[0m\u001b[0;34m,\u001b[0m \u001b[0mself\u001b[0m\u001b[0;34m.\u001b[0m\u001b[0m_y\u001b[0m\u001b[0;34m,\u001b[0m \u001b[0maction\u001b[0m\u001b[0;34m)\u001b[0m\u001b[0;34m\u001b[0m\u001b[0;34m\u001b[0m\u001b[0m\n\u001b[0m\u001b[1;32m     13\u001b[0m \u001b[0;34m\u001b[0m\u001b[0m\n\u001b[1;32m     14\u001b[0m         \u001b[0;32mif\u001b[0m \u001b[0mself\u001b[0m\u001b[0;34m.\u001b[0m\u001b[0m_x\u001b[0m \u001b[0;34m==\u001b[0m \u001b[0;36m7\u001b[0m \u001b[0;32mand\u001b[0m \u001b[0mself\u001b[0m\u001b[0;34m.\u001b[0m\u001b[0m_y\u001b[0m \u001b[0;34m==\u001b[0m \u001b[0;36m3\u001b[0m\u001b[0;34m:\u001b[0m        \u001b[0;31m# GOAL reached\u001b[0m\u001b[0;34m\u001b[0m\u001b[0;34m\u001b[0m\u001b[0m\n",
      "\u001b[0;32m<ipython-input-2-237f3034104d>\u001b[0m in \u001b[0;36mtransition\u001b[0;34m(self, x, y, action)\u001b[0m\n\u001b[1;32m     19\u001b[0m         \u001b[0;34m\"\"\"Perform transition from [x,y] given action\"\"\"\u001b[0m\u001b[0;34m\u001b[0m\u001b[0;34m\u001b[0m\u001b[0m\n\u001b[1;32m     20\u001b[0m \u001b[0;34m\u001b[0m\u001b[0m\n\u001b[0;32m---> 21\u001b[0;31m         \u001b[0;32mif\u001b[0m \u001b[0mx\u001b[0m \u001b[0;32min\u001b[0m \u001b[0;34m[\u001b[0m\u001b[0;36m3\u001b[0m\u001b[0;34m,\u001b[0m\u001b[0;36m4\u001b[0m\u001b[0;34m,\u001b[0m\u001b[0;36m5\u001b[0m\u001b[0;34m,\u001b[0m\u001b[0;36m8\u001b[0m\u001b[0;34m]\u001b[0m\u001b[0;34m:\u001b[0m  \u001b[0my\u001b[0m \u001b[0;34m+=\u001b[0m \u001b[0;36m1\u001b[0m    \u001b[0;31m# windy\u001b[0m\u001b[0;34m\u001b[0m\u001b[0;34m\u001b[0m\u001b[0m\n\u001b[0m\u001b[1;32m     22\u001b[0m         \u001b[0;32mif\u001b[0m \u001b[0mx\u001b[0m \u001b[0;32min\u001b[0m \u001b[0;34m[\u001b[0m\u001b[0;36m6\u001b[0m\u001b[0;34m,\u001b[0m\u001b[0;36m7\u001b[0m\u001b[0;34m]\u001b[0m\u001b[0;34m:\u001b[0m      \u001b[0my\u001b[0m \u001b[0;34m+=\u001b[0m \u001b[0;36m2\u001b[0m    \u001b[0;31m# woo, very windy\u001b[0m\u001b[0;34m\u001b[0m\u001b[0;34m\u001b[0m\u001b[0m\n\u001b[1;32m     23\u001b[0m \u001b[0;34m\u001b[0m\u001b[0m\n",
      "\u001b[0;31mKeyboardInterrupt\u001b[0m: "
     ]
    }
   ],
   "source": [
    "env = WindyGridworld()\n",
    "Q, N = on_policy_MC_control(env, 10, gamma=1., eps=.3)"
   ]
  },
  {
   "cell_type": "code",
   "execution_count": 243,
   "metadata": {},
   "outputs": [
    {
     "data": {
      "image/png": "[encoded data removed]",
      "text/plain": [
       "<Figure size 432x288 with 1 Axes>"
      ]
     },
     "metadata": {
      "needs_background": "light"
     },
     "output_type": "display_data"
    }
   ],
   "source": [
    "optimal_path = env.get_path(Q)\n",
    "plot_windy(Q, optimal_path)"
   ]
  },
  {
   "cell_type": "code",
   "execution_count": 244,
   "metadata": {},
   "outputs": [],
   "source": [
    "V_ = np.zeros((6, 9))\n",
    "N_ = np.zeros((6, 9))\n",
    "for x in range(9):\n",
    "    for y in range(6):\n",
    "        q_0, q_1, q_2, q_3 = Q[((x,y),0)], Q[((x,y),1)], Q[((x,y),2)], Q[((x,y),3)]\n",
    "        v = get_V([q_0, q_1, q_2, q_3], eps=.1)\n",
    "        V_[y, x] = v\n",
    "        N_[y, x] = N[((x,y),0)] + N[((x,y),1)] + N[((x,y),2)] + N[((x,y),3)]"
   ]
  },
  {
   "cell_type": "code",
   "execution_count": 245,
   "metadata": {},
   "outputs": [
    {
     "data": {
      "text/plain": [
       "<matplotlib.colorbar.Colorbar at 0x7f3282b30610>"
      ]
     },
     "execution_count": 245,
     "metadata": {},
     "output_type": "execute_result"
    },
    {
     "data": {
      "image/png": "[encoded data removed]",
      "text/plain": [
       "<Figure size 432x288 with 2 Axes>"
      ]
     },
     "metadata": {
      "needs_background": "light"
     },
     "output_type": "display_data"
    }
   ],
   "source": [
    "plt.imshow(V_, origin='lower')\n",
    "plt.colorbar()"
   ]
  },
  {
   "cell_type": "code",
   "execution_count": 246,
   "metadata": {},
   "outputs": [
    {
     "data": {
      "text/plain": [
       "<matplotlib.colorbar.Colorbar at 0x7f3282670950>"
      ]
     },
     "execution_count": 246,
     "metadata": {},
     "output_type": "execute_result"
    },
    {
     "data": {
      "image/png": "[encoded data removed]",
      "text/plain": [
       "<Figure size 432x288 with 2 Axes>"
      ]
     },
     "metadata": {
      "needs_background": "light"
     },
     "output_type": "display_data"
    }
   ],
   "source": [
    "plt.imshow(N_, origin='lower')\n",
    "plt.colorbar()"
   ]
  },
  {
   "cell_type": "code",
   "execution_count": null,
   "metadata": {},
   "outputs": [],
   "source": []
  },
  {
   "cell_type": "code",
   "execution_count": null,
   "metadata": {},
   "outputs": [],
   "source": []
  },
  {
   "cell_type": "code",
   "execution_count": null,
   "metadata": {},
   "outputs": [],
   "source": []
  }
 ],
 "metadata": {
  "kernelspec": {
   "display_name": "Python [conda env:pt]",
   "language": "python",
   "name": "conda-env-pt-py"
  },
  "language_info": {
   "codemirror_mode": {
    "name": "ipython",
    "version": 3
   },
   "file_extension": ".py",
   "mimetype": "text/x-python",
   "name": "python",
   "nbconvert_exporter": "python",
   "pygments_lexer": "ipython3",
   "version": "3.7.4"
  }
 },
 "nbformat": 4,
 "nbformat_minor": 4
}
