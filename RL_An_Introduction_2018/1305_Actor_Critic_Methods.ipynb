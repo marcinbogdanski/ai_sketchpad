{
 "cells": [
  {
   "cell_type": "code",
   "execution_count": 1,
   "metadata": {},
   "outputs": [],
   "source": [
    "import numpy as np\n",
    "import matplotlib.pyplot as plt"
   ]
  },
  {
   "cell_type": "code",
   "execution_count": null,
   "metadata": {},
   "outputs": [],
   "source": []
  },
  {
   "cell_type": "code",
   "execution_count": null,
   "metadata": {},
   "outputs": [],
   "source": []
  },
  {
   "cell_type": "code",
   "execution_count": 4,
   "metadata": {},
   "outputs": [],
   "source": [
    "class BanditEnv:\n",
    "    def __init__(self, offset=0.0, variance=1.0):\n",
    "        \"\"\"10-armed testbed, see chapter 2.3\"\"\"\n",
    "        self.nb_states = 1\n",
    "        self.nb_actions = 10    # 10 arms\n",
    "        self.means = np.array([0.25, -0.75, 1.5, 0.5, 1.25,   # eyeball fig 2.1\n",
    "                               -1.5, -0.25, -1, 0.75, -0.5]) * variance + offset\n",
    "        # self.means = np.random.randn(10) * variance + offset\n",
    "    \n",
    "    def reset(self):\n",
    "        return 0  # observation\n",
    "        \n",
    "    def step(self, action):\n",
    "        # observation, reward, done, extra\n",
    "        return 0, np.random.normal(loc=self.means[action]), True, None"
   ]
  },
  {
   "cell_type": "code",
   "execution_count": 5,
   "metadata": {},
   "outputs": [],
   "source": [
    "class CorridorSwitchedEnv:\n",
    "    \"\"\"Short corridor with switched actions. See example 13.1 in the book.\n",
    "    \n",
    "    Note: Small change introduced to terminate after time step 1000\n",
    "          to prevent infinite loop if policy becomes deterministic.\n",
    "    \"\"\"\n",
    "    def __init__(self):\n",
    "        self.nb_states = 1\n",
    "        self.nb_actions = 2\n",
    "        self._state = 0\n",
    "        self._curr_iter = 0\n",
    "        \n",
    "    def reset(self):\n",
    "        self._state = 0\n",
    "        self._curr_iter = 0\n",
    "        return 0    # states are indistinguisable\n",
    "    \n",
    "    def step(self, action):\n",
    "        assert action in [0, 1]    # left, right\n",
    "        \n",
    "        if self._state == 0:\n",
    "            if action == 1:\n",
    "                self._state = 1\n",
    "        elif self._state == 1:\n",
    "            if action == 0:        # left, swapped to right\n",
    "                self._state = 2\n",
    "            else:                  # right, swapped to left\n",
    "                self._state = 0\n",
    "        elif self._state == 2:\n",
    "            if action == 0:\n",
    "                self._state = 1\n",
    "            else:\n",
    "                self._state = 3    # terminal\n",
    "        else:\n",
    "            raise ValueError('Invalid state:', self._state)\n",
    "        \n",
    "        # Terminate at time step = 1000\n",
    "        self._curr_iter += 1\n",
    "        if self._curr_iter >= 1000:\n",
    "            self._state = 3\n",
    "        \n",
    "        if self._state == 3:\n",
    "            return 0, -1, True, None    # obs, reward, done, extra\n",
    "        else:\n",
    "            return 0, -1, False, None"
   ]
  },
  {
   "cell_type": "code",
   "execution_count": null,
   "metadata": {},
   "outputs": [],
   "source": []
  },
  {
   "cell_type": "code",
   "execution_count": null,
   "metadata": {},
   "outputs": [],
   "source": []
  },
  {
   "cell_type": "code",
   "execution_count": null,
   "metadata": {},
   "outputs": [],
   "source": []
  },
  {
   "cell_type": "code",
   "execution_count": 6,
   "metadata": {},
   "outputs": [],
   "source": [
    "def softmax(x):\n",
    "    \"\"\"Numerically stable softmax\"\"\"\n",
    "    ex = np.exp(x - np.max(x))\n",
    "    return ex / np.sum(ex)"
   ]
  },
  {
   "cell_type": "code",
   "execution_count": 7,
   "metadata": {},
   "outputs": [],
   "source": [
    "class TabularStateValueFunction:\n",
    "    \"\"\"Tabular state-value function 'approximator'\"\"\"\n",
    "    def __init__(self, lr, nb_states):\n",
    "        self._lr = lr\n",
    "        self._w = np.zeros(nb_states)\n",
    "    \n",
    "    def evaluate(self, state):\n",
    "        # or onehot(state, nb_states) @ self._w\n",
    "        return self._w[state]\n",
    "    \n",
    "    def train(self, state, target):\n",
    "        value = self.evaluate(state)\n",
    "        self._w[state] += self._lr * (target - value)"
   ]
  },
  {
   "cell_type": "code",
   "execution_count": 8,
   "metadata": {},
   "outputs": [],
   "source": [
    "class TabularSoftmaxPolicy:\n",
    "    \"\"\"Tabular action-state function 'approximator'\"\"\"\n",
    "    def __init__(self, lr, nb_states, nb_actions, init_theta=None):\n",
    "        self._lr = lr                                   # learning rate\n",
    "        self.n_act = nb_actions\n",
    "        self._theta = np.zeros((nb_states, nb_actions))  # weights\n",
    "        if init_theta is not None:\n",
    "            assert init_theta.dtype == np.float64\n",
    "            assert init_theta.shape == self._theta.shape\n",
    "            self._theta = init_theta\n",
    "    \n",
    "    def pi(self, state):\n",
    "        \"\"\"Return policy, i.e. probability distribution over actions.\"\"\"\n",
    "        h_vec = self._theta[state]\n",
    "        prob_vec = softmax(h_vec)                     # shape=[n_act], e.q. 13.2\n",
    "        assert prob_vec[0] != 0.0 and prob_vec[0] != 1.0\n",
    "        assert prob_vec[1] != 0.0 and prob_vec[1] != 1.0\n",
    "        return prob_vec\n",
    "\n",
    "\n",
    "    def update(self, state, action, disc_return):\n",
    "        x_s = np.zeros(self.n_act)\n",
    "        x_s[action] = 1             # feature vector, one-hot\n",
    "        prob = self.pi(state)\n",
    "        grad_s = x_s - prob\n",
    "        self._theta[state] += self._lr * disc_return * grad_s"
   ]
  },
  {
   "cell_type": "code",
   "execution_count": 9,
   "metadata": {},
   "outputs": [],
   "source": [
    "def one_step_actor_critic(env, ep, gamma, alpha_w, alpha_theta, init_theta=None):\n",
    "    \"\"\"Sarsa (on-policy TD control)\n",
    "    \n",
    "    Params:\n",
    "        env - environment\n",
    "        ep - number of episodes to run\n",
    "        gamma - discount factor [0..1]\n",
    "        alpha_w (float): learning rate for state-value function\n",
    "        alpha_theta (float): learning rate for policy\n",
    "        init_theta (np.array): initialize policy weights, default np.zeros()\n",
    "    \"\"\"\n",
    "    def policy(st, pi):\n",
    "        return np.random.choice(range(env.nb_actions), p=pi.pi(st))\n",
    "    \n",
    "    hist_R = []\n",
    "    hist_val = []\n",
    "    hist_prob = []\n",
    "    \n",
    "    v_hat = TabularStateValueFunction(lr=alpha_w, nb_states=env.nb_states)\n",
    "    pi = TabularSoftmaxPolicy(lr=alpha_theta,\n",
    "                              nb_states=env.nb_states,\n",
    "                              nb_actions=env.nb_actions,\n",
    "                              init_theta=init_theta)\n",
    "    \n",
    "    for _ in range(ep):\n",
    "        S = env.reset()\n",
    "        I = 1\n",
    "        \n",
    "        R_sum = 0\n",
    "        while True:\n",
    "            A = policy(S, pi)\n",
    "            S_, R, done, _ = env.step(A)\n",
    "            \n",
    "            target = R + gamma*v_hat.evaluate(S_) if not done else R\n",
    "            delta = target - v_hat.evaluate(S)\n",
    "            \n",
    "            v_hat.train(S, target)\n",
    "            pi.update(S, A, I*delta)\n",
    "            \n",
    "            I *= gamma\n",
    "            S = S_\n",
    "            \n",
    "            R_sum += R\n",
    "            if done: break\n",
    "        \n",
    "        hist_R.append(R_sum)\n",
    "        hist_val.append([v_hat.evaluate(s) for s in range(env.nb_states)])\n",
    "        hist_prob.append([pi.pi(s) for s in range(env.nb_states)])\n",
    "    \n",
    "    hist_R = np.array(hist_R)\n",
    "    hist_val = np.array(hist_val)\n",
    "    hist_prob = np.array(hist_prob)\n",
    "    \n",
    "    return hist_R, hist_val, hist_prob"
   ]
  },
  {
   "cell_type": "code",
   "execution_count": null,
   "metadata": {},
   "outputs": [],
   "source": []
  },
  {
   "cell_type": "code",
   "execution_count": null,
   "metadata": {},
   "outputs": [],
   "source": []
  },
  {
   "cell_type": "code",
   "execution_count": 10,
   "metadata": {},
   "outputs": [],
   "source": [
    "env = LinearEnv()"
   ]
  },
  {
   "cell_type": "code",
   "execution_count": 11,
   "metadata": {},
   "outputs": [],
   "source": [
    "hist_R, hist_val, hist_prob = one_step_actor_critic(env, ep=1000, gamma=1.0, alpha_w=2**-4, alpha_theta=2**-2)"
   ]
  },
  {
   "cell_type": "code",
   "execution_count": 12,
   "metadata": {},
   "outputs": [
    {
     "data": {
      "image/png": "[encoded data removed]",
      "text/plain": [
       "<Figure size 864x216 with 2 Axes>"
      ]
     },
     "metadata": {
      "needs_background": "light"
     },
     "output_type": "display_data"
    },
    {
     "data": {
      "image/png": "[encoded data removed]",
      "text/plain": [
       "<Figure size 864x216 with 5 Axes>"
      ]
     },
     "metadata": {
      "needs_background": "light"
     },
     "output_type": "display_data"
    }
   ],
   "source": [
    "_, (axR, axV) = plt.subplots(ncols=2, figsize=(12,3))\n",
    "axR.plot(hist_R)\n",
    "axV.plot(hist_val)\n",
    "plt.show()\n",
    "_, (ax1, ax2, ax3, ax4, ax5) = plt.subplots(ncols=5, figsize=(12,3))\n",
    "ax1.plot(hist_prob[:,1])\n",
    "ax2.plot(hist_prob[:,2])\n",
    "ax3.plot(hist_prob[:,3])\n",
    "ax4.plot(hist_prob[:,4])\n",
    "ax5.plot(hist_prob[:,5])\n",
    "plt.show()"
   ]
  },
  {
   "cell_type": "code",
   "execution_count": null,
   "metadata": {},
   "outputs": [],
   "source": []
  },
  {
   "cell_type": "code",
   "execution_count": 13,
   "metadata": {},
   "outputs": [],
   "source": [
    "env = BanditEnv()"
   ]
  },
  {
   "cell_type": "code",
   "execution_count": 14,
   "metadata": {},
   "outputs": [],
   "source": [
    "hist_R, hist_val, hist_prob = one_step_actor_critic(env, ep=1000, gamma=1.0, alpha_w=2**-4, alpha_theta=2**-2)"
   ]
  },
  {
   "cell_type": "code",
   "execution_count": 15,
   "metadata": {},
   "outputs": [
    {
     "data": {
      "image/png": "[encoded data removed]",
      "text/plain": [
       "<Figure size 964.8x216 with 3 Axes>"
      ]
     },
     "metadata": {
      "needs_background": "light"
     },
     "output_type": "display_data"
    }
   ],
   "source": [
    "_, (axR, axV, axP) = plt.subplots(ncols=3, figsize=(13.4,3))\n",
    "axR.plot(hist_R)\n",
    "axV.plot(hist_val)\n",
    "axP.plot(hist_prob[:,0])\n",
    "plt.tight_layout()\n",
    "plt.show()"
   ]
  },
  {
   "cell_type": "code",
   "execution_count": null,
   "metadata": {},
   "outputs": [],
   "source": []
  },
  {
   "cell_type": "code",
   "execution_count": 16,
   "metadata": {},
   "outputs": [],
   "source": [
    "env = CorridorSwitchedEnv()"
   ]
  },
  {
   "cell_type": "code",
   "execution_count": 17,
   "metadata": {},
   "outputs": [],
   "source": [
    "hist_R, hist_val, hist_prob = one_step_actor_critic(env, ep=1000, gamma=1.0, alpha_w=2**-9, alpha_theta=2**-9,\n",
    "                                                   init_theta=np.array([[-1.47, 1.47]]))"
   ]
  },
  {
   "cell_type": "code",
   "execution_count": 18,
   "metadata": {},
   "outputs": [
    {
     "data": {
      "image/png": "[encoded data removed]",
      "text/plain": [
       "<Figure size 964.8x216 with 3 Axes>"
      ]
     },
     "metadata": {
      "needs_background": "light"
     },
     "output_type": "display_data"
    }
   ],
   "source": [
    "_, (axR, axV, axP) = plt.subplots(ncols=3, figsize=(13.4,3))\n",
    "axR.plot(hist_R)\n",
    "axV.plot(hist_val)\n",
    "axP.plot(hist_prob[:,0])\n",
    "plt.tight_layout()\n",
    "plt.show()"
   ]
  },
  {
   "cell_type": "code",
   "execution_count": null,
   "metadata": {},
   "outputs": [],
   "source": []
  },
  {
   "cell_type": "code",
   "execution_count": null,
   "metadata": {},
   "outputs": [],
   "source": []
  },
  {
   "cell_type": "code",
   "execution_count": null,
   "metadata": {},
   "outputs": [],
   "source": []
  },
  {
   "cell_type": "code",
   "execution_count": null,
   "metadata": {},
   "outputs": [],
   "source": []
  },
  {
   "cell_type": "code",
   "execution_count": null,
   "metadata": {},
   "outputs": [],
   "source": []
  },
  {
   "cell_type": "code",
   "execution_count": 1,
   "metadata": {},
   "outputs": [],
   "source": [
    "import numpy as np\n",
    "import matplotlib.pyplot as plt\n",
    "\n",
    "import matplotlib.patches as patches\n",
    "from collections import defaultdict"
   ]
  },
  {
   "cell_type": "code",
   "execution_count": null,
   "metadata": {},
   "outputs": [],
   "source": []
  },
  {
   "cell_type": "code",
   "execution_count": 2,
   "metadata": {},
   "outputs": [],
   "source": [
    "class LinearEnv:\n",
    "    \"\"\"\n",
    "    State Index:   [ 0    1    2    3    4    5    6 ]\n",
    "    State Label:   [ .    A    B    C    D    E    . ]\n",
    "    Type:          [ T    .    .    S    .    .    T ]    \n",
    "    \"\"\"\n",
    "    V_true =       [0.0, 1/6, 2/6, 3/6, 4/6, 5/6, 0.0]\n",
    "    \n",
    "    def __init__(self):\n",
    "        self.nb_st = (7,)\n",
    "        self.nb_act = 2\n",
    "        self.act_space = [0, 1]  # LEFT = 0, RIGHT = 1\n",
    "        self.reset()\n",
    "\n",
    "    def reset(self):\n",
    "        self._state = np.random.randint(1, 5+1)\n",
    "        self._done = False\n",
    "        return self._state\n",
    "\n",
    "    def step(self, action):\n",
    "        if self._done: raise ValueError('Episode has terminated')\n",
    "        if action not in [0, 1]: raise ValueError('Invalid action')\n",
    "\n",
    "        if action == 0: self._state -= 1\n",
    "        if action == 1: self._state += 1\n",
    "            \n",
    "        reward = -1\n",
    "        if self._state < 1: self._done = True\n",
    "        if self._state > 5: self._done = True\n",
    "                \n",
    "        return self._state, reward, self._done, None  # obs, rew, done, debug"
   ]
  },
  {
   "cell_type": "code",
   "execution_count": 23,
   "metadata": {},
   "outputs": [],
   "source": [
    "class WindyGridworld:\n",
    "    def __init__(self):\n",
    "        self.nb_st = (10, 7)\n",
    "        self.nb_act = 4\n",
    "        self.act_space = [0, 1, 2, 3]  # LEFT = 0, DOWN = 1, RIGHT = 2, UP = 3\n",
    "        self.reset()\n",
    "        \n",
    "    def reset(self):\n",
    "        self._x, self._y = 0, 3        # agent initial position\n",
    "        return (0, 3)\n",
    "        \n",
    "    def step(self, action):\n",
    "        # actions: LEFT = 0, DOWN = 1, RIGHT = 2, UP = 3\n",
    "        self._x, self._y = self.transition(self._x, self._y, action)\n",
    "        \n",
    "        if self._x == 7 and self._y == 3:              # GOAL reached\n",
    "            return (self._x, self._y), -1, True, None  # obs, rew, done, debug\n",
    "        return (self._x, self._y), -1, False, None     # obs, rew, done, debug\n",
    "        \n",
    "    def transition(self, x, y, action):\n",
    "        \"\"\"Perform transition from [x,y] given action\"\"\"\n",
    "        \n",
    "        if x in [3,4,5,8]:  y += 1    # windy\n",
    "        if x in [6,7]:      y += 2    # woo, very windy\n",
    "        \n",
    "        if action == 0:    x -= 1     # left\n",
    "        elif action == 1:  y -= 1     # down\n",
    "        elif action == 2:  x += 1     # right\n",
    "        elif action == 3:  y += 1     # up\n",
    "        else: print('act', action); raise ValueError('Action must be in [0,1,2,3]')\n",
    "            \n",
    "        x = np.clip(x, 0, 9)   # x range is [0..9]\n",
    "        y = np.clip(y, 0, 6)   # y range is [0..6]\n",
    "        return x, y\n",
    "    \n",
    "    def get_path(self, Q):\n",
    "        x, y = 0, 3       # agent starting position\n",
    "        path = [(x, y)]   # save starting position\n",
    "        for _ in range(100):  # limit steps in case policy is loopy\n",
    "            A_star = np.argmax([Q[(x,y)][a] for a in [0, 1, 2, 3]])   # pick best action\n",
    "            x, y = self.transition(x, y, A_star)         # take one step\n",
    "            path.append((x,y))                            # save to path\n",
    "            if x == 7 and y == 3:  break                 # if goal: break\n",
    "        return path"
   ]
  },
  {
   "cell_type": "code",
   "execution_count": 55,
   "metadata": {},
   "outputs": [],
   "source": [
    "def plot_windy(Q=None, path=None, saveimg=None):\n",
    "    \"\"\"Plot windy gridworld.\n",
    "    \n",
    "    Will plot optimal action for each cell, according to 'Q'\n",
    "    and blue line following 'path' parameter\n",
    "    \n",
    "    Params:\n",
    "        Q    - optional, dictionary mappting [(x,y),action] -> float\n",
    "        path - optional, list [(x1,y1), (x2,y2), ...] of agent steps\n",
    "    \"\"\"\n",
    "    fig = plt.figure()\n",
    "    ax = fig.add_subplot(111)\n",
    "\n",
    "    ax.set_xlim(-.5, 9.5)\n",
    "    ax.set_ylim(-.5, 6.5)\n",
    "    ax.set_yticks([])\n",
    "    ax.set_xticks(     [0, 1, 2, 3, 4, 5, 6, 7, 8, 9])\n",
    "    ax.set_xticklabels([0, 0, 0, 1, 1, 1, 2, 2, 1, 0])\n",
    "\n",
    "    ax.text(0, 3, 'S', fontsize=18, horizontalalignment='center', verticalalignment='center')\n",
    "    ax.text(7, 3, 'G', fontsize=18, horizontalalignment='center', verticalalignment='center')\n",
    "    \n",
    "    for x in range(10):\n",
    "        for y in range(7):\n",
    "            ax.add_patch(patches.Rectangle([x-0.5, y-0.5], 1, 1, fill=False))  # cells\n",
    "\n",
    "            if Q is not None:\n",
    "                params = {'head_width':0.2, 'head_length':0.2, 'color':'gray', 'alpha':.2}\n",
    "                A_star = np.argmax([Q[(x,y)][a] for a in [0, 1, 2, 3]])  # pick best action\n",
    "                if A_star == 3:    ax.arrow(x, y, 0,  .1, **params)  # up\n",
    "                elif A_star == 1:  ax.arrow(x, y, 0, -.1, **params)  # down\n",
    "                elif A_star == 0:  ax.arrow(x, y, -.1, 0, **params)  # left\n",
    "                elif A_star == 2:  ax.arrow(x, y,  .1, 0, **params)  # right\n",
    "\n",
    "    if path is not None:\n",
    "        for i in range(len(path)-1):\n",
    "            x, y = path[i]\n",
    "            x_, y_ = path[i+1]\n",
    "            ax.plot([x, x_], [y, y_], color='blue', alpha=1.)\n",
    "\n",
    "    plt.tight_layout()\n",
    "    if saveimg is not None:\n",
    "        plt.savefig(saveimg)\n",
    "    plt.show()"
   ]
  },
  {
   "cell_type": "code",
   "execution_count": null,
   "metadata": {},
   "outputs": [],
   "source": []
  },
  {
   "cell_type": "code",
   "execution_count": 33,
   "metadata": {},
   "outputs": [],
   "source": [
    "nS = (2, 3)\n",
    "nA = 4\n",
    "S = (1, 2)\n",
    "A = 3"
   ]
  },
  {
   "cell_type": "code",
   "execution_count": null,
   "metadata": {},
   "outputs": [],
   "source": [
    "nS = (3,)\n",
    "nA = 4\n",
    "S = 2\n",
    "A = 3"
   ]
  },
  {
   "cell_type": "code",
   "execution_count": null,
   "metadata": {},
   "outputs": [],
   "source": [
    "N = np.zeros((*nS, nA))\n",
    "N"
   ]
  },
  {
   "cell_type": "code",
   "execution_count": null,
   "metadata": {},
   "outputs": [],
   "source": [
    "N.shape"
   ]
  },
  {
   "cell_type": "code",
   "execution_count": 40,
   "metadata": {},
   "outputs": [
    {
     "data": {
      "text/plain": [
       "0.0"
      ]
     },
     "execution_count": 40,
     "metadata": {},
     "output_type": "execute_result"
    }
   ],
   "source": [
    "N[S][A]"
   ]
  },
  {
   "cell_type": "code",
   "execution_count": 44,
   "metadata": {},
   "outputs": [],
   "source": [
    "N[S][A] += 1"
   ]
  },
  {
   "cell_type": "code",
   "execution_count": null,
   "metadata": {},
   "outputs": [],
   "source": []
  },
  {
   "cell_type": "code",
   "execution_count": null,
   "metadata": {},
   "outputs": [],
   "source": [
    "N.ndim"
   ]
  },
  {
   "cell_type": "code",
   "execution_count": null,
   "metadata": {},
   "outputs": [],
   "source": [
    "np.flatnonzero()"
   ]
  },
  {
   "cell_type": "code",
   "execution_count": null,
   "metadata": {},
   "outputs": [],
   "source": []
  },
  {
   "cell_type": "code",
   "execution_count": 10,
   "metadata": {},
   "outputs": [],
   "source": [
    "def argmax_rand(arr):\n",
    "    \"\"\"Break ties randomly, (np.argmax always picks first max).\"\"\"\n",
    "    return np.random.choice(np.flatnonzero(arr == np.max(arr)))"
   ]
  },
  {
   "cell_type": "code",
   "execution_count": 78,
   "metadata": {},
   "outputs": [],
   "source": [
    "def sarsa(env, ep, gamma, alpha, eps):\n",
    "    \"\"\"Sarsa (on-policy TD control)\n",
    "    \n",
    "    Params:\n",
    "        env - environment\n",
    "        ep - number of episodes to run\n",
    "        gamma - discount factor [0..1]\n",
    "        alpha - step size (0..1]\n",
    "        eps - epsilon-greedy param\n",
    "    \"\"\"\n",
    "    def policy(st, Q, eps):\n",
    "        if np.random.rand() > eps:\n",
    "            X = argmax_rand(Q[st])\n",
    "        else:\n",
    "            X = np.random.randint(env.nb_act)\n",
    "        return X\n",
    "    \n",
    "    Q = np.zeros((*env.nb_st, env.nb_act))  # default zero for all\n",
    "    N = np.zeros((*env.nb_st, env.nb_act))\n",
    "    \n",
    "    for _ in range(ep):\n",
    "        S = env.reset()\n",
    "        A = policy(S, Q, eps)\n",
    "        while True:\n",
    "            S_, R, done, _ = env.step(A)\n",
    "            A_ = policy(S_, Q, eps)\n",
    "            Q_next = Q[S_][A_] if not done else 0.0\n",
    "            assert not done or Q_next == 0.0\n",
    "            Q[S][A] = Q[S][A] + alpha * (R + gamma * Q_next - Q[S][A])\n",
    "            N[S][A] += 1\n",
    "            S, A = S_, A_\n",
    "            if done: break\n",
    "                \n",
    "    return Q, N"
   ]
  },
  {
   "cell_type": "code",
   "execution_count": null,
   "metadata": {},
   "outputs": [],
   "source": []
  },
  {
   "cell_type": "code",
   "execution_count": null,
   "metadata": {},
   "outputs": [],
   "source": [
    "def on_policy_MC_control(env, ep, gamma, eps):\n",
    "    \"\"\"Monte Carlo ES Control\n",
    "    Params:\n",
    "        env - environment\n",
    "        ep [int] - number of episodes to run\n",
    "        gamma [float] - discount factor\n",
    "        eps [float] - epsilon-greedy parameter\n",
    "    \"\"\"\n",
    "    def generate_episode(env, policy, *params):\n",
    "        \"\"\"Generete one complete episode.\n",
    "        Returns:\n",
    "            trajectory: list of tuples [(st, rew, done, act), (...), (...)]\n",
    "            T: index of terminal state, NOT length of trajectory\n",
    "        \"\"\"\n",
    "        trajectory = []\n",
    "        done = True\n",
    "        while True:\n",
    "            # === time step starts here ===\n",
    "            if done:  St, Rt, done    = env.reset(), None, False\n",
    "            else:     St, Rt, done, _ = env.step(At)\n",
    "            At = policy(St, *params)        \n",
    "            trajectory.append((St, Rt, done, At))\n",
    "            if done:  break\n",
    "            # === time step ends here ===\n",
    "        return trajectory, len(trajectory)-1\n",
    "\n",
    "    def policy(St, Q, eps):\n",
    "        if np.random.rand() > eps:\n",
    "            return argmax_rand([Q[(St,a)] for a in env.act_space])\n",
    "        else:\n",
    "            return np.random.choice(env.act_space)\n",
    "    \n",
    "    Q = defaultdict(float)        # default Q value: 0\n",
    "    Counts = defaultdict(int)\n",
    "    Returns = defaultdict(float)  # stores SUM\n",
    "    \n",
    "    for _ in range(ep):\n",
    "        traj, T = generate_episode(env, policy, Q, eps)\n",
    "        G = 0\n",
    "        for t in range(T-1,-1,-1):\n",
    "            St, _, _, At = traj[t]      # (st, rew, done, act)\n",
    "            _, Rt_1, _, _ = traj[t+1]\n",
    "            \n",
    "            G = gamma * G + Rt_1\n",
    "            \n",
    "            # Do away with first-visit check\n",
    "            # if not (St, At) in [(traj[i][0], traj[i][3]) for i in range(0, t)]:\n",
    "            Counts[(St, At)]  += 1\n",
    "            Returns[(St, At)] += G\n",
    "            Q[(St, At)] = Returns[(St, At)] / Counts[(St, At)]\n",
    "                                    \n",
    "    return Q, Counts"
   ]
  },
  {
   "cell_type": "code",
   "execution_count": null,
   "metadata": {},
   "outputs": [],
   "source": [
    "def get_V(state_Q_values, eps):\n",
    "    assert isinstance(state_Q_values, list)\n",
    "    assert all(isinstance(f, float) for f in state_Q_values)\n",
    "    index_max = argmax_rand(state_Q_values)\n",
    "    max_val = state_Q_values[index_max]\n",
    "    avg_val = sum([q for q in state_Q_values]) / len(state_Q_values)\n",
    "    return (1-eps)*max_val + eps*avg_val\n",
    "\n",
    "assert get_V([0.0, 1.0, 0.0, 0.0], eps=0.1) == 0.925\n",
    "assert get_V([-1.0, -1.0, 2.0, 0.0], eps=0.1) == 1.8\n",
    "assert get_V([1.0, 2.0, 3.0, 4.0], eps=0.1) == 3.85"
   ]
  },
  {
   "cell_type": "code",
   "execution_count": null,
   "metadata": {},
   "outputs": [],
   "source": []
  },
  {
   "cell_type": "code",
   "execution_count": 79,
   "metadata": {},
   "outputs": [],
   "source": [
    "env = LinearEnv()\n",
    "Q, N = sarsa(env, 1000, gamma=1., alpha=.5, eps=.1)"
   ]
  },
  {
   "cell_type": "code",
   "execution_count": null,
   "metadata": {},
   "outputs": [],
   "source": [
    "env = LinearEnv()\n",
    "Q, N = on_policy_MC_control(env, 10000, gamma=1., eps=.1)"
   ]
  },
  {
   "cell_type": "code",
   "execution_count": 80,
   "metadata": {},
   "outputs": [
    {
     "name": "stdout",
     "output_type": "stream",
     "text": [
      "0 0.0\n",
      "1 -1.164597019832941\n",
      "2 -2.473676872132595\n",
      "3 -3.89514976627382\n",
      "4 -2.2188612883761145\n",
      "5 -1.147764931331948\n",
      "6 0.0\n"
     ]
    }
   ],
   "source": [
    "V = np.zeros(7)\n",
    "N_ = np.zeros(7)\n",
    "for x in range(7):\n",
    "    q_0, q_1 = Q[(x,0)], Q[(x,1)]\n",
    "    v = get_V([q_0, q_1], eps=0.1)\n",
    "    V[x] = v\n",
    "    N_[x] = N[(x,0)] + N[(x,1)]\n",
    "    print(x, v)"
   ]
  },
  {
   "cell_type": "code",
   "execution_count": 81,
   "metadata": {},
   "outputs": [
    {
     "data": {
      "text/plain": [
       "<matplotlib.colorbar.Colorbar at 0x7feb863fcd90>"
      ]
     },
     "execution_count": 81,
     "metadata": {},
     "output_type": "execute_result"
    },
    {
     "data": {
      "image/png": "[encoded data removed]",
      "text/plain": [
       "<Figure size 432x288 with 2 Axes>"
      ]
     },
     "metadata": {
      "needs_background": "light"
     },
     "output_type": "display_data"
    }
   ],
   "source": [
    "plt.imshow(np.expand_dims(V.T, axis=0))\n",
    "plt.colorbar()"
   ]
  },
  {
   "cell_type": "code",
   "execution_count": 82,
   "metadata": {},
   "outputs": [
    {
     "data": {
      "text/plain": [
       "<matplotlib.colorbar.Colorbar at 0x7feb863adfd0>"
      ]
     },
     "execution_count": 82,
     "metadata": {},
     "output_type": "execute_result"
    },
    {
     "data": {
      "image/png": "[encoded data removed]",
      "text/plain": [
       "<Figure size 432x288 with 2 Axes>"
      ]
     },
     "metadata": {
      "needs_background": "light"
     },
     "output_type": "display_data"
    }
   ],
   "source": [
    "plt.imshow(np.expand_dims(N_.T, axis=0), cmap='plasma')\n",
    "plt.colorbar()"
   ]
  },
  {
   "cell_type": "code",
   "execution_count": 83,
   "metadata": {},
   "outputs": [
    {
     "data": {
      "text/plain": [
       "[<matplotlib.lines.Line2D at 0x7feb86324850>]"
      ]
     },
     "execution_count": 83,
     "metadata": {},
     "output_type": "execute_result"
    },
    {
     "data": {
      "image/png": "[encoded data removed]",
      "text/plain": [
       "<Figure size 432x288 with 1 Axes>"
      ]
     },
     "metadata": {
      "needs_background": "light"
     },
     "output_type": "display_data"
    }
   ],
   "source": [
    "plt.plot(V)"
   ]
  },
  {
   "cell_type": "code",
   "execution_count": null,
   "metadata": {},
   "outputs": [],
   "source": []
  },
  {
   "cell_type": "code",
   "execution_count": null,
   "metadata": {},
   "outputs": [],
   "source": []
  },
  {
   "cell_type": "code",
   "execution_count": null,
   "metadata": {},
   "outputs": [],
   "source": []
  },
  {
   "cell_type": "code",
   "execution_count": 84,
   "metadata": {},
   "outputs": [],
   "source": [
    "env = WindyGridworld()\n",
    "Q, N = sarsa(env, 1000, gamma=1., alpha=.5, eps=.3)"
   ]
  },
  {
   "cell_type": "code",
   "execution_count": null,
   "metadata": {},
   "outputs": [],
   "source": []
  },
  {
   "cell_type": "code",
   "execution_count": null,
   "metadata": {},
   "outputs": [],
   "source": [
    "env = WindyGridworld()\n",
    "Q, N = on_policy_MC_control(env, 10, gamma=1., eps=.3)"
   ]
  },
  {
   "cell_type": "code",
   "execution_count": 85,
   "metadata": {},
   "outputs": [
    {
     "data": {
      "image/png": "[encoded data removed]",
      "text/plain": [
       "<Figure size 432x288 with 1 Axes>"
      ]
     },
     "metadata": {
      "needs_background": "light"
     },
     "output_type": "display_data"
    }
   ],
   "source": [
    "optimal_path = env.get_path(Q)\n",
    "plot_windy(Q, optimal_path)"
   ]
  },
  {
   "cell_type": "code",
   "execution_count": 86,
   "metadata": {},
   "outputs": [],
   "source": [
    "V_ = np.zeros((6, 9))\n",
    "N_ = np.zeros((6, 9))\n",
    "for x in range(9):\n",
    "    for y in range(6):\n",
    "        q_0, q_1, q_2, q_3 = Q[(x,y)][0], Q[(x,y)][1], Q[(x,y)][2], Q[(x,y)][3]\n",
    "        v = get_V([q_0, q_1, q_2, q_3], eps=.1)\n",
    "        V_[y, x] = v\n",
    "        N_[y, x] = N[(x,y)][0] + N[(x,y)][1] + N[(x,y)][2] + N[(x,y)][3]"
   ]
  },
  {
   "cell_type": "code",
   "execution_count": 87,
   "metadata": {},
   "outputs": [
    {
     "data": {
      "text/plain": [
       "<matplotlib.colorbar.Colorbar at 0x7feb86941210>"
      ]
     },
     "execution_count": 87,
     "metadata": {},
     "output_type": "execute_result"
    },
    {
     "data": {
      "image/png": "[encoded data removed]",
      "text/plain": [
       "<Figure size 432x288 with 2 Axes>"
      ]
     },
     "metadata": {
      "needs_background": "light"
     },
     "output_type": "display_data"
    }
   ],
   "source": [
    "plt.imshow(V_, origin='lower')\n",
    "plt.colorbar()"
   ]
  },
  {
   "cell_type": "code",
   "execution_count": 88,
   "metadata": {},
   "outputs": [
    {
     "data": {
      "text/plain": [
       "<matplotlib.colorbar.Colorbar at 0x7feb8688eed0>"
      ]
     },
     "execution_count": 88,
     "metadata": {},
     "output_type": "execute_result"
    },
    {
     "data": {
      "image/png": "[encoded data removed]",
      "text/plain": [
       "<Figure size 432x288 with 2 Axes>"
      ]
     },
     "metadata": {
      "needs_background": "light"
     },
     "output_type": "display_data"
    }
   ],
   "source": [
    "plt.imshow(N_, origin='lower')\n",
    "plt.colorbar()"
   ]
  },
  {
   "cell_type": "code",
   "execution_count": null,
   "metadata": {},
   "outputs": [],
   "source": []
  },
  {
   "cell_type": "code",
   "execution_count": null,
   "metadata": {},
   "outputs": [],
   "source": []
  },
  {
   "cell_type": "code",
   "execution_count": null,
   "metadata": {},
   "outputs": [],
   "source": []
  }
 ],
 "metadata": {
  "kernelspec": {
   "display_name": "Python 3",
   "language": "python",
   "name": "python3"
  },
  "language_info": {
   "codemirror_mode": {
    "name": "ipython",
    "version": 3
   },
   "file_extension": ".py",
   "mimetype": "text/x-python",
   "name": "python",
   "nbconvert_exporter": "python",
   "pygments_lexer": "ipython3",
   "version": "3.7.4"
  }
 },
 "nbformat": 4,
 "nbformat_minor": 4
}
