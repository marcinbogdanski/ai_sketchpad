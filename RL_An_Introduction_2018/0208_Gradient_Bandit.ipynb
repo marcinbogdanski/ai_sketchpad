{
 "cells": [
  {
   "cell_type": "markdown",
   "metadata": {},
   "source": [
    "<br/>\n",
    "\n",
    "$$ \\huge{\\underline{\\textbf{ Gradient Bandit }}} $$\n",
    "\n",
    "<br/>\n",
    "\n",
    "<center>Implementation of <b>Gradient Bandit</b></center>\n",
    "<center>from Sutton and Barto 2018, <b>chapter 2.8</b>.</center>\n",
    "<center>Book available for free <a href=\"http://incompleteideas.net/book/the-book-2nd.html\">here</a></center>\n",
    "\n",
    "<br/>\n",
    "\n",
    "Gradient Bandit uses action preferences and soft-max distribution for action selection. See book equations (2.11) and (2.12).\n",
    "\n",
    "$$ Pr\\{A_t=a\\} \\doteq \\frac{e^{H_t(a)}}{\\sum_{b=1}^k e^{H_t(b)}} \\doteq \\pi_t(a) $$\n",
    "\n",
    "$$ H_{t+1}(A_t) \\doteq H_t(A_t) + \\alpha(R_t-\\bar{R_t})(1-\\pi_t(A_t))  $$\n",
    "\n",
    "$$ H_{t+1}(a) \\doteq H_t(a) - \\alpha(R_t-\\bar{R_t})\\pi_t(a) \\quad \\text{for all} \\quad a \\neq A_t $$\n",
    "\n",
    "<br/>"
   ]
  },
  {
   "cell_type": "code",
   "execution_count": 1,
   "metadata": {},
   "outputs": [],
   "source": [
    "def gradient_bandit(env, nb, alpha, baseline):\n",
    "    H = np.zeros(env.size)\n",
    "    R_, N_ = 0.0, 0.0\n",
    "    hist_A = []\n",
    "    hist_R = []\n",
    "    \n",
    "    for _ in range(nb):\n",
    "        pi = softmax(H)\n",
    "        A = np.random.choice(range(env.size), p=pi)\n",
    "        R = env.step(A)\n",
    "        \n",
    "        H_new = H - alpha*(R-R_)*pi               # for all a =/= A\n",
    "        H_new[A] = H[A] + alpha*(R-R_)*(1-pi[A])  # for a == A\n",
    "        H = H_new\n",
    "        \n",
    "        if baseline:\n",
    "            N_ += 1\n",
    "            R_ += 1/N_ * (R-R_)\n",
    "        \n",
    "        hist_A.append(A)\n",
    "        hist_R.append(R)\n",
    "        \n",
    "    return H, np.array(hist_A), np.array(hist_R)"
   ]
  },
  {
   "cell_type": "markdown",
   "metadata": {},
   "source": [
    "Helper functions:"
   ]
  },
  {
   "cell_type": "code",
   "execution_count": 2,
   "metadata": {},
   "outputs": [],
   "source": [
    "def softmax(x):\n",
    "    \"\"\"Numerically stable softmax\"\"\"\n",
    "    ex = np.exp(x - np.max(x))\n",
    "    return ex / np.sum(ex)"
   ]
  },
  {
   "cell_type": "markdown",
   "metadata": {},
   "source": [
    "---"
   ]
  },
  {
   "cell_type": "markdown",
   "metadata": {},
   "source": [
    "<table>\n",
    "    <tr>\n",
    "        <td style=\"border-color: white;\"><img src=\"assets/fig_0205.png\"/></td>\n",
    "    </tr>\n",
    "    <tr>\n",
    "        <td style=\"border-color: white;\"><center>Figure 2.5<center/></td>\n",
    "    </tr>\n",
    "</table>"
   ]
  },
  {
   "cell_type": "markdown",
   "metadata": {},
   "source": [
    "# Experiment Setup"
   ]
  },
  {
   "cell_type": "code",
   "execution_count": 3,
   "metadata": {},
   "outputs": [],
   "source": [
    "import numpy as np\n",
    "import matplotlib.pyplot as plt"
   ]
  },
  {
   "cell_type": "markdown",
   "metadata": {},
   "source": [
    "Environment"
   ]
  },
  {
   "cell_type": "code",
   "execution_count": 4,
   "metadata": {},
   "outputs": [],
   "source": [
    "class BanditEnv:\n",
    "    def __init__(self):\n",
    "        \"\"\"10-armed testbed, see chapter 2.3\"\"\"\n",
    "        self.size = 10                                        # 10 arms\n",
    "        self.offset = 4\n",
    "        self.means = np.random.normal(loc=self.offset, scale=1.0, size=self.size)\n",
    "    def step(self, action):\n",
    "        return np.random.normal(loc=self.means[action])"
   ]
  },
  {
   "cell_type": "markdown",
   "metadata": {},
   "source": [
    "# Recreate Figure 2.5"
   ]
  },
  {
   "cell_type": "markdown",
   "metadata": {},
   "source": [
    "Generate data"
   ]
  },
  {
   "cell_type": "code",
   "execution_count": 5,
   "metadata": {},
   "outputs": [
    {
     "name": "stdout",
     "output_type": "stream",
     "text": [
      "v                  v\n",
      "...................."
     ]
    }
   ],
   "source": [
    "runs_base_a01 = []      #  with baseline, alpha=0.1\n",
    "runs_base_a04 = []      #  with baseline, alpha=0.4\n",
    "runs_wout_a01 = []      #  without baseline, alpha=0.1\n",
    "runs_wout_a04 = []      #  without baseline, alpha=0.4\n",
    "\n",
    "\n",
    "print('v' + ' '*18 + 'v')  # poor man tqdm\n",
    "for i in range(2000):\n",
    "    env = BanditEnv()\n",
    "    max_A = np.argmax(env.means)\n",
    "    \n",
    "    _, hist_A, _ = gradient_bandit(env, nb=1000, alpha=0.1, baseline=True)\n",
    "    runs_base_a01.append(hist_A==max_A)\n",
    "    \n",
    "    _, hist_A, _ = gradient_bandit(env, nb=1000, alpha=0.4, baseline=True)\n",
    "    runs_base_a04.append(hist_A==max_A)\n",
    "    \n",
    "    _, hist_A, _ = gradient_bandit(env, nb=1000, alpha=0.1, baseline=False)\n",
    "    runs_wout_a01.append(hist_A==max_A)\n",
    "    \n",
    "    _, hist_A, _ = gradient_bandit(env, nb=1000, alpha=0.4, baseline=False)\n",
    "    runs_wout_a04.append(hist_A==max_A)\n",
    "    \n",
    "    if i % 100 == 0: print('.', end='')\n",
    "            \n",
    "runs_base_a01 = np.array(runs_base_a01)\n",
    "runs_base_a04 = np.array(runs_base_a04)\n",
    "runs_wout_a01 = np.array(runs_wout_a01)\n",
    "runs_wout_a04 = np.array(runs_wout_a04)"
   ]
  },
  {
   "cell_type": "code",
   "execution_count": 6,
   "metadata": {},
   "outputs": [],
   "source": [
    "# Calc \"% optimal action\"\n",
    "opt_base_a01 = np.average(runs_base_a01, axis=0)\n",
    "opt_base_a04 = np.average(runs_base_a04, axis=0)\n",
    "opt_wout_a01 = np.average(runs_wout_a01, axis=0)\n",
    "opt_wout_a04 = np.average(runs_wout_a04, axis=0)"
   ]
  },
  {
   "cell_type": "markdown",
   "metadata": {},
   "source": [
    "Plot figure 2.5"
   ]
  },
  {
   "cell_type": "code",
   "execution_count": 7,
   "metadata": {},
   "outputs": [
    {
     "data": {
      "image/png": "[encoded data removed]",
      "text/plain": [
       "<Figure size 432x288 with 1 Axes>"
      ]
     },
     "metadata": {
      "needs_background": "light"
     },
     "output_type": "display_data"
    }
   ],
   "source": [
    "fig = plt.figure()\n",
    "ax = fig.add_subplot(111)\n",
    "ax.plot(opt_base_a01,    linewidth=1., color='blue', label='with b., a=0.1')\n",
    "ax.plot(opt_base_a04,    linewidth=1., color='lightblue', label='with b., a=0.4')\n",
    "ax.plot(opt_wout_a01,    linewidth=1., color='brown', label='w/o b., a=0.1')\n",
    "ax.plot(opt_wout_a04,    linewidth=1., color='brown', alpha=0.5, label='w/o b., a=0.4')\n",
    "ax.set_xlabel('Steps'); ax.set_ylabel('% Optimal Action')\n",
    "ax.set_ylim((0.0, 1.0))\n",
    "ax.legend()\n",
    "plt.tight_layout()\n",
    "plt.savefig('assets/fig_0208.png')\n",
    "plt.show()"
   ]
  }
 ],
 "metadata": {
  "kernelspec": {
   "display_name": "Python 3",
   "language": "python",
   "name": "python3"
  },
  "language_info": {
   "codemirror_mode": {
    "name": "ipython",
    "version": 3
   },
   "file_extension": ".py",
   "mimetype": "text/x-python",
   "name": "python",
   "nbconvert_exporter": "python",
   "pygments_lexer": "ipython3",
   "version": "3.7.4"
  }
 },
 "nbformat": 4,
 "nbformat_minor": 4
}
