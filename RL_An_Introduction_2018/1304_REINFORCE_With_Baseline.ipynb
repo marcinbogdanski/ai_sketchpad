{
 "cells": [
  {
   "cell_type": "markdown",
   "metadata": {},
   "source": [
    "<br/>\n",
    "\n",
    "$$ \\huge{\\underline{\\textbf{ REINFORCE with Baseline }}} $$\n",
    "\n",
    "<br/>\n",
    "\n",
    "<center>Implementation of <b>REINFORCE with Baseline</b> algorithm</center>\n",
    "<center>from Sutton and Barto 2018, <b>chapter 13.4</b>.</center>\n",
    "<center>Book available for free <a href=\"http://incompleteideas.net/book/the-book-2nd.html\">here</a></center>\n",
    "\n",
    "<br/>\n",
    "\n",
    "<img src=\"assets/1304_REINFORCE_With_Baseline.png\"/>\n",
    "<center> From Sutton and Barto (2018) _Reinforcement Learning: An Introduction_, chapter 13.4 </center>\n",
    "\n",
    "<br/>"
   ]
  },
  {
   "cell_type": "markdown",
   "metadata": {},
   "source": [
    "Implementation of REINFORCE algorithm."
   ]
  },
  {
   "cell_type": "code",
   "execution_count": 1,
   "metadata": {},
   "outputs": [],
   "source": [
    "def REINFORCE_with_baseline(env, ep, gamma, alpha_w, alpha_theta, baseline, init_theta=None):\n",
    "    \"\"\"REINFORCE algorithm.\n",
    "    \n",
    "    Params:\n",
    "        env: OpenAI-like environment\n",
    "        ep (int): number of episodes to run\n",
    "        gamma (float): discount factor\n",
    "        alpha_w (float): learning rate for state-value function\n",
    "        alpha_theta (float): learning rate for policy\n",
    "        init_theta (np.array): initialize policy weights, default np.zeros()\n",
    "    \"\"\"\n",
    "    def policy(st, pi):\n",
    "        return np.random.choice(range(env.nb_actions), p=pi.pi(st))\n",
    "\n",
    "    hist_R = []\n",
    "    hist_val = []\n",
    "    hist_prob = []\n",
    "    \n",
    "    v_hat = TabularStateValueFunction(lr=alpha_w, nb_states=env.nb_states)\n",
    "    pi = TabularSoftmaxPolicy(lr=alpha_theta,\n",
    "                              nb_states=env.nb_states,\n",
    "                              nb_actions=env.nb_actions,\n",
    "                              init_theta=init_theta)\n",
    "\n",
    "    for e_ in range(ep):\n",
    "        # traj = [(st, rew, done, act), (st, rew, done, act), ...]\n",
    "        traj, T = generate_episode(env, policy, pi)\n",
    "        \n",
    "        R_sum = traj[T][1]\n",
    "        for t in range(0, T):\n",
    "            St, Rt, _, At = traj[t]      # (st, rew, done, act)\n",
    "            Gt = sum([gamma**(k-t-1) * traj[k][1] for k in range(t+1, T+1)])\n",
    "            v_hat.train(St, Gt)          # delta calculated internally\n",
    "            delta = Gt - v_hat.evaluate(St) if baseline else Gt\n",
    "            pi.update(St, At, gamma**t * delta)\n",
    "            R_sum += 0 if Rt is None else Rt\n",
    "        \n",
    "        hist_R.append(R_sum)\n",
    "        hist_val.append(v_hat.evaluate(St))\n",
    "        hist_prob.append(pi.pi(St))\n",
    "        \n",
    "    hist_R = np.array(hist_R)\n",
    "    hist_val = np.array(hist_val)\n",
    "    hist_prob = np.array(hist_prob)\n",
    "    \n",
    "    return hist_R, hist_val, hist_prob"
   ]
  },
  {
   "cell_type": "markdown",
   "metadata": {},
   "source": [
    "Helper functions:"
   ]
  },
  {
   "cell_type": "code",
   "execution_count": 2,
   "metadata": {},
   "outputs": [],
   "source": [
    "def generate_episode(env, policy, *params):\n",
    "    \"\"\"Generete one complete episode.\n",
    "    \n",
    "    Returns:\n",
    "        trajectory: list of tuples [(st, rew, done, act), (...), (...)],\n",
    "                    where St can be e.g tuple of ints or anything really\n",
    "        T: index of terminal state, NOT length of trajectory\n",
    "    \"\"\"\n",
    "    trajectory = []\n",
    "    done = True\n",
    "    while True:\n",
    "        # === time step starts here ===\n",
    "        if done:  St, Rt, done    = env.reset(), None, False\n",
    "        else:     St, Rt, done, _ = env.step(At)\n",
    "        At = policy(St, *params)\n",
    "        trajectory.append((St, Rt, done, At))\n",
    "        if done:  break\n",
    "        # === time step ends here ===\n",
    "    return trajectory, len(trajectory)-1"
   ]
  },
  {
   "cell_type": "markdown",
   "metadata": {},
   "source": [
    "<table>\n",
    "    <tr>\n",
    "        <td style=\"border-color: white;\"><img src=\"assets/fig_1302.png\"/></td>\n",
    "    </tr>\n",
    "    <tr>\n",
    "        <td style=\"border-color: white;\"><center>Figure 13.2<center/></td>\n",
    "    </tr>\n",
    "</table>"
   ]
  },
  {
   "cell_type": "markdown",
   "metadata": {},
   "source": [
    "---"
   ]
  },
  {
   "cell_type": "markdown",
   "metadata": {},
   "source": [
    "# Setup"
   ]
  },
  {
   "cell_type": "code",
   "execution_count": 3,
   "metadata": {},
   "outputs": [],
   "source": [
    "import numpy as np\n",
    "import matplotlib.pyplot as plt"
   ]
  },
  {
   "cell_type": "code",
   "execution_count": 4,
   "metadata": {},
   "outputs": [],
   "source": [
    "class CorridorSwitchedEnv:\n",
    "    \"\"\"Short corridor with switched actions. See example 13.1 in the book.\n",
    "    \n",
    "    Note: Small change introduced to terminate after time step 1000\n",
    "          to prevent infinite loop if policy becomes deterministic.\n",
    "    \"\"\"\n",
    "    def __init__(self):\n",
    "        self.nb_states = 1\n",
    "        self.nb_actions = 2\n",
    "        self._state = 0\n",
    "        self._curr_iter = 0\n",
    "        \n",
    "    def reset(self):\n",
    "        self._state = 0\n",
    "        self._curr_iter = 0\n",
    "        return 0    # states are indistinguisable\n",
    "    \n",
    "    def step(self, action):\n",
    "        assert action in [0, 1]    # left, right\n",
    "        \n",
    "        if self._state == 0:\n",
    "            if action == 1:\n",
    "                self._state = 1\n",
    "        elif self._state == 1:\n",
    "            if action == 0:        # left, swapped to right\n",
    "                self._state = 2\n",
    "            else:                  # right, swapped to left\n",
    "                self._state = 0\n",
    "        elif self._state == 2:\n",
    "            if action == 0:\n",
    "                self._state = 1\n",
    "            else:\n",
    "                self._state = 3    # terminal\n",
    "        else:\n",
    "            raise ValueError('Invalid state:', self._state)\n",
    "        \n",
    "        # Terminate at time step = 1000\n",
    "        self._curr_iter += 1\n",
    "        if self._curr_iter >= 1000:\n",
    "            self._state = 3\n",
    "        \n",
    "        if self._state == 3:\n",
    "            return 0, -1, True, None    # obs, reward, done, extra\n",
    "        else:\n",
    "            return 0, -1, False, None"
   ]
  },
  {
   "cell_type": "markdown",
   "metadata": {},
   "source": [
    "# Policy Function"
   ]
  },
  {
   "cell_type": "code",
   "execution_count": 5,
   "metadata": {},
   "outputs": [],
   "source": [
    "def onehot(i, size):\n",
    "    \"\"\"One-hot vector of size 'size'.\"\"\"\n",
    "    vec = np.zeros(size)\n",
    "    vec[i] = 1\n",
    "    return vec"
   ]
  },
  {
   "cell_type": "code",
   "execution_count": 6,
   "metadata": {},
   "outputs": [],
   "source": [
    "def softmax(x):\n",
    "    \"\"\"Numerically stable softmax\"\"\"\n",
    "    ex = np.exp(x - np.max(x))\n",
    "    return ex / np.sum(ex)"
   ]
  },
  {
   "cell_type": "markdown",
   "metadata": {},
   "source": [
    "Mathematically it would be one-hot encoded state dot product with weights. Which can be simplified as a lookup table."
   ]
  },
  {
   "cell_type": "code",
   "execution_count": 7,
   "metadata": {},
   "outputs": [],
   "source": [
    "class TabularStateValueFunction:\n",
    "    \"\"\"Tabular state-value function 'approximator'\"\"\"\n",
    "    def __init__(self, lr, nb_states):\n",
    "        self._lr = lr\n",
    "        self._w = np.zeros(nb_states)\n",
    "    \n",
    "    def evaluate(self, state):\n",
    "        # or onehot(state, nb_states) @ self._w\n",
    "        return self._w[state]\n",
    "    \n",
    "    def train(self, state, target):\n",
    "        value = self.evaluate(state)\n",
    "        self._w[state] += self._lr * (target - value)"
   ]
  },
  {
   "cell_type": "markdown",
   "metadata": {},
   "source": [
    "Same goes for policy function. Linear combination of features with softmax on top is implemented as a lookup table."
   ]
  },
  {
   "cell_type": "code",
   "execution_count": 8,
   "metadata": {},
   "outputs": [],
   "source": [
    "class TabularSoftmaxPolicy:\n",
    "    \"\"\"Tabular action-state function 'approximator'\"\"\"\n",
    "    def __init__(self, lr, nb_states, nb_actions, init_theta=None):\n",
    "        self._lr = lr                                   # learning rate\n",
    "        self.n_act = nb_actions\n",
    "        self._theta = np.zeros((nb_states, nb_actions))  # weights\n",
    "        if init_theta is not None:\n",
    "            assert init_theta.dtype == np.float64\n",
    "            assert init_theta.shape == self._theta.shape\n",
    "            self._theta = init_theta\n",
    "    \n",
    "    def pi(self, state):\n",
    "        \"\"\"Return policy, i.e. probability distribution over actions.\"\"\"\n",
    "        h_vec = self._theta[state]\n",
    "        prob_vec = softmax(h_vec)                     # shape=[n_act], e.q. 13.2\n",
    "        return prob_vec\n",
    "\n",
    "\n",
    "    def update(self, state, action, disc_return):\n",
    "        x_s = np.zeros(self.n_act)\n",
    "        x_s[action] = 1             # feature vector, one-hot\n",
    "        prob = self.pi(state)\n",
    "        grad_s = x_s - prob\n",
    "        self._theta[state] += self._lr * disc_return * grad_s"
   ]
  },
  {
   "cell_type": "markdown",
   "metadata": {},
   "source": [
    "# Recreate figure 13.2"
   ]
  },
  {
   "cell_type": "markdown",
   "metadata": {},
   "source": [
    "We will use multiprocessing to speed things up (by a lot!)"
   ]
  },
  {
   "cell_type": "code",
   "execution_count": 9,
   "metadata": {},
   "outputs": [],
   "source": [
    "import multiprocessing as mp"
   ]
  },
  {
   "cell_type": "code",
   "execution_count": 10,
   "metadata": {},
   "outputs": [],
   "source": [
    "def run_single_experiment(alpha_w, alpha_theta, baseline):\n",
    "    np.random.seed()  # required due to multiprocessing\n",
    "    env = CorridorSwitchedEnv()\n",
    "    hist_R, _, _ = REINFORCE_with_baseline(\n",
    "        env, ep=1000, gamma=1.0, alpha_w=alpha_w, alpha_theta=alpha_theta,\n",
    "        baseline=baseline, init_theta=np.array([[1.47, -1.47]]))\n",
    "    return hist_R"
   ]
  },
  {
   "cell_type": "code",
   "execution_count": 11,
   "metadata": {},
   "outputs": [],
   "source": [
    "def run_multiple_exp(repeat, alpha_w, alpha_theta, baseline):\n",
    "    with mp.Pool(processes=mp.cpu_count()) as pool:\n",
    "        param_list = [(alpha_w, alpha_theta, baseline)] * repeat\n",
    "        results = pool.starmap(run_single_experiment, param_list)\n",
    "        results = np.array(results)         # shape [nb_repeat, nb_episodes]\n",
    "        return np.average(results, axis=0)  # shape [nb_episodes]"
   ]
  },
  {
   "cell_type": "code",
   "execution_count": 12,
   "metadata": {},
   "outputs": [],
   "source": [
    "runs_a13_avg = run_multiple_exp(repeat=100, alpha_w=0.0, alpha_theta=2**-13, baseline=False)\n",
    "runs_aw6_at9_avg = run_multiple_exp(repeat=100, alpha_w=2**-6, alpha_theta=2**-9, baseline=True)"
   ]
  },
  {
   "cell_type": "code",
   "execution_count": 13,
   "metadata": {},
   "outputs": [
    {
     "data": {
      "image/png": "[encoded data removed]",
      "text/plain": [
       "<Figure size 432x288 with 1 Axes>"
      ]
     },
     "metadata": {
      "needs_background": "light"
     },
     "output_type": "display_data"
    }
   ],
   "source": [
    "fig = plt.figure()\n",
    "ax = fig.add_subplot(111)\n",
    "ax.plot(runs_aw6_at9_avg, linewidth=1.0, color='lime',\n",
    "        label='REINFORCE with baseline $\\\\alpha^\\\\theta=2^{-9}$ $\\\\alpha^w=2^{-6}$')\n",
    "ax.plot(runs_a13_avg, linewidth=1.0, color='red', label='REINFORCE $\\\\alpha=2^{-13}$')\n",
    "ax.plot([-11.6]*1000, linewidth=1.0, linestyle='--', color='gray', label='$v_*(s_0)$')\n",
    "ax.set_ylabel('Total reward on episode\\navgeraged over 100 runs')\n",
    "ax.set_xlabel('Episode')\n",
    "ax.legend(prop={'size': 12})\n",
    "plt.tight_layout()\n",
    "plt.savefig('assets/fig_1302.png')\n",
    "plt.show()"
   ]
  }
 ],
 "metadata": {
  "kernelspec": {
   "display_name": "Python 3",
   "language": "python",
   "name": "python3"
  },
  "language_info": {
   "codemirror_mode": {
    "name": "ipython",
    "version": 3
   },
   "file_extension": ".py",
   "mimetype": "text/x-python",
   "name": "python",
   "nbconvert_exporter": "python",
   "pygments_lexer": "ipython3",
   "version": "3.7.4"
  }
 },
 "nbformat": 4,
 "nbformat_minor": 4
}
