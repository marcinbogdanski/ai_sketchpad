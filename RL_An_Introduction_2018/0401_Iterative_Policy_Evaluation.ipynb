{
 "cells": [
  {
   "cell_type": "markdown",
   "metadata": {},
   "source": [
    "<br/>\n",
    "\n",
    "$$ \\huge{\\underline{\\textbf{ Iterative Policy Evaluation }}} $$\n",
    "\n",
    "$$ \\color{red}{ \\large{\\textbf{ WORK IN PROGRESS } }} $$\n",
    "\n",
    "<br/>\n",
    "\n",
    "Implementation of Iterative Policy Evaluation from Sutton and Barto 2018, chapter 4.1\n",
    "\n",
    "<br/>\n",
    "\n",
    "<img src=\"assets/0401_iter_policy_eval.png\"/>\n",
    "\n",
    "<br/>"
   ]
  },
  {
   "cell_type": "code",
   "execution_count": null,
   "metadata": {},
   "outputs": [],
   "source": [
    "# Naive implementation but matches the box exactly\n",
    "def iter_policy_eval(env, policy, gamma, theta):\n",
    "    V = np.zeros(env.nb_states)\n",
    "    \n",
    "    while True:\n",
    "        delta = 0\n",
    "        for s in range(env.nb_states):\n",
    "            v = V[s]\n",
    "            \n",
    "            tmp = 0\n",
    "            for a in range(env.nb_actions):\n",
    "                for p, s_, r, _ in env.model[s][a]:              # see note #1\n",
    "                    tmp += policy[s,a] * p * (r + gamma * V[s_])\n",
    "            V[s] = tmp\n",
    "            \n",
    "            delta = max(delta, abs(v - V[s]))\n",
    "    \n",
    "        if delta < theta: break\n",
    "    \n",
    "    return V"
   ]
  },
  {
   "cell_type": "markdown",
   "metadata": {},
   "source": [
    "### Note #1\n",
    "__env.model__ parameter is taken directly from OpenAI API for FrozenLake-v1 (where it is called __env.P__, see below). It is a nested structure which describes transition probabilities and expected rewards, for example:\n",
    "```\n",
    ">>> env.model[6][0]\n",
    "[(0.3333333333333333, 2, 0.0, False),\n",
    " (0.3333333333333333, 5, 0.0, True),\n",
    " (0.3333333333333333, 10, 0.0, False)]\n",
    "```\n",
    "Has following meaning:\n",
    "* from state 6 and taking action 0, there is __0.33__ probability transitioning to state __2__, with reward __0.0__, transition is non-terminal\n",
    "* from state 6 and taking action 0, there is 0.33 probability transitioning to state 5, with reward 0.0, transition is terminal, MDP ends\n",
    "* from state 6 and taking action 0, there is 0.33 probability transitioning to state 10, with reward 0.0, transition is non-terminal\n",
    "\n",
    "See diagram\n",
    "<img src=\"assets/0401_model_diagram.png\">"
   ]
  },
  {
   "cell_type": "markdown",
   "metadata": {},
   "source": [
    "### More proper version"
   ]
  },
  {
   "cell_type": "markdown",
   "metadata": {},
   "source": [
    "TODO!!"
   ]
  },
  {
   "cell_type": "code",
   "execution_count": null,
   "metadata": {},
   "outputs": [],
   "source": [
    "# Faster, but potentially uses more memory\n",
    "def iter_policy_eval(env, policy, gamma, theta):\n",
    "    V = np.zeros(env.nb_states)\n",
    "    \n",
    "    while True:\n",
    "        delta = 0\n",
    "        for s in range(env.nb_states):\n",
    "            v = V[s]\n",
    "            \n",
    "            tmp = 0\n",
    "            for a in range(env.nb_actions):\n",
    "                for p_, s_, r_, _ in env.model[s][a]:\n",
    "                    tmp += policy[s,a] * p_ * (r_ + gamma*V[s_])\n",
    "            V[s] = tmp\n",
    "            \n",
    "            delta = max(delta, abs(v - V[s]))\n",
    "    \n",
    "        if delta < theta: break\n",
    "    \n",
    "    return V"
   ]
  },
  {
   "cell_type": "markdown",
   "metadata": {},
   "source": [
    "# Experiment Setup"
   ]
  },
  {
   "cell_type": "code",
   "execution_count": 3,
   "metadata": {},
   "outputs": [],
   "source": [
    "import numpy as np\n",
    "import matplotlib.pyplot as plt\n",
    "import gym"
   ]
  },
  {
   "cell_type": "code",
   "execution_count": 4,
   "metadata": {},
   "outputs": [
    {
     "name": "stdout",
     "output_type": "stream",
     "text": [
      "\n",
      "\u001b[41mS\u001b[0mFFF\n",
      "FHFH\n",
      "FFFH\n",
      "HFFG\n"
     ]
    }
   ],
   "source": [
    "env = gym.make('FrozenLake-v0')\n",
    "env.reset()\n",
    "env.render()"
   ]
  },
  {
   "cell_type": "markdown",
   "metadata": {},
   "source": [
    "Rename some members, don't break stuff!"
   ]
  },
  {
   "cell_type": "code",
   "execution_count": 14,
   "metadata": {},
   "outputs": [],
   "source": [
    "assert not hasattr(env, 'nb_states')\n",
    "assert not hasattr(env, 'nb_actions')\n",
    "assert not hasattr(env, 'model')\n",
    "env.nb_states = env.env.nS\n",
    "env.nb_actions = env.env.nA\n",
    "env.model = env.env.P"
   ]
  },
  {
   "cell_type": "code",
   "execution_count": 15,
   "metadata": {},
   "outputs": [],
   "source": [
    "policy = np.ones([env.nb_states, env.nb_actions]) / env.nb_actions"
   ]
  },
  {
   "cell_type": "code",
   "execution_count": 34,
   "metadata": {},
   "outputs": [],
   "source": [
    "V_pi = iter_policy_eval(env, policy, gamma=1.0, theta=0.00001)"
   ]
  },
  {
   "cell_type": "code",
   "execution_count": 35,
   "metadata": {},
   "outputs": [
    {
     "name": "stdout",
     "output_type": "stream",
     "text": [
      "[[0.014 0.012 0.021 0.01 ]\n",
      " [0.016 0.    0.041 0.   ]\n",
      " [0.035 0.088 0.142 0.   ]\n",
      " [0.    0.176 0.439 0.   ]]\n"
     ]
    }
   ],
   "source": [
    "print(V_pi.reshape([4, -1]).round(3))"
   ]
  },
  {
   "cell_type": "code",
   "execution_count": 38,
   "metadata": {},
   "outputs": [
    {
     "data": {
      "text/plain": [
       "[(0.3333333333333333, 0, 0.0, False),\n",
       " (0.3333333333333333, 0, 0.0, False),\n",
       " (0.3333333333333333, 4, 0.0, False)]"
      ]
     },
     "execution_count": 38,
     "metadata": {},
     "output_type": "execute_result"
    }
   ],
   "source": [
    "env.model[0][0]"
   ]
  },
  {
   "cell_type": "code",
   "execution_count": null,
   "metadata": {},
   "outputs": [],
   "source": []
  }
 ],
 "metadata": {
  "kernelspec": {
   "display_name": "Python 3",
   "language": "python",
   "name": "python3"
  },
  "language_info": {
   "codemirror_mode": {
    "name": "ipython",
    "version": 3
   },
   "file_extension": ".py",
   "mimetype": "text/x-python",
   "name": "python",
   "nbconvert_exporter": "python",
   "pygments_lexer": "ipython3",
   "version": "3.6.5"
  }
 },
 "nbformat": 4,
 "nbformat_minor": 2
}
