{
 "cells": [
  {
   "cell_type": "markdown",
   "metadata": {},
   "source": [
    "<br/>\n",
    "\n",
    "$$ \\huge{\\underline{\\textbf{ Iterative Policy Evaluation }}} $$\n",
    "\n",
    "<br/>\n",
    "\n",
    "<center> Implementation of Iterative Policy Evaluation from Sutton and Barto 2018, chapter 4.1 </center>\n",
    "\n",
    "<br/>\n",
    "\n",
    "<img src=\"assets/0401_iter_policy_eval.png\"/>\n",
    "\n",
    "<br/>"
   ]
  },
  {
   "cell_type": "code",
   "execution_count": 1,
   "metadata": {},
   "outputs": [],
   "source": [
    "# Naive implementation (for loops are slow), but matches the box exactly\n",
    "def iter_policy_eval(env, policy, gamma, theta):\n",
    "    V = np.zeros(env.nb_states)\n",
    "    \n",
    "    while True:\n",
    "        delta = 0\n",
    "        for s in range(env.nb_states):\n",
    "            v = V[s]\n",
    "            \n",
    "            tmp = 0\n",
    "            for a in range(env.nb_actions):\n",
    "                for p, s_, r, _ in env.model[s][a]:                   # see note #1 !\n",
    "                    # p  - transition probability from (s,a) to (s')\n",
    "                    # s_ - next state (s')\n",
    "                    # r  - reward on transition from (s,a) to (s')\n",
    "                    tmp += policy[s,a] * p * (r + gamma * V[s_])\n",
    "            V[s] = tmp\n",
    "            \n",
    "            delta = max(delta, abs(v - V[s]))\n",
    "    \n",
    "        if delta < theta: break\n",
    "                \n",
    "    return V"
   ]
  },
  {
   "cell_type": "markdown",
   "metadata": {},
   "source": [
    "### Note #1\n",
    "__env.model__ parameter is taken directly from OpenAI API for FrozenLake-v1 (where it is called __env.P__, see below). It is a nested structure which describes transition probabilities and expected rewards, for example:\n",
    "```\n",
    ">>> env.model[6][0]\n",
    "[(0.3333333333333333, 2, 0.0, False),\n",
    " (0.3333333333333333, 5, 0.0, True),\n",
    " (0.3333333333333333, 10, 0.0, False)]\n",
    "```\n",
    "Has following meaning:\n",
    "* from state 6 and taking action 0, there is __0.33__ probability transitioning to state __2__, with reward __0.0__, transition is non-terminal\n",
    "* from state 6 and taking action 0, there is 0.33 probability transitioning to state 5, with reward 0.0, transition is terminal, MDP ends\n",
    "* from state 6 and taking action 0, there is 0.33 probability transitioning to state 10, with reward 0.0, transition is non-terminal\n",
    "\n",
    "See diagram\n",
    "<img src=\"assets/0401_model_diagram.png\">"
   ]
  },
  {
   "cell_type": "markdown",
   "metadata": {},
   "source": [
    "# Vectorised Implementation\n",
    "\n",
    "Vectorised Implementation. Updates V \"on copy\", while non-vectorised updates \"in place\", so numerically intermediate steps will differ."
   ]
  },
  {
   "cell_type": "code",
   "execution_count": 2,
   "metadata": {},
   "outputs": [],
   "source": [
    "def iter_policy_eval_vec(env, policy, gamma, theta):\n",
    "    V, v = np.zeros(env.nb_states), np.zeros(env.nb_states)\n",
    "    P_pi, R_pi = flatten_mdp(env, policy)\n",
    "    \n",
    "    while True:\n",
    "        np.copyto(v, V)\n",
    "        V = R_pi + gamma * P_pi @ V\n",
    "        delta = np.max(np.abs(v - V))\n",
    "        if delta < theta: break\n",
    "\n",
    "    return V"
   ]
  },
  {
   "cell_type": "markdown",
   "metadata": {},
   "source": [
    "Helper functions"
   ]
  },
  {
   "cell_type": "code",
   "execution_count": 3,
   "metadata": {},
   "outputs": [],
   "source": [
    "def flatten_mdp(env, policy):\n",
    "    # Could use sparse matrices to save memory\n",
    "    P_pi = np.zeros([env.nb_states, env.nb_states])  # transition probability matrix (s) to (s')\n",
    "    R_pi = np.zeros([env.nb_states])                 # exp. reward from state (s) to any next state\n",
    "    for s in range(env.nb_states):\n",
    "        for a in range(env.nb_actions):\n",
    "            for p, s_, r, _ in env.model[s][a]:\n",
    "                # p  - transition probability from (s,a) to (s')\n",
    "                # s_ - next state (s')\n",
    "                # r  - reward on transition from (s,a) to (s')\n",
    "                P_pi[s, s_] += policy[s,a] * p    # transition probability (s) -> (s')\n",
    "                R_pi[s] += policy[s,a] * p * r    # exp. reward from (s) to any next state\n",
    "    assert np.alltrue(np.sum(P_pi, axis=-1)==np.ones([env.nb_states]))  # rows should sum to 1\n",
    "    return P_pi, R_pi"
   ]
  },
  {
   "cell_type": "markdown",
   "metadata": {},
   "source": [
    "# Eval Random Policy on FrozenLake-v0\n",
    "\n",
    "Too lazy to recreate gridworld from the book. Using OpenAI Gym FrozenLake-v0 instead. See description [here](https://gym.openai.com/envs/FrozenLake-v0/)"
   ]
  },
  {
   "cell_type": "code",
   "execution_count": 4,
   "metadata": {},
   "outputs": [],
   "source": [
    "import numpy as np\n",
    "import matplotlib.pyplot as plt\n",
    "import gym"
   ]
  },
  {
   "cell_type": "code",
   "execution_count": 5,
   "metadata": {},
   "outputs": [
    {
     "name": "stdout",
     "output_type": "stream",
     "text": [
      "\n",
      "\u001b[41mS\u001b[0mFFF\n",
      "FHFH\n",
      "FFFH\n",
      "HFFG\n"
     ]
    }
   ],
   "source": [
    "env = gym.make('FrozenLake-v0')\n",
    "env.reset()\n",
    "env.render()"
   ]
  },
  {
   "cell_type": "markdown",
   "metadata": {},
   "source": [
    "Rename some members, but don't break stuff!"
   ]
  },
  {
   "cell_type": "code",
   "execution_count": 6,
   "metadata": {},
   "outputs": [],
   "source": [
    "if not hasattr(env, 'nb_states'):  env.nb_states = env.env.nS\n",
    "if not hasattr(env, 'nb_actions'): env.nb_actions = env.env.nA\n",
    "if not hasattr(env, 'model'):      env.model = env.env.P"
   ]
  },
  {
   "cell_type": "markdown",
   "metadata": {},
   "source": [
    "Eval random policy"
   ]
  },
  {
   "cell_type": "code",
   "execution_count": 7,
   "metadata": {},
   "outputs": [
    {
     "name": "stdout",
     "output_type": "stream",
     "text": [
      "[[0.01393977 0.01163091 0.02095297 0.01047648]\n",
      " [0.01624865 0.         0.04075153 0.        ]\n",
      " [0.03480619 0.08816993 0.14205316 0.        ]\n",
      " [0.         0.17582037 0.43929118 0.        ]]\n"
     ]
    }
   ],
   "source": [
    "policy = np.ones([env.nb_states, env.nb_actions]) / env.nb_actions\n",
    "V_pi = iter_policy_eval(env, policy, gamma=1.0, theta=1e-8)\n",
    "print(V_pi.reshape([4, -1]))"
   ]
  },
  {
   "cell_type": "markdown",
   "metadata": {},
   "source": [
    "Check if correct"
   ]
  },
  {
   "cell_type": "code",
   "execution_count": 8,
   "metadata": {},
   "outputs": [],
   "source": [
    "correct_V_pi = np.array([[0.0139398 , 0.01163093, 0.02095299, 0.01047649],\n",
    "                         [0.01624867, 0.        , 0.04075154, 0.        ],\n",
    "                         [0.0348062 , 0.08816993, 0.14205316, 0.        ],\n",
    "                         [0.        , 0.17582037, 0.43929118, 0.        ]])\n",
    "assert np.allclose(V_pi.reshape([4,-1]), correct_V_pi, )"
   ]
  },
  {
   "cell_type": "markdown",
   "metadata": {},
   "source": [
    "# Timing Test"
   ]
  },
  {
   "cell_type": "code",
   "execution_count": 9,
   "metadata": {
    "scrolled": true
   },
   "outputs": [
    {
     "name": "stdout",
     "output_type": "stream",
     "text": [
      "6.9 ms ± 69.4 µs per loop (mean ± std. dev. of 7 runs, 100 loops each)\n",
      "1.1 ms ± 1.68 µs per loop (mean ± std. dev. of 7 runs, 1000 loops each)\n"
     ]
    }
   ],
   "source": [
    "%timeit iter_policy_eval(env, policy, gamma=1.0, theta=1e-8)\n",
    "%timeit iter_policy_eval_vec(env, policy, gamma=1.0, theta=1e-8)"
   ]
  }
 ],
 "metadata": {
  "kernelspec": {
   "display_name": "Python 3",
   "language": "python",
   "name": "python3"
  },
  "language_info": {
   "codemirror_mode": {
    "name": "ipython",
    "version": 3
   },
   "file_extension": ".py",
   "mimetype": "text/x-python",
   "name": "python",
   "nbconvert_exporter": "python",
   "pygments_lexer": "ipython3",
   "version": "3.6.5"
  }
 },
 "nbformat": 4,
 "nbformat_minor": 2
}
