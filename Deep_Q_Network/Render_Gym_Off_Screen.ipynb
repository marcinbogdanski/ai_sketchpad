{
 "cells": [
  {
   "cell_type": "markdown",
   "metadata": {},
   "source": [
    "# OpenAI Gym Jupyter Test"
   ]
  },
  {
   "cell_type": "markdown",
   "metadata": {},
   "source": [
    "Sources:\n",
    "* [github](https://github.com/jakevdp/JSAnimation)\n",
    "* [link 1](http://mckinziebrandon.me/TensorflowNotebooks/2016/12/21/openai.html)\n",
    "* [link 2](http://nbviewer.jupyter.org/github/patrickmineault/xcorr-notebooks/blob/master/Render%20OpenAI%20gym%20as%20GIF.ipynb)\n",
    "\n",
    "Install like this [source](https://gist.github.com/gforsyth/188c32b6efe834337d8a):\n",
    "```\n",
    "pip install git+https://github.com/jakevdp/JSAnimation.git\n",
    "```"
   ]
  },
  {
   "cell_type": "code",
   "execution_count": null,
   "metadata": {},
   "outputs": [],
   "source": [
    "# from JSAnimation.IPython_display import display_animation\n",
    "from matplotlib import animation\n",
    "import matplotlib.pyplot as plt\n",
    "from IPython.display import display\n",
    "\n",
    "import gym\n",
    "\n",
    "env = gym.make('CartPole-v0')\n",
    "\n",
    "# Run a demo of the environment\n",
    "observation = env.reset()\n",
    "cum_reward = 0\n",
    "frames = []\n",
    "for t in range(1000):\n",
    "    # Render into buffer. \n",
    "    # You will still see the window.\n",
    "    frames.append(env.render(mode = 'rgb_array'))\n",
    "    action = env.action_space.sample()\n",
    "    observation, reward, done, info = env.step(action)\n",
    "    if done:\n",
    "        break\n",
    "env.render()\n",
    "env.close()\n"
   ]
  },
  {
   "cell_type": "code",
   "execution_count": null,
   "metadata": {},
   "outputs": [],
   "source": [
    "from IPython.display import HTML"
   ]
  },
  {
   "cell_type": "code",
   "execution_count": null,
   "metadata": {},
   "outputs": [],
   "source": [
    "def hoho():\n",
    "    plt.figure(figsize=(frames[0].shape[1] / 72.0, frames[0].shape[0] / 72.0), dpi = 72)\n",
    "    patch = plt.imshow(frames[0])\n",
    "    plt.axis('off')\n",
    "\n",
    "    def animate(i):\n",
    "        patch.set_data(frames[i])\n",
    "\n",
    "    anim = animation.FuncAnimation(plt.gcf(), animate, frames=len(frames), interval=50)\n",
    "\n",
    "    display(HTML(anim.to_jshtml(default_mode='loop')))\n",
    "\n",
    "hoho()"
   ]
  },
  {
   "cell_type": "markdown",
   "metadata": {},
   "source": [
    "# gym html"
   ]
  },
  {
   "cell_type": "code",
   "execution_count": 1,
   "metadata": {},
   "outputs": [],
   "source": [
    "import numpy as np\n",
    "import matplotlib.pyplot as plt\n",
    "\n",
    "from matplotlib import animation, rc\n",
    "from IPython.display import HTML\n",
    "\n"
   ]
  },
  {
   "cell_type": "code",
   "execution_count": 11,
   "metadata": {},
   "outputs": [],
   "source": [
    "import gym\n",
    "\n",
    "env = gym.make('CartPole-v0')\n",
    "\n",
    "# Run a demo of the environment\n",
    "observation = env.reset()\n",
    "cum_reward = 0\n",
    "frames = []\n",
    "for t in range(1000):\n",
    "    # Render into buffer. \n",
    "    # You will still see the window.\n",
    "    frames.append(env.render(mode = 'rgb_array'))\n",
    "    action = env.action_space.sample()\n",
    "    observation, reward, done, info = env.step(action)\n",
    "    if done:\n",
    "        break\n",
    "env.render()\n",
    "env.close()"
   ]
  },
  {
   "cell_type": "code",
   "execution_count": 12,
   "metadata": {},
   "outputs": [],
   "source": [
    "\n",
    "plt.ioff()\n",
    "\n",
    "fig = plt.figure(figsize=(frames[0].shape[1] / 72.0, frames[0].shape[0] / 72.0), dpi = 72)\n",
    "ax = fig.add_subplot(111);\n",
    "\n",
    "patch = ax.imshow(frames[0])\n",
    "# plt.axis('off');"
   ]
  },
  {
   "cell_type": "code",
   "execution_count": 13,
   "metadata": {},
   "outputs": [],
   "source": [
    "def animate(i):\n",
    "    patch.set_data(frames[i])"
   ]
  },
  {
   "cell_type": "code",
   "execution_count": 14,
   "metadata": {},
   "outputs": [],
   "source": [
    "anim = animation.FuncAnimation(fig, animate, frames=len(frames), interval=1, repeat=False)\n"
   ]
  },
  {
   "cell_type": "code",
   "execution_count": 15,
   "metadata": {},
   "outputs": [
    {
     "data": {
      "text/html": [
       "<video width=\"600\" height=\"400\" controls autoplay>\n",
       "  <source type=\"video/mp4\" src=\"data:video/mp4;base64,AAAAHGZ0eXBNNFYgAAACAGlzb21pc28yYXZjMQAAAAhmcmVlAAAPLW1kYXQAAAKhBgX//53cRem9\n",
       "5tlIt5Ys2CDZI+7veDI2NCAtIGNvcmUgMTUyIC0gSC4yNjQvTVBFRy00IEFWQyBjb2RlYyAtIENv\n",
       "cHlsZWZ0IDIwMDMtMjAxNyAtIGh0dHA6Ly93d3cudmlkZW9sYW4ub3JnL3gyNjQuaHRtbCAtIG9w\n",
       "dGlvbnM6IGNhYmFjPTEgcmVmPTMgZGVibG9jaz0xOjA6MCBhbmFseXNlPTB4MzoweDExMyBtZT1o\n",
       "ZXggc3VibWU9NyBwc3k9MSBwc3lfcmQ9MS4wMDowLjAwIG1peGVkX3JlZj0xIG1lX3JhbmdlPTE2\n",
       "IGNocm9tYV9tZT0xIHRyZWxsaXM9MSA4eDhkY3Q9MSBjcW09MCBkZWFkem9uZT0yMSwxMSBmYXN0\n",
       "X3Bza2lwPTEgY2hyb21hX3FwX29mZnNldD0tMiB0aHJlYWRzPTEyIGxvb2thaGVhZF90aHJlYWRz\n",
       "PTIgc2xpY2VkX3RocmVhZHM9MCBucj0wIGRlY2ltYXRlPTEgaW50ZXJsYWNlZD0wIGJsdXJheV9j\n",
       "b21wYXQ9MCBjb25zdHJhaW5lZF9pbnRyYT0wIGJmcmFtZXM9MyBiX3B5cmFtaWQ9MiBiX2FkYXB0\n",
       "PTEgYl9iaWFzPTAgZGlyZWN0PTEgd2VpZ2h0Yj0xIG9wZW5fZ29wPTAgd2VpZ2h0cD0yIGtleWlu\n",
       "dD0yNTAga2V5aW50X21pbj0yNSBzY2VuZWN1dD00MCBpbnRyYV9yZWZyZXNoPTAgcmNfbG9va2Fo\n",
       "ZWFkPTQwIHJjPWNyZiBtYnRyZWU9MSBjcmY9MjMuMCBxY29tcD0wLjYwIHFwbWluPTAgcXBtYXg9\n",
       "NjkgcXBzdGVwPTQgaXBfcmF0aW89MS40MCBhcT0xOjEuMDAAgAAACMtliIQAJ//+9bF8CmrJ84oM\n",
       "6DIu4Zckya62IuJtAMAAAAMAAAMAAPoG01M0ieecHAAAAwJUADgiM3wAFfAk1Tg7MRJ6uneoIe86\n",
       "HVvOpyRfwLQJ8Vhn9ZoEC9PModAeOCrKBudtmy7C7ba1Io+gbjAFr3I4QpOkE5ZOHo7forLmhb/3\n",
       "RwTSHv7Jjmc+PiPJYOBDx9ATyLxwIeGgwqQC4gBLq/TOBXZw2h2IDSy2gN347DYQ/79FiigPpiI1\n",
       "+DN9Ueyup2q6xRDNTWbBTsk+bpApjuOdTZBIVF6808lVxQBbQozPWAM529N0BODvyQrt0LSjwrPs\n",
       "VoI6dZBE2Psae9prNKuRdBKpAAADAB8LVetbUUy+AAa5r1LIGOxliIhgztolwpzKD+nmAYspptv6\n",
       "hY8OVM3za0m0E1RezAhGE5DlL0mhffGKMFuLffPBCdJzvA/9ZiCFszBKkMo6PJVNtQWvxJm3h5qy\n",
       "+4ANByluZfCMgkd0Q28+768yxUsQ0oAZrZIZTbjw/iCi9Q+tSMO5rFI93yqv+BT0XHsEDVXmJlHX\n",
       "bqoQEwSOoFgUu0+LN6JjRsnEJmGplfWBB9d735Mf/bCh6x/0MiFzv5O04Pwhg4yYDO85pomhNtkr\n",
       "XFP00vcxivKjc3Q6p1BnvFpA+PaPOAbkr6H+ViLKrRtnBMx8G6ocSSQsJ2PFPwirbWGDeUuiyVip\n",
       "xKT5dnS4rTccUgmzh32KqkgSe0qDu0OFTtHdVRUy+9ih+b3pT2cxzVCvYX4qZ0DQ4vZ/eBxBd0YH\n",
       "+Zf4YQHNR2Ng1KDSLNB+nVgRhzgsLKlcRERm51gBfUB9NzDDhxlWMy5v+ohyStJ+ZjcJxsxSd9V4\n",
       "Og0HmtU44xt6YE0NR1yjk5ukr0c47THX1tIlZulich254p6xJQAGJbQqpX/+51c9UFPxr0L/PlsB\n",
       "zs8aJsN5MjwVkfMxbXt4GRtVmuzUIR1Kd/3NYPKbl7wQAh3rB02dWSdRjOV3DrqUBrr3ghTmerXd\n",
       "UgItupmkVMy9H+1EwadD/XaAtaeIh2qsF5SaeG8AA22JDS+5/7bBOqOvTKhpSUBtjLwzZowVYjQ7\n",
       "VNLX5KHIKbecxHdkTIMwArjqCeFStyTXiZN+XhbDcdz6NnNOdnx2iViJUYHjX8VfYrLyTZpmTAII\n",
       "XX0EcRY9hd7QFmMdIWWuEFJ8v+Osv3FnKAN6+loX8PI3QQ0lIa/GBDGVLS//pu+OdblYqPSEQmGt\n",
       "Tgq5/lLBKBzlN1eRy5CWrvUODo3wMAFPwagEvAKE4pvklJLsz5JfQBbG6u23yXuYuMIK4xNVUynW\n",
       "Na8S9O4o5AtBDlk9Rrv9FmI7RwRIUgH3FyZ1f9bWgywTHS9ANkyrxsT5hZdjb/TCaWrySBb8SdPa\n",
       "krLd6D3F9g3AVzGf/8vhk1ohgyT+BwqXMf6D+/y8U3TVBgP9s3mLSTVjGvr4X3D/CyOXuceAMJun\n",
       "R8EpYpchiojnTsfxqTI3R8FHxHTAA/moOgXxdOoE2DJw4KGi+ZeSv//rIWwAAtxwSsPVCBzwEUfr\n",
       "g24CGvHEpqQKbReVRhITe6vTmkUnEQ4kosIIVXdTnlG2cTjfHBQacTh2gYkjYfzeVIQ8R/OQAfIN\n",
       "ReozTSi+kegzWJVY6Yo29LuLCcmKBEBjIJdh7S5yxtG3x53YxmaB0JAN7E4DqkfeFH0HDSNK7QbM\n",
       "PHaTAbPFA93en7S7HJdInn2ibM3RwVbdmS8CEMfTlxDut17ADr35BJQAI8kZQNsSPdxWMH5/tAI4\n",
       "g66DmO1VnOg8CA4IbqIx3IH3mUrGNvNUHwT+cx/TzckSBlhv0GNnLXvgbSEYqnNi8d8otTGQvRiV\n",
       "nX5zn8+ZB5AZ2SP2OqOT1l1giAzVg0BsaBp015eYmcdNOO0x4Z1y3yJ6K/fZWTUAqtelZ9YNh5PH\n",
       "Zx6jJOB+V+cLbOVaQy9BZPyGDHU/IG1Lke7hKulac92wUFYLO4nsESs1W9XOWzh/YcfBvQHdGhKa\n",
       "scswsWnMbL//N/YRry+SUxieuDsY3Yel3TSjIYWvluwIOsgMC5UNm2C81zpHHNRltDOcJ7TWPmH/\n",
       "2GRXbCz51CXubXW5KeqVxhvsTF+fGTZgOI64SGlCuWAuKT5QEK6XH6peNZRATCbD1LXQNM5q2S5Z\n",
       "CMO9h10e571XeMmGz83qcf9cXTnehrlW3VmF1hqyEg4uPJKVeaOpPBcYKmLfRTygZzsTvwR6NQtN\n",
       "JGpPEvmFKR+AkMOxhyIchIDCpEal6S4TCcjrPUCSScD23MyuvPVSQWbFAkDf0p+ZkAMmwS0GXGkX\n",
       "2KCrpn6Cu7i5BaD8wfe/Du8pZr5AHUFM/uH9cJXGKOXyyZA/0l2OcQmxRM1tGi3iJMV3DHZtRuFn\n",
       "a70W43Eh3mv4DOMWbGmO93/XxrlzKfiXlbTYS7jgfMLGAu+fEPG9fdf7SqdXwv3moZNoeb7jSHWb\n",
       "HRxusYU0nsO4FeLZUmBXf1JJW6SBF0Y3AB2xOvcn30f5LgznwcCiqEf/l1o587wnKmUuRl8aO5Ka\n",
       "pbYJjwMHhmX/L8C+hM/VwSCjQSEByzlNHuVjQDXxbKW8mZHwZmQEfFYyKk94breMy46yDPt3pKgt\n",
       "vB3An+jWAMh+NLmliq96fCpJZnd4flwQMaV+g8bRBsvJRS14xywcDkd+sJSA50mMF3gpRB5TAQKa\n",
       "Tl6AqKB132yWip9qI/aWagm0kP9dWUfO8QW4w1DUYx+EBrj4YQCa3FJcs6IbbNWemkznJxKwK9WQ\n",
       "RGnvDupmBoKB3iSI4u8hsonq76pzoapzFsWnSC+Oui/ky+lGUcmOERlWexSNdOJ9jK9lpt4sh3JI\n",
       "vi4e463evGV+tiVQCBOqq59+iKfgOQPgDzVIhz1ufVTlh4GmsxAOrqWCJ8FXgnm1dd7QY0kgGE4P\n",
       "co3ATbwbrUtxjNiOnaf1y0BNRmBBTm1ugCKu+eYjea7LGFZ6HKth1hL4HTxY8JLfZsBC9GGJACGz\n",
       "cKHcsH0MttgAAAt5AAAAsEGaJGxCP/3hAAf30b/rFk7AzblQ1MjtsEK9aV495dYgAbae+i1pV37+\n",
       "SlpJRwjnYvVB0q2LxndAXmDn3vZMF0F0/Qen9/NPa3o6jRkF/wiOPJ5E5ixOsfGtF823XyDeUPNN\n",
       "BKYhUTTs0PU9UlpMxKXVcP6X05yx1yirhaY5T/an0kXB0U78AAB8WjzEo2kv1QujYVGClJ1aXBbF\n",
       "aj4QRYjXWZKANoNNKHPjCalBWzpGAAAASUGeQniN/wBYjBlg7jDXMh5MH6jvYF58q8qzN3O3mqJq\n",
       "TZABrK4awQAAAwHeUwLXCW4HTjr/k40WYzs25vGEUEDequ31IWPvFn0AAAA2AZ5hdEX/AG6KKUnT\n",
       "jaaTx021BgR8GNgMLNAJV4AAEhj3Yq1TkFIxZQNYwMea2lCggvX8dwysAAAANAGeY2pF/wACOrsE\n",
       "st1bauZZONrHLECOOEe5O030GypSuHDELzwAAAMAZGSpYppiembluvEAAACaQZpoSahBaJlMCP/8\n",
       "hAAABfu4jUWhNuEAFyeM7v1hCDBD8VsaHfij4fFP26YIme3fvFpXiR6KzvBt6cJMMxb9HkzSEMUm\n",
       "/qNbIRnsWmP9/E1hGKJqO7Dqxb1x/QNtn14yWWskZw36r52Ps3XgaQVWWFE/Qf+4WSDBSQgnXH0y\n",
       "AclqbNLjg+3XgjQSxc8v7xnegiWxOXR5EqVC4QAAAFxBnoZFESxvAAAsZVc6ttxJAtUV7U+yZzAC\n",
       "31VSnkVjZEIiZySQfbugH+Nikciu5qqM+PxVf7g4TcoMqs04w1HBGlnz211D8FfDx06gQcMoDADd\n",
       "Bj+VH7ofhOnGJQAAAEQBnqV0Rf8AABVS6yLlqurMlOcYXsVMWsVhh3jMewACWiRoX3W/infoZMFG\n",
       "lGmdDGiWJtTP1TEXlYvGAAEDM+BG0SENOQAAAFMBnqdqRf8AADax2n191jixpaTbLjRTL+mvMQQg\n",
       "ASl6VtvZ9NwYIgdHkD5K2NTE/sDFSfqPTsU+FMm4hdHXN8cCuELrPI87xfaxbBzx6IWsmlfu6AAA\n",
       "AFhBmqpJqEFsmUwUTF/6WAAAC6a3nVJeGke+59UyXz//d8fREsjKPG9QMJuyJ0ACvWXgyXxbcerU\n",
       "hUzJ2I4X4i132Es/UDybr1BsLXWC+3CRc2OOFMjwntRgAAAAQQGeyWpF/wAANrHa5be298Sv9hQq\n",
       "cDNSvNrkAm20JVC4aOZGG1Ppr8djVtmA7g8WxooSwUC8pbNdXYU43xHCpRjpAAADsm1vb3YAAABs\n",
       "bXZoZAAAAAAAAAAAAAAAAAAAA+gAAAALAAEAAAEAAAAAAAAAAAAAAAABAAAAAAAAAAAAAAAAAAAA\n",
       "AQAAAAAAAAAAAAAAAAAAQAAAAAAAAAAAAAAAAAAAAAAAAAAAAAAAAAAAAAAAAAIAAALcdHJhawAA\n",
       "AFx0a2hkAAAAAwAAAAAAAAAAAAAAAQAAAAAAAAALAAAAAAAAAAAAAAAAAAAAAAABAAAAAAAAAAAA\n",
       "AAAAAAAAAQAAAAAAAAAAAAAAAAAAQAAAAAJYAAABkAAAAAAAJGVkdHMAAAAcZWxzdAAAAAAAAAAB\n",
       "AAAACwAAACAAAQAAAAACVG1kaWEAAAAgbWRoZAAAAAAAAAAAAAAAAAAAPoAAAACwVcQAAAAAAC1o\n",
       "ZGxyAAAAAAAAAAB2aWRlAAAAAAAAAAAAAAAAVmlkZW9IYW5kbGVyAAAAAf9taW5mAAAAFHZtaGQA\n",
       "AAABAAAAAAAAAAAAAAAkZGluZgAAABxkcmVmAAAAAAAAAAEAAAAMdXJsIAAAAAEAAAG/c3RibAAA\n",
       "ALNzdHNkAAAAAAAAAAEAAACjYXZjMQAAAAAAAAABAAAAAAAAAAAAAAAAAAAAAAJYAZAASAAAAEgA\n",
       "AAAAAAAAAQAAAAAAAAAAAAAAAAAAAAAAAAAAAAAAAAAAAAAAAAAAABj//wAAADFhdmNDAWQAM//h\n",
       "ABhnZAAzrNlAmDPl4QAAAwABAAAH0A8YMZYBAAZo6+PLIsAAAAAcdXVpZGtoQPJfJE/FujmlG88D\n",
       "I/MAAAAAAAAAGHN0dHMAAAAAAAAAAQAAAAsAAAAQAAAAFHN0c3MAAAAAAAAAAQAAAAEAAABoY3R0\n",
       "cwAAAAAAAAALAAAAAQAAACAAAAABAAAAUAAAAAEAAAAgAAAAAQAAAAAAAAABAAAAEAAAAAEAAABQ\n",
       "AAAAAQAAACAAAAABAAAAAAAAAAEAAAAQAAAAAQAAADAAAAABAAAAEAAAABxzdHNjAAAAAAAAAAEA\n",
       "AAABAAAACwAAAAEAAABAc3RzegAAAAAAAAAAAAAACwAAC3QAAAC0AAAATQAAADoAAAA4AAAAngAA\n",
       "AGAAAABIAAAAVwAAAFwAAABFAAAAFHN0Y28AAAAAAAAAAQAAACwAAABidWR0YQAAAFptZXRhAAAA\n",
       "AAAAACFoZGxyAAAAAAAAAABtZGlyYXBwbAAAAAAAAAAAAAAAAC1pbHN0AAAAJal0b28AAAAdZGF0\n",
       "YQAAAAEAAAAATGF2ZjU4LjEyLjEwMA==\n",
       "\">\n",
       "  Your browser does not support the video tag.\n",
       "</video>"
      ],
      "text/plain": [
       "<IPython.core.display.HTML object>"
      ]
     },
     "execution_count": 15,
     "metadata": {},
     "output_type": "execute_result"
    }
   ],
   "source": [
    "HTML(anim.to_html5_video())"
   ]
  },
  {
   "cell_type": "code",
   "execution_count": null,
   "metadata": {},
   "outputs": [],
   "source": [
    "HTML(anim.to_html5_video())"
   ]
  },
  {
   "cell_type": "markdown",
   "metadata": {},
   "source": [
    "# as one functions"
   ]
  },
  {
   "cell_type": "markdown",
   "metadata": {},
   "source": [
    "# different exampls"
   ]
  },
  {
   "cell_type": "code",
   "execution_count": null,
   "metadata": {},
   "outputs": [],
   "source": [
    "import numpy as np\n",
    "import matplotlib.pyplot as plt\n",
    "\n",
    "from matplotlib import animation, rc\n",
    "from IPython.display import HTML"
   ]
  },
  {
   "cell_type": "code",
   "execution_count": null,
   "metadata": {},
   "outputs": [],
   "source": [
    "# First set up the figure, the axis, and the plot element we want to animate\n",
    "fig, ax = plt.subplots()\n",
    "\n",
    "ax.set_xlim(( 0, 2))\n",
    "ax.set_ylim((-2, 2))\n",
    "\n",
    "line, = ax.plot([], [], lw=2)"
   ]
  },
  {
   "cell_type": "code",
   "execution_count": null,
   "metadata": {},
   "outputs": [],
   "source": [
    "# initialization function: plot the background of each frame\n",
    "def init():\n",
    "    line.set_data([], [])\n",
    "    return (line,)"
   ]
  },
  {
   "cell_type": "code",
   "execution_count": null,
   "metadata": {},
   "outputs": [],
   "source": [
    "\n",
    "\n",
    "# animation function. This is called sequentially\n",
    "def animate(i):\n",
    "    x = np.linspace(0, 2, 1000)\n",
    "    y = np.sin(2 * np.pi * (x - 0.01 * i))\n",
    "    line.set_data(x, y)\n",
    "    return (line,)\n",
    "\n"
   ]
  },
  {
   "cell_type": "code",
   "execution_count": null,
   "metadata": {},
   "outputs": [],
   "source": [
    "# call the animator. blit=True means only re-draw the parts that have changed.\n",
    "anim = animation.FuncAnimation(fig, animate, init_func=init, repeat=True,\n",
    "                               frames=100, interval=20, blit=True)\n"
   ]
  },
  {
   "cell_type": "code",
   "execution_count": null,
   "metadata": {},
   "outputs": [],
   "source": [
    "HTML(anim.to_html5_video())"
   ]
  },
  {
   "cell_type": "code",
   "execution_count": null,
   "metadata": {},
   "outputs": [],
   "source": []
  }
 ],
 "metadata": {
  "kernelspec": {
   "display_name": "Python 3",
   "language": "python",
   "name": "python3"
  },
  "language_info": {
   "codemirror_mode": {
    "name": "ipython",
    "version": 3
   },
   "file_extension": ".py",
   "mimetype": "text/x-python",
   "name": "python",
   "nbconvert_exporter": "python",
   "pygments_lexer": "ipython3",
   "version": "3.6.6"
  }
 },
 "nbformat": 4,
 "nbformat_minor": 2
}
