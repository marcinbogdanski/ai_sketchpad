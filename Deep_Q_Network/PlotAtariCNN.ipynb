{
 "cells": [
  {
   "cell_type": "code",
   "execution_count": null,
   "metadata": {},
   "outputs": [],
   "source": [
    "import numpy as np\n",
    "import matplotlib.pyplot as plt\n",
    "from mpl_toolkits.mplot3d import axes3d\n",
    "import tables"
   ]
  },
  {
   "cell_type": "code",
   "execution_count": null,
   "metadata": {},
   "outputs": [],
   "source": [
    "import sys\n",
    "sys.path.append('../Debug_NN')"
   ]
  },
  {
   "cell_type": "code",
   "execution_count": null,
   "metadata": {},
   "outputs": [],
   "source": [
    "import plotann\n",
    "import importlib\n",
    "importlib.reload(plotann)"
   ]
  },
  {
   "cell_type": "code",
   "execution_count": null,
   "metadata": {},
   "outputs": [],
   "source": [
    "import tables_logger\n",
    "import importlib\n",
    "importlib.reload(tables_logger)"
   ]
  },
  {
   "cell_type": "markdown",
   "metadata": {},
   "source": [
    "# Load Conv"
   ]
  },
  {
   "cell_type": "code",
   "execution_count": null,
   "metadata": {},
   "outputs": [],
   "source": [
    "filename = 'outarray.h5'"
   ]
  },
  {
   "cell_type": "code",
   "execution_count": null,
   "metadata": {},
   "outputs": [],
   "source": [
    "tables_logger.print_log(filename)"
   ]
  },
  {
   "cell_type": "code",
   "execution_count": null,
   "metadata": {},
   "outputs": [],
   "source": [
    "with tables.open_file(filename, mode='r') as f:\n",
    "    \n",
    "    tr_loss = np.array(f.root.metrics.loss)\n",
    "    \n",
    "    ##tr_x_raw = np.array(f.root.inout.batch_x)\n",
    "    ##ni, _, _, _, nn = tr_x_raw.shape\n",
    "    ##tr_x = tr_x_raw.reshape([ni, -1, nn])\n",
    "    \n",
    "    tr_conv_1 = tables_logger.extract_layer_and_flatten(f.root.conv_1)\n",
    "    tr_conv_2 = tables_logger.extract_layer_and_flatten(f.root.conv_2)\n",
    "    \n",
    "    tr_dense = tables_logger.extract_layer_and_flatten(f.root.dense)\n",
    "    \n",
    "    tr_output = tables_logger.extract_layer_and_flatten(f.root.output)\n",
    "    tr_y = np.array(f.root.inout.batch_y)"
   ]
  },
  {
   "cell_type": "code",
   "execution_count": null,
   "metadata": {},
   "outputs": [],
   "source": [
    "print('tr_conv_1_W_raw', tr_conv_1['W_raw'].shape)\n",
    "print('tr_conv_1_b', tr_conv_1['b'].shape)\n",
    "print('tr_conv_1_dW_raw', tr_conv_1['dW_raw'].shape)\n",
    "print('tr_conv_1_db', tr_conv_1['db'].shape)\n",
    "print('tr_conv_1_z_raw', tr_conv_1['z_raw'].shape)\n",
    "print('tr_conv_1_W', tr_conv_1['W'].shape)\n",
    "print('tr_conv_1_dW', tr_conv_1['dW'].shape)\n",
    "print('tr_conv_1_z', tr_conv_1['z'].shape)"
   ]
  },
  {
   "cell_type": "code",
   "execution_count": null,
   "metadata": {},
   "outputs": [],
   "source": [
    "print('tr_output', tr_output['z'].shape)"
   ]
  },
  {
   "cell_type": "markdown",
   "metadata": {},
   "source": [
    "# Loss"
   ]
  },
  {
   "cell_type": "code",
   "execution_count": null,
   "metadata": {},
   "outputs": [],
   "source": [
    "def running_mean(x, n):\n",
    "    return np.array([ np.mean(x[max(i-n+1, 0): i+1]) for i in range(len(x))])"
   ]
  },
  {
   "cell_type": "code",
   "execution_count": null,
   "metadata": {},
   "outputs": [],
   "source": [
    "#\n",
    "#   Plot Loss, Accuracy\n",
    "#\n",
    "fig, ax = plt.subplots(figsize=[12,6])\n",
    "ax.scatter(range(len(tr_loss)), tr_loss, label='Mini-Batch loss', alpha=.5, marker='.', s=1)\n",
    "ax.plot(running_mean(tr_loss, 100), label='Mini-Batch loss', alpha=1, color='orange')\n",
    "\n",
    "#ax.set_xlim([100, 250])\n",
    "#ax.set_ylim([0, .1])\n",
    "ax.legend()\n",
    "ax.grid()\n",
    "\n",
    "fig.tight_layout()"
   ]
  },
  {
   "cell_type": "markdown",
   "metadata": {},
   "source": [
    "# Inputs"
   ]
  },
  {
   "cell_type": "code",
   "execution_count": null,
   "metadata": {},
   "outputs": [],
   "source": [
    "tr_x_raw.shape"
   ]
  },
  {
   "cell_type": "code",
   "execution_count": null,
   "metadata": {},
   "outputs": [],
   "source": [
    "tr_x.shape"
   ]
  },
  {
   "cell_type": "code",
   "execution_count": null,
   "metadata": {},
   "outputs": [],
   "source": [
    "es = 50 * 35280"
   ]
  },
  {
   "cell_type": "code",
   "execution_count": null,
   "metadata": {},
   "outputs": [],
   "source": [
    "plotann.show_layer_activations(tr_x, epoch_size=es, activation_function=None,\n",
    "                               title_prefix='Input', color=(.7,.7,.7,1), figsize=[16,6])"
   ]
  },
  {
   "cell_type": "code",
   "execution_count": null,
   "metadata": {},
   "outputs": [],
   "source": [
    "plotann.show_neurons_activations(tr_x, epoch_size=es, activation_function=None, neurons=range(tr_x.shape[-1]),\n",
    "                                 title_prefix='Input', color=(.7,.7,.7,1))"
   ]
  },
  {
   "cell_type": "markdown",
   "metadata": {},
   "source": [
    "# Conv 1"
   ]
  },
  {
   "cell_type": "code",
   "execution_count": null,
   "metadata": {
    "scrolled": true
   },
   "outputs": [],
   "source": [
    "print(tr_conv_1['W'].shape)\n",
    "es = 100*256"
   ]
  },
  {
   "cell_type": "code",
   "execution_count": null,
   "metadata": {},
   "outputs": [],
   "source": [
    "plotann.show_layer_activations(tr_conv_1['W'], epoch_size=es, activation_function=None,\n",
    "                               title_prefix='Conv_1 Weighs', color=(1,0,0,1), lines_01=False, figsize=[16,6])"
   ]
  },
  {
   "cell_type": "code",
   "execution_count": null,
   "metadata": {},
   "outputs": [],
   "source": [
    "print(tr_conv_1['b'].shape)\n",
    "es = 500"
   ]
  },
  {
   "cell_type": "code",
   "execution_count": null,
   "metadata": {},
   "outputs": [],
   "source": [
    "plotann.show_layer_activations(np.expand_dims(tr_conv_1['b'], 0), epoch_size=es, activation_function=None,\n",
    "                               title_prefix='Conv_1 Biases', color=(1,0,0,1), lines_01=False, figsize=[16,6])"
   ]
  },
  {
   "cell_type": "markdown",
   "metadata": {},
   "source": [
    "---"
   ]
  },
  {
   "cell_type": "code",
   "execution_count": null,
   "metadata": {},
   "outputs": [],
   "source": [
    "plotann.show_neurons_weights(tr_conv_1['W'], tr_conv_1['dW'], neurons=range(3),\n",
    "                            title_prefix='Conv_1', color='red', figsize=[16,4])"
   ]
  },
  {
   "cell_type": "code",
   "execution_count": null,
   "metadata": {
    "scrolled": true
   },
   "outputs": [],
   "source": [
    "plotann.show_biases(tr_conv_1['b']+1e-6, tr_conv_1['db'], title_prefix='Biases_1', color='red', figsize=[16,4])"
   ]
  },
  {
   "cell_type": "code",
   "execution_count": null,
   "metadata": {
    "scrolled": true
   },
   "outputs": [],
   "source": [
    "fig = plotann.show_layer_summary(tr_conv_1['W'], tr_conv_1['dW'],\n",
    "                           title_prefix='Hidden_1', mode='norms', color='red', figsize=[16,5])"
   ]
  },
  {
   "cell_type": "markdown",
   "metadata": {},
   "source": [
    "---"
   ]
  },
  {
   "cell_type": "code",
   "execution_count": null,
   "metadata": {},
   "outputs": [],
   "source": [
    "ni, na, nn = tr_conv_1['z'].shape\n",
    "es = (ni//20) * na\n",
    "act_fun = 'relu'\n",
    "print(ni, na, nn)\n",
    "print('es', es)"
   ]
  },
  {
   "cell_type": "code",
   "execution_count": null,
   "metadata": {
    "scrolled": false
   },
   "outputs": [],
   "source": [
    "plotann.show_layer_activations(tr_conv_1['z'], epoch_size=es, activation_function=act_fun,\n",
    "                               title_prefix='Conv_1', color=(1,0,0,1), figsize=[16,6])"
   ]
  },
  {
   "cell_type": "code",
   "execution_count": null,
   "metadata": {},
   "outputs": [],
   "source": [
    "plotann.show_neurons_activations(tr_conv_1['z'], epoch_size=es, activation_function=act_fun, neurons=range(10),\n",
    "                                 title_prefix='Conv_1', color=(1,0,0,1))"
   ]
  },
  {
   "cell_type": "markdown",
   "metadata": {},
   "source": [
    "# Conv 2"
   ]
  },
  {
   "cell_type": "code",
   "execution_count": null,
   "metadata": {
    "scrolled": true
   },
   "outputs": [],
   "source": [
    "print(tr_conv_2['W'].shape)\n",
    "es = 100*256"
   ]
  },
  {
   "cell_type": "code",
   "execution_count": null,
   "metadata": {},
   "outputs": [],
   "source": [
    "plotann.show_layer_activations(tr_conv_2['W'], epoch_size=es, activation_function=None,\n",
    "                               title_prefix='Conv_2 Weighs', color=(1,.5,.25,1), lines_01=False, figsize=[16,6])"
   ]
  },
  {
   "cell_type": "code",
   "execution_count": null,
   "metadata": {},
   "outputs": [],
   "source": [
    "print(tr_conv_2['b'].shape)\n",
    "es = 500"
   ]
  },
  {
   "cell_type": "code",
   "execution_count": null,
   "metadata": {},
   "outputs": [],
   "source": [
    "plotann.show_layer_activations(np.expand_dims(tr_conv_2['b'], 0), epoch_size=es, activation_function=None,\n",
    "                               title_prefix='Conv_2 Biases', color=(1,.5,.25,1), lines_01=False, figsize=[16,6])"
   ]
  },
  {
   "cell_type": "markdown",
   "metadata": {},
   "source": [
    "---"
   ]
  },
  {
   "cell_type": "code",
   "execution_count": null,
   "metadata": {},
   "outputs": [],
   "source": [
    "tr_conv_2['W'].shape"
   ]
  },
  {
   "cell_type": "code",
   "execution_count": null,
   "metadata": {
    "scrolled": false
   },
   "outputs": [],
   "source": [
    "plotann.show_neurons_weights(tr_conv_2['W'], tr_conv_2['dW'], neurons=range(1),\n",
    "                            title_prefix='Conv_2', color='orange', figsize=[16,4])"
   ]
  },
  {
   "cell_type": "code",
   "execution_count": null,
   "metadata": {},
   "outputs": [],
   "source": [
    "plotann.show_biases(tr_conv_2['b']+1e-6, tr_conv_2['db'], title_prefix='Conv_2', color='orange', figsize=[16,4])"
   ]
  },
  {
   "cell_type": "code",
   "execution_count": null,
   "metadata": {},
   "outputs": [],
   "source": [
    "fig = plotann.show_layer_summary(tr_conv_2['W'], tr_conv_2['dW'],\n",
    "                           title_prefix='Conv_2', mode='norms', color='orange', figsize=[16,5])"
   ]
  },
  {
   "cell_type": "markdown",
   "metadata": {},
   "source": [
    "---"
   ]
  },
  {
   "cell_type": "code",
   "execution_count": null,
   "metadata": {},
   "outputs": [],
   "source": [
    "ni, na, nn = tr_conv_2['z'].shape\n",
    "es = (ni//20) * na\n",
    "act_fun = 'relu'\n",
    "print(ni, na, nn)\n",
    "print('es', es)"
   ]
  },
  {
   "cell_type": "code",
   "execution_count": null,
   "metadata": {},
   "outputs": [],
   "source": [
    "plotann.show_layer_activations(tr_conv_2['z'], epoch_size=es, activation_function=act_fun,\n",
    "                               title_prefix='Conv_2', color=(1,.5,.25,1), figsize=[16,6])"
   ]
  },
  {
   "cell_type": "code",
   "execution_count": null,
   "metadata": {},
   "outputs": [],
   "source": [
    "plotann.show_neurons_activations(tr_conv_2['z'], epoch_size=es, activation_function=act_fun, neurons=range(10),\n",
    "                                 title_prefix='Conv_2', color=(1,.5,.25,1))"
   ]
  },
  {
   "cell_type": "markdown",
   "metadata": {},
   "source": [
    "# Dense"
   ]
  },
  {
   "cell_type": "code",
   "execution_count": null,
   "metadata": {
    "scrolled": true
   },
   "outputs": [],
   "source": [
    "print(tr_dense['W'].shape)\n",
    "es = 100*100"
   ]
  },
  {
   "cell_type": "code",
   "execution_count": null,
   "metadata": {},
   "outputs": [],
   "source": [
    "plotann.show_layer_activations(tr_dense['W'], epoch_size=es, activation_function=None,\n",
    "                               title_prefix='Dense Weighs', color=(0,1,0,1), lines_01=False, figsize=[16,6])"
   ]
  },
  {
   "cell_type": "code",
   "execution_count": null,
   "metadata": {},
   "outputs": [],
   "source": [
    "print(tr_dense['b'].shape)\n",
    "es = 500"
   ]
  },
  {
   "cell_type": "code",
   "execution_count": null,
   "metadata": {},
   "outputs": [],
   "source": [
    "plotann.show_layer_activations(np.expand_dims(tr_dense['b'], 0), epoch_size=es, activation_function=None,\n",
    "                               title_prefix='Dense Biases', color=(0,1,0,1), lines_01=False, figsize=[16,6])"
   ]
  },
  {
   "cell_type": "markdown",
   "metadata": {},
   "source": [
    "---"
   ]
  },
  {
   "cell_type": "code",
   "execution_count": null,
   "metadata": {},
   "outputs": [],
   "source": [
    "tr_dense['W'].shape"
   ]
  },
  {
   "cell_type": "code",
   "execution_count": null,
   "metadata": {
    "scrolled": false
   },
   "outputs": [],
   "source": [
    "plotann.show_neurons_weights(tr_dense['W'], tr_dense['dW'], neurons=range(6),\n",
    "                             title_prefix='Dense', color='green', figsize=[16,4])"
   ]
  },
  {
   "cell_type": "code",
   "execution_count": null,
   "metadata": {
    "scrolled": true
   },
   "outputs": [],
   "source": [
    "plotann.show_biases(tr_dense['b']+1e-6, tr_dense['db'], title_prefix='Dense_1', color='green', figsize=[16,4])"
   ]
  },
  {
   "cell_type": "code",
   "execution_count": null,
   "metadata": {},
   "outputs": [],
   "source": [
    "fig = plotann.show_layer_summary(tr_dense['W'], tr_dense['dW'], title_prefix='Dense_1',\n",
    "                                 mode='norms', color='green', figsize=[16,5])"
   ]
  },
  {
   "cell_type": "markdown",
   "metadata": {},
   "source": [
    "---"
   ]
  },
  {
   "cell_type": "code",
   "execution_count": null,
   "metadata": {},
   "outputs": [],
   "source": [
    "ni, na, nn = tr_dense['z'].shape\n",
    "es = (ni//20) * na\n",
    "act_fun = 'relu'\n",
    "print(ni, na, nn)\n",
    "print('es', es)"
   ]
  },
  {
   "cell_type": "code",
   "execution_count": null,
   "metadata": {},
   "outputs": [],
   "source": [
    "plotann.show_layer_activations(tr_dense['z'], epoch_size=es, activation_function=act_fun,\n",
    "                               title_prefix='Dense', color=(0,1,0,1), figsize=[16,6])"
   ]
  },
  {
   "cell_type": "code",
   "execution_count": null,
   "metadata": {},
   "outputs": [],
   "source": [
    "plotann.show_neurons_activations(tr_dense['z'], epoch_size=es, activation_function=act_fun,\n",
    "                                 neurons=range(10), title_prefix='Dense', color=(0,1,0,1))"
   ]
  },
  {
   "cell_type": "markdown",
   "metadata": {},
   "source": [
    "# Output"
   ]
  },
  {
   "cell_type": "code",
   "execution_count": null,
   "metadata": {
    "scrolled": true
   },
   "outputs": [],
   "source": [
    "print(tr_output['W'].shape)\n",
    "es = 100*256"
   ]
  },
  {
   "cell_type": "code",
   "execution_count": null,
   "metadata": {},
   "outputs": [],
   "source": [
    "plotann.show_layer_activations(tr_output['W'], epoch_size=es, activation_function=None,\n",
    "                               title_prefix='Output Weighs', color=(.7,.7,1,1), lines_01=False, figsize=[16,6])"
   ]
  },
  {
   "cell_type": "code",
   "execution_count": null,
   "metadata": {},
   "outputs": [],
   "source": [
    "print(tr_dense['b'].shape)\n",
    "es = 500"
   ]
  },
  {
   "cell_type": "code",
   "execution_count": null,
   "metadata": {},
   "outputs": [],
   "source": [
    "plotann.show_layer_activations(np.expand_dims(tr_output['b'], 0), epoch_size=es, activation_function=None,\n",
    "                               title_prefix='Dense Biases', color=(.7,.7,1,1), lines_01=False, figsize=[16,6])"
   ]
  },
  {
   "cell_type": "markdown",
   "metadata": {},
   "source": [
    "---"
   ]
  },
  {
   "cell_type": "code",
   "execution_count": null,
   "metadata": {},
   "outputs": [],
   "source": [
    "tr_output['W'].shape"
   ]
  },
  {
   "cell_type": "code",
   "execution_count": null,
   "metadata": {
    "scrolled": false
   },
   "outputs": [],
   "source": [
    "plotann.show_neurons_weights(tr_output['W'], tr_output['dW'], neurons=range(tr_output['W'].shape[-1]),\n",
    "                            title_prefix='Output', color='lightblue', figsize=[16,4])"
   ]
  },
  {
   "cell_type": "code",
   "execution_count": null,
   "metadata": {},
   "outputs": [],
   "source": [
    "plotann.show_biases(tr_output['b']+1e-6, tr_output['db'], title_prefix='Output_Biases', color='lightblue', figsize=[16,4])"
   ]
  },
  {
   "cell_type": "code",
   "execution_count": null,
   "metadata": {},
   "outputs": [],
   "source": [
    "fig = plotann.show_layer_summary(tr_output['W'], tr_output['dW'], title_prefix='Output', \n",
    "                                 mode='norms', color='lightblue', figsize=[16,5])"
   ]
  },
  {
   "cell_type": "markdown",
   "metadata": {},
   "source": [
    "---"
   ]
  },
  {
   "cell_type": "code",
   "execution_count": null,
   "metadata": {},
   "outputs": [],
   "source": [
    "tr_output['z'].shape"
   ]
  },
  {
   "cell_type": "code",
   "execution_count": null,
   "metadata": {},
   "outputs": [],
   "source": [
    "ni, na, nn = tr_output['z'].shape\n",
    "es = (ni//20) * na\n",
    "act_fun = 'relu'\n",
    "print(ni, na, nn)\n",
    "print('es', es)"
   ]
  },
  {
   "cell_type": "code",
   "execution_count": null,
   "metadata": {},
   "outputs": [],
   "source": [
    "plotann.show_layer_activations(tr_output['z'], epoch_size=es, activation_function=None,\n",
    "                               title_prefix='Logits', color=(.7,.7,1,1), figsize=[16,6])"
   ]
  },
  {
   "cell_type": "code",
   "execution_count": null,
   "metadata": {
    "scrolled": true
   },
   "outputs": [],
   "source": [
    "plotann.show_neurons_activations(tr_output['z'], epoch_size=es, activation_function=None,\n",
    "                                 neurons=range(tr_output['z'].shape[-1]), title_prefix='Output', color=(.7,.7,1,1))"
   ]
  },
  {
   "cell_type": "markdown",
   "metadata": {},
   "source": [
    "# Targets"
   ]
  },
  {
   "cell_type": "code",
   "execution_count": null,
   "metadata": {},
   "outputs": [],
   "source": [
    "tr_y.shape"
   ]
  },
  {
   "cell_type": "code",
   "execution_count": null,
   "metadata": {},
   "outputs": [],
   "source": [
    "plotann.show_layer_activations(tr_y, epoch_size=es, activation_function=None,\n",
    "                               title_prefix='Target', color=(.7,.7,.7,1), figsize=[16,6])"
   ]
  },
  {
   "cell_type": "code",
   "execution_count": null,
   "metadata": {},
   "outputs": [],
   "source": [
    "plotann.show_neurons_activations(tr_y, epoch_size=es, activation_function=None, neurons=range(tr_y.shape[-1]),\n",
    "                                 title_prefix='Target', color=(.7,.7,.7,1))"
   ]
  },
  {
   "cell_type": "code",
   "execution_count": null,
   "metadata": {},
   "outputs": [],
   "source": []
  }
 ],
 "metadata": {
  "kernelspec": {
   "display_name": "Python 3",
   "language": "python",
   "name": "python3"
  },
  "language_info": {
   "codemirror_mode": {
    "name": "ipython",
    "version": 3
   },
   "file_extension": ".py",
   "mimetype": "text/x-python",
   "name": "python",
   "nbconvert_exporter": "python",
   "pygments_lexer": "ipython3",
   "version": "3.6.6"
  }
 },
 "nbformat": 4,
 "nbformat_minor": 2
}
