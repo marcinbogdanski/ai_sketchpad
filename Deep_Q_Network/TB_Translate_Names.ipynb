{
 "cells": [
  {
   "cell_type": "markdown",
   "metadata": {},
   "source": [
    "# Translate TensorBoard logs"
   ]
  },
  {
   "cell_type": "markdown",
   "metadata": {},
   "source": [
    "This notebook can be used to open existing TensorBoard log and re-write into new log with some variables renamed"
   ]
  },
  {
   "cell_type": "code",
   "execution_count": null,
   "metadata": {},
   "outputs": [],
   "source": [
    "import os\n",
    "import tensorflow as tf"
   ]
  },
  {
   "cell_type": "code",
   "execution_count": null,
   "metadata": {},
   "outputs": [],
   "source": [
    "inputfile = '/home/marcin/ai_sketchpad/Deep_Q_Network/tf_log_2/breakout/3/events.out.tfevents.1542684578.beast'\n",
    "tf_logdir = '/home/marcin/ai_sketchpad/Deep_Q_Network/tf_log_2/breakout_prof/my_1'"
   ]
  },
  {
   "cell_type": "code",
   "execution_count": null,
   "metadata": {},
   "outputs": [],
   "source": [
    "assert not os.path.exists(tf_logdir)\n",
    "tf_summary_writer = tf.summary.FileWriter(tf_logdir)"
   ]
  },
  {
   "cell_type": "code",
   "execution_count": null,
   "metadata": {},
   "outputs": [],
   "source": [
    "def push_summary(tag, simple_value, total_step):\n",
    "    summary = tf.Summary()\n",
    "    summary.value.add(tag=tag, simple_value=simple_value)\n",
    "    tf_summary_writer.add_summary(summary, total_step)"
   ]
  },
  {
   "cell_type": "code",
   "execution_count": null,
   "metadata": {
    "scrolled": true
   },
   "outputs": [],
   "source": [
    "summary_iterator = tf.train.summary_iterator(inputfile)\n",
    "\n",
    "eee = []\n",
    "\n",
    "for i, event in enumerate(summary_iterator):\n",
    "    \n",
    "    if event.step % 10000 == 0:\n",
    "        print(event.step)\n",
    "    \n",
    "    for val in event.summary.value:\n",
    "        if val.tag == 'Metrics/Loss' and event.step % 1000 == 0:\n",
    "            push_summary('Metrics/Loss', val.simple_value, event.step)\n",
    "        if val.tag == 'Metrics/Epsilon' and event.step % 1000 == 0:\n",
    "            push_summary('Metrics/Epsilon', val.simple_value, event.step)\n",
    "        \n",
    "        if val.tag == 'Metrics/Ep_Reward':\n",
    "            push_summary('Episodic/Ep_Reward', val.simple_value, event.step)\n",
    "        if val.tag == 'Other/StepsPerSec':\n",
    "            push_summary('Episodic/StepsPerSec', val.simple_value, event.step)\n",
    "            \n",
    "        if val.tag == 'Metrics/Reward_Avg' and event.step % 50000 == 0:\n",
    "            push_summary('Test/Reward_Avg', val.simple_value, event.step)\n",
    "        if val.tag == 'Metrics/Reward_Max' and event.step % 50000 == 0:\n",
    "            push_summary('Test/Reward_Max', val.simple_value, event.step)\n",
    "        if val.tag == 'Metrics/Average_Q' and event.step % 50000 == 0:\n",
    "            push_summary('Test/Q_Average', val.simple_value, event.step)\n",
    "            \n",
    "\n",
    "\n",
    "            \n",
    "        "
   ]
  },
  {
   "cell_type": "code",
   "execution_count": null,
   "metadata": {},
   "outputs": [],
   "source": [
    "tf_summary_writer.flush()"
   ]
  },
  {
   "cell_type": "code",
   "execution_count": null,
   "metadata": {},
   "outputs": [],
   "source": []
  }
 ],
 "metadata": {
  "kernelspec": {
   "display_name": "Python 3",
   "language": "python",
   "name": "python3"
  },
  "language_info": {
   "codemirror_mode": {
    "name": "ipython",
    "version": 3
   },
   "file_extension": ".py",
   "mimetype": "text/x-python",
   "name": "python",
   "nbconvert_exporter": "python",
   "pygments_lexer": "ipython3",
   "version": "3.6.7"
  }
 },
 "nbformat": 4,
 "nbformat_minor": 2
}
