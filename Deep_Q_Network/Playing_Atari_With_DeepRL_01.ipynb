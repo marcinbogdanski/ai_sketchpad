{
 "cells": [
  {
   "cell_type": "markdown",
   "metadata": {},
   "source": [
    "<br/>\n",
    "\n",
    "$$ \\huge{\\underline{\\textbf{ Playing Atari Games with Deep RL }}} $$\n",
    "\n",
    "$$ \\large{\\textbf{MountainCar + DQN + Memory Reply}} $$\n",
    "\n",
    "<br/>\n",
    "\n"
   ]
  },
  {
   "cell_type": "code",
   "execution_count": 212,
   "metadata": {},
   "outputs": [],
   "source": [
    "def q_learning(env, ep, gamma, eps_decay, eps_target, batch_size, q_hat, mem, callback=None, trace=None):\n",
    "    \"\"\"Episodic Semi-Gradient Sarsa\n",
    "    \n",
    "    Params:\n",
    "        env - environment\n",
    "        ep - number of episodes to run\n",
    "        gamma - discount factor [0..1]\n",
    "        eps - epsilon-greedy param\n",
    "        q_hat      - function approximator, already initialised, with methods:\n",
    "                     eval(state, action) -> float\n",
    "                     train(state, target) -> None\n",
    "    \"\"\"\n",
    "    def policy(st, q_hat, eps):\n",
    "        if np.random.rand() > eps:\n",
    "            q_values = q_hat.eval([st])\n",
    "            return argmax_rand(q_values)\n",
    "        else:\n",
    "            return np.random.choice(env.act_space)\n",
    "    \n",
    "    if eps_decay is not None:\n",
    "        eps = 1\n",
    "        eps_delta = (1-eps_target) / eps_decay\n",
    "    else:\n",
    "        eps = eps_target\n",
    "    \n",
    "    for e_ in range(ep):\n",
    "        \n",
    "        S = env.reset()\n",
    "        \n",
    "        for t_ in range(10**100):\n",
    "            \n",
    "            A = policy(S, q_hat, eps)\n",
    "            \n",
    "            S_, R, done = env.step(A)\n",
    "            \n",
    "            mem.append(S, A, R, S_, done)\n",
    "            \n",
    "            if callback is not None:\n",
    "                callback(e_, t_, S, A, R, done, eps, q_hat, mem, trace)\n",
    "            \n",
    "            # new\n",
    "            states, actions, rewards, n_states, dones, _ = mem.get_batch(batch_size)\n",
    "            targets = q_hat.eval(n_states)\n",
    "            targets[dones] = 0   # value of terminal states is zero\n",
    "            targets = targets[range(len(targets)), actions]\n",
    "            \n",
    "            #if True in dones:\n",
    "            #    pdb.set_trace()\n",
    "            \n",
    "            # q_hat.train(states, actions, targets)\n",
    "            # ---\n",
    "            \n",
    "            \n",
    "            \n",
    "            # old train\n",
    "            if done:\n",
    "                target = R\n",
    "            else:\n",
    "                max_q = np.max(q_hat.eval([S_]))\n",
    "                target = R + gamma * max_q\n",
    "            q_hat.train([S], [A], [target])\n",
    "            # ---\n",
    "            \n",
    "            if done:\n",
    "                break\n",
    "                \n",
    "            S = S_\n",
    "            \n",
    "            if eps > eps_target:\n",
    "                eps -= eps_delta\n",
    "                if eps < eps_target:\n",
    "                    eps = eps_target"
   ]
  },
  {
   "cell_type": "code",
   "execution_count": 171,
   "metadata": {},
   "outputs": [],
   "source": [
    "def test_car(env, ep, q_hat, callback=None, trace=None):\n",
    "\n",
    "    def policy(st, q_hat):\n",
    "        q_values = q_hat.eval([st])\n",
    "        return argmax_rand(q_values)\n",
    "    \n",
    "    for e_ in range(ep):\n",
    "        \n",
    "        S = env.reset()\n",
    "        \n",
    "        \n",
    "        for t_ in range(1000):       \n",
    "        \n",
    "            A = policy(S, q_hat)\n",
    "            S_, R, done = env.step(A)\n",
    "            \n",
    "            if callback is not None:\n",
    "                if t_ == 999:  done=True\n",
    "                callback(e_, t_, S, A, R, done, 0, q_hat, mem, trace)\n",
    "            \n",
    "            if done:\n",
    "                break\n",
    "                \n",
    "            S = S_"
   ]
  },
  {
   "cell_type": "markdown",
   "metadata": {},
   "source": [
    "Tile Coding - see [chapter 9.5](0905b_LM_Agg_Tile.ipynb) for introduction"
   ]
  },
  {
   "cell_type": "markdown",
   "metadata": {},
   "source": [
    "Helper functions"
   ]
  },
  {
   "cell_type": "code",
   "execution_count": 17,
   "metadata": {},
   "outputs": [],
   "source": [
    "def argmax_rand(arr):\n",
    "    # break ties randomly, np.argmax() always picks first max\n",
    "    return np.random.choice(np.flatnonzero(arr == np.max(arr)))"
   ]
  },
  {
   "cell_type": "code",
   "execution_count": 10,
   "metadata": {},
   "outputs": [],
   "source": [
    "def running_mean(x, n):\n",
    "    res = []\n",
    "    for i in range(len(x)):\n",
    "#         print('i', i)\n",
    "#         print('x[max(i-n+1, 0): i+1]', x[max(i-n+1, 0): i+1])\n",
    "#         print('min(i+1, n)', min(i+1, n))\n",
    "        \n",
    "        res.append( sum(x[max(i-n+1, 0): i+1])   /   min(i+1, n) )\n",
    "        \n",
    "#         print('res', res)\n",
    "        \n",
    "#         print('--')\n",
    "        \n",
    "    return res"
   ]
  },
  {
   "cell_type": "markdown",
   "metadata": {},
   "source": [
    "---"
   ]
  },
  {
   "cell_type": "code",
   "execution_count": 140,
   "metadata": {},
   "outputs": [],
   "source": [
    "mem = Memory(1, (2,), float)"
   ]
  },
  {
   "cell_type": "code",
   "execution_count": 142,
   "metadata": {},
   "outputs": [],
   "source": [
    "mem.append(St=[1, 1], At=1, Rt_1=1, St_1=[1,1], done_1=False )"
   ]
  },
  {
   "cell_type": "code",
   "execution_count": 144,
   "metadata": {},
   "outputs": [],
   "source": [
    "mem.append(St=[2, 2], At=1, Rt_1=1, St_1=[1,1], done_1=False )"
   ]
  },
  {
   "cell_type": "code",
   "execution_count": 146,
   "metadata": {},
   "outputs": [],
   "source": [
    "mem.append(St=[3, 3], At=1, Rt_1=1, St_1=[1,1], done_1=False )"
   ]
  },
  {
   "cell_type": "code",
   "execution_count": 148,
   "metadata": {},
   "outputs": [
    {
     "data": {
      "text/plain": [
       "(array([[3., 3.]]),\n",
       " array([1]),\n",
       " array([1.]),\n",
       " array([[1., 1.]]),\n",
       " array([False]),\n",
       " array([0]))"
      ]
     },
     "execution_count": 148,
     "metadata": {},
     "output_type": "execute_result"
    }
   ],
   "source": [
    "mem.get_batch(1)"
   ]
  },
  {
   "cell_type": "code",
   "execution_count": 149,
   "metadata": {},
   "outputs": [
    {
     "name": "stdout",
     "output_type": "stream",
     "text": [
      "\n",
      "_hist_St\n",
      "[[3. 3.]]\n",
      "\n",
      "_hist_At\n",
      "[1]\n",
      "\n",
      "_hist_Rt_1\n",
      "[1.]\n",
      "\n",
      "_hist_St_1\n",
      "[[1. 1.]]\n",
      "\n",
      "_hist_done_1\n",
      "[False]\n"
     ]
    }
   ],
   "source": [
    "mem._print_all()"
   ]
  },
  {
   "cell_type": "markdown",
   "metadata": {},
   "source": [
    "# Experiment Setup"
   ]
  },
  {
   "cell_type": "markdown",
   "metadata": {},
   "source": [
    "Imports (source file: [tiles3.py](tiles3.py), [helpers_1001.py](helpers_1001.py))"
   ]
  },
  {
   "cell_type": "code",
   "execution_count": 11,
   "metadata": {},
   "outputs": [],
   "source": [
    "import time\n",
    "import numpy as np\n",
    "import matplotlib.pyplot as plt\n",
    "from mpl_toolkits.mplot3d import axes3d\n",
    "from matplotlib.colors import ListedColormap\n",
    "from collections import OrderedDict\n",
    "from mountain_car import MountainCarEnv\n",
    "import tiles3           # by Richard Sutton, http://incompleteideas.net/tiles/tiles3.html"
   ]
  },
  {
   "cell_type": "markdown",
   "metadata": {},
   "source": [
    "Environment"
   ]
  },
  {
   "cell_type": "code",
   "execution_count": 12,
   "metadata": {},
   "outputs": [],
   "source": [
    "env = MountainCarEnv()"
   ]
  },
  {
   "cell_type": "markdown",
   "metadata": {},
   "source": [
    "Create function approximator and solve"
   ]
  },
  {
   "cell_type": "markdown",
   "metadata": {},
   "source": [
    "# Run Q-Learn Experiment"
   ]
  },
  {
   "cell_type": "markdown",
   "metadata": {},
   "source": [
    "We will need callback to capture q-value array for whole state-action space at specified episodes."
   ]
  },
  {
   "cell_type": "code",
   "execution_count": 13,
   "metadata": {},
   "outputs": [],
   "source": [
    "import pdb"
   ]
  },
  {
   "cell_type": "code",
   "execution_count": 66,
   "metadata": {},
   "outputs": [],
   "source": [
    "class EpisodeLog():\n",
    "    def __init__(self, episode_nb):\n",
    "        self.episode_nb = episode_nb\n",
    "        self.total_tstep_finish = 0\n",
    "        self.q_values = None\n",
    "        self.states = []\n",
    "        self.actions = []\n",
    "        self.rewards = []  # t+1\n",
    "        self.dones = []    # t+1\n",
    "        \n",
    "class Trace():\n",
    "    def __init__(self):\n",
    "        self.total_tstep = 0\n",
    "        self.episodes = []\n",
    "        self.epsilons = []"
   ]
  },
  {
   "cell_type": "code",
   "execution_count": 179,
   "metadata": {},
   "outputs": [],
   "source": [
    "def callback(episode, tstep, st, act, rew_, done_, eps, model, memory, trace):\n",
    "    \"\"\"Called from gradient_MC after every episode.\n",
    "    \n",
    "    Params:\n",
    "        episode [int] - episode number\n",
    "        tstep [int]   - timestep within episode\n",
    "        model [obj]   - function approximator\n",
    "        trace [list]  - list to write results to\"\"\"\n",
    "    \n",
    "            \n",
    "    if tstep == 0:\n",
    "        trace.episodes.append(EpisodeLog(episode))\n",
    "    \n",
    "    trace.episodes[-1].total_tstep_finish = trace.total_tstep\n",
    "    trace.episodes[-1].states.append(st)\n",
    "    trace.episodes[-1].actions.append(act)\n",
    "    trace.episodes[-1].rewards.append(rew_)\n",
    "    trace.episodes[-1].dones.append(done_)\n",
    "    trace.epsilons.append(eps)\n",
    "    \n",
    "    if done_:\n",
    "        q_arr = eval_state_action_space(model, env)\n",
    "        trace.episodes[-1].q_values = q_arr\n",
    "    \n",
    "    if episode % 10 == 0 and tstep == 0:    \n",
    "        print('.', end='')\n",
    "        \n",
    "    trace.total_tstep += 1"
   ]
  },
  {
   "cell_type": "markdown",
   "metadata": {},
   "source": [
    "---"
   ]
  },
  {
   "cell_type": "code",
   "execution_count": 68,
   "metadata": {},
   "outputs": [
    {
     "name": "stdout",
     "output_type": "stream",
     "text": [
      "0\n"
     ]
    }
   ],
   "source": [
    "q_trace = Trace()\n",
    "q_hat = TileCodingFuncApprox(env.state_low, env.state_high, env.act_space,\n",
    "                             learn_rate=0.1, num_tilings=8, init_val=0)\n",
    "mem = Memory(max_len=10000, state_shape=(2,), state_dtype=float)\n",
    "q_learning(env, ep=100, gamma=1.0, eps_decay=40000, eps_target=0.1,\n",
    "           q_hat=q_hat, mem=mem, callback=callback, trace=q_trace)"
   ]
  },
  {
   "cell_type": "code",
   "execution_count": 71,
   "metadata": {},
   "outputs": [
    {
     "name": "stdout",
     "output_type": "stream",
     "text": [
      "0\n"
     ]
    }
   ],
   "source": [
    "# Continue learning\n",
    "q_learning(env, ep=20, gamma=1.0, eps_decay=None, eps_target=0.15,\n",
    "           q_hat=q_hat, mem=mem, callback=callback, trace=q_trace)"
   ]
  },
  {
   "cell_type": "code",
   "execution_count": null,
   "metadata": {},
   "outputs": [],
   "source": [
    "# Test car\n",
    "test_car(env, ep=20, q_hat=q_hat, callback=callback, trace=q_trace)"
   ]
  },
  {
   "cell_type": "markdown",
   "metadata": {},
   "source": [
    "Plot"
   ]
  },
  {
   "cell_type": "code",
   "execution_count": 103,
   "metadata": {},
   "outputs": [],
   "source": [
    "def experiment(ep, eps_decay, eps_target):\n",
    "    q_trace = Trace()\n",
    "    q_hat = TileCodingFuncApprox(env.state_low, env.state_high, env.act_space,\n",
    "                                 learn_rate=0.1, num_tilings=8, init_val=0)\n",
    "    mem = Memory(max_len=10000, state_shape=(2,), state_dtype=float)\n",
    "    q_learning(env, ep=ep, gamma=1.0, eps_decay=eps_decay, eps_target=eps_target,\n",
    "               q_hat=q_hat, mem=mem, callback=callback, trace=q_trace)\n",
    "    \n",
    "    test_car(env, ep=20, q_hat=q_hat, callback=callback, trace=q_trace)\n",
    "    print()\n",
    "    return q_trace"
   ]
  },
  {
   "cell_type": "code",
   "execution_count": 93,
   "metadata": {},
   "outputs": [],
   "source": [
    "def take_rew_eps(trace):\n",
    "    rewards = [sum(trace.episodes[i].rewards) for i in range(len(trace.episodes))]\n",
    "    episodes = [trace.episodes[i].total_tstep_finish for i in range(len(trace.episodes))]\n",
    "    return episodes, rewards"
   ]
  },
  {
   "cell_type": "code",
   "execution_count": 101,
   "metadata": {},
   "outputs": [
    {
     "name": "stdout",
     "output_type": "stream",
     "text": [
      "................................................"
     ]
    }
   ],
   "source": [
    "q_trace_1 = experiment(ep=100, eps_decay=40000, eps_target=0.1)\n",
    "q_trace_2 = experiment(ep=100, eps_decay=40000, eps_target=0.1)\n",
    "q_trace_3 = experiment(ep=100, eps_decay=40000, eps_target=0.1)\n",
    "q_trace_4 = experiment(ep=100, eps_decay=40000, eps_target=0.1)\n",
    "q_trace_5 = experiment(ep=100, eps_decay=40000, eps_target=0.1)\n",
    "q_traces = [q_trace_1, q_trace_2, q_trace_3, q_trace_4, q_trace_5]\n",
    "q_colors = ['blue'] * len(q_traces)"
   ]
  },
  {
   "cell_type": "code",
   "execution_count": 213,
   "metadata": {},
   "outputs": [],
   "source": [
    "def experiment_2(ep, eps_decay, eps_target):\n",
    "    q_trace = Trace()\n",
    "    q_hat = TileCodingFuncApprox(env.state_low, env.state_high, env.act_space,\n",
    "                                 learn_rate=0.1, num_tilings=8, init_val=0)\n",
    "    mem = Memory(max_len=1, state_shape=(2,), state_dtype=float)\n",
    "    q_learning(env, ep=ep, gamma=1.0, eps_decay=eps_decay, eps_target=eps_target, batch_size=1,\n",
    "               q_hat=q_hat, mem=mem, callback=callback, trace=q_trace)\n",
    "    \n",
    "    test_car(env, ep=20, q_hat=q_hat, callback=callback, trace=q_trace)\n",
    "    print()\n",
    "    return q_trace"
   ]
  },
  {
   "cell_type": "code",
   "execution_count": 216,
   "metadata": {
    "scrolled": false
   },
   "outputs": [
    {
     "name": "stdout",
     "output_type": "stream",
     "text": [
      "............\n"
     ]
    }
   ],
   "source": [
    "d_trace_1 = experiment_2(ep=100, eps_decay=None, eps_target=0.01)"
   ]
  },
  {
   "cell_type": "code",
   "execution_count": 217,
   "metadata": {},
   "outputs": [
    {
     "data": {
      "image/png": "[encoded data removed]",
      "text/plain": [
       "<Figure size 1152x648 with 2 Axes>"
      ]
     },
     "metadata": {},
     "output_type": "display_data"
    }
   ],
   "source": [
    "\n",
    "fig = plt.figure(figsize=[16,9])\n",
    "ax = fig.add_subplot(111)\n",
    "ax.set_ylim([-1500, 0])\n",
    "ax2 = ax.twinx()\n",
    "\n",
    "for trace, color in  zip(q_traces, q_colors):\n",
    "    episodes, rewards = take_rew_eps(trace)\n",
    "    ax.plot(episodes, rewards, color=color, alpha=0.2)\n",
    "    ax2.plot(trace.epsilons, color=color, alpha=0.2)\n",
    "\n",
    "for trace in [d_trace_1]:\n",
    "    episodes, rewards = take_rew_eps(trace)\n",
    "    ax.plot(episodes, rewards, color='red', alpha=1)\n",
    "    ax2.plot(trace.epsilons, color='red', alpha=1)\n",
    "    \n",
    "\n",
    "plt.tight_layout()\n",
    "plt.show()"
   ]
  },
  {
   "cell_type": "markdown",
   "metadata": {},
   "source": [
    "# Run Sarsa Experiment"
   ]
  },
  {
   "cell_type": "markdown",
   "metadata": {},
   "source": [
    "---"
   ]
  },
  {
   "cell_type": "markdown",
   "metadata": {},
   "source": [
    "# Plot results"
   ]
  },
  {
   "cell_type": "code",
   "execution_count": 41,
   "metadata": {},
   "outputs": [
    {
     "data": {
      "image/png": "[encoded data removed]",
      "text/plain": [
       "<Figure size 864x432 with 1 Axes>"
      ]
     },
     "metadata": {},
     "output_type": "display_data"
    }
   ],
   "source": [
    "fig = plt.figure(figsize=[12,6])\n",
    "ax = fig.add_subplot(111)\n",
    "rewards_q_learning_train = [sum(q_trace.episodes[i].rewards) for i in range(len(q_trace.episodes))]\n",
    "rewards_q_learning_test = [sum(qt_trace.episodes[i].rewards) for i in range(len(qt_trace.episodes))]\n",
    "ax.plot(rewards_q_learning_train + rewards_q_learning_test, label='Q-Learning')\n",
    "ax.plot(rewards_q_learning_train)\n",
    "ax.plot(running_mean(rewards_q_learning_train + rewards_q_learning_test, 10), label='Q-Learning')\n",
    "#ax.set_ylim([-250, 0])\n",
    "ax.legend()\n",
    "plt.tight_layout()\n",
    "plt.show()"
   ]
  },
  {
   "cell_type": "code",
   "execution_count": 319,
   "metadata": {},
   "outputs": [],
   "source": [
    "for episode_log in qt_trace.episodes:\n",
    "    plot_mountain_car(env, episode_log )"
   ]
  },
  {
   "cell_type": "code",
   "execution_count": 318,
   "metadata": {},
   "outputs": [],
   "source": [
    "for episode_log in q_trace.episodes[::100]:\n",
    "    plot_mountain_car(env, episode_log )"
   ]
  },
  {
   "cell_type": "code",
   "execution_count": 198,
   "metadata": {},
   "outputs": [],
   "source": [
    "# for episode_log in s_trace.episodes[-20:]:\n",
    "#     plot_mountain_car(q_arr = episode_log.q_values,\n",
    "#                       states = episode_log.states,\n",
    "#                       actions = episode_log.actions,\n",
    "#                       env = env,\n",
    "#                       episode = episode_log.episode_nb)"
   ]
  },
  {
   "cell_type": "markdown",
   "metadata": {},
   "source": [
    "---"
   ]
  },
  {
   "cell_type": "markdown",
   "metadata": {},
   "source": [
    "# Appendix - function definitions"
   ]
  },
  {
   "cell_type": "code",
   "execution_count": 1,
   "metadata": {},
   "outputs": [],
   "source": [
    "def plot_mountain_car(env, episode_log):\n",
    "    \n",
    "    q_arr = episode_log.q_values\n",
    "    states = episode_log.states\n",
    "    actions = episode_log.actions\n",
    "    episode = episode_log.episode_nb\n",
    "\n",
    "    \n",
    "    fig = plt.figure(figsize=[12,4])\n",
    "\n",
    "    if q_arr is not None:\n",
    "        ax = fig.add_subplot(131, projection='3d')\n",
    "        plot_q_max_3d(q_arr, env, title='Episode '+str(episode), \n",
    "                      labels=['Position', 'Velocity', ''], alpha=.4, axis=ax)\n",
    "\n",
    "    ax = fig.add_subplot(132)\n",
    "    plot_trajectory(states, actions, env, labels=['Position', 'Velocity'], axis=ax)\n",
    "    \n",
    "    ax = fig.add_subplot(133)\n",
    "    plot_policy(q_arr, env, labels=['Position', 'Velocity'],\n",
    "                colors=['red', 'blue','green'], collab=['left', 'idle', 'right'], axis=ax)\n",
    "\n",
    "    plt.tight_layout()\n",
    "    plt.show()"
   ]
  },
  {
   "cell_type": "code",
   "execution_count": 2,
   "metadata": {},
   "outputs": [],
   "source": [
    "def plot_trajectory(states, actions, env, labels, axis=None):\n",
    "    if not isinstance(states, np.ndarray): states = np.array(states)\n",
    "    if not isinstance(actions, np.ndarray): actions = np.array(actions)\n",
    "    \n",
    "    if axis is None:\n",
    "        fig = plt.figure()\n",
    "        axis = fig.add_subplot(111)\n",
    "    \n",
    "    if len(states) == 0:\n",
    "        axis.scatter(np.array([]), np.array([]))\n",
    "    else:\n",
    "        axis.scatter(states[actions==0,0], states[actions==0,1], marker='.', color='red')\n",
    "        axis.scatter(states[actions==1,0], states[actions==1,1], marker='.', color='blue')\n",
    "        axis.scatter(states[actions==2,0], states[actions==2,1], marker='.', color='green')\n",
    "        \n",
    "    x_min, x_max = env.state_low[0], env.state_high[0]\n",
    "    y_min, y_max = env.state_low[1], env.state_high[1]\n",
    "    axis.set_xticks([x_min, x_max])\n",
    "    #axis.set_xticklabels([x_min,x_max])\n",
    "    axis.set_yticks([y_min, y_max])\n",
    "    #axis.set_yticklabels([y_min,y_max])\n",
    "    \n",
    "    axis.set_xlabel(labels[0])\n",
    "    axis.set_ylabel(labels[1])"
   ]
  },
  {
   "cell_type": "code",
   "execution_count": 3,
   "metadata": {},
   "outputs": [],
   "source": [
    "def plot_policy(q_arr, env, labels, colors, collab, axis=None):\n",
    "    \"\"\"\"\"\"\n",
    "    q_pol = np.argmax(q_arr, axis=-1)\n",
    "    \n",
    "    cmap = ListedColormap(colors)\n",
    "    \n",
    "    if axis is None:\n",
    "        fig = plt.figure()\n",
    "        axis = fig.add_subplot(111)\n",
    "        \n",
    "    heatmap = axis.pcolormesh(q_pol.T, cmap=cmap)\n",
    "    axis.set_aspect('equal', 'datalim')\n",
    "    cbar = plt.colorbar(heatmap)\n",
    "    cbar.set_ticks(range(len(collab)))\n",
    "    cbar.set_ticklabels(collab)\n",
    "    \n",
    "    x_min, x_max = env.state_low[0], env.state_high[0]\n",
    "    y_min, y_max = env.state_low[1], env.state_high[1]\n",
    "    axis.set_xticks([0, q_arr.shape[0]])\n",
    "    axis.set_xticklabels([x_min,x_max])\n",
    "    axis.set_yticks([0, q_arr.shape[1]])\n",
    "    axis.set_yticklabels([y_min,y_max])\n",
    "    \n",
    "    axis.set_xlabel(labels[0])\n",
    "    axis.set_ylabel(labels[1])"
   ]
  },
  {
   "cell_type": "code",
   "execution_count": 4,
   "metadata": {},
   "outputs": [],
   "source": [
    "def plot_q_max_3d(q_arr, env, color='#1f77b4', alpha=1.,\n",
    "                  title='', labels=['x','y','z'], axis=None):\n",
    "    \"\"\"Plot 3D wireframe\n",
    "    \n",
    "    Params:\n",
    "        q_arr     - 2d array with dim: [state_x, state_y]\n",
    "        env       - environment with members:\n",
    "                      st_low - state space low boundry e.g. [-1.2, -0.07]\n",
    "                      st_high - state space high boundry\n",
    "        color     - plot color\n",
    "        alpha     - plot transparency\n",
    "        labels    - string array [label_x, label_y, label_z], len=3, empty str to omit\n",
    "        axis      - axis to plot to, if None create new figure\n",
    "    \"\"\"\n",
    "    q_max = -1 * np.max(q_arr, axis=-1)  # calc max and inverse\n",
    "    \n",
    "    x_min, x_max = env.state_low[0], env.state_high[0]\n",
    "    y_min, y_max = env.state_low[1], env.state_high[1]\n",
    "    x_space = np.linspace(x_min, x_max, num=q_max.shape[0])\n",
    "    y_space = np.linspace(y_min, y_max, num=q_max.shape[1])\n",
    "    Y, X = np.meshgrid(y_space, x_space)\n",
    "    \n",
    "    if axis is None:\n",
    "        fig = plt.figure()\n",
    "        axis = fig.add_subplot(111, projection='3d')\n",
    "\n",
    "    axis.plot_wireframe(X, Y, q_max, color=color, alpha=alpha)\n",
    "    axis.set_xlabel(labels[0])\n",
    "    axis.set_ylabel(labels[1])\n",
    "    axis.set_zlabel(labels[2])\n",
    "    axis.set_xticks([x_min, x_max])\n",
    "    axis.set_yticks([y_min, y_max])\n",
    "    axis.set_title(title)\n",
    "    \n",
    "    axis.view_init(40, -70)"
   ]
  },
  {
   "cell_type": "code",
   "execution_count": 184,
   "metadata": {},
   "outputs": [],
   "source": [
    "def eval_state_action_space(q_hat, env, split=[32,32]):\n",
    "    \"\"\"Evaluate 2d Q-function on area and return as 3d array\n",
    "    \n",
    "    Params:\n",
    "        q_hat     - function approximator with method: q_hat.eval(state, action) -> float\n",
    "        env       - environment with members:\n",
    "                      st_low - state space low boundry e.g. [-1.2, -0.07]\n",
    "                      st_high - state space high boundry\n",
    "                      act_space - action space, e.g. [0, 1, 2]\n",
    "        split     - number of data points in each dimensions, e.g. [20, 20]\n",
    "    \"\"\"\n",
    "    x_min, x_max = env.state_low[0], env.state_high[0]\n",
    "    y_min, y_max = env.state_low[1], env.state_high[1]\n",
    "    x_split, y_split = split\n",
    "    \n",
    "    q_arr = np.zeros([x_split, y_split, len(env.act_space)])\n",
    "\n",
    "    for pi, pos in enumerate(np.linspace(x_min, x_max, x_split)):\n",
    "        for vi, vel in enumerate(np.linspace(y_min, y_max, y_split)):\n",
    "            q_values = q_hat.eval(states=[[pos, vel]])[0]\n",
    "            for act in env.act_space:\n",
    "                q_arr[pi, vi, act] = q_values[act]\n",
    "                \n",
    "    return q_arr"
   ]
  },
  {
   "cell_type": "code",
   "execution_count": 6,
   "metadata": {},
   "outputs": [],
   "source": [
    "class Memory:\n",
    "    \"\"\"Circular buffer for DQN memory reply. Fairly fast.\"\"\"\n",
    "\n",
    "    def __init__(self, max_len, state_shape, state_dtype):\n",
    "        \"\"\"\n",
    "        Args:\n",
    "            max_len: maximum capacity\n",
    "            state_space: gym.spaces.Box (tested) or Discrete (not tested)\n",
    "            action_space: gym.spaces.Box (not tested) or Discrete (tested)\n",
    "        \"\"\"\n",
    "        assert isinstance(max_len, int)\n",
    "        assert max_len > 0\n",
    "\n",
    "        self._max_len = max_len                            # maximum length        \n",
    "        self._curr_insert_ptr = 0                          # index to insert next data sample\n",
    "        self._curr_len = 0                                 # number of currently stored elements\n",
    "\n",
    "        state_arr_shape = [self._max_len] + list(state_shape)\n",
    "\n",
    "        self._hist_St = np.zeros(state_arr_shape, dtype=state_dtype)\n",
    "        self._hist_At = np.zeros(self._max_len, dtype=int)\n",
    "        self._hist_Rt_1 = np.zeros(self._max_len, dtype=float)\n",
    "        self._hist_St_1 = np.zeros(state_arr_shape, dtype=state_dtype)\n",
    "        self._hist_done_1 = np.zeros(self._max_len, dtype=bool)\n",
    "\n",
    "    def append(self, St, At, Rt_1, St_1, done_1):\n",
    "        \"\"\"Add one sample to memory, override oldest if max_len reached.\n",
    "\n",
    "        Args:\n",
    "            St [np.ndarray]   - state\n",
    "            At [int]          - action\n",
    "            Rt_1 [float]      - reward\n",
    "            St_1 [np.ndarray] - next state\n",
    "            done_1 [bool]       - next state terminal?\n",
    "        \"\"\"\n",
    "        self._hist_St[self._curr_insert_ptr] = St\n",
    "        self._hist_At[self._curr_insert_ptr] = At\n",
    "        self._hist_Rt_1[self._curr_insert_ptr] = Rt_1\n",
    "        self._hist_St_1[self._curr_insert_ptr] = St_1\n",
    "        self._hist_done_1[self._curr_insert_ptr] = done_1\n",
    "        \n",
    "        if self._curr_len < self._max_len:                 # keep track of current length\n",
    "            self._curr_len += 1\n",
    "            \n",
    "        self._curr_insert_ptr += 1                         # increment insertion pointer\n",
    "        if self._curr_insert_ptr >= self._max_len:         # roll to zero if needed\n",
    "            self._curr_insert_ptr = 0\n",
    "\n",
    "    def __len__(self):\n",
    "        \"\"\"Number of samples in memory, 0 <= length <= max_len\"\"\"\n",
    "        return self._curr_len\n",
    "\n",
    "    def get_batch(self, batch_len):\n",
    "        \"\"\"Sample batch of data, with repetition\n",
    "\n",
    "        Args:\n",
    "            batch_len: nb of samples to pick\n",
    "\n",
    "        Returns:\n",
    "            states, actions, rewards, next_states, next_done, indices\n",
    "            Each returned element is np.ndarray with length == batch_len\n",
    "        \"\"\"\n",
    "        assert self._curr_len > 0\n",
    "        assert batch_len > 0\n",
    "\n",
    "        # np.random.randint much faster than np.random.sample\n",
    "        indices = np.random.randint(\n",
    "            low=0, high=self._curr_len, size=batch_len, dtype=int)\n",
    "\n",
    "        states = np.take(self._hist_St, indices, axis=0)\n",
    "        actions = np.take(self._hist_At, indices, axis=0)\n",
    "        rewards_1 = np.take(self._hist_Rt_1, indices, axis=0)\n",
    "        states_1 = np.take(self._hist_St_1, indices, axis=0)\n",
    "        dones_1 = np.take(self._hist_done_1, indices, axis=0)\n",
    "\n",
    "        return states, actions, rewards_1, states_1, dones_1, indices\n",
    "\n",
    "    def pick_last_episode(self):\n",
    "        \n",
    "        states, actions, rewards_1, states_1, dones_1, indices = self.pick_last(self._curr_len)\n",
    "\n",
    "        end_of_episode_indices = np.nonzero(dones_1)[0]\n",
    "        if len(end_of_episode_indices) >= 2:\n",
    "            current_episode_last_step = end_of_episode_indices[-1]\n",
    "            previous_episode_last_step = end_of_episode_indices[-2]\n",
    "        else:\n",
    "            return np.array([]), np.array([]), np.array([]), \\\n",
    "                   np.array([]), np.array([]), np.array([])\n",
    "        \n",
    "        states = states[previous_episode_last_step+1 : current_episode_last_step+1]\n",
    "        actions = actions[previous_episode_last_step+1 : current_episode_last_step+1]\n",
    "        rewards_1 = rewards_1[previous_episode_last_step+1 : current_episode_last_step+1]\n",
    "        states_1 = states_1[previous_episode_last_step+1 : current_episode_last_step+1]\n",
    "        dones_1 = dones_1[previous_episode_last_step+1 : current_episode_last_step+1]\n",
    "        indices = indices[previous_episode_last_step+1 : current_episode_last_step+1]\n",
    "        \n",
    "        return states, actions, rewards_1, states_1, dones_1, indices\n",
    "    \n",
    "    def pick_last(self, nb):\n",
    "        \"\"\"Pick last nb elements from memory\n",
    "        \n",
    "        Returns:\n",
    "            states, actions, rewards, next_states, done_1, indices\n",
    "            Each returned element is np.ndarray with length == batch_len\n",
    "        \"\"\"\n",
    "        assert nb <= self._curr_len\n",
    "        \n",
    "        start = self._curr_insert_ptr - nb                # inclusive\n",
    "        end = self._curr_insert_ptr                       # not inclusive\n",
    "        indices = np.array(range(start,end), dtype=int)   # indices to pick, can be negative\n",
    "        indices[indices < 0] += self._curr_len            # loop negative to positive\n",
    "        \n",
    "        states = np.take(self._hist_St, indices, axis=0)\n",
    "        actions = np.take(self._hist_At, indices, axis=0)\n",
    "        rewards_1 = np.take(self._hist_Rt_1, indices, axis=0)\n",
    "        states_1 = np.take(self._hist_St_1, indices, axis=0)\n",
    "        dones_1 = np.take(self._hist_done_1, indices, axis=0)\n",
    "        \n",
    "        return states, actions, rewards_1, states_1, dones_1, indices\n",
    "    \n",
    "    def _print_all(self):\n",
    "        print()\n",
    "        print('_hist_St')\n",
    "        print(self._hist_St)\n",
    "\n",
    "        print()\n",
    "        print('_hist_At')\n",
    "        print(self._hist_At)\n",
    "\n",
    "        print()\n",
    "        print('_hist_Rt_1')\n",
    "        print(self._hist_Rt_1)\n",
    "\n",
    "        print()\n",
    "        print('_hist_St_1')\n",
    "        print(self._hist_St_1)\n",
    "\n",
    "        print()\n",
    "        print('_hist_done_1')\n",
    "        print(self._hist_done_1)"
   ]
  },
  {
   "cell_type": "code",
   "execution_count": 182,
   "metadata": {},
   "outputs": [],
   "source": [
    "class TileCodingFuncApprox():\n",
    "    def __init__(self, st_low, st_high, action_space, learn_rate, num_tilings, init_val):\n",
    "        \"\"\"\n",
    "        Params:\n",
    "            st_low       - state space low boundry, e.g. [-1.2, -0.07] for mountain car\n",
    "            st_high      - state space high boundry in all dimensions\n",
    "            action_space - list of possible actions\n",
    "            learn_rate   - step size, will be adjusted for nb_tilings automatically\n",
    "            num_tilings  - tiling layers - should be power of 2 and at least 4*len(st_low)\n",
    "            init_val     - initial state-action values\n",
    "        \"\"\"\n",
    "        assert len(st_low) == len(st_high)\n",
    "        self._n_dim = len(st_low)\n",
    "        self._act_space = action_space\n",
    "        self._lr = learn_rate / num_tilings\n",
    "        self._num_tilings = num_tilings\n",
    "        self._scales = self._num_tilings / (st_high - st_low)\n",
    "        \n",
    "        # e.g. 8 tilings, 2d space, 3 actions\n",
    "        # nb_total_tiles = (8+1) * (8+1) * 8 * 3\n",
    "        nb_total_tiles = (num_tilings+1)**self._n_dim * num_tilings * len(action_space)\n",
    "                \n",
    "        self._iht = tiles3.IHT(nb_total_tiles)\n",
    "        self._weights = np.zeros(nb_total_tiles) + init_val / num_tilings\n",
    "        \n",
    "    def eval(self, states):\n",
    "        all_q_values = []\n",
    "        for state in states:\n",
    "            assert len(state) == self._n_dim\n",
    "            scaled_state = np.multiply(self._scales, state)  # scale state to map to tiles correctly\n",
    "            q_values = []\n",
    "            for action in self._act_space:\n",
    "                active_tiles = tiles3.tiles(                 # find active tiles\n",
    "                    self._iht, self._num_tilings,\n",
    "                    scaled_state, [action])\n",
    "                q_val = np.sum(self._weights[active_tiles])  # pick correct weights and sum up\n",
    "                q_values.append(q_val)                       # store result for this action\n",
    "            all_q_values.append(q_values)\n",
    "        return np.array(all_q_values)\n",
    "\n",
    "    def train(self, states, actions, targets):\n",
    "        assert len(states) == len(actions) == len(targets)\n",
    "        \n",
    "        for i in range(len(states)):\n",
    "            state = states[i]\n",
    "            action = actions[i]\n",
    "            target = targets[i]\n",
    "            \n",
    "            assert len(state) == self._n_dim\n",
    "            assert np.isscalar(action)\n",
    "            assert np.isscalar(target)\n",
    "            \n",
    "            scaled_state = np.multiply(self._scales, state)  # scale state to map to tiles correctly\n",
    "            active_tiles = tiles3.tiles(                     # find active tiles\n",
    "                self._iht, self._num_tilings,\n",
    "                scaled_state, [action])\n",
    "            value = np.sum(self._weights[active_tiles])      # q-value for state-action pair\n",
    "            delta = self._lr * (target - value)              # grad is [0,1,0,0,..]\n",
    "            self._weights[active_tiles] += delta             # ..so we pick active weights instead"
   ]
  },
  {
   "cell_type": "code",
   "execution_count": null,
   "metadata": {},
   "outputs": [],
   "source": []
  }
 ],
 "metadata": {
  "kernelspec": {
   "display_name": "Python 3",
   "language": "python",
   "name": "python3"
  },
  "language_info": {
   "codemirror_mode": {
    "name": "ipython",
    "version": 3
   },
   "file_extension": ".py",
   "mimetype": "text/x-python",
   "name": "python",
   "nbconvert_exporter": "python",
   "pygments_lexer": "ipython3",
   "version": "3.6.5"
  }
 },
 "nbformat": 4,
 "nbformat_minor": 2
}
