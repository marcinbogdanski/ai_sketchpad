{
 "cells": [
  {
   "cell_type": "code",
   "execution_count": 1,
   "metadata": {},
   "outputs": [],
   "source": [
    "import numpy as np"
   ]
  },
  {
   "cell_type": "code",
   "execution_count": 2,
   "metadata": {},
   "outputs": [],
   "source": [
    "class NodeBase:\n",
    "    def __init__(self, name, input_nodes=[]):\n",
    "        self.name = name\n",
    "        self.inputs = input_nodes\n",
    "        self.value = None        \n",
    "        self.outputs = []\n",
    "        self.gradients = {}\n",
    "        for node in self.inputs:\n",
    "            node.outputs.append(self)\n",
    "    \n",
    "    def forward(self, value):\n",
    "        raise NotImplementedError()\n",
    "        \n",
    "    def backward(self):\n",
    "        raise NotImplementedError()\n",
    "        \n",
    "    def show(self):\n",
    "        print(self.name)\n",
    "        print('  in: ', [n.name for n in self.inputs])\n",
    "        print('  val:', self.value)\n",
    "        print('  out:', [n.name for n in self.outputs])\n",
    "        print('  gra: ', end='')\n",
    "        for k, v in self.gradients.items():\n",
    "            print(k.name, v, end='  ')\n",
    "        print()\n",
    "        #print('  gra:', [' '.join([k.name, v]) for k, v in self.gradients.items()])"
   ]
  },
  {
   "cell_type": "code",
   "execution_count": 3,
   "metadata": {},
   "outputs": [],
   "source": [
    "class NodeInput(NodeBase):\n",
    "    def forward(self, value=None):\n",
    "        if value is not None:\n",
    "            self.value = value\n",
    "    def backward(self):\n",
    "        grad_sum = np.sum([o.gradients[self] for o in self.outputs])\n",
    "        self.gradients[self] = grad_sum\n",
    "            \n",
    "class NodeOutput(NodeBase):\n",
    "    def forward(self, ignore=None):\n",
    "        assert len(self.inputs) == 1\n",
    "        assert len(self.outputs) == 0\n",
    "        self.value = self.inputs[0].value\n",
    "    def backward(self):\n",
    "        self.gradients[self.inputs[0]] = 1  # wrt self"
   ]
  },
  {
   "cell_type": "code",
   "execution_count": 12,
   "metadata": {},
   "outputs": [],
   "source": [
    "class NodeAdd(NodeBase):\n",
    "    def forward(self, ignore=None):\n",
    "        assert len(self.inputs) == 2\n",
    "        self.value = self.inputs[0].value + self.inputs[1].value\n",
    "    def backward(self):\n",
    "        grad_sum = np.sum([o.gradients[self] for o in self.outputs])\n",
    "        self.gradients[self.inputs[0]] = grad_sum\n",
    "        self.gradients[self.inputs[1]] = grad_sum\n",
    "            \n",
    "class NodeSubstract(NodeBase):\n",
    "    def forward(self, ignore=None):\n",
    "        assert len(self.inputs) == 2\n",
    "        self.value = self.inputs[0].value - self.inputs[1].value\n",
    "    def backward(self):\n",
    "        grad_sum = np.sum([o.gradients[self] for o in self.outputs])\n",
    "        self.gradients[self.inputs[0]] = grad_sum\n",
    "        self.gradients[self.inputs[1]] = -grad_sum\n",
    "\n",
    "class NodeMult(NodeBase):\n",
    "    def forward(self, ignore=None):\n",
    "        assert len(self.inputs) == 2\n",
    "        self.value = self.inputs[0].value * self.inputs[1].value\n",
    "    def backward(self):\n",
    "        grad_sum = np.sum([o.gradients[self] for o in self.outputs])\n",
    "        self.gradients[self.inputs[0]] = self.inputs[1].value * grad_sum\n",
    "        self.gradients[self.inputs[1]] = self.inputs[0].value * grad_sum\n",
    "\n",
    "class NodePower(NodeBase):\n",
    "    def forward(self, ignore=None):\n",
    "        assert len(self.inputs) == 1\n",
    "        self.value = self.inputs[0].value**2\n",
    "    def backward(self):\n",
    "        grad_sum = np.sum([o.gradients[self] for o in self.outputs])\n",
    "        self.gradients[self.inputs[0]] = 2*grad_sum\n",
    "\n",
    "class NodeReduceSum(NodeBase):\n",
    "    def forward(self, ignore=None):\n",
    "        assert len(self.inputs) == 1\n",
    "        self.value = np.sum(self.inputs[0].value)\n",
    "    def backward(self):\n",
    "        grad_sum = np.sum([o.gradients[self] for o in self.outputs])\n",
    "        self.gradients[self.inputs[0]] = np.ones_like(self.inputs[0].value) * grad_sum\n",
    "\n",
    "class NodeDot(NodeBase):\n",
    "    def forward(self, ignore=None):\n",
    "        assert len(self.inputs) == 2\n",
    "        self.value = self.inputs[0].value @ self.inputs[1].value\n",
    "    def backward(self):\n",
    "        grad_sum = np.sum([o.gradients[self] for o in self.outputs])\n",
    "        self.gradients[self.inputs[0]] = grad_sum @ self.inputs[1].value.T\n",
    "        self.gradients[self.inputs[1]] = self.inputs[0].value.T @ grad_sum\n",
    "        assert self.gradients[self.inputs[0]].shape == self.inputs[0].value.shape\n",
    "        assert self.gradients[self.inputs[1]].shape == self.inputs[1].value.shape\n",
    "            \n",
    "class NodeSigmoid(NodeBase):\n",
    "    def _sigmoid(self, x):\n",
    "        return 1 / (1 + np.exp(-x))\n",
    "    def forward(self, ignore=None):\n",
    "        assert len(self.inputs) == 1\n",
    "        x = self.inputs[0].value\n",
    "        self.value = self._sigmoid(x)\n",
    "    def backward(self):\n",
    "        grad_sum = np.sum([o.gradients[self] for o in self.outputs])\n",
    "        self.gradients[self.inputs[0]] = self.value * (1 - self.value) * grad_sum"
   ]
  },
  {
   "cell_type": "code",
   "execution_count": 13,
   "metadata": {},
   "outputs": [],
   "source": [
    "def run(fd, nodes):\n",
    "    for n in nodes:\n",
    "        n.forward(fd.get(n))\n",
    "    for n in nodes[::-1]:\n",
    "        n.backward()\n",
    "    \n",
    "def print_all(fd, nodes):\n",
    "    print('FD: ', end='')\n",
    "    for k, v in fd.items():\n",
    "        print(k.name, v, end='  ')\n",
    "    print()\n",
    "    for n in nodes:\n",
    "        n.show()"
   ]
  },
  {
   "cell_type": "code",
   "execution_count": 14,
   "metadata": {},
   "outputs": [],
   "source": [
    "def ngrad(fd, nodes):\n",
    "\n",
    "    eps = 0.0001\n",
    "\n",
    "    for in_node in fd:\n",
    "        fd_pls = fd.copy()\n",
    "        fd_pls[in_node] += eps\n",
    "        run(fd_pls, nodes)\n",
    "        res_pls = nodes[-1].value\n",
    "                \n",
    "        fd_min = fd.copy()\n",
    "        fd_min[in_node] -= eps\n",
    "        run(fd_min, nodes)\n",
    "        res_min = nodes[-1].value\n",
    "                \n",
    "        delta = (res_pls-res_min) / (2*eps)\n",
    "        print('del(', in_node.name, ')=', delta )"
   ]
  },
  {
   "cell_type": "markdown",
   "metadata": {},
   "source": [
    "Test NN"
   ]
  },
  {
   "cell_type": "code",
   "execution_count": null,
   "metadata": {},
   "outputs": [],
   "source": [
    "x = NodeInput('x')\n",
    "add = NodeAdd('add', [x, x])\n",
    "out = NodeOutput('out', [add])\n",
    "nodes = [x, add, out]\n",
    "\n",
    "fd = {x: 2}\n",
    "\n",
    "ngrad(fd, nodes)\n",
    "\n",
    "run(fd, nodes)\n",
    "print_all(fd, nodes)"
   ]
  },
  {
   "cell_type": "markdown",
   "metadata": {},
   "source": [
    "Test add"
   ]
  },
  {
   "cell_type": "code",
   "execution_count": 16,
   "metadata": {},
   "outputs": [
    {
     "name": "stdout",
     "output_type": "stream",
     "text": [
      "del( x )= 2.000000000002\n",
      "FD: x 2  \n",
      "x\n",
      "  in:  []\n",
      "  val: 2\n",
      "  out: ['add', 'add']\n",
      "  gra: x 2  \n",
      "add\n",
      "  in:  ['x', 'x']\n",
      "  val: 4\n",
      "  out: ['out']\n",
      "  gra: x 1  \n",
      "out\n",
      "  in:  ['add']\n",
      "  val: 4\n",
      "  out: []\n",
      "  gra: add 1  \n"
     ]
    }
   ],
   "source": [
    "x = NodeInput('x')\n",
    "add = NodeAdd('add', [x, x])\n",
    "out = NodeOutput('out', [add])\n",
    "nodes = [x, add, out]\n",
    "\n",
    "fd = {x: 2}\n",
    "\n",
    "ngrad(fd, nodes)\n",
    "\n",
    "run(fd, nodes)\n",
    "print_all(fd, nodes)"
   ]
  },
  {
   "cell_type": "markdown",
   "metadata": {},
   "source": [
    "Text x^2, power rule"
   ]
  },
  {
   "cell_type": "code",
   "execution_count": 239,
   "metadata": {},
   "outputs": [
    {
     "name": "stdout",
     "output_type": "stream",
     "text": [
      "del( x )= 48.000000010013366\n",
      "FD: x 4  \n",
      "x\n",
      "  in:  []\n",
      "  val: 4\n",
      "  out: ['mul', 'mul', 'mul2']\n",
      "  gra: x 48  \n",
      "mul\n",
      "  in:  ['x', 'x']\n",
      "  val: 16\n",
      "  out: ['mul2']\n",
      "  gra: x 16  \n",
      "mul2\n",
      "  in:  ['mul', 'x']\n",
      "  val: 64\n",
      "  out: ['out']\n",
      "  gra: mul 4  x 16  \n",
      "out\n",
      "  in:  ['mul2']\n",
      "  val: 64\n",
      "  out: []\n",
      "  gra: mul2 1  \n"
     ]
    }
   ],
   "source": [
    "x = NodeInput('x')\n",
    "mul = NodeMult('mul', [x, x])\n",
    "mul2 = NodeMult('mul2', [mul, x])\n",
    "out = NodeOutput('out', [mul2])\n",
    "nodes = [x, mul, mul2, out]\n",
    "\n",
    "fd = {x: 4}\n",
    "\n",
    "ngrad(fd, nodes)\n",
    "\n",
    "run(fd, nodes)\n",
    "print_all(fd, nodes)"
   ]
  },
  {
   "cell_type": "markdown",
   "metadata": {},
   "source": [
    "Test mult"
   ]
  },
  {
   "cell_type": "code",
   "execution_count": 237,
   "metadata": {
    "scrolled": false
   },
   "outputs": [
    {
     "name": "stdout",
     "output_type": "stream",
     "text": [
      "del( x )= 3.9999999999906777\n",
      "del( a )= 12.00000000000756\n",
      "FD: x 12  a 4  \n",
      "x\n",
      "  in:  []\n",
      "  val: 12\n",
      "  out: ['mul']\n",
      "  gra: x 4  \n",
      "a\n",
      "  in:  []\n",
      "  val: 4\n",
      "  out: ['mul']\n",
      "  gra: a 12  \n",
      "mul\n",
      "  in:  ['x', 'a']\n",
      "  val: 48\n",
      "  out: ['out']\n",
      "  gra: x 4  a 12  \n",
      "out\n",
      "  in:  ['mul']\n",
      "  val: 48\n",
      "  out: []\n",
      "  gra: mul 1  \n"
     ]
    }
   ],
   "source": [
    "x = NodeInput('x')\n",
    "a = NodeInput('a')\n",
    "mul = NodeMult('mul', [x, a])\n",
    "out = NodeOutput('out', [mul])\n",
    "nodes = [x, a, mul, out]\n",
    "\n",
    "fd = {x: 12, a: 4}\n",
    "\n",
    "ngrad(fd, nodes)\n",
    "\n",
    "run(fd, nodes)\n",
    "print_all(fd, nodes)"
   ]
  },
  {
   "cell_type": "code",
   "execution_count": 71,
   "metadata": {},
   "outputs": [
    {
     "data": {
      "text/plain": [
       "3.5"
      ]
     },
     "execution_count": 71,
     "metadata": {},
     "output_type": "execute_result"
    }
   ],
   "source": [
    "E.value"
   ]
  }
 ],
 "metadata": {
  "kernelspec": {
   "display_name": "Python 3",
   "language": "python",
   "name": "python3"
  },
  "language_info": {
   "codemirror_mode": {
    "name": "ipython",
    "version": 3
   },
   "file_extension": ".py",
   "mimetype": "text/x-python",
   "name": "python",
   "nbconvert_exporter": "python",
   "pygments_lexer": "ipython3",
   "version": "3.6.5"
  }
 },
 "nbformat": 4,
 "nbformat_minor": 2
}
