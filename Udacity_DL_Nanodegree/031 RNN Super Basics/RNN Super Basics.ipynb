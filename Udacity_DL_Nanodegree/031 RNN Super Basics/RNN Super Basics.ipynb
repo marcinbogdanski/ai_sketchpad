{
 "cells": [
  {
   "cell_type": "markdown",
   "metadata": {},
   "source": [
    "# Super Simple RNN\n",
    "\n",
    "Count \"1\" in linear RNN\n",
    "\n",
    "<img src=\"SimpleRNN01.png\" align=\"left\"/>"
   ]
  },
  {
   "cell_type": "code",
   "execution_count": 4,
   "metadata": {},
   "outputs": [],
   "source": [
    "import numpy as np\n",
    "import matplotlib.pyplot as plt\n",
    "import pdb"
   ]
  },
  {
   "cell_type": "code",
   "execution_count": 5,
   "metadata": {},
   "outputs": [],
   "source": [
    "train_x = np.array([[[1], [0], [0]],    # dim-0 is training examples in batch - here T=5\n",
    "                    [[0], [1], [0]],    # dim-1 is across time steps - here 3\n",
    "                    [[1], [1], [0]],    # dim-2 is width of features vector - here 1\n",
    "                    [[1], [0], [1]],\n",
    "                    [[1], [1], [1]]], dtype=np.float64)\n",
    "train_y = np.array([[1],                # we ignore time steps, thus only 2 dimensions\n",
    "                    [1],\n",
    "                    [2],\n",
    "                    [2],\n",
    "                    [3]], dtype=np.float64)\n",
    "\n",
    "s0 = np.array([[0]], dtype=np.float64)\n",
    "W_hh = np.array([[1]], dtype=np.float64)  # correct answer is W_hh == [[1]]\n",
    "W_xh = np.array([[1]], dtype=np.float64)  # correct answer is W_xh == [[1]]"
   ]
  },
  {
   "cell_type": "code",
   "execution_count": 74,
   "metadata": {},
   "outputs": [],
   "source": [
    "def fwd(x, Wxh, Whh):\n",
    "    assert x.ndim==3 and x.shape[1:]==(3, 1)\n",
    "    \n",
    "    x_t1 = x[:,0,:]\n",
    "    x_t2 = x[:,1,:]\n",
    "    x_t3 = x[:,2,:]\n",
    "        \n",
    "    s0 = np.zeros([len(x), 1])   # [batch_size, nb_state_neurons]\n",
    "    s1 = s0 @ Whh + x_t1 @ Wxh\n",
    "    s2 = s1 @ Whh + x_t2 @ Wxh\n",
    "    s3 = s2 @ Whh + x_t3 @ Wxh\n",
    "    y_hat = s3\n",
    "    return y_hat\n",
    "\n",
    "def back(x, y, Wxh, Whh):\n",
    "    assert x.ndim==3 and x.shape[1:]==(3, 1)\n",
    "    assert y.ndim==2 and y.shape[1:]==(1,)\n",
    "    \n",
    "    # Forward\n",
    "    x_t1 = x[:,0,:]\n",
    "    x_t2 = x[:,1,:]\n",
    "    x_t3 = x[:,2,:]\n",
    "    s1 = s0 @ Whh + x_t1 @ Wxh\n",
    "    s2 = s1 @ Whh + x_t2 @ Wxh\n",
    "    s3 = s2 @ Whh + x_t3 @ Wxh\n",
    "    y_hat = s3\n",
    "    \n",
    "    # Backward Whh\n",
    "    err = (y-y_hat)\n",
    "    der_t1 = s0\n",
    "    der_t2 = der_t1 @ Whh + s1\n",
    "    der_t3 = der_t2 @ Whh + s2\n",
    "    dWhh = -np.sum(err * der_t3, keepdims=True) / len(x)\n",
    "    \n",
    "    # Backward Wxh\n",
    "    der_t1 = x_t1\n",
    "    der_t2 = der_t1 @ Whh + x_t2\n",
    "    der_t3 = der_t2 @ Whh + x_t3\n",
    "    dWxh = -np.sum(err * der_t3, keepdims=True) / len(x)\n",
    "    \n",
    "    return dWxh, dWhh\n",
    "\n",
    "def mse(x, y, Wxh, Whh):\n",
    "    y_hat = fwd(x, Wxh, Whh)\n",
    "    return 0.5 * np.mean((y-y_hat)**2)"
   ]
  },
  {
   "cell_type": "code",
   "execution_count": 94,
   "metadata": {},
   "outputs": [
    {
     "data": {
      "text/plain": [
       "array([9, 8, 7, 6, 5, 4, 3, 2, 1, 0])"
      ]
     },
     "execution_count": 94,
     "metadata": {},
     "output_type": "execute_result"
    }
   ],
   "source": [
    "np.arange(10)[::-1]"
   ]
  },
  {
   "cell_type": "markdown",
   "metadata": {},
   "source": [
    "### Numerical Gradient Check"
   ]
  },
  {
   "cell_type": "code",
   "execution_count": 56,
   "metadata": {},
   "outputs": [],
   "source": [
    "def ngrad(x, y, Wxh, Whh):\n",
    "    dWhh = np.zeros_like(Whh)\n",
    "    dWxh = np.zeros_like(Wxh)\n",
    "    eps = 1e-4\n",
    "    \n",
    "    for r in range(len(Whh)):\n",
    "        for c in range(Whh.shape[1]):\n",
    "            Whh_pls = Whh.copy()\n",
    "            Whh_min = Whh.copy()\n",
    "            \n",
    "            Whh_pls[r, c] += eps\n",
    "            Whh_min[r, c] -= eps\n",
    "            \n",
    "            l_pls = mse(x, y, Wxh, Whh_pls)\n",
    "            l_min = mse(x, y, Wxh, Whh_min)\n",
    "            \n",
    "            dWhh[r, c] = (l_pls - l_min) / (2*eps)\n",
    "            \n",
    "    for r in range(len(Wxh)):\n",
    "        for c in range(Wxh.shape[1]):\n",
    "            Wxh_pls = Wxh.copy()\n",
    "            Wxh_min = Wxh.copy()\n",
    "            \n",
    "            Wxh_pls[r, c] += eps\n",
    "            Wxh_min[r, c] -= eps\n",
    "            \n",
    "            l_pls = mse(x, y, Wxh_pls, Whh)\n",
    "            l_min = mse(x, y, Wxh_min, Whh)\n",
    "            \n",
    "            dWxh[r, c] = (l_pls - l_min) / (2*eps)\n",
    "    \n",
    "    return dWxh, dWhh"
   ]
  },
  {
   "cell_type": "markdown",
   "metadata": {},
   "source": [
    "**Init to some random values**"
   ]
  },
  {
   "cell_type": "code",
   "execution_count": 75,
   "metadata": {},
   "outputs": [],
   "source": [
    "W_hh = np.array([[0.95]], dtype=np.float64)  # correct answer is W_hh == [[1]]\n",
    "W_xh = np.array([[0.95]], dtype=np.float64)  # correct answer is W_xh == [[1]]"
   ]
  },
  {
   "cell_type": "code",
   "execution_count": 76,
   "metadata": {},
   "outputs": [
    {
     "data": {
      "text/plain": [
       "array([[0.857375],\n",
       "       [0.9025  ],\n",
       "       [1.759875],\n",
       "       [1.807375],\n",
       "       [2.709875]])"
      ]
     },
     "execution_count": 76,
     "metadata": {},
     "output_type": "execute_result"
    }
   ],
   "source": [
    "fwd(train_x, W_xh, W_hh)"
   ]
  },
  {
   "cell_type": "markdown",
   "metadata": {},
   "source": [
    "**W_xh check**"
   ]
  },
  {
   "cell_type": "code",
   "execution_count": 77,
   "metadata": {},
   "outputs": [
    {
     "data": {
      "text/plain": [
       "array([[-0.37204525]])"
      ]
     },
     "execution_count": 77,
     "metadata": {},
     "output_type": "execute_result"
    }
   ],
   "source": [
    "dW_xh, _ = back(train_x, train_y, W_xh, W_hh)\n",
    "dW_xh"
   ]
  },
  {
   "cell_type": "code",
   "execution_count": 78,
   "metadata": {},
   "outputs": [
    {
     "data": {
      "text/plain": [
       "array([[-0.37204525]])"
      ]
     },
     "execution_count": 78,
     "metadata": {},
     "output_type": "execute_result"
    }
   ],
   "source": [
    "gW_xh, _ = ngrad(train_x, train_y, W_xh, W_hh)\n",
    "gW_xh"
   ]
  },
  {
   "cell_type": "code",
   "execution_count": 79,
   "metadata": {},
   "outputs": [],
   "source": [
    "assert np.allclose(dW_xh, gW_xh)"
   ]
  },
  {
   "cell_type": "markdown",
   "metadata": {},
   "source": [
    "**W_hh check**"
   ]
  },
  {
   "cell_type": "code",
   "execution_count": 80,
   "metadata": {
    "scrolled": true
   },
   "outputs": [
    {
     "data": {
      "text/plain": [
       "array([[-0.431718]])"
      ]
     },
     "execution_count": 80,
     "metadata": {},
     "output_type": "execute_result"
    }
   ],
   "source": [
    "_, dW_hh = back(train_x, train_y, W_xh, W_hh)\n",
    "dW_hh"
   ]
  },
  {
   "cell_type": "code",
   "execution_count": 81,
   "metadata": {},
   "outputs": [
    {
     "data": {
      "text/plain": [
       "array([[-0.43171798]])"
      ]
     },
     "execution_count": 81,
     "metadata": {},
     "output_type": "execute_result"
    }
   ],
   "source": [
    "_, gW_hh = ngrad(train_x, train_y, W_xh, W_hh)\n",
    "gW_hh"
   ]
  },
  {
   "cell_type": "code",
   "execution_count": 82,
   "metadata": {},
   "outputs": [],
   "source": [
    "assert np.allclose(dW_hh, gW_hh)"
   ]
  },
  {
   "cell_type": "markdown",
   "metadata": {},
   "source": [
    "**Train both check**"
   ]
  },
  {
   "cell_type": "code",
   "execution_count": 87,
   "metadata": {},
   "outputs": [
    {
     "name": "stdout",
     "output_type": "stream",
     "text": [
      "W_xh [[-2.36175463]]\n",
      "W_hh [[-0.7435213]]\n"
     ]
    }
   ],
   "source": [
    "W_hh = np.array([[0.95]], dtype=np.float64)  # correct answer is W_hh == [[1]]\n",
    "W_xh = np.array([[0.95]], dtype=np.float64)  # correct answer is W_xh == [[1]]\n",
    "\n",
    "W_hh = np.random.normal(0.0, 1.0, [1,1])\n",
    "W_xh = np.random.normal(0.0, 1.0, [1,1])\n",
    "\n",
    "print('W_xh', W_xh)\n",
    "print('W_hh', W_hh)"
   ]
  },
  {
   "cell_type": "code",
   "execution_count": 88,
   "metadata": {},
   "outputs": [],
   "source": [
    "total_iter = 0\n",
    "log_iter = []\n",
    "log_loss = []"
   ]
  },
  {
   "cell_type": "code",
   "execution_count": 89,
   "metadata": {},
   "outputs": [],
   "source": [
    "lr = 0.01\n",
    "for i in range(500):\n",
    "    dW_xh, dW_hh = back(train_x, train_y, W_xh, W_hh)\n",
    "    W_xh += -lr * dW_xh\n",
    "    W_hh += -lr * dW_hh\n",
    "    \n",
    "    loss = mse(train_x, train_y, W_xh, W_hh)\n",
    "    \n",
    "    log_iter.append(total_iter)\n",
    "    log_loss.append(loss)\n",
    "    total_iter += 1"
   ]
  },
  {
   "cell_type": "code",
   "execution_count": 90,
   "metadata": {},
   "outputs": [
    {
     "data": {
      "image/png": "[encoded data removed]",
      "text/plain": [
       "<Figure size 432x288 with 1 Axes>"
      ]
     },
     "metadata": {},
     "output_type": "display_data"
    }
   ],
   "source": [
    "fig = plt.figure()\n",
    "ax = fig.add_subplot(111)\n",
    "ax.plot(log_iter, log_loss)\n",
    "plt.show()"
   ]
  },
  {
   "cell_type": "code",
   "execution_count": 91,
   "metadata": {},
   "outputs": [
    {
     "data": {
      "text/plain": [
       "array([[0.83024499],\n",
       "       [1.0286247 ],\n",
       "       [1.85886969],\n",
       "       [2.10465049],\n",
       "       [3.13327519]])"
      ]
     },
     "execution_count": 91,
     "metadata": {},
     "output_type": "execute_result"
    }
   ],
   "source": [
    "fwd(train_x, W_xh, W_hh)"
   ]
  },
  {
   "cell_type": "markdown",
   "metadata": {},
   "source": [
    "<br>\n",
    "\n",
    "██████████████████████████████████████████████████████████████████████████████████████████████████\n",
    "\n",
    "<br>"
   ]
  },
  {
   "cell_type": "markdown",
   "metadata": {},
   "source": [
    "# More Proper Example"
   ]
  },
  {
   "cell_type": "code",
   "execution_count": null,
   "metadata": {},
   "outputs": [],
   "source": []
  }
 ],
 "metadata": {
  "kernelspec": {
   "display_name": "Python 3",
   "language": "python",
   "name": "python3"
  },
  "language_info": {
   "codemirror_mode": {
    "name": "ipython",
    "version": 3
   },
   "file_extension": ".py",
   "mimetype": "text/x-python",
   "name": "python",
   "nbconvert_exporter": "python",
   "pygments_lexer": "ipython3",
   "version": "3.6.5"
  }
 },
 "nbformat": 4,
 "nbformat_minor": 2
}
