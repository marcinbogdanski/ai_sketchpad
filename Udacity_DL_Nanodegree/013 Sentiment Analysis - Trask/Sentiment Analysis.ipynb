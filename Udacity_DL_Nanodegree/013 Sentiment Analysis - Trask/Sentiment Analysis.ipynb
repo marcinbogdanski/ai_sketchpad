{
 "cells": [
  {
   "cell_type": "markdown",
   "metadata": {},
   "source": [
    "<br/>\n",
    "$$ \\huge{\\underline{\\textbf{ Simple Bag of Words }}} $$\n",
    "<br/>"
   ]
  },
  {
   "cell_type": "markdown",
   "metadata": {},
   "source": [
    "Contents:\n",
    "\n",
    "$ \\color{red}{TODO} $"
   ]
  },
  {
   "cell_type": "markdown",
   "metadata": {},
   "source": [
    "# Introduction\n",
    "\n",
    "This notebook presents very simple Natural-Language-Processing (NLP) neural network using bag-of-words approach.\n",
    "\n",
    "**Dataset**\n",
    "\n",
    "We will use subset of _Large Movie Review Dataset_ which is basically 25000 short movie reviews from IMDB along with positive/negative labels.\n",
    "\n",
    "I originally did this as exercise during [Udacity Deep Learning Nanodegree](https://eu.udacity.com/course/deep-learning-nanodegree--nd101) course. For this purpose Udacity provided easy-to-use version of dataset, where they combined all data into two files labels.txt and reviews.txt, where each line corresponds to separate review (original dataset is a bit more messy).\n",
    "\n",
    "* Original dataset available here: [http://ai.stanford.edu/~amaas/data/sentiment/](http://ai.stanford.edu/~amaas/data/sentiment/)\n",
    "* Preprocessed version from Udacity: [https://github.com/udacity/deep-learning/tree/master/sentiment-network](https://github.com/udacity/deep-learning/tree/master/sentiment-network)\n",
    "\n",
    "**Model**\n",
    "\n",
    "* preprocesssing\n",
    "  * encode reviews as bag-of-words\n",
    "* 1st layer: fully connected, no activation\n",
    "* 2nd layer: fully connected, sigmoid (single output neuron)\n",
    "* loss: MSE\n",
    "* optimizer: vanilla SGD\n",
    "\n",
    "**Dependencies**\n",
    "\n",
    "* numpy, matplotlib"
   ]
  },
  {
   "cell_type": "markdown",
   "metadata": {},
   "source": [
    "# Load Data"
   ]
  },
  {
   "cell_type": "markdown",
   "metadata": {},
   "source": [
    "Imports"
   ]
  },
  {
   "cell_type": "code",
   "execution_count": 1,
   "metadata": {},
   "outputs": [],
   "source": [
    "import time\n",
    "import numpy as np\n",
    "import matplotlib.pyplot as plt\n",
    "from collections import Counter"
   ]
  },
  {
   "cell_type": "markdown",
   "metadata": {},
   "source": [
    "Read text files, each line is one review (or one label). Strip whitespaces, which is mostly removing newline at the end of string."
   ]
  },
  {
   "cell_type": "code",
   "execution_count": 2,
   "metadata": {},
   "outputs": [],
   "source": [
    "with open('reviews.txt','r') as f:\n",
    "    reviews = list(map(str.strip, f.readlines()))\n",
    "with open('labels.txt','r') as f:\n",
    "    labels = list(map(str.strip, f.readlines()))"
   ]
  },
  {
   "cell_type": "markdown",
   "metadata": {},
   "source": [
    "Show example label and review"
   ]
  },
  {
   "cell_type": "code",
   "execution_count": 3,
   "metadata": {},
   "outputs": [
    {
     "name": "stdout",
     "output_type": "stream",
     "text": [
      "LABEL: positive\n",
      "REVIEW: bromwell high is a cartoon comedy . it ran at the same time as some other programs about school life  such as  teachers  . my   years in the teaching profession lead me to believe that bromwell high  s satire is much closer to reality than is  teachers  . the scramble to survive financially  the insightful students who can see right through their pathetic teachers  pomp  the pettiness of the whole situation  all remind me of the schools i knew and their students . when i saw the episode in which a student repeatedly tried to burn down the school  i immediately recalled . . . . . . . . . at . . . . . . . . . . high . a classic line inspector i  m here to sack one of your teachers . student welcome to bromwell high . i expect that many adults of my age think that bromwell high is far fetched . what a pity that it isn  t\n"
     ]
    }
   ],
   "source": [
    "index = 0\n",
    "print('LABEL:', labels[index])\n",
    "print('REVIEW:', reviews[index])"
   ]
  },
  {
   "cell_type": "markdown",
   "metadata": {},
   "source": [
    "# Explore Dataset"
   ]
  },
  {
   "cell_type": "markdown",
   "metadata": {},
   "source": [
    "#### Word Count Distribution\n",
    "\n",
    "First we will look at word-count distribution"
   ]
  },
  {
   "cell_type": "code",
   "execution_count": 4,
   "metadata": {},
   "outputs": [],
   "source": [
    "counter_all = Counter()  # how many times each word occurs is WHOLE DATASET \n",
    "for review, label in zip(reviews, labels):\n",
    "    for word in review.split():\n",
    "        counter_all[word] += 1"
   ]
  },
  {
   "cell_type": "markdown",
   "metadata": {},
   "source": [
    "Lets see how many distinct words we have in our dataset"
   ]
  },
  {
   "cell_type": "code",
   "execution_count": 5,
   "metadata": {},
   "outputs": [
    {
     "data": {
      "text/plain": [
       "74073"
      ]
     },
     "execution_count": 5,
     "metadata": {},
     "output_type": "execute_result"
    }
   ],
   "source": [
    "len(counter_all)"
   ]
  },
  {
   "cell_type": "markdown",
   "metadata": {},
   "source": [
    "Lets plot it on linear and logarithmic scales"
   ]
  },
  {
   "cell_type": "code",
   "execution_count": 6,
   "metadata": {},
   "outputs": [
    {
     "data": {
      "image/png": "[encoded data removed]",
      "text/plain": [
       "<Figure size 1152x432 with 2 Axes>"
      ]
     },
     "metadata": {},
     "output_type": "display_data"
    }
   ],
   "source": [
    "sorted_all = np.array(sorted(list(counter_all.values()), reverse=True))\n",
    "fig, [ax1, ax2] = plt.subplots(1, 2, figsize=[16,6])\n",
    "ax1.plot(sorted_all); ax1.set_title('Word Counts (linear scale)')\n",
    "ax2.plot(sorted_all); ax2.set_title('Word Counts (log scale)')\n",
    "ax2.set_yscale('log')"
   ]
  },
  {
   "cell_type": "markdown",
   "metadata": {},
   "source": [
    "This is extreemly sharp distribution.\n",
    "\n",
    "Some words appear over 100k times. Lets have a look at the most common words."
   ]
  },
  {
   "cell_type": "code",
   "execution_count": 7,
   "metadata": {},
   "outputs": [
    {
     "data": {
      "text/plain": [
       "[('the', 336713),\n",
       " ('.', 327192),\n",
       " ('and', 164107),\n",
       " ('a', 163009),\n",
       " ('of', 145864),\n",
       " ('to', 135720),\n",
       " ('is', 107328),\n",
       " ('br', 101872),\n",
       " ('it', 96352),\n",
       " ('in', 93968)]"
      ]
     },
     "execution_count": 7,
     "metadata": {},
     "output_type": "execute_result"
    }
   ],
   "source": [
    "counter_all.most_common()[:10]"
   ]
  },
  {
   "cell_type": "markdown",
   "metadata": {},
   "source": [
    "This is potentially a problem, because it is unlikely that words like 'the' or '.' will have much predictive power, they will be as likely to appear in both positive and negative reviews. We might want to remove them in preprocessing stage, but we have to be carful, we don't want to remove words that are both common and have good predictive power! We only want to remove words that are very common, and appear roughly the same amount of time in both positve and negative review. We will look into ratios in next section."
   ]
  },
  {
   "cell_type": "markdown",
   "metadata": {},
   "source": [
    "Huge amount of words appear very rarely, over 20k wors appear only once. Lets look at some of these"
   ]
  },
  {
   "cell_type": "code",
   "execution_count": 8,
   "metadata": {
    "scrolled": true
   },
   "outputs": [
    {
     "data": {
      "text/plain": [
       "[('hoodies', 1),\n",
       " ('insulation', 1),\n",
       " ('mwuhahahaa', 1),\n",
       " ('slagged', 1),\n",
       " ('bellwood', 1),\n",
       " ('pressurized', 1),\n",
       " ('malkovitchesque', 1),\n",
       " ('muppified', 1),\n",
       " ('whelk', 1),\n",
       " ('hued', 1)]"
      ]
     },
     "execution_count": 8,
     "metadata": {},
     "output_type": "execute_result"
    }
   ],
   "source": [
    "counter_all.most_common()[-10:]"
   ]
  },
  {
   "cell_type": "markdown",
   "metadata": {},
   "source": [
    "I don't think words like 'mwuhahahaa' or 'muppified' or 'whelk' have much predictive power either - this is also a problem, because our neural network will potentially learn to predict based on these words, which will probably hurt generalization."
   ]
  },
  {
   "cell_type": "markdown",
   "metadata": {},
   "source": [
    "---"
   ]
  },
  {
   "cell_type": "markdown",
   "metadata": {},
   "source": [
    "#### Word Ratios Distribution"
   ]
  },
  {
   "cell_type": "markdown",
   "metadata": {},
   "source": [
    "Another thing to look at is _ratios_ of word occurances in positive/negative reviews. I.e. how much more often word appears in positvie review than in negative review."
   ]
  },
  {
   "cell_type": "code",
   "execution_count": 9,
   "metadata": {},
   "outputs": [],
   "source": [
    "counter_pos = Counter()  # how many times each word occurs in NEGATIVE reviews\n",
    "counter_neg = Counter()  # how many times each word occurs in POSITIVE reviews\n",
    "for review, label in zip(reviews, labels):\n",
    "    for word in review.split():\n",
    "        if label == 'positive':\n",
    "            counter_pos[word] += 1\n",
    "        elif label == 'negative':\n",
    "            counter_neg[word] += 1\n",
    "        else:\n",
    "            raise ValueError()"
   ]
  },
  {
   "cell_type": "markdown",
   "metadata": {},
   "source": [
    "Calculate ratios\n",
    "* only consider words that appear at least once in both positive and negative review\n",
    "* discard words that appear less than 50 times in whole dataset for reasons outlined earlier\n",
    "* reason to take log() is as follows:\n",
    "  * ratio (without log) is centered around 1 and assymetric\n",
    "    * word that appears 10-times more often in positive review has ratio 10\n",
    "    * word that appears 10-times more often in negative reivew has ratio 0.1\n",
    "    * preferably we would like our ratios to be centered around zero and be symetrical\n",
    "  * logarithm solves both problems\n",
    "    * log(0.1) => -10   - for very negative words\n",
    "    * log(1) => 0       - for neutral words\n",
    "    * log(10) => 1      - for positve words\n",
    "    * logarithm is monothonic so it doesn't change ordering"
   ]
  },
  {
   "cell_type": "code",
   "execution_count": 10,
   "metadata": {},
   "outputs": [],
   "source": [
    "ratios = Counter()\n",
    "log_ratios = Counter()\n",
    "for word in counter_all.keys():\n",
    "    if word in counter_pos and word in counter_neg and counter_all[word] > 100:\n",
    "        ratios[word] = counter_pos[word] / counter_neg[word]\n",
    "        log_ratios[word] = np.log(ratios[word])"
   ]
  },
  {
   "cell_type": "markdown",
   "metadata": {},
   "source": [
    "Plot distributions"
   ]
  },
  {
   "cell_type": "code",
   "execution_count": 11,
   "metadata": {},
   "outputs": [
    {
     "data": {
      "image/png": "[encoded data removed]",
      "text/plain": [
       "<Figure size 1152x432 with 2 Axes>"
      ]
     },
     "metadata": {},
     "output_type": "display_data"
    }
   ],
   "source": [
    "sorted_ratios = np.array(sorted(ratios.values(), reverse=True))\n",
    "sorted_log_ratios = np.array(sorted(log_ratios.values(), reverse=True))\n",
    "fig, [ax1, ax2] = plt.subplots(1, 2, figsize=[16,6])\n",
    "ax1.hist(sorted_ratios, bins=100); ax1.set_title('Ratios')\n",
    "ax2.hist(sorted_log_ratios, bins=100); ax2.set_title('Log Ratios')\n",
    "plt.show()"
   ]
  },
  {
   "cell_type": "markdown",
   "metadata": {},
   "source": [
    "I think we can agree that right plot is much more informative of our ratio-distribution."
   ]
  },
  {
   "cell_type": "markdown",
   "metadata": {},
   "source": [
    "Lets see words with extreeme values of log-ratios (far on left/right of histogram) and with values most close to zero (middle of histogram)"
   ]
  },
  {
   "cell_type": "code",
   "execution_count": 12,
   "metadata": {},
   "outputs": [
    {
     "data": {
      "text/plain": [
       "[('paulie', 4.770684624465665),\n",
       " ('felix', 3.3758795736778655),\n",
       " ('polanski', 3.005682604407159),\n",
       " ('matthau', 2.924504764265623),\n",
       " ('victoria', 2.750014400201242),\n",
       " ('mildred', 2.7362210780689065),\n",
       " ('gandhi', 2.6567569067146595),\n",
       " ('flawless', 2.5563656137701454),\n",
       " ('superbly', 2.3470368555648795),\n",
       " ('perfection', 2.228477120840324)]"
      ]
     },
     "execution_count": 12,
     "metadata": {},
     "output_type": "execute_result"
    }
   ],
   "source": [
    "log_ratios.most_common()[:10]  # highest positve ratio"
   ]
  },
  {
   "cell_type": "code",
   "execution_count": 13,
   "metadata": {},
   "outputs": [
    {
     "data": {
      "text/plain": [
       "[('blah', -2.5649493574615367),\n",
       " ('waste', -2.6186484579840514),\n",
       " ('unfunny', -2.6882475738060303),\n",
       " ('incoherent', -2.929287174145838),\n",
       " ('mst', -2.9444389791664407),\n",
       " ('stinker', -3.1986731175506815),\n",
       " ('unwatchable', -3.248434627109745),\n",
       " ('seagal', -3.6375861597263857),\n",
       " ('uwe', -4.61512051684126),\n",
       " ('boll', -4.962844630259907)]"
      ]
     },
     "execution_count": 13,
     "metadata": {},
     "output_type": "execute_result"
    }
   ],
   "source": [
    "log_ratios.most_common()[-10:]  # most negative ratio"
   ]
  },
  {
   "cell_type": "code",
   "execution_count": 14,
   "metadata": {},
   "outputs": [
    {
     "name": "stdout",
     "output_type": "stream",
     "text": [
      "0.05902881460535952\n",
      "0.053592687308466704\n",
      "0.09543414711253344\n"
     ]
    }
   ],
   "source": [
    "print(log_ratios['the'])  # these should be close to zero\n",
    "print(log_ratios['a'])\n",
    "print(log_ratios['an'])"
   ]
  },
  {
   "cell_type": "markdown",
   "metadata": {},
   "source": [
    "What we could do in preprocessing is remove words with log-ratios close to zero with some threshold."
   ]
  },
  {
   "cell_type": "markdown",
   "metadata": {},
   "source": [
    "# Preprocess Data"
   ]
  },
  {
   "cell_type": "code",
   "execution_count": 15,
   "metadata": {},
   "outputs": [
    {
     "name": "stdout",
     "output_type": "stream",
     "text": [
      "74073\n"
     ]
    }
   ],
   "source": [
    "review_vocab = set(counter_all.keys())\n",
    "review_vocab_size = len(review_vocab)\n",
    "print(review_vocab_size)"
   ]
  },
  {
   "cell_type": "markdown",
   "metadata": {},
   "source": [
    "Convert labels from 'positive'/'negative' to array of 1s and 0s"
   ]
  },
  {
   "cell_type": "code",
   "execution_count": 16,
   "metadata": {},
   "outputs": [],
   "source": [
    "targets = np.zeros(shape=[len(labels)])\n",
    "for idx, label in enumerate(labels):\n",
    "    if label == 'positive': targets[idx] = 1\n",
    "    elif label == 'negative': targets[idx] = 0\n",
    "    else: raise ValueError()"
   ]
  },
  {
   "cell_type": "markdown",
   "metadata": {},
   "source": [
    "Assign each word a numeric value - actual number doesn't matter as this will be one-hot encoded anyway"
   ]
  },
  {
   "cell_type": "code",
   "execution_count": 17,
   "metadata": {},
   "outputs": [],
   "source": [
    "word2index = {}\n",
    "for i, word in enumerate(review_vocab):\n",
    "    word2index[word] = i"
   ]
  },
  {
   "cell_type": "markdown",
   "metadata": {},
   "source": [
    "Convert _reviews_ (list of words) to _inputs_ (list of numbers). This is just a simple optimization, so we don't have to repeat this process in the loop later."
   ]
  },
  {
   "cell_type": "code",
   "execution_count": 18,
   "metadata": {},
   "outputs": [],
   "source": [
    "def review_to_indices(review):\n",
    "    res = []\n",
    "    for word in review.split():\n",
    "        res.append(word2index[word])\n",
    "    return np.unique(res)\n",
    "\n",
    "inputs = []\n",
    "for review in reviews:\n",
    "    inputs.append(review_to_indices(review))"
   ]
  },
  {
   "cell_type": "code",
   "execution_count": 19,
   "metadata": {},
   "outputs": [
    {
     "name": "stdout",
     "output_type": "stream",
     "text": [
      "Review before conversion:\n",
      "bromwell high is a cartoon comedy . it ran at the same time as some other programs about school life  such as  teachers  . my   years in the teaching profession lead me to believe that bromwell high  s satire is much closer to reality than is  teachers  . the scramble to survive financially  the insightful students who can see right through their pathetic teachers  pomp  the pettiness of the whole situation  all remind me of the schools i knew and their students . when i saw the episode in which a student repeatedly tried to burn down the school  i immediately recalled . . . . . . . . . at . . . . . . . . . . high . a classic line inspector i  m here to sack one of your teachers . student welcome to bromwell high . i expect that many adults of my age think that bromwell high is far fetched . what a pity that it isn  t\n"
     ]
    }
   ],
   "source": [
    "print('Review before conversion:')\n",
    "print(reviews[0])"
   ]
  },
  {
   "cell_type": "code",
   "execution_count": 20,
   "metadata": {},
   "outputs": [
    {
     "name": "stdout",
     "output_type": "stream",
     "text": [
      "Review after conversion:\n",
      "[  145   862  1385  2044  3232  5239  6017  6130  6617  7186  7284  7538\n",
      "  9024  9975 10304 10706 13101 13136 13393 14016 15654 16000 17670 19019\n",
      " 19292 19556 20360 20816 22076 22171 25489 25744 26137 28161 28659 31262\n",
      " 31398 31805 32201 32237 32366 33414 33837 34278 34750 35876 36740 38234\n",
      " 38755 39002 39034 40752 42328 42639 43172 46705 47608 48946 49716 50110\n",
      " 51092 51710 52269 52270 53829 54539 54713 56239 56321 56323 56878 57358\n",
      " 62046 62221 62867 63183 64307 64638 65199 65953 66454 67911 68407 68963\n",
      " 70109 71758 71759 71845 72370 72887 72992 73364]\n"
     ]
    }
   ],
   "source": [
    "print('Review after conversion:')\n",
    "print(inputs[0])"
   ]
  },
  {
   "cell_type": "markdown",
   "metadata": {},
   "source": [
    "# Model"
   ]
  },
  {
   "cell_type": "markdown",
   "metadata": {},
   "source": [
    "I will present two versions of this neural network:\n",
    "* Unoptimised:\n",
    "  * input is vector of size of vocabular (vector approximately 74073 long if no words were dropped in preprocessing)\n",
    "    * words that appear in review are encoded as '1'\n",
    "    * words that do not appear are encoded as '0'\n",
    "    * e.g. [0, 0, 1, 0, 1, 0, ...]\n",
    "  * this input vector is very sparse, average review will have maybe 50 words, while vertor is 70k long!\n",
    "* Optimized:\n",
    "  * input is short vector of _indices_ where '1' should appear\n",
    "    * e.g. [13534, 54424, 43256]\n",
    "  * this input vector is only as long as the amount of words appearing in single review\n",
    "\n",
    "Key insight is that first layer linear combination is basically multiplying this [0, 0, 1, 0, ...] vector by weight matrix and then summing up. But multiplication by '0' can be dropped, while multiplication by '1' has no effect,  so equivalent operation is to simply pick rows from weight matrix corresponding to '1' and just sum these while ignoring the rest.\n",
    "\n",
    "Lets have a quick look at unoptimized version"
   ]
  },
  {
   "cell_type": "code",
   "execution_count": 21,
   "metadata": {},
   "outputs": [
    {
     "name": "stdout",
     "output_type": "stream",
     "text": [
      "[0.6 6. ]\n"
     ]
    }
   ],
   "source": [
    "weights = np.array([[0.0, 0.0],\n",
    "                    [0.1, 1.0],\n",
    "                    [0.2, 2.0],\n",
    "                    [0.3, 3.0],\n",
    "                    [0.4, 4.0]])\n",
    "input_vector = np.array([0, 0, 1, 0, 1])\n",
    "matmul_result = input_vector @ weights\n",
    "print(matmul_result)"
   ]
  },
  {
   "cell_type": "markdown",
   "metadata": {},
   "source": [
    "And optimized version:"
   ]
  },
  {
   "cell_type": "code",
   "execution_count": 22,
   "metadata": {},
   "outputs": [
    {
     "name": "stdout",
     "output_type": "stream",
     "text": [
      "[[0.6 6. ]]\n"
     ]
    }
   ],
   "source": [
    "input_indices = np.array([2, 4])  # indices corresponding to '1' in [0, 0, 1, 0, 1]\n",
    "matmul_result = np.sum(weights[input_indices], axis=0, keepdims=True)\n",
    "print(matmul_result)"
   ]
  },
  {
   "cell_type": "markdown",
   "metadata": {},
   "source": [
    "---"
   ]
  },
  {
   "cell_type": "markdown",
   "metadata": {},
   "source": [
    "Define sigmoid transfer function"
   ]
  },
  {
   "cell_type": "code",
   "execution_count": 23,
   "metadata": {},
   "outputs": [],
   "source": [
    "def sigmoid(x):\n",
    "    return 1/(1+np.exp(-x))\n",
    "\n",
    "def sigmoid_deriv(x):\n",
    "    return sigmoid(x) * (1-sigmoid(x))"
   ]
  },
  {
   "cell_type": "markdown",
   "metadata": {},
   "source": [
    "Forward functions, both perform equivalent computation"
   ]
  },
  {
   "cell_type": "code",
   "execution_count": 24,
   "metadata": {},
   "outputs": [],
   "source": [
    "def forward_vec(xv, Wh, Wo):\n",
    "    \"\"\"Params:\n",
    "        xv - sparse [[0, 0, 1, 0, 1, ...]]\n",
    "        Wh - weights hidden\n",
    "        Wo - weights output\n",
    "    \"\"\"\n",
    "    assert xv.ndim == 2\n",
    "    z_hid = xv @ Wh\n",
    "    # do not do hidden activation\n",
    "    z_out = z_hid @ Wo\n",
    "    y_hat = sigmoid(z_out)\n",
    "    return y_hat, z_out, z_hid\n",
    "\n",
    "def forward_idx(xi, Wh, Wo):\n",
    "    \"\"\"Params:\n",
    "        xi - indices [1234, 2345, ...]\n",
    "    \"\"\"\n",
    "    assert xi.ndim == 1\n",
    "    z_hid = np.sum(Wh[xi], axis=0, keepdims=True)  # <- this is changed\n",
    "    # do not do hidden activation\n",
    "    z_out = z_hid @ Wo\n",
    "    y_hat = sigmoid(z_out)\n",
    "    \n",
    "    # Optional: assert optimisation is valid\n",
    "    # xv = np.zeros([1, len(Wh)])\n",
    "    # xv[0,xi] = 1\n",
    "    # z_hid_2 = xv @ Wh\n",
    "    # assert np.allclose(z_hid, z_hid_2)\n",
    "    \n",
    "    return y_hat, z_out, z_hid"
   ]
  },
  {
   "cell_type": "markdown",
   "metadata": {},
   "source": [
    "Backwad pass"
   ]
  },
  {
   "cell_type": "code",
   "execution_count": 25,
   "metadata": {},
   "outputs": [],
   "source": [
    "def backward_vec(xv, y, Wh, Wo):\n",
    "    \"\"\"Params:\n",
    "        xv - sparse [[0, 0, 1, 0, 1, ...]]\n",
    "        y  - target [[0]] for negative or [[1]] for positive\n",
    "    \"\"\"\n",
    "    assert xv.ndim == 2\n",
    "    assert y.ndim == 2\n",
    "    y_hat, z_out, z_hid = forward_vec(xv, Wh, Wo)\n",
    "    ro_out = -(y-y_hat) * sigmoid_deriv(z_out)  # scalar\n",
    "    del_Wo = np.dot(z_hid.T, ro_out)            # hid_n x 1\n",
    "\n",
    "    ro_hid = np.dot(ro_out, Wo.T)      # 1 x hid_n\n",
    "    del_Wh = np.dot(xv.T, ro_hid)      # in_n x hid_n\n",
    "\n",
    "    return del_Wo, del_Wh, y_hat\n",
    "\n",
    "def backward_idx(xi, y, Wh, Wo, lr):\n",
    "    \"\"\"Params:\n",
    "        xi - indices [1234, 2345]\n",
    "    \"\"\"\n",
    "    assert xi.ndim == 1\n",
    "    assert y.ndim == 2\n",
    "    y_hat, z_out, z_hid = forward_idx(xi, Wh, Wo)\n",
    "    ro_out = -(y-y_hat) * sigmoid_deriv(z_out)  # scalar\n",
    "    del_Wo = np.dot(z_hid.T, ro_out)            # hid_n x 1\n",
    "    \n",
    "    ro_hid = np.dot(ro_out, Wo.T)      # 1 x hid_n\n",
    "    Wh[xi] += -lr * ro_hid  # <- optimized version of: del_Wh = np.dot(xv.T, ro_hid)\n",
    "    \n",
    "    # Optional: assert optimisation is valid\n",
    "    # del_Wh = np.zeros_like(Wh)\n",
    "    # del_Wh[xi] = ro_hid\n",
    "    # xv = np.zeros([1, len(Wh)])\n",
    "    # xv[0,xi] = 1\n",
    "    # del_Wh_2 = np.dot(xv.T, ro_hid)\n",
    "    # assert np.allclose(del_Wh, del_Wh_2):\n",
    "    \n",
    "    return y_hat"
   ]
  },
  {
   "cell_type": "markdown",
   "metadata": {},
   "source": [
    "Numerical gradient check for testing"
   ]
  },
  {
   "cell_type": "code",
   "execution_count": 26,
   "metadata": {},
   "outputs": [],
   "source": [
    "def ngrad(xv, y, Wh, Wo):\n",
    "    \"\"\"Params:\n",
    "    xv - sparse vector [0, 0, 1, 0, 1, 0, ...]\n",
    "    \"\"\"\n",
    "    assert xv.ndim == 2\n",
    "    assert y.ndim == 2\n",
    "    \n",
    "    eps = 1e-4\n",
    "    \n",
    "    # numerical gradient check output\n",
    "    ngrad_Wo = np.zeros_like(Wo)\n",
    "    for r in range(Wo.shape[0]):\n",
    "        for c in range(Wo.shape[1]):\n",
    "            W_min = Wo.copy()\n",
    "            W_pls = Wo.copy()\n",
    "            W_min[r, c] -= eps\n",
    "            W_pls[r, c] += eps\n",
    "\n",
    "            l_pls = loss(xv, y, Wh, W_pls)\n",
    "            l_min = loss(xv, y, Wh, W_min)\n",
    "\n",
    "            ngrad_Wo[r, c] = (l_pls - l_min) / (eps * 2)\n",
    "    \n",
    "    # numerical gradient check hidden\n",
    "    ngrad_Wh = np.zeros_like(Wh)\n",
    "    _, idx_nonzero = np.nonzero(xv)\n",
    "    for r in idx_nonzero: #range(self.weights_0_1.shape[0]):\n",
    "        for c in range(Wh.shape[1]):\n",
    "            if r % 1000 == 0: print(r)\n",
    "            W_min = Wh.copy()\n",
    "            W_pls = Wh.copy()\n",
    "            W_min[r, c] -= eps\n",
    "            W_pls[r, c] += eps\n",
    "\n",
    "            l_pls = loss(xv, y, W_pls, Wo)\n",
    "            l_min = loss(xv, y, W_min, Wo)\n",
    "\n",
    "            ngrad_Wh[r, c] = (l_pls - l_min) / (eps * 2)\n",
    "            \n",
    "    return ngrad_Wo, ngrad_Wh      "
   ]
  },
  {
   "cell_type": "markdown",
   "metadata": {},
   "source": [
    "Loss"
   ]
  },
  {
   "cell_type": "code",
   "execution_count": 27,
   "metadata": {},
   "outputs": [],
   "source": [
    "def loss(xv, y, Wh, Wo):\n",
    "    y_hat, z_out, z_hid = forward_vec(xv, Wh, Wo)\n",
    "    return .5 * np.mean((y-y_hat)**2)"
   ]
  },
  {
   "cell_type": "markdown",
   "metadata": {},
   "source": [
    "# Train Estimator"
   ]
  },
  {
   "cell_type": "markdown",
   "metadata": {},
   "source": [
    "Hyperparameters"
   ]
  },
  {
   "cell_type": "code",
   "execution_count": 28,
   "metadata": {},
   "outputs": [],
   "source": [
    "N_in = len(review_vocab)\n",
    "N_hid = 10\n",
    "N_out = 1\n",
    "lr = 0.1"
   ]
  },
  {
   "cell_type": "markdown",
   "metadata": {},
   "source": [
    "Initialize"
   ]
  },
  {
   "cell_type": "code",
   "execution_count": 29,
   "metadata": {},
   "outputs": [],
   "source": [
    "def reset_nn():\n",
    "    global W_hid, W_out\n",
    "    np.random.seed(1)\n",
    "    W_hid = np.random.normal(0, N_in**-.5, [N_in, N_hid])\n",
    "    W_out = np.random.normal(0, N_hid**-.5, [N_hid, N_out])"
   ]
  },
  {
   "cell_type": "markdown",
   "metadata": {},
   "source": [
    "Test function"
   ]
  },
  {
   "cell_type": "code",
   "execution_count": 30,
   "metadata": {},
   "outputs": [],
   "source": [
    "def test(inputs, targets, Wh, Wo, optimize):\n",
    "    assert len(inputs) == len(targets)\n",
    "    \n",
    "    nb_correct = 0\n",
    "    nb_positive = 0\n",
    "    \n",
    "    # loop over given data, note that we don't do mini-batching here\n",
    "    # there is no particular reason why not do mini-batches\n",
    "    for i in range(len(inputs)):\n",
    "\n",
    "        xi = inputs[i]                 # single review, string\n",
    "        y = np.array([[targets[i]]])   # single target scalar\n",
    "\n",
    "        if optimize:\n",
    "            y_hat, _, _ = forward_idx(xi, Wh, Wo)    # fast version\n",
    "        else:\n",
    "            xv = np.zeros([1, len(Wh)])              # slow version\n",
    "            xv[0,xi] = 1\n",
    "            y_hat, _, _ = forward_vec(xv, Wh, Wo)\n",
    "        \n",
    "        if np.abs(y-y_hat) < 0.5:\n",
    "            nb_correct += 1\n",
    "        if y_hat > 0.5:\n",
    "            nb_positive += 1\n",
    "\n",
    "    print('Nb Positive:', nb_positive)\n",
    "    print('Nb Correct: ', nb_correct)\n",
    "    print('Nb Tested:  ', len(inputs))\n",
    "    print('Accuracy:   ', nb_correct*100 / len(inputs), '%')"
   ]
  },
  {
   "cell_type": "markdown",
   "metadata": {},
   "source": [
    "Train Function"
   ]
  },
  {
   "cell_type": "code",
   "execution_count": 31,
   "metadata": {},
   "outputs": [],
   "source": [
    "def train(inputs, targets, Wh, Wo, lr, optimize=False):\n",
    "    assert len(inputs) == len(targets)\n",
    "    \n",
    "    nb_correct = 0\n",
    "    nb_positive = 0\n",
    "\n",
    "    start_time = time.time()\n",
    "\n",
    "    # loop over given data, note that we don't do mini-batching here\n",
    "    # there is no particular reason why not do mini-batches\n",
    "    for i in range(len(inputs)):\n",
    "\n",
    "        xi = inputs[i]                 # single review, string\n",
    "        y = np.array([[targets[i]]])   # single target scalar\n",
    "\n",
    "        if optimize:\n",
    "            y_hat = backward_idx(xi, y, Wh, Wo, lr)\n",
    "        else:\n",
    "            xv = np.zeros([1, len(Wh)])           \n",
    "            xv[0,xi] = 1\n",
    "            del_Wo, del_Wh, y_hat = backward_vec(xv, y, Wh, Wo)\n",
    "            y_hat = np.asscalar(y_hat)\n",
    "\n",
    "#             # Optional: numerical gradient check\n",
    "#             ngrad_Wo, ngrad_Wh = ngrad(xv, y, Wh, Wo)\n",
    "#             if not np.allclose(del_Wo, ngrad_Wo):\n",
    "#                 raise ValueError('Gradient check fail output')\n",
    "#             if not np.allclose(del_Wh, ngrad_Wh):\n",
    "#                 raise ValueError('Gradient check fail hidden')\n",
    "#             print('ngrad OK')\n",
    "\n",
    "            Wh += -lr * del_Wh\n",
    "            Wo += -lr * del_Wo\n",
    "        \n",
    "        if np.abs(y-y_hat) < 0.5:\n",
    "            nb_correct += 1\n",
    "        if y_hat > 0.5:\n",
    "            nb_positive += 1\n",
    "            \n",
    "        if i % 2500 == 0 or i == len(inputs)-1:\n",
    "            \n",
    "            timespan = time.time() - start_time\n",
    "            rev_per_sec = i / timespan\n",
    "            \n",
    "            print('Progress:', round(100 * i/len(inputs), 0),\n",
    "                  'Speed(rev/sec):', round(rev_per_sec, 0),\n",
    "                  'Correct:', nb_correct, 'Trained:', i,\n",
    "                  'Accuracy:', round(nb_correct * 100 / (i+1), 6), '%')"
   ]
  },
  {
   "cell_type": "markdown",
   "metadata": {},
   "source": [
    "Test uninitialized network, this should be close to 50% accuracy"
   ]
  },
  {
   "cell_type": "code",
   "execution_count": 32,
   "metadata": {},
   "outputs": [
    {
     "name": "stdout",
     "output_type": "stream",
     "text": [
      "Nb Positive: 768\n",
      "Nb Correct:  494\n",
      "Nb Tested:   1000\n",
      "Accuracy:    49.4 %\n"
     ]
    }
   ],
   "source": [
    "reset_nn()\n",
    "test(inputs[-1000:], targets[-1000:], W_hid, W_out, optimize=True)"
   ]
  },
  {
   "cell_type": "markdown",
   "metadata": {},
   "source": [
    "Train from scratch"
   ]
  },
  {
   "cell_type": "code",
   "execution_count": 33,
   "metadata": {},
   "outputs": [
    {
     "name": "stdout",
     "output_type": "stream",
     "text": [
      "Progress: 0.0 Speed(rev/sec): 0.0 Correct: 1 Trained: 0 Accuracy: 100.0 %\n",
      "Progress: 10.0 Speed(rev/sec): 11738.0 Correct: 1965 Trained: 2500 Accuracy: 78.568573 %\n",
      "Progress: 21.0 Speed(rev/sec): 11676.0 Correct: 4016 Trained: 5000 Accuracy: 80.303939 %\n",
      "Progress: 31.0 Speed(rev/sec): 11401.0 Correct: 6139 Trained: 7500 Accuracy: 81.842421 %\n",
      "Progress: 42.0 Speed(rev/sec): 11534.0 Correct: 8295 Trained: 10000 Accuracy: 82.941706 %\n",
      "Progress: 52.0 Speed(rev/sec): 11603.0 Correct: 10457 Trained: 12500 Accuracy: 83.649308 %\n",
      "Progress: 62.0 Speed(rev/sec): 11505.0 Correct: 12597 Trained: 15000 Accuracy: 83.974402 %\n",
      "Progress: 73.0 Speed(rev/sec): 11488.0 Correct: 14709 Trained: 17500 Accuracy: 84.046626 %\n",
      "Progress: 83.0 Speed(rev/sec): 11509.0 Correct: 16880 Trained: 20000 Accuracy: 84.39578 %\n",
      "Progress: 94.0 Speed(rev/sec): 11455.0 Correct: 19061 Trained: 22500 Accuracy: 84.711791 %\n",
      "Progress: 100.0 Speed(rev/sec): 11443.0 Correct: 20381 Trained: 23999 Accuracy: 84.920833 %\n"
     ]
    }
   ],
   "source": [
    "reset_nn()\n",
    "train(inputs[:-1000], targets[:-1000], W_hid, W_out, lr, optimize=True)"
   ]
  },
  {
   "cell_type": "code",
   "execution_count": 34,
   "metadata": {},
   "outputs": [
    {
     "name": "stdout",
     "output_type": "stream",
     "text": [
      "Nb Positive: 531\n",
      "Nb Correct:  857\n",
      "Nb Tested:   1000\n",
      "Accuracy:    85.7 %\n"
     ]
    }
   ],
   "source": [
    "test(inputs[-1000:], targets[-1000:], W_hid, W_out, optimize=True)"
   ]
  },
  {
   "cell_type": "markdown",
   "metadata": {},
   "source": [
    "---"
   ]
  },
  {
   "cell_type": "markdown",
   "metadata": {},
   "source": [
    "For comparison, train w/o optimization"
   ]
  },
  {
   "cell_type": "code",
   "execution_count": 35,
   "metadata": {},
   "outputs": [
    {
     "name": "stdout",
     "output_type": "stream",
     "text": [
      "Progress: 0.0 Speed(rev/sec): 0.0 Correct: 1 Trained: 0 Accuracy: 100.0 %\n",
      "Progress: 10.0 Speed(rev/sec): 246.0 Correct: 1956 Trained: 2500 Accuracy: 78.208717 %\n",
      "Progress: 21.0 Speed(rev/sec): 256.0 Correct: 4001 Trained: 5000 Accuracy: 80.003999 %\n",
      "Progress: 31.0 Speed(rev/sec): 258.0 Correct: 6129 Trained: 7500 Accuracy: 81.709105 %\n",
      "Progress: 42.0 Speed(rev/sec): 253.0 Correct: 8286 Trained: 10000 Accuracy: 82.851715 %\n",
      "Progress: 52.0 Speed(rev/sec): 254.0 Correct: 10441 Trained: 12500 Accuracy: 83.521318 %\n",
      "Progress: 62.0 Speed(rev/sec): 256.0 Correct: 12584 Trained: 15000 Accuracy: 83.887741 %\n",
      "Progress: 73.0 Speed(rev/sec): 257.0 Correct: 14699 Trained: 17500 Accuracy: 83.989486 %\n",
      "Progress: 83.0 Speed(rev/sec): 259.0 Correct: 16872 Trained: 20000 Accuracy: 84.355782 %\n",
      "Progress: 94.0 Speed(rev/sec): 260.0 Correct: 19059 Trained: 22500 Accuracy: 84.702902 %\n",
      "Progress: 100.0 Speed(rev/sec): 260.0 Correct: 20381 Trained: 23999 Accuracy: 84.920833 %\n"
     ]
    }
   ],
   "source": [
    "reset_nn()\n",
    "train(inputs[:-1000], targets[:-1000], W_hid, W_out, lr, optimize=False)"
   ]
  },
  {
   "cell_type": "code",
   "execution_count": 36,
   "metadata": {},
   "outputs": [
    {
     "name": "stdout",
     "output_type": "stream",
     "text": [
      "Nb Positive: 531\n",
      "Nb Correct:  861\n",
      "Nb Tested:   1000\n",
      "Accuracy:    86.1 %\n"
     ]
    }
   ],
   "source": [
    "test(inputs[-1000:], targets[-1000:], W_hid, W_out, optimize=False)"
   ]
  },
  {
   "cell_type": "code",
   "execution_count": null,
   "metadata": {},
   "outputs": [],
   "source": []
  }
 ],
 "metadata": {
  "kernelspec": {
   "display_name": "Python 3",
   "language": "python",
   "name": "python3"
  },
  "language_info": {
   "codemirror_mode": {
    "name": "ipython",
    "version": 3
   },
   "file_extension": ".py",
   "mimetype": "text/x-python",
   "name": "python",
   "nbconvert_exporter": "python",
   "pygments_lexer": "ipython3",
   "version": "3.6.6"
  }
 },
 "nbformat": 4,
 "nbformat_minor": 2
}
