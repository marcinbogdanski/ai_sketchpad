{
 "cells": [
  {
   "cell_type": "markdown",
   "metadata": {},
   "source": [
    "<font color=\"red\">\n",
    "REMOVE: Shapes are as follows"
   ]
  },
  {
   "cell_type": "markdown",
   "metadata": {},
   "source": [
    "<font color=\"red\">\n",
    "$$\n",
    "x = \n",
    "\\scriptsize{\n",
    "  \\begin{matrix}\n",
    "  ↑ \\\\ \n",
    "  \\text{n_batch} \\\\ \n",
    "  ↓\n",
    "  \\end{matrix}\n",
    "}\\normalsize{}\n",
    "\\overset{\\text{← n_in →}}{\n",
    "  \\begin{bmatrix}\n",
    "  \\cdot & \\cdot  \\\\  \n",
    "  \\cdot & \\cdot \\\\ \n",
    "  \\cdot & \\cdot \n",
    "  \\end{bmatrix}\n",
    "}\n",
    "\\quad\\quad\\quad\n",
    "W =\n",
    "\\scriptsize{\n",
    "  \\begin{matrix}\n",
    "  ↑ \\\\ \n",
    "  \\text{n_in} \\\\ \n",
    "  ↓\n",
    "  \\end{matrix}\n",
    "}\\normalsize{}\n",
    "\\overset{\\text{n_out}}{\n",
    "  \\begin{bmatrix}\n",
    "  \\cdot  \\\\ \n",
    "  \\cdot  \n",
    "  \\end{bmatrix}\n",
    "}\n",
    "\\quad\\quad\\quad\n",
    "b =\n",
    "\\scriptsize{\\text{1}}\\normalsize{}\n",
    "\\overset{\\text{n_out}}{\n",
    "  \\begin{bmatrix}\n",
    "  \\cdot \\\\ \n",
    "  \\end{bmatrix}\n",
    "}\n",
    "$$"
   ]
  },
  {
   "cell_type": "markdown",
   "metadata": {},
   "source": [
    "<font color=\"red\">\n",
    "REMOVE: Forward Pass"
   ]
  },
  {
   "cell_type": "markdown",
   "metadata": {},
   "source": [
    "<font color=\"red\">\n",
    "$$ z = xW + b \\tag{eq 2}$$"
   ]
  },
  {
   "cell_type": "markdown",
   "metadata": {},
   "source": [
    "<font color=\"red\">\n",
    "$$ \\hat{y} = \\sigma(z) \\tag{eq 3}$$"
   ]
  },
  {
   "cell_type": "markdown",
   "metadata": {},
   "source": [
    "<font color=\"red\">\n",
    "Shapes are as follows"
   ]
  },
  {
   "cell_type": "markdown",
   "metadata": {},
   "source": [
    "<font color=\"red\">\n",
    "$$\n",
    "J(y,\\hat{y}) = \n",
    "\\begin{matrix}\n",
    "\\scriptsize{\\text{(scalar)}} \\\\ \n",
    "\\end{matrix}\n",
    "\\quad\\quad\\quad\n",
    "y = \n",
    "\\scriptsize{\n",
    "  \\begin{matrix}\n",
    "  ↑ \\\\ \n",
    "  \\text{n_batch} \\\\ \n",
    "  ↓\n",
    "  \\end{matrix}\n",
    "}\\normalsize{}\n",
    "\\overset{\\text{n_out}}{\n",
    "  \\begin{bmatrix}\n",
    "  \\cdot  \\\\ \n",
    "  \\cdot  \\\\ \n",
    "  \\cdot \n",
    "  \\end{bmatrix}\n",
    "}\n",
    "\\quad\\quad\\quad\n",
    "\\hat{y} =\n",
    "\\scriptsize{\n",
    "  \\begin{matrix}\n",
    "  ↑ \\\\ \n",
    "  \\text{n_batch} \\\\ \n",
    "  ↓\n",
    "  \\end{matrix}\n",
    "}\\normalsize{}\n",
    "\\overset{\\text{n_out}}{\n",
    "  \\begin{bmatrix}\n",
    "  \\cdot  \\\\ \n",
    "  \\cdot  \\\\ \n",
    "  \\cdot \n",
    "  \\end{bmatrix}\n",
    "}\n",
    "$$"
   ]
  },
  {
   "cell_type": "markdown",
   "metadata": {},
   "source": []
  },
  {
   "cell_type": "markdown",
   "metadata": {},
   "source": []
  }
 ],
 "metadata": {
  "kernelspec": {
   "display_name": "Python 3",
   "language": "python",
   "name": "python3"
  },
  "language_info": {
   "codemirror_mode": {
    "name": "ipython",
    "version": 3
   },
   "file_extension": ".py",
   "mimetype": "text/x-python",
   "name": "python",
   "nbconvert_exporter": "python",
   "pygments_lexer": "ipython3",
   "version": "3.6.6"
  }
 },
 "nbformat": 4,
 "nbformat_minor": 2
}
