{
 "cells": [
  {
   "cell_type": "code",
   "execution_count": null,
   "metadata": {},
   "outputs": [],
   "source": [
    "# import os\n",
    "# import gzip\n",
    "# import numpy as np"
   ]
  },
  {
   "cell_type": "markdown",
   "metadata": {},
   "source": [
    "# Neural Network"
   ]
  },
  {
   "cell_type": "code",
   "execution_count": 1,
   "metadata": {},
   "outputs": [],
   "source": [
    "import numpy as np\n",
    "import matplotlib.pyplot as plt"
   ]
  },
  {
   "cell_type": "markdown",
   "metadata": {},
   "source": [
    "**Leaky ReLU**"
   ]
  },
  {
   "cell_type": "code",
   "execution_count": 2,
   "metadata": {},
   "outputs": [],
   "source": [
    "def lrelu(x):\n",
    "    return np.where(x > 0, x, x * 0.01)\n",
    "\n",
    "def lrelu_der(x):\n",
    "    dx = np.ones_like(x)\n",
    "    dx[x <= 0] = 0.01\n",
    "    return dx"
   ]
  },
  {
   "cell_type": "markdown",
   "metadata": {},
   "source": [
    "**Softmax**"
   ]
  },
  {
   "cell_type": "code",
   "execution_count": 3,
   "metadata": {},
   "outputs": [],
   "source": [
    "# see e.g. here: https://deepnotes.io/softmax-crossentropy\n",
    "def softmax(x):\n",
    "    \"\"\"Numerically stable softmax\"\"\"\n",
    "    max_ = np.max(x, axis=-1, keepdims=True)       #                  shape: (n_batch, 1)\n",
    "    ex = np.exp(x - max_)                          #                  shape: (n_batch, n_out)\n",
    "    ex_sum = np.sum(ex, axis=-1, keepdims=True)    #                  shape: (n_batch, 1)\n",
    "    return ex / ex_sum                             # probabilities    shape: (n_batch, n_out)"
   ]
  },
  {
   "cell_type": "markdown",
   "metadata": {},
   "source": [
    "**Cross Entropy**"
   ]
  },
  {
   "cell_type": "markdown",
   "metadata": {},
   "source": [
    "Cross entropy for single training example"
   ]
  },
  {
   "cell_type": "markdown",
   "metadata": {},
   "source": [
    "$$ CE_t = -\\sum_{k=1}^{n_\\text{out}}y_{tk} \\log \\hat{y}_{tk} $$"
   ]
  },
  {
   "cell_type": "markdown",
   "metadata": {},
   "source": [
    "Loss is average CE over mini-batch"
   ]
  },
  {
   "cell_type": "markdown",
   "metadata": {},
   "source": [
    "$$ J(y, \\hat{y}) \\ = \\ \\frac{1}{n_\\text{batch}} \\sum_{t=1}^{n_{\\text{batch}}} CE_t \\ = \\ - \\frac{1}{n_\\text{batch}} \\sum_{t=1}^{n_{\\text{batch}}}  \\sum_{k=1}^{n_\\text{out}}y_{tk} \\log \\hat{y}_{tk} $$"
   ]
  },
  {
   "cell_type": "code",
   "execution_count": 4,
   "metadata": {},
   "outputs": [],
   "source": [
    "def cross_entropy(y, y_hat):\n",
    "    \"\"\"CE for any two propbability distributions, averages over batch.\"\"\"\n",
    "    result = -np.sum(y * np.log(y_hat), axis=-1)   # cross entropy           shape (n_batch,)\n",
    "    return np.average(result)                      # average over batch      shape: scalar"
   ]
  },
  {
   "cell_type": "code",
   "execution_count": 23,
   "metadata": {},
   "outputs": [],
   "source": [
    "def cross_entropy(y, y_hat):\n",
    "    \"\"\"CE for one-hot targets y, averages over batch.\"\"\"\n",
    "    assert np.alltrue(y.sum(axis=-1) == 1)                          # make sure y is one-hot encoded\n",
    "    assert np.alltrue(y.max(axis=-1) == 1)\n",
    "    prob_correct = y_hat[range(len(y_hat)), np.argmax(y, axis=-1)]  # pick y_hat for correct class       (n_batch,)\n",
    "    return np.average( -np.log(prob_correct) )  "
   ]
  },
  {
   "cell_type": "markdown",
   "metadata": {},
   "source": [
    "**Accuracy**"
   ]
  },
  {
   "cell_type": "code",
   "execution_count": 24,
   "metadata": {},
   "outputs": [],
   "source": [
    "def accuracy(y, y_hat):\n",
    "    result = np.argmax(y, axis=-1) == np.argmax(y_hat, axis=-1)  # shape: (len(y), 1)\n",
    "    return np.mean(result)                                       # shape: scalar"
   ]
  },
  {
   "cell_type": "markdown",
   "metadata": {},
   "source": [
    "**Forward Pass**"
   ]
  },
  {
   "cell_type": "code",
   "execution_count": 25,
   "metadata": {},
   "outputs": [],
   "source": [
    "def forward(x, Wh, bh, Wo, bo):\n",
    "    z_hid = x @ Wh + bh       # (n_batch, n_hid)\n",
    "    a_hid = lrelu(z_hid)      # (n_batch, n_hid)\n",
    "    logits = a_hid @ Wo + bo  # (n_batch, n_out)\n",
    "    return softmax(logits)    # (n_batch, n_out)"
   ]
  },
  {
   "cell_type": "code",
   "execution_count": 26,
   "metadata": {},
   "outputs": [],
   "source": [
    "def train_classifier(x_train, y_train, nb_epochs, n_batch, learning_rate, Wh, bh, Wo, bo):\n",
    "    \n",
    "    indices = list(range(len(x_train)))\n",
    "    \n",
    "    losses = []\n",
    "    accuracies = []\n",
    "    \n",
    "    for epoch in range(nb_epochs):\n",
    "        np.random.shuffle(indices)\n",
    "        for i in range(0, len(x_train), n_batch ):\n",
    "            \n",
    "            # Pick mini-batch\n",
    "            i_train = indices[i:i+n_batch]\n",
    "            x = x_train[i_train]  # (n_batch, n_in)\n",
    "            y = y_train[i_train]  # (n_batch, n_out)\n",
    "            \n",
    "            # Forward\n",
    "            z_hid = x @ Wh + bh       # (n_batch, n_hid)\n",
    "            a_hid = lrelu(z_hid)      # (n_batch, n_hid)\n",
    "            logits = a_hid @ Wo + bo  # (n_batch, n_out)\n",
    "            y_hat = softmax(logits)   # (n_batch, n_out)\n",
    "\n",
    "            # Backward\n",
    "            dJdy = (y_hat - y) / len(x)                 # backprop through CE and softmax  (n_batch, n_out)\n",
    "\n",
    "            dWo = a_hid.T @ dJdy                        #                                 (same as Wo)\n",
    "            dbo = np.sum(dJdy, axis=0, keepdims=True)   #                                 (same as bo)\n",
    "            dJdz = dJdy @ Wo.T * lrelu_der(z_hid)       # backprop into hidden            (n_batch, n_hid)\n",
    "\n",
    "            dWh = x.T @ dJdz                            #  (same as Wh)\n",
    "            dbh = np.sum(dJdz, axis=0, keepdims=True)   #  (same as bh)\n",
    "            \n",
    "            Wh += -learning_rate * dWh\n",
    "            bh += -learning_rate * dbh\n",
    "            Wo += -learning_rate * dWo\n",
    "            bo += -learning_rate * dbo\n",
    "            \n",
    "            loss_train = cross_entropy(y, y_hat)\n",
    "            acc_train = accuracy(y, y_hat)\n",
    "            losses.append(loss_train)\n",
    "            accuracies.append(acc_train)\n",
    "            \n",
    "        print(f'epoch {epoch}   loss: {loss_train:.3f}   acc: {acc_train:.3f}')\n",
    "        #print('epoch:', epoch, '\\tloss:', round(loss_train, 2), '\\tacc:', acc_train)\n",
    "        \n",
    "    return losses, accuracies"
   ]
  },
  {
   "cell_type": "markdown",
   "metadata": {},
   "source": [
    "# Example 1: Fashion MNIST"
   ]
  },
  {
   "cell_type": "markdown",
   "metadata": {},
   "source": [
    "Fashion-MNIST dataset, originally taken from here: https://github.com/zalandoresearch/fashion-mnist"
   ]
  },
  {
   "cell_type": "markdown",
   "metadata": {},
   "source": [
    "**Download and Load**"
   ]
  },
  {
   "cell_type": "code",
   "execution_count": 27,
   "metadata": {},
   "outputs": [],
   "source": [
    "def download(url, path, md5sum):\n",
    "    import os\n",
    "    import urllib\n",
    "    import hashlib\n",
    "\n",
    "    folder, file = os.path.split(path)\n",
    "    if folder != '':\n",
    "        os.makedirs(folder, exist_ok=True)\n",
    "    if not os.path.isfile(path):\n",
    "        print('Downloading', path, '...')\n",
    "        urllib.request.urlretrieve(url, path)\n",
    "        assert hashlib.md5(open(path, 'rb').read()).hexdigest() == md5sum\n",
    "    else:\n",
    "        print('Already Exists:', file)"
   ]
  },
  {
   "cell_type": "code",
   "execution_count": 28,
   "metadata": {
    "scrolled": true
   },
   "outputs": [
    {
     "name": "stdout",
     "output_type": "stream",
     "text": [
      "Already Exists: t10k-images-idx3-ubyte.gz\n",
      "Already Exists: t10k-labels-idx1-ubyte.gz\n",
      "Already Exists: train-images-idx3-ubyte.gz\n",
      "Already Exists: train-labels-idx1-ubyte.gz\n",
      "All Done\n"
     ]
    }
   ],
   "source": [
    "download('https://github.com/zalandoresearch/fashion-mnist/raw/master/data/fashion/t10k-images-idx3-ubyte.gz',\n",
    "        path='fashion-mnist/t10k-images-idx3-ubyte.gz', md5sum='bef4ecab320f06d8554ea6380940ec79')\n",
    "download('https://github.com/zalandoresearch/fashion-mnist/raw/master/data/fashion/t10k-labels-idx1-ubyte.gz',\n",
    "        path='fashion-mnist/t10k-labels-idx1-ubyte.gz', md5sum='bb300cfdad3c16e7a12a480ee83cd310')\n",
    "download('https://github.com/zalandoresearch/fashion-mnist/raw/master/data/fashion/train-images-idx3-ubyte.gz',\n",
    "        path='fashion-mnist/train-images-idx3-ubyte.gz', md5sum='8d4fb7e6c68d591d4c3dfef9ec88bf0d')\n",
    "download('https://github.com/zalandoresearch/fashion-mnist/raw/master/data/fashion/train-labels-idx1-ubyte.gz',\n",
    "        path='fashion-mnist/train-labels-idx1-ubyte.gz', md5sum='25c81989df183df01b3e8a0aad5dffbe')\n",
    "print('All Done')"
   ]
  },
  {
   "cell_type": "code",
   "execution_count": 29,
   "metadata": {},
   "outputs": [],
   "source": [
    "# This function was obtained from: https://github.com/zalandoresearch/fashion-mnist\n",
    "def load_mnist(path, kind='train'):\n",
    "    import os\n",
    "    import gzip\n",
    "    import numpy as np\n",
    "\n",
    "    \"\"\"Load MNIST data from `path`\"\"\"\n",
    "    labels_path = os.path.join(path, '%s-labels-idx1-ubyte.gz' % kind)\n",
    "    images_path = os.path.join(path, '%s-images-idx3-ubyte.gz' % kind)\n",
    "\n",
    "    with gzip.open(labels_path, 'rb') as lbpath:\n",
    "        labels = np.frombuffer(lbpath.read(), dtype=np.uint8, offset=8)\n",
    "\n",
    "    with gzip.open(images_path, 'rb') as imgpath:\n",
    "        images = np.frombuffer(imgpath.read(), dtype=np.uint8, offset=16).reshape(len(labels), 784)\n",
    "\n",
    "    return images, labels"
   ]
  },
  {
   "cell_type": "code",
   "execution_count": 30,
   "metadata": {},
   "outputs": [],
   "source": [
    "x_train_raw, y_train_raw = load_mnist('fashion-mnist', kind='train')\n",
    "x_test_raw, y_test_raw = load_mnist('fashion-mnist', kind='t10k')"
   ]
  },
  {
   "cell_type": "markdown",
   "metadata": {},
   "source": [
    "**Preprocess**"
   ]
  },
  {
   "cell_type": "code",
   "execution_count": 31,
   "metadata": {},
   "outputs": [
    {
     "name": "stdout",
     "output_type": "stream",
     "text": [
      "x_train\n",
      "mean: -0.0\n",
      "std: 1.0\n",
      "min: -0.81\n",
      "max: 2.02\n",
      "shape: (60000, 784)\n",
      "data:\n",
      "[[-0.81 -0.81 -0.81 ... -0.81 -0.81 -0.81]\n",
      " [-0.81 -0.81 -0.81 ... -0.81 -0.81 -0.81]\n",
      " [-0.81 -0.81 -0.81 ... -0.81 -0.81 -0.81]\n",
      " ...\n",
      " [-0.81 -0.81 -0.81 ... -0.81 -0.81 -0.81]\n",
      " [-0.81 -0.81 -0.81 ... -0.81 -0.81 -0.81]\n",
      " [-0.81 -0.81 -0.81 ... -0.81 -0.81 -0.81]]\n"
     ]
    }
   ],
   "source": [
    "# Preprocess image dataset\n",
    "x_train_raw_mean = x_train_raw.mean()  # reuse train mean/std for both train/test\n",
    "x_train_raw_std = x_train_raw.std()    # (i.e. pretend test dataset doesn't exist)\n",
    "x_train = (x_train_raw - x_train_raw_mean) / x_train_raw_std\n",
    "x_test = (x_test_raw - x_train_raw_mean) / x_train_raw_std\n",
    "\n",
    "print('x_train')\n",
    "print('mean:', x_train.mean().round(2))\n",
    "print('std:', x_train.std().round(2))\n",
    "print('min:', x_train.min().round(2))\n",
    "print('max:', x_train.max().round(2))\n",
    "print('shape:', x_train.shape)\n",
    "print('data:')\n",
    "print(x_train.round(3))"
   ]
  },
  {
   "cell_type": "code",
   "execution_count": 32,
   "metadata": {},
   "outputs": [
    {
     "data": {
      "image/png": "[encoded data removed]",
      "text/plain": [
       "<Figure size 432x288 with 1 Axes>"
      ]
     },
     "metadata": {},
     "output_type": "display_data"
    }
   ],
   "source": [
    "plt.imshow(x_train_raw[0].reshape([28,28]))\n",
    "plt.title('x_train sample');"
   ]
  },
  {
   "cell_type": "code",
   "execution_count": 33,
   "metadata": {},
   "outputs": [
    {
     "data": {
      "image/png": "[encoded data removed]",
      "text/plain": [
       "<Figure size 432x288 with 1 Axes>"
      ]
     },
     "metadata": {},
     "output_type": "display_data"
    }
   ],
   "source": [
    "plt.hist(x_train.ravel(), bins=100)\n",
    "plt.title('x_train histogram');"
   ]
  },
  {
   "cell_type": "code",
   "execution_count": 34,
   "metadata": {},
   "outputs": [
    {
     "name": "stdout",
     "output_type": "stream",
     "text": [
      "y_train\n",
      "shape: (60000, 10)\n",
      "[[0. 0. 0. ... 0. 0. 1.]\n",
      " [1. 0. 0. ... 0. 0. 0.]\n",
      " [1. 0. 0. ... 0. 0. 0.]\n",
      " ...\n",
      " [0. 0. 0. ... 0. 0. 0.]\n",
      " [1. 0. 0. ... 0. 0. 0.]\n",
      " [0. 0. 0. ... 0. 0. 0.]]\n"
     ]
    }
   ],
   "source": [
    "# Convert labels to one-hot\n",
    "# https://stackoverflow.com/questions/38592324/one-hot-encoding-using-numpy\n",
    "y_train = np.eye(N=10)[y_train_raw]\n",
    "y_test = np.eye(N=10)[y_test_raw]\n",
    "print('y_train')\n",
    "print('shape:', y_train.shape)\n",
    "print(y_train)"
   ]
  },
  {
   "cell_type": "markdown",
   "metadata": {},
   "source": [
    "**Initialize Neural Network**"
   ]
  },
  {
   "cell_type": "code",
   "execution_count": 35,
   "metadata": {},
   "outputs": [],
   "source": [
    "n_in = x_train.shape[1]\n",
    "n_hid = 64\n",
    "n_out = 10\n",
    "n_batch = 125\n",
    "nb_epochs = 20\n",
    "learning_rate = 0.001\n",
    "\n",
    "np.random.seed(0)\n",
    "Wh = np.random.normal(scale=1/(n_in)**.5, size=[n_in, n_hid])\n",
    "bh = np.zeros(shape=[1, n_hid])\n",
    "Wo = np.random.normal(scale=1/(n_hid)**.5, size=[n_hid, n_out])\n",
    "bo = np.zeros(shape=[1, n_out])"
   ]
  },
  {
   "cell_type": "code",
   "execution_count": 36,
   "metadata": {
    "scrolled": false
   },
   "outputs": [
    {
     "name": "stdout",
     "output_type": "stream",
     "text": [
      "epoch 0   loss: 0.958   acc: 0.720\n",
      "epoch 1   loss: 0.799   acc: 0.728\n",
      "epoch 2   loss: 0.712   acc: 0.760\n",
      "epoch 3   loss: 0.659   acc: 0.752\n",
      "epoch 4   loss: 0.674   acc: 0.768\n",
      "epoch 5   loss: 0.541   acc: 0.832\n",
      "epoch 6   loss: 0.668   acc: 0.760\n",
      "epoch 7   loss: 0.561   acc: 0.784\n",
      "epoch 8   loss: 0.638   acc: 0.768\n",
      "epoch 9   loss: 0.564   acc: 0.784\n",
      "epoch 10   loss: 0.509   acc: 0.848\n",
      "epoch 11   loss: 0.662   acc: 0.768\n",
      "epoch 12   loss: 0.541   acc: 0.800\n",
      "epoch 13   loss: 0.560   acc: 0.824\n",
      "epoch 14   loss: 0.583   acc: 0.800\n",
      "epoch 15   loss: 0.464   acc: 0.848\n",
      "epoch 16   loss: 0.516   acc: 0.840\n",
      "epoch 17   loss: 0.443   acc: 0.856\n",
      "epoch 18   loss: 0.476   acc: 0.816\n",
      "epoch 19   loss: 0.532   acc: 0.808\n"
     ]
    }
   ],
   "source": [
    "losses, accuracies = train_classifier(x_train, y_train, nb_epochs, n_batch, learning_rate, Wh=Wh, bh=bh, Wo=Wo, bo=bo)"
   ]
  },
  {
   "cell_type": "code",
   "execution_count": 48,
   "metadata": {},
   "outputs": [
    {
     "data": {
      "image/png": "[encoded data removed]",
      "text/plain": [
       "<Figure size 432x288 with 1 Axes>"
      ]
     },
     "metadata": {},
     "output_type": "display_data"
    }
   ],
   "source": [
    "plt.plot(losses, label='train loss')\n",
    "plt.plot(accuracies, label='train acc')\n",
    "plt.title('Train loss and accuracy')\n",
    "plt.legend();"
   ]
  },
  {
   "cell_type": "code",
   "execution_count": 49,
   "metadata": {},
   "outputs": [
    {
     "data": {
      "text/plain": [
       "0.8163"
      ]
     },
     "execution_count": 49,
     "metadata": {},
     "output_type": "execute_result"
    }
   ],
   "source": [
    "y_hat = forward(x_test, Wh, bh, Wo, bo)\n",
    "accuracy(y_test, y_hat)"
   ]
  },
  {
   "cell_type": "markdown",
   "metadata": {},
   "source": [
    "# Gradient Check"
   ]
  },
  {
   "cell_type": "code",
   "execution_count": 42,
   "metadata": {
    "scrolled": false
   },
   "outputs": [],
   "source": [
    "def numerical_gradient(x, y, Wh, bh, Wo, bo):\n",
    "    \"\"\"Calculate gradient numerically\"\"\"\n",
    "    assert Wh.ndim == 2\n",
    "    assert bh.ndim == 2\n",
    "    assert bh.shape[0] == 1\n",
    "    assert Wo.ndim == 2\n",
    "    assert bo.ndim == 2\n",
    "    assert bo.shape[0] == 1\n",
    "    \n",
    "    eps = 1e-6\n",
    "    \n",
    "    # Weights Hidden\n",
    "    dWh = np.zeros_like(Wh)    \n",
    "    for r in range(Wh.shape[0]):\n",
    "        for c in range(Wh.shape[1]):\n",
    "            Wh_min = Wh.copy()\n",
    "            Wh_pls = Wh.copy()\n",
    "            \n",
    "            Wh_min[r, c] -= eps\n",
    "            Wh_pls[r, c] += eps\n",
    "            \n",
    "            y_hat_pls = forward(x, Wh_pls, bh, Wo, bo)\n",
    "            y_hat_min = forward(x, Wh_min, bh, Wo, bo)\n",
    "            \n",
    "            l_pls = cross_entropy(y, y_hat_pls)\n",
    "            l_min = cross_entropy(y, y_hat_min)\n",
    "\n",
    "            dWh[r, c] = (l_pls - l_min) / (eps * 2)\n",
    "            \n",
    "    # Biases Hidden\n",
    "    dbh = np.zeros_like(bh)\n",
    "    for c in range(bh.shape[1]):\n",
    "        bh_min = bh.copy()\n",
    "        bh_pls = bh.copy()\n",
    "        \n",
    "        bh_min[0, c] -= eps\n",
    "        bh_pls[0, c] += eps\n",
    "            \n",
    "        y_hat_pls = forward(x, Wh, bh_pls, Wo, bo)\n",
    "        y_hat_min = forward(x, Wh, bh_min, Wo, bo)\n",
    "            \n",
    "        l_pls = cross_entropy(y, y_hat_pls)\n",
    "        l_min = cross_entropy(y, y_hat_min)\n",
    "\n",
    "        dbh[0, c] = (l_pls - l_min) / (eps * 2)\n",
    "        \n",
    "        \n",
    "    # Weights Output\n",
    "    dWo = np.zeros_like(Wo)    \n",
    "    for r in range(Wo.shape[0]):\n",
    "        for c in range(Wo.shape[1]):\n",
    "            Wo_min = Wo.copy()\n",
    "            Wo_pls = Wo.copy()\n",
    "            \n",
    "            Wo_min[r, c] -= eps\n",
    "            Wo_pls[r, c] += eps\n",
    "            \n",
    "            y_hat_pls = forward(x, Wh, bh, Wo_pls, bo)\n",
    "            y_hat_min = forward(x, Wh, bh, Wo_min, bo)\n",
    "            \n",
    "            l_pls = cross_entropy(y, y_hat_pls)\n",
    "            l_min = cross_entropy(y, y_hat_min)\n",
    "\n",
    "            dWo[r, c] = (l_pls - l_min) / (eps * 2)\n",
    "            \n",
    "    # Biases Output\n",
    "    dbo = np.zeros_like(bo)\n",
    "    for c in range(bo.shape[1]):\n",
    "        bo_min = bo.copy()\n",
    "        bo_pls = bo.copy()\n",
    "        \n",
    "        bo_min[0, c] -= eps\n",
    "        bo_pls[0, c] += eps\n",
    "            \n",
    "        y_hat_pls = forward(x, Wh, bh, Wo, bo_pls)\n",
    "        y_hat_min = forward(x, Wh, bh, Wo, bo_min)\n",
    "            \n",
    "        l_pls = cross_entropy(y, y_hat_pls)\n",
    "        l_min = cross_entropy(y, y_hat_min)\n",
    "\n",
    "        dbo[0, c] = (l_pls - l_min) / (eps * 2)\n",
    "    \n",
    "    return dWh, dbh, dWo, dbo"
   ]
  },
  {
   "cell_type": "code",
   "execution_count": 45,
   "metadata": {},
   "outputs": [],
   "source": [
    "def test_gradients():\n",
    "    n_batch = 100\n",
    "    n_in = 10\n",
    "    n_hid = 20\n",
    "    n_out = 4\n",
    "    for i in range(100):\n",
    "        x = np.random.randn(n_batch, n_in)\n",
    "        y = np.zeros(shape=[n_batch, n_out])\n",
    "        idx = np.random.randint(0, n_out, size=[n_batch])\n",
    "        y[range(len(y)), idx] = 1                              # random one-hot encoded matrix\n",
    "        Wh = np.random.randn(n_in, n_hid)\n",
    "        bh = np.random.randn(1, n_hid)\n",
    "        Wo = np.random.randn(n_hid, n_out)\n",
    "        bo = np.random.randn(1, n_out)\n",
    "\n",
    "        # Forward\n",
    "        z_hid = x @ Wh + bh       # (n_batch, n_hid)\n",
    "        a_hid = lrelu(z_hid)      # (n_batch, n_hid)\n",
    "        logits = a_hid @ Wo + bo  # (n_batch, n_out)\n",
    "        y_hat = softmax(logits)   # (n_batch, n_out)\n",
    "        # Backward\n",
    "        dJdy = (y_hat - y) / len(x)                 # backprop through CE and softmax  (n_batch, n_out)\n",
    "        dWo = a_hid.T @ dJdy                        #                                 (same as Wo)\n",
    "        dbo = np.sum(dJdy, axis=0, keepdims=True)   #                                 (same as bo)\n",
    "        dJdz = dJdy @ Wo.T * lrelu_der(z_hid)       # backprop into hidden            (n_batch, n_hid)\n",
    "        dWh = x.T @ dJdz                            #  (same as Wh)\n",
    "        dbh = np.sum(dJdz, axis=0, keepdims=True)   #  (same as bh)\n",
    "\n",
    "        ngWh, ngbh, ngWo, ngbo = numerical_gradient(x, y, Wh, bh, Wo, bo)\n",
    "\n",
    "        assert np.allclose(dbo, ngbo)\n",
    "        assert np.allclose(dWo, ngWo)\n",
    "        assert np.allclose(dWh, ngWh)\n",
    "        assert np.allclose(dbh, ngbh)"
   ]
  },
  {
   "cell_type": "code",
   "execution_count": 46,
   "metadata": {},
   "outputs": [],
   "source": [
    "test_gradients()"
   ]
  },
  {
   "cell_type": "code",
   "execution_count": null,
   "metadata": {},
   "outputs": [],
   "source": []
  }
 ],
 "metadata": {
  "kernelspec": {
   "display_name": "Python 3",
   "language": "python",
   "name": "python3"
  },
  "language_info": {
   "codemirror_mode": {
    "name": "ipython",
    "version": 3
   },
   "file_extension": ".py",
   "mimetype": "text/x-python",
   "name": "python",
   "nbconvert_exporter": "python",
   "pygments_lexer": "ipython3",
   "version": "3.6.6"
  }
 },
 "nbformat": 4,
 "nbformat_minor": 2
}
