{
 "cells": [
  {
   "cell_type": "markdown",
   "metadata": {},
   "source": [
    "<br/>\n",
    "$$ \\huge{\\underline{\\textbf{ 1-Layer Neural Network }}} $$\n",
    "<br/>"
   ]
  },
  {
   "cell_type": "markdown",
   "metadata": {},
   "source": [
    "# Introduction"
   ]
  },
  {
   "cell_type": "markdown",
   "metadata": {},
   "source": [
    "This notebook presents reference implementation of **1-layer neural network** trained with backpropagation. \n",
    "\n",
    "Presented neural network contains only one layer (output). While code in the notebook can support any number of neurons, both examples have single neuron. This notebook is intended to demonstrate simplest possible neural network, hence we will use mean squared error loss function and full gradient descent (train on whole dataset all at once).\n",
    "\n",
    "I realise technically we should use cross entropy loss (beter convergence) and stochastic gradient descent (speed). These will be presented in future notebooks. Datasets used in this notebook are super simple and small, so neither really matters.\n",
    "\n",
    "**Contents**\n",
    "\n",
    "* [Neural Network](#Neural-Network) - neural net, backprop, train function\n",
    "* [Example 1](#Example-1:Logical-AND) - logical AND problem\n",
    "* [Example 2](#Example-2:-College-Admissions) - college admissions problem\n",
    "\n",
    "**Model**\n",
    "\n",
    "* one layer: **fully connected** with **sigmoid** activation\n",
    "* loss: **mean squared error**\n",
    "* optimizer: **gradient descent**\n",
    "\n",
    "**Recommended Reading**\n",
    "\n",
    "* [Neural Networks and Deep Learning](http://neuralnetworksanddeeplearning.com/) by Michael Nilsen - great introductory book on neural nets, free\n",
    "* [CS231n](http://cs231n.github.io/) - lecture notes from famous Stanford deep learning course"
   ]
  },
  {
   "cell_type": "markdown",
   "metadata": {},
   "source": [
    "**Notation**\n",
    "\n",
    "| math | python | shape | comment |\n",
    "|-|-|-|-|\n",
    "| - | n_dataset | int | size of train dataset (\\*) |\n",
    "| n_batch | n_batch | int | size of mini-batch (\\*) |\n",
    "| n_in | n_in | int | number of input features |\n",
    "| n_out | n_out | int | number of outputs (\\*\\*) |\n",
    "| $x$ | x | (n_batch, n_in)  | inputs to model |\n",
    "| $W$ | W | (n_in, n_out) | weights |\n",
    "| $w_{tk}$ | - | scalar | one weight |\n",
    "| $b$ | b | (1, n_out) | biases |\n",
    "| $z$ | z | (n_batch, n_out) | preactivations |\n",
    "| $y$ | y | (n_batch, n_out) | targets |\n",
    "| $\\hat{y}$ | y_hat | (n_batch, n_out) | model outputs [0..1] |\n",
    "| $\\sigma(z)$ | sigmoid() | - | sigmoid function |\n",
    "| $\\sigma'(z)$ | sigmoid_der() | - | sigmoid derivative |\n",
    "| $J(y, \\hat{y})$ | loss() | scalar | loss function |\n",
    "\n",
    "* (\\*) - for simplicity we feed in whole dataset all at once, so in this notebook n_batch and n_dataset are always equal\n",
    "* (\\*\\*) - in this notebook *n_out* is always one, but depending on problem, model could have more than one output"
   ]
  },
  {
   "cell_type": "markdown",
   "metadata": {},
   "source": [
    "# Neural Network"
   ]
  },
  {
   "cell_type": "code",
   "execution_count": 1,
   "metadata": {},
   "outputs": [],
   "source": [
    "import numpy as np\n",
    "import matplotlib.pyplot as plt"
   ]
  },
  {
   "cell_type": "markdown",
   "metadata": {},
   "source": [
    "**Overview**\n",
    "\n",
    "Assuming *single training example*, two inputs and one output our neural network will look as follows"
   ]
  },
  {
   "cell_type": "markdown",
   "metadata": {},
   "source": [
    "<img src=\"assets/perceptron.png\">"
   ]
  },
  {
   "cell_type": "markdown",
   "metadata": {},
   "source": [
    "Both input and output matrices would be single row"
   ]
  },
  {
   "cell_type": "markdown",
   "metadata": {},
   "source": [
    "$$\n",
    "x = \n",
    "\\overset{\\text{← n_in →}}{\n",
    "  \\begin{bmatrix}\n",
    "  x_{11} & x_{12} \\\\\n",
    "  \\end{bmatrix}\n",
    "}\n",
    "\\quad\\quad\\quad\n",
    "\\hat{y} =\n",
    "\\overset{\\text{← n_out →}}{\n",
    "  \\begin{bmatrix}\n",
    "  \\ \\ \\hat{y}_{11} \\ \\ \\\\ \n",
    "  \\end{bmatrix}\n",
    "}\n",
    "$$"
   ]
  },
  {
   "cell_type": "markdown",
   "metadata": {},
   "source": [
    "Input matrix $x$ is arranged such that each **training example** occupies **single row**."
   ]
  },
  {
   "cell_type": "markdown",
   "metadata": {},
   "source": [
    "**Row vs Column Arragement**\n",
    "\n",
    "Most (all?) modern frameworks (TensorFlow, Keras, PyTorch) reserve first dimension of input tensor to be mini-batch, which in 2d case results in training examples being arranged into rows in the code. To the best of my memory all real-world code (i.e. not educational) that I have seen follows this convention. I would like my notebooks to be compatible, and I like math notation to reflect code 1:1, hence I will use one-training-example-per-row arrangement everywhere.\n",
    "\n",
    "Alternative arrangement is to have training examples in columns. For example Michael Nilsen book and initial parts of Andrew Ng Deep Learning course use such arrangement. Andrew Ng course switches to row-arrangement in later exercises which use Keras. Of course actual information flow and results achieved are identical disregarding of which arrangement is being used."
   ]
  },
  {
   "cell_type": "markdown",
   "metadata": {},
   "source": [
    "**Sigmoid**\n",
    "\n",
    "Sigmoid activation function and its derivate - both computed element wise. Derivative proof e.g. [here](https://math.stackexchange.com/questions/78575/derivative-of-sigmoid-function-sigma-x-frac11e-x)"
   ]
  },
  {
   "cell_type": "markdown",
   "metadata": {},
   "source": [
    "$$ \\sigma(z) = \\frac{1}{1+\\epsilon^{-z}} \\quad\\quad\\quad\\quad \\frac{\\partial\\sigma}{\\partial z} = \\sigma'(z) = \\sigma(z)(1-\\sigma(z)) \\tag{eq. 1} $$"
   ]
  },
  {
   "cell_type": "code",
   "execution_count": 2,
   "metadata": {},
   "outputs": [],
   "source": [
    "def sigmoid(x):\n",
    "    return 1/(1+np.exp(-x))\n",
    "\n",
    "def sigmoid_der(x):\n",
    "    return sigmoid(x) * (1 - sigmoid(x))    # result can be cached during forward pass and resued here for speed"
   ]
  },
  {
   "cell_type": "markdown",
   "metadata": {},
   "source": [
    "**Forward Pass**\n",
    "\n",
    "All variables are 2d arrays. $x$, $W$ and $b$ denote input mini-batch, weights and biases respectively. *n_batch* is size of mini-batch, but in this notebook we always feed full dataset all at once. *n_in, n_out* are number of input features and number of outputs from the model (in this notebook nb_out is always one). $\\hat{y}$ is output from the model."
   ]
  },
  {
   "cell_type": "markdown",
   "metadata": {},
   "source": [
    "Formulas"
   ]
  },
  {
   "cell_type": "markdown",
   "metadata": {},
   "source": [
    "$$ z = xW + b \\tag{eq 2}$$"
   ]
  },
  {
   "cell_type": "markdown",
   "metadata": {},
   "source": [
    "$$ \\hat{y} = \\sigma(z) \\tag{eq 3}$$"
   ]
  },
  {
   "cell_type": "markdown",
   "metadata": {},
   "source": [
    "As computational graph"
   ]
  },
  {
   "cell_type": "markdown",
   "metadata": {},
   "source": [
    "<img src=\"assets/0010_diag_fwd.png\"/>"
   ]
  },
  {
   "cell_type": "markdown",
   "metadata": {},
   "source": [
    "@ denotes matrix multiplication"
   ]
  },
  {
   "cell_type": "code",
   "execution_count": 3,
   "metadata": {},
   "outputs": [],
   "source": [
    "def forward(x, W, b):                #                                      x.shape (n_batch, n_in)\n",
    "    z = x @ W + b                    # @ is matmul, b is broadcasted        z.shape: (n_batch, n_out)\n",
    "    return sigmoid( z )              #                                      shape: (n_batch, n_out)"
   ]
  },
  {
   "cell_type": "markdown",
   "metadata": {},
   "source": [
    "**Loss**\n",
    "\n",
    "$J(y,\\hat{y})$ is a loss function and it outputs a scalar. As mentioned before, we are using mean squared error loss function. Note that I sum over outputs and average only over batch size. Alternative is to average over both. It will change magnitude of loss values which will change magnitude of gradients. This doesn't make much difference in practice as we simply compensate with learning rate. But this is potentially important when e.g. trying to reproduce a paper, you might want to either match the method, or adjust learning rate accordingly to match results."
   ]
  },
  {
   "cell_type": "markdown",
   "metadata": {},
   "source": [
    "The ½ at the begining cancels out in derivative. In this notebook it is necessary because we do numerical gradient checks. Otherwise it can be omnited."
   ]
  },
  {
   "cell_type": "markdown",
   "metadata": {},
   "source": [
    "Loss"
   ]
  },
  {
   "cell_type": "markdown",
   "metadata": {},
   "source": [
    "$$ J(y,\\hat{y}) = \\frac{1}{2} \\frac{1}{n_\\text{batch}} \\sum_{t=1}^{n_\\text{batch}}  \\ \\sum_{k=1}^{n_\\text{out}} \\  (y_{tk} - \\hat{y}_{tk})^2 \\tag{eq 4} $$"
   ]
  },
  {
   "cell_type": "code",
   "execution_count": 4,
   "metadata": {},
   "outputs": [],
   "source": [
    "def loss(y, y_hat):                                   #                      y_hat, y.shape: (n_batch, n_out)\n",
    "    result = np.sum( (y-y_hat)**2, axis=-1 )          # sum over outputs     result.shape: (n_batch, 1)\n",
    "    return .5 * np.mean( result )                     # average over batch   shape: scalar"
   ]
  },
  {
   "cell_type": "markdown",
   "metadata": {},
   "source": [
    "**Backpropagation**"
   ]
  },
  {
   "cell_type": "markdown",
   "metadata": {},
   "source": [
    "At each backprop step we want to update parameters $W$ and $b$ slightly to make output error (loss $J$) smaller. To do this efficiently we will compute corresponding derivatives $\\frac{\\partial J}{\\partial W}$ and $\\frac{\\partial J}{\\partial b}$. Both derivatives are matrices with shapes matching corresponding variables. I.e. $\\frac{\\partial J}{\\partial W}$ is always the same shape as $W$. Elements of $\\frac{\\partial J}{\\partial W}$ tell us how 'wiggling' corresponding element $W$ would affect output $J$."
   ]
  },
  {
   "cell_type": "markdown",
   "metadata": {},
   "source": [
    "Matrix calculus is beyond the scope of this notebook, good resources include:\n",
    "\n",
    "* [Multivariable Calculus](https://www.khanacademy.org/math/multivariable-calculus) at Khan Academy - super basics\n",
    "* [Computational Graphs](https://www.youtube.com/watch?v=d14TUNcbn1k&list=PL3FW7Lu3i5JvHM8ljYj-zLfQRF3EO8sYv&index=4) video from CS231n - introduction to computational graphs and why use them\n",
    "* [The Matrix Calculus You Need For Deep Learning](https://arxiv.org/abs/1802.01528) - proper treatment of matrix calculus for deep learning\n",
    "* [Backpropagation for a Linary Layer](http://cs231n.stanford.edu/handouts/linear-backprop.pdf) and [Derivatives, Backpropagation, and Vectorization](http://cs231n.stanford.edu/handouts/derivatives.pdf) - detailed treatment of backprop through matrix multiplication\n",
    "\n",
    "Note: one could obtain derivatives by calculating them one-element-at-a-time (like e.g. [here](https://theclevermachine.wordpress.com/2014/09/06/derivation-error-backpropagation-gradient-descent-for-neural-networks/)). This is good to know, but works only for small neural nets."
   ]
  },
  {
   "cell_type": "markdown",
   "metadata": {},
   "source": [
    "Lets have a look at computational graph"
   ]
  },
  {
   "cell_type": "markdown",
   "metadata": {},
   "source": [
    "<img src=\"assets/0010_diag_back.png\"/>"
   ]
  },
  {
   "cell_type": "markdown",
   "metadata": {},
   "source": [
    "From the multivariable chain rule we obtain"
   ]
  },
  {
   "cell_type": "markdown",
   "metadata": {},
   "source": [
    "$$ \n",
    "\\frac{\\partial J}{\\partial W} = \\frac{\\partial J}{\\partial \\hat{y}}   \\frac{\\partial \\hat{y}}{\\partial z}   \\frac{\\partial z}{\\partial W} \n",
    "$$"
   ]
  },
  {
   "cell_type": "markdown",
   "metadata": {},
   "source": [
    "Note that $\\frac{\\partial J}{\\partial \\hat{y}}$ is derivative of scalar wrt matrix, which in itself is a matrix (easy peasy). But $\\frac{\\partial \\hat{y}}{\\partial z}$ and $\\frac{\\partial z}{\\partial W}$ are both derivatives of matrix wrt matrix, which are 4d-tensorrs (not so easy peasy). Thankfully we don't have to (and will not) compute these explicitily. Instead at each backprop step we compute derivative of $J$ wrt intermediate variable (e.g. $\\hat{y}$ or $z$) directly going deeper and deeper until we reach $W$ and $b$."
   ]
  },
  {
   "cell_type": "markdown",
   "metadata": {},
   "source": [
    "Backprop through loss funtion ([proof](#Proofs))"
   ]
  },
  {
   "cell_type": "markdown",
   "metadata": {},
   "source": [
    "$$\\frac{\\partial J}{\\partial \\hat{y}} = \\frac{1}{n_\\text{batch}} (\\hat{y} - y) \\tag{eq 5}$$"
   ]
  },
  {
   "cell_type": "markdown",
   "metadata": {},
   "source": [
    "Backprop through sigmoid - sigmoid is element wise, so combination ends up being element-wise (symbol $*$)"
   ]
  },
  {
   "cell_type": "markdown",
   "metadata": {},
   "source": [
    "$$\n",
    "\\frac{\\partial J}{\\partial z}\n",
    "=\n",
    "\\frac{\\partial J}{\\partial \\hat{y}}  \\frac{\\partial \\hat{y}}{\\partial z}\n",
    "=\n",
    "\\frac{\\partial J}{\\partial \\hat{y}} * \\sigma'(z)  \\tag{eq 6}\n",
    "$$"
   ]
  },
  {
   "cell_type": "markdown",
   "metadata": {},
   "source": [
    "Backprop through linear layer combination ([proof](http://cs231n.stanford.edu/handouts/linear-backprop.pdf))"
   ]
  },
  {
   "cell_type": "markdown",
   "metadata": {},
   "source": [
    "$$\n",
    "\\frac{\\partial J}{\\partial W}\n",
    "=\n",
    "\\frac{\\partial J}{\\partial z}  \\frac{\\partial z}{\\partial W}\n",
    "=\n",
    "x^T \\big(\\frac{\\partial J}{\\partial z}\\big)  \\tag{eq 7}\n",
    "$$"
   ]
  },
  {
   "cell_type": "markdown",
   "metadata": {},
   "source": [
    "Backprop into bias $b$ - because $b$ was broadcasted across batch there are multiple pathways it affects output. As per total derivative chain rule, we need to sum contributions over all pathways. This also makes shapes match."
   ]
  },
  {
   "cell_type": "markdown",
   "metadata": {},
   "source": [
    "$$\n",
    "\\frac{\\partial J}{\\partial b} = \\sum_{t=1}^{n_\\text{batch}} \\frac{\\partial J}{\\partial z_k}  \\tag{eq 8}\n",
    "$$"
   ]
  },
  {
   "cell_type": "markdown",
   "metadata": {},
   "source": [
    "**Train Loop**"
   ]
  },
  {
   "cell_type": "markdown",
   "metadata": {},
   "source": [
    "This function contains everything. Pass in full dataset (inputs x, targets y) and randomly initialized weights $W$ and biases $b$. Because example problems in this notebook are super small, this function trains on whole dataset all at once, i.e. it doesn't pick mini-batches. $W$ and $b$ are updated in-place."
   ]
  },
  {
   "cell_type": "code",
   "execution_count": 5,
   "metadata": {},
   "outputs": [],
   "source": [
    "def train_classifier(x, y, nb_epochs, learning_rate, W, b):\n",
    "    \"\"\"Params:\n",
    "        x - inputs  - shape: (n_dataset, n_in)\n",
    "        y - targets - shape: (n_dataset, n_out)\n",
    "        nb_epochs - number of full passes over dataset\n",
    "        W - weights, modified in place - shape: (nb_in, nb_out)\n",
    "        b - biases, modified in place  - shape: (1, nb_out)\n",
    "    Note: in this notebook nb_out is always equal to one\n",
    "    \"\"\"\n",
    "    losses = []                                                 # keep track of losses for plotting\n",
    "\n",
    "    for e in range(nb_epochs):\n",
    "                \n",
    "        # Forward Pass\n",
    "        z = x @ W + b                                           # (eq 2)    z.shape: (batch_size, nb_neurons)\n",
    "        y_hat = sigmoid(z)                                      # (eq 3)    y_hat.shape: (batch_size, nb_neurons)\n",
    "        \n",
    "        # Backward Pass\n",
    "        rho = (y_hat-y) / len(x) * sigmoid_der(z)               # (eq 5, 6) backprop through MSE and sigmoid\n",
    "        dW = (x.T @ rho)                                        # (eq 7)    backprop through matmul\n",
    "        db = np.sum(rho, axis=0, keepdims=True)                 # (eq 8)    backprop into b\n",
    "        \n",
    "        # Gradient Check (defined at the end of the notebook)\n",
    "        # ngW, ngb = numerical_gradient(x, y, W, b)\n",
    "        # assert np.allclose(ngW, dW) and np.allclose(ngb, db)\n",
    "\n",
    "        # Update weights\n",
    "        W += -learning_rate * dW\n",
    "        b += -learning_rate * db\n",
    "\n",
    "        # Log and Print\n",
    "        loss_train = loss(y, y_hat)                             # binary cross-entropy\n",
    "        losses.append(loss_train)                               # save for plotting\n",
    "        if e % (nb_epochs / 10) == 0:\n",
    "            print('loss ', loss_train.round(4))\n",
    "            \n",
    "    return losses"
   ]
  },
  {
   "cell_type": "markdown",
   "metadata": {},
   "source": [
    "This concludes neural netwrok definiton."
   ]
  },
  {
   "cell_type": "markdown",
   "metadata": {},
   "source": [
    "# Example 1: Logical AND"
   ]
  },
  {
   "cell_type": "markdown",
   "metadata": {},
   "source": [
    "Mapping we are trying to learn:\n",
    "\n",
    "| $x_1$ | $x_2$ | → | $y$ |\n",
    "|---|---|---|--|\n",
    "| 0 | 0 | → | 0 |\n",
    "| 0 | 1 | → | 0 |\n",
    "| 1 | 0 | → | 0 |\n",
    "| 1 | 1 | → | 1 |\n",
    "\n",
    "Dataset"
   ]
  },
  {
   "cell_type": "code",
   "execution_count": 6,
   "metadata": {},
   "outputs": [],
   "source": [
    "# training examples   x1   x2\n",
    "x_train = np.array([[0.0, 0.0],\n",
    "                    [0.0, 1.0],\n",
    "                    [1.0, 0.0],\n",
    "                    [1.0, 1.0]])\n",
    "\n",
    "# training targets    y\n",
    "y_train = np.array([[0.0],\n",
    "                    [0.0],\n",
    "                    [0.0],\n",
    "                    [1.0]])"
   ]
  },
  {
   "cell_type": "markdown",
   "metadata": {},
   "source": [
    "Create neural network (Xavier initialization explained quite well [here](http://andyljones.tumblr.com/post/110998971763/an-explanation-of-xavier-initialization))"
   ]
  },
  {
   "cell_type": "code",
   "execution_count": 7,
   "metadata": {},
   "outputs": [],
   "source": [
    "# Hyperparams\n",
    "nb_epochs = 2000\n",
    "learning_rate = 1\n",
    "\n",
    "# Initialize\n",
    "np.random.seed(0)                                                             # for reproducibility\n",
    "nb_inputs, nb_outputs = 2, 1                                                  # 2 input columns, 1 output per example\n",
    "W = np.random.normal(scale=1/nb_inputs**.5, size=[nb_inputs, nb_outputs])     # Xavier init\n",
    "b = np.zeros(shape=[1, nb_outputs])                                           # ok to init biases to zeros"
   ]
  },
  {
   "cell_type": "markdown",
   "metadata": {},
   "source": [
    "Before training, with randomly initialized $W$"
   ]
  },
  {
   "cell_type": "code",
   "execution_count": 8,
   "metadata": {
    "scrolled": true
   },
   "outputs": [
    {
     "name": "stdout",
     "output_type": "stream",
     "text": [
      "x1, x2      target     model \n",
      "[0, 0]   →   [0]       [0.5]\n",
      "[0, 1]   →   [0]       [0.57]\n",
      "[1, 0]   →   [0]       [0.78]\n",
      "[1, 1]   →   [1]       [0.82]\n"
     ]
    }
   ],
   "source": [
    "y_hat = forward(x_train, W, b).round(2)\n",
    "print('x1, x2      target     model ')\n",
    "print('[0, 0]   →   [0]      ', y_hat[0])\n",
    "print('[0, 1]   →   [0]      ', y_hat[1])\n",
    "print('[1, 0]   →   [0]      ', y_hat[2])\n",
    "print('[1, 1]   →   [1]      ', y_hat[3])"
   ]
  },
  {
   "cell_type": "markdown",
   "metadata": {},
   "source": [
    "Train neural network"
   ]
  },
  {
   "cell_type": "code",
   "execution_count": 9,
   "metadata": {
    "scrolled": false
   },
   "outputs": [
    {
     "name": "stdout",
     "output_type": "stream",
     "text": [
      "loss  0.1513\n",
      "loss  0.0271\n",
      "loss  0.0153\n",
      "loss  0.0103\n",
      "loss  0.0077\n",
      "loss  0.006\n",
      "loss  0.005\n",
      "loss  0.0042\n",
      "loss  0.0036\n",
      "loss  0.0032\n"
     ]
    }
   ],
   "source": [
    "losses = train_classifier(x_train, y_train, nb_epochs, learning_rate, W, b)"
   ]
  },
  {
   "cell_type": "markdown",
   "metadata": {},
   "source": [
    "After training"
   ]
  },
  {
   "cell_type": "code",
   "execution_count": 10,
   "metadata": {},
   "outputs": [
    {
     "name": "stdout",
     "output_type": "stream",
     "text": [
      "x1, x2      target     model \n",
      "[0, 0]   →   [0]       [0.]\n",
      "[0, 1]   →   [0]       [0.08]\n",
      "[1, 0]   →   [0]       [0.08]\n",
      "[1, 1]   →   [1]       [0.9]\n"
     ]
    }
   ],
   "source": [
    "y_hat = forward(x_train, W, b).round(2)\n",
    "print('x1, x2      target     model ')\n",
    "print('[0, 0]   →   [0]      ', y_hat[0])\n",
    "print('[0, 1]   →   [0]      ', y_hat[1])\n",
    "print('[1, 0]   →   [0]      ', y_hat[2])\n",
    "print('[1, 1]   →   [1]      ', y_hat[3])"
   ]
  },
  {
   "cell_type": "code",
   "execution_count": 11,
   "metadata": {},
   "outputs": [
    {
     "data": {
      "text/plain": [
       "[<matplotlib.lines.Line2D at 0x7f06c12556d8>]"
      ]
     },
     "execution_count": 11,
     "metadata": {},
     "output_type": "execute_result"
    },
    {
     "data": {
      "image/png": "[encoded data removed]",
      "text/plain": [
       "<Figure size 432x288 with 1 Axes>"
      ]
     },
     "metadata": {},
     "output_type": "display_data"
    }
   ],
   "source": [
    "plt.plot(losses)"
   ]
  },
  {
   "cell_type": "markdown",
   "metadata": {},
   "source": [
    "# Example 2: College Admissions"
   ]
  },
  {
   "cell_type": "markdown",
   "metadata": {},
   "source": [
    "**Dataset**\n",
    "\n",
    "We will use graduate school admissions data ([https://stats.idre.ucla.edu/stat/data/binary.csv]()). Each row is one student. Columns are as follows:\n",
    "* admit - was student admitted or not? This is our target we will try to predict\n",
    "* gre - student GRE score\n",
    "* gpa - student GPA\n",
    "* rank - prestige of undergrad school, 1 is highest, 4 is lowest"
   ]
  },
  {
   "cell_type": "markdown",
   "metadata": {},
   "source": [
    "Extra Imports"
   ]
  },
  {
   "cell_type": "code",
   "execution_count": 12,
   "metadata": {},
   "outputs": [],
   "source": [
    "import pandas as pd"
   ]
  },
  {
   "cell_type": "markdown",
   "metadata": {},
   "source": [
    "Loda data with pandas"
   ]
  },
  {
   "cell_type": "code",
   "execution_count": 13,
   "metadata": {},
   "outputs": [],
   "source": [
    "df = pd.read_csv('college_admissions.csv')"
   ]
  },
  {
   "cell_type": "markdown",
   "metadata": {},
   "source": [
    "Show first couple rows. First column is index, added automatically by pandas."
   ]
  },
  {
   "cell_type": "code",
   "execution_count": 14,
   "metadata": {
    "scrolled": true
   },
   "outputs": [
    {
     "data": {
      "text/html": [
       "<div>\n",
       "<style scoped>\n",
       "    .dataframe tbody tr th:only-of-type {\n",
       "        vertical-align: middle;\n",
       "    }\n",
       "\n",
       "    .dataframe tbody tr th {\n",
       "        vertical-align: top;\n",
       "    }\n",
       "\n",
       "    .dataframe thead th {\n",
       "        text-align: right;\n",
       "    }\n",
       "</style>\n",
       "<table border=\"1\" class=\"dataframe\">\n",
       "  <thead>\n",
       "    <tr style=\"text-align: right;\">\n",
       "      <th></th>\n",
       "      <th>admit</th>\n",
       "      <th>gre</th>\n",
       "      <th>gpa</th>\n",
       "      <th>rank</th>\n",
       "    </tr>\n",
       "  </thead>\n",
       "  <tbody>\n",
       "    <tr>\n",
       "      <th>0</th>\n",
       "      <td>0</td>\n",
       "      <td>380</td>\n",
       "      <td>3.61</td>\n",
       "      <td>3</td>\n",
       "    </tr>\n",
       "    <tr>\n",
       "      <th>1</th>\n",
       "      <td>1</td>\n",
       "      <td>660</td>\n",
       "      <td>3.67</td>\n",
       "      <td>3</td>\n",
       "    </tr>\n",
       "    <tr>\n",
       "      <th>2</th>\n",
       "      <td>1</td>\n",
       "      <td>800</td>\n",
       "      <td>4.00</td>\n",
       "      <td>1</td>\n",
       "    </tr>\n",
       "    <tr>\n",
       "      <th>3</th>\n",
       "      <td>1</td>\n",
       "      <td>640</td>\n",
       "      <td>3.19</td>\n",
       "      <td>4</td>\n",
       "    </tr>\n",
       "    <tr>\n",
       "      <th>4</th>\n",
       "      <td>0</td>\n",
       "      <td>520</td>\n",
       "      <td>2.93</td>\n",
       "      <td>4</td>\n",
       "    </tr>\n",
       "  </tbody>\n",
       "</table>\n",
       "</div>"
      ],
      "text/plain": [
       "   admit  gre   gpa  rank\n",
       "0      0  380  3.61     3\n",
       "1      1  660  3.67     3\n",
       "2      1  800  4.00     1\n",
       "3      1  640  3.19     4\n",
       "4      0  520  2.93     4"
      ]
     },
     "execution_count": 14,
     "metadata": {},
     "output_type": "execute_result"
    }
   ],
   "source": [
    "df.head()"
   ]
  },
  {
   "cell_type": "markdown",
   "metadata": {},
   "source": [
    "Show some more information about dataset."
   ]
  },
  {
   "cell_type": "code",
   "execution_count": 15,
   "metadata": {
    "scrolled": false
   },
   "outputs": [
    {
     "name": "stdout",
     "output_type": "stream",
     "text": [
      "<class 'pandas.core.frame.DataFrame'>\n",
      "RangeIndex: 400 entries, 0 to 399\n",
      "Data columns (total 4 columns):\n",
      "admit    400 non-null int64\n",
      "gre      400 non-null int64\n",
      "gpa      400 non-null float64\n",
      "rank     400 non-null int64\n",
      "dtypes: float64(1), int64(3)\n",
      "memory usage: 12.6 KB\n"
     ]
    }
   ],
   "source": [
    "df.info()"
   ]
  },
  {
   "cell_type": "markdown",
   "metadata": {},
   "source": [
    "Plot data, each rank separately"
   ]
  },
  {
   "cell_type": "code",
   "execution_count": 16,
   "metadata": {},
   "outputs": [
    {
     "data": {
      "image/png": "[encoded data removed]",
      "text/plain": [
       "<Figure size 576x432 with 4 Axes>"
      ]
     },
     "metadata": {},
     "output_type": "display_data"
    }
   ],
   "source": [
    "fig, axes = plt.subplots(nrows=2, ncols=2, figsize=[8,6])\n",
    "axes = axes.flatten()\n",
    "for i, rank in enumerate([1,2,3,4]):\n",
    "    # pick not-admitted students with given rank\n",
    "    tmp = df.loc[(df['rank']==rank) & (df['admit']==0)]\n",
    "    axes[i].scatter(tmp['gpa'], tmp['gre'], color='red', marker='.', label='rejected')\n",
    "    # pick admitted students with given rank\n",
    "    tmp = df.loc[(df['rank']==rank) & (df['admit']==1)]\n",
    "    axes[i].scatter(tmp['gpa'], tmp['gre'], color='green', marker='.', label='admitted')\n",
    "    axes[i].set_title('Rank '+str(rank))\n",
    "    axes[i].legend()\n",
    "fig.tight_layout()"
   ]
  },
  {
   "cell_type": "markdown",
   "metadata": {},
   "source": [
    "#### Preprocess"
   ]
  },
  {
   "cell_type": "markdown",
   "metadata": {},
   "source": [
    "Code below does following things:\n",
    "* convert _rank_ column into one-hot encoded features\n",
    "* normalize _gre_ and _gpa_ columns to zero mean and unit standard deviation\n",
    "* splits of 20% of data as test set\n",
    "* splits into input features (gre, gpa, one-hot-rank) and targets (admit)\n",
    "* convert into numpy\n",
    "* assert shapes are ok"
   ]
  },
  {
   "cell_type": "code",
   "execution_count": 17,
   "metadata": {},
   "outputs": [],
   "source": [
    "# Create dummies\n",
    "temp = pd.get_dummies(df['rank'], prefix='rank')\n",
    "data = pd.concat([df, temp], axis=1)\n",
    "data.drop(columns='rank', inplace=True)\n",
    "\n",
    "# Normalize\n",
    "for col in ['gre', 'gpa']:\n",
    "    mean, std = data[col].mean(), data[col].std()\n",
    "    # data.loc[:, col] = (data[col]-mean) / std\n",
    "    data[col] = (data[col]-mean) / std\n",
    "\n",
    "# Split off random 20% of the data for testing\n",
    "np.random.seed(0)\n",
    "sample = np.random.choice(data.index, size=int(len(data)*0.9), replace=False)\n",
    "data, test_data = data.iloc[sample], data.drop(sample)\n",
    "\n",
    "# Split into features and targets\n",
    "features_train = data.drop('admit', axis=1)\n",
    "targets_train =  data['admit']\n",
    "features_test = test_data.drop('admit', axis=1)\n",
    "targets_test = test_data['admit']\n",
    "\n",
    "# Convert to numpy\n",
    "x_train = features_train.values            # features train set (numpy)\n",
    "y_train = targets_train.values[:,None]     # targets train set (numpy)\n",
    "x_test = features_test.values              # features validation set (numpy)\n",
    "y_test = targets_test.values[:,None]       # targets valudation set (numpy)\n",
    "\n",
    "# Assert shapes came right way around\n",
    "assert x_train.shape == (360, 6)\n",
    "assert y_train.shape == (360, 1)\n",
    "assert x_test.shape == (40, 6)\n",
    "assert y_test.shape == (40, 1)"
   ]
  },
  {
   "cell_type": "markdown",
   "metadata": {},
   "source": [
    "#### Train Classifier"
   ]
  },
  {
   "cell_type": "markdown",
   "metadata": {},
   "source": [
    "Create neural network"
   ]
  },
  {
   "cell_type": "code",
   "execution_count": 18,
   "metadata": {},
   "outputs": [],
   "source": [
    "# Hyperparams\n",
    "nb_epochs = 2000\n",
    "learning_rate = 1\n",
    "\n",
    "# Initialize\n",
    "np.random.seed(0)                                                       # for reproducibility\n",
    "n_inputs, n_outputs = x_train.shape[1], 1                               # get dataset shape\n",
    "W = np.random.normal(scale=n_inputs**-.5, size=[n_inputs, n_outputs])   # Xavier init\n",
    "b = np.zeros(shape=[1, n_outputs])"
   ]
  },
  {
   "cell_type": "markdown",
   "metadata": {},
   "source": [
    "Train"
   ]
  },
  {
   "cell_type": "code",
   "execution_count": 19,
   "metadata": {},
   "outputs": [
    {
     "name": "stdout",
     "output_type": "stream",
     "text": [
      "loss  0.1524\n",
      "loss  0.0974\n",
      "loss  0.0973\n",
      "loss  0.0972\n",
      "loss  0.0972\n",
      "loss  0.0972\n",
      "loss  0.0972\n",
      "loss  0.0972\n",
      "loss  0.0972\n",
      "loss  0.0972\n"
     ]
    }
   ],
   "source": [
    "losses = train_classifier(x_train, y_train, nb_epochs, learning_rate, W, b)"
   ]
  },
  {
   "cell_type": "code",
   "execution_count": 20,
   "metadata": {},
   "outputs": [
    {
     "data": {
      "text/plain": [
       "[<matplotlib.lines.Line2D at 0x7f06adfe8438>]"
      ]
     },
     "execution_count": 20,
     "metadata": {},
     "output_type": "execute_result"
    },
    {
     "data": {
      "image/png": "[encoded data removed]",
      "text/plain": [
       "<Figure size 432x288 with 1 Axes>"
      ]
     },
     "metadata": {},
     "output_type": "display_data"
    }
   ],
   "source": [
    "plt.plot(losses)"
   ]
  },
  {
   "cell_type": "code",
   "execution_count": 21,
   "metadata": {},
   "outputs": [
    {
     "name": "stdout",
     "output_type": "stream",
     "text": [
      "Accuracy on training set (expected ~0.71): 0.71\n"
     ]
    }
   ],
   "source": [
    "pred = forward(x_train, W, b)\n",
    "pred = pred > 0.5\n",
    "acc = np.mean(pred == y_train)\n",
    "print('Accuracy on training set (expected ~0.71):', acc.round(2))"
   ]
  },
  {
   "cell_type": "code",
   "execution_count": 22,
   "metadata": {},
   "outputs": [
    {
     "name": "stdout",
     "output_type": "stream",
     "text": [
      "Accuracy on test set (expected ~0.75): 0.75\n"
     ]
    }
   ],
   "source": [
    "pred = forward(x_test, W, b)\n",
    "pred = pred > 0.5\n",
    "acc = np.mean(pred == y_test)\n",
    "print('Accuracy on test set (expected ~0.75):', acc.round(2))"
   ]
  },
  {
   "cell_type": "markdown",
   "metadata": {},
   "source": [
    "Note: accuracy on test set is usually worse than training set. College admissions dataset is very small and we just got lucky with easy test set when splitting into train/test sets."
   ]
  },
  {
   "cell_type": "markdown",
   "metadata": {},
   "source": [
    "# Proofs"
   ]
  },
  {
   "cell_type": "markdown",
   "metadata": {},
   "source": [
    "Backprop through mean squared error"
   ]
  },
  {
   "cell_type": "markdown",
   "metadata": {},
   "source": [
    "$$ J(y,\\hat{y}) = \\frac{1}{2} \\frac{1}{\\text{n_batch}} \\sum_{t=1}^{\\text{n_batch}}  \\ \\sum_{k=1}^{\\text{n_out}} \\  (y_{tk} - \\hat{y}_{tk})^2 $$"
   ]
  },
  {
   "cell_type": "markdown",
   "metadata": {},
   "source": [
    "Proof: let's take one element $\\frac{\\partial J}{\\partial \\hat{y}_{ij}}$, where $i$ is number of training example and $j$ is input feature"
   ]
  },
  {
   "cell_type": "markdown",
   "metadata": {},
   "source": [
    "$$ \n",
    "\\frac{\\partial J}{\\partial \\hat{y}_{ij}} \\ = \\\n",
    "\\frac{\\partial}{\\partial \\hat{y}_{ij}} \\big[    \\frac{1}{2} \\frac{1}{\\text{n_batch}} \\sum_{t=1}^{\\text{n_batch}}  \\ \\sum_{k=1}^{\\text{n_out}} \\  (y_{tk} - \\hat{y}_{tk})^2 \\big]\n",
    "\\tag*{drop sums i≠t and j≠k}\n",
    "$$"
   ]
  },
  {
   "cell_type": "markdown",
   "metadata": {},
   "source": [
    "$$\n",
    "\\\\ \\overset{\\text{}}{=} \\\n",
    "\\frac{1}{2} \\frac{1}{\\text{n_batch}}  \\  \\frac{\\partial}{\\partial \\hat{y}_{ij}}  (y_{ij} - \\hat{y}_{ij})^2\n",
    "\\tag*{chain rule}\n",
    "$$"
   ]
  },
  {
   "cell_type": "markdown",
   "metadata": {},
   "source": [
    "$$\n",
    "\\\\ = \\\n",
    "\\frac{1}{\\text{n_batch}} (y_{ij} - \\hat{y}_{ij} )(-1)\n",
    "$$"
   ]
  },
  {
   "cell_type": "markdown",
   "metadata": {},
   "source": [
    "$$\n",
    "\\\\ = \\\n",
    "\\frac{1}{\\text{n_batch}} (\\hat{y}_{ij} - y_{ij} )\n",
    "$$"
   ]
  },
  {
   "cell_type": "markdown",
   "metadata": {},
   "source": [
    "We can drop both sums because output $\\hat{y}_{ij}$ depends only on $\\hat{y}_{tk}$ where $i=t, j=k$. Note that $y$ and $\\hat{y}$ are swapped at the end due to minus sign."
   ]
  },
  {
   "cell_type": "markdown",
   "metadata": {},
   "source": [
    "# Numerical Gradient Check"
   ]
  },
  {
   "cell_type": "markdown",
   "metadata": {},
   "source": [
    "Run this cell if you want to perform numerical gradient check in train_classifier()"
   ]
  },
  {
   "cell_type": "code",
   "execution_count": 23,
   "metadata": {},
   "outputs": [],
   "source": [
    "def numerical_gradient(x, y, W, b):\n",
    "    \"\"\"Check gradient numerically\"\"\"\n",
    "    assert W.ndim == 2\n",
    "    assert b.ndim == 2\n",
    "    assert b.shape[0] == 1\n",
    "    \n",
    "    eps = 1e-4\n",
    "    \n",
    "    # Weights\n",
    "    del_W = np.zeros_like(W)    \n",
    "    for r in range(W.shape[0]):\n",
    "        for c in range(W.shape[1]):\n",
    "            W_min = W.copy()\n",
    "            W_pls = W.copy()\n",
    "            \n",
    "            W_min[r, c] -= eps\n",
    "            W_pls[r, c] += eps\n",
    "            \n",
    "            y_hat_pls = forward(x, W_pls, b)\n",
    "            y_hat_min = forward(x, W_min, b)\n",
    "            \n",
    "            l_pls = loss(y, y_hat_pls)\n",
    "            l_min = loss(y, y_hat_min)\n",
    "\n",
    "            del_W[r, c] = (l_pls - l_min) / (eps * 2)\n",
    "            \n",
    "    # Biases\n",
    "    del_b = np.zeros_like(b)\n",
    "    for c in range(b.shape[1]):\n",
    "        b_min = b.copy()\n",
    "        b_pls = b.copy()\n",
    "            \n",
    "        b_min[0, c] -= eps\n",
    "        b_pls[0, c] += eps\n",
    "            \n",
    "        y_hat_pls = forward(x, W, b_pls)\n",
    "        y_hat_min = forward(x, W, b_min)\n",
    "            \n",
    "        l_pls = loss(y, y_hat_pls)\n",
    "        l_min = loss(y, y_hat_min)\n",
    "\n",
    "        del_b[0, c] = (l_pls - l_min) / (eps * 2)\n",
    "    \n",
    "    return del_W, del_b"
   ]
  },
  {
   "cell_type": "markdown",
   "metadata": {},
   "source": [
    "# Delete below"
   ]
  },
  {
   "cell_type": "markdown",
   "metadata": {},
   "source": [
    "<font color=\"red\">\n",
    "REMOVE: Shapes are as follows"
   ]
  },
  {
   "cell_type": "markdown",
   "metadata": {},
   "source": [
    "<font color=\"red\">\n",
    "$$\n",
    "x = \n",
    "\\scriptsize{\n",
    "  \\begin{matrix}\n",
    "  ↑ \\\\ \n",
    "  \\text{n_batch} \\\\ \n",
    "  ↓\n",
    "  \\end{matrix}\n",
    "}\\normalsize{}\n",
    "\\overset{\\text{← n_in →}}{\n",
    "  \\begin{bmatrix}\n",
    "  \\cdot & \\cdot  \\\\  \n",
    "  \\cdot & \\cdot \\\\ \n",
    "  \\cdot & \\cdot \n",
    "  \\end{bmatrix}\n",
    "}\n",
    "\\quad\\quad\\quad\n",
    "W =\n",
    "\\scriptsize{\n",
    "  \\begin{matrix}\n",
    "  ↑ \\\\ \n",
    "  \\text{n_in} \\\\ \n",
    "  ↓\n",
    "  \\end{matrix}\n",
    "}\\normalsize{}\n",
    "\\overset{\\text{n_out}}{\n",
    "  \\begin{bmatrix}\n",
    "  \\cdot  \\\\ \n",
    "  \\cdot  \n",
    "  \\end{bmatrix}\n",
    "}\n",
    "\\quad\\quad\\quad\n",
    "b =\n",
    "\\scriptsize{\\text{1}}\\normalsize{}\n",
    "\\overset{\\text{n_out}}{\n",
    "  \\begin{bmatrix}\n",
    "  \\cdot \\\\ \n",
    "  \\end{bmatrix}\n",
    "}\n",
    "$$"
   ]
  },
  {
   "cell_type": "markdown",
   "metadata": {},
   "source": [
    "<font color=\"red\">\n",
    "REMOVE: Forward Pass"
   ]
  },
  {
   "cell_type": "markdown",
   "metadata": {},
   "source": [
    "<font color=\"red\">\n",
    "$$ z = xW + b \\tag{eq 2}$$"
   ]
  },
  {
   "cell_type": "markdown",
   "metadata": {},
   "source": [
    "<font color=\"red\">\n",
    "$$ \\hat{y} = \\sigma(z) \\tag{eq 3}$$"
   ]
  },
  {
   "cell_type": "markdown",
   "metadata": {},
   "source": [
    "<font color=\"red\">\n",
    "Shapes are as follows"
   ]
  },
  {
   "cell_type": "markdown",
   "metadata": {},
   "source": [
    "<font color=\"red\">\n",
    "$$\n",
    "J(y,\\hat{y}) = \n",
    "\\begin{matrix}\n",
    "\\scriptsize{\\text{(scalar)}} \\\\ \n",
    "\\end{matrix}\n",
    "\\quad\\quad\\quad\n",
    "y = \n",
    "\\scriptsize{\n",
    "  \\begin{matrix}\n",
    "  ↑ \\\\ \n",
    "  \\text{n_batch} \\\\ \n",
    "  ↓\n",
    "  \\end{matrix}\n",
    "}\\normalsize{}\n",
    "\\overset{\\text{n_out}}{\n",
    "  \\begin{bmatrix}\n",
    "  \\cdot  \\\\ \n",
    "  \\cdot  \\\\ \n",
    "  \\cdot \n",
    "  \\end{bmatrix}\n",
    "}\n",
    "\\quad\\quad\\quad\n",
    "\\hat{y} =\n",
    "\\scriptsize{\n",
    "  \\begin{matrix}\n",
    "  ↑ \\\\ \n",
    "  \\text{n_batch} \\\\ \n",
    "  ↓\n",
    "  \\end{matrix}\n",
    "}\\normalsize{}\n",
    "\\overset{\\text{n_out}}{\n",
    "  \\begin{bmatrix}\n",
    "  \\cdot  \\\\ \n",
    "  \\cdot  \\\\ \n",
    "  \\cdot \n",
    "  \\end{bmatrix}\n",
    "}\n",
    "$$"
   ]
  }
 ],
 "metadata": {
  "kernelspec": {
   "display_name": "Python 3",
   "language": "python",
   "name": "python3"
  },
  "language_info": {
   "codemirror_mode": {
    "name": "ipython",
    "version": 3
   },
   "file_extension": ".py",
   "mimetype": "text/x-python",
   "name": "python",
   "nbconvert_exporter": "python",
   "pygments_lexer": "ipython3",
   "version": "3.6.6"
  }
 },
 "nbformat": 4,
 "nbformat_minor": 2
}
