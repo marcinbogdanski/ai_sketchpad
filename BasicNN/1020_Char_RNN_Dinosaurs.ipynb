{
 "cells": [
  {
   "cell_type": "markdown",
   "metadata": {},
   "source": [
    "<img src=\"../Udacity_DL_Nanodegree/031%20RNN%20Super%20Basics/MultiMultiRNN01.png\" align=\"left\"/>"
   ]
  },
  {
   "cell_type": "markdown",
   "metadata": {},
   "source": [
    "<img src=\"assets/rnn_diag.png\"/>"
   ]
  },
  {
   "cell_type": "markdown",
   "metadata": {},
   "source": [
    "Dataset originaly obtained from https://github.com/suarasaur/dinosaurs"
   ]
  },
  {
   "cell_type": "code",
   "execution_count": 1,
   "metadata": {},
   "outputs": [],
   "source": [
    "import numpy as np\n",
    "import matplotlib.pyplot as plt\n",
    "import pdb"
   ]
  },
  {
   "cell_type": "code",
   "execution_count": 66,
   "metadata": {},
   "outputs": [
    {
     "data": {
      "text/plain": [
       "['aachenosaurus', 'aardonyx', 'abelisaurus', 'abrictosaurus']"
      ]
     },
     "execution_count": 66,
     "metadata": {},
     "output_type": "execute_result"
    }
   ],
   "source": [
    "with open('dinosaurs.csv') as f:\n",
    "    data = list(map(str.strip, f.readlines()))\n",
    "data[:4]"
   ]
  },
  {
   "cell_type": "code",
   "execution_count": 67,
   "metadata": {},
   "outputs": [],
   "source": [
    "chars = list(set(''.join(data)))               # ['x', 'z', 'j', 'g', ... ]\n",
    "chars.insert(0, ' ')                           # use space as not-a-char tag, used for padding\n",
    "ch2i = {ch:i for i,ch in enumerate(chars)}     # {'_': 0, 'x': 1, 'z': 2, 'j': 3, 'g': 4, ... }\n",
    "i2ch = {i:ch for ch,i in ch2i.items()}         # {0: '_', 1: 'x', 2: 'z', 3: 'j', 4: 'g', ... }"
   ]
  },
  {
   "cell_type": "code",
   "execution_count": 68,
   "metadata": {},
   "outputs": [
    {
     "data": {
      "text/plain": [
       "['yongjinglong', 'eocarcharia', 'shidaisaurus', 'brasileosaurus']"
      ]
     },
     "execution_count": 68,
     "metadata": {},
     "output_type": "execute_result"
    }
   ],
   "source": [
    "np.random.seed(0)\n",
    "np.random.shuffle(data)\n",
    "data[:4]"
   ]
  },
  {
   "cell_type": "code",
   "execution_count": 71,
   "metadata": {},
   "outputs": [
    {
     "data": {
      "text/plain": [
       "['yongjinglong             ',\n",
       " 'eocarcharia              ',\n",
       " 'shidaisaurus             ',\n",
       " 'brasileosaurus           ']"
      ]
     },
     "execution_count": 71,
     "metadata": {},
     "output_type": "execute_result"
    }
   ],
   "source": [
    "max_len = len(max(data, key=len))  # length of longest dino name\n",
    "for i, dino in enumerate(data):\n",
    "    data[i] = dino.ljust(max_len+1)  # pad all names with spaces to same length\n",
    "data[:4]"
   ]
  },
  {
   "cell_type": "code",
   "execution_count": 73,
   "metadata": {},
   "outputs": [
    {
     "data": {
      "text/plain": [
       "53.0"
      ]
     },
     "execution_count": 73,
     "metadata": {},
     "output_type": "execute_result"
    }
   ],
   "source": [
    "len(data)/25"
   ]
  },
  {
   "cell_type": "code",
   "execution_count": 21,
   "metadata": {},
   "outputs": [
    {
     "data": {
      "text/plain": [
       "{'x': 0,\n",
       " 'z': 1,\n",
       " '\\n': 2,\n",
       " 'j': 3,\n",
       " 'g': 4,\n",
       " 'd': 5,\n",
       " 'i': 6,\n",
       " 'r': 7,\n",
       " 'p': 8,\n",
       " 'c': 9,\n",
       " 'o': 10,\n",
       " 'k': 11,\n",
       " 'u': 12,\n",
       " 'v': 13,\n",
       " 't': 14,\n",
       " 'a': 15,\n",
       " 'b': 16,\n",
       " 'l': 17,\n",
       " 'w': 18,\n",
       " 'y': 19,\n",
       " 's': 20,\n",
       " 'n': 21,\n",
       " 'e': 22,\n",
       " 'q': 23,\n",
       " 'h': 24,\n",
       " 'f': 25,\n",
       " 'm': 26}"
      ]
     },
     "execution_count": 21,
     "metadata": {},
     "output_type": "execute_result"
    }
   ],
   "source": [
    "ch2i"
   ]
  },
  {
   "cell_type": "code",
   "execution_count": null,
   "metadata": {},
   "outputs": [],
   "source": []
  },
  {
   "cell_type": "code",
   "execution_count": null,
   "metadata": {},
   "outputs": [],
   "source": []
  }
 ],
 "metadata": {
  "kernelspec": {
   "display_name": "Python 3",
   "language": "python",
   "name": "python3"
  },
  "language_info": {
   "codemirror_mode": {
    "name": "ipython",
    "version": 3
   },
   "file_extension": ".py",
   "mimetype": "text/x-python",
   "name": "python",
   "nbconvert_exporter": "python",
   "pygments_lexer": "ipython3",
   "version": "3.6.6"
  }
 },
 "nbformat": 4,
 "nbformat_minor": 2
}
