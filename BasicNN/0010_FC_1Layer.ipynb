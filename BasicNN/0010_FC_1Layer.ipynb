{
 "cells": [
  {
   "cell_type": "markdown",
   "metadata": {},
   "source": [
    "<br/>\n",
    "$$ \\huge{\\underline{\\textbf{ 1-Layer Neural Network }}} $$\n",
    "<br/>"
   ]
  },
  {
   "cell_type": "markdown",
   "metadata": {},
   "source": [
    "Contents:\n",
    "* [Introduction](#Introduction)\n",
    "* [Neural Network](#Neural-Network)\n",
    "* [Math](#Math)\n",
    "* [Solve AND](#Solve-AND)\n",
    "* [Solve College Admissions](#Solve-College-Admissions)\n",
    "* [Numerical Gradient Check](#Numerical-Gradient-Check)"
   ]
  },
  {
   "cell_type": "markdown",
   "metadata": {},
   "source": [
    "# Introduction"
   ]
  },
  {
   "cell_type": "markdown",
   "metadata": {},
   "source": [
    "This notebook presents reference implementation of **1-layer neural network** trained with backpropagation.\n",
    "\n",
    "I say \"neural network\", but whole neural network is just single neuron with sigmoid activaiton function. We are going to use binary cross-entropy loss function because it has better convergence properties than mean squared error (as explained [here](http://neuralnetworksanddeeplearning.com/chap3.html#the_cross-entropy_cost_function). Fitting such single-layer single-neuron model is also called binary logistic regression.\n",
    "\n",
    "**Model**\n",
    "\n",
    "* one layer: **fully connected** with **sigmoid** activation\n",
    "* loss: **binary cross-entropy**\n",
    "* optimizer: **vanilla SGD**\n",
    "\n",
    "**Recommended Reading**\n",
    "\n",
    "* *Neural Networks and Deep Learning* by Michael Nilsen - great free introductory book [here](http://neuralnetworksanddeeplearning.com/)\n",
    "* *Understanding Categorical Cross-Entropy Loss, Binary Cross-Entropy Loss, Softmax Loss, Logistic Loss, Focal Loss and all those confusing names* - great post explaining loss functions [here](https://gombru.github.io/2018/05/23/cross_entropy_loss/)"
   ]
  },
  {
   "cell_type": "markdown",
   "metadata": {},
   "source": [
    "# Neural Network"
   ]
  },
  {
   "cell_type": "code",
   "execution_count": 1,
   "metadata": {},
   "outputs": [],
   "source": [
    "import numpy as np\n",
    "import matplotlib.pyplot as plt"
   ]
  },
  {
   "cell_type": "markdown",
   "metadata": {},
   "source": [
    "This function contains everything. Pass in full dataset (inputs x, targets y) and randomly initialized weights $W$ and biases $b$. This function trains on whole dataset at once, i.e. it doesn't pick mini-batches. $W$ and $b$ are updated in-place."
   ]
  },
  {
   "cell_type": "markdown",
   "metadata": {},
   "source": [
    "$$ \n",
    "\\begin{matrix}\n",
    " \\uparrow \\\\ \n",
    " \\small{\\text{batch_size}} \\\\ \n",
    " \\downarrow\n",
    "\\end{matrix}\n",
    "\\quad\n",
    "\\underset{z}{\n",
    "  \\begin{bmatrix}\n",
    "  \\cdot \\\\  \n",
    "  \\cdot \\\\ \n",
    "  \\cdot\n",
    "  \\end{bmatrix}\n",
    "} = \n",
    "\\underset{x}{\n",
    "  \\begin{bmatrix}\n",
    "  \\cdot & \\cdot & \\cdot \\\\  \n",
    "  \\cdot & \\cdot & \\cdot \\\\ \n",
    "  \\cdot & \\cdot & \\cdot\n",
    "  \\end{bmatrix}\n",
    "}\n",
    "\\underset{W}{\n",
    "  \\begin{bmatrix}\n",
    "  \\cdot  \\\\ \n",
    "  \\cdot  \\\\ \n",
    "  \\cdot \n",
    "  \\end{bmatrix}\n",
    "}\n",
    "+\n",
    "\\underset{b}{\n",
    "  \\begin{bmatrix}\n",
    "  \\cdot \\\\ \n",
    "  \\downarrow  \\\\ \n",
    "  \\\n",
    "  \\end{bmatrix}\n",
    "}\n",
    "$$"
   ]
  },
  {
   "cell_type": "code",
   "execution_count": 2,
   "metadata": {},
   "outputs": [],
   "source": [
    "def train_classifier(x, y, nb_epochs, W, b):\n",
    "    \"\"\"Params:\n",
    "        x - inputs  - shape: (batch_size, nb_inputs)\n",
    "        y - targets - shape: (batch_size, nb_outputs)\n",
    "        W - weights, modified in place - shape: (nb_inputs, nb_outputs)\n",
    "        b - biases, modified in place  - shape: (1, nb_outputs)\n",
    "    Note: in this notebook nb_outputs is always equal to one\n",
    "    \"\"\"\n",
    "    losses = []                                                 # keep track of losses for plotting\n",
    "\n",
    "    for e in range(nb_epochs):\n",
    "                \n",
    "        # Forward Pass\n",
    "        z = x @ W + b                                           # (eq 1)    z.shape: (batch_size, nb_neurons)\n",
    "        y_hat = sigmoid(z)                                      # (eq 2)    y_hat.shape: (batch_size, nb_neurons)\n",
    "        \n",
    "        # Backward Pass\n",
    "        rho = y_hat - y                                         # (eq 3)    combined sigmoid and binary CE derivative\n",
    "        dW = (x.T @ rho) / len(x)                               # (eq 6)    backprop through matmul\n",
    "        db = np.sum(rho, axis=0, keepdims=True) / len(x)        # (eq 7)\n",
    "        \n",
    "        # Gradient Check (defined at the end of the notebook)\n",
    "        # ngW, ngb = numerical_gradient(x, y, W, b)\n",
    "        # assert np.allclose(ngW, dW) and np.allclose(ngb, db)\n",
    "\n",
    "        W += -lr * dW\n",
    "        b += -lr * db\n",
    "\n",
    "        # Train loss\n",
    "        loss_train = loss(y, y_hat)                             # binary cross-entropy\n",
    "        losses.append(loss_train)                               # save for plotting\n",
    "\n",
    "        if e % (nb_epochs / 10) == 0:\n",
    "            print('loss ', loss_train.round(4))\n",
    "            \n",
    "    return losses"
   ]
  },
  {
   "cell_type": "markdown",
   "metadata": {},
   "source": [
    "Helper Functions"
   ]
  },
  {
   "cell_type": "code",
   "execution_count": 3,
   "metadata": {},
   "outputs": [],
   "source": [
    "def forward(x, W, b):                                 #                        x.shape (batch_size, nb_inputs)\n",
    "    return sigmoid( x @ W + b )                       #                        shape: (batch_size, nb_outputs)"
   ]
  },
  {
   "cell_type": "code",
   "execution_count": 4,
   "metadata": {},
   "outputs": [],
   "source": [
    "def loss(y, y_hat):                                   #                        y_hat, y shapes: (batch_size, nb_outputs)\n",
    "    result = -y*np.log(y_hat) -(1-y)*np.log(1-y_hat)  # (eq 4)   binary CE     result.shape: (batch_size, 1)\n",
    "    return np.mean( result )                          # (eq 4)                 shape: scalar"
   ]
  },
  {
   "cell_type": "code",
   "execution_count": 5,
   "metadata": {},
   "outputs": [],
   "source": [
    "def sigmoid(x):\n",
    "    return 1/(1+np.exp(-x))                           # (eq 3)"
   ]
  },
  {
   "cell_type": "markdown",
   "metadata": {},
   "source": [
    "# Math"
   ]
  },
  {
   "cell_type": "markdown",
   "metadata": {},
   "source": [
    "Forward pass"
   ]
  },
  {
   "cell_type": "markdown",
   "metadata": {},
   "source": [
    "$$ z = xW + b \\tag{linear combination; eq 1}$$"
   ]
  },
  {
   "cell_type": "markdown",
   "metadata": {},
   "source": [
    "$$ \\hat{y} = S(z) \\tag{model output; eq 2}$$"
   ]
  },
  {
   "cell_type": "markdown",
   "metadata": {},
   "source": [
    "$$ S(z) = \\frac{1}{1+\\epsilon^{-z}} \\tag{sigmoid, element-wise; eq 3} $$"
   ]
  },
  {
   "cell_type": "markdown",
   "metadata": {},
   "source": [
    "$$ J(y,\\hat{y}) =  \\frac{1}{m} \\sum_{t=1}^{m} \\big[ -y_t \\log(\\hat{y_t}) - (1-y_t)\\log(1-\\hat{y_t}) \\big] \\tag{loss for the batch; eq 4} $$"
   ]
  },
  {
   "cell_type": "markdown",
   "metadata": {},
   "source": [
    "Backward Pass\n",
    "\n",
    "\n"
   ]
  },
  {
   "cell_type": "markdown",
   "metadata": {},
   "source": [
    "$$ \\frac{\\partial J}{\\partial z} = \\frac{1}{m} (\\hat{y} - y) \\tag{ derivative of both sigmoid and binary CE; eq 5}$$"
   ]
  },
  {
   "cell_type": "markdown",
   "metadata": {},
   "source": [
    "$$ \\frac{\\partial J}{\\partial W} = \\frac{1}{m} x^T (\\hat{y} - y) \\tag{backprop through matmul; eq 6} $$"
   ]
  },
  {
   "cell_type": "markdown",
   "metadata": {},
   "source": [
    "$$ \\frac{\\partial J}{\\partial b} = \\frac{1}{m} \\sum_{t=1}^{m} (\\hat{y} - y) \\tag{eq 7} $$"
   ]
  },
  {
   "cell_type": "markdown",
   "metadata": {},
   "source": [
    "Symbols\n",
    "\n",
    "| symbol | shape | comment |\n",
    "|-|-|-|\n",
    "| $x$ | (batch_size, nb_inputs)  | inputs to model |\n",
    "| $W$ | (nb_inputs, nb_outputs) | weights |\n",
    "| $b$ | (1, nb_outputs) | biases |\n",
    "| $z$ | (batch_size, nb_outputs) | preactivations |\n",
    "| $y$ | (batch_size, nb_outputs) | targets |\n",
    "| $\\hat{y}$ | (batch_size, nb_outputs) | model outputs [0..1] |\n",
    "| $S(z)$ | - | sigmoid function |\n",
    "| m | - | same as batch_size |\n",
    "| t | - | index of training example |\n",
    "| $J(y, \\hat{y})$ | scalar | loss function |"
   ]
  },
  {
   "cell_type": "markdown",
   "metadata": {},
   "source": [
    "Comments, proofs\n",
    "* (eq 4) binary cross-entropy, calculate per-training-example, then average to get mini-batch loss, more info [here](https://gombru.github.io/2018/05/23/cross_entropy_loss/)\n",
    "* (eq 5) element wise derivative of both sigmoid and binary cross-entropy combined, [proof](https://www.ics.uci.edu/~pjsadows/notes.pdf)\n",
    "* (eq 6) derivative of matrix multiplication, see [here](http://cs231n.stanford.edu/handouts/linear-backprop.pdf) and [here](http://cs231n.stanford.edu/handouts/derivatives.pdf)"
   ]
  },
  {
   "cell_type": "markdown",
   "metadata": {},
   "source": [
    "# Solve AND"
   ]
  },
  {
   "cell_type": "markdown",
   "metadata": {},
   "source": [
    "Mapping we are trying to learn:\n",
    "\n",
    "| $x_1$ | $x_2$ | $y$ |\n",
    "|---|---|---|\n",
    "| 0 | 0 | 0 |\n",
    "| 0 | 1 | 0 |\n",
    "| 1 | 0 | 0 |\n",
    "| 1 | 1 | 1 |\n",
    "\n",
    "Dataset"
   ]
  },
  {
   "cell_type": "code",
   "execution_count": 6,
   "metadata": {},
   "outputs": [],
   "source": [
    "# training examples   x1   x2\n",
    "x_train = np.array([[0.0, 0.0],\n",
    "                    [0.0, 1.0],\n",
    "                    [1.0, 0.0],\n",
    "                    [1.0, 1.0]])\n",
    "\n",
    "# training targets    y\n",
    "y_train = np.array([[0.0],\n",
    "                    [0.0],\n",
    "                    [0.0],\n",
    "                    [1.0]])"
   ]
  },
  {
   "cell_type": "markdown",
   "metadata": {},
   "source": [
    "Create neural network (Xavier initialization explained quite well [here](http://andyljones.tumblr.com/post/110998971763/an-explanation-of-xavier-initialization))"
   ]
  },
  {
   "cell_type": "code",
   "execution_count": 7,
   "metadata": {},
   "outputs": [],
   "source": [
    "# Hyperparams\n",
    "nb_epochs = 2000\n",
    "lr = 1\n",
    "\n",
    "# Initialize\n",
    "np.random.seed(0)                                                             # for reproducibility\n",
    "nb_inputs, nb_outputs = 2, 1                                                  # 2 input columns, 1 output per example\n",
    "W = np.random.normal(scale=1/nb_inputs**.5, size=[nb_inputs, nb_outputs])     # Xavier init\n",
    "b = np.zeros(shape=[1, nb_outputs])                                           # ok to init biases to zeros"
   ]
  },
  {
   "cell_type": "markdown",
   "metadata": {},
   "source": [
    "Before training, with randomly initialized $W$"
   ]
  },
  {
   "cell_type": "code",
   "execution_count": 8,
   "metadata": {
    "scrolled": true
   },
   "outputs": [
    {
     "name": "stdout",
     "output_type": "stream",
     "text": [
      "x1, x2   y     y_hat\n",
      "[0, 0]  [0]    [0.5]\n",
      "[0, 1]  [0]    [0.57]\n",
      "[1, 0]  [0]    [0.78]\n",
      "[1, 1]  [1]    [0.82]\n"
     ]
    }
   ],
   "source": [
    "y_hat = forward(x_train, W, b).round(2)\n",
    "print('x1, x2   y     y_hat')\n",
    "print('[0, 0]  [0]   ', y_hat[0])\n",
    "print('[0, 1]  [0]   ', y_hat[1])\n",
    "print('[1, 0]  [0]   ', y_hat[2])\n",
    "print('[1, 1]  [1]   ', y_hat[3])"
   ]
  },
  {
   "cell_type": "markdown",
   "metadata": {},
   "source": [
    "Train neural network"
   ]
  },
  {
   "cell_type": "code",
   "execution_count": 9,
   "metadata": {
    "scrolled": false
   },
   "outputs": [
    {
     "name": "stdout",
     "output_type": "stream",
     "text": [
      "loss  0.8084\n",
      "loss  0.0793\n",
      "loss  0.0424\n",
      "loss  0.0287\n",
      "loss  0.0216\n",
      "loss  0.0173\n",
      "loss  0.0144\n",
      "loss  0.0124\n",
      "loss  0.0108\n",
      "loss  0.0096\n"
     ]
    }
   ],
   "source": [
    "losses = train_classifier(x_train, y_train, nb_epochs, W, b)"
   ]
  },
  {
   "cell_type": "markdown",
   "metadata": {},
   "source": [
    "After training"
   ]
  },
  {
   "cell_type": "code",
   "execution_count": 10,
   "metadata": {},
   "outputs": [
    {
     "name": "stdout",
     "output_type": "stream",
     "text": [
      "x1, x2  target     model \n",
      "[0, 0]    [0]     [0.]\n",
      "[0, 1]    [0]     [0.01]\n",
      "[1, 0]    [0]     [0.01]\n",
      "[1, 1]    [1]     [0.99]\n"
     ]
    }
   ],
   "source": [
    "y_hat = forward(x_train, W, b).round(2)\n",
    "print('x1, x2  target     model ')\n",
    "print('[0, 0]    [0]    ', y_hat[0])\n",
    "print('[0, 1]    [0]    ', y_hat[1])\n",
    "print('[1, 0]    [0]    ', y_hat[2])\n",
    "print('[1, 1]    [1]    ', y_hat[3])"
   ]
  },
  {
   "cell_type": "code",
   "execution_count": 11,
   "metadata": {},
   "outputs": [
    {
     "data": {
      "text/plain": [
       "[<matplotlib.lines.Line2D at 0x7fc403c867b8>]"
      ]
     },
     "execution_count": 11,
     "metadata": {},
     "output_type": "execute_result"
    },
    {
     "data": {
      "image/png": "[encoded data removed]",
      "text/plain": [
       "<Figure size 432x288 with 1 Axes>"
      ]
     },
     "metadata": {},
     "output_type": "display_data"
    }
   ],
   "source": [
    "plt.plot(losses)"
   ]
  },
  {
   "cell_type": "markdown",
   "metadata": {},
   "source": [
    "# Solve College Admissions"
   ]
  },
  {
   "cell_type": "markdown",
   "metadata": {},
   "source": [
    "**Dataset**\n",
    "\n",
    "We will use graduate school admissions data ([https://stats.idre.ucla.edu/stat/data/binary.csv]()). Each row is one student. Columns are as follows:\n",
    "* admit - was student admitted or not? This is our target we will try to predict\n",
    "* gre - student GRE score\n",
    "* gpa - student GPA\n",
    "* rank - prestige of undergrad school, 1 is highest, 4 is lowest"
   ]
  },
  {
   "cell_type": "markdown",
   "metadata": {},
   "source": [
    "Extra Imports"
   ]
  },
  {
   "cell_type": "code",
   "execution_count": 12,
   "metadata": {},
   "outputs": [],
   "source": [
    "import pandas as pd"
   ]
  },
  {
   "cell_type": "markdown",
   "metadata": {},
   "source": [
    "Loda data with pandas"
   ]
  },
  {
   "cell_type": "code",
   "execution_count": 13,
   "metadata": {},
   "outputs": [],
   "source": [
    "df = pd.read_csv('college_admissions.csv')"
   ]
  },
  {
   "cell_type": "markdown",
   "metadata": {},
   "source": [
    "Show first couple rows. First column is index, added automatically by pandas."
   ]
  },
  {
   "cell_type": "code",
   "execution_count": 14,
   "metadata": {
    "scrolled": true
   },
   "outputs": [
    {
     "data": {
      "text/html": [
       "<div>\n",
       "<style scoped>\n",
       "    .dataframe tbody tr th:only-of-type {\n",
       "        vertical-align: middle;\n",
       "    }\n",
       "\n",
       "    .dataframe tbody tr th {\n",
       "        vertical-align: top;\n",
       "    }\n",
       "\n",
       "    .dataframe thead th {\n",
       "        text-align: right;\n",
       "    }\n",
       "</style>\n",
       "<table border=\"1\" class=\"dataframe\">\n",
       "  <thead>\n",
       "    <tr style=\"text-align: right;\">\n",
       "      <th></th>\n",
       "      <th>admit</th>\n",
       "      <th>gre</th>\n",
       "      <th>gpa</th>\n",
       "      <th>rank</th>\n",
       "    </tr>\n",
       "  </thead>\n",
       "  <tbody>\n",
       "    <tr>\n",
       "      <th>0</th>\n",
       "      <td>0</td>\n",
       "      <td>380</td>\n",
       "      <td>3.61</td>\n",
       "      <td>3</td>\n",
       "    </tr>\n",
       "    <tr>\n",
       "      <th>1</th>\n",
       "      <td>1</td>\n",
       "      <td>660</td>\n",
       "      <td>3.67</td>\n",
       "      <td>3</td>\n",
       "    </tr>\n",
       "    <tr>\n",
       "      <th>2</th>\n",
       "      <td>1</td>\n",
       "      <td>800</td>\n",
       "      <td>4.00</td>\n",
       "      <td>1</td>\n",
       "    </tr>\n",
       "    <tr>\n",
       "      <th>3</th>\n",
       "      <td>1</td>\n",
       "      <td>640</td>\n",
       "      <td>3.19</td>\n",
       "      <td>4</td>\n",
       "    </tr>\n",
       "    <tr>\n",
       "      <th>4</th>\n",
       "      <td>0</td>\n",
       "      <td>520</td>\n",
       "      <td>2.93</td>\n",
       "      <td>4</td>\n",
       "    </tr>\n",
       "  </tbody>\n",
       "</table>\n",
       "</div>"
      ],
      "text/plain": [
       "   admit  gre   gpa  rank\n",
       "0      0  380  3.61     3\n",
       "1      1  660  3.67     3\n",
       "2      1  800  4.00     1\n",
       "3      1  640  3.19     4\n",
       "4      0  520  2.93     4"
      ]
     },
     "execution_count": 14,
     "metadata": {},
     "output_type": "execute_result"
    }
   ],
   "source": [
    "df.head()"
   ]
  },
  {
   "cell_type": "markdown",
   "metadata": {},
   "source": [
    "Show some more information about dataset."
   ]
  },
  {
   "cell_type": "code",
   "execution_count": 15,
   "metadata": {
    "scrolled": false
   },
   "outputs": [
    {
     "name": "stdout",
     "output_type": "stream",
     "text": [
      "<class 'pandas.core.frame.DataFrame'>\n",
      "RangeIndex: 400 entries, 0 to 399\n",
      "Data columns (total 4 columns):\n",
      "admit    400 non-null int64\n",
      "gre      400 non-null int64\n",
      "gpa      400 non-null float64\n",
      "rank     400 non-null int64\n",
      "dtypes: float64(1), int64(3)\n",
      "memory usage: 12.6 KB\n"
     ]
    }
   ],
   "source": [
    "df.info()"
   ]
  },
  {
   "cell_type": "markdown",
   "metadata": {},
   "source": [
    "Plot data, each rank separately"
   ]
  },
  {
   "cell_type": "code",
   "execution_count": 16,
   "metadata": {},
   "outputs": [
    {
     "data": {
      "image/png": "[encoded data removed]",
      "text/plain": [
       "<Figure size 576x432 with 4 Axes>"
      ]
     },
     "metadata": {},
     "output_type": "display_data"
    }
   ],
   "source": [
    "fig, axes = plt.subplots(nrows=2, ncols=2, figsize=[8,6])\n",
    "axes = axes.flatten()\n",
    "for i, rank in enumerate([1,2,3,4]):\n",
    "    # pick not-admitted students with given rank\n",
    "    tmp = df.loc[(df['rank']==rank) & (df['admit']==0)]\n",
    "    axes[i].scatter(tmp['gpa'], tmp['gre'], color='red', marker='.', label='rejected')\n",
    "    # pick admitted students with given rank\n",
    "    tmp = df.loc[(df['rank']==rank) & (df['admit']==1)]\n",
    "    axes[i].scatter(tmp['gpa'], tmp['gre'], color='green', marker='.', label='admitted')\n",
    "    axes[i].set_title('Rank '+str(rank))\n",
    "    axes[i].legend()\n",
    "fig.tight_layout()"
   ]
  },
  {
   "cell_type": "markdown",
   "metadata": {},
   "source": [
    "#### Preprocess"
   ]
  },
  {
   "cell_type": "markdown",
   "metadata": {},
   "source": [
    "Code below does following things:\n",
    "* convert _rank_ column into one-hot encoded features\n",
    "* normalize _gre_ and _gpa_ columns to zero mean and unit standard deviation\n",
    "* splits of 20% of data as test set\n",
    "* splits into input features (gre, gpa, one-hot-rank) and targets (admit)\n",
    "* convert into numpy\n",
    "* assert shapes are ok"
   ]
  },
  {
   "cell_type": "code",
   "execution_count": 17,
   "metadata": {},
   "outputs": [],
   "source": [
    "# Create dummies\n",
    "temp = pd.get_dummies(df['rank'], prefix='rank')\n",
    "data = pd.concat([df, temp], axis=1)\n",
    "data.drop(columns='rank', inplace=True)\n",
    "\n",
    "# Normalize\n",
    "for col in ['gre', 'gpa']:\n",
    "    mean, std = data[col].mean(), data[col].std()\n",
    "    # data.loc[:, col] = (data[col]-mean) / std\n",
    "    data[col] = (data[col]-mean) / std\n",
    "\n",
    "# Split off random 20% of the data for testing\n",
    "np.random.seed(0)\n",
    "sample = np.random.choice(data.index, size=int(len(data)*0.9), replace=False)\n",
    "data, test_data = data.iloc[sample], data.drop(sample)\n",
    "\n",
    "# Split into features and targets\n",
    "features_train = data.drop('admit', axis=1)\n",
    "targets_train =  data['admit']\n",
    "features_test = test_data.drop('admit', axis=1)\n",
    "targets_test = test_data['admit']\n",
    "\n",
    "# Convert to numpy\n",
    "x_train = features_train.values            # features train set (numpy)\n",
    "y_train = targets_train.values[:,None]     # targets train set (numpy)\n",
    "x_test = features_test.values              # features validation set (numpy)\n",
    "y_test = targets_test.values[:,None]       # targets valudation set (numpy)\n",
    "\n",
    "# Assert shapes came right way around\n",
    "assert x_train.shape == (360, 6)\n",
    "assert y_train.shape == (360, 1)\n",
    "assert x_test.shape == (40, 6)\n",
    "assert y_test.shape == (40, 1)"
   ]
  },
  {
   "cell_type": "markdown",
   "metadata": {},
   "source": [
    "#### Train Classifier"
   ]
  },
  {
   "cell_type": "markdown",
   "metadata": {},
   "source": [
    "Create neural network"
   ]
  },
  {
   "cell_type": "code",
   "execution_count": 18,
   "metadata": {},
   "outputs": [],
   "source": [
    "# Hyperparams\n",
    "nb_epochs = 2000\n",
    "lr = 1\n",
    "\n",
    "# Initialize\n",
    "np.random.seed(0)                                                       # for reproducibility\n",
    "n_inputs, n_outputs = x_train.shape[1], 1                               # get dataset shape\n",
    "W = np.random.normal(scale=n_inputs**-.5, size=[n_inputs, n_outputs])   # Xavier init\n",
    "b = np.zeros(shape=[1, n_outputs])"
   ]
  },
  {
   "cell_type": "markdown",
   "metadata": {},
   "source": [
    "Before training"
   ]
  },
  {
   "cell_type": "code",
   "execution_count": 19,
   "metadata": {
    "scrolled": true
   },
   "outputs": [
    {
     "data": {
      "text/plain": [
       "array([[0.705],\n",
       "       [0.417],\n",
       "       [0.568],\n",
       "       [0.746],\n",
       "       [0.813],\n",
       "       [0.736],\n",
       "       [0.338],\n",
       "       [0.473],\n",
       "       [0.588],\n",
       "       [0.744]])"
      ]
     },
     "execution_count": 19,
     "metadata": {},
     "output_type": "execute_result"
    }
   ],
   "source": [
    "forward(x_train, W, b).round(3)[0:10]"
   ]
  },
  {
   "cell_type": "code",
   "execution_count": 20,
   "metadata": {},
   "outputs": [
    {
     "name": "stdout",
     "output_type": "stream",
     "text": [
      "loss  0.8337\n",
      "loss  0.5708\n",
      "loss  0.5708\n",
      "loss  0.5708\n",
      "loss  0.5708\n",
      "loss  0.5708\n",
      "loss  0.5708\n",
      "loss  0.5708\n",
      "loss  0.5708\n",
      "loss  0.5708\n"
     ]
    }
   ],
   "source": [
    "losses = train_classifier(x_train, y_train, nb_epochs, W, b)"
   ]
  },
  {
   "cell_type": "markdown",
   "metadata": {},
   "source": [
    "After training"
   ]
  },
  {
   "cell_type": "code",
   "execution_count": 21,
   "metadata": {},
   "outputs": [
    {
     "data": {
      "text/plain": [
       "[<matplotlib.lines.Line2D at 0x7fc3f0a19908>]"
      ]
     },
     "execution_count": 21,
     "metadata": {},
     "output_type": "execute_result"
    },
    {
     "data": {
      "image/png": "[encoded data removed]",
      "text/plain": [
       "<Figure size 432x288 with 1 Axes>"
      ]
     },
     "metadata": {},
     "output_type": "display_data"
    }
   ],
   "source": [
    "plt.plot(losses)"
   ]
  },
  {
   "cell_type": "code",
   "execution_count": 22,
   "metadata": {},
   "outputs": [
    {
     "name": "stdout",
     "output_type": "stream",
     "text": [
      "Accuracy on training set (expected ~0.7): 0.7\n"
     ]
    }
   ],
   "source": [
    "pred = forward(x_train, W, b)\n",
    "pred = pred > 0.5\n",
    "acc = np.mean(pred == y_train)\n",
    "print('Accuracy on training set (expected ~0.7):', acc.round(2))"
   ]
  },
  {
   "cell_type": "code",
   "execution_count": 23,
   "metadata": {},
   "outputs": [
    {
     "name": "stdout",
     "output_type": "stream",
     "text": [
      "Accuracy on test set (expected ~0.75): 0.75\n"
     ]
    }
   ],
   "source": [
    "pred = forward(x_test, W, b)\n",
    "pred = pred > 0.5\n",
    "acc = np.mean(pred == y_test)\n",
    "print('Accuracy on test set (expected ~0.75):', acc.round(2))"
   ]
  },
  {
   "cell_type": "markdown",
   "metadata": {},
   "source": [
    "Note: accuracy on test set is usually worse than training set. College admissions dataset is very small and we just got lucky with easy test set when splitting into train/test sets."
   ]
  },
  {
   "cell_type": "markdown",
   "metadata": {},
   "source": [
    "# Numerical Gradient Check"
   ]
  },
  {
   "cell_type": "markdown",
   "metadata": {},
   "source": [
    "Run this cell if you want to perform numerical gradient check in train_classifier()"
   ]
  },
  {
   "cell_type": "code",
   "execution_count": 24,
   "metadata": {},
   "outputs": [],
   "source": [
    "def numerical_gradient(x, y, W, b):\n",
    "    \"\"\"Check gradient numerically\"\"\"\n",
    "    assert W.ndim == 2\n",
    "    assert b.ndim == 2\n",
    "    assert b.shape[0] == 1\n",
    "    \n",
    "    eps = 1e-4\n",
    "    \n",
    "    # Weights\n",
    "    del_W = np.zeros_like(W)    \n",
    "    for r in range(W.shape[0]):\n",
    "        for c in range(W.shape[1]):\n",
    "            W_min = W.copy()\n",
    "            W_pls = W.copy()\n",
    "            \n",
    "            W_min[r, c] -= eps\n",
    "            W_pls[r, c] += eps\n",
    "            \n",
    "            y_hat_pls = forward(x, W_pls, b)\n",
    "            y_hat_min = forward(x, W_min, b)\n",
    "            \n",
    "            l_pls = loss(y, y_hat_pls)\n",
    "            l_min = loss(y, y_hat_min)\n",
    "\n",
    "            del_W[r, c] = (l_pls - l_min) / (eps * 2)\n",
    "            \n",
    "    # Biases\n",
    "    del_b = np.zeros_like(b)\n",
    "    for c in range(b.shape[1]):\n",
    "        b_min = b.copy()\n",
    "        b_pls = b.copy()\n",
    "            \n",
    "        b_min[0, c] -= eps\n",
    "        b_pls[0, c] += eps\n",
    "            \n",
    "        y_hat_pls = forward(x, W, b_pls)\n",
    "        y_hat_min = forward(x, W, b_min)\n",
    "            \n",
    "        l_pls = loss(y, y_hat_pls)\n",
    "        l_min = loss(y, y_hat_min)\n",
    "\n",
    "        del_b[0, c] = (l_pls - l_min) / (eps * 2)\n",
    "    \n",
    "    return del_W, del_b"
   ]
  }
 ],
 "metadata": {
  "kernelspec": {
   "display_name": "Python 3",
   "language": "python",
   "name": "python3"
  },
  "language_info": {
   "codemirror_mode": {
    "name": "ipython",
    "version": 3
   },
   "file_extension": ".py",
   "mimetype": "text/x-python",
   "name": "python",
   "nbconvert_exporter": "python",
   "pygments_lexer": "ipython3",
   "version": "3.6.6"
  }
 },
 "nbformat": 4,
 "nbformat_minor": 2
}
