{
 "cells": [
  {
   "cell_type": "markdown",
   "metadata": {},
   "source": [
    "<img src=\"../Udacity_DL_Nanodegree/031%20RNN%20Super%20Basics/SimpleRNN01.png\" align=\"left\"/>"
   ]
  },
  {
   "cell_type": "code",
   "execution_count": 1,
   "metadata": {},
   "outputs": [],
   "source": [
    "import numpy as np\n",
    "import matplotlib.pyplot as plt\n",
    "import pdb"
   ]
  },
  {
   "cell_type": "code",
   "execution_count": 2,
   "metadata": {},
   "outputs": [],
   "source": [
    "# Encoding: 'a'=[0,0,1] 'b'=[0,1,0] 'c'=[1,0,0]\n",
    "\n",
    "#                            < ----- 4x time steps ----- >\n",
    "x_train = np.array([    \n",
    "                    [ [0, 1, 0], [0, 1, 0], [1, 0, 0], [0, 1, 0] ],  #  'bbcb'\n",
    "                    [ [1, 0, 0], [0, 1, 0], [1, 0, 0], [0, 1, 0] ],  #  'cbcb'   ^\n",
    "                    [ [0, 1, 0], [1, 0, 0], [0, 1, 0], [1, 0, 0] ],  #  'bcbc'   ^\n",
    "                    [ [1, 0, 0], [0, 1, 0], [0, 1, 0], [1, 0, 0] ],  #  'cbbc'   ^\n",
    "                    [ [1, 0, 0], [1, 0, 0], [0, 1, 0], [1, 0, 0] ],  #  'ccbc'   ^\n",
    "    \n",
    "    \n",
    "                    [ [0, 1, 0], [0, 0, 1], [1, 0, 0], [0, 1, 0] ],  #  'bacb'   | 9x batch size\n",
    "                    [ [1, 0, 0], [1, 0, 0], [0, 1, 0], [0, 0, 1] ],  #  'ccba'   v\n",
    "                    [ [0, 0, 1], [1, 0, 0], [0, 1, 0], [1, 0, 0] ],  #  'acbc'   ^\n",
    "                    [ [1, 0, 0], [0, 1, 0], [0, 0, 1], [1, 0, 0] ],  #  'cbac'   ^\n",
    "                    \n",
    "                    [ [0, 1, 0], [0, 0, 1], [0, 0, 1], [0, 1, 0] ],  #  'baab'\n",
    "                    [ [0, 0, 1], [0, 0, 1], [0, 1, 0], [1, 0, 0] ],  #  'aabc'\n",
    "    \n",
    "                    [ [0, 0, 1], [1, 0, 0], [0, 0, 1], [0, 0, 1] ],  #  'acaa'\n",
    "                   ])\n",
    "y_train = np.array([ [0],   # <->  no timesteps\n",
    "                     [0],   #\n",
    "                     [0],   #\n",
    "                     [0],   #\n",
    "                     [0],   #\n",
    "                    \n",
    "                     [1],   #  ^\n",
    "                     [1],   #  |  9x batch size\n",
    "                     [1],   #  ^\n",
    "                     [1],   #  |  9x batch size\n",
    "                    \n",
    "                     [0],   #  v\n",
    "                     [0],   #\n",
    "                    \n",
    "                     [1] ]) #\n",
    "x_test = np.array([\n",
    "                   [ [0,1,0], [1,0,0], [1,0,0], [0,1,0] ],  #  'bccb' -> 0\n",
    "                   [ [1,0,0], [1,0,0], [0,1,0], [1,0,0] ],  #  'ccbb' -> 0\n",
    "                   [ [0,1,0], [1,0,0], [0,0,1], [1,0,0] ],  #  'bcac' -> 1\n",
    "                   [ [0,1,0], [0,0,1], [1,0,0], [0,1,0] ],  #  'bacb' -> 1\n",
    "                  ])"
   ]
  },
  {
   "cell_type": "code",
   "execution_count": 3,
   "metadata": {},
   "outputs": [],
   "source": [
    "x_int = np.random.choice(3, size=10)"
   ]
  },
  {
   "cell_type": "code",
   "execution_count": 4,
   "metadata": {},
   "outputs": [],
   "source": [
    "def sigmoid(x):\n",
    "    return 1/(1+np.exp(-x))\n",
    "\n",
    "def sigmoid_der(x):\n",
    "    return sigmoid(x) * (1 - sigmoid(x))\n",
    "\n",
    "def tanh(x):\n",
    "    return np.tanh(x)\n",
    "\n",
    "def tanh_der(x):\n",
    "    return 1.0 - np.tanh(x)**2"
   ]
  },
  {
   "cell_type": "code",
   "execution_count": 5,
   "metadata": {},
   "outputs": [],
   "source": [
    "def fwd(x, Wxh, Whh, Who):\n",
    "    assert x.ndim==3 and x.shape[1:]==(4, 3)\n",
    "    \n",
    "    x_t0 = x[:,0,:]\n",
    "    x_t1 = x[:,1,:]\n",
    "    x_t2 = x[:,2,:]\n",
    "    x_t3 = x[:,3,:]\n",
    "        \n",
    "    s_init = np.zeros([len(x), len(Whh)])   # [n_batch, n_hid]\n",
    "    z_t0 = s_init @ Whh + x_t0 @ Wxh\n",
    "    s_t0 = tanh(z_t0)\n",
    "    z_t1 = s_t0 @ Whh + x_t1 @ Wxh\n",
    "    s_t1 = tanh(z_t1)\n",
    "    z_t2 = s_t1 @ Whh + x_t2 @ Wxh\n",
    "    s_t2 = tanh(z_t2)\n",
    "    z_t3 = s_t2 @ Whh + x_t3 @ Wxh\n",
    "    s_t3 = tanh(z_t3)\n",
    "    z_out = s_t3 @ Who\n",
    "    y_hat = sigmoid( z_out )\n",
    "    \n",
    "    return y_hat"
   ]
  },
  {
   "cell_type": "code",
   "execution_count": 7,
   "metadata": {},
   "outputs": [],
   "source": [
    "def back(x, y, Wxh, Whh, Who):\n",
    "    assert x.ndim==3 and x.shape[1:]==(4, 3)\n",
    "    assert y.ndim==2 and y.shape[1:]==(1,)\n",
    "    assert len(x) == len(y)\n",
    "    \n",
    "    # Forward\n",
    "    x_t0 = x[:,0,:]\n",
    "    x_t1 = x[:,1,:]\n",
    "    x_t2 = x[:,2,:]\n",
    "    x_t3 = x[:,3,:]\n",
    "        \n",
    "    s_init = np.zeros([len(x), len(Whh)])   # [n_batch, n_hid]\n",
    "    z_t0 = s_init @ Whh + x_t0 @ Wxh\n",
    "    s_t0 = tanh(z_t0)\n",
    "    z_t1 = s_t0 @ Whh + x_t1 @ Wxh\n",
    "    s_t1 = tanh(z_t1)\n",
    "    z_t2 = s_t1 @ Whh + x_t2 @ Wxh\n",
    "    s_t2 = tanh(z_t2)\n",
    "    z_t3 = s_t2 @ Whh + x_t3 @ Wxh\n",
    "    s_t3 = tanh(z_t3)\n",
    "    z_out = s_t3 @ Who\n",
    "    y_hat = sigmoid( z_out )\n",
    "    \n",
    "    # Backward\n",
    "    dWxh = np.zeros_like(Wxh)\n",
    "    dWhh = np.zeros_like(Whh)\n",
    "    dWho = np.zeros_like(Who)\n",
    "    \n",
    "    err = -(y-y_hat)/len(x) * sigmoid_der( z_out )\n",
    "    dWho = s_t3.T @ err\n",
    "    ro_t3 = err @ Who.T * tanh_der(z_t3)\n",
    "    \n",
    "    dWxh += x_t3.T @ ro_t3\n",
    "    dWhh += s_t2.T @ ro_t3\n",
    "    ro_t2 = ro_t3 @ Whh.T * tanh_der(z_t2)\n",
    "    \n",
    "    dWxh += x_t2.T @ ro_t2\n",
    "    dWhh += s_t1.T @ ro_t2\n",
    "    ro_t1 = ro_t2 @ Whh.T * tanh_der(z_t1)\n",
    "    \n",
    "    dWxh += x_t1.T @ ro_t1\n",
    "    dWhh += s_t0.T @ ro_t1\n",
    "    ro_t0 = ro_t1 @ Whh.T * tanh_der(z_t0)\n",
    "    \n",
    "    dWxh += x_t0.T @ ro_t0\n",
    "    dWhh += s_init.T @ ro_t0\n",
    "    \n",
    "    return y_hat, dWxh, dWhh, dWho"
   ]
  },
  {
   "cell_type": "code",
   "execution_count": 8,
   "metadata": {},
   "outputs": [],
   "source": [
    "def mse(x, y, Wxh, Whh, Who):\n",
    "    y_hat = fwd(x, Wxh, Whh, Who)\n",
    "    return 0.5 * np.mean((y-y_hat)**2)"
   ]
  },
  {
   "cell_type": "code",
   "execution_count": 94,
   "metadata": {},
   "outputs": [],
   "source": [
    "def fwd(x, Wxh, Whh, Who):\n",
    "    assert x.ndim==3 and x.shape[1:]==(4, 3)\n",
    "    \n",
    "    x_t = {}\n",
    "    s_t = {}\n",
    "    z_t = {}\n",
    "    s_t[-1] = np.zeros([len(x), len(Whh)])   # [n_batch, n_hid]\n",
    "    T = x.shape[1]\n",
    "    \n",
    "    for t in range(T):\n",
    "        x_t[t] = x[:,t,:]\n",
    "        z_t[t] = s_t[t-1] @ Whh + x_t[t] @ Wxh\n",
    "        s_t[t] = tanh(z_t[t])\n",
    "    \n",
    "    z_out = s_t[t] @ Who\n",
    "    y_hat = sigmoid( z_out )\n",
    "    \n",
    "    return y_hat"
   ]
  },
  {
   "cell_type": "code",
   "execution_count": 95,
   "metadata": {},
   "outputs": [],
   "source": [
    "def back(x, y, Wxh, Whh, Who):\n",
    "    assert x.ndim==3 and x.shape[1:]==(4, 3)\n",
    "    assert y.ndim==2 and y.shape[1:]==(1,)\n",
    "    assert len(x) == len(y)\n",
    "    \n",
    "    # Init\n",
    "    x_t = {}\n",
    "    s_t = {}\n",
    "    z_t = {}\n",
    "    s_t[-1] = np.zeros([len(x), len(Whh)])   # [n_batch, n_hid]\n",
    "    T = x.shape[1]\n",
    "        \n",
    "    # Forward\n",
    "    for t in range(T):                                  # t = [0, 1, 2, 3]\n",
    "        x_t[t] = x[:,t,:]                               # pick time-step input          x_[t].shape = (n_batch, n_in)\n",
    "        z_t[t] = s_t[t-1] @ Whh + x_t[t] @ Wxh\n",
    "        s_t[t] = tanh(z_t[t])\n",
    "    z_out = s_t[t] @ Who\n",
    "    y_hat = sigmoid( z_out )\n",
    "    \n",
    "    # Backward\n",
    "    dWxh = np.zeros_like(Wxh)\n",
    "    dWhh = np.zeros_like(Whh)\n",
    "    dWho = np.zeros_like(Who)\n",
    "    \n",
    "    ro = -(y-y_hat)/len(x) * sigmoid_der( z_out )       # Backprop through loss funt.\n",
    "    dWho = s_t[t].T @ ro                                # \n",
    "    ro = ro @ Who.T * tanh_der(z_t[t])                  # Backprop into hidden state\n",
    "    \n",
    "    for t in reversed(range(T)):                        # t = [3, 2, 1, 0]\n",
    "        dWxh += x_t[t].T @ ro\n",
    "        dWhh += s_t[t-1].T @ ro\n",
    "        if t != 0:                                      # don't backprop into t=-1\n",
    "            ro = ro @ Whh.T * tanh_der(z_t[t-1])        # Backprop into previous time step\n",
    "    \n",
    "    # Backward\n",
    "    \n",
    "#     err = -(y-y_hat)/len(x) * sigmoid_der( z_out )\n",
    "#     dWho = s_t3.T @ err\n",
    "#     ro_t3 = err @ Who.T * tanh_der(z_t3)\n",
    "\n",
    "#     dWxh += x_t3.T @ ro_t3\n",
    "#     dWhh += s_t2.T @ ro_t3\n",
    "#     ro_t2 = ro_t3 @ Whh.T * tanh_der(z_t2)\n",
    "\n",
    "#     dWxh += x_t2.T @ ro_t2\n",
    "#     dWhh += s_t1.T @ ro_t2\n",
    "#     ro_t1 = ro_t2 @ Whh.T * tanh_der(z_t1)\n",
    "\n",
    "#     dWxh += x_t1.T @ ro_t1\n",
    "#     dWhh += s_t0.T @ ro_t1\n",
    "#     ro_t0 = ro_t1 @ Whh.T * tanh_der(z_t0)\n",
    "\n",
    "#     dWxh += x_t0.T @ ro_t0\n",
    "#     dWhh += s_init.T @ ro_t0\n",
    "    \n",
    "    return y_hat, dWxh, dWhh, dWho"
   ]
  },
  {
   "cell_type": "code",
   "execution_count": 93,
   "metadata": {},
   "outputs": [],
   "source": [
    "test_gradient()"
   ]
  },
  {
   "cell_type": "markdown",
   "metadata": {},
   "source": [
    "#### Train"
   ]
  },
  {
   "cell_type": "code",
   "execution_count": 15,
   "metadata": {},
   "outputs": [],
   "source": [
    "np.random.seed(0)\n",
    "W_xh = 0.1 * np.random.randn(3, 2)  # Wxh.shape: [n_in, n_hid]\n",
    "W_hh = 0.1 * np.random.randn(2, 2)  # Whh.shape: [n_hid, n_hid]\n",
    "W_ho = 0.1 * np.random.randn(2, 1)  # Who.shape: [n_hid, n_out]"
   ]
  },
  {
   "cell_type": "code",
   "execution_count": 16,
   "metadata": {},
   "outputs": [],
   "source": [
    "def train_rnn(x, y, nb_epochs, learning_rate, Wxh, Whh, Who):\n",
    "    \n",
    "    losses = []\n",
    "    \n",
    "    for e in range(nb_epochs):\n",
    "        \n",
    "        y_hat, dWxh, dWhh, dWho = back(x, y, Wxh, Whh, Who)\n",
    "        \n",
    "        Wxh += -learning_rate * dWxh\n",
    "        Whh += -learning_rate * dWhh\n",
    "        Who += -learning_rate * dWho\n",
    "        \n",
    "        # Log and print\n",
    "        loss_train = mse(x, y, Wxh, Whh, Who)\n",
    "        losses.append(loss_train)\n",
    "        if e % (nb_epochs / 10) == 0:\n",
    "            print('loss ', loss_train.round(4))\n",
    "        \n",
    "    return losses\n",
    "        "
   ]
  },
  {
   "cell_type": "code",
   "execution_count": 17,
   "metadata": {
    "scrolled": true
   },
   "outputs": [
    {
     "name": "stdout",
     "output_type": "stream",
     "text": [
      "loss  0.1261\n",
      "loss  0.1247\n",
      "loss  0.1212\n",
      "loss  0.1057\n",
      "loss  0.0892\n",
      "loss  0.0766\n",
      "loss  0.0651\n",
      "loss  0.0469\n",
      "loss  0.0217\n",
      "loss  0.0092\n"
     ]
    }
   ],
   "source": [
    "losses = train_rnn(x_train, y_train, 3000, 0.1, W_xh, W_hh, W_ho)"
   ]
  },
  {
   "cell_type": "code",
   "execution_count": 18,
   "metadata": {},
   "outputs": [
    {
     "data": {
      "text/plain": [
       "array([[0.],\n",
       "       [0.],\n",
       "       [0.],\n",
       "       [0.],\n",
       "       [0.],\n",
       "       [1.],\n",
       "       [1.],\n",
       "       [1.],\n",
       "       [1.],\n",
       "       [0.],\n",
       "       [0.],\n",
       "       [1.]])"
      ]
     },
     "execution_count": 18,
     "metadata": {},
     "output_type": "execute_result"
    }
   ],
   "source": [
    "fwd(x_train, W_xh, W_hh, W_ho).round(0)"
   ]
  },
  {
   "cell_type": "code",
   "execution_count": 27,
   "metadata": {},
   "outputs": [
    {
     "data": {
      "text/plain": [
       "array([[0.],\n",
       "       [0.],\n",
       "       [1.],\n",
       "       [1.]])"
      ]
     },
     "execution_count": 27,
     "metadata": {},
     "output_type": "execute_result"
    }
   ],
   "source": [
    "fwd(x_test, W_xh, W_hh, W_ho).round(0)"
   ]
  },
  {
   "cell_type": "code",
   "execution_count": 20,
   "metadata": {},
   "outputs": [
    {
     "data": {
      "text/plain": [
       "[<matplotlib.lines.Line2D at 0x7faa0a03d4e0>]"
      ]
     },
     "execution_count": 20,
     "metadata": {},
     "output_type": "execute_result"
    },
    {
     "data": {
      "image/png": "[encoded data removed]",
      "text/plain": [
       "<Figure size 432x288 with 1 Axes>"
      ]
     },
     "metadata": {},
     "output_type": "display_data"
    }
   ],
   "source": [
    "plt.plot(losses)"
   ]
  },
  {
   "cell_type": "markdown",
   "metadata": {},
   "source": [
    "#### Test Grad"
   ]
  },
  {
   "cell_type": "code",
   "execution_count": 21,
   "metadata": {},
   "outputs": [
    {
     "name": "stdout",
     "output_type": "stream",
     "text": [
      "dW_xh [[-0.00141006 -0.00181138]\n",
      " [-0.00222526 -0.00256484]\n",
      " [-0.0006515   0.00162391]]\n",
      "dW_hh [[ 0.00050641  0.00406317]\n",
      " [-0.00127919 -0.00321661]]\n",
      "dW_ho [[0.00022729]\n",
      " [0.00575002]]\n"
     ]
    }
   ],
   "source": [
    "# test backward\n",
    "_, dW_xh, dW_hh, dW_ho = back(x_train, y_train, W_xh, W_hh, W_ho)\n",
    "print('dW_xh', dW_xh)\n",
    "print('dW_hh', dW_hh)\n",
    "print('dW_ho', dW_ho)"
   ]
  },
  {
   "cell_type": "code",
   "execution_count": 22,
   "metadata": {},
   "outputs": [
    {
     "name": "stdout",
     "output_type": "stream",
     "text": [
      "ngW_xh [[-0.00141006 -0.0018114 ]\n",
      " [-0.00222526 -0.00256484]\n",
      " [-0.0006515   0.00162391]]\n",
      "ngW_hh [[ 0.00050641  0.00406316]\n",
      " [-0.00127919 -0.00321661]]\n",
      "ngW_ho [[0.00022729]\n",
      " [0.00575002]]\n"
     ]
    }
   ],
   "source": [
    "# test numerical gradient\n",
    "ngW_xh, ngW_hh, ngW_ho = ngrad(x_train, y_train, W_xh, W_hh, W_ho)\n",
    "print('ngW_xh', ngW_xh)\n",
    "print('ngW_hh', ngW_hh)\n",
    "print('ngW_ho', ngW_ho)"
   ]
  },
  {
   "cell_type": "code",
   "execution_count": 23,
   "metadata": {},
   "outputs": [],
   "source": [
    "assert np.allclose(dW_xh, ngW_xh)\n",
    "assert np.allclose(dW_hh, ngW_hh)\n",
    "assert np.allclose(dW_ho, ngW_ho)"
   ]
  },
  {
   "cell_type": "code",
   "execution_count": 11,
   "metadata": {
    "scrolled": true
   },
   "outputs": [],
   "source": [
    "def ngrad(x, y, Wxh, Whh, Who):\n",
    "    dWxh = np.zeros_like(Wxh)\n",
    "    dWhh = np.zeros_like(Whh)\n",
    "    dWho = np.zeros_like(Who)\n",
    "    eps = 1e-4\n",
    "    \n",
    "    for r in range(len(Wxh)):\n",
    "        for c in range(Wxh.shape[1]):\n",
    "            Wxh_pls = Wxh.copy()\n",
    "            Wxh_min = Wxh.copy()\n",
    "            \n",
    "            Wxh_pls[r, c] += eps\n",
    "            Wxh_min[r, c] -= eps\n",
    "            \n",
    "            l_pls = mse(x, y, Wxh_pls, Whh, Who)\n",
    "            l_min = mse(x, y, Wxh_min, Whh, Who)\n",
    "            \n",
    "            dWxh[r, c] = (l_pls - l_min) / (2*eps)\n",
    "    \n",
    "    for r in range(len(Whh)):\n",
    "        for c in range(Whh.shape[1]):\n",
    "            Whh_pls = Whh.copy()\n",
    "            Whh_min = Whh.copy()\n",
    "            \n",
    "            Whh_pls[r, c] += eps\n",
    "            Whh_min[r, c] -= eps\n",
    "            \n",
    "            l_pls = mse(x, y, Wxh, Whh_pls, Who)\n",
    "            l_min = mse(x, y, Wxh, Whh_min, Who)\n",
    "            \n",
    "            dWhh[r, c] = (l_pls - l_min) / (2*eps)\n",
    "    \n",
    "    for r in range(len(Who)):\n",
    "        for c in range(Who.shape[1]):\n",
    "            Who_pls = Who.copy()\n",
    "            Who_min = Who.copy()\n",
    "            \n",
    "            Who_pls[r, c] += eps\n",
    "            Who_min[r, c] -= eps\n",
    "            \n",
    "            l_pls = mse(x, y, Wxh, Whh, Who_pls)\n",
    "            l_min = mse(x, y, Wxh, Whh, Who_min)\n",
    "            \n",
    "            dWho[r, c] = (l_pls - l_min) / (2*eps)\n",
    "    \n",
    "    \n",
    "    return dWxh, dWhh, dWho"
   ]
  },
  {
   "cell_type": "code",
   "execution_count": 13,
   "metadata": {},
   "outputs": [],
   "source": [
    "def test_gradient():\n",
    "    for i in range(100):\n",
    "        W_xh = 0.1 * np.random.randn(3, 2)  # Wxh.shape: [n_in, n_hid]\n",
    "        W_hh = 0.1 * np.random.randn(2, 2)  # Whh.shape: [n_hid, n_hid]\n",
    "        W_ho = 0.1 * np.random.randn(2, 1)  # Who.shape: [n_hid, n_out]\n",
    "\n",
    "        xx = np.random.randn(100, 4, 3)\n",
    "        yy = np.random.randint(0, 2, size=[100, 1])\n",
    "\n",
    "        _, dW_xh, dW_hh, dW_ho = back(xx, yy, W_xh, W_hh, W_ho)\n",
    "        ngW_xh, ngW_hh, ngW_ho = ngrad(xx, yy, W_xh, W_hh, W_ho)\n",
    "\n",
    "        assert np.allclose(dW_xh, ngW_xh)\n",
    "        assert np.allclose(dW_hh, ngW_hh)\n",
    "        assert np.allclose(dW_ho, ngW_ho)\n",
    "\n",
    "test_gradient()"
   ]
  },
  {
   "cell_type": "code",
   "execution_count": null,
   "metadata": {},
   "outputs": [],
   "source": []
  },
  {
   "cell_type": "code",
   "execution_count": null,
   "metadata": {},
   "outputs": [],
   "source": []
  }
 ],
 "metadata": {
  "kernelspec": {
   "display_name": "Python 3",
   "language": "python",
   "name": "python3"
  },
  "language_info": {
   "codemirror_mode": {
    "name": "ipython",
    "version": 3
   },
   "file_extension": ".py",
   "mimetype": "text/x-python",
   "name": "python",
   "nbconvert_exporter": "python",
   "pygments_lexer": "ipython3",
   "version": "3.6.6"
  }
 },
 "nbformat": 4,
 "nbformat_minor": 2
}
