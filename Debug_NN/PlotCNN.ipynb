{
 "cells": [
  {
   "cell_type": "code",
   "execution_count": null,
   "metadata": {},
   "outputs": [],
   "source": [
    "import numpy as np\n",
    "import matplotlib.pyplot as plt\n",
    "from mpl_toolkits.mplot3d import axes3d\n",
    "import tables"
   ]
  },
  {
   "cell_type": "code",
   "execution_count": null,
   "metadata": {},
   "outputs": [],
   "source": [
    "import plotann\n",
    "import importlib\n",
    "importlib.reload(plotann)"
   ]
  },
  {
   "cell_type": "code",
   "execution_count": null,
   "metadata": {},
   "outputs": [],
   "source": [
    "import tables_logger\n",
    "import importlib\n",
    "importlib.reload(tables_logger)"
   ]
  },
  {
   "cell_type": "markdown",
   "metadata": {},
   "source": [
    "# Load Conv"
   ]
  },
  {
   "cell_type": "code",
   "execution_count": null,
   "metadata": {},
   "outputs": [],
   "source": [
    "filename = 'outarray.h5'"
   ]
  },
  {
   "cell_type": "code",
   "execution_count": null,
   "metadata": {},
   "outputs": [],
   "source": [
    "tables_logger.print_log(filename)"
   ]
  },
  {
   "cell_type": "code",
   "execution_count": null,
   "metadata": {},
   "outputs": [],
   "source": [
    "with tables.open_file(filename, mode='r') as f:\n",
    "    \n",
    "    tr_loss = np.array(f.root.metrics.loss)\n",
    "    tr_accuracy = np.array(f.root.metrics.accuracy)\n",
    "    \n",
    "    tr_x_raw = np.array(f.root.inout.batch_x)\n",
    "    ni, _, _, _, nn = tr_x_raw.shape\n",
    "    tr_x = tr_x_raw.reshape([ni, -1, nn])\n",
    "    \n",
    "    tr_conv_1 = tables_logger.extract_layer_and_flatten(f.root.conv_1)\n",
    "    tr_conv_2 = tables_logger.extract_layer_and_flatten(f.root.conv_2)\n",
    "    tr_conv_3 = tables_logger.extract_layer_and_flatten(f.root.conv_3)\n",
    "    \n",
    "    tr_dense_1 = tables_logger.extract_layer_and_flatten(f.root.dense_1)\n",
    "    tr_logits = tables_logger.extract_layer_and_flatten(f.root.logits)\n",
    "    \n",
    "    tr_y = np.array(f.root.inout.batch_y)\n",
    "    tr_p = np.array(f.root.inout.probabilities)"
   ]
  },
  {
   "cell_type": "code",
   "execution_count": null,
   "metadata": {},
   "outputs": [],
   "source": [
    "print('tr_conv_1_W_raw', tr_conv_1['W_raw'].shape)\n",
    "print('tr_conv_1_b', tr_conv_1['b'].shape)\n",
    "print('tr_conv_1_dW_raw', tr_conv_1['dW_raw'].shape)\n",
    "print('tr_conv_1_db', tr_conv_1['db'].shape)\n",
    "print('tr_conv_1_z_raw', tr_conv_1['z_raw'].shape)\n",
    "\n",
    "print('tr_conv_1_W', tr_conv_1['W'].shape)\n",
    "print('tr_conv_1_dW', tr_conv_1['dW'].shape)\n",
    "print('tr_conv_1_z', tr_conv_1['z'].shape)"
   ]
  },
  {
   "cell_type": "markdown",
   "metadata": {},
   "source": [
    "# Loss"
   ]
  },
  {
   "cell_type": "code",
   "execution_count": null,
   "metadata": {},
   "outputs": [],
   "source": [
    "def running_mean(x, n):\n",
    "    return np.array([ np.mean(x[max(i-n+1, 0): i+1]) for i in range(len(x))])"
   ]
  },
  {
   "cell_type": "code",
   "execution_count": null,
   "metadata": {},
   "outputs": [],
   "source": [
    "#\n",
    "#   Plot Loss, Accuracy\n",
    "#\n",
    "fig, ax = plt.subplots(figsize=[12,6])\n",
    "ax.scatter(range(len(tr_loss)), tr_loss, label='Mini-Batch loss', alpha=.5, marker='.', s=1)\n",
    "ax.plot(running_mean(tr_loss, 100), label='Mini-Batch loss', alpha=1, color='orange')\n",
    "\n",
    "ax.scatter(range(len(tr_accuracy)), tr_accuracy, label='Mini-Batch accuracy', alpha=.5, marker='.', s=1, color='red')\n",
    "\n",
    "ax.legend()\n",
    "ax.grid()\n",
    "\n",
    "fig.tight_layout()"
   ]
  },
  {
   "cell_type": "markdown",
   "metadata": {},
   "source": [
    "# Inputs"
   ]
  },
  {
   "cell_type": "code",
   "execution_count": null,
   "metadata": {},
   "outputs": [],
   "source": [
    "tr_x.shape"
   ]
  },
  {
   "cell_type": "code",
   "execution_count": null,
   "metadata": {},
   "outputs": [],
   "source": [
    "es = 30 * 5120"
   ]
  },
  {
   "cell_type": "code",
   "execution_count": null,
   "metadata": {},
   "outputs": [],
   "source": [
    "plotann.show_layer_activations(tr_x, epoch_size=es, activation_function=None,\n",
    "                               title_prefix='Input', color=(.7,.7,.7,1), figsize=[16,6])"
   ]
  },
  {
   "cell_type": "code",
   "execution_count": null,
   "metadata": {},
   "outputs": [],
   "source": [
    "plotann.show_neurons_activations(tr_x, epoch_size=es, activation_function=None, neurons=range(tr_x.shape[-1]),\n",
    "                                 title_prefix='Input', color=(.7,.7,.7,1))"
   ]
  },
  {
   "cell_type": "markdown",
   "metadata": {},
   "source": [
    "# Conv 1"
   ]
  },
  {
   "cell_type": "code",
   "execution_count": null,
   "metadata": {},
   "outputs": [],
   "source": [
    "plotann.show_neurons_weights(tr_conv_1['W'], tr_conv_1['dW'], neurons=range(20),\n",
    "                            title_prefix='Conv_1', color='red', figsize=[16,4])"
   ]
  },
  {
   "cell_type": "code",
   "execution_count": null,
   "metadata": {},
   "outputs": [],
   "source": [
    "plotann.show_biases(tr_conv_1['b']+1e-6, tr_conv_1['db'], title_prefix='Biases_1', color='red', figsize=[16,4])"
   ]
  },
  {
   "cell_type": "code",
   "execution_count": null,
   "metadata": {},
   "outputs": [],
   "source": [
    "plotann.show_layer_summary(tr_conv_1['W'], tr_conv_1['dW'],\n",
    "                           title_prefix='Hidden_1', color='red', figsize=[16,5])"
   ]
  },
  {
   "cell_type": "markdown",
   "metadata": {},
   "source": [
    "---"
   ]
  },
  {
   "cell_type": "code",
   "execution_count": null,
   "metadata": {},
   "outputs": [],
   "source": [
    "tr_conv_1['z'].shape"
   ]
  },
  {
   "cell_type": "code",
   "execution_count": null,
   "metadata": {},
   "outputs": [],
   "source": [
    "es = 10 * 5120  # epoch_size\n",
    "act_fun = 'relu'"
   ]
  },
  {
   "cell_type": "code",
   "execution_count": null,
   "metadata": {
    "scrolled": false
   },
   "outputs": [],
   "source": [
    "plotann.show_layer_activations(tr_conv_1['z'], epoch_size=es, activation_function=act_fun,\n",
    "                               title_prefix='Conv_1', color=(1,0,0,1), figsize=[16,6])"
   ]
  },
  {
   "cell_type": "code",
   "execution_count": null,
   "metadata": {},
   "outputs": [],
   "source": [
    "plotann.show_neurons_activations(tr_conv_1['z'], epoch_size=es, activation_function=act_fun, neurons=range(10),\n",
    "                                 title_prefix='Conv_1', color=(1,0,0,1))"
   ]
  },
  {
   "cell_type": "markdown",
   "metadata": {},
   "source": [
    "# Conv 2"
   ]
  },
  {
   "cell_type": "code",
   "execution_count": null,
   "metadata": {},
   "outputs": [],
   "source": [
    "plotann.show_neurons_weights(tr_conv_2['W'], tr_conv_2['dW'], neurons=range(20),\n",
    "                            title_prefix='Conv_2', color='orange', figsize=[16,4])"
   ]
  },
  {
   "cell_type": "code",
   "execution_count": null,
   "metadata": {},
   "outputs": [],
   "source": [
    "plotann.show_biases(tr_conv_2['b']+1e-6, tr_conv_2['db'], title_prefix='Conv_2', color='orange', figsize=[16,4])"
   ]
  },
  {
   "cell_type": "code",
   "execution_count": null,
   "metadata": {},
   "outputs": [],
   "source": [
    "plotann.show_layer_summary(tr_conv_2['W'], tr_conv_2['dW'],\n",
    "                           title_prefix='Conv_2', color='orange', figsize=[16,5])"
   ]
  },
  {
   "cell_type": "markdown",
   "metadata": {},
   "source": [
    "---"
   ]
  },
  {
   "cell_type": "code",
   "execution_count": null,
   "metadata": {},
   "outputs": [],
   "source": [
    "tr_conv_2['z'].shape"
   ]
  },
  {
   "cell_type": "code",
   "execution_count": null,
   "metadata": {},
   "outputs": [],
   "source": [
    "es = 10 * 1280  # epoch_size\n",
    "act_fun = 'relu'"
   ]
  },
  {
   "cell_type": "code",
   "execution_count": null,
   "metadata": {},
   "outputs": [],
   "source": [
    "plotann.show_layer_activations(tr_conv_2['z'], epoch_size=es, activation_function=act_fun,\n",
    "                               title_prefix='Conv_2', color=(1,.5,.25,1), figsize=[16,6])"
   ]
  },
  {
   "cell_type": "code",
   "execution_count": null,
   "metadata": {},
   "outputs": [],
   "source": [
    "plotann.show_neurons_activations(tr_conv_2['z'], epoch_size=es, activation_function=act_fun, neurons=range(10),\n",
    "                                 title_prefix='Conv_2', color=(1,.5,.25,1))"
   ]
  },
  {
   "cell_type": "markdown",
   "metadata": {},
   "source": [
    "# Conv 3"
   ]
  },
  {
   "cell_type": "code",
   "execution_count": null,
   "metadata": {},
   "outputs": [],
   "source": [
    "plotann.show_neurons_weights(tr_conv_3['W'], tr_conv_3['dW'], neurons=range(20),\n",
    "                            title_prefix='Conv_3', color='gold', figsize=[16,4])"
   ]
  },
  {
   "cell_type": "code",
   "execution_count": null,
   "metadata": {},
   "outputs": [],
   "source": [
    "plotann.show_biases(tr_conv_3['b']+1e-6, tr_conv_3['db'], title_prefix='Conv_3', color='gold', figsize=[16,4])"
   ]
  },
  {
   "cell_type": "code",
   "execution_count": null,
   "metadata": {},
   "outputs": [],
   "source": [
    "plotann.show_layer_summary(tr_conv_3['W'], tr_conv_3['dW'],\n",
    "                           title_prefix='Conv_3', color='gold', figsize=[16,5])"
   ]
  },
  {
   "cell_type": "markdown",
   "metadata": {},
   "source": [
    "---"
   ]
  },
  {
   "cell_type": "code",
   "execution_count": null,
   "metadata": {},
   "outputs": [],
   "source": [
    "tr_conv_3['z'].shape"
   ]
  },
  {
   "cell_type": "code",
   "execution_count": null,
   "metadata": {},
   "outputs": [],
   "source": [
    "es = 10 * 320  # epoch_size\n",
    "act_fun = 'relu'"
   ]
  },
  {
   "cell_type": "code",
   "execution_count": null,
   "metadata": {},
   "outputs": [],
   "source": [
    "plotann.show_layer_activations(tr_conv_3['z'], epoch_size=es, activation_function=act_fun,\n",
    "                               title_prefix='Conv_3', color=(1,.75,0,1), figsize=[16,6])"
   ]
  },
  {
   "cell_type": "code",
   "execution_count": null,
   "metadata": {},
   "outputs": [],
   "source": [
    "plotann.show_neurons_activations(tr_conv_3['z'], epoch_size=es, activation_function=act_fun, neurons=range(10),\n",
    "                                 title_prefix='Conv_3', color=(1,.75,0,1))"
   ]
  },
  {
   "cell_type": "markdown",
   "metadata": {},
   "source": [
    "# Dense 1"
   ]
  },
  {
   "cell_type": "code",
   "execution_count": null,
   "metadata": {
    "scrolled": true
   },
   "outputs": [],
   "source": [
    "plotann.show_neurons_weights(tr_dense_1['W'], tr_dense_1['dW'], neurons=range(3),\n",
    "                             title_prefix='Dense_1', color='lightblue', figsize=[16,4])"
   ]
  },
  {
   "cell_type": "code",
   "execution_count": null,
   "metadata": {},
   "outputs": [],
   "source": [
    "plotann.show_biases(tr_dense_1['b']+1e-6, tr_dense_1['db'], title_prefix='Dense_1', color='lightblue', figsize=[16,4])"
   ]
  },
  {
   "cell_type": "code",
   "execution_count": null,
   "metadata": {},
   "outputs": [],
   "source": [
    "plotann.show_layer_summary(tr_dense_1['W'], tr_dense_1['dW'], title_prefix='Dense_1', color='lightblue', figsize=[16,5])"
   ]
  },
  {
   "cell_type": "markdown",
   "metadata": {},
   "source": [
    "---"
   ]
  },
  {
   "cell_type": "code",
   "execution_count": null,
   "metadata": {},
   "outputs": [],
   "source": [
    "tr_dense_1['z'].shape"
   ]
  },
  {
   "cell_type": "code",
   "execution_count": null,
   "metadata": {},
   "outputs": [],
   "source": [
    "es = 10 * 5\n",
    "act_fun = 'relu'"
   ]
  },
  {
   "cell_type": "code",
   "execution_count": null,
   "metadata": {},
   "outputs": [],
   "source": [
    "plotann.show_layer_activations(tr_dense_1['z'], epoch_size=es, activation_function=act_fun,\n",
    "                               title_prefix='Dense_1', color=(.7,.7,1,1), figsize=[16,6])"
   ]
  },
  {
   "cell_type": "code",
   "execution_count": null,
   "metadata": {},
   "outputs": [],
   "source": [
    "plotann.show_neurons_activations(tr_dense_1['z'], epoch_size=es, activation_function=act_fun,\n",
    "                                 neurons=range(10), title_prefix='Dense_1', color=(.7,.7,1,1))"
   ]
  },
  {
   "cell_type": "markdown",
   "metadata": {},
   "source": [
    "# Logits"
   ]
  },
  {
   "cell_type": "code",
   "execution_count": null,
   "metadata": {
    "scrolled": true
   },
   "outputs": [],
   "source": [
    "plotann.show_neurons_weights(tr_logits['W'], tr_logits['dW'], neurons=range(tr_logits['W'].shape[-1]),\n",
    "                            title_prefix='Logits', color='lightblue', figsize=[16,4])"
   ]
  },
  {
   "cell_type": "code",
   "execution_count": null,
   "metadata": {},
   "outputs": [],
   "source": [
    "plotann.show_biases(tr_logits['b']+1e-6, tr_logits['db'], title_prefix='Output_Biases', color='lightblue', figsize=[16,4])"
   ]
  },
  {
   "cell_type": "code",
   "execution_count": null,
   "metadata": {},
   "outputs": [],
   "source": [
    "plotann.show_layer_summary(tr_logits['W'], tr_logits['dW'], title_prefix='Output', color='lightblue', figsize=[16,5])"
   ]
  },
  {
   "cell_type": "markdown",
   "metadata": {},
   "source": [
    "---"
   ]
  },
  {
   "cell_type": "code",
   "execution_count": null,
   "metadata": {},
   "outputs": [],
   "source": [
    "tr_logits['z'].shape"
   ]
  },
  {
   "cell_type": "code",
   "execution_count": null,
   "metadata": {},
   "outputs": [],
   "source": [
    "es = 10 * 5\n",
    "act_fun = 'relu'"
   ]
  },
  {
   "cell_type": "code",
   "execution_count": null,
   "metadata": {},
   "outputs": [],
   "source": [
    "plotann.show_layer_activations(tr_logits['z'], epoch_size=es, activation_function=act_fun,\n",
    "                               title_prefix='Logits', color=(.7,.7,1,1), figsize=[16,6])"
   ]
  },
  {
   "cell_type": "code",
   "execution_count": null,
   "metadata": {
    "scrolled": false
   },
   "outputs": [],
   "source": [
    "plotann.show_neurons_activations(tr_logits['z'], epoch_size=es, activation_function=act_fun,\n",
    "                                 neurons=range(tr_logits['z'].shape[-1]), title_prefix='Logits', color=(.7,.7,1,1))"
   ]
  },
  {
   "cell_type": "markdown",
   "metadata": {},
   "source": [
    "### Probabilities"
   ]
  },
  {
   "cell_type": "code",
   "execution_count": null,
   "metadata": {},
   "outputs": [],
   "source": [
    "tr_p.shape"
   ]
  },
  {
   "cell_type": "code",
   "execution_count": null,
   "metadata": {},
   "outputs": [],
   "source": [
    "es = 10 * 5"
   ]
  },
  {
   "cell_type": "code",
   "execution_count": null,
   "metadata": {},
   "outputs": [],
   "source": [
    "plotann.show_layer_activations(tr_p, epoch_size=es, activation_function=None,\n",
    "                               title_prefix='Probabilities', color=(0,0,1,1), figsize=[16,6])"
   ]
  },
  {
   "cell_type": "code",
   "execution_count": null,
   "metadata": {},
   "outputs": [],
   "source": [
    "plotann.show_neurons_activations(tr_p, epoch_size=es, activation_function=None, neurons=range(tr_p.shape[-1]),\n",
    "                                 title_prefix='Probabilities', color=(0,0,1,1))"
   ]
  },
  {
   "cell_type": "markdown",
   "metadata": {},
   "source": [
    "### Targets"
   ]
  },
  {
   "cell_type": "code",
   "execution_count": null,
   "metadata": {},
   "outputs": [],
   "source": [
    "tr_y.shape"
   ]
  },
  {
   "cell_type": "code",
   "execution_count": null,
   "metadata": {},
   "outputs": [],
   "source": [
    "es = 10 * 5"
   ]
  },
  {
   "cell_type": "code",
   "execution_count": null,
   "metadata": {},
   "outputs": [],
   "source": [
    "plotann.show_layer_activations(tr_y, epoch_size=es, activation_function=None,\n",
    "                               title_prefix='Target', color=(.7,.7,.7,1), figsize=[16,6])"
   ]
  },
  {
   "cell_type": "code",
   "execution_count": null,
   "metadata": {},
   "outputs": [],
   "source": [
    "plotann.show_neurons_activations(tr_y, epoch_size=es, activation_function=None, neurons=range(tr_y.shape[-1]),\n",
    "                                 title_prefix='Target', color=(.7,.7,.7,1))"
   ]
  },
  {
   "cell_type": "code",
   "execution_count": null,
   "metadata": {},
   "outputs": [],
   "source": []
  }
 ],
 "metadata": {
  "kernelspec": {
   "display_name": "Python 3",
   "language": "python",
   "name": "python3"
  },
  "language_info": {
   "codemirror_mode": {
    "name": "ipython",
    "version": 3
   },
   "file_extension": ".py",
   "mimetype": "text/x-python",
   "name": "python",
   "nbconvert_exporter": "python",
   "pygments_lexer": "ipython3",
   "version": "3.6.6"
  }
 },
 "nbformat": 4,
 "nbformat_minor": 2
}
