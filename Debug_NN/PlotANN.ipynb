{
 "cells": [
  {
   "cell_type": "code",
   "execution_count": null,
   "metadata": {},
   "outputs": [],
   "source": [
    "import numpy as np\n",
    "import matplotlib.pyplot as plt\n",
    "from mpl_toolkits.mplot3d import axes3d\n",
    "import tables"
   ]
  },
  {
   "cell_type": "code",
   "execution_count": null,
   "metadata": {},
   "outputs": [],
   "source": [
    "import plotann\n",
    "import importlib\n",
    "importlib.reload(plotann)"
   ]
  },
  {
   "cell_type": "markdown",
   "metadata": {},
   "source": [
    "# Load Dense"
   ]
  },
  {
   "cell_type": "code",
   "execution_count": null,
   "metadata": {},
   "outputs": [],
   "source": [
    "filename = '../Deep_Q_Network/outarray.h5'"
   ]
  },
  {
   "cell_type": "code",
   "execution_count": null,
   "metadata": {},
   "outputs": [],
   "source": [
    "with tables.open_file(filename, mode='r') as f:\n",
    "    print(f)"
   ]
  },
  {
   "cell_type": "code",
   "execution_count": null,
   "metadata": {},
   "outputs": [],
   "source": [
    "with tables.open_file(filename, mode='r') as f:\n",
    "    tr_loss = np.array(f.root.loss)\n",
    "    \n",
    "    tr_x = np.array(f.root.x)\n",
    "    tr_y = np.array(f.root.y)\n",
    "    \n",
    "    tr_hid_1_W = np.array(f.root.hid_1_W)\n",
    "    tr_hid_1_b = np.array(f.root.hid_1_b)\n",
    "    tr_hid_1_dW = np.array(f.root.hid_1_dW)\n",
    "    tr_hid_1_db = np.array(f.root.hid_1_db)\n",
    "    tr_hid_1_z = np.array(f.root.hid_1_z)\n",
    "    \n",
    "    tr_hid_2_W = np.array(f.root.hid_2_W)\n",
    "    tr_hid_2_b = np.array(f.root.hid_2_b)\n",
    "    tr_hid_2_dW = np.array(f.root.hid_2_dW)\n",
    "    tr_hid_2_db = np.array(f.root.hid_2_db)\n",
    "    tr_hid_2_z = np.array(f.root.hid_2_z)\n",
    "    \n",
    "    tr_out_W = np.array(f.root.out_W)\n",
    "    tr_out_b = np.array(f.root.out_b)\n",
    "    tr_out_dW = np.array(f.root.out_dW)\n",
    "    tr_out_db = np.array(f.root.out_db)\n",
    "    tr_out_z = np.array(f.root.out_z)"
   ]
  },
  {
   "cell_type": "code",
   "execution_count": null,
   "metadata": {},
   "outputs": [],
   "source": [
    "print('tr_x', tr_x.shape)\n",
    "print('tr_y', tr_y.shape)\n",
    "print('tr_z_hid_1', tr_hid_1_z.shape)\n",
    "print('tr_z_hid_2', tr_hid_2_z.shape)\n",
    "print('tr_z_out', tr_out_z.shape)"
   ]
  },
  {
   "cell_type": "code",
   "execution_count": null,
   "metadata": {},
   "outputs": [],
   "source": [
    "nb_remove = 358\n",
    "tr_x = tr_x[:-nb_remove]\n",
    "tr_y = tr_y[:-nb_remove]\n",
    "tr_hid_1_z = tr_hid_1_z[:-nb_remove]\n",
    "tr_hid_2_z = tr_hid_2_z[:-nb_remove]\n",
    "tr_out_z = tr_out_z[:-nb_remove]"
   ]
  },
  {
   "cell_type": "code",
   "execution_count": null,
   "metadata": {},
   "outputs": [],
   "source": [
    "print('tr_W_hid_1', tr_hid_1_W.shape)\n",
    "print('tr_W_hid_2', tr_hid_2_W.shape)\n",
    "print('tr_W_out', tr_out_W.shape)"
   ]
  },
  {
   "cell_type": "code",
   "execution_count": null,
   "metadata": {},
   "outputs": [],
   "source": [
    "tr_hid_1_W = tr_hid_1_W[:-nb_remove]\n",
    "tr_hid_2_W = tr_hid_2_W[:-nb_remove]\n",
    "tr_out_W = tr_out_W[:-nb_remove]"
   ]
  },
  {
   "cell_type": "code",
   "execution_count": null,
   "metadata": {},
   "outputs": [],
   "source": [
    "tr_hid_1_dW = tr_hid_1_dW[:-nb_remove]\n",
    "tr_hid_2_dW = tr_hid_2_dW[:-nb_remove]\n",
    "tr_out_dW = tr_out_dW[:-nb_remove]"
   ]
  },
  {
   "cell_type": "code",
   "execution_count": null,
   "metadata": {},
   "outputs": [],
   "source": [
    "tr_hid_1_b = tr_hid_1_b[:-nb_remove]\n",
    "tr_hid_2_b = tr_hid_2_b[:-nb_remove]\n",
    "tr_out_b = tr_out_b[:-nb_remove]"
   ]
  },
  {
   "cell_type": "code",
   "execution_count": null,
   "metadata": {},
   "outputs": [],
   "source": [
    "tr_hid_1_db = tr_hid_1_db[:-nb_remove]\n",
    "tr_hid_2_db = tr_hid_2_db[:-nb_remove]\n",
    "tr_out_db = tr_out_db[:-nb_remove]"
   ]
  },
  {
   "cell_type": "markdown",
   "metadata": {},
   "source": [
    "# Loss"
   ]
  },
  {
   "cell_type": "code",
   "execution_count": null,
   "metadata": {},
   "outputs": [],
   "source": [
    "def running_mean(x, n):\n",
    "    return np.array([ np.mean(x[max(i-n+1, 0): i+1]) for i in range(len(x))])"
   ]
  },
  {
   "cell_type": "code",
   "execution_count": null,
   "metadata": {},
   "outputs": [],
   "source": [
    "#\n",
    "#   Plot Loss, Accuracy\n",
    "#\n",
    "fig, ax = plt.subplots(figsize=[12,6])\n",
    "ax.scatter(range(len(tr_loss)), tr_loss, label='Mini-Batch loss', alpha=.5, marker='.', s=1)\n",
    "ax.plot(running_mean(tr_loss, 1000), label='Mini-Batch loss', alpha=1, color='orange')\n",
    "\n",
    "ax.legend()\n",
    "ax.grid()\n",
    "\n",
    "fig.tight_layout()"
   ]
  },
  {
   "cell_type": "markdown",
   "metadata": {},
   "source": [
    "# Weights"
   ]
  },
  {
   "cell_type": "code",
   "execution_count": null,
   "metadata": {},
   "outputs": [],
   "source": [
    "tr_x.shape"
   ]
  },
  {
   "cell_type": "code",
   "execution_count": null,
   "metadata": {},
   "outputs": [],
   "source": [
    "es = 50000  # epoch_size"
   ]
  },
  {
   "cell_type": "markdown",
   "metadata": {},
   "source": [
    "### Inputs"
   ]
  },
  {
   "cell_type": "code",
   "execution_count": null,
   "metadata": {},
   "outputs": [],
   "source": [
    "plotann.show_layer_activations(tr_x, epoch_size=es, activation_function=None,\n",
    "                               title_prefix='Input', color=(.7,.7,.7,1), figsize=[16,6])"
   ]
  },
  {
   "cell_type": "code",
   "execution_count": null,
   "metadata": {},
   "outputs": [],
   "source": [
    "plotann.show_neurons_activations(tr_x, epoch_size=es, activation_function=None, neurons=range(tr_x.shape[-1]),\n",
    "                                 title_prefix='Input', color=(.7,.7,.7,1))"
   ]
  },
  {
   "cell_type": "markdown",
   "metadata": {},
   "source": [
    "### Hidden 1"
   ]
  },
  {
   "cell_type": "code",
   "execution_count": null,
   "metadata": {},
   "outputs": [],
   "source": [
    "print(tr_hid_1_W.shape)\n",
    "es = 5000"
   ]
  },
  {
   "cell_type": "code",
   "execution_count": null,
   "metadata": {},
   "outputs": [],
   "source": [
    "plotann.show_layer_activations(tr_hid_1_W, epoch_size=es, activation_function=None,\n",
    "                               title_prefix='Hidden_1 Weighs', color=(1,0,0,1), figsize=[16,6])"
   ]
  },
  {
   "cell_type": "code",
   "execution_count": null,
   "metadata": {},
   "outputs": [],
   "source": [
    "print(tr_hid_1_b.shape)\n",
    "es = 500"
   ]
  },
  {
   "cell_type": "code",
   "execution_count": null,
   "metadata": {},
   "outputs": [],
   "source": [
    "plotann.show_layer_activations(np.expand_dims(tr_hid_1_b, 0), epoch_size=es, activation_function=None,\n",
    "                               title_prefix='Hidden_1 Biases', color=(1,0,0,1), figsize=[16,6])"
   ]
  },
  {
   "cell_type": "markdown",
   "metadata": {},
   "source": [
    "---"
   ]
  },
  {
   "cell_type": "code",
   "execution_count": null,
   "metadata": {
    "scrolled": false
   },
   "outputs": [],
   "source": [
    "plotann.show_neurons_weights(tr_hid_1_W, tr_hid_1_dW, neurons=range(3),\n",
    "                            title_prefix='Hidden_1', color='red', figsize=[16,4])"
   ]
  },
  {
   "cell_type": "code",
   "execution_count": null,
   "metadata": {},
   "outputs": [],
   "source": [
    "plotann.show_biases(tr_hid_1_b+1e-6, tr_hid_1_db, title_prefix='Biases_1', color='red', figsize=[16,4])"
   ]
  },
  {
   "cell_type": "code",
   "execution_count": null,
   "metadata": {},
   "outputs": [],
   "source": [
    "plotann.show_layer_summary(tr_hid_1_W, tr_hid_1_dW,\n",
    "                           title_prefix='Hidden_1', color='red', figsize=[16,5])"
   ]
  },
  {
   "cell_type": "markdown",
   "metadata": {},
   "source": [
    "---"
   ]
  },
  {
   "cell_type": "code",
   "execution_count": null,
   "metadata": {},
   "outputs": [],
   "source": [
    "print(tr_hid_1_z.shape)\n",
    "es = 50000  # epoch_size\n",
    "act_fun = 'relu'"
   ]
  },
  {
   "cell_type": "code",
   "execution_count": null,
   "metadata": {
    "scrolled": false
   },
   "outputs": [],
   "source": [
    "plotann.show_layer_activations(tr_hid_1_z, epoch_size=es, activation_function=act_fun,\n",
    "                               title_prefix='Hidden_1', color=(1,0,0,1), figsize=[16,6])"
   ]
  },
  {
   "cell_type": "code",
   "execution_count": null,
   "metadata": {},
   "outputs": [],
   "source": [
    "plotann.show_neurons_activations(tr_hid_1_z, epoch_size=es, activation_function=act_fun, neurons=range(10),\n",
    "                                 title_prefix='Hidden_1', color=(1,0,0,1))"
   ]
  },
  {
   "cell_type": "markdown",
   "metadata": {},
   "source": [
    "### Hidden 2"
   ]
  },
  {
   "cell_type": "code",
   "execution_count": null,
   "metadata": {},
   "outputs": [],
   "source": [
    "print(tr_hid_2_W.shape)"
   ]
  },
  {
   "cell_type": "code",
   "execution_count": null,
   "metadata": {
    "scrolled": false
   },
   "outputs": [],
   "source": [
    "es = 5000\n",
    "plotann.show_layer_activations(tr_hid_2_W, epoch_size=es, activation_function=None,\n",
    "                               title_prefix='Hidden_2 Weighs', color=(0,1,0,1), figsize=[16,6])"
   ]
  },
  {
   "cell_type": "code",
   "execution_count": null,
   "metadata": {},
   "outputs": [],
   "source": [
    "print(tr_hid_2_b.shape)"
   ]
  },
  {
   "cell_type": "code",
   "execution_count": null,
   "metadata": {},
   "outputs": [],
   "source": [
    "es = 500\n",
    "plotann.show_layer_activations(np.expand_dims(tr_hid_2_b, 0), epoch_size=es, activation_function=None,\n",
    "                               title_prefix='Hidden_2 Biases', color=(0,1,0,1), figsize=[16,6])"
   ]
  },
  {
   "cell_type": "markdown",
   "metadata": {},
   "source": [
    "---"
   ]
  },
  {
   "cell_type": "code",
   "execution_count": null,
   "metadata": {
    "scrolled": true
   },
   "outputs": [],
   "source": [
    "plotann.show_neurons_weights(tr_hid_2_W, tr_hid_2_dW, neurons=range(3),\n",
    "                            title_prefix='Hidden_2', color='green', figsize=[16,4])"
   ]
  },
  {
   "cell_type": "code",
   "execution_count": null,
   "metadata": {},
   "outputs": [],
   "source": [
    "plotann.show_biases(tr_hid_2_b+1e-6, tr_hid_2_db, title_prefix='Biases_2', color='green', figsize=[16,4])"
   ]
  },
  {
   "cell_type": "code",
   "execution_count": null,
   "metadata": {},
   "outputs": [],
   "source": [
    "plotann.show_layer_summary(tr_hid_2_W, tr_hid_2_dW, title_prefix='Hidden_2', color='green', figsize=[16,5])"
   ]
  },
  {
   "cell_type": "markdown",
   "metadata": {},
   "source": [
    "---"
   ]
  },
  {
   "cell_type": "code",
   "execution_count": null,
   "metadata": {},
   "outputs": [],
   "source": [
    "print(tr_hid_2_z.shape)\n",
    "es = 50000  # epoch_size\n",
    "act_fun = 'relu'"
   ]
  },
  {
   "cell_type": "code",
   "execution_count": null,
   "metadata": {},
   "outputs": [],
   "source": [
    "plotann.show_layer_activations(tr_hid_2_z, epoch_size=es, activation_function=act_fun,\n",
    "                               title_prefix='Hidden_2', color=(0,1,0,1), figsize=[16,6])"
   ]
  },
  {
   "cell_type": "code",
   "execution_count": null,
   "metadata": {},
   "outputs": [],
   "source": [
    "plotann.show_neurons_activations(tr_hid_2_z, epoch_size=es, activation_function=act_fun, neurons=range(10),\n",
    "                                 title_prefix='Hidden_2', color=(0,1,0,1))"
   ]
  },
  {
   "cell_type": "markdown",
   "metadata": {},
   "source": [
    "### Output"
   ]
  },
  {
   "cell_type": "code",
   "execution_count": null,
   "metadata": {},
   "outputs": [],
   "source": [
    "print(tr_out_W.shape)"
   ]
  },
  {
   "cell_type": "code",
   "execution_count": null,
   "metadata": {
    "scrolled": false
   },
   "outputs": [],
   "source": [
    "es = 50000\n",
    "plotann.show_layer_activations(tr_out_W, epoch_size=es, activation_function=None,\n",
    "                               title_prefix='Output Weighs', color=(0,0,1,1), figsize=[16,6])"
   ]
  },
  {
   "cell_type": "code",
   "execution_count": null,
   "metadata": {},
   "outputs": [],
   "source": [
    "print(tr_out_b.shape)"
   ]
  },
  {
   "cell_type": "code",
   "execution_count": null,
   "metadata": {},
   "outputs": [],
   "source": [
    "es = 500\n",
    "plotann.show_layer_activations(np.expand_dims(tr_out_b, 0), epoch_size=es, activation_function=None,\n",
    "                               title_prefix='Output Biases', color=(0,0,1,1), figsize=[16,6])"
   ]
  },
  {
   "cell_type": "markdown",
   "metadata": {},
   "source": [
    "---"
   ]
  },
  {
   "cell_type": "code",
   "execution_count": null,
   "metadata": {
    "scrolled": true
   },
   "outputs": [],
   "source": [
    "plotann.show_neurons_weights(tr_out_W, tr_out_dW, neurons=range(tr_out_W.shape[-1]),\n",
    "                            title_prefix='Output', color='blue', figsize=[16,4])"
   ]
  },
  {
   "cell_type": "code",
   "execution_count": null,
   "metadata": {},
   "outputs": [],
   "source": [
    "plotann.show_biases(tr_out_b+1e-6, tr_out_db, title_prefix='Biases_Out', color='blue', figsize=[16,4])"
   ]
  },
  {
   "cell_type": "code",
   "execution_count": null,
   "metadata": {},
   "outputs": [],
   "source": [
    "plotann.show_layer_summary(tr_out_W, tr_out_dW, title_prefix='Output', color='blue', figsize=[16,5])"
   ]
  },
  {
   "cell_type": "markdown",
   "metadata": {},
   "source": [
    "---"
   ]
  },
  {
   "cell_type": "code",
   "execution_count": null,
   "metadata": {},
   "outputs": [],
   "source": [
    "es = 50000  # epoch_size\n",
    "act_fun = 'relu'"
   ]
  },
  {
   "cell_type": "code",
   "execution_count": null,
   "metadata": {},
   "outputs": [],
   "source": [
    "plotann.show_layer_activations(tr_out_z, epoch_size=es, activation_function=None,\n",
    "                               title_prefix='Output', color=(0,0,1,1), figsize=[16,6])"
   ]
  },
  {
   "cell_type": "code",
   "execution_count": null,
   "metadata": {},
   "outputs": [],
   "source": [
    "plotann.show_neurons_activations(tr_out_z, epoch_size=es, activation_function=None, neurons=range(tr_out_z.shape[-1]),\n",
    "                                 title_prefix='Output', color=(0,0,1,1))"
   ]
  },
  {
   "cell_type": "markdown",
   "metadata": {},
   "source": [
    "### Targets"
   ]
  },
  {
   "cell_type": "code",
   "execution_count": null,
   "metadata": {},
   "outputs": [],
   "source": [
    "plotann.show_layer_activations(tr_y, epoch_size=es, activation_function=None,\n",
    "                               title_prefix='Target', color=(.7,.7,.7,1), figsize=[16,6])"
   ]
  },
  {
   "cell_type": "code",
   "execution_count": null,
   "metadata": {},
   "outputs": [],
   "source": [
    "plotann.show_neurons_activations(tr_y, epoch_size=es, activation_function=None, neurons=range(tr_y.shape[-1]),\n",
    "                                 title_prefix='Target', color=(.7,.7,.7,1))"
   ]
  },
  {
   "cell_type": "code",
   "execution_count": null,
   "metadata": {},
   "outputs": [],
   "source": []
  }
 ],
 "metadata": {
  "kernelspec": {
   "display_name": "Python 3",
   "language": "python",
   "name": "python3"
  },
  "language_info": {
   "codemirror_mode": {
    "name": "ipython",
    "version": 3
   },
   "file_extension": ".py",
   "mimetype": "text/x-python",
   "name": "python",
   "nbconvert_exporter": "python",
   "pygments_lexer": "ipython3",
   "version": "3.6.6"
  }
 },
 "nbformat": 4,
 "nbformat_minor": 2
}
