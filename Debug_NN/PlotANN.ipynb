{
 "cells": [
  {
   "cell_type": "code",
   "execution_count": null,
   "metadata": {},
   "outputs": [],
   "source": [
    "import numpy as np\n",
    "import matplotlib.pyplot as plt\n",
    "from mpl_toolkits.mplot3d import axes3d\n",
    "import tables"
   ]
  },
  {
   "cell_type": "code",
   "execution_count": null,
   "metadata": {},
   "outputs": [],
   "source": [
    "with tables.open_file('outarray.h5', mode='r') as f:\n",
    "    tr_loss = np.array(f.root.loss)\n",
    "    \n",
    "    tr_hid_1_W = np.array(f.root.hid_1_W)\n",
    "    tr_hid_1_b = np.array(f.root.hid_1_b)\n",
    "    tr_hid_1_dW = np.array(f.root.hid_1_dW)\n",
    "    tr_hid_1_db = np.array(f.root.hid_1_db)\n",
    "    tr_hid_1_z = np.array(f.root.hid_1_z)\n",
    "    \n",
    "    tr_hid_2_W = np.array(f.root.hid_2_W)\n",
    "    tr_hid_2_b = np.array(f.root.hid_2_b)\n",
    "    tr_hid_2_dW = np.array(f.root.hid_2_dW)\n",
    "    tr_hid_2_db = np.array(f.root.hid_2_db)\n",
    "    tr_hid_2_z = np.array(f.root.hid_2_z)\n",
    "    \n",
    "    tr_out_W = np.array(f.root.out_W)\n",
    "    tr_out_b = np.array(f.root.out_b)\n",
    "    tr_out_dW = np.array(f.root.out_dW)\n",
    "    tr_out_db = np.array(f.root.out_db)\n",
    "    tr_out_z = np.array(f.root.out_z)"
   ]
  },
  {
   "cell_type": "code",
   "execution_count": null,
   "metadata": {},
   "outputs": [],
   "source": [
    "nb_remove = 33\n",
    "tr_hid_1_z = tr_hid_1_z[:-nb_remove]\n",
    "tr_hid_2_z = tr_hid_2_z[:-nb_remove]\n",
    "tr_out_z = tr_out_z[:-nb_remove]"
   ]
  },
  {
   "cell_type": "code",
   "execution_count": null,
   "metadata": {},
   "outputs": [],
   "source": [
    "print('tr_z_hid_1', tr_hid_1_z.shape)\n",
    "print('tr_z_hid_2', tr_hid_2_z.shape)\n",
    "print('tr_z_out', tr_out_z.shape)"
   ]
  },
  {
   "cell_type": "markdown",
   "metadata": {},
   "source": [
    "# Loss"
   ]
  },
  {
   "cell_type": "code",
   "execution_count": null,
   "metadata": {},
   "outputs": [],
   "source": [
    "#\n",
    "#   Plot Loss, Accuracy\n",
    "#\n",
    "fig, ax = plt.subplots(figsize=[12,6])\n",
    "ax.plot(tr_loss, label='Mini-Batch loss', alpha=.5)\n",
    "\n",
    "ax.legend()\n",
    "ax.grid()\n",
    "\n",
    "plt.tight_layout()\n",
    "plt.show;"
   ]
  },
  {
   "cell_type": "markdown",
   "metadata": {},
   "source": [
    "# Weights"
   ]
  },
  {
   "cell_type": "code",
   "execution_count": null,
   "metadata": {},
   "outputs": [],
   "source": [
    "def plot_weights(data_iwn, neuron_nb, title=None, axis=None):\n",
    "    assert data_iwn.ndim == 3\n",
    "    assert np.isscalar(neuron_nb)\n",
    "    \n",
    "    ni, nw, nn = data_iwn.shape   # iter, weights\n",
    "    \n",
    "    if axis is None:\n",
    "        fig, axis = plt.subplots(1,1, figsize=[16,6])\n",
    "    \n",
    "    axis.plot(data_iwn[:,:,neuron_nb], alpha=max(100/nw, 0.002))\n",
    "    \n",
    "    if title is not None:\n",
    "        axis.set_title(title + ' # ' + str(neuron_nb))"
   ]
  },
  {
   "cell_type": "code",
   "execution_count": null,
   "metadata": {},
   "outputs": [],
   "source": [
    "def plot_gradients(data, neuron_nb, title=None, mode='median', color='black', axis=None, figsize=None):\n",
    "    assert data.ndim == 3\n",
    "    \n",
    "    ni, nw, nn = data.shape  # iter, weights, neurons\n",
    "    \n",
    "    if neuron_nb == 'all':\n",
    "        data_iw = data.reshape([ni, -1])\n",
    "    elif np.issubdtype(type(neuron_nb), np.integer):\n",
    "        data_iw = data[:,:,neuron_nb]\n",
    "    else:\n",
    "        raise ValueError('neuron_nb must be int or \"all\"')\n",
    "        \n",
    "    ratio_abs = np.abs(data_iw)\n",
    "        \n",
    "    if axis is None:\n",
    "        fig, axis = plt.subplots(1,1, figsize=figsize)\n",
    "        \n",
    "    if mode == 'full':\n",
    "        axis.plot(ratio_abs, alpha=max(1/nw, 0.002), color='pink');\n",
    "        axis.set_title(title + ' raw # ' + str(neuron_nb))\n",
    "\n",
    "    if mode == 'median':\n",
    "        axis.plot(np.min(ratio_abs, axis=-1), alpha=.05, color=color);\n",
    "        axis.plot(np.max(ratio_abs, axis=-1), alpha=.05, color=color);\n",
    "        axis.plot(np.percentile(ratio_abs, 10, axis=-1), alpha=.3, color=color);\n",
    "        axis.plot(np.percentile(ratio_abs, 90, axis=-1), alpha=.3, color=color);\n",
    "        axis.plot(np.median(ratio_abs, axis=-1), alpha=1, color=color);\n",
    "    \n",
    "    axis.plot([0,len(ratio_abs)],[.1, .1], ls='--', c='black')\n",
    "    axis.plot([0,len(ratio_abs)],[.01, .01], ls='-', c='black')\n",
    "    axis.plot([0,len(ratio_abs)],[.001, .001], ls='--', c='black')\n",
    "    axis.set_yscale('log')\n",
    "\n",
    "    if title is not None:\n",
    "        axis.set_title(title + ' ' + mode + ' # ' + str(neuron_nb))"
   ]
  },
  {
   "cell_type": "code",
   "execution_count": null,
   "metadata": {},
   "outputs": [],
   "source": [
    "def plot_update_ratios(data, neuron_nb, title=None, mode='median', color='red', axis=None, figsize=None):\n",
    "    assert data.ndim == 3\n",
    "    \n",
    "    ni, nw, nn = data.shape  # iter, weights, neurons\n",
    "    \n",
    "    if neuron_nb == 'all':\n",
    "        data_iw = data.reshape([ni, -1])\n",
    "    elif np.issubdtype(type(neuron_nb), np.integer):\n",
    "        data_iw = data[:,:,neuron_nb]\n",
    "    else:\n",
    "        raise ValueError('neuron_nb must be int or \"all\"')\n",
    "        \n",
    "        \n",
    "    data_delta_iw = data_iw[1:,:] - data_iw[:-1,:]       # delta\n",
    "    ratio = data_delta_iw / data_iw[:-1,:]               # delta / weight\n",
    "    ratio_abs = np.abs(ratio)\n",
    "    \n",
    "    if axis is None:\n",
    "        fig, axis = plt.subplots(1,1, figsize=figsize)\n",
    "    \n",
    "    if mode == 'raw':\n",
    "        axis.plot(data_delta_iw, alpha=max(1/nw, 0.002), color='red');\n",
    "    else:\n",
    "        if mode == 'full':\n",
    "            axis.plot(ratio_abs, alpha=max(1/nw, 0.002), color='pink');\n",
    "            axis.set_title(title + ' raw # ' + str(neuron_nb))\n",
    "\n",
    "        if mode == 'median':\n",
    "            axis.plot(np.min(ratio_abs, axis=-1), alpha=.05, color=color);\n",
    "            axis.plot(np.max(ratio_abs, axis=-1), alpha=.05, color=color);\n",
    "            axis.plot(np.percentile(ratio_abs, 10, axis=-1), alpha=.3, color=color);\n",
    "            axis.plot(np.percentile(ratio_abs, 90, axis=-1), alpha=.3, color=color);\n",
    "            axis.plot(np.median(ratio_abs, axis=-1), alpha=1, color=color);\n",
    "\n",
    "        if mode == 'norms':\n",
    "            data_norm_i = np.linalg.norm(data_iw, axis=-1)\n",
    "            data_delta_norm_i = np.linalg.norm(data_delta_iw, axis=-1)\n",
    "            axis.plot(data_delta_norm_i/data_norm_i[:-1], alpha=1, color='green')\n",
    "\n",
    "        if mode == 'DL4J':\n",
    "            tmp_ = np.mean(np.abs(data_delta_iw), axis=-1) / np.mean(np.abs(data_iw[:-1,:]), axis=1)\n",
    "            axis.plot(tmp_, color='blue')\n",
    "\n",
    "        if mode == 'mean+std':\n",
    "            mean_ = np.mean(ratio_abs, axis=-1)\n",
    "            axis.plot(mean_, alpha=1, color='orange');\n",
    "            std_ = np.std(ratio_abs, axis=-1)\n",
    "            axis.plot(mean_ + std_, alpha=.3, color='orange');\n",
    "\n",
    "        axis.plot([0,len(ratio_abs)],[.1, .1], ls='--', c='black')\n",
    "        axis.plot([0,len(ratio_abs)],[.01, .01], ls='-', c='black')\n",
    "        axis.plot([0,len(ratio_abs)],[.001, .001], ls='--', c='black')\n",
    "        axis.set_yscale('log')\n",
    "        \n",
    "        if title is not None:\n",
    "            axis.set_title(title + ' ' + mode + ' # ' + str(neuron_nb))"
   ]
  },
  {
   "cell_type": "code",
   "execution_count": null,
   "metadata": {
    "scrolled": false
   },
   "outputs": [],
   "source": [
    "# Hidden 1: Individual Neurons\n",
    "for n in range(3):\n",
    "    fig, [ax1, ax2, ax3] = plt.subplots(1, 3, figsize=[16,6])\n",
    "    plot_weights(tr_hid_1_W, neuron_nb=n, title='tr_W_hid_1', axis=ax1)\n",
    "    plot_update_ratios(tr_hid_1_W, neuron_nb=n, title='tr_W_hid_1', color='red', axis=ax2)\n",
    "    plot_gradients(tr_hid_1_dW, neuron_nb=n, title='tr_W_hid_1', color='red', axis=ax3)\n",
    "    fig.tight_layout()"
   ]
  },
  {
   "cell_type": "code",
   "execution_count": null,
   "metadata": {},
   "outputs": [],
   "source": [
    "# Hidden 1: All Biases\n",
    "fig, [ax1, ax2, ax3] = plt.subplots(1, 3, figsize=[16,6])\n",
    "plot_weights(tr_hid_1_b[:,:,np.newaxis], neuron_nb=0, title='tr_hid_1_b', axis=ax1)\n",
    "plot_update_ratios(tr_hid_1_b[:,:,np.newaxis], neuron_nb=0, title='tr_hid_1_b', color='red', axis=ax2)\n",
    "plot_gradients(tr_hid_1_db[:,:,np.newaxis], neuron_nb=0, title='tr_hid_1_db', color='red', axis=ax3)\n",
    "fig.tight_layout()"
   ]
  },
  {
   "cell_type": "code",
   "execution_count": null,
   "metadata": {},
   "outputs": [],
   "source": [
    "# Hidden 1: Summary\n",
    "fig, [ax1, ax2] = plt.subplots(nrows=1, ncols=2, figsize=[16,5])\n",
    "plot_update_ratios(tr_hid_1_W, neuron_nb='all', title='tr_hid_1_W', color='red', axis=ax1)\n",
    "plot_gradients(tr_hid_1_dW, neuron_nb='all', title='tr_hid_1_dW', color='red', axis=ax2)\n",
    "fig.tight_layout()"
   ]
  },
  {
   "cell_type": "code",
   "execution_count": null,
   "metadata": {
    "scrolled": false
   },
   "outputs": [],
   "source": [
    "# Hidden 2: Individual Neurons\n",
    "for n in range(3):\n",
    "    fig, [ax1, ax2, ax3] = plt.subplots(1, 3, figsize=[16,6])\n",
    "    plot_weights(tr_hid_2_W, neuron_nb=n, title='tr_hid_2_W', axis=ax1)\n",
    "    plot_update_ratios(tr_hid_2_W, neuron_nb=n, title='tr_hid_2_W', color='green', axis=ax2)\n",
    "    plot_gradients(tr_hid_2_dW, neuron_nb=n, title='tr_hid_2_dW', color='green', axis=ax3)\n",
    "    fig.tight_layout()"
   ]
  },
  {
   "cell_type": "code",
   "execution_count": null,
   "metadata": {},
   "outputs": [],
   "source": [
    "# Hidden 2: All Biases\n",
    "fig, [ax1, ax2, ax3] = plt.subplots(1, 3, figsize=[16,6])\n",
    "plot_weights(tr_hid_2_b[:,:,np.newaxis], neuron_nb=0, title='tr_hid_2_b', axis=ax1)\n",
    "plot_update_ratios(tr_hid_2_b[:,:,np.newaxis]+1e-6, neuron_nb=0, title='tr_hid_2_b', color='green', axis=ax2)\n",
    "plot_gradients(tr_hid_2_db[:,:,np.newaxis], neuron_nb=0, title='tr_hid_2_db', color='green', axis=ax3)\n",
    "fig.tight_layout()"
   ]
  },
  {
   "cell_type": "code",
   "execution_count": null,
   "metadata": {},
   "outputs": [],
   "source": [
    "# Hidden 2: Summary\n",
    "fig, [ax1, ax2] = plt.subplots(nrows=1, ncols=2, figsize=[16,5])\n",
    "plot_update_ratios(tr_hid_2_W, neuron_nb='all', title='tr_hid_2_W', color='green', axis=ax1)\n",
    "plot_gradients(tr_hid_2_dW, neuron_nb='all', title='tr_hid_2_dW', color='green', axis=ax2)\n",
    "fig.tight_layout()"
   ]
  },
  {
   "cell_type": "code",
   "execution_count": null,
   "metadata": {},
   "outputs": [],
   "source": [
    "# Output: Individual Neurons\n",
    "for n in range(3):\n",
    "    fig, [ax1, ax2, ax3] = plt.subplots(1, 3, figsize=[16,6])\n",
    "    plot_weights(tr_out_W, neuron_nb=n, title='tr_out_W', axis=ax1)\n",
    "    plot_update_ratios(tr_out_W, neuron_nb=n, title='tr_out_W', color='blue', axis=ax2)\n",
    "    plot_gradients(tr_out_dW, neuron_nb=n, title='tr_out_dW', color='blue', axis=ax3)\n",
    "    fig.tight_layout()"
   ]
  },
  {
   "cell_type": "code",
   "execution_count": null,
   "metadata": {},
   "outputs": [],
   "source": [
    "# Output: All Biases\n",
    "fig, [ax1, ax2, ax3] = plt.subplots(1, 3, figsize=[16,6])\n",
    "plot_weights(tr_out_b[:,:,np.newaxis], neuron_nb=0, title='tr_out_b', axis=ax1)\n",
    "plot_update_ratios(tr_out_b[:,:,np.newaxis]+1e-6, neuron_nb=0, title='tr_out_b', color='blue', axis=ax2)\n",
    "plot_gradients(tr_out_db[:,:,np.newaxis], neuron_nb=0, title='tr_out_db', color='blue', axis=ax3)\n",
    "fig.tight_layout()"
   ]
  },
  {
   "cell_type": "code",
   "execution_count": null,
   "metadata": {},
   "outputs": [],
   "source": [
    "fig, [ax1, ax2] = plt.subplots(nrows=1, ncols=2, figsize=[16,5])\n",
    "plot_update_ratios(tr_out_W, neuron_nb='all', title='tr_out_W', color='blue', axis=ax1)\n",
    "plot_gradients(tr_out_dW, neuron_nb='all', title='tr_out_dW', color='blue', axis=ax2)\n",
    "fig.tight_layout()"
   ]
  },
  {
   "cell_type": "markdown",
   "metadata": {},
   "source": [
    "# Activations"
   ]
  },
  {
   "cell_type": "code",
   "execution_count": null,
   "metadata": {},
   "outputs": [],
   "source": [
    "def plot_3d_histogram(data, es, neuron_nb, funct=None, \n",
    "                      skip_first=False, lines_01=True, title=None, color=(1,0,0,1), ax=None, figsize=None):\n",
    "    assert data.ndim == 3\n",
    "    \n",
    "    if funct is None:\n",
    "        funct = lambda x: x\n",
    "        \n",
    "    if isinstance(funct, str):\n",
    "        if funct == 'sigmoid': funct = lambda x: 1 / (1 + np.exp(-x))\n",
    "        elif funct == 'tanh': funct = lambda x: np.tanh(x)\n",
    "        elif funct == 'softsign': funct = lambda x: x / (1+np.abs(x))\n",
    "        elif funct == 'relu': funct = lambda x: np.maximum(0, x)\n",
    "        elif funct == 'lrelu': funct = lambda x: np.where(x > 0, x, x * 0.01)\n",
    "        else: raise ValueError('Unknown function string')\n",
    "    \n",
    "    ni, na, nn = data.shape  # iter, activations (batch size), neurons\n",
    "    \n",
    "    if neuron_nb == 'all':\n",
    "        #data_ia = data.reshape([ni, -1])\n",
    "        data_ia = data.reshape([-1, es*nn])\n",
    "    elif np.issubdtype(type(neuron_nb), np.integer):\n",
    "        #data_ia = data[:,:,neuron_nb]\n",
    "        data_ia = data[:,:,neuron_nb].reshape(-1, es)\n",
    "    else:\n",
    "        raise ValueError('neuron_nb must be int or \"all\"')\n",
    "        \n",
    "    \n",
    "    \n",
    "    def interpolate_colors(cstart, cend, n):\n",
    "        cstart, cend = np.array(cstart), np.array(cend)\n",
    "        assert cstart.shape == (4,)\n",
    "        assert cend.shape == (4,)\n",
    "        if n == 1:  return cend    # if one step, then return end color\n",
    "\n",
    "        cols = []\n",
    "        for i in range(n):\n",
    "            step = i/(n-1)\n",
    "            cols.append( (1-step)*cstart + step*cend)\n",
    "        return np.array(cols)\n",
    "    \n",
    "    color = np.array(color)\n",
    "    color_start = np.array(color/4, dtype=float)  # transparent black\n",
    "    color_end = np.array(color)\n",
    "    colors = interpolate_colors(color_start, color_end, len(data_ia))\n",
    "    \n",
    "\n",
    "    if ax is None:\n",
    "        fig = plt.figure(figsize=figsize)\n",
    "        ax = fig.add_subplot(111, projection='3d')\n",
    "    \n",
    "    \n",
    "    ax.view_init(30, -85)\n",
    "    \n",
    "    for epoch in range(len(data_ia)):                                     # One line per epoch\n",
    "        hist, bins = np.histogram(funct(data_ia[epoch,:]), bins=100)      # apply funct and create histogram\n",
    "        bins = (bins[:-1] + bins[1:])/2                                   # center bins\n",
    "        hist = hist / np.sum(hist)\n",
    "        \n",
    "        hist_0 = hist[0]\n",
    "        if skip_first:\n",
    "            bins = bins[1:]\n",
    "            hist = hist[1:]\n",
    "        \n",
    "        ax.plot(xs=bins, ys=hist,\n",
    "                zs=-epoch,\n",
    "                zdir='y', \n",
    "                color=colors[epoch])\n",
    "        nb_epochs = len(data_ia)\n",
    "        if epoch == 0 and lines_01:\n",
    "            ax.plot(xs=[0,0], ys=[0,0], zs=[-nb_epochs,0], zdir='y', color='k')\n",
    "            ax.plot(xs=[1,1], ys=[0,0], zs=[-nb_epochs,0], zdir='y', color='k', ls='--')\n",
    "        if epoch == len(data_ia)-1:\n",
    "            ax.plot(xs=[bins[0],bins[-1]], ys=[0,0], zs=-nb_epochs, zdir='y', color='k')\n",
    "    \n",
    "    if skip_first:\n",
    "        ax.set_xlabel('value ('+str(round((1-hist_0)*100, 2)) + '%)'); ax.set_ylabel('epoch'); ax.set_zlabel('n')\n",
    "    else:\n",
    "        ax.set_xlabel('value'); ax.set_ylabel('epoch'); ax.set_zlabel('n')\n",
    "        \n",
    "    if title is not None:\n",
    "        ax.set_title(title)"
   ]
  },
  {
   "cell_type": "code",
   "execution_count": null,
   "metadata": {},
   "outputs": [],
   "source": [
    "es = 100000  # epoch_size\n",
    "act_fun = 'relu'"
   ]
  },
  {
   "cell_type": "code",
   "execution_count": null,
   "metadata": {},
   "outputs": [],
   "source": [
    "fig, [ax1, ax2] = plt.subplots(nrows=1, ncols=2, subplot_kw=dict(projection='3d'), figsize=[16,5])\n",
    "plot_3d_histogram(tr_hid_1_z, es=es, neuron_nb='all', title='Hidden 1 raw', funct=None, color=(0,0,0,1), ax=ax1)\n",
    "plot_3d_histogram(tr_hid_1_z, es=es, neuron_nb='all', title='Hidden 1', skip_first=True, funct=act_fun, color=(1,0,0,1), ax=ax2)\n",
    "fig.tight_layout()"
   ]
  },
  {
   "cell_type": "code",
   "execution_count": null,
   "metadata": {},
   "outputs": [],
   "source": [
    "fig, [ax1, ax2] = plt.subplots(nrows=1, ncols=2, subplot_kw=dict(projection='3d'), figsize=[16,5])\n",
    "plot_3d_histogram(tr_hid_2_z, es=es, neuron_nb='all', title='Hidden 2 raw', funct=None, color=(0,0,0,1), ax=ax1)\n",
    "plot_3d_histogram(tr_hid_2_z, es=es, neuron_nb='all', title='Hidden 2', skip_first=True, funct=act_fun, color=(0,1,0,1), ax=ax2)\n",
    "fig.tight_layout()"
   ]
  },
  {
   "cell_type": "code",
   "execution_count": null,
   "metadata": {},
   "outputs": [],
   "source": [
    "fig, [ax1, ax2] = plt.subplots(nrows=1, ncols=2, subplot_kw=dict(projection='3d'), figsize=[16,5])\n",
    "plot_3d_histogram(tr_out_z, es=es, neuron_nb='all', title='Output raw', funct=None, color=(0,0,0,1), ax=ax1)\n",
    "plot_3d_histogram(tr_out_z, es=es, neuron_nb='all', title='Output', funct=None, color=(0,0,1,1), ax=ax2)\n",
    "fig.tight_layout()"
   ]
  },
  {
   "cell_type": "code",
   "execution_count": null,
   "metadata": {},
   "outputs": [],
   "source": [
    "#\n",
    "#   Hidden 1 NEURONS ACTIVATIONS\n",
    "#\n",
    "plot_n = 10  # tr_z_hid.shape[-1]\n",
    "fig, axes = plt.subplots(nrows=plot_n//2, ncols=4, subplot_kw=dict(projection='3d'), figsize=[16,2*plot_n/2])\n",
    "\n",
    "for n in range(plot_n):\n",
    "    plot_3d_histogram(tr_hid_1_z, es=es, neuron_nb=n, title='Neuron #'+str(n), funct=None, color=(0,0,0,1), ax=axes[n//2][2*(n%2)])\n",
    "    plot_3d_histogram(tr_hid_1_z, es=es, neuron_nb=n, title='Neuron #'+str(n), funct=act_fun, skip_first=True, color=(1,0,0,1), ax=axes[n//2][2*(n%2)+1])\n",
    "\n",
    "fig.tight_layout()"
   ]
  },
  {
   "cell_type": "code",
   "execution_count": null,
   "metadata": {},
   "outputs": [],
   "source": [
    "#\n",
    "#   Hidden 2 NEURONS ACTIVATIONS\n",
    "#\n",
    "plot_n = 10  # tr_z_hid.shape[-1]\n",
    "fig, axes = plt.subplots(nrows=plot_n//2, ncols=4, subplot_kw=dict(projection='3d'), figsize=[16,2*plot_n/2])\n",
    "\n",
    "for n in range(plot_n):\n",
    "    plot_3d_histogram(tr_hid_2_z, es=es, neuron_nb=n, title='Neuron #'+str(n), funct=None, color=(0,0,0,1), ax=axes[n//2][2*(n%2)])\n",
    "    plot_3d_histogram(tr_hid_2_z, es=es, neuron_nb=n, title='Neuron #'+str(n), funct=act_fun, skip_first=True, color=(0,1,0,1), ax=axes[n//2][2*(n%2)+1])\n",
    "\n",
    "fig.tight_layout()"
   ]
  },
  {
   "cell_type": "code",
   "execution_count": null,
   "metadata": {},
   "outputs": [],
   "source": [
    "#\n",
    "#   Output NEURONS ACTIVATIONS\n",
    "#\n",
    "plot_n = 4  # tr_z_out.shape[-1]\n",
    "fig, axes = plt.subplots(nrows=plot_n//2, ncols=4, subplot_kw=dict(projection='3d'), figsize=[16,2*plot_n/2])\n",
    "\n",
    "for n in range(plot_n):\n",
    "    \n",
    "    if n >= 3:\n",
    "        break\n",
    "    \n",
    "    plot_3d_histogram(tr_out_z, es=es, neuron_nb=n, title='Neuron #'+str(n), funct=None, color=(0,0,0,1), ax=axes[n//2][2*(n%2)])\n",
    "    plot_3d_histogram(tr_out_z, es=es, neuron_nb=n, title='Neuron #'+str(n), funct=None, color=(0,0,1,1), ax=axes[n//2][2*(n%2)+1])\n",
    "    \n",
    "fig.tight_layout()"
   ]
  },
  {
   "cell_type": "code",
   "execution_count": null,
   "metadata": {},
   "outputs": [],
   "source": []
  }
 ],
 "metadata": {
  "kernelspec": {
   "display_name": "Python 3",
   "language": "python",
   "name": "python3"
  },
  "language_info": {
   "codemirror_mode": {
    "name": "ipython",
    "version": 3
   },
   "file_extension": ".py",
   "mimetype": "text/x-python",
   "name": "python",
   "nbconvert_exporter": "python",
   "pygments_lexer": "ipython3",
   "version": "3.6.6"
  }
 },
 "nbformat": 4,
 "nbformat_minor": 2
}
